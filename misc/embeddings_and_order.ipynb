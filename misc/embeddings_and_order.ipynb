{
 "cells": [
  {
   "cell_type": "code",
   "execution_count": null,
   "metadata": {},
   "outputs": [],
   "source": []
  },
  {
   "cell_type": "code",
   "execution_count": null,
   "metadata": {},
   "outputs": [],
   "source": []
  },
  {
   "cell_type": "markdown",
   "metadata": {},
   "source": [
    "## Compare embeddings of title aggregates and mean embeddings of titles"
   ]
  },
  {
   "cell_type": "code",
   "execution_count": 32,
   "metadata": {},
   "outputs": [],
   "source": [
    "from imbed_data_prep.hcp import Hcp3Dacc\n",
    "\n",
    "dacc = Hcp3Dacc()"
   ]
  },
  {
   "cell_type": "markdown",
   "metadata": {},
   "source": [
    "## Get the three kinds of embeddings data"
   ]
  },
  {
   "cell_type": "code",
   "execution_count": 33,
   "metadata": {},
   "outputs": [
    {
     "name": "stdout",
     "output_type": "stream",
     "text": [
      "(352508,)\n"
     ]
    },
    {
     "data": {
      "text/plain": [
       "id\n",
       "245658    [0.013564770109951496, 0.010467253625392914, -...\n",
       "Name: embedding, dtype: object"
      ]
     },
     "execution_count": 33,
     "metadata": {},
     "output_type": "execute_result"
    }
   ],
   "source": [
    "title_embeddings = dacc.embeddings_hcp2  # took 9s\n",
    "\n",
    "print(f\"{title_embeddings.shape}\")\n",
    "title_embeddings.head(1)"
   ]
  },
  {
   "cell_type": "code",
   "execution_count": 34,
   "metadata": {},
   "outputs": [
    {
     "name": "stdout",
     "output_type": "stream",
     "text": [
      "(340855,)\n"
     ]
    },
    {
     "data": {
      "text/plain": [
       "id\n",
       "245658    [-0.015486514195799828, 0.01210845448076725, 0...\n",
       "Name: vector, dtype: object"
      ]
     },
     "execution_count": 34,
     "metadata": {},
     "output_type": "execute_result"
    }
   ],
   "source": [
    "def _aggregate_titles_embeddings(dacc):\n",
    "    aggregate_titles_embeddings = dacc.aggregate_titles_embeddings  # took 7s\n",
    "    aggregate_titles_embeddings = aggregate_titles_embeddings.set_index('id', drop=True)\n",
    "    aggregate_titles_embeddings = aggregate_titles_embeddings['vector']\n",
    "    return aggregate_titles_embeddings\n",
    "\n",
    "aggregate_titles_embeddings = _aggregate_titles_embeddings(dacc)\n",
    "print(f\"{aggregate_titles_embeddings.shape}\")\n",
    "aggregate_titles_embeddings.head(1)\n"
   ]
  },
  {
   "cell_type": "code",
   "execution_count": null,
   "metadata": {},
   "outputs": [],
   "source": []
  },
  {
   "cell_type": "code",
   "execution_count": null,
   "metadata": {},
   "outputs": [
    {
     "name": "stdout",
     "output_type": "stream",
     "text": [
      "len(dacc.citations_of)=308135\n",
      "After keeping only items for which we have titles for both citing and cited, \n",
      "we're left with 229879\n"
     ]
    }
   ],
   "source": [
    "from imbed_data_prep.embeddings_of_aggregations import fuzzy_induced_graph\n",
    "\n",
    "# filtered_citations_graph = fuzzy_induced_graph(dacc)\n",
    "\n",
    "citation_graph = dict(\n",
    "    fuzzy_induced_graph(\n",
    "        dacc.citations_of, set(dacc.aggregate_titles_embeddings['id']), min_proportion=1\n",
    "    )\n",
    ")\n",
    "print(f\"{len(dacc.citations_of)=}\")\n",
    "print(f\"After keeping only items for which we have titles for both citing and cited, \")\n",
    "print(f\"we're left with {len(citation_graph)}\")"
   ]
  },
  {
   "cell_type": "code",
   "execution_count": 51,
   "metadata": {},
   "outputs": [
    {
     "data": {
      "text/plain": [
       "(245658, [2138790588, 2013150886])"
      ]
     },
     "execution_count": 51,
     "metadata": {},
     "output_type": "execute_result"
    }
   ],
   "source": [
    "citing_id, cited_ids = next(iter(citation_graph.items()))\n",
    "\n",
    "citing_id, cited_ids"
   ]
  },
  {
   "cell_type": "markdown",
   "metadata": {},
   "source": [
    "## compare similarities between the three methods"
   ]
  },
  {
   "cell_type": "code",
   "execution_count": null,
   "metadata": {},
   "outputs": [],
   "source": [
    "from imbed import cosine_similarity\n",
    "# from imbed.util import norm\n",
    "import numpy as np\n",
    "# normalized means (where we first normalize each vector before taking the mean)\n",
    "# Normalization is done by dividing each vector by its norm\n",
    "# This is in order to (perhaps) better reflect the cosine similarity between the vectors\n",
    "# Note: What about `vectors.mean(axis=0) / np.linalg.norm(vectors.mean(axis=0))`?\n",
    "def normalized_vector_mean(vectors: np.ndarray):\n",
    "    \"\"\"\n",
    "    Normalize the vactors (so their norm is 1) and then take the mean.\n",
    "    This is in order to (perhaps) better reflect the cosine similarity between the vectors\n",
    "    Note: What about `vectors.mean(axis=0) / np.linalg.norm(vectors.mean(axis=0))`?\n",
    "    \"\"\"\n",
    "    if isinstance(vectors, pd.Series):\n",
    "        vectors = np.array(vectors.to_list())\n",
    "    return (vectors / np.linalg.norm(vectors, axis=1)[:, None]).mean(axis=0)\n",
    "\n",
    "\n",
    "def embeddings_stats(citation_graph):\n",
    "    for i, (citing_id, cited_ids) in enumerate(citation_graph.items()):\n",
    "        if (\n",
    "            citing_id in aggregate_titles_embeddings\n",
    "        ):  # only process if we have aggregated titles embeddings\n",
    "            # filter out cited_ids that are not in title_embeddings\n",
    "            cited_ids_we_have = sorted(filter(lambda x: x in title_embeddings.index, cited_ids))\n",
    "            # getting the three types of embeddings\n",
    "            citing_embedding = title_embeddings.loc[citing_id]\n",
    "            _cited_ids_embeddings = title_embeddings.loc[cited_ids_we_have]\n",
    "            mean_cited_embedding = _cited_ids_embeddings.mean()\n",
    "            means_of_normalized = normalized_vector_mean(_cited_ids_embeddings)\n",
    "            aggregated_citing_and_cited_embedding = aggregate_titles_embeddings[\n",
    "                citing_id\n",
    "            ]\n",
    "            # yield the stats\n",
    "            yield dict(\n",
    "                citing_id=citing_id,\n",
    "                cited_ids_we_have=cited_ids_we_have,\n",
    "                n_cited_w_titles=len(cited_ids),\n",
    "                citing_vs_mean_cited_simularity=cosine_similarity(\n",
    "                    citing_embedding, mean_cited_embedding\n",
    "                ),\n",
    "                means_of_normalized=cosine_similarity(\n",
    "                    citing_embedding, means_of_normalized\n",
    "                ),\n",
    "                citing_vs_aggregated_simularity=cosine_similarity(\n",
    "                    citing_embedding, aggregated_citing_and_cited_embedding\n",
    "                ),\n",
    "                mean_vs_aggregated_simularity=cosine_similarity(\n",
    "                    mean_cited_embedding, aggregated_citing_and_cited_embedding\n",
    "                ),\n",
    "            )\n",
    "\n",
    "\n",
    "from itertools import islice\n",
    "import pandas as pd\n",
    "\n",
    "# stats = pd.DataFrame(islice(embeddings_stats(), 10_0)).set_index('citing_id', drop=False)\n",
    "stats = pd.DataFrame(embeddings_stats(citation_graph)).set_index('citing_id', drop=False)  # took ~1m"
   ]
  },
  {
   "cell_type": "code",
   "execution_count": 70,
   "metadata": {},
   "outputs": [
    {
     "name": "stdout",
     "output_type": "stream",
     "text": [
      "stats.shape=(229879, 7)\n"
     ]
    },
    {
     "data": {
      "text/html": [
       "<div>\n",
       "<style scoped>\n",
       "    .dataframe tbody tr th:only-of-type {\n",
       "        vertical-align: middle;\n",
       "    }\n",
       "\n",
       "    .dataframe tbody tr th {\n",
       "        vertical-align: top;\n",
       "    }\n",
       "\n",
       "    .dataframe thead th {\n",
       "        text-align: right;\n",
       "    }\n",
       "</style>\n",
       "<table border=\"1\" class=\"dataframe\">\n",
       "  <thead>\n",
       "    <tr style=\"text-align: right;\">\n",
       "      <th></th>\n",
       "      <th>citing_id</th>\n",
       "      <th>cited_ids_we_have</th>\n",
       "      <th>n_cited_w_titles</th>\n",
       "      <th>citing_vs_mean_cited_simularity</th>\n",
       "      <th>means_of_normalized</th>\n",
       "      <th>citing_vs_aggregated_simularity</th>\n",
       "      <th>mean_vs_aggregated_simularity</th>\n",
       "    </tr>\n",
       "    <tr>\n",
       "      <th>citing_id</th>\n",
       "      <th></th>\n",
       "      <th></th>\n",
       "      <th></th>\n",
       "      <th></th>\n",
       "      <th></th>\n",
       "      <th></th>\n",
       "      <th></th>\n",
       "    </tr>\n",
       "  </thead>\n",
       "  <tbody>\n",
       "    <tr>\n",
       "      <th>245658</th>\n",
       "      <td>245658</td>\n",
       "      <td>[2013150886, 2138790588]</td>\n",
       "      <td>2</td>\n",
       "      <td>0.423786</td>\n",
       "      <td>0.423786</td>\n",
       "      <td>0.810706</td>\n",
       "      <td>0.505194</td>\n",
       "    </tr>\n",
       "    <tr>\n",
       "      <th>718838</th>\n",
       "      <td>718838</td>\n",
       "      <td>[1604916109, 1965439999, 1969852349, 197786947...</td>\n",
       "      <td>29</td>\n",
       "      <td>0.652895</td>\n",
       "      <td>0.652895</td>\n",
       "      <td>0.594726</td>\n",
       "      <td>0.760848</td>\n",
       "    </tr>\n",
       "    <tr>\n",
       "      <th>898828</th>\n",
       "      <td>898828</td>\n",
       "      <td>[2025976960, 2172013173]</td>\n",
       "      <td>2</td>\n",
       "      <td>0.555090</td>\n",
       "      <td>0.555090</td>\n",
       "      <td>0.616572</td>\n",
       "      <td>0.688894</td>\n",
       "    </tr>\n",
       "  </tbody>\n",
       "</table>\n",
       "</div>"
      ],
      "text/plain": [
       "           citing_id                                  cited_ids_we_have  \\\n",
       "citing_id                                                                 \n",
       "245658        245658                           [2013150886, 2138790588]   \n",
       "718838        718838  [1604916109, 1965439999, 1969852349, 197786947...   \n",
       "898828        898828                           [2025976960, 2172013173]   \n",
       "\n",
       "           n_cited_w_titles  citing_vs_mean_cited_simularity  \\\n",
       "citing_id                                                      \n",
       "245658                    2                         0.423786   \n",
       "718838                   29                         0.652895   \n",
       "898828                    2                         0.555090   \n",
       "\n",
       "           means_of_normalized  citing_vs_aggregated_simularity  \\\n",
       "citing_id                                                         \n",
       "245658                0.423786                         0.810706   \n",
       "718838                0.652895                         0.594726   \n",
       "898828                0.555090                         0.616572   \n",
       "\n",
       "           mean_vs_aggregated_simularity  \n",
       "citing_id                                 \n",
       "245658                          0.505194  \n",
       "718838                          0.760848  \n",
       "898828                          0.688894  "
      ]
     },
     "execution_count": 70,
     "metadata": {},
     "output_type": "execute_result"
    }
   ],
   "source": [
    "print(f\"{stats.shape=}\")\n",
    "stats.head(3)"
   ]
  },
  {
   "cell_type": "code",
   "execution_count": 71,
   "metadata": {},
   "outputs": [
    {
     "name": "stdout",
     "output_type": "stream",
     "text": [
      "Proportion of times the aggregation method is closer than the mean method: 66%\n"
     ]
    }
   ],
   "source": [
    "def proportion_of_times_agg_is_closer(stats):\n",
    "    n_times_agg_is_closer = sum(\n",
    "        stats['citing_vs_aggregated_simularity'] > stats['citing_vs_mean_cited_simularity']\n",
    "    )\n",
    "    return n_times_agg_is_closer / len(stats)\n",
    "\n",
    "print(\n",
    "    f\"Proportion of times the aggregation method is closer than the mean method: \" \n",
    "    f\"{proportion_of_times_agg_is_closer(stats) * 100:.0f}%\"\n",
    ")\n"
   ]
  },
  {
   "cell_type": "code",
   "execution_count": 118,
   "metadata": {},
   "outputs": [
    {
     "data": {
      "image/png": "[encoded data removed]",
      "text/plain": [
       "<Figure size 640x480 with 1 Axes>"
      ]
     },
     "metadata": {},
     "output_type": "display_data"
    }
   ],
   "source": [
    "from oplot import density_distribution\n",
    "\n",
    "# Apply the function to the current case\n",
    "data_dict = {\n",
    "    'means': stats['citing_vs_mean_cited_simularity'],\n",
    "    # 'normalized_means': stats['means_of_normalized'],\n",
    "    'aggregations': stats['citing_vs_aggregated_simularity'],\n",
    "    'mean_vs_aggregation': stats['mean_vs_aggregated_simularity'],\n",
    "}\n",
    "density_distribution(data_dict)"
   ]
  },
  {
   "cell_type": "code",
   "execution_count": null,
   "metadata": {},
   "outputs": [],
   "source": []
  },
  {
   "cell_type": "code",
   "execution_count": 56,
   "metadata": {},
   "outputs": [
    {
     "name": "stdout",
     "output_type": "stream",
     "text": [
      "The aggregated approach gains and average of 8.24% \n",
      "over the mean approach when comparing simularity to title embedding\n"
     ]
    }
   ],
   "source": [
    "# Question: What is the average gain of the aggregated approach over the mean approach \n",
    "# when comparing simularity to title embedding?\n",
    "aggregation_method_gain = (\n",
    "    stats['citing_vs_aggregated_simularity'].mean() \n",
    "    / stats['citing_vs_mean_cited_simularity'].mean()\n",
    ") * 100 - 100\n",
    "print(f\"The aggregated approach gains and average of {aggregation_method_gain:.2f}% \\n\"\n",
    "      \"over the mean approach when comparing simularity to title embedding\")\n"
   ]
  },
  {
   "cell_type": "markdown",
   "metadata": {},
   "source": [
    "## How much is the aggregated method sensitive to order?\n",
    "\n",
    "Unlike some text vectorization techniques (e.g. TFIDF), in the transformer-based embeddings \n",
    "we used here, word order matters.\n",
    "The order we aggregated the citations was arbitrary (just took the order in which they were listed), \n",
    "and it is not obvious what the best order would be. \n",
    "This will of course depend on the context. \n",
    "But one thing we can look into is how much the order actually effects the embeddings."
   ]
  },
  {
   "cell_type": "code",
   "execution_count": 36,
   "metadata": {},
   "outputs": [
    {
     "name": "stdout",
     "output_type": "stream",
     "text": [
      "len(titles)=352508\n",
      "After keeping only items for which we have titles for both citing and cited, \n",
      "we're left with 230018\n"
     ]
    }
   ],
   "source": [
    "from imbed_data_prep.hcp import Hcp3Dacc\n",
    "import math\n",
    "\n",
    "dacc = Hcp3Dacc()\n",
    "\n",
    "assert math.factorial(4) == 24\n",
    "assert math.factorial(5) == 120\n",
    "# ... so we'll choose 5 as the minimum citations for an article to be considered, \n",
    "# so that we can have at least unique 30 permutations for each\n",
    "min_citations = 5\n",
    "n_permutations = 30\n",
    "\n",
    "# First, filter dacc.info_hcp2 to keep only rows with 'id' in embeddings_hcp2.index\n",
    "filtered_info = dacc.info_hcp2[dacc.info_hcp2['id'].isin(dacc.embeddings_hcp2.index)]\n",
    "\n",
    "# Now, create the dictionary directly from the filtered DataFrame\n",
    "titles = filtered_info.set_index('id')['title'].to_dict()\n",
    "\n",
    "# Make a citation graph, keeping only those for which we have titles for both citing and cited\n",
    "citation_graph = dacc.citation_graph(min_proportion=1, ids_with_embeddings=set(titles), min_citations=min_citations)\n",
    "\n",
    "print(f\"{len(titles)=}\")\n",
    "print(f\"After keeping only items for which we have titles for both citing and cited, \")\n",
    "print(f\"we're left with {len(citation_graph)}\")"
   ]
  },
  {
   "cell_type": "code",
   "execution_count": 37,
   "metadata": {},
   "outputs": [
    {
     "data": {
      "text/plain": [
       "{718838: [1994893189, 2158553737, 1604916109],\n",
       " 831416: [2114205159, 2161774890, 1965693998],\n",
       " 1769291: [2161984704, 2130907431, 2170131723]}"
      ]
     },
     "execution_count": 37,
     "metadata": {},
     "output_type": "execute_result"
    }
   ],
   "source": [
    "from itertools import islice\n",
    "from lkj import truncate_dict_values\n",
    "\n",
    "dict_slice = lambda d, *args: dict(islice(d.items(), *args))\n",
    "\n",
    "t = dict_slice(citation_graph, 0, 3)\n",
    "truncate_dict_values(t, max_list_size=3)"
   ]
  },
  {
   "cell_type": "code",
   "execution_count": 53,
   "metadata": {},
   "outputs": [
    {
     "data": {
      "text/plain": [
       "30000"
      ]
     },
     "execution_count": 53,
     "metadata": {},
     "output_type": "execute_result"
    }
   ],
   "source": [
    "from imbed_data_prep.embeddings_of_aggregations import aggregated_embeddings_for_sample\n",
    "from imbed import simple_embedding_vectorizer\n",
    "from functools import partial\n",
    "import oa\n",
    "\n",
    "aggregated_embeddings = partial(\n",
    "    aggregated_embeddings_for_sample,\n",
    "    n_nodes = 1000,\n",
    "    n_permutations = n_permutations,\n",
    "    node_to_text = titles.get,\n",
    "    aggregate_texts = \"\\n\\n\".join,\n",
    "    text_to_embedding = None,\n",
    "    max_permutations = n_permutations,\n",
    "    seed = 0\n",
    ")\n",
    "\n",
    "text_to_embed = {\n",
    "    (x['citing_id'], x['permutation_index'], x['n_cited']): x['aggregated_title'] for x in aggregated_embeddings(citation_graph)\n",
    "}\n",
    "len(text_to_embed)\n"
   ]
  },
  {
   "cell_type": "code",
   "execution_count": 60,
   "metadata": {},
   "outputs": [],
   "source": [
    "# from hubcap import repo_text_aggregate\n",
    "\n",
    "# oa_repo_text = repo_text_aggregate('thorwhalen/oa')\n",
    "# imbed_repo_text = repo_text_aggregate('thorwhalen/imbed')\n"
   ]
  },
  {
   "cell_type": "code",
   "execution_count": null,
   "metadata": {},
   "outputs": [
    {
     "data": {
      "text/plain": [
       "112697"
      ]
     },
     "execution_count": 59,
     "metadata": {},
     "output_type": "execute_result"
    }
   ],
   "source": [
    "# from pathlib import Path\n",
    "\n",
    "# Path('/Users/thorwhalen/Dropbox/_odata/ai_contexts/i2i/imbed.md').write_text(imbed_repo_text)"
   ]
  },
  {
   "cell_type": "code",
   "execution_count": null,
   "metadata": {},
   "outputs": [
    {
     "data": {
      "text/plain": [
       "354165"
      ]
     },
     "execution_count": 12,
     "metadata": {},
     "output_type": "execute_result"
    }
   ],
   "source": [
    "import oa"
   ]
  },
  {
   "cell_type": "code",
   "execution_count": null,
   "metadata": {},
   "outputs": [],
   "source": [
    "\n",
    "# Then, compute spread statistics and compute the cosine similarity of the citing title with the aggregated title.\n",
    "# (normalized) \n",
    "# mean of the cosine similarities of the citing title (embedding) \n",
    "# with the embedding of the cited titles (embeddings) for each permutation."
   ]
  },
  {
   "cell_type": "markdown",
   "metadata": {},
   "source": [
    "## How much is the aggregated method sensitive to how we aggregate?\n",
    "\n",
    "Here we aggregated by contatenating citing title and cited titles, \n",
    "using some joining strings (parametrizable).\n",
    "- How much would using different joining strings affect our embeddings?\n",
    "- Would a different kind of aggregation improve the embeddings (e.g. aggregating as prompt mentioning the nature of the titles (citing and cited))?"
   ]
  },
  {
   "cell_type": "code",
   "execution_count": null,
   "metadata": {},
   "outputs": [],
   "source": []
  },
  {
   "cell_type": "markdown",
   "metadata": {},
   "source": [
    "## Measuring the actual objective\n",
    "\n",
    "Here we just compared different methods of getting an embedding for an article based on \n",
    "it's title as well as the titles of its citations. \n",
    "But we are limited and answering the question \"which is better?\" Without a clear measured objective.\n",
    "We'll look into that more here. \n",
    "\n",
    "Let's say we want the vector to best capture the ideas within the text. \n",
    "Fair enough; but how do we measure how well it does?\n",
    "We compared the vectors of the citations' titles mean and the aggregation methods to \n",
    "the vector for the title itself. \n",
    "\n",
    "On the other hand, we didn't really address the question of how well the title's embedding \n",
    "itself represents the contents of the article. \n",
    "This probably varies widely, depending on how many different topics the content contains, \n",
    "how well the title was crafted, when the embedding model was made, etc.\n",
    "\n",
    "For example, how well does the title \n",
    "\"Attention is all you need.\" represent the siminal paper on transformers? \n",
    "Initially, the embedded representation of ‘Attention is All You Need’ captures only the general \n",
    "meanings of focus and necessity. \n",
    "But, as the article garners more attention (pun engineered), \n",
    "as the article’s influence grows and the phrase becomes tied to the transformative power of the model it introduced, future embeddings may begin to reflect its deeper technical and cultural significance.\n",
    "\n",
    "Regardless, in this section we will explore a few use cases, their objectives, and how one can \n",
    "measure their objectives so as to answer the question \"which (title-based) embedding is better\"?\n",
    "\n",
    "We will take search as our overarching use case. \n",
    "That is, an actor (user or system) wishes to find abstracts, articles, or parts of articles, that are \n",
    "relevant to a query. \n",
    "In the case of abstracts, we can take the embedding of the abstract as the thing that we're \n",
    "trying to approximate through our title based embeddings. \n",
    "This does represent the real process of a user searching for articles. \n",
    "When faced with the results of their search, they will usually consider the title \n",
    "(so in that case, title does represent the searched \"truth\"), and if satisfactory, \n",
    "will consider the abstract. Whether or not the abstract represents the contents of the article\n",
    "is another question, which we have no control over in this context \n",
    "(though are analysis here can lead to tools to give abstract-writers some indication of \n",
    "how well their abstract represents their article's content).\n",
    "\n",
    "When we move further to considering the actual content of the article, we are forced to \n",
    "consider the problems of segmentation and multi-modality. \n",
    "The entirety of an articles' content will not usually not fit in an embeddings' maximum input size. \n",
    "Several techniques can be used here. \n",
    "One of them we'd like to mention, because it avoids segmentation, is to use an LLM \n",
    "large enough to fit the whole article, asking it to write a\n",
    "small-enough-to-fit-into-the-embeddings-input-size abstract. \n",
    "\n",
    "Another common method is to segment the content. \n",
    "So now that we have not one, but several bits of text to be embedded, we One of the problems with search is that the items that are searched may not be represented as \n",
    "a singular thing but a set of multiple things -- for example, single versus multiple topics. \n",
    "So now, we are faced with the problem of measuring the similarity between one vector and a set of other vectors.\n",
    "\n"
   ]
  },
  {
   "cell_type": "code",
   "execution_count": null,
   "metadata": {},
   "outputs": [
    {
     "data": {
      "text/plain": [
       "3"
      ]
     },
     "execution_count": 15,
     "metadata": {},
     "output_type": "execute_result"
    }
   ],
   "source": []
  },
  {
   "cell_type": "code",
   "execution_count": null,
   "metadata": {},
   "outputs": [],
   "source": []
  },
  {
   "cell_type": "markdown",
   "metadata": {},
   "source": [
    "## Misc mean vs aggregation stuff"
   ]
  },
  {
   "cell_type": "code",
   "execution_count": 113,
   "metadata": {},
   "outputs": [],
   "source": [
    "from imbed_data_prep.embeddings_of_aggregations import test_all_permutation_tools\n",
    "\n",
    "test_all_permutation_tools()"
   ]
  },
  {
   "cell_type": "code",
   "execution_count": 114,
   "metadata": {},
   "outputs": [],
   "source": [
    "from imbed_data_prep.hcp import Hcp3Dacc\n",
    "\n",
    "dacc = Hcp3Dacc()"
   ]
  },
  {
   "cell_type": "code",
   "execution_count": null,
   "metadata": {},
   "outputs": [],
   "source": [
    "df = dacc.titles_aggregate_sr()  # took 55s"
   ]
  },
  {
   "cell_type": "code",
   "execution_count": null,
   "metadata": {},
   "outputs": [],
   "source": []
  },
  {
   "cell_type": "code",
   "execution_count": null,
   "metadata": {},
   "outputs": [],
   "source": []
  },
  {
   "cell_type": "code",
   "execution_count": null,
   "metadata": {},
   "outputs": [],
   "source": []
  },
  {
   "cell_type": "code",
   "execution_count": null,
   "metadata": {},
   "outputs": [],
   "source": []
  }
 ],
 "metadata": {
  "kernelspec": {
   "display_name": "p10",
   "language": "python",
   "name": "python3"
  },
  "language_info": {
   "codemirror_mode": {
    "name": "ipython",
    "version": 3
   },
   "file_extension": ".py",
   "mimetype": "text/x-python",
   "name": "python",
   "nbconvert_exporter": "python",
   "pygments_lexer": "ipython3",
   "version": "3.10.13"
  }
 },
 "nbformat": 4,
 "nbformat_minor": 2
}
