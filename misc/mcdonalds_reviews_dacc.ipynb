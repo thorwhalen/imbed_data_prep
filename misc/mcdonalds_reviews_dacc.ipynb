{
 "cells": [
  {
   "cell_type": "markdown",
   "metadata": {},
   "source": [
    "# McDonald's Reviews Mood Modeling\n",
    "\n",
    "This notebook demonstrates the complete workflow for mood modeling on McDonald's reviews using the `McdonaldsReviewsMoodModeling` class.\n",
    "\n",
    "The class provides a clean, cached interface for:\n",
    "- Loading semantic attributes\n",
    "- Computing embeddings for training data\n",
    "- Training multiple model types\n",
    "- Analyzing model performance\n",
    "- Managing all intermediate results"
   ]
  },
  {
   "cell_type": "markdown",
   "metadata": {},
   "source": [
    "## Setup"
   ]
  },
  {
   "cell_type": "code",
   "execution_count": 7,
   "metadata": {},
   "outputs": [],
   "source": [
    "# TODO: Implement defaults for paths\n",
    "# Data folder containing the raw data and misc\n",
    "datadir = '/Users/thorwhalen/Dropbox/py/proj/c/cosmodata/misc/mcdonalds_reviews'\n",
    "# Project folder for storing embeddings and results\n",
    "project_folder = '/Users/thorwhalen/Dropbox/_odata/figiri/mcdonalds_reviews/'\n",
    "# Where the training data for semantic attributes is stored\n",
    "semantic_attributes_dataset_dir='/Users/thorwhalen/.config/mood/semantic_attributes/'"
   ]
  },
  {
   "cell_type": "code",
   "execution_count": 1,
   "metadata": {},
   "outputs": [],
   "source": [
    "import os\n",
    "import pandas as pd\n",
    "from config2py import process_path"
   ]
  },
  {
   "cell_type": "code",
   "execution_count": 3,
   "metadata": {},
   "outputs": [
    {
     "name": "stdout",
     "output_type": "stream",
     "text": [
      "Working directory: /Users/thorwhalen/Dropbox/py/proj/c/cosmodata/misc/mcdonalds_reviews\n"
     ]
    }
   ],
   "source": [
    "# Setup data directory\n",
    "\n",
    "datadir = process_path(datadir, ensure_dir_exists=True)\n",
    "djoin = lambda *paths: os.path.join(datadir, *paths)\n",
    "print(f\"Working directory: {datadir}\")"
   ]
  },
  {
   "cell_type": "markdown",
   "metadata": {},
   "source": [
    "## Initialize Data Accessor\n",
    "\n",
    "The `McdonaldsReviewsMoodModeling` class extends the base `McdonaldsReviewsDacc` with mood modeling capabilities.\n",
    "All expensive operations are automatically cached."
   ]
  },
  {
   "cell_type": "code",
   "execution_count": 5,
   "metadata": {},
   "outputs": [],
   "source": [
    "from imbed_data_prep.mcdonalds_reviews import McdonaldsReviewsMoodModeling"
   ]
  },
  {
   "cell_type": "code",
   "execution_count": 8,
   "metadata": {},
   "outputs": [],
   "source": [
    "dacc = McdonaldsReviewsMoodModeling(\n",
    "    datadir=datadir,\n",
    "    semantic_attributes_path='semantic_attributes.json',\n",
    "    semantic_attributes_dataset_dir='/Users/thorwhalen/.config/mood/semantic_attributes/',\n",
    "    embeddings_folder=os.path.join(project_folder, 'embeddings'),\n",
    "    results_folder=os.path.join(project_folder, 'mood_modeling_results'),\n",
    "    cv_splits=30,\n",
    "    verbose=1\n",
    ")"
   ]
  },
  {
   "cell_type": "markdown",
   "metadata": {},
   "source": [
    "## Load Base Review Data\n",
    "\n",
    "First, let's verify we can access the basic McDonald's reviews data."
   ]
  },
  {
   "cell_type": "code",
   "execution_count": 9,
   "metadata": {},
   "outputs": [
    {
     "name": "stdout",
     "output_type": "stream",
     "text": [
      "Loading raw data from /Users/thorwhalen/Dropbox/py/proj/c/cosmodata/misc/mcdonalds_reviews/McDonalds_Reviews_Cleaned.csv\n",
      "Loaded 33396 reviews\n"
     ]
    },
    {
     "data": {
      "text/html": [
       "<div>\n",
       "<style scoped>\n",
       "    .dataframe tbody tr th:only-of-type {\n",
       "        vertical-align: middle;\n",
       "    }\n",
       "\n",
       "    .dataframe tbody tr th {\n",
       "        vertical-align: top;\n",
       "    }\n",
       "\n",
       "    .dataframe thead th {\n",
       "        text-align: right;\n",
       "    }\n",
       "</style>\n",
       "<table border=\"1\" class=\"dataframe\">\n",
       "  <thead>\n",
       "    <tr style=\"text-align: right;\">\n",
       "      <th></th>\n",
       "      <th>reviewer_id</th>\n",
       "      <th>store_address</th>\n",
       "      <th>latitude</th>\n",
       "      <th>longitude</th>\n",
       "      <th>rating_count</th>\n",
       "      <th>review_time</th>\n",
       "      <th>review</th>\n",
       "      <th>rating</th>\n",
       "    </tr>\n",
       "  </thead>\n",
       "  <tbody>\n",
       "    <tr>\n",
       "      <th>0</th>\n",
       "      <td>1</td>\n",
       "      <td>13749 US-183 Hwy, Austin, TX 78750, United States</td>\n",
       "      <td>30.460718</td>\n",
       "      <td>-97.792874</td>\n",
       "      <td>1240</td>\n",
       "      <td>2023-04-01 00:00:00</td>\n",
       "      <td>Why does it look like someone spit on my food?...</td>\n",
       "      <td>1</td>\n",
       "    </tr>\n",
       "    <tr>\n",
       "      <th>1</th>\n",
       "      <td>2</td>\n",
       "      <td>13749 US-183 Hwy, Austin, TX 78750, United States</td>\n",
       "      <td>30.460718</td>\n",
       "      <td>-97.792874</td>\n",
       "      <td>1240</td>\n",
       "      <td>2023-06-25 00:00:00</td>\n",
       "      <td>It'd McDonalds. It is what it is as far as the...</td>\n",
       "      <td>4</td>\n",
       "    </tr>\n",
       "    <tr>\n",
       "      <th>2</th>\n",
       "      <td>3</td>\n",
       "      <td>13749 US-183 Hwy, Austin, TX 78750, United States</td>\n",
       "      <td>30.460718</td>\n",
       "      <td>-97.792874</td>\n",
       "      <td>1240</td>\n",
       "      <td>2023-06-25 00:00:00</td>\n",
       "      <td>Made a mobile order got to the speaker and che...</td>\n",
       "      <td>1</td>\n",
       "    </tr>\n",
       "    <tr>\n",
       "      <th>3</th>\n",
       "      <td>4</td>\n",
       "      <td>13749 US-183 Hwy, Austin, TX 78750, United States</td>\n",
       "      <td>30.460718</td>\n",
       "      <td>-97.792874</td>\n",
       "      <td>1240</td>\n",
       "      <td>2023-05-31 00:00:00</td>\n",
       "      <td>My mc. Crispy chicken sandwich was ___________...</td>\n",
       "      <td>5</td>\n",
       "    </tr>\n",
       "    <tr>\n",
       "      <th>4</th>\n",
       "      <td>5</td>\n",
       "      <td>13749 US-183 Hwy, Austin, TX 78750, United States</td>\n",
       "      <td>30.460718</td>\n",
       "      <td>-97.792874</td>\n",
       "      <td>1240</td>\n",
       "      <td>2023-05-01 00:00:00</td>\n",
       "      <td>I repeat my order 3 times in the drive thru, a...</td>\n",
       "      <td>1</td>\n",
       "    </tr>\n",
       "  </tbody>\n",
       "</table>\n",
       "</div>"
      ],
      "text/plain": [
       "   reviewer_id                                      store_address   latitude  \\\n",
       "0            1  13749 US-183 Hwy, Austin, TX 78750, United States  30.460718   \n",
       "1            2  13749 US-183 Hwy, Austin, TX 78750, United States  30.460718   \n",
       "2            3  13749 US-183 Hwy, Austin, TX 78750, United States  30.460718   \n",
       "3            4  13749 US-183 Hwy, Austin, TX 78750, United States  30.460718   \n",
       "4            5  13749 US-183 Hwy, Austin, TX 78750, United States  30.460718   \n",
       "\n",
       "   longitude  rating_count          review_time  \\\n",
       "0 -97.792874          1240  2023-04-01 00:00:00   \n",
       "1 -97.792874          1240  2023-06-25 00:00:00   \n",
       "2 -97.792874          1240  2023-06-25 00:00:00   \n",
       "3 -97.792874          1240  2023-05-31 00:00:00   \n",
       "4 -97.792874          1240  2023-05-01 00:00:00   \n",
       "\n",
       "                                              review  rating  \n",
       "0  Why does it look like someone spit on my food?...       1  \n",
       "1  It'd McDonalds. It is what it is as far as the...       4  \n",
       "2  Made a mobile order got to the speaker and che...       1  \n",
       "3  My mc. Crispy chicken sandwich was ___________...       5  \n",
       "4  I repeat my order 3 times in the drive thru, a...       1  "
      ]
     },
     "execution_count": 9,
     "metadata": {},
     "output_type": "execute_result"
    }
   ],
   "source": [
    "# Load raw data\n",
    "df = dacc.raw_data\n",
    "print(f\"Loaded {len(df)} reviews\")\n",
    "df.head()"
   ]
  },
  {
   "cell_type": "code",
   "execution_count": 10,
   "metadata": {},
   "outputs": [
    {
     "name": "stdout",
     "output_type": "stream",
     "text": [
      "Columns: ['reviewer_id', 'store_address', 'latitude', 'longitude', 'rating_count', 'review_time', 'review', 'rating']\n",
      "\n",
      "Data shape: (33396, 8)\n",
      "\n",
      "Missing values:\n",
      "reviewer_id        0\n",
      "store_address      0\n",
      "latitude         660\n",
      "longitude        660\n",
      "rating_count       0\n",
      "review_time      125\n",
      "review             0\n",
      "rating             0\n",
      "dtype: int64\n"
     ]
    }
   ],
   "source": [
    "# Check data quality\n",
    "print(f\"Columns: {list(df.columns)}\")\n",
    "print(f\"\\nData shape: {df.shape}\")\n",
    "print(f\"\\nMissing values:\\n{df.isnull().sum()}\")"
   ]
  },
  {
   "cell_type": "markdown",
   "metadata": {},
   "source": [
    "## Semantic Attributes\n",
    "\n",
    "Semantic attributes define the mood categories we're modeling."
   ]
  },
  {
   "cell_type": "code",
   "execution_count": 11,
   "metadata": {},
   "outputs": [
    {
     "name": "stdout",
     "output_type": "stream",
     "text": [
      "Loading semantic attributes from /Users/thorwhalen/Dropbox/py/proj/c/cosmodata/misc/mcdonalds_reviews/semantic_attributes.json\n",
      "Number of semantic attributes: 9\n",
      "\n",
      "Categories: ['food_quality_presentation', 'staff_behavior_attitude', 'order_accuracy_handling', 'speed_service', 'mobile_app_experience', 'cleanliness_hygiene', 'value_money', 'atmosphere_environment', 'trust_safety']\n"
     ]
    }
   ],
   "source": [
    "# Load semantic attributes\n",
    "semantic_attributes = dacc.semantic_attributes\n",
    "print(f\"Number of semantic attributes: {len(semantic_attributes)}\")\n",
    "print(f\"\\nCategories: {list(semantic_attributes.keys())}\")"
   ]
  },
  {
   "cell_type": "code",
   "execution_count": 14,
   "metadata": {},
   "outputs": [
    {
     "name": "stdout",
     "output_type": "stream",
     "text": [
      "\n",
      "================================================================================\n",
      "food_quality_presentation\n",
      "================================================================================\n",
      "Food Quality & Presentation (Perception of the taste, freshness, temperature,\n",
      "and presentation of food. Example: 'Chicken sandwich was burnt.' Keywords: cold,\n",
      "burnt, delicious, disgusting, fresh, presentation, undercooked, soggy, raw)\n",
      "\n",
      "================================================================================\n",
      "staff_behavior_attitude\n",
      "================================================================================\n",
      "Staff Behavior & Attitude (Describes staff friendliness, professionalism, or\n",
      "rudeness. Example: 'They are all friendly, accommodating and always smiling.'\n",
      "Keywords: rude, friendly, polite, helpful, attitude, respectful, smiling,\n",
      "manager, hostile)\n",
      "\n",
      "================================================================================\n",
      "order_accuracy_handling\n",
      "================================================================================\n",
      "Order Accuracy & Handling (Concerns about wrong, missing, or mishandled orders.\n",
      "Example: 'After getting home, I had no regular hamburg but had cookies.'\n",
      "Keywords: wrong order, missing, forgot, custom order, receipt, error, incorrect,\n",
      "mix-up)\n",
      "\n",
      "================================================================================\n",
      "speed_service\n",
      "================================================================================\n",
      "Speed of Service / Wait Time (Comments on timeliness, including delays or quick\n",
      "service. Example: 'Line was not moving so I had to leave otherwise be late for\n",
      "work.' Keywords: long line, wait, slow, fast, delayed, quick, line not moving,\n",
      "took forever)\n",
      "\n",
      "================================================================================\n",
      "mobile_app_experience\n",
      "================================================================================\n",
      "Mobile App & Digital Experience (Covers mobile order issues, app-based\n",
      "promotions, and refunds. Example: 'Never got the refund in the app.' Keywords:\n",
      "app, mobile order, didn’t go through, refund, coupon, check in, system, glitch)\n",
      "\n",
      "================================================================================\n",
      "cleanliness_hygiene\n",
      "================================================================================\n",
      "Cleanliness & Hygiene (Focuses on store cleanliness, restrooms, and hygiene.\n",
      "Example: 'Tables were all dirty & we did not get our food after waiting 35\n",
      "minutes.' Keywords: dirty, clean, trash, bathroom, filthy, smell, sticky,\n",
      "sanitary)\n",
      "\n",
      "================================================================================\n",
      "value_money\n",
      "================================================================================\n",
      "Value for Money (Customer's perception of fairness in pricing and portion.\n",
      "Example: 'They gave me a small portion for what I paid for.' Keywords:\n",
      "expensive, cheap, value, portion, deal, overpriced, worth it, coupon)\n",
      "\n",
      "================================================================================\n",
      "atmosphere_environment\n",
      "================================================================================\n",
      "Atmosphere / Environment (Mentions ambiance, noise, decor, and crowding.\n",
      "Example: 'Food was good atmosphere was ok restaurant was clean.' Keywords: cozy,\n",
      "loud, calm, family-friendly, atmosphere, music, crowded, ambiance)\n",
      "\n",
      "================================================================================\n",
      "trust_safety\n",
      "================================================================================\n",
      "Trust & Safety Concerns (Concerns about feeling unsafe, unhygienic, or sketchy.\n",
      "Example: 'It’s a little sketchy, there is a small encampment nearby.' Keywords:\n",
      "sketchy, unsafe, scared, locked, threatened, security, called the cops)\n"
     ]
    }
   ],
   "source": [
    "import textwrap\n",
    "import dol \n",
    "\n",
    "print_wrapped = lambda text: print(textwrap.fill(text, width=80))\n",
    "\n",
    "# Display all semantic attributes with descriptions\n",
    "for category, description in semantic_attributes.items():\n",
    "    print(f\"\\n{'='*80}\")\n",
    "    print(f\"{category}\")\n",
    "    print(f\"{'='*80}\")\n",
    "    print_wrapped(description)"
   ]
  },
  {
   "cell_type": "markdown",
   "metadata": {},
   "source": [
    "## Dataset Statistics\n",
    "\n",
    "Let's see how many training examples we have for each category."
   ]
  },
  {
   "cell_type": "code",
   "execution_count": 15,
   "metadata": {},
   "outputs": [
    {
     "data": {
      "text/html": [
       "<div>\n",
       "<style scoped>\n",
       "    .dataframe tbody tr th:only-of-type {\n",
       "        vertical-align: middle;\n",
       "    }\n",
       "\n",
       "    .dataframe tbody tr th {\n",
       "        vertical-align: top;\n",
       "    }\n",
       "\n",
       "    .dataframe thead th {\n",
       "        text-align: right;\n",
       "    }\n",
       "</style>\n",
       "<table border=\"1\" class=\"dataframe\">\n",
       "  <thead>\n",
       "    <tr style=\"text-align: right;\">\n",
       "      <th></th>\n",
       "      <th>semantic_attribute</th>\n",
       "      <th>number_of_examples</th>\n",
       "    </tr>\n",
       "  </thead>\n",
       "  <tbody>\n",
       "    <tr>\n",
       "      <th>0</th>\n",
       "      <td>atmosphere_environment</td>\n",
       "      <td>690</td>\n",
       "    </tr>\n",
       "    <tr>\n",
       "      <th>1</th>\n",
       "      <td>order_accuracy_handling</td>\n",
       "      <td>915</td>\n",
       "    </tr>\n",
       "    <tr>\n",
       "      <th>2</th>\n",
       "      <td>cleanliness_hygiene</td>\n",
       "      <td>750</td>\n",
       "    </tr>\n",
       "    <tr>\n",
       "      <th>3</th>\n",
       "      <td>food_quality_presentation</td>\n",
       "      <td>814</td>\n",
       "    </tr>\n",
       "    <tr>\n",
       "      <th>4</th>\n",
       "      <td>staff_behavior_attitude</td>\n",
       "      <td>846</td>\n",
       "    </tr>\n",
       "    <tr>\n",
       "      <th>5</th>\n",
       "      <td>value_money</td>\n",
       "      <td>760</td>\n",
       "    </tr>\n",
       "    <tr>\n",
       "      <th>6</th>\n",
       "      <td>mobile_app_experience</td>\n",
       "      <td>696</td>\n",
       "    </tr>\n",
       "    <tr>\n",
       "      <th>7</th>\n",
       "      <td>speed_service</td>\n",
       "      <td>799</td>\n",
       "    </tr>\n",
       "    <tr>\n",
       "      <th>8</th>\n",
       "      <td>trust_safety</td>\n",
       "      <td>867</td>\n",
       "    </tr>\n",
       "  </tbody>\n",
       "</table>\n",
       "</div>"
      ],
      "text/plain": [
       "          semantic_attribute  number_of_examples\n",
       "0     atmosphere_environment                 690\n",
       "1    order_accuracy_handling                 915\n",
       "2        cleanliness_hygiene                 750\n",
       "3  food_quality_presentation                 814\n",
       "4    staff_behavior_attitude                 846\n",
       "5                value_money                 760\n",
       "6      mobile_app_experience                 696\n",
       "7              speed_service                 799\n",
       "8               trust_safety                 867"
      ]
     },
     "execution_count": 15,
     "metadata": {},
     "output_type": "execute_result"
    }
   ],
   "source": [
    "# Get dataset statistics\n",
    "stats = dacc.dataset_statistics()\n",
    "stats"
   ]
  },
  {
   "cell_type": "code",
   "execution_count": 16,
   "metadata": {},
   "outputs": [
    {
     "data": {
      "image/png": "[encoded data removed]",
      "text/plain": [
       "<Figure size 1200x600 with 1 Axes>"
      ]
     },
     "metadata": {},
     "output_type": "display_data"
    }
   ],
   "source": [
    "# Visualize distribution\n",
    "import matplotlib.pyplot as plt\n",
    "\n",
    "plt.figure(figsize=(12, 6))\n",
    "plt.barh(stats['semantic_attribute'], stats['number_of_examples'])\n",
    "plt.xlabel('Number of Examples')\n",
    "plt.title('Training Examples per Semantic Attribute')\n",
    "plt.tight_layout()\n",
    "plt.show()"
   ]
  },
  {
   "cell_type": "markdown",
   "metadata": {},
   "source": [
    "## Explore a Single Category\n",
    "\n",
    "Let's examine one category in detail before processing all of them."
   ]
  },
  {
   "cell_type": "code",
   "execution_count": 17,
   "metadata": {},
   "outputs": [
    {
     "name": "stdout",
     "output_type": "stream",
     "text": [
      "Exploring category: food_quality_presentation\n"
     ]
    }
   ],
   "source": [
    "# Choose a category to explore\n",
    "example_category = 'food_quality_presentation'\n",
    "print(f\"Exploring category: {example_category}\")"
   ]
  },
  {
   "cell_type": "code",
   "execution_count": 18,
   "metadata": {},
   "outputs": [
    {
     "name": "stdout",
     "output_type": "stream",
     "text": [
      "Number of segments: 814\n",
      "\n",
      "Score distribution:\n",
      "score\n",
      "0    129\n",
      "1    137\n",
      "2    139\n",
      "3    139\n",
      "4    138\n",
      "5    132\n",
      "Name: count, dtype: int64\n"
     ]
    }
   ],
   "source": [
    "# Get segments and scores\n",
    "segments, scores = dacc.category_segments(example_category)\n",
    "\n",
    "print(f\"Number of segments: {len(segments)}\")\n",
    "print(f\"\\nScore distribution:\")\n",
    "print(scores.value_counts().sort_index())"
   ]
  },
  {
   "cell_type": "code",
   "execution_count": 19,
   "metadata": {},
   "outputs": [
    {
     "name": "stdout",
     "output_type": "stream",
     "text": [
      "Example segments:\n",
      "\n",
      "[Score: 0] Chicken tasted like cardboard and was cold.\n",
      "\n",
      "[Score: 1] The pasta was a bit undercooked and bland.\n",
      "\n",
      "[Score: 2] The salad was okay, nothing special.\n",
      "\n",
      "[Score: 3] The burger was decent, but the fries were soggy.\n",
      "\n",
      "[Score: 4] The steak was perfectly cooked, juicy, and flavorful.\n"
     ]
    }
   ],
   "source": [
    "# Show some example segments\n",
    "print(\"Example segments:\")\n",
    "for i in range(min(5, len(segments))):\n",
    "    print(f\"\\n[Score: {scores.iloc[i]}] {segments.iloc[i]}\")"
   ]
  },
  {
   "cell_type": "markdown",
   "metadata": {},
   "source": [
    "## Compute Embeddings\n",
    "\n",
    "Embeddings are computed using OpenAI's API and cached automatically."
   ]
  },
  {
   "cell_type": "code",
   "execution_count": 20,
   "metadata": {},
   "outputs": [
    {
     "name": "stdout",
     "output_type": "stream",
     "text": [
      "Computing embeddings for food_quality_presentation (814 segments)\n"
     ]
    }
   ],
   "source": [
    "# Compute embeddings for the example category\n",
    "# Note: This will be cached, so subsequent calls are instant\n",
    "embeddings = dacc.category_embeddings(example_category)\n",
    "print(f\"Embeddings shape: {embeddings.shape}\")\n",
    "print(f\"Embedding dimension: {len(embeddings['embedding'].iloc[0])}\")\n",
    "embeddings.head()"
   ]
  },
  {
   "cell_type": "code",
   "execution_count": null,
   "metadata": {},
   "outputs": [],
   "source": [
    "# Get X, y arrays ready for modeling\n",
    "X, y = dacc.category_xy(example_category)\n",
    "print(f\"X shape: {X.shape}\")\n",
    "print(f\"y shape: {y.shape}\")\n",
    "print(f\"\\nLabel distribution in y: {pd.Series(y).value_counts().sort_index()}\")"
   ]
  },
  {
   "cell_type": "markdown",
   "metadata": {},
   "source": [
    "## Compute Embeddings for All Categories\n",
    "\n",
    "Now let's process all categories. This may take time on first run, but results are cached."
   ]
  },
  {
   "cell_type": "code",
   "execution_count": null,
   "metadata": {},
   "outputs": [],
   "source": [
    "# Get list of all categories\n",
    "categories = dacc.list_categories()\n",
    "print(f\"Total categories: {len(categories)}\")\n",
    "print(f\"Categories: {categories}\")"
   ]
  },
  {
   "cell_type": "code",
   "execution_count": null,
   "metadata": {},
   "outputs": [],
   "source": [
    "# Compute embeddings for all categories\n",
    "# This will take some time on first run (~23 seconds per category based on your notes)\n",
    "print(\"Computing embeddings for all categories...\\n\")\n",
    "\n",
    "for i, category in enumerate(categories, 1):\n",
    "    print(f\"[{i}/{len(categories)}] {category}\")\n",
    "    embeddings = dacc.category_embeddings(category)\n",
    "    print(f\"  ✓ Shape: {embeddings.shape}\")\n",
    "\n",
    "print(\"\\n✓ All embeddings computed and cached!\")"
   ]
  },
  {
   "cell_type": "markdown",
   "metadata": {},
   "source": [
    "## Train Models for a Single Category\n",
    "\n",
    "Let's train all model types for one category first to see the results."
   ]
  },
  {
   "cell_type": "code",
   "execution_count": null,
   "metadata": {},
   "outputs": [],
   "source": [
    "# Train models for the example category\n",
    "print(f\"Training models for: {example_category}\\n\")\n",
    "results = dacc.category_results(example_category)\n",
    "\n",
    "print(f\"Available result keys: {list(results.keys())}\")\n",
    "print(f\"\\nModel types trained: {list(results['results'].keys())}\")"
   ]
  },
  {
   "cell_type": "code",
   "execution_count": null,
   "metadata": {},
   "outputs": [],
   "source": [
    "# Display model summary\n",
    "summary = dacc.category_model_summary(example_category)\n",
    "summary"
   ]
  },
  {
   "cell_type": "code",
   "execution_count": null,
   "metadata": {},
   "outputs": [],
   "source": [
    "# Visualize model performance\n",
    "import matplotlib.pyplot as plt\n",
    "\n",
    "# Assuming summary has an 'accuracy' or similar metric column\n",
    "if 'mean_accuracy' in summary.columns:\n",
    "    plt.figure(figsize=(10, 6))\n",
    "    summary_sorted = summary.sort_values('mean_accuracy', ascending=True)\n",
    "    plt.barh(summary_sorted.index, summary_sorted['mean_accuracy'])\n",
    "    plt.xlabel('Accuracy')\n",
    "    plt.title(f'Model Performance: {example_category}')\n",
    "    plt.tight_layout()\n",
    "    plt.show()"
   ]
  },
  {
   "cell_type": "markdown",
   "metadata": {},
   "source": [
    "## Train Models for All Categories\n",
    "\n",
    "Now let's train models for all categories. Results are cached, so this only takes time on first run."
   ]
  },
  {
   "cell_type": "code",
   "execution_count": null,
   "metadata": {},
   "outputs": [],
   "source": [
    "# Train all models for all categories\n",
    "# This is the equivalent of your run_experiments() function\n",
    "print(f\"Training models for {len(categories)} categories...\\n\")\n",
    "\n",
    "all_results = dacc.all_category_results()\n",
    "\n",
    "print(\"\\n✓ All models trained and cached!\")"
   ]
  },
  {
   "cell_type": "markdown",
   "metadata": {},
   "source": [
    "## Analyze Results Across All Categories"
   ]
  },
  {
   "cell_type": "code",
   "execution_count": null,
   "metadata": {},
   "outputs": [],
   "source": [
    "# Create a summary table across all categories\n",
    "summary_data = []\n",
    "\n",
    "for category in categories:\n",
    "    summary = dacc.category_model_summary(category)\n",
    "    # Get best performing model\n",
    "    if 'mean_accuracy' in summary.columns:\n",
    "        best_model = summary['mean_accuracy'].idxmax()\n",
    "        best_accuracy = summary.loc[best_model, 'mean_accuracy']\n",
    "        summary_data.append({\n",
    "            'category': category,\n",
    "            'best_model': best_model,\n",
    "            'best_accuracy': best_accuracy\n",
    "        })\n",
    "\n",
    "overall_summary = pd.DataFrame(summary_data)\n",
    "overall_summary.sort_values('best_accuracy', ascending=False)"
   ]
  },
  {
   "cell_type": "code",
   "execution_count": null,
   "metadata": {},
   "outputs": [],
   "source": [
    "# Visualize best model performance across categories\n",
    "plt.figure(figsize=(12, 8))\n",
    "plt.barh(overall_summary['category'], overall_summary['best_accuracy'])\n",
    "plt.xlabel('Best Model Accuracy')\n",
    "plt.title('Best Model Performance per Semantic Attribute')\n",
    "plt.tight_layout()\n",
    "plt.show()"
   ]
  },
  {
   "cell_type": "markdown",
   "metadata": {},
   "source": [
    "## Deep Dive: Specific Category Analysis\n",
    "\n",
    "Let's do a detailed analysis of a specific category."
   ]
  },
  {
   "cell_type": "code",
   "execution_count": null,
   "metadata": {},
   "outputs": [],
   "source": [
    "# Choose category for deep dive\n",
    "target_category = 'order_accuracy_handling'\n",
    "print(f\"Deep dive on: {target_category}\")"
   ]
  },
  {
   "cell_type": "code",
   "execution_count": null,
   "metadata": {},
   "outputs": [],
   "source": [
    "# Get full results\n",
    "results = dacc.category_results(target_category)\n",
    "\n",
    "print(\"Available information:\")\n",
    "print(f\"  - Single train/test split results: {list(results['results'].keys())}\")\n",
    "print(f\"  - Cross-validation results available: {'cv_results' in results}\")\n",
    "print(f\"  - Summary table available: {'summary' in results}\")"
   ]
  },
  {
   "cell_type": "code",
   "execution_count": null,
   "metadata": {},
   "outputs": [],
   "source": [
    "# Display detailed summary\n",
    "summary = dacc.category_model_summary(target_category)\n",
    "summary"
   ]
  },
  {
   "cell_type": "code",
   "execution_count": null,
   "metadata": {},
   "outputs": [],
   "source": [
    "# Get configuration for a specific model\n",
    "model_name = 'logistic_high_vs_low'\n",
    "config = dacc.category_model_config(target_category, model_name)\n",
    "\n",
    "print(f\"Configuration for {model_name}:\")\n",
    "print(f\"  Model class: {config['model_class']}\")\n",
    "print(f\"  Model parameters: {config['model_params']}\")"
   ]
  },
  {
   "cell_type": "markdown",
   "metadata": {},
   "source": [
    "## Train and Use a Specific Model\n",
    "\n",
    "Let's train a specific model and use it for predictions."
   ]
  },
  {
   "cell_type": "code",
   "execution_count": null,
   "metadata": {},
   "outputs": [],
   "source": [
    "# Train a specific model\n",
    "model = dacc.train_model(target_category, model_name)\n",
    "print(f\"Trained {model_name} for {target_category}\")\n",
    "print(f\"Model type: {type(model)}\")"
   ]
  },
  {
   "cell_type": "code",
   "execution_count": null,
   "metadata": {},
   "outputs": [],
   "source": [
    "# Get test data\n",
    "X, y = dacc.category_xy(target_category)\n",
    "print(f\"Data shape: X={X.shape}, y={y.shape}\")"
   ]
  },
  {
   "cell_type": "code",
   "execution_count": null,
   "metadata": {},
   "outputs": [],
   "source": [
    "# Make predictions on sample data\n",
    "n_samples = 10\n",
    "predictions = model.predict(X[:n_samples])\n",
    "actuals = y[:n_samples]\n",
    "\n",
    "print(\"Sample predictions:\")\n",
    "comparison_df = pd.DataFrame({\n",
    "    'Predicted': predictions,\n",
    "    'Actual': actuals,\n",
    "    'Correct': predictions == actuals\n",
    "}, index=range(n_samples))\n",
    "comparison_df"
   ]
  },
  {
   "cell_type": "code",
   "execution_count": null,
   "metadata": {},
   "outputs": [],
   "source": [
    "# Show corresponding segments\n",
    "segments, scores = dacc.category_segments(target_category)\n",
    "\n",
    "print(\"\\nSegments with predictions:\")\n",
    "for i in range(n_samples):\n",
    "    print(f\"\\n[{i}] Predicted: {predictions[i]}, Actual: {actuals[i]}\")\n",
    "    print(f\"    {segments.iloc[i][:100]}...\")"
   ]
  },
  {
   "cell_type": "markdown",
   "metadata": {},
   "source": [
    "## Model Comparison Across Categories\n",
    "\n",
    "Compare how different model types perform across all categories."
   ]
  },
  {
   "cell_type": "code",
   "execution_count": null,
   "metadata": {},
   "outputs": [],
   "source": [
    "# Get all model types (assuming they're the same across categories)\n",
    "first_category = categories[0]\n",
    "first_results = dacc.category_results(first_category)\n",
    "model_types = list(first_results['results'].keys())\n",
    "\n",
    "print(f\"Model types to compare: {model_types}\")"
   ]
  },
  {
   "cell_type": "code",
   "execution_count": null,
   "metadata": {},
   "outputs": [],
   "source": [
    "# Create comparison dataframe\n",
    "comparison_data = []\n",
    "\n",
    "for category in categories:\n",
    "    summary = dacc.category_model_summary(category)\n",
    "    for model_type in model_types:\n",
    "        if model_type in summary.index and 'mean_accuracy' in summary.columns:\n",
    "            comparison_data.append({\n",
    "                'category': category,\n",
    "                'model': model_type,\n",
    "                'accuracy': summary.loc[model_type, 'mean_accuracy']\n",
    "            })\n",
    "\n",
    "comparison_df = pd.DataFrame(comparison_data)\n",
    "comparison_pivot = comparison_df.pivot(index='category', columns='model', values='accuracy')\n",
    "comparison_pivot"
   ]
  },
  {
   "cell_type": "code",
   "execution_count": null,
   "metadata": {},
   "outputs": [],
   "source": [
    "# Visualize model comparison\n",
    "import seaborn as sns\n",
    "\n",
    "plt.figure(figsize=(14, 10))\n",
    "sns.heatmap(comparison_pivot, annot=True, fmt='.3f', cmap='RdYlGn', center=0.5)\n",
    "plt.title('Model Performance Comparison Across Categories')\n",
    "plt.xlabel('Model Type')\n",
    "plt.ylabel('Category')\n",
    "plt.tight_layout()\n",
    "plt.show()"
   ]
  },
  {
   "cell_type": "markdown",
   "metadata": {},
   "source": [
    "## Cache Management\n",
    "\n",
    "The `McdonaldsReviewsMoodModeling` class automatically caches all expensive operations. Here's how to manage the cache."
   ]
  },
  {
   "cell_type": "code",
   "execution_count": null,
   "metadata": {},
   "outputs": [],
   "source": [
    "# Check what's cached for embeddings\n",
    "print(\"Cached embeddings:\")\n",
    "print(list(dacc._embeddings_store))"
   ]
  },
  {
   "cell_type": "code",
   "execution_count": null,
   "metadata": {},
   "outputs": [],
   "source": [
    "# Check what's cached for results\n",
    "print(\"Cached results:\")\n",
    "print(list(dacc._results_store))"
   ]
  },
  {
   "cell_type": "code",
   "execution_count": null,
   "metadata": {},
   "outputs": [],
   "source": [
    "# Clear cache for a specific category (if needed)\n",
    "# Uncomment to actually clear:\n",
    "# dacc.clear_category_cache('food_quality_presentation')\n",
    "# print(\"Cache cleared for food_quality_presentation\")"
   ]
  },
  {
   "cell_type": "markdown",
   "metadata": {},
   "source": [
    "## Export Results\n",
    "\n",
    "Export key results for further analysis or reporting."
   ]
  },
  {
   "cell_type": "code",
   "execution_count": null,
   "metadata": {},
   "outputs": [],
   "source": [
    "# Export overall summary\n",
    "output_dir = os.path.join(project_folder, 'analysis_outputs')\n",
    "os.makedirs(output_dir, exist_ok=True)\n",
    "\n",
    "overall_summary.to_csv(os.path.join(output_dir, 'best_models_summary.csv'), index=False)\n",
    "comparison_pivot.to_csv(os.path.join(output_dir, 'model_comparison.csv'))\n",
    "\n",
    "print(f\"Results exported to {output_dir}\")"
   ]
  },
  {
   "cell_type": "code",
   "execution_count": null,
   "metadata": {},
   "outputs": [],
   "source": [
    "# Export detailed results for each category\n",
    "for category in categories:\n",
    "    summary = dacc.category_model_summary(category)\n",
    "    filename = f\"{category}_summary.csv\"\n",
    "    summary.to_csv(os.path.join(output_dir, filename))\n",
    "\n",
    "print(f\"Exported summaries for all {len(categories)} categories\")"
   ]
  },
  {
   "cell_type": "markdown",
   "metadata": {},
   "source": [
    "## Summary\n",
    "\n",
    "This notebook demonstrated the complete mood modeling workflow using `McdonaldsReviewsMoodModeling`:\n",
    "\n",
    "1. ✓ Loaded semantic attributes\n",
    "2. ✓ Computed embeddings for all categories (cached)\n",
    "3. ✓ Trained multiple model types for all categories (cached)\n",
    "4. ✓ Analyzed model performance\n",
    "5. ✓ Compared models across categories\n",
    "6. ✓ Exported results\n",
    "\n",
    "### Key Benefits of Using McdonaldsReviewsMoodModeling:\n",
    "\n",
    "- **Automatic caching**: All expensive operations are cached automatically\n",
    "- **Clean API**: Simple, intuitive methods replace complex store management\n",
    "- **Persistent storage**: Results persist across sessions\n",
    "- **Reproducible**: Run the notebook multiple times without recomputing\n",
    "- **Modular**: Easy to extend with new methods or analyses"
   ]
  },
  {
   "cell_type": "code",
   "execution_count": null,
   "metadata": {},
   "outputs": [],
   "source": [
    "# Final summary statistics\n",
    "print(\"=\"*80)\n",
    "print(\"FINAL SUMMARY\")\n",
    "print(\"=\"*80)\n",
    "print(f\"\\nCategories processed: {len(categories)}\")\n",
    "print(f\"Total training examples: {stats['number_of_examples'].sum()}\")\n",
    "print(f\"Model types trained per category: {len(model_types)}\")\n",
    "print(f\"\\nBest overall category (by accuracy): {overall_summary.iloc[0]['category']}\")\n",
    "print(f\"Best overall accuracy: {overall_summary.iloc[0]['best_accuracy']:.3f}\")\n",
    "print(f\"\\nAll results cached in:\")\n",
    "print(f\"  - Embeddings: {dacc.embeddings_folder}\")\n",
    "print(f\"  - Results: {dacc.results_folder}\")"
   ]
  },
  {
   "cell_type": "code",
   "execution_count": null,
   "metadata": {},
   "outputs": [],
   "source": []
  },
  {
   "cell_type": "code",
   "execution_count": 3,
   "metadata": {},
   "outputs": [
    {
     "data": {
      "text/plain": [
       "<Sig (key: ~KT, /, *keys: Iterable[~KT]) -> Callable[[Iterable[~VT]], Union[~VT, Tuple[~VT]]]>"
      ]
     },
     "execution_count": 3,
     "metadata": {},
     "output_type": "execute_result"
    }
   ],
   "source": [
    "from i2 import Sig\n",
    "from operator import itemgetter\n",
    "\n",
    "Sig(itemgetter)"
   ]
  },
  {
   "cell_type": "code",
   "execution_count": null,
   "metadata": {},
   "outputs": [],
   "source": []
  },
  {
   "cell_type": "code",
   "execution_count": null,
   "metadata": {},
   "outputs": [],
   "source": []
  }
 ],
 "metadata": {
  "kernelspec": {
   "display_name": "p10",
   "language": "python",
   "name": "python3"
  },
  "language_info": {
   "codemirror_mode": {
    "name": "ipython",
    "version": 3
   },
   "file_extension": ".py",
   "mimetype": "text/x-python",
   "name": "python",
   "nbconvert_exporter": "python",
   "pygments_lexer": "ipython3",
   "version": "3.10.13"
  }
 },
 "nbformat": 4,
 "nbformat_minor": 4
}
