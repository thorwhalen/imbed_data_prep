{
 "cells": [
  {
   "cell_type": "markdown",
   "metadata": {},
   "source": [
    "Here, we'll have a look at [WildChat Dataset](https://wildchat.allen.ai/). \n",
    "\n",
    "[Huggingface dataset](https://huggingface.co/datasets/allenai/WildChat-1M) (hugging face stub: `allenai/WildChat-1M`)\n"
   ]
  },
  {
   "cell_type": "markdown",
   "metadata": {},
   "source": []
  },
  {
   "cell_type": "code",
   "execution_count": 1,
   "metadata": {},
   "outputs": [],
   "source": [
    "from imbed_data_prep.wildchat import *"
   ]
  },
  {
   "cell_type": "code",
   "execution_count": 2,
   "metadata": {},
   "outputs": [],
   "source": [
    "dacc = WildchatDacc()"
   ]
  },
  {
   "cell_type": "code",
   "execution_count": 3,
   "metadata": {},
   "outputs": [
    {
     "data": {
      "text/plain": [
       "(3884385, 58)"
      ]
     },
     "execution_count": 3,
     "metadata": {},
     "output_type": "execute_result"
    }
   ],
   "source": [
    "df = dacc.embeddable_df\n",
    "df.shape"
   ]
  },
  {
   "cell_type": "code",
   "execution_count": 4,
   "metadata": {},
   "outputs": [
    {
     "data": {
      "text/plain": [
       "Index(['conversation_hash', 'model', 'timestamp', 'turn', 'language', 'toxic',\n",
       "       'redacted', 'state', 'country', 'hashed_ip', 'header',\n",
       "       'conversation.content', 'conversation.country',\n",
       "       'conversation.hashed_ip', 'conversation.header',\n",
       "       'conversation.language', 'conversation.redacted', 'conversation.role',\n",
       "       'conversation.state', 'conversation.timestamp'],\n",
       "      dtype='object')"
      ]
     },
     "execution_count": 4,
     "metadata": {},
     "output_type": "execute_result"
    }
   ],
   "source": [
    "df.columns[:20]"
   ]
  },
  {
   "cell_type": "code",
   "execution_count": 5,
   "metadata": {},
   "outputs": [
    {
     "data": {
      "text/plain": [
       "language\n",
       "English     2016583\n",
       "Chinese      701008\n",
       "Russian      457522\n",
       "French       131610\n",
       "Spanish      115372\n",
       "             ...   \n",
       "Armenian         30\n",
       "Marathi          28\n",
       "Tamil            14\n",
       "Gujarati         14\n",
       "Georgian          4\n",
       "Name: count, Length: 74, dtype: int64"
      ]
     },
     "execution_count": 5,
     "metadata": {},
     "output_type": "execute_result"
    }
   ],
   "source": [
    "df.language.value_counts()"
   ]
  },
  {
   "cell_type": "code",
   "execution_count": 151,
   "metadata": {},
   "outputs": [],
   "source": [
    "df = df[df.language == 'English']\n",
    "segments = df['conversation.content'].to_list()"
   ]
  },
  {
   "cell_type": "code",
   "execution_count": 152,
   "metadata": {},
   "outputs": [
    {
     "data": {
      "text/plain": [
       "[74660, 50685, 50006, 43920, 43918, 43918, 43846, 43409, 43173, 43097]"
      ]
     },
     "execution_count": 152,
     "metadata": {},
     "output_type": "execute_result"
    }
   ],
   "source": [
    "ordered_segment_lengths = sorted(df['segment_length'], reverse=True)\n",
    "ordered_segment_lengths[:10]"
   ]
  },
  {
   "cell_type": "code",
   "execution_count": 153,
   "metadata": {},
   "outputs": [
    {
     "data": {
      "text/plain": [
       "[8191, 8190, 8187, 8186, 8169, 8169, 8167, 8167, 8165, 8165]"
      ]
     },
     "execution_count": 153,
     "metadata": {},
     "output_type": "execute_result"
    }
   ],
   "source": [
    "ordered_segment_lengths = sorted(df['token_count'], reverse=True)\n",
    "ordered_segment_lengths[:10]"
   ]
  },
  {
   "cell_type": "code",
   "execution_count": 154,
   "metadata": {},
   "outputs": [
    {
     "name": "stdout",
     "output_type": "stream",
     "text": [
      "2734 MBs of text\n"
     ]
    }
   ],
   "source": [
    "total_n_chars_in_millions = sum(df['segment_length']) / 1e6\n",
    "print(f\"{total_n_chars_in_millions:.0f} MBs of text\")"
   ]
  },
  {
   "cell_type": "code",
   "execution_count": 155,
   "metadata": {},
   "outputs": [
    {
     "data": {
      "text/plain": [
       "50000"
      ]
     },
     "execution_count": 155,
     "metadata": {},
     "output_type": "execute_result"
    }
   ],
   "source": [
    "from math import floor\n",
    "\n",
    "def get_a_batch_size(\n",
    "    total_n_chars_in_millions,\n",
    "    *,\n",
    "    max_upload_size_mb=100,\n",
    "    max_n_items_in_batch=50000,\n",
    "    margin=1.2,\n",
    "):\n",
    "    mean_batch_size = total_n_chars_in_millions / max_upload_size_mb\n",
    "    target_number_of_batches = floor(mean_batch_size * margin)\n",
    "    batch_size = min(max_n_items_in_batch, floor(len(df) / target_number_of_batches))\n",
    "    return batch_size\n",
    "\n",
    "batch_size = get_a_batch_size(total_n_chars_in_millions)\n",
    "batch_size"
   ]
  },
  {
   "cell_type": "markdown",
   "metadata": {},
   "source": [
    "### Sending batches of embedding requests"
   ]
  },
  {
   "cell_type": "code",
   "execution_count": 156,
   "metadata": {},
   "outputs": [],
   "source": [
    "from oa import OaStores\n",
    "\n",
    "oa_stores = OaStores()"
   ]
  },
  {
   "cell_type": "code",
   "execution_count": null,
   "metadata": {},
   "outputs": [],
   "source": []
  },
  {
   "cell_type": "code",
   "execution_count": 236,
   "metadata": {},
   "outputs": [],
   "source": [
    "from imbed import fixed_step_chunker\n",
    "from lkj import print_progress, clog as _clog\n",
    "from functools import partial \n",
    "\n",
    "clog = partial(_clog, log_func=print_progress)\n",
    "\n",
    "\n",
    "def length_if_sizable(segments):\n",
    "    if hasattr(segments, '__len__'):\n",
    "        return len(segments)\n",
    "    else:\n",
    "        return None\n",
    "    \n",
    "\n",
    "def create_embedding_task_batches(segments, batch_size, *, oa_stores=None, verbose=True):\n",
    "    log = clog(verbose)\n",
    "    if oa_stores is None:\n",
    "        from oa import OaStores\n",
    "        oa_stores = OaStores()\n",
    "\n",
    "    total_length = length_if_sizable(segments)\n",
    "    if total_length is not None:\n",
    "        total_n_batches = int(total_length / batch_size) + 1\n",
    "    else:\n",
    "        total_n_batches = '<size unknown>'\n",
    "\n",
    "    try:\n",
    "        for i, batch in enumerate(fixed_step_chunker(segments, batch_size)):\n",
    "            log(f\"Uploading batch {i+1} of {total_n_batches}\")\n",
    "            file_id = oa_stores.files.create_embedding_task(batch)\n",
    "            log(f\"  Launching batch for {file_id=}\")\n",
    "            batch_id = oa_stores.batches.append(file_id)\n",
    "            log(f\"  {batch_id.id=}, {batch_id.created_at=}\")\n",
    "            yield batch_id\n",
    "    except Exception as e:\n",
    "        print(f\"Error: {e}\")\n"
   ]
  },
  {
   "cell_type": "code",
   "execution_count": 250,
   "metadata": {},
   "outputs": [],
   "source": [
    "# This is the main call to create the batches for embeddings.\n",
    "# I commented out to avoid running it again (it's long and expensive)\n",
    "\n",
    "# batch_ids = list(\n",
    "#     create_embedding_task_batches(segments, 2000, oa_stores=oa_stores)\n",
    "# ) # 29mn"
   ]
  },
  {
   "cell_type": "markdown",
   "metadata": {},
   "source": [
    "## Aggregating the embedding chunks"
   ]
  },
  {
   "cell_type": "code",
   "execution_count": 2,
   "metadata": {},
   "outputs": [],
   "source": [
    "from oa.stores import OaStores\n",
    "from oa.batches import get_segments_and_embeddings\n",
    "from imbed_data_prep.wildchat import *\n",
    "\n",
    "dacc = WildchatDacc()\n",
    "s = OaStores()"
   ]
  },
  {
   "cell_type": "code",
   "execution_count": 11,
   "metadata": {},
   "outputs": [
    {
     "name": "stdout",
     "output_type": "stream",
     "text": [
      "(11)09:47:17 - i=1041, batch_info=Batch(id='batch_U7vTZ6lJizqjsgx73Z3gpkQY', completion_window='24h', created_at=1724501174, endpoint='/v1/embeddings', input_file_id='file-zRhEu8zzG6Z9A98H5dQqIfvc', object='batch', status='completed', cancelled_at=None, cancelling_at=None, completed_at=1724501189, error_file_id=None, errors=None, expired_at=None, expires_at=1724587574, failed_at=None, finalizing_at=1724501186, in_progress_at=1724501174, metadata=None, output_file_id='file-xcI7Dnd1d8E6eAUB2K1yR3j7', request_counts=BatchRequestCounts(completed=1, failed=0, total=1))\n",
      "(11)09:47:23 - i=1043, batch_info=Batch(id='batch_A8sNqtVWlCYsOcHKqid089wT', completion_window='24h', created_at=1724500991, endpoint='/v1/embeddings', input_file_id='file-ddYc1OXWFRorqpTb8dQjqCln', object='batch', status='completed', cancelled_at=None, cancelling_at=None, completed_at=1724501004, error_file_id=None, errors=None, expired_at=None, expires_at=1724587391, failed_at=None, finalizing_at=1724501001, in_progress_at=1724500991, metadata=None, output_file_id='file-ee1vN2gzzAED7HEqCF7diZsI', request_counts=BatchRequestCounts(completed=1, failed=0, total=1))\n",
      "(11)09:47:29 - i=1044, batch_info=Batch(id='batch_pBkuAmVVy9vkP71ElGvBWaiF', completion_window='24h', created_at=1724500951, endpoint='/v1/embeddings', input_file_id='file-Sjl8zYr0TmoaPFRZLj171WDg', object='batch', status='completed', cancelled_at=None, cancelling_at=None, completed_at=1724500966, error_file_id=None, errors=None, expired_at=None, expires_at=1724587351, failed_at=None, finalizing_at=1724500963, in_progress_at=1724500951, metadata=None, output_file_id='file-UjripUicFAAOnZaxVXXTEwBl', request_counts=BatchRequestCounts(completed=1, failed=0, total=1))\n",
      "(11)09:47:35 - i=1045, batch_info=Batch(id='batch_OdOruadfaF7RCYy7brnn86OM', completion_window='24h', created_at=1724500917, endpoint='/v1/embeddings', input_file_id='file-g3sdy5JcnDysrBlSszsW1UmT', object='batch', status='completed', cancelled_at=None, cancelling_at=None, completed_at=1724500932, error_file_id=None, errors=None, expired_at=None, expires_at=1724587317, failed_at=None, finalizing_at=1724500930, in_progress_at=1724500918, metadata=None, output_file_id='file-6MeTFNZSGoDwp0ezIstXW3pm', request_counts=BatchRequestCounts(completed=1, failed=0, total=1))\n",
      "(11)09:47:41 - i=1046, batch_info=Batch(id='batch_CxWFalytAwctibXxN6SbSO83', completion_window='24h', created_at=1724500866, endpoint='/v1/embeddings', input_file_id='file-49fgdeI8SLi1JDsZ80ovI6iU', object='batch', status='completed', cancelled_at=None, cancelling_at=None, completed_at=1724500902, error_file_id=None, errors=None, expired_at=None, expires_at=1724587266, failed_at=None, finalizing_at=1724500899, in_progress_at=1724500867, metadata=None, output_file_id='file-aoUVXazOmhzjhAZtGiNTwk5V', request_counts=BatchRequestCounts(completed=1, failed=0, total=1))\n",
      "(11)09:47:46 - i=1047, batch_info=Batch(id='batch_BzdK3se6eJecRaE40BwuBERy', completion_window='24h', created_at=1724500825, endpoint='/v1/embeddings', input_file_id='file-fXH8V9Ln33t8yjECTzM1iQri', object='batch', status='completed', cancelled_at=None, cancelling_at=None, completed_at=1724500841, error_file_id=None, errors=None, expired_at=None, expires_at=1724587225, failed_at=None, finalizing_at=1724500839, in_progress_at=1724500825, metadata=None, output_file_id='file-TXuDpQejgGleNiuRZJLcM6uv', request_counts=BatchRequestCounts(completed=1, failed=0, total=1))\n",
      "(11)09:47:52 - i=1049, batch_info=Batch(id='batch_DMTGdegg7EIILPD96xz0Nv8R', completion_window='24h', created_at=1724500694, endpoint='/v1/embeddings', input_file_id='file-eGHcyhK6MbSWUO2QVWKOF3Qy', object='batch', status='completed', cancelled_at=None, cancelling_at=None, completed_at=1724500704, error_file_id=None, errors=None, expired_at=None, expires_at=1724587094, failed_at=None, finalizing_at=1724500703, in_progress_at=1724500694, metadata=None, output_file_id='file-I6Ldiz0SSsiXxy0VSUgpGphu', request_counts=BatchRequestCounts(completed=1, failed=0, total=1))\n",
      "(11)09:47:56 - i=1056, batch_info=Batch(id='batch_6R5Kqhaio2XZQXy1hEge1Ysr', completion_window='24h', created_at=1724498840, endpoint='/v1/embeddings', input_file_id='file-ienJKJfwQcmAHKtlRNqeXTdY', object='batch', status='completed', cancelled_at=None, cancelling_at=None, completed_at=1724498842, error_file_id=None, errors=None, expired_at=None, expires_at=1724585240, failed_at=None, finalizing_at=1724498842, in_progress_at=1724498840, metadata=None, output_file_id='file-sKDWYCuHVeWXwzOqoh5elSnh', request_counts=BatchRequestCounts(completed=1, failed=0, total=1))\n",
      "(11)09:48:00 - i=1120, batch_info=Batch(id='batch_2dD9hi1L8rMjfe7WzSnRky4v', completion_window='24h', created_at=1724414411, endpoint='/v1/embeddings', input_file_id='file-gmPZ8qOqED4sowP4QvAKY4Pc', object='batch', status='completed', cancelled_at=None, cancelling_at=None, completed_at=1724414429, error_file_id=None, errors=None, expired_at=None, expires_at=1724500811, failed_at=None, finalizing_at=1724414427, in_progress_at=1724414412, metadata=None, output_file_id='file-JzsY1qd3ggG3pRYOpFKbfJLg', request_counts=BatchRequestCounts(completed=57, failed=0, total=57))\n"
     ]
    }
   ],
   "source": [
    "from lkj import print_with_timestamp\n",
    "import pandas as pd \n",
    "from oa.batches import batch_info_to_segments_and_embeddings\n",
    "\n",
    "min_date = 1724503218 - 3600 * 24\n",
    "\n",
    "# cumul_df = pd.DataFrame()\n",
    "\n",
    "import os\n",
    "rootdir = '/Users/thorwhalen/Downloads/wildchat_temp'\n",
    "filepath_for = lambda i: os.path.join(rootdir, f\"wildchat_embeddings_{i:03d}.parquet\")\n",
    "\n",
    "\n",
    "for i, batch_info in enumerate(s.batches_base):\n",
    "    # if i < 1010:  # 370, 1009, 1010\n",
    "    #     continue\n",
    "    if batch_info.output_file_id is not None:\n",
    "        print_with_timestamp(f\"{i=}, {batch_info=}\")\n",
    "        if batch_info.created_at < min_date:\n",
    "            break\n",
    "        if batch_info.endpoint == '/v1/embeddings' and batch_info.status == 'completed':\n",
    "            segments, embeddings = batch_info_to_segments_and_embeddings(s.jsonl_files, batch_info)\n",
    "            df = pd.DataFrame(dict(zip(['segment', 'embedding'], [segments, embeddings])))\n",
    "            df.to_parquet(filepath_for(i))\n",
    "            # cumul_df = pd.concat([cumul_df, df])\n",
    "            # dacc.saves['segment_and_embeddings.parquet'] = cumul_df\n",
    "\n"
   ]
  },
  {
   "cell_type": "markdown",
   "metadata": {},
   "source": [
    "## Aggregating the pieces"
   ]
  },
  {
   "cell_type": "code",
   "execution_count": 2,
   "metadata": {},
   "outputs": [
    {
     "name": "stdout",
     "output_type": "stream",
     "text": [
      "(1291010, 2)\n"
     ]
    },
    {
     "data": {
      "text/plain": [
       "647"
      ]
     },
     "execution_count": 2,
     "metadata": {},
     "output_type": "execute_result"
    }
   ],
   "source": [
    "# TODO: Make a tool for saving chunks to a folder, then aggregating, then saving the aggregated file and deleting the chunks.\n",
    "# Concatenate all the parquet files into one dataframe.\n",
    "\n",
    "from tabled import DfFiles, ColumnOrientedMapping\n",
    "from dol import filt_iter, cached_keys, Pipe\n",
    "from functools import partial\n",
    "import re\n",
    "\n",
    "mk_df_files_aggregate = Pipe(\n",
    "    DfFiles,\n",
    "    filt_iter.suffixes('.parquet'),\n",
    "    cached_keys(keys_cache=partial(sorted, key=lambda k: int(re.compile(r'(\\d+)').search(k).group(1)))), \n",
    ")\n",
    "\n",
    "df_files = mk_df_files_aggregate('/Users/thorwhalen/Downloads/wildchat_temp/')\n",
    "wildchat_df2 = ColumnOrientedMapping(df_files).df()  # 22s\n",
    "print(wildchat_df2.shape)\n",
    "wildchat_df2.head()\n",
    "len(df_files)"
   ]
  },
  {
   "cell_type": "code",
   "execution_count": 3,
   "metadata": {},
   "outputs": [],
   "source": [
    "wildchat_df1 = dacc.saves['segment_and_embeddings.parquet']  # 36s"
   ]
  },
  {
   "cell_type": "code",
   "execution_count": 4,
   "metadata": {},
   "outputs": [],
   "source": [
    "wildchat_df = pd.concat([wildchat_df1, wildchat_df2])\n",
    "del wildchat_df1, wildchat_df2"
   ]
  },
  {
   "cell_type": "code",
   "execution_count": 5,
   "metadata": {},
   "outputs": [],
   "source": [
    "dacc.saves['segment_and_embeddings_2.parquet']  = wildchat_df"
   ]
  },
  {
   "cell_type": "markdown",
   "metadata": {},
   "source": [
    "## Picking up the pieces"
   ]
  },
  {
   "cell_type": "code",
   "execution_count": null,
   "metadata": {},
   "outputs": [],
   "source": [
    "from imbed_data_prep.wildchat import *\n",
    "\n",
    "dacc = WildchatDacc()"
   ]
  },
  {
   "cell_type": "code",
   "execution_count": 3,
   "metadata": {},
   "outputs": [],
   "source": [
    "embeddable_df = dacc.saves['embeddable_df.parquet']\n",
    "wildchat_df = dacc.saves['segment_and_embeddings_2.parquet']"
   ]
  },
  {
   "cell_type": "code",
   "execution_count": 4,
   "metadata": {},
   "outputs": [
    {
     "data": {
      "text/plain": [
       "((3884385, 58), (2031010, 2))"
      ]
     },
     "execution_count": 4,
     "metadata": {},
     "output_type": "execute_result"
    }
   ],
   "source": [
    "embeddable_df.shape, wildchat_df.shape"
   ]
  },
  {
   "cell_type": "code",
   "execution_count": 5,
   "metadata": {},
   "outputs": [],
   "source": [
    "wildchat_df = wildchat_df.drop_duplicates(subset='segment')"
   ]
  },
  {
   "cell_type": "code",
   "execution_count": 6,
   "metadata": {},
   "outputs": [
    {
     "data": {
      "text/plain": [
       "(2016583, 2)"
      ]
     },
     "execution_count": 6,
     "metadata": {},
     "output_type": "execute_result"
    }
   ],
   "source": [
    "t = embeddable_df[embeddable_df['language'] == 'English']\n",
    "t = t[['id_', 'conversation.content']]\n",
    "# del embeddable_df\n",
    "t.shape"
   ]
  },
  {
   "cell_type": "code",
   "execution_count": 7,
   "metadata": {},
   "outputs": [
    {
     "data": {
      "text/plain": [
       "(2016583, 3)"
      ]
     },
     "execution_count": 7,
     "metadata": {},
     "output_type": "execute_result"
    }
   ],
   "source": [
    "# join wildchat_df (over 'conversation.content') to t (over 'segments').\n",
    "# If t has some segments values that are not in wildchat_df, we keep them, but put NaNs in the columns of wildchat_df\n",
    "\n",
    "t = t.set_index('conversation.content')\n",
    "t = t.join(wildchat_df.set_index('segment'), how='left')\n",
    "t = t.reset_index()\n",
    "t = t.rename(columns={'index': 'segment'})\n",
    "t = t.drop_duplicates(subset='id_')\n",
    "t.shape"
   ]
  },
  {
   "cell_type": "code",
   "execution_count": 8,
   "metadata": {},
   "outputs": [
    {
     "name": "stdout",
     "output_type": "stream",
     "text": [
      "len(redo_segments)=561 segments not found that had no embeddings\n"
     ]
    }
   ],
   "source": [
    "lidx = t['embedding'].isna()\n",
    "w = t[lidx]\n",
    "redo_segments = {k: v for k, v in zip(w['id_'], w['conversation.content'])}\n",
    "# redo_segments = w['conversation.content'].to_list()\n",
    "\n",
    "print(f\"{len(redo_segments)=} segments not found that had no embeddings\")\n",
    "\n",
    "import oa\n",
    "\n",
    "redo_embedding = oa.embeddings(redo_segments)"
   ]
  },
  {
   "cell_type": "code",
   "execution_count": 11,
   "metadata": {},
   "outputs": [
    {
     "data": {
      "text/plain": [
       "(2016583, 3)"
      ]
     },
     "execution_count": 11,
     "metadata": {},
     "output_type": "execute_result"
    }
   ],
   "source": [
    "w = w.copy()\n",
    "w['embedding'] = list(redo_embedding.values())\n",
    "t = pd.concat([t[~lidx], w])\n",
    "t = t.sort_values('id_')\n",
    "t.shape"
   ]
  },
  {
   "cell_type": "code",
   "execution_count": 12,
   "metadata": {},
   "outputs": [],
   "source": [
    "t = t.sort_values('id_')\n",
    "del t['conversation.content']"
   ]
  },
  {
   "cell_type": "code",
   "execution_count": 13,
   "metadata": {},
   "outputs": [],
   "source": [
    "# offload some big stuff to not run out of memory\n",
    "del wildchat_df\n",
    "del embeddable_df"
   ]
  },
  {
   "cell_type": "code",
   "execution_count": 14,
   "metadata": {},
   "outputs": [],
   "source": [
    "# Finally: Save this thing\n",
    "# dacc.saves['embeddings.parquet'] = t"
   ]
  },
  {
   "cell_type": "code",
   "execution_count": null,
   "metadata": {},
   "outputs": [],
   "source": []
  },
  {
   "cell_type": "markdown",
   "metadata": {},
   "source": [
    "## Computing Planar embeddings"
   ]
  },
  {
   "cell_type": "code",
   "execution_count": 18,
   "metadata": {},
   "outputs": [],
   "source": [
    "from imbed_data_prep.wildchat import WildchatDacc\n",
    "\n",
    "dacc = WildchatDacc()"
   ]
  },
  {
   "cell_type": "code",
   "execution_count": null,
   "metadata": {},
   "outputs": [],
   "source": [
    "embeddings_df = dacc.saves['embeddings.parquet']"
   ]
  },
  {
   "cell_type": "code",
   "execution_count": 30,
   "metadata": {},
   "outputs": [],
   "source": [
    "import imbed\n",
    "\n",
    "planar_embeddings_ = imbed.planar_embeddings(\n",
    "    embeddings_df.embedding, embeddings_func='ncvis'\n",
    ")"
   ]
  },
  {
   "cell_type": "code",
   "execution_count": 73,
   "metadata": {},
   "outputs": [],
   "source": [
    "dacc.saves['planar_embeddings.parquet'] = imbed.util.planar_embeddings_dict_to_df(\n",
    "    planar_embeddings_\n",
    ")"
   ]
  },
  {
   "cell_type": "code",
   "execution_count": 74,
   "metadata": {},
   "outputs": [
    {
     "data": {
      "text/html": [
       "<div>\n",
       "<style scoped>\n",
       "    .dataframe tbody tr th:only-of-type {\n",
       "        vertical-align: middle;\n",
       "    }\n",
       "\n",
       "    .dataframe tbody tr th {\n",
       "        vertical-align: top;\n",
       "    }\n",
       "\n",
       "    .dataframe thead th {\n",
       "        text-align: right;\n",
       "    }\n",
       "</style>\n",
       "<table border=\"1\" class=\"dataframe\">\n",
       "  <thead>\n",
       "    <tr style=\"text-align: right;\">\n",
       "      <th></th>\n",
       "      <th>x</th>\n",
       "      <th>y</th>\n",
       "    </tr>\n",
       "    <tr>\n",
       "      <th>id_</th>\n",
       "      <th></th>\n",
       "      <th></th>\n",
       "    </tr>\n",
       "  </thead>\n",
       "  <tbody>\n",
       "    <tr>\n",
       "      <th>0</th>\n",
       "      <td>3.207581</td>\n",
       "      <td>19.062687</td>\n",
       "    </tr>\n",
       "    <tr>\n",
       "      <th>1</th>\n",
       "      <td>-11.124226</td>\n",
       "      <td>9.500543</td>\n",
       "    </tr>\n",
       "    <tr>\n",
       "      <th>2</th>\n",
       "      <td>1.524697</td>\n",
       "      <td>1.585643</td>\n",
       "    </tr>\n",
       "    <tr>\n",
       "      <th>3</th>\n",
       "      <td>1.467232</td>\n",
       "      <td>1.227258</td>\n",
       "    </tr>\n",
       "    <tr>\n",
       "      <th>4</th>\n",
       "      <td>-8.419129</td>\n",
       "      <td>3.024352</td>\n",
       "    </tr>\n",
       "    <tr>\n",
       "      <th>...</th>\n",
       "      <td>...</td>\n",
       "      <td>...</td>\n",
       "    </tr>\n",
       "    <tr>\n",
       "      <th>2016578</th>\n",
       "      <td>-16.623129</td>\n",
       "      <td>1.531909</td>\n",
       "    </tr>\n",
       "    <tr>\n",
       "      <th>2016579</th>\n",
       "      <td>4.847935</td>\n",
       "      <td>5.949535</td>\n",
       "    </tr>\n",
       "    <tr>\n",
       "      <th>2016580</th>\n",
       "      <td>-15.696042</td>\n",
       "      <td>7.779152</td>\n",
       "    </tr>\n",
       "    <tr>\n",
       "      <th>2016581</th>\n",
       "      <td>-8.650246</td>\n",
       "      <td>7.840590</td>\n",
       "    </tr>\n",
       "    <tr>\n",
       "      <th>2016582</th>\n",
       "      <td>-9.982203</td>\n",
       "      <td>6.179359</td>\n",
       "    </tr>\n",
       "  </tbody>\n",
       "</table>\n",
       "<p>2016583 rows × 2 columns</p>\n",
       "</div>"
      ],
      "text/plain": [
       "                 x          y\n",
       "id_                          \n",
       "0         3.207581  19.062687\n",
       "1       -11.124226   9.500543\n",
       "2         1.524697   1.585643\n",
       "3         1.467232   1.227258\n",
       "4        -8.419129   3.024352\n",
       "...            ...        ...\n",
       "2016578 -16.623129   1.531909\n",
       "2016579   4.847935   5.949535\n",
       "2016580 -15.696042   7.779152\n",
       "2016581  -8.650246   7.840590\n",
       "2016582  -9.982203   6.179359\n",
       "\n",
       "[2016583 rows x 2 columns]"
      ]
     },
     "execution_count": 74,
     "metadata": {},
     "output_type": "execute_result"
    }
   ],
   "source": [
    "dacc.saves['planar_embeddings.parquet']"
   ]
  },
  {
   "cell_type": "markdown",
   "metadata": {},
   "source": [
    "## Computing clusters"
   ]
  },
  {
   "cell_type": "code",
   "execution_count": 1,
   "metadata": {},
   "outputs": [],
   "source": [
    "from imbed.data_prep import kmeans_cluster_indices\n",
    "from imbed_data_prep.wildchat import WildchatDacc\n",
    "import numpy as np\n",
    "import pandas as pd\n",
    "\n",
    "\n",
    "fibonacci_sequence = [5, 8, 13, 21, 34]\n",
    "\n",
    "def clusters_df(embeddings, n_clusters = fibonacci_sequence):\n",
    "    if isinstance(embeddings, pd.DataFrame):\n",
    "        if 'embedding' in embeddings.columns:\n",
    "            embeddings = embeddings.embedding\n",
    "        embeddings = np.array(embeddings.to_list())\n",
    "    def gen():\n",
    "        for k in n_clusters:\n",
    "            yield f\"cluster_{k:02.0f}\", kmeans_cluster_indices(embeddings, n_clusters=k)\n",
    "\n",
    "    return pd.DataFrame(dict(gen()))\n"
   ]
  },
  {
   "cell_type": "code",
   "execution_count": 2,
   "metadata": {},
   "outputs": [],
   "source": [
    "dacc = WildchatDacc()\n",
    "\n",
    "embeddings = dacc.saves['embeddings.parquet']\n",
    "ids = embeddings.id_\n",
    "\n",
    "# make a np array of the embeddings\n",
    "embeddings = np.array(embeddings.embedding.to_list())\n",
    "\n",
    "clusters_df_ = clusters_df(embeddings)\n",
    "\n",
    "# set the indices of the clusters_df_ to the same as the embeddings\n",
    "clusters_df_ = clusters_df_.set_index(ids)\n",
    "\n",
    "dacc.saves['clusters.parquet'] = clusters_df_"
   ]
  },
  {
   "cell_type": "code",
   "execution_count": 8,
   "metadata": {},
   "outputs": [],
   "source": [
    "df = dacc.embeddable_df"
   ]
  },
  {
   "cell_type": "code",
   "execution_count": 79,
   "metadata": {},
   "outputs": [],
   "source": [
    "from lkj import unique_affixes\n",
    "\n",
    "df = df.rename(columns=dict(\n",
    "    zip(\n",
    "        df.columns, \n",
    "        unique_affixes(df.columns, ingress=lambda x: x.split('.'), egress=lambda x: '.'.join(x), suffix=True)\n",
    "    )\n",
    "))"
   ]
  },
  {
   "cell_type": "code",
   "execution_count": 78,
   "metadata": {},
   "outputs": [
    {
     "data": {
      "text/plain": [
       "conversation_hash                                          c9ec5b440fbdd2a269333dd241f32f64\n",
       "model                                                                            gpt-4-0314\n",
       "timestamp                                                         2023-04-09 00:02:53+00:00\n",
       "turn                                                                                      1\n",
       "language                                                                            English\n",
       "toxic                                                                                 False\n",
       "redacted                                                                              False\n",
       "state                                                                                 Texas\n",
       "country                                                                       United States\n",
       "hashed_ip                                 22fd87ba9b98f3d379b23c7b52961f2d4a8505127e58b3...\n",
       "header                                    {'accept-language': 'en-US,en;q=0.9,es;q=0.8',...\n",
       "content                                   Hey there! Are you familiar with reality shift...\n",
       "conversation.country                                                          United States\n",
       "conversation.hashed_ip                    22fd87ba9b98f3d379b23c7b52961f2d4a8505127e58b3...\n",
       "conversation.header                       {'accept-language': 'en-US,en;q=0.9,es;q=0.8',...\n",
       "conversation.language                                                               English\n",
       "conversation.redacted                                                                 False\n",
       "role                                                                                   user\n",
       "conversation.state                                                                    Texas\n",
       "conversation.timestamp                                                                  NaT\n",
       "conversation.toxic                                                                    False\n",
       "turn_identifier                                                                      101001\n",
       "flagged                                                                               False\n",
       "identity_attack                                                                    0.000206\n",
       "insult                                                                             0.002148\n",
       "obscene                                                                            0.000412\n",
       "severe_toxicity                                                                     0.00003\n",
       "sexual_explicit                                                                    0.000127\n",
       "threat                                                                             0.000065\n",
       "toxicity                                                                           0.005422\n",
       "categories.harassment                                                                 False\n",
       "categories.harassment_threatening                                                     False\n",
       "categories.hate                                                                       False\n",
       "categories.hate_threatening                                                           False\n",
       "categories.self-harm                                                                  False\n",
       "categories.self_harm                                                                  False\n",
       "categories.self_harm_instructions                                                     False\n",
       "categories.self_harm_intent                                                           False\n",
       "categories.sexual                                                                     False\n",
       "categories.sexual_minors                                                              False\n",
       "categories.violence                                                                   False\n",
       "categories.violence_graphic                                                           False\n",
       "category_scores.harassment                                                         0.000485\n",
       "category_scores.harassment_threatening                                             0.000125\n",
       "category_scores.hate                                                               0.000457\n",
       "category_scores.hate_threatening                                                   0.000013\n",
       "category_scores.self-harm                                                          0.000055\n",
       "category_scores.self_harm                                                          0.000055\n",
       "category_scores.self_harm_instructions                                             0.000001\n",
       "category_scores.self_harm_intent                                                   0.000015\n",
       "category_scores.sexual                                                             0.006505\n",
       "category_scores.sexual_minors                                                      0.000202\n",
       "category_scores.violence                                                           0.083071\n",
       "category_scores.violence_graphic                                                   0.000052\n",
       "id_                                                                                       0\n",
       "segment_length                                                                         1373\n",
       "token_count                                                                             307\n",
       "segment_is_valid                                                                       True\n",
       "Name: 0, dtype: object"
      ]
     },
     "execution_count": 78,
     "metadata": {},
     "output_type": "execute_result"
    }
   ],
   "source": [
    "df.iloc[0]"
   ]
  },
  {
   "cell_type": "code",
   "execution_count": null,
   "metadata": {},
   "outputs": [],
   "source": [
    "df['conversation.redacted'].value_counts()"
   ]
  },
  {
   "cell_type": "code",
   "execution_count": 89,
   "metadata": {},
   "outputs": [
    {
     "data": {
      "text/plain": [
       "conversation_hash                                          06f64a7c60c0d6d3e703fe639c95009b\n",
       "model                                                                            gpt-4-0314\n",
       "timestamp                                                         2023-04-09 05:38:32+00:00\n",
       "turn                                                                                      2\n",
       "language                                                                            English\n",
       "toxic                                                                                 False\n",
       "redacted                                                                               True\n",
       "state                                                         Province of Negros Occidental\n",
       "country                                                                         Philippines\n",
       "hashed_ip                                 c3a33ecad4d97759bef84668ceaf078ba91fd317d61878...\n",
       "header                                    {'accept-language': 'en-GB,en-US;q=0.9,en;q=0....\n",
       "content                                   Is it wrong to steal to feed your family?\\nIs ...\n",
       "conversation.country                                                            Philippines\n",
       "conversation.hashed_ip                    c3a33ecad4d97759bef84668ceaf078ba91fd317d61878...\n",
       "conversation.header                       {'accept-language': 'en-GB,en-US;q=0.9,en;q=0....\n",
       "conversation.language                                                               English\n",
       "conversation.redacted                                                                  True\n",
       "role                                                                                   user\n",
       "conversation.state                                            Province of Negros Occidental\n",
       "conversation.timestamp                                                                  NaT\n",
       "conversation.toxic                                                                    False\n",
       "turn_identifier                                                                      102759\n",
       "flagged                                                                               False\n",
       "identity_attack                                                                    0.000277\n",
       "insult                                                                             0.004376\n",
       "obscene                                                                            0.001061\n",
       "severe_toxicity                                                                    0.000184\n",
       "sexual_explicit                                                                    0.000582\n",
       "threat                                                                             0.000431\n",
       "toxicity                                                                           0.009584\n",
       "categories.harassment                                                                 False\n",
       "categories.harassment_threatening                                                     False\n",
       "categories.hate                                                                       False\n",
       "categories.hate_threatening                                                           False\n",
       "categories.self-harm                                                                  False\n",
       "categories.self_harm                                                                  False\n",
       "categories.self_harm_instructions                                                     False\n",
       "categories.self_harm_intent                                                           False\n",
       "categories.sexual                                                                     False\n",
       "categories.sexual_minors                                                              False\n",
       "categories.violence                                                                   False\n",
       "categories.violence_graphic                                                           False\n",
       "category_scores.harassment                                                         0.000808\n",
       "category_scores.harassment_threatening                                             0.001349\n",
       "category_scores.hate                                                               0.000774\n",
       "category_scores.hate_threatening                                                   0.000023\n",
       "category_scores.self-harm                                                          0.000101\n",
       "category_scores.self_harm                                                          0.000101\n",
       "category_scores.self_harm_instructions                                             0.000021\n",
       "category_scores.self_harm_intent                                                   0.000042\n",
       "category_scores.sexual                                                             0.000341\n",
       "category_scores.sexual_minors                                                      0.000022\n",
       "category_scores.violence                                                           0.059917\n",
       "category_scores.violence_graphic                                                   0.009825\n",
       "id_                                                                                    2050\n",
       "segment_length                                                                        21807\n",
       "token_count                                                                            4547\n",
       "segment_is_valid                                                                       True\n",
       "Name: 2050, dtype: object"
      ]
     },
     "execution_count": 89,
     "metadata": {},
     "output_type": "execute_result"
    }
   ],
   "source": [
    "t = df[df['conversation.redacted'] == True]\n",
    "t.iloc[0]"
   ]
  },
  {
   "cell_type": "code",
   "execution_count": 153,
   "metadata": {},
   "outputs": [],
   "source": [
    "dacc.saves['segments.parquet'] = df[['id_', 'content']]"
   ]
  },
  {
   "cell_type": "code",
   "execution_count": 152,
   "metadata": {},
   "outputs": [],
   "source": [
    "cols = [\n",
    "    'id_', 'timestamp', 'role', 'language', \n",
    "    'conversation.redacted', 'country', 'token_count']\n",
    "dacc.saves['metadata.parquet'] = df[cols]"
   ]
  },
  {
   "cell_type": "code",
   "execution_count": 151,
   "metadata": {},
   "outputs": [],
   "source": [
    "score_cols = ['category_scores.harassment',\n",
    " 'category_scores.harassment_threatening',\n",
    " 'category_scores.hate',\n",
    " 'category_scores.hate_threatening',\n",
    " 'category_scores.self-harm',\n",
    " 'category_scores.self_harm',\n",
    " 'category_scores.self_harm_instructions',\n",
    " 'category_scores.self_harm_intent',\n",
    " 'category_scores.sexual',\n",
    " 'category_scores.sexual_minors',\n",
    " 'category_scores.violence',\n",
    " 'category_scores.violence_graphic']\n",
    "\n",
    "repl = {k: k[len('category_scores.'):] for k in score_cols}\n",
    "\n",
    "score_cols.extend(\n",
    "    ['identity_attack', 'insult', 'obscene', 'severe_toxicity', 'sexual_explicit', 'threat', 'toxicity']\n",
    ")\n",
    "t = df[score_cols]\n",
    "t = t.rename(columns=repl)\n",
    "t.columns\n",
    "dacc.saves['scores.parquet'] = t\n"
   ]
  },
  {
   "cell_type": "code",
   "execution_count": 129,
   "metadata": {},
   "outputs": [
    {
     "data": {
      "text/plain": [
       "identity_attack\n",
       "0.000147    11760\n",
       "0.000109     5860\n",
       "0.001088     3690\n",
       "0.000113     2610\n",
       "0.000185     2488\n",
       "            ...  \n",
       "0.000243        1\n",
       "0.000493        1\n",
       "0.005238        1\n",
       "0.005935        1\n",
       "0.000838        1\n",
       "Name: count, Length: 2568530, dtype: int64"
      ]
     },
     "execution_count": 129,
     "metadata": {},
     "output_type": "execute_result"
    }
   ],
   "source": [
    "df['identity_attack'].value_counts()"
   ]
  },
  {
   "cell_type": "code",
   "execution_count": 125,
   "metadata": {},
   "outputs": [
    {
     "data": {
      "text/plain": [
       "category_scores.harassment                 7486\n",
       "category_scores.harassment_threatening       81\n",
       "category_scores.hate                        362\n",
       "category_scores.hate_threatening              0\n",
       "category_scores.self-harm                   552\n",
       "category_scores.self_harm                   552\n",
       "category_scores.self_harm_instructions        0\n",
       "category_scores.self_harm_intent             40\n",
       "category_scores.sexual                    19237\n",
       "category_scores.sexual_minors              1812\n",
       "category_scores.violence                  31140\n",
       "category_scores.violence_graphic           1540\n",
       "dtype: int64"
      ]
     },
     "execution_count": 125,
     "metadata": {},
     "output_type": "execute_result"
    }
   ],
   "source": [
    "t = df[[c for c in df.columns if c.startswith('category_scores.')]]\n",
    "(t > 0.20).sum()"
   ]
  },
  {
   "cell_type": "code",
   "execution_count": 118,
   "metadata": {},
   "outputs": [
    {
     "data": {
      "text/plain": [
       "categories.harassment  categories.harassment_threatening  categories.hate  categories.hate_threatening  categories.self-harm  categories.self_harm  categories.self_harm_instructions  categories.self_harm_intent  categories.sexual  categories.sexual_minors  categories.violence  categories.violence_graphic\n",
       "False                  False                              False            False                        False                 False                 False                              False                        False              False                     False                False                          3884385\n",
       "Name: count, dtype: int64"
      ]
     },
     "execution_count": 118,
     "metadata": {},
     "output_type": "execute_result"
    }
   ],
   "source": [
    "t"
   ]
  },
  {
   "cell_type": "code",
   "execution_count": 95,
   "metadata": {},
   "outputs": [
    {
     "data": {
      "application/vnd.jupyter.widget-view+json": {
       "model_id": "71a237af00584844a18c269793f5bcf2",
       "version_major": 2,
       "version_minor": 0
      },
      "text/plain": [
       "README.md:   0%|          | 0.00/10.8k [00:00<?, ?B/s]"
      ]
     },
     "metadata": {},
     "output_type": "display_data"
    },
    {
     "name": "stderr",
     "output_type": "stream",
     "text": [
      "Using the latest cached version of the dataset since allenai/WildChat-1M couldn't be found on the Hugging Face Hub\n",
      "Found the latest cached dataset configuration 'default' at /Users/thorwhalen/.cache/huggingface/datasets/allenai___wild_chat-1_m/default/0.0.0/a524e8201e98dfd07445f613736700f85b7d3918 (last modified on Thu Jul 25 16:00:42 2024).\n"
     ]
    }
   ],
   "source": [
    "w = dacc.train_data"
   ]
  },
  {
   "cell_type": "code",
   "execution_count": 98,
   "metadata": {},
   "outputs": [
    {
     "data": {
      "text/plain": [
       "conversation_hash                       c9ec5b440fbdd2a269333dd241f32f64\n",
       "model                                                         gpt-4-0314\n",
       "timestamp                                      2023-04-09 00:02:53+00:00\n",
       "conversation           [{'content': 'Hey there! Are you familiar with...\n",
       "turn                                                                   1\n",
       "language                                                         English\n",
       "openai_moderation      [{'categories': {'harassment': False, 'harassm...\n",
       "detoxify_moderation    [{'identity_attack': 0.00020589135237969458, '...\n",
       "toxic                                                              False\n",
       "redacted                                                           False\n",
       "state                                                              Texas\n",
       "country                                                    United States\n",
       "hashed_ip              22fd87ba9b98f3d379b23c7b52961f2d4a8505127e58b3...\n",
       "header                 {'accept-language': 'en-US,en;q=0.9,es;q=0.8',...\n",
       "Name: 0, dtype: object"
      ]
     },
     "execution_count": 98,
     "metadata": {},
     "output_type": "execute_result"
    }
   ],
   "source": [
    "w.iloc[0]"
   ]
  },
  {
   "cell_type": "code",
   "execution_count": 120,
   "metadata": {},
   "outputs": [
    {
     "data": {
      "text/plain": [
       "toxic\n",
       "False    840774\n",
       "Name: count, dtype: int64"
      ]
     },
     "execution_count": 120,
     "metadata": {},
     "output_type": "execute_result"
    }
   ],
   "source": []
  },
  {
   "cell_type": "code",
   "execution_count": null,
   "metadata": {},
   "outputs": [],
   "source": []
  },
  {
   "cell_type": "code",
   "execution_count": 100,
   "metadata": {},
   "outputs": [
    {
     "data": {
      "text/plain": [
       "redacted\n",
       "False    834278\n",
       "True       6496\n",
       "Name: count, dtype: int64"
      ]
     },
     "execution_count": 100,
     "metadata": {},
     "output_type": "execute_result"
    }
   ],
   "source": [
    "w.redacted.value_counts()"
   ]
  },
  {
   "cell_type": "code",
   "execution_count": null,
   "metadata": {},
   "outputs": [],
   "source": []
  },
  {
   "cell_type": "markdown",
   "metadata": {},
   "source": [
    "## More scrap"
   ]
  },
  {
   "cell_type": "code",
   "execution_count": 5,
   "metadata": {},
   "outputs": [
    {
     "data": {
      "text/plain": [
       "'2024-08-24T12:40:18+00:00'"
      ]
     },
     "execution_count": 5,
     "metadata": {},
     "output_type": "execute_result"
    }
   ],
   "source": [
    "from oa.util import utc_int_to_iso_date\n",
    "\n",
    "utc_int_to_iso_date(1724503218)"
   ]
  },
  {
   "cell_type": "code",
   "execution_count": 6,
   "metadata": {},
   "outputs": [
    {
     "data": {
      "text/plain": [
       "'2024-08-23T12:40:18+00:00'"
      ]
     },
     "execution_count": 6,
     "metadata": {},
     "output_type": "execute_result"
    }
   ],
   "source": [
    "utc_int_to_iso_date(1724503218 - 3600 * 24)"
   ]
  },
  {
   "cell_type": "code",
   "execution_count": null,
   "metadata": {},
   "outputs": [],
   "source": [
    "dacc.saves['segments_and_embeddings']"
   ]
  },
  {
   "cell_type": "code",
   "execution_count": null,
   "metadata": {},
   "outputs": [],
   "source": [
    "batch_infos = list(s.batches_base)"
   ]
  },
  {
   "cell_type": "code",
   "execution_count": null,
   "metadata": {},
   "outputs": [],
   "source": []
  },
  {
   "cell_type": "code",
   "execution_count": null,
   "metadata": {},
   "outputs": [],
   "source": [
    "import matplotlib.pyplot as plt\n",
    "\n",
    "t = filter(lambda x: x.endpoint == '/v1/embeddings', batch_infos)\n",
    "plt.plot(sorted([x.created_at for x in t]))"
   ]
  },
  {
   "cell_type": "code",
   "execution_count": 254,
   "metadata": {},
   "outputs": [
    {
     "data": {
      "text/plain": [
       "{'id': 'batch_YY7gAytldnVxPRy3vgnlbsbT',\n",
       " 'completion_window': '24h',\n",
       " 'created_at': 1724503218,\n",
       " 'endpoint': '/v1/embeddings',\n",
       " 'input_file_id': 'file-d1dB20OYOXmnE3ENznpwvVZd',\n",
       " 'object': 'batch',\n",
       " 'status': 'completed',\n",
       " 'cancelled_at': None,\n",
       " 'cancelling_at': None,\n",
       " 'completed_at': 1724503296,\n",
       " 'error_file_id': None,\n",
       " 'errors': None,\n",
       " 'expired_at': None,\n",
       " 'expires_at': 1724589618,\n",
       " 'failed_at': None,\n",
       " 'finalizing_at': 1724503293,\n",
       " 'in_progress_at': 1724503219,\n",
       " 'metadata': None,\n",
       " 'output_file_id': 'file-g1iSPVYMatQRuCRQAkIGFBUA',\n",
       " 'request_counts': {'completed': 1, 'failed': 0, 'total': 1}}"
      ]
     },
     "execution_count": 254,
     "metadata": {},
     "output_type": "execute_result"
    }
   ],
   "source": [
    "batch = next(iter(oa_stores.batches_base))\n",
    "batch.to_dict()"
   ]
  },
  {
   "cell_type": "code",
   "execution_count": 258,
   "metadata": {},
   "outputs": [
    {
     "data": {
      "text/plain": [
       "<module 'oa.batches' from '/Users/thorwhalen/Dropbox/py/proj/t/oa/oa/batches.py'>"
      ]
     },
     "execution_count": 258,
     "metadata": {},
     "output_type": "execute_result"
    }
   ],
   "source": [
    "# reload oa.batches module\n",
    "from importlib import reload\n",
    "import oa.batches\n",
    "\n",
    "reload(oa.batches)\n"
   ]
  },
  {
   "cell_type": "code",
   "execution_count": 266,
   "metadata": {},
   "outputs": [],
   "source": [
    "from oa.batches import get_output_file_data\n",
    "\n",
    "w = get_output_file_data(t, oa_stores=oa_stores)"
   ]
  },
  {
   "cell_type": "code",
   "execution_count": null,
   "metadata": {},
   "outputs": [],
   "source": []
  },
  {
   "cell_type": "code",
   "execution_count": 265,
   "metadata": {},
   "outputs": [
    {
     "data": {
      "text/plain": [
       "(list, 1536)"
      ]
     },
     "execution_count": 265,
     "metadata": {},
     "output_type": "execute_result"
    }
   ],
   "source": [
    "ww = w['embeddings_batch_id-1724501443969629952']\n",
    "type(ww), len(ww)"
   ]
  },
  {
   "cell_type": "code",
   "execution_count": null,
   "metadata": {},
   "outputs": [],
   "source": [
    "class BatchStatus:\n",
    "    def __init__(self, batch, *, oa_stores):\n",
    "        self.batch = batch\n",
    "        self.oa_stores = oa_stores\n",
    "        self.batch_obj = self.oa_stores.batches[self.batch]\n",
    "\n",
    "    @property\n",
    "    def batch_obj(self):\n",
    "        return self.oa_stores.batches[self.batch]\n",
    "\n",
    "    def __call__(self, batch_id):\n",
    "        return self.oa_stores.batches.get(batch_id)"
   ]
  },
  {
   "cell_type": "code",
   "execution_count": 247,
   "metadata": {},
   "outputs": [],
   "source": [
    "from oa.util import utc_int_to_iso_date\n",
    "\n",
    "def output_file(batch_id, *, oa_stores):\n",
    "    batch_obj = oa_stores.batches[batch]\n",
    "    if batch_obj.status == 'completed':\n",
    "        return oa_stores.data_files[batch_obj.output_file_id]\n",
    "    else:\n",
    "        if batch_obj.status == 'failed':\n",
    "            error_obj = ValueError(\n",
    "                f\"Batch {batch_id} failed \"\n",
    "                \"at {utc_int_to_iso_date(batch_obj.failed_at)}. \"\n",
    "                \"Check out {batch_obj.error_file_id} for more information.\"\n",
    "            )\n",
    "            \n",
    "        elif batch_obj.status == 'in_progress   ':\n",
    "            # TODO: add more conditions.\n",
    "            ...\n",
    "\n",
    "        error_obj.batch_obj = batch_obj  # add batch_obj as attribute of error_obj\n",
    "        raise error_obj\n",
    "    \n"
   ]
  },
  {
   "cell_type": "markdown",
   "metadata": {},
   "source": []
  },
  {
   "cell_type": "code",
   "execution_count": 246,
   "metadata": {},
   "outputs": [
    {
     "data": {
      "text/plain": [
       "'2024-08-24T13:10:45'"
      ]
     },
     "execution_count": 246,
     "metadata": {},
     "output_type": "execute_result"
    }
   ],
   "source": [
    "from oa.util import *\n",
    "from oa.stores import *\n",
    "utc_int_to_iso_date(1724501445)"
   ]
  },
  {
   "cell_type": "code",
   "execution_count": 244,
   "metadata": {},
   "outputs": [
    {
     "data": {
      "text/plain": [
       "{'id': 'batch_pqJWKffJftwx5HUUliO0Rk51',\n",
       " 'completion_window': '24h',\n",
       " 'created_at': 1724501445,\n",
       " 'endpoint': '/v1/embeddings',\n",
       " 'input_file_id': 'file-cEyBYep7TSw18WA5OPVOusP5',\n",
       " 'object': 'batch',\n",
       " 'status': 'completed',\n",
       " 'cancelled_at': None,\n",
       " 'cancelling_at': None,\n",
       " 'completed_at': 1724501460,\n",
       " 'error_file_id': None,\n",
       " 'errors': None,\n",
       " 'expired_at': None,\n",
       " 'expires_at': 1724587845,\n",
       " 'failed_at': None,\n",
       " 'finalizing_at': 1724501457,\n",
       " 'in_progress_at': 1724501445,\n",
       " 'metadata': None,\n",
       " 'output_file_id': 'file-z7nbiv2g95IVVbeS0HMjyg9W',\n",
       " 'request_counts': {'completed': 1, 'failed': 0, 'total': 1}}"
      ]
     },
     "execution_count": 244,
     "metadata": {},
     "output_type": "execute_result"
    }
   ],
   "source": [
    "t = oa_stores.batches[batch]\n",
    "t.to_dict()"
   ]
  },
  {
   "cell_type": "code",
   "execution_count": null,
   "metadata": {},
   "outputs": [],
   "source": [
    "oa_stores.files[t.output_file_id]"
   ]
  },
  {
   "cell_type": "code",
   "execution_count": null,
   "metadata": {},
   "outputs": [],
   "source": [
    "oa_stores.files.client.files"
   ]
  },
  {
   "cell_type": "markdown",
   "metadata": {},
   "source": [
    "## Scrap demo"
   ]
  },
  {
   "cell_type": "code",
   "execution_count": 49,
   "metadata": {},
   "outputs": [],
   "source": [
    "from oa.stores import OaStores\n",
    "\n",
    "s = OaStores()\n",
    "\n",
    "file_objs = list(s.files_base)\n",
    "batch_objs = list(s.batches_base)"
   ]
  },
  {
   "cell_type": "code",
   "execution_count": 62,
   "metadata": {},
   "outputs": [
    {
     "name": "stdout",
     "output_type": "stream",
     "text": [
      "len(file_objs)=2142, len(batch_objs)=1133\n"
     ]
    }
   ],
   "source": [
    "print(f\"{len(file_objs)=}, {len(batch_objs)=}\")"
   ]
  },
  {
   "cell_type": "code",
   "execution_count": 52,
   "metadata": {},
   "outputs": [],
   "source": [
    "t = s.json_files[file_objs[0]]"
   ]
  },
  {
   "cell_type": "code",
   "execution_count": 54,
   "metadata": {},
   "outputs": [],
   "source": [
    "for k, v in s.json_files.items():\n",
    "    break"
   ]
  },
  {
   "cell_type": "code",
   "execution_count": 57,
   "metadata": {},
   "outputs": [
    {
     "data": {
      "text/plain": [
       "{'id': 'batch_req_0qWxQ4rcAnzo9lEUMZR7xsgo',\n",
       " 'custom_id': 'embeddings_batch_id-1724503217185829120',\n",
       " 'response': {'status_code': 200,\n",
       "  'request_id': 'dacf8a2486eb1d6a7070852bf04d292d',\n",
       "  'body': {'object': 'list',\n",
       "   'data': [{'object': 'embedding',\n",
       "     'index': 0,\n",
       "     'embedding': [0.017829118, -0.0066988687]},\n",
       "    {'object': 'embedding',\n",
       "     'index': 1,\n",
       "     'embedding': [0.0010772116, -0.0015551111]}],\n",
       "   'model': 'text-embedding-3-small',\n",
       "   'usage': {'prompt_tokens': 629349, 'total_tokens': 629349}}},\n",
       " 'error': None}"
      ]
     },
     "execution_count": 57,
     "metadata": {},
     "output_type": "execute_result"
    }
   ],
   "source": [
    "from lkj import truncate_dict_values\n",
    "\n",
    "truncate_dict_values(v)"
   ]
  },
  {
   "cell_type": "code",
   "execution_count": 66,
   "metadata": {},
   "outputs": [
    {
     "name": "stdout",
     "output_type": "stream",
     "text": [
      "Counter(x.purpose for x in file_objs)=Counter({'batch': 1075, 'batch_output': 1067})\n",
      "Counter(x.status for x in file_objs)=Counter({'processed': 2142})\n"
     ]
    }
   ],
   "source": [
    "from collections import Counter\n",
    "\n",
    "print(f\"{Counter(x.purpose for x in file_objs)=}\")\n",
    "print(f\"{Counter(x.status for x in file_objs)=}\")"
   ]
  },
  {
   "cell_type": "code",
   "execution_count": 63,
   "metadata": {},
   "outputs": [
    {
     "name": "stdout",
     "output_type": "stream",
     "text": [
      "len(batch_outputs)=1067\n"
     ]
    }
   ],
   "source": [
    "batch_outputs = list(filter(lambda x: x.purpose=='batch_output', file_objs))\n",
    "print(f\"{len(batch_outputs)=}\")"
   ]
  },
  {
   "cell_type": "code",
   "execution_count": 71,
   "metadata": {},
   "outputs": [
    {
     "data": {
      "text/plain": [
       "{'id': 'batch_req_0qWxQ4rcAnzo9lEUMZR7xsgo',\n",
       " 'custom_id': 'embeddings_batch_id-1724503217185829120',\n",
       " 'response': {'status_code': 200,\n",
       "  'request_id': 'dacf8a2486eb1d6a7070852bf04d292d',\n",
       "  'body': {'object': 'list',\n",
       "   'data': [{'object': 'embedding',\n",
       "     'index': 0,\n",
       "     'embedding': [0.017829118, -0.0066988687]},\n",
       "    {'object': 'embedding',\n",
       "     'index': 1,\n",
       "     'embedding': [0.0010772116, -0.0015551111]}],\n",
       "   'model': 'text-embedding-3-small',\n",
       "   'usage': {'prompt_tokens': 629349, 'total_tokens': 629349}}},\n",
       " 'error': None}"
      ]
     },
     "execution_count": 71,
     "metadata": {},
     "output_type": "execute_result"
    }
   ],
   "source": [
    "batch_output_file = batch_outputs[0]\n",
    "batch_output_file_contents = s.json_files[batch_output_file]\n",
    "\n",
    "truncate_dict_values(batch_output_file_contents)"
   ]
  },
  {
   "cell_type": "code",
   "execution_count": 82,
   "metadata": {},
   "outputs": [
    {
     "data": {
      "text/plain": [
       "oa.oa_types.Response"
      ]
     },
     "execution_count": 82,
     "metadata": {},
     "output_type": "execute_result"
    }
   ],
   "source": [
    "from oa.oa_types import EmbeddingResponse\n",
    "\n",
    "t = EmbeddingResponse(**batch_output_file_contents)\n",
    "type(t)"
   ]
  },
  {
   "cell_type": "code",
   "execution_count": 92,
   "metadata": {},
   "outputs": [
    {
     "data": {
      "text/plain": [
       "dict_keys(['object', 'index', 'embedding'])"
      ]
     },
     "execution_count": 92,
     "metadata": {},
     "output_type": "execute_result"
    }
   ],
   "source": [
    "t.response.body.data[0].keys()"
   ]
  },
  {
   "cell_type": "code",
   "execution_count": null,
   "metadata": {},
   "outputs": [],
   "source": []
  },
  {
   "cell_type": "markdown",
   "metadata": {},
   "source": [
    "## Checking the files"
   ]
  },
  {
   "cell_type": "code",
   "execution_count": 5,
   "metadata": {},
   "outputs": [
    {
     "name": "stdout",
     "output_type": "stream",
     "text": [
      "all_files_df.shape=(2142, 8)\n"
     ]
    },
    {
     "data": {
      "text/html": [
       "<div>\n",
       "<style scoped>\n",
       "    .dataframe tbody tr th:only-of-type {\n",
       "        vertical-align: middle;\n",
       "    }\n",
       "\n",
       "    .dataframe tbody tr th {\n",
       "        vertical-align: top;\n",
       "    }\n",
       "\n",
       "    .dataframe thead th {\n",
       "        text-align: right;\n",
       "    }\n",
       "</style>\n",
       "<table border=\"1\" class=\"dataframe\">\n",
       "  <thead>\n",
       "    <tr style=\"text-align: right;\">\n",
       "      <th></th>\n",
       "      <th>id</th>\n",
       "      <th>bytes</th>\n",
       "      <th>created_at</th>\n",
       "      <th>filename</th>\n",
       "      <th>object</th>\n",
       "      <th>purpose</th>\n",
       "      <th>status</th>\n",
       "      <th>status_details</th>\n",
       "    </tr>\n",
       "  </thead>\n",
       "  <tbody>\n",
       "    <tr>\n",
       "      <th>0</th>\n",
       "      <td>file-g1iSPVYMatQRuCRQAkIGFBUA</td>\n",
       "      <td>41629954</td>\n",
       "      <td>1724503295</td>\n",
       "      <td>batch_YY7gAytldnVxPRy3vgnlbsbT_output.jsonl</td>\n",
       "      <td>file</td>\n",
       "      <td>batch_output</td>\n",
       "      <td>processed</td>\n",
       "      <td>None</td>\n",
       "    </tr>\n",
       "    <tr>\n",
       "      <th>1</th>\n",
       "      <td>file-JUOe0LxPKzlJDauidqVAiYHd</td>\n",
       "      <td>41629905</td>\n",
       "      <td>1724503291</td>\n",
       "      <td>batch_sV6na1dUQabLp5jEEjTODCKX_output.jsonl</td>\n",
       "      <td>file</td>\n",
       "      <td>batch_output</td>\n",
       "      <td>processed</td>\n",
       "      <td>None</td>\n",
       "    </tr>\n",
       "    <tr>\n",
       "      <th>2</th>\n",
       "      <td>file-zqP3q2hDPVwOYp1Mw8lYAV38</td>\n",
       "      <td>41628327</td>\n",
       "      <td>1724503265</td>\n",
       "      <td>batch_31Ks4sc5G78nOYlbbjo2QXaQ_output.jsonl</td>\n",
       "      <td>file</td>\n",
       "      <td>batch_output</td>\n",
       "      <td>processed</td>\n",
       "      <td>None</td>\n",
       "    </tr>\n",
       "    <tr>\n",
       "      <th>3</th>\n",
       "      <td>file-QmvvLF1ToOcDtZhRNqo0CxQX</td>\n",
       "      <td>41628789</td>\n",
       "      <td>1724503261</td>\n",
       "      <td>batch_C4fvfp1QCYG0zDWLMhDnPC0Z_output.jsonl</td>\n",
       "      <td>file</td>\n",
       "      <td>batch_output</td>\n",
       "      <td>processed</td>\n",
       "      <td>None</td>\n",
       "    </tr>\n",
       "    <tr>\n",
       "      <th>4</th>\n",
       "      <td>file-5X41zNzZWqqhOmksQsmmfqrI</td>\n",
       "      <td>41633793</td>\n",
       "      <td>1724503259</td>\n",
       "      <td>batch_O1YgvIBmEs60RbsXPqkv9MB9_output.jsonl</td>\n",
       "      <td>file</td>\n",
       "      <td>batch_output</td>\n",
       "      <td>processed</td>\n",
       "      <td>None</td>\n",
       "    </tr>\n",
       "  </tbody>\n",
       "</table>\n",
       "</div>"
      ],
      "text/plain": [
       "                              id     bytes  created_at  \\\n",
       "0  file-g1iSPVYMatQRuCRQAkIGFBUA  41629954  1724503295   \n",
       "1  file-JUOe0LxPKzlJDauidqVAiYHd  41629905  1724503291   \n",
       "2  file-zqP3q2hDPVwOYp1Mw8lYAV38  41628327  1724503265   \n",
       "3  file-QmvvLF1ToOcDtZhRNqo0CxQX  41628789  1724503261   \n",
       "4  file-5X41zNzZWqqhOmksQsmmfqrI  41633793  1724503259   \n",
       "\n",
       "                                      filename object       purpose  \\\n",
       "0  batch_YY7gAytldnVxPRy3vgnlbsbT_output.jsonl   file  batch_output   \n",
       "1  batch_sV6na1dUQabLp5jEEjTODCKX_output.jsonl   file  batch_output   \n",
       "2  batch_31Ks4sc5G78nOYlbbjo2QXaQ_output.jsonl   file  batch_output   \n",
       "3  batch_C4fvfp1QCYG0zDWLMhDnPC0Z_output.jsonl   file  batch_output   \n",
       "4  batch_O1YgvIBmEs60RbsXPqkv9MB9_output.jsonl   file  batch_output   \n",
       "\n",
       "      status status_details  \n",
       "0  processed           None  \n",
       "1  processed           None  \n",
       "2  processed           None  \n",
       "3  processed           None  \n",
       "4  processed           None  "
      ]
     },
     "execution_count": 5,
     "metadata": {},
     "output_type": "execute_result"
    }
   ],
   "source": [
    "from oa.stores import OaFilesBase\n",
    "import pandas as pd\n",
    "from operator import methodcaller\n",
    "\n",
    "files_base = OaFilesBase()\n",
    "all_files_df = pd.DataFrame(map(methodcaller('to_dict'), files_base))\n",
    "print(f\"{all_files_df.shape=}\")\n",
    "all_files_df.head()"
   ]
  },
  {
   "cell_type": "markdown",
   "metadata": {},
   "source": [
    "## Checking on errors"
   ]
  },
  {
   "cell_type": "code",
   "execution_count": 1,
   "metadata": {},
   "outputs": [],
   "source": [
    "from lkj import value_in_interval\n",
    "from dol import Pipe\n",
    "from operator import attrgetter\n",
    "from oa import OaStores\n",
    "from oa.stores import OaDacc\n",
    "import pandas as pd \n",
    "from oa.batches import batches_within_range, request_counts\n",
    "\n",
    "dacc = OaDacc()\n",
    "s = dacc.s\n"
   ]
  },
  {
   "cell_type": "code",
   "execution_count": 3,
   "metadata": {},
   "outputs": [],
   "source": [
    "date_when_requests_were_made = 1724501445"
   ]
  },
  {
   "cell_type": "code",
   "execution_count": null,
   "metadata": {},
   "outputs": [],
   "source": [
    "check_batch_requests = Pipe(batches_within_range, request_counts)\n",
    "check_batch_requests(s.batches_base, date_when_requests_were_made)"
   ]
  },
  {
   "cell_type": "code",
   "execution_count": 4,
   "metadata": {},
   "outputs": [
    {
     "data": {
      "text/plain": [
       "Batch(id='batch_YY7gAytldnVxPRy3vgnlbsbT', completion_window='24h', created_at=1724503218, endpoint='/v1/embeddings', input_file_id='file-d1dB20OYOXmnE3ENznpwvVZd', object='batch', status='completed', cancelled_at=None, cancelling_at=None, completed_at=1724503296, error_file_id=None, errors=None, expired_at=None, expires_at=1724589618, failed_at=None, finalizing_at=1724503293, in_progress_at=1724503219, metadata=None, output_file_id='file-g1iSPVYMatQRuCRQAkIGFBUA', request_counts=BatchRequestCounts(completed=1, failed=0, total=1))"
      ]
     },
     "execution_count": 4,
     "metadata": {},
     "output_type": "execute_result"
    }
   ],
   "source": [
    "batch = next(iter(batches_within_range(s.batches_base, min_date=date_when_requests_were_made)))\n",
    "batch"
   ]
  },
  {
   "cell_type": "code",
   "execution_count": 5,
   "metadata": {},
   "outputs": [
    {
     "data": {
      "text/plain": [
       "openai._legacy_response.HttpxBinaryResponseContent"
      ]
     },
     "execution_count": 5,
     "metadata": {},
     "output_type": "execute_result"
    }
   ],
   "source": [
    "from oa.stores import OaDacc\n",
    "\n",
    "dacc = OaDacc()\n",
    "d = dacc.get_output_file_data(batch)\n",
    "type(d)\n"
   ]
  },
  {
   "cell_type": "code",
   "execution_count": 42,
   "metadata": {},
   "outputs": [
    {
     "data": {
      "text/plain": [
       "2000"
      ]
     },
     "execution_count": 42,
     "metadata": {},
     "output_type": "execute_result"
    }
   ],
   "source": [
    "from operator import methodcaller\n",
    "from functools import partial\n",
    "from oa.stores import jsonl_loads_iter\n",
    "from dol import path_get\n",
    "\n",
    "from oa.stores import response_body_data_objects, response_body_data, object_of_data\n",
    "\n",
    "jsonl_loads_response_lines = partial(jsonl_loads_iter, get_lines=methodcaller('iter_lines'))\n",
    "\n",
    "\n",
    "for line in jsonl_loads_response_lines(d):\n",
    "    data_objs = list(response_body_data_objects(line))\n",
    "    break\n",
    "\n",
    "len(data_objs)"
   ]
  },
  {
   "cell_type": "code",
   "execution_count": null,
   "metadata": {},
   "outputs": [],
   "source": []
  },
  {
   "cell_type": "code",
   "execution_count": 66,
   "metadata": {},
   "outputs": [],
   "source": [
    "k = 'file-h6ezcCF8qUWd5kxZB41At7Ku'"
   ]
  },
  {
   "cell_type": "code",
   "execution_count": 67,
   "metadata": {},
   "outputs": [
    {
     "data": {
      "text/plain": [
       "openai._legacy_response.HttpxBinaryResponseContent"
      ]
     },
     "execution_count": 67,
     "metadata": {},
     "output_type": "execute_result"
    }
   ],
   "source": [
    "r = dacc.s.files_base[k]\n",
    "type(r)"
   ]
  },
  {
   "cell_type": "code",
   "execution_count": 163,
   "metadata": {},
   "outputs": [],
   "source": [
    "# import openai._response"
   ]
  },
  {
   "cell_type": "code",
   "execution_count": 68,
   "metadata": {},
   "outputs": [],
   "source": [
    "it = r.iter_lines()"
   ]
  },
  {
   "cell_type": "code",
   "execution_count": 69,
   "metadata": {},
   "outputs": [
    {
     "data": {
      "text/plain": [
       "str"
      ]
     },
     "execution_count": 69,
     "metadata": {},
     "output_type": "execute_result"
    }
   ],
   "source": [
    "t = next(it)\n",
    "type(t)"
   ]
  },
  {
   "cell_type": "code",
   "execution_count": 90,
   "metadata": {},
   "outputs": [
    {
     "data": {
      "text/plain": [
       "['custom_id', 'method', 'url', 'body']"
      ]
     },
     "execution_count": 90,
     "metadata": {},
     "output_type": "execute_result"
    }
   ],
   "source": [
    "list(json_content)"
   ]
  },
  {
   "cell_type": "code",
   "execution_count": 174,
   "metadata": {},
   "outputs": [],
   "source": [
    "from pydantic import BaseModel, Field, model_validator\n",
    "\n",
    "class BodyModel(BaseModel):\n",
    "    # Define the fields within the 'body' if required\n",
    "    pass\n",
    "\n",
    "class ResponseModel(BaseModel):\n",
    "    status_code: int = Field(..., ge=100, le=599)  # Ensure it's a valid status code\n",
    "    body: BodyModel\n",
    "\n",
    "    @model_validator(mode='before')\n",
    "    def check_status_code(cls, values):\n",
    "        if values.get('status_code') != 200:\n",
    "            raise ValueError(\"Status code is not 200.\")\n",
    "        return values\n",
    "\n",
    "class JdictModel(BaseModel):\n",
    "    response: ResponseModel\n",
    "\n",
    "    @model_validator(mode='before')\n",
    "    def check_response(cls, values):\n",
    "        if 'response' not in values:\n",
    "            raise ValueError(\"No 'response' key in json object.\")\n",
    "        return values"
   ]
  },
  {
   "cell_type": "code",
   "execution_count": null,
   "metadata": {},
   "outputs": [],
   "source": []
  },
  {
   "cell_type": "code",
   "execution_count": null,
   "metadata": {},
   "outputs": [],
   "source": [
    "from lkj import print_progress\n",
    "from dol import path_get\n",
    "\n",
    "from oa.stores import OaDacc\n",
    "\n",
    "dacc = OaDacc()\n",
    "\n",
    "\n",
    "class OaJsonObj:\n",
    "    def __init__(self, jdict):\n",
    "        self.jdict = jdict\n",
    "\n",
    "    @property\n",
    "    def custom_id(self):\n",
    "        return self.jdict['custom_id']\n",
    "        \n",
    "\n",
    "class OaJsonResponseObj(OaJsonObj):\n",
    "\n",
    "    # TODO: Mechanicize this. (Json (dict) validation (pydantic?) or routing)\n",
    "    def validate(self):\n",
    "        if 'response' not in self.jdict:\n",
    "            raise ValueError(\"No 'response' key in json object.\")\n",
    "        if 'status_code' not in self.jdict['response']:\n",
    "            raise ValueError(\"No 'status_code' key in 'response' key.\")\n",
    "        if self.jdict['response']['status_code'] != 200:\n",
    "            raise ValueError(\"Status code is not 200.\")\n",
    "        if 'body' not in self.jdict['response']:\n",
    "            raise ValueError(\"No 'body' key in 'response' key.\")\n",
    "        return True   \n",
    "    \n",
    "    @property\n",
    "    def response(self):\n",
    "        return self.jdict['response']\n",
    "\n",
    "\n",
    "def json_object(jdict):\n",
    "    custom_id = jdict['custom_id']\n",
    "    if 'response' in jdict:\n",
    "        response = jdict['response']\n",
    "        if response['status_code'] == 200:\n",
    "            body = response['body']\n",
    "            return {\n",
    "                'custom_id': custom_id,\n",
    "                'type': 'response',\n",
    "                'object': body['object'],\n",
    "                'n_data': len(body['data']),\n",
    "            }\n",
    "        else:\n",
    "            error = jdict['error']\n",
    "            return {\n",
    "                'custom_id': custom_id,\n",
    "                'type': 'response_error',\n",
    "                'error': error,\n",
    "            }\n",
    "    else:\n",
    "        body = jdict['body']\n",
    "        return {\n",
    "            'custom_id': custom_id,\n",
    "            'type': 'input',\n",
    "            'input_type': type(body['input']),\n",
    "            'n_input': len(body['input']),\n",
    "            'n_input_0': len(body['input'][0]),\n",
    "        }\n",
    "\n",
    "for i, id_ in enumerate(sorted(all_files_df.id.to_list()[21:], reverse=True)):\n",
    "    print_progress(f\"---> {i=}: {id_}\")\n",
    "    jdict = dacc.s.json_files[id_]\n",
    "    print(json_info(jdict))\n",
    "    print(\"\")\n",
    "    \n"
   ]
  },
  {
   "cell_type": "code",
   "execution_count": 41,
   "metadata": {},
   "outputs": [],
   "source": [
    "import lkj"
   ]
  },
  {
   "cell_type": "code",
   "execution_count": 36,
   "metadata": {},
   "outputs": [
    {
     "data": {
      "text/plain": [
       "(20, 19)"
      ]
     },
     "execution_count": 36,
     "metadata": {},
     "output_type": "execute_result"
    }
   ],
   "source": [
    "len('A string li...o long'), len('A string...too long')"
   ]
  },
  {
   "cell_type": "code",
   "execution_count": null,
   "metadata": {},
   "outputs": [],
   "source": [
    "from functools import partial\n",
    "from typing import List, Dict, ClassVar, Type, Optional, Any\n",
    "from abc import abstractmethod\n",
    "from pprint import pformat\n",
    "\n",
    "from pydantic import BaseModel, Field, ValidationError\n",
    "from lkj import truncate_dict_values\n",
    "\n",
    "    \n",
    "truncate_dict_list_values = partial(truncate_dict_values, max_string_size=50)\n",
    "\n",
    "\n",
    "# Base class for all JSON responses\n",
    "class JsonResponse(BaseModel):\n",
    "    # Class-level registry for dynamically registering subclasses\n",
    "    _response_registry: ClassVar[Dict[str, Type['JsonResponse']]] = {}\n",
    "\n",
    "    custom_id: str\n",
    "\n",
    "    @abstractmethod\n",
    "    def value(self):\n",
    "        \"\"\"Extract main data from the JSON response\"\"\"\n",
    "        pass\n",
    "\n",
    "    @classmethod\n",
    "    def register_response_type(cls, name: str, response_cls: Type['JsonResponse']):\n",
    "        \"\"\"Register a new response type to the registry\"\"\"\n",
    "        cls._response_registry[name] = response_cls\n",
    "\n",
    "    @classmethod\n",
    "    def from_dict(cls, data: Dict) -> 'JsonResponse':\n",
    "        \"\"\"Determine which response type to instantiate by attempting validation\"\"\"\n",
    "        for response_type, response_cls in cls._response_registry.items():\n",
    "            try:\n",
    "                return response_cls.model_validate(data)\n",
    "            except ValidationError:\n",
    "                continue\n",
    "        \n",
    "        raise ValueError(\n",
    "            \"No valid response type found for this data: \\n\"\n",
    "            f\"{pformat(truncate_dict_values(data))}\"\n",
    "        )\n",
    "\n",
    "# Successful response model\n",
    "class ResponseBodyModel(BaseModel):\n",
    "    object: str\n",
    "    data: List[dict]\n",
    "\n",
    "class ResponseModel(BaseModel):\n",
    "    status_code: int = Field(..., ge=100, le=599)\n",
    "    body: ResponseBodyModel\n",
    "\n",
    "class ResponseSuccessModel(JsonResponse):\n",
    "    response: ResponseModel\n",
    "\n",
    "    def value(self):\n",
    "        return {\n",
    "            'object': self.response.body.object,\n",
    "            'n_data': len(self.response.body.data),\n",
    "        }\n",
    "\n",
    "\n",
    "class ErrorDetailsModel(BaseModel):\n",
    "    message: str\n",
    "    type: str\n",
    "    param: Optional[Any]\n",
    "    code: Optional[Any]\n",
    "\n",
    "class ErrorBodyModel(BaseModel):\n",
    "    error: ErrorDetailsModel\n",
    "\n",
    "class ResponseModel(BaseModel):\n",
    "    status_code: int = Field(..., eq=400)\n",
    "    body: ErrorBodyModel\n",
    "\n",
    "class ErrorResponseModel(BaseModel):\n",
    "    response: ResponseModel\n",
    "\n",
    "\n",
    "# Input data model\n",
    "class InputBodyModel(BaseModel):\n",
    "    input: List[List[int]]\n",
    "\n",
    "class InputModel(JsonResponse):\n",
    "    body: InputBodyModel\n",
    "\n",
    "    def value(self):\n",
    "        return {\n",
    "            'input_type': type(self.body.input),\n",
    "            'n_input': len(self.body.input),\n",
    "            'n_input_0': len(self.body.input[0]),\n",
    "        }\n",
    "\n",
    "\n",
    "\n",
    "\n",
    "# Registering the subclasses with appropriate names\n",
    "JsonResponse.register_response_type('response', ResponseSuccessModel)\n",
    "JsonResponse.register_response_type('response_error', ErrorResponseModel)\n",
    "JsonResponse.register_response_type('input', InputModel)\n",
    "\n"
   ]
  },
  {
   "cell_type": "code",
   "execution_count": 6,
   "metadata": {},
   "outputs": [],
   "source": [
    "from functools import partial\n",
    "from typing import List, Dict, ClassVar, Type, Optional, Any\n",
    "from abc import abstractmethod\n",
    "from pprint import pformat\n",
    "\n",
    "from pydantic import BaseModel, Field, ValidationError\n",
    "from lkj import truncate_dict_values\n",
    "\n",
    "    \n",
    "truncate_dict_list_values = partial(truncate_dict_values, max_string_size=50)\n",
    "\n",
    "\n",
    "# Base class for all JSON responses\n",
    "class JsonResponse(BaseModel):\n",
    "    # Class-level registry for dynamically registering subclasses\n",
    "    _response_registry: ClassVar[Dict[str, Type['JsonResponse']]] = {}\n",
    "\n",
    "    custom_id: str\n",
    "\n",
    "    @abstractmethod\n",
    "    def value(self):\n",
    "        \"\"\"Extract main data from the JSON response\"\"\"\n",
    "        pass\n",
    "\n",
    "    @classmethod\n",
    "    def register_response_type(cls, name: str, response_cls: Type['JsonResponse']):\n",
    "        \"\"\"Register a new response type to the registry\"\"\"\n",
    "        cls._response_registry[name] = response_cls\n",
    "\n",
    "    @classmethod\n",
    "    def from_dict(cls, data: Dict) -> 'JsonResponse':\n",
    "        \"\"\"Determine which response type to instantiate by attempting validation\"\"\"\n",
    "        for response_type, response_cls in cls._response_registry.items():\n",
    "            try:\n",
    "                return response_cls.model_validate(data)\n",
    "            except ValidationError:\n",
    "                continue\n",
    "        \n",
    "        raise ValueError(\n",
    "            \"No valid response type found for this data: \\n\"\n",
    "            f\"{pformat(truncate_dict_values(data))}\"\n",
    "        )\n",
    "\n",
    "# Successful response model\n",
    "class ResponseBodyModel(BaseModel):\n",
    "    object: str\n",
    "    data: List[dict]\n",
    "\n",
    "class ResponseModel(BaseModel):\n",
    "    status_code: int = Field(..., ge=100, le=599)\n",
    "    body: ResponseBodyModel\n",
    "\n",
    "class ResponseSuccessModel(JsonResponse):\n",
    "    response: ResponseModel\n",
    "\n",
    "    def value(self):\n",
    "        return {\n",
    "            'object': self.response.body.object,\n",
    "            'n_data': len(self.response.body.data),\n",
    "        }\n",
    "\n",
    "\n",
    "class ErrorDetailsModel(BaseModel):\n",
    "    message: str\n",
    "    type: str\n",
    "    param: Optional[Any]\n",
    "    code: Optional[Any]\n",
    "\n",
    "class ErrorBodyModel(BaseModel):\n",
    "    error: ErrorDetailsModel\n",
    "\n",
    "class ResponseModel(BaseModel):\n",
    "    status_code: int = Field(..., eq=400)\n",
    "    body: ErrorBodyModel\n",
    "\n",
    "class ErrorResponseModel(BaseModel):\n",
    "    response: ResponseModel\n",
    "\n",
    "\n",
    "# Input data model\n",
    "class InputBodyModel(BaseModel):\n",
    "    input: List[List[int]]\n",
    "\n",
    "class InputModel(JsonResponse):\n",
    "    body: InputBodyModel\n",
    "\n",
    "    def value(self):\n",
    "        return {\n",
    "            'input_type': type(self.body.input),\n",
    "            'n_input': len(self.body.input),\n",
    "            'n_input_0': len(self.body.input[0]),\n",
    "        }\n",
    "\n",
    "\n",
    "\n",
    "\n",
    "# Registering the subclasses with appropriate names\n",
    "JsonResponse.register_response_type('response', ResponseSuccessModel)\n",
    "JsonResponse.register_response_type('response_error', ErrorResponseModel)\n",
    "JsonResponse.register_response_type('input', InputModel)\n",
    "\n"
   ]
  },
  {
   "cell_type": "code",
   "execution_count": 45,
   "metadata": {},
   "outputs": [
    {
     "data": {
      "text/plain": [
       "pydantic_core._pydantic_core.ValidationError"
      ]
     },
     "execution_count": 45,
     "metadata": {},
     "output_type": "execute_result"
    }
   ],
   "source": [
    "ValidationError"
   ]
  },
  {
   "cell_type": "code",
   "execution_count": null,
   "metadata": {},
   "outputs": [],
   "source": [
    "def is_valid_wrt_model(json_obj, model):\n",
    "    try:\n",
    "        model(**json_obj)\n",
    "        return True\n",
    "    except ValidationError as e:\n",
    "        return False"
   ]
  },
  {
   "cell_type": "code",
   "execution_count": 44,
   "metadata": {},
   "outputs": [
    {
     "data": {
      "text/plain": [
       "True"
      ]
     },
     "execution_count": 44,
     "metadata": {},
     "output_type": "execute_result"
    }
   ],
   "source": [
    "class InputBody(BaseModel):\n",
    "    input: List[str]\n",
    "    model: str\n",
    "\n",
    "\n",
    "class BatchRequest(BaseModel):\n",
    "    custom_id: str\n",
    "    method: str\n",
    "    url: str\n",
    "    body: InputBody\n",
    "\n",
    "\n",
    "\n",
    "    \n",
    "is_valid_wrt_model(jdict, BatchRequest)"
   ]
  },
  {
   "cell_type": "code",
   "execution_count": null,
   "metadata": {},
   "outputs": [],
   "source": []
  },
  {
   "cell_type": "code",
   "execution_count": 26,
   "metadata": {},
   "outputs": [],
   "source": [
    "def truncate_dict_list_values(d: dict, max_list_size: int=2) -> dict:\n",
    "    \"\"\"Returns a new dictionary whose list values where reduced to a max_list_size.\n",
    "    Note that the output will have the same nested keys structure, but when \n",
    "    a value is a list, only the first max_list_size elements will be kept.\n",
    "    \n",
    "\n",
    "    \"\"\"\n",
    "    if isinstance(d, dict):\n",
    "        return {k: truncate_dict_list_values(v, max_list_size) for k, v in d.items()}\n",
    "    elif isinstance(d, list):\n",
    "        return [truncate_dict_list_values(v, max_list_size) for v in d[:max_list_size]]\n",
    "    else:\n",
    "        return d\n",
    "    \n",
    "t = truncate_dict_list_values(jdict, max_list_size=2)\n"
   ]
  },
  {
   "cell_type": "code",
   "execution_count": 27,
   "metadata": {},
   "outputs": [
    {
     "data": {
      "text/plain": [
       "{'custom_id': 'embeddings_batch_id-1724501970634621952',\n",
       " 'method': 'POST',\n",
       " 'url': '/v1/embeddings',\n",
       " 'body': {'input': ['latitude and longitude?',\n",
       "   \"What’s the difference between 'any more' and 'anymore'?\"],\n",
       "  'model': 'text-embedding-3-small'}}"
      ]
     },
     "execution_count": 27,
     "metadata": {},
     "output_type": "execute_result"
    }
   ],
   "source": [
    "t"
   ]
  },
  {
   "cell_type": "code",
   "execution_count": 13,
   "metadata": {},
   "outputs": [],
   "source": [
    "import qo\n",
    "import json\n",
    "\n",
    "qo.copy_to_clipboard(json.dumps(jdict))"
   ]
  },
  {
   "cell_type": "code",
   "execution_count": null,
   "metadata": {},
   "outputs": [],
   "source": []
  },
  {
   "cell_type": "code",
   "execution_count": null,
   "metadata": {},
   "outputs": [
    {
     "data": {
      "text/plain": [
       "{'message': \"'$.input' is invalid. Please check the API reference: https://platform.openai.com/docs/api-reference.\",\n",
       " 'type': 'invalid_request_error',\n",
       " 'param': None,\n",
       " 'code': None}"
      ]
     },
     "metadata": {},
     "output_type": "display_data"
    }
   ],
   "source": [
    "t = r.json()\n",
    "assert t['response']['status_code'] == 400\n",
    "\n",
    "assert t['response']['body']['error'] == {'message': \"'$.input' is invalid. Please check the API reference: https://platform.openai.com/docs/api-reference.\",\n",
    " 'type': 'invalid_request_error',\n",
    " 'param': None,\n",
    " 'code': None}\n",
    "\n",
    "error_response = ErrorResponseModel.model_validate(t)\n",
    "error_response\n",
    "\n",
    "t['response']['body']['error']\n"
   ]
  },
  {
   "cell_type": "code",
   "execution_count": null,
   "metadata": {},
   "outputs": [],
   "source": []
  },
  {
   "cell_type": "code",
   "execution_count": null,
   "metadata": {},
   "outputs": [],
   "source": []
  },
  {
   "cell_type": "code",
   "execution_count": 246,
   "metadata": {},
   "outputs": [
    {
     "name": "stdout",
     "output_type": "stream",
     "text": [
      "(28)18:58:44 - ---> i=0: file-zvibCKnvuH4aUFijR7ad35fB\n"
     ]
    },
    {
     "ename": "TypeError",
     "evalue": "descriptor 'alias' for 'FieldInfo' objects doesn't apply to a 'FieldInfo' object",
     "output_type": "error",
     "traceback": [
      "\u001b[0;31m---------------------------------------------------------------------------\u001b[0m",
      "\u001b[0;31mTypeError\u001b[0m                                 Traceback (most recent call last)",
      "Cell \u001b[0;32mIn[246], line 42\u001b[0m\n\u001b[1;32m     40\u001b[0m \u001b[38;5;28;01mfor\u001b[39;00m i, id_ \u001b[38;5;129;01min\u001b[39;00m \u001b[38;5;28menumerate\u001b[39m(\u001b[38;5;28msorted\u001b[39m(all_files_df\u001b[38;5;241m.\u001b[39mid\u001b[38;5;241m.\u001b[39mto_list()[\u001b[38;5;241m21\u001b[39m:], reverse\u001b[38;5;241m=\u001b[39m\u001b[38;5;28;01mTrue\u001b[39;00m)):\n\u001b[1;32m     41\u001b[0m     print_progress(\u001b[38;5;124mf\u001b[39m\u001b[38;5;124m\"\u001b[39m\u001b[38;5;124m---> \u001b[39m\u001b[38;5;132;01m{\u001b[39;00mi\u001b[38;5;132;01m=}\u001b[39;00m\u001b[38;5;124m: \u001b[39m\u001b[38;5;132;01m{\u001b[39;00mid_\u001b[38;5;132;01m}\u001b[39;00m\u001b[38;5;124m\"\u001b[39m)\n\u001b[0;32m---> 42\u001b[0m     jdict \u001b[38;5;241m=\u001b[39m \u001b[43mdacc\u001b[49m\u001b[38;5;241;43m.\u001b[39;49m\u001b[43ms\u001b[49m\u001b[38;5;241;43m.\u001b[39;49m\u001b[43mjson_files\u001b[49m\u001b[43m[\u001b[49m\u001b[43mid_\u001b[49m\u001b[43m]\u001b[49m\n\u001b[1;32m     43\u001b[0m     \u001b[38;5;28mprint\u001b[39m(json_info(JsonResponse\u001b[38;5;241m.\u001b[39mfrom_dict(jdict)))\n\u001b[1;32m     44\u001b[0m     \u001b[38;5;28mprint\u001b[39m(\u001b[38;5;124m\"\u001b[39m\u001b[38;5;124m\"\u001b[39m)\n",
      "File \u001b[0;32m~/Dropbox/py/proj/i/dol/dol/base.py:617\u001b[0m, in \u001b[0;36mStore.__getitem__\u001b[0;34m(self, k)\u001b[0m\n\u001b[1;32m    615\u001b[0m _id \u001b[38;5;241m=\u001b[39m \u001b[38;5;28mself\u001b[39m\u001b[38;5;241m.\u001b[39m_id_of_key(k)\n\u001b[1;32m    616\u001b[0m \u001b[38;5;28;01mtry\u001b[39;00m:\n\u001b[0;32m--> 617\u001b[0m     data \u001b[38;5;241m=\u001b[39m \u001b[38;5;28;43mself\u001b[39;49m\u001b[38;5;241;43m.\u001b[39;49m\u001b[43mstore\u001b[49m\u001b[43m[\u001b[49m\u001b[43m_id\u001b[49m\u001b[43m]\u001b[49m\n\u001b[1;32m    618\u001b[0m \u001b[38;5;28;01mexcept\u001b[39;00m \u001b[38;5;28mself\u001b[39m\u001b[38;5;241m.\u001b[39m_errors_that_trigger_missing \u001b[38;5;28;01mas\u001b[39;00m error:\n\u001b[1;32m    619\u001b[0m     \u001b[38;5;28;01mif\u001b[39;00m \u001b[38;5;28mhasattr\u001b[39m(\u001b[38;5;28mself\u001b[39m, \u001b[38;5;124m'\u001b[39m\u001b[38;5;124m__missing__\u001b[39m\u001b[38;5;124m'\u001b[39m):\n",
      "File \u001b[0;32m~/Dropbox/py/proj/t/oa/oa/stores.py:135\u001b[0m, in \u001b[0;36mMappingHooks.__getitem__\u001b[0;34m(self, key)\u001b[0m\n\u001b[1;32m    134\u001b[0m \u001b[38;5;28;01mdef\u001b[39;00m \u001b[38;5;21m__getitem__\u001b[39m(\u001b[38;5;28mself\u001b[39m, key):\n\u001b[0;32m--> 135\u001b[0m     \u001b[38;5;28;01mreturn\u001b[39;00m \u001b[38;5;28;43mself\u001b[39;49m\u001b[38;5;241;43m.\u001b[39;49m\u001b[43m_getitem\u001b[49m\u001b[43m(\u001b[49m\u001b[43mkey\u001b[49m\u001b[43m)\u001b[49m\n",
      "File \u001b[0;32m~/Dropbox/py/proj/t/oa/oa/stores.py:118\u001b[0m, in \u001b[0;36mextract_id.<locals>._wrapped_method\u001b[0;34m(self, x, *args, **kwargs)\u001b[0m\n\u001b[1;32m    116\u001b[0m     \u001b[38;5;28;01melse\u001b[39;00m:\n\u001b[1;32m    117\u001b[0m         \u001b[38;5;28;01mraise\u001b[39;00m \u001b[38;5;167;01mValueError\u001b[39;00m(\u001b[38;5;124mf\u001b[39m\u001b[38;5;124m\"\u001b[39m\u001b[38;5;124mCan\u001b[39m\u001b[38;5;124m'\u001b[39m\u001b[38;5;124mt resolve id from \u001b[39m\u001b[38;5;132;01m{\u001b[39;00m\u001b[38;5;28mtype\u001b[39m(x)\u001b[38;5;132;01m}\u001b[39;00m\u001b[38;5;124m: \u001b[39m\u001b[38;5;132;01m{\u001b[39;00mx\u001b[38;5;132;01m}\u001b[39;00m\u001b[38;5;124m\"\u001b[39m)\n\u001b[0;32m--> 118\u001b[0m \u001b[38;5;28;01mreturn\u001b[39;00m \u001b[43mmethod\u001b[49m\u001b[43m(\u001b[49m\u001b[38;5;28;43mself\u001b[39;49m\u001b[43m,\u001b[49m\u001b[43m \u001b[49m\u001b[43mx\u001b[49m\u001b[43m,\u001b[49m\u001b[43m \u001b[49m\u001b[38;5;241;43m*\u001b[39;49m\u001b[43margs\u001b[49m\u001b[43m,\u001b[49m\u001b[43m \u001b[49m\u001b[38;5;241;43m*\u001b[39;49m\u001b[38;5;241;43m*\u001b[39;49m\u001b[43mkwargs\u001b[49m\u001b[43m)\u001b[49m\n",
      "File \u001b[0;32m~/Dropbox/py/proj/t/oa/oa/stores.py:215\u001b[0m, in \u001b[0;36mOaFilesBase.content\u001b[0;34m(self, file_id)\u001b[0m\n\u001b[1;32m    213\u001b[0m \u001b[38;5;129m@extract_id\u001b[39m\n\u001b[1;32m    214\u001b[0m \u001b[38;5;28;01mdef\u001b[39;00m \u001b[38;5;21mcontent\u001b[39m(\u001b[38;5;28mself\u001b[39m, file_id):\n\u001b[0;32m--> 215\u001b[0m     \u001b[38;5;28;01mreturn\u001b[39;00m \u001b[38;5;28;43mself\u001b[39;49m\u001b[38;5;241;43m.\u001b[39;49m\u001b[43mclient\u001b[49m\u001b[38;5;241;43m.\u001b[39;49m\u001b[43mfiles\u001b[49m\u001b[38;5;241;43m.\u001b[39;49m\u001b[43mcontent\u001b[49m\u001b[43m(\u001b[49m\u001b[43mfile_id\u001b[49m\u001b[43m,\u001b[49m\u001b[43m \u001b[49m\u001b[38;5;241;43m*\u001b[39;49m\u001b[38;5;241;43m*\u001b[39;49m\u001b[38;5;28;43mself\u001b[39;49m\u001b[38;5;241;43m.\u001b[39;49m\u001b[43mextra_kwargs\u001b[49m\u001b[43m)\u001b[49m\n",
      "File \u001b[0;32m~/.pyenv/versions/3.10.13/envs/p10/lib/python3.10/site-packages/openai/resources/files.py:258\u001b[0m, in \u001b[0;36mFiles.content\u001b[0;34m(self, file_id, extra_headers, extra_query, extra_body, timeout)\u001b[0m\n\u001b[1;32m    256\u001b[0m     \u001b[38;5;28;01mraise\u001b[39;00m \u001b[38;5;167;01mValueError\u001b[39;00m(\u001b[38;5;124mf\u001b[39m\u001b[38;5;124m\"\u001b[39m\u001b[38;5;124mExpected a non-empty value for `file_id` but received \u001b[39m\u001b[38;5;132;01m{\u001b[39;00mfile_id\u001b[38;5;132;01m!r}\u001b[39;00m\u001b[38;5;124m\"\u001b[39m)\n\u001b[1;32m    257\u001b[0m extra_headers \u001b[38;5;241m=\u001b[39m {\u001b[38;5;124m\"\u001b[39m\u001b[38;5;124mAccept\u001b[39m\u001b[38;5;124m\"\u001b[39m: \u001b[38;5;124m\"\u001b[39m\u001b[38;5;124mapplication/binary\u001b[39m\u001b[38;5;124m\"\u001b[39m, \u001b[38;5;241m*\u001b[39m\u001b[38;5;241m*\u001b[39m(extra_headers \u001b[38;5;129;01mor\u001b[39;00m {})}\n\u001b[0;32m--> 258\u001b[0m \u001b[38;5;28;01mreturn\u001b[39;00m \u001b[38;5;28;43mself\u001b[39;49m\u001b[38;5;241;43m.\u001b[39;49m\u001b[43m_get\u001b[49m\u001b[43m(\u001b[49m\n\u001b[1;32m    259\u001b[0m \u001b[43m    \u001b[49m\u001b[38;5;124;43mf\u001b[39;49m\u001b[38;5;124;43m\"\u001b[39;49m\u001b[38;5;124;43m/files/\u001b[39;49m\u001b[38;5;132;43;01m{\u001b[39;49;00m\u001b[43mfile_id\u001b[49m\u001b[38;5;132;43;01m}\u001b[39;49;00m\u001b[38;5;124;43m/content\u001b[39;49m\u001b[38;5;124;43m\"\u001b[39;49m\u001b[43m,\u001b[49m\n\u001b[1;32m    260\u001b[0m \u001b[43m    \u001b[49m\u001b[43moptions\u001b[49m\u001b[38;5;241;43m=\u001b[39;49m\u001b[43mmake_request_options\u001b[49m\u001b[43m(\u001b[49m\n\u001b[1;32m    261\u001b[0m \u001b[43m        \u001b[49m\u001b[43mextra_headers\u001b[49m\u001b[38;5;241;43m=\u001b[39;49m\u001b[43mextra_headers\u001b[49m\u001b[43m,\u001b[49m\u001b[43m \u001b[49m\u001b[43mextra_query\u001b[49m\u001b[38;5;241;43m=\u001b[39;49m\u001b[43mextra_query\u001b[49m\u001b[43m,\u001b[49m\u001b[43m \u001b[49m\u001b[43mextra_body\u001b[49m\u001b[38;5;241;43m=\u001b[39;49m\u001b[43mextra_body\u001b[49m\u001b[43m,\u001b[49m\u001b[43m \u001b[49m\u001b[43mtimeout\u001b[49m\u001b[38;5;241;43m=\u001b[39;49m\u001b[43mtimeout\u001b[49m\n\u001b[1;32m    262\u001b[0m \u001b[43m    \u001b[49m\u001b[43m)\u001b[49m\u001b[43m,\u001b[49m\n\u001b[1;32m    263\u001b[0m \u001b[43m    \u001b[49m\u001b[43mcast_to\u001b[49m\u001b[38;5;241;43m=\u001b[39;49m\u001b[43m_legacy_response\u001b[49m\u001b[38;5;241;43m.\u001b[39;49m\u001b[43mHttpxBinaryResponseContent\u001b[49m\u001b[43m,\u001b[49m\n\u001b[1;32m    264\u001b[0m \u001b[43m\u001b[49m\u001b[43m)\u001b[49m\n",
      "File \u001b[0;32m~/.pyenv/versions/3.10.13/envs/p10/lib/python3.10/site-packages/openai/_base_client.py:1203\u001b[0m, in \u001b[0;36mSyncAPIClient.get\u001b[0;34m(self, path, cast_to, options, stream, stream_cls)\u001b[0m\n\u001b[1;32m   1194\u001b[0m \u001b[38;5;28;01mdef\u001b[39;00m \u001b[38;5;21mget\u001b[39m(\n\u001b[1;32m   1195\u001b[0m     \u001b[38;5;28mself\u001b[39m,\n\u001b[1;32m   1196\u001b[0m     path: \u001b[38;5;28mstr\u001b[39m,\n\u001b[0;32m   (...)\u001b[0m\n\u001b[1;32m   1201\u001b[0m     stream_cls: \u001b[38;5;28mtype\u001b[39m[_StreamT] \u001b[38;5;241m|\u001b[39m \u001b[38;5;28;01mNone\u001b[39;00m \u001b[38;5;241m=\u001b[39m \u001b[38;5;28;01mNone\u001b[39;00m,\n\u001b[1;32m   1202\u001b[0m ) \u001b[38;5;241m-\u001b[39m\u001b[38;5;241m>\u001b[39m ResponseT \u001b[38;5;241m|\u001b[39m _StreamT:\n\u001b[0;32m-> 1203\u001b[0m     opts \u001b[38;5;241m=\u001b[39m \u001b[43mFinalRequestOptions\u001b[49m\u001b[38;5;241;43m.\u001b[39;49m\u001b[43mconstruct\u001b[49m\u001b[43m(\u001b[49m\u001b[43mmethod\u001b[49m\u001b[38;5;241;43m=\u001b[39;49m\u001b[38;5;124;43m\"\u001b[39;49m\u001b[38;5;124;43mget\u001b[39;49m\u001b[38;5;124;43m\"\u001b[39;49m\u001b[43m,\u001b[49m\u001b[43m \u001b[49m\u001b[43murl\u001b[49m\u001b[38;5;241;43m=\u001b[39;49m\u001b[43mpath\u001b[49m\u001b[43m,\u001b[49m\u001b[43m \u001b[49m\u001b[38;5;241;43m*\u001b[39;49m\u001b[38;5;241;43m*\u001b[39;49m\u001b[43moptions\u001b[49m\u001b[43m)\u001b[49m\n\u001b[1;32m   1204\u001b[0m     \u001b[38;5;66;03m# cast is required because mypy complains about returning Any even though\u001b[39;00m\n\u001b[1;32m   1205\u001b[0m     \u001b[38;5;66;03m# it understands the type variables\u001b[39;00m\n\u001b[1;32m   1206\u001b[0m     \u001b[38;5;28;01mreturn\u001b[39;00m cast(ResponseT, \u001b[38;5;28mself\u001b[39m\u001b[38;5;241m.\u001b[39mrequest(cast_to, opts, stream\u001b[38;5;241m=\u001b[39mstream, stream_cls\u001b[38;5;241m=\u001b[39mstream_cls))\n",
      "File \u001b[0;32m~/.pyenv/versions/3.10.13/envs/p10/lib/python3.10/site-packages/openai/_models.py:780\u001b[0m, in \u001b[0;36mFinalRequestOptions.construct\u001b[0;34m(cls, _fields_set, **values)\u001b[0m\n\u001b[1;32m    773\u001b[0m kwargs: \u001b[38;5;28mdict\u001b[39m[\u001b[38;5;28mstr\u001b[39m, Any] \u001b[38;5;241m=\u001b[39m {\n\u001b[1;32m    774\u001b[0m     \u001b[38;5;66;03m# we unconditionally call `strip_not_given` on any value\u001b[39;00m\n\u001b[1;32m    775\u001b[0m     \u001b[38;5;66;03m# as it will just ignore any non-mapping types\u001b[39;00m\n\u001b[1;32m    776\u001b[0m     key: strip_not_given(value)\n\u001b[1;32m    777\u001b[0m     \u001b[38;5;28;01mfor\u001b[39;00m key, value \u001b[38;5;129;01min\u001b[39;00m values\u001b[38;5;241m.\u001b[39mitems()\n\u001b[1;32m    778\u001b[0m }\n\u001b[1;32m    779\u001b[0m \u001b[38;5;28;01mif\u001b[39;00m PYDANTIC_V2:\n\u001b[0;32m--> 780\u001b[0m     \u001b[38;5;28;01mreturn\u001b[39;00m \u001b[38;5;28;43msuper\u001b[39;49m\u001b[43m(\u001b[49m\u001b[43m)\u001b[49m\u001b[38;5;241;43m.\u001b[39;49m\u001b[43mmodel_construct\u001b[49m\u001b[43m(\u001b[49m\u001b[43m_fields_set\u001b[49m\u001b[43m,\u001b[49m\u001b[43m \u001b[49m\u001b[38;5;241;43m*\u001b[39;49m\u001b[38;5;241;43m*\u001b[39;49m\u001b[43mkwargs\u001b[49m\u001b[43m)\u001b[49m\n\u001b[1;32m    781\u001b[0m \u001b[38;5;28;01mreturn\u001b[39;00m cast(FinalRequestOptions, \u001b[38;5;28msuper\u001b[39m()\u001b[38;5;241m.\u001b[39mconstruct(_fields_set, \u001b[38;5;241m*\u001b[39m\u001b[38;5;241m*\u001b[39mkwargs))\n",
      "File \u001b[0;32m~/.pyenv/versions/3.10.13/envs/p10/lib/python3.10/site-packages/pydantic/main.py:243\u001b[0m, in \u001b[0;36mBaseModel.model_construct\u001b[0;34m(cls, _fields_set, **values)\u001b[0m\n\u001b[1;32m    240\u001b[0m fields_set \u001b[38;5;241m=\u001b[39m \u001b[38;5;28mset\u001b[39m()\n\u001b[1;32m    242\u001b[0m \u001b[38;5;28;01mfor\u001b[39;00m name, field \u001b[38;5;129;01min\u001b[39;00m \u001b[38;5;28mcls\u001b[39m\u001b[38;5;241m.\u001b[39mmodel_fields\u001b[38;5;241m.\u001b[39mitems():\n\u001b[0;32m--> 243\u001b[0m     \u001b[38;5;28;01mif\u001b[39;00m \u001b[43mfield\u001b[49m\u001b[38;5;241;43m.\u001b[39;49m\u001b[43malias\u001b[49m \u001b[38;5;129;01mis\u001b[39;00m \u001b[38;5;129;01mnot\u001b[39;00m \u001b[38;5;28;01mNone\u001b[39;00m \u001b[38;5;129;01mand\u001b[39;00m field\u001b[38;5;241m.\u001b[39malias \u001b[38;5;129;01min\u001b[39;00m values:\n\u001b[1;32m    244\u001b[0m         fields_values[name] \u001b[38;5;241m=\u001b[39m values\u001b[38;5;241m.\u001b[39mpop(field\u001b[38;5;241m.\u001b[39malias)\n\u001b[1;32m    245\u001b[0m         fields_set\u001b[38;5;241m.\u001b[39madd(name)\n",
      "\u001b[0;31mTypeError\u001b[0m: descriptor 'alias' for 'FieldInfo' objects doesn't apply to a 'FieldInfo' object"
     ]
    }
   ],
   "source": [
    "from lkj import print_progress\n",
    "from dol import path_get\n",
    "\n",
    "from oa.stores import OaDacc\n",
    "\n",
    "dacc = OaDacc()\n",
    "\n",
    "def json_info(jdict):\n",
    "    custom_id = jdict['custom_id']\n",
    "    if 'response' in jdict:\n",
    "        # response kind\n",
    "        response = jdict['response']\n",
    "        if response['status_code'] == 200:\n",
    "            body = response['body']\n",
    "            return {\n",
    "                'custom_id': custom_id,\n",
    "                'type': 'response',\n",
    "                'object': body['object'],\n",
    "                'n_data': len(body['data']),\n",
    "            }\n",
    "        else:\n",
    "            # response_error kind\n",
    "            error = jdict['error']\n",
    "            return {\n",
    "                'custom_id': custom_id,\n",
    "                'type': 'response_error',\n",
    "                'error': jdict['error'],\n",
    "            }\n",
    "    else:\n",
    "        body = jdict['body']\n",
    "        # response_error kind\n",
    "        return {\n",
    "            'custom_id': custom_id,\n",
    "            'type': 'input',\n",
    "            'input_type': type(body['input']),\n",
    "            'n_input': len(body['input']),\n",
    "            'n_input_0': len(body['input'][0]),\n",
    "        }\n",
    "\n",
    "for i, id_ in enumerate(sorted(all_files_df.id.to_list()[21:], reverse=True)):\n",
    "    print_progress(f\"---> {i=}: {id_}\")\n",
    "    jdict = dacc.s.json_files[id_]\n",
    "    print(JsonResponse.from_dict(jdict))\n",
    "    print(\"\")\n",
    "    "
   ]
  },
  {
   "cell_type": "code",
   "execution_count": null,
   "metadata": {},
   "outputs": [],
   "source": []
  },
  {
   "cell_type": "code",
   "execution_count": null,
   "metadata": {},
   "outputs": [],
   "source": []
  },
  {
   "cell_type": "code",
   "execution_count": null,
   "metadata": {},
   "outputs": [],
   "source": []
  },
  {
   "cell_type": "code",
   "execution_count": 198,
   "metadata": {},
   "outputs": [
    {
     "data": {
      "text/plain": [
       "{'custom_id': 'embeddings_batch_id-1724496832063141888',\n",
       " 'status_code': 400,\n",
       " 'error': None,\n",
       " 'response.body': {'error': {'message': \"'$.input' is invalid. Please check the API reference: https://platform.openai.com/docs/api-reference.\",\n",
       "   'type': 'invalid_request_error',\n",
       "   'param': None,\n",
       "   'code': None}},\n",
       " 'body': None}"
      ]
     },
     "execution_count": 198,
     "metadata": {},
     "output_type": "execute_result"
    }
   ],
   "source": [
    "from dol import path_get\n",
    "from dol.paths import paths_getter\n",
    "\n",
    "from functools import partial\n",
    "\n",
    "\n",
    "def return_none(x):\n",
    "    return None\n",
    "\n",
    "\n",
    "extract_response_info = paths_getter(\n",
    "    {\n",
    "        'custom_id': 'custom_id',\n",
    "        'status_code': 'response.status_code',\n",
    "        'error': 'error',\n",
    "        'response.body': 'response.body',\n",
    "        'body': 'body',\n",
    "    },\n",
    "    on_error=return_none,\n",
    ")\n",
    "\n",
    "\n",
    "def determine_kind(jdict):\n",
    "    info = extract_response_info(jdict)\n",
    "\n",
    "    if info['status_code']:\n",
    "        if (\n",
    "            info['status_code'] == 200\n",
    "            and info['response.body']\n",
    "            and 'data' in info['response.body']\n",
    "        ):\n",
    "            return 'response'\n",
    "        elif info['status_code'] != 200 and info['error']:\n",
    "            return 'response_error'\n",
    "    elif info['body'] and 'input' in info['body']:\n",
    "        return 'input'\n",
    "\n",
    "    raise ValueError(\"Could not determine kind of JSON object\")\n",
    "\n",
    "extract_response_info(r.json())\n",
    "    "
   ]
  },
  {
   "cell_type": "code",
   "execution_count": 130,
   "metadata": {},
   "outputs": [
    {
     "name": "stdout",
     "output_type": "stream",
     "text": [
      "(28)13:49:55 - ---> i=0: file-zvibCKnvuH4aUFijR7ad35fB\n",
      "{'custom_id': 'embeddings_batch_id-1724501970634621952', 'type': 'input', 'input_type': <class 'list'>, 'n_input': 2000, 'n_input_0': 23}\n",
      "\n",
      "(28)13:49:57 - ---> i=1: file-zvSJANC824VN2BnxLBjuPCsE\n",
      "{'custom_id': 'embeddings_batch_id-1724501975561022976', 'type': 'input', 'input_type': <class 'list'>, 'n_input': 2000, 'n_input_0': 584}\n",
      "\n",
      "(28)13:49:58 - ---> i=2: file-zvIT8muZ1BANCvj70vhY36ih\n",
      "{'custom_id': 'embeddings_batch_id-1724501630836592128', 'type': 'response', 'object': 'list', 'n_data': 2000}\n",
      "\n",
      "(28)13:50:02 - ---> i=3: file-zrqNUeHJciihWh7sRNRYjJNR\n",
      "{'custom_id': 'embeddings_batch_id-1724502280773035008', 'type': 'response', 'object': 'list', 'n_data': 2000}\n",
      "\n",
      "(28)13:50:05 - ---> i=4: file-zrJoJ1IA1Tj3Wjzl0CAaPDaV\n",
      "{'custom_id': 'embeddings_batch_id-1724496832063141888', 'type': 'response_error', 'error': None}\n",
      "\n",
      "(28)13:50:06 - ---> i=5: file-zpQQmn9PlANQGsPOwfooEEWZ\n",
      "{'custom_id': 'embeddings_batch_id-1724502884452224000', 'type': 'input', 'input_type': <class 'list'>, 'n_input': 2000, 'n_input_0': 19}\n",
      "\n",
      "(28)13:50:07 - ---> i=6: file-zp7MJQ0Dht3rO4EsJAwrvZme\n",
      "{'custom_id': 'embeddings_batch_id-1724501483833678080', 'type': 'response', 'object': 'list', 'n_data': 2000}\n",
      "\n",
      "(28)13:50:11 - ---> i=7: file-zoTy1iTnAqX2NKArSDlwKpyi\n",
      "{'custom_id': 'embeddings_batch_id-1724501231248800000', 'type': 'response_error', 'error': None}\n",
      "\n",
      "(28)13:50:11 - ---> i=8: file-zmstvWnLfDpKS84owcAJwimt\n",
      "{'custom_id': 'embeddings_batch_id-1724502818747476992', 'type': 'response', 'object': 'list', 'n_data': 2000}\n",
      "\n",
      "(28)13:50:16 - ---> i=9: file-zmEeKwy5qcTzxJx1Cgd1mD4S\n",
      "{'custom_id': 'embeddings_batch_id-1724501692644666880', 'type': 'response', 'object': 'list', 'n_data': 2000}\n",
      "\n",
      "(28)13:50:19 - ---> i=10: file-zjocrifVVPXmxSsycATN7rgK\n",
      "{'custom_id': 'embeddings_batch_id-1724502952855841024', 'type': 'response', 'object': 'list', 'n_data': 2000}\n",
      "\n",
      "(28)13:50:23 - ---> i=11: file-zhoc5gFJdYc4SnptIO6sJUVB\n",
      "{'custom_id': 'embeddings_batch_id-1724501629462052096', 'type': 'response', 'object': 'list', 'n_data': 2000}\n",
      "\n",
      "(28)13:50:27 - ---> i=12: file-zeWLk55rfTfZWXOL50RAl0Im\n",
      "{'custom_id': 'embeddings_batch_id-1724502234305786880', 'type': 'input', 'input_type': <class 'list'>, 'n_input': 2000, 'n_input_0': 38}\n",
      "\n",
      "(28)13:50:28 - ---> i=13: file-zc6vbL8QSHUxa3VuDbSvoiTv\n",
      "{'custom_id': 'embeddings_batch_id-1724501475328359936', 'type': 'input', 'input_type': <class 'list'>, 'n_input': 2000, 'n_input_0': 286}\n",
      "\n",
      "(28)13:50:29 - ---> i=14: file-zWf5tMytsWnJPLpWhPOwzNbh\n",
      "{'custom_id': 'embeddings_batch_id-1724503089553540096', 'type': 'response', 'object': 'list', 'n_data': 2000}\n",
      "\n",
      "(28)13:50:33 - ---> i=15: file-zW8Xd7x3LdYSX2CVrHd8MO9t\n",
      "{'custom_id': 'embeddings_batch_id-1724503036182231040', 'type': 'response', 'object': 'list', 'n_data': 2000}\n",
      "\n",
      "(28)13:50:43 - ---> i=16: file-zVmCUjQQaUvCLu9hqNLADWZh\n",
      "{'custom_id': 'embeddings_batch_id-1724503114380962048', 'type': 'response', 'object': 'list', 'n_data': 2000}\n",
      "\n",
      "(28)13:50:47 - ---> i=17: file-zT79eGw2ZrQWcY810QVZxioE\n",
      "{'custom_id': 'embeddings_batch_id-1724502088515678976', 'type': 'input', 'input_type': <class 'list'>, 'n_input': 2000, 'n_input_0': 741}\n",
      "\n",
      "(28)13:50:48 - ---> i=18: file-zSj5jo3YNDy4YTllOUgIKOJW\n",
      "{'custom_id': 'embeddings_batch_id-1724502057156303104', 'type': 'response', 'object': 'list', 'n_data': 2000}\n",
      "\n",
      "(28)13:50:52 - ---> i=19: file-zSEOLATwxD29pBpTtMq02dFL\n",
      "{'custom_id': 'embeddings_batch_id-1724501469314263040', 'type': 'response', 'object': 'list', 'n_data': 2000}\n",
      "\n",
      "(28)13:51:03 - ---> i=20: file-zS0igH6JUz0TlG0Ozo5Siy5K\n",
      "{'custom_id': 'embeddings_batch_id-1724502084957635072', 'type': 'response', 'object': 'list', 'n_data': 2000}\n",
      "\n",
      "(28)13:51:07 - ---> i=21: file-zRhEu8zzG6Z9A98H5dQqIfvc\n",
      "{'custom_id': 'embeddings_batch_id-1724501172397957120', 'type': 'input', 'input_type': <class 'list'>, 'n_input': 2000, 'n_input_0': 1373}\n",
      "\n",
      "(28)13:51:08 - ---> i=22: file-zK6PZdUnNUSqHaLnQYJur6Ka\n",
      "{'custom_id': 'embeddings_batch_id-1724502837904307968', 'type': 'input', 'input_type': <class 'list'>, 'n_input': 2000, 'n_input_0': 3910}\n",
      "\n",
      "(28)13:51:10 - ---> i=23: file-zIDgGhJNnf115bTjctWRPUDz\n",
      "{'custom_id': 'embeddings_batch_id-1724503051505035008', 'type': 'input', 'input_type': <class 'list'>, 'n_input': 2000, 'n_input_0': 826}\n",
      "\n",
      "(28)13:51:12 - ---> i=24: file-zHaOyB8nJazbjpflss8KnuoO\n"
     ]
    },
    {
     "ename": "KeyboardInterrupt",
     "evalue": "",
     "output_type": "error",
     "traceback": [
      "\u001b[0;31m---------------------------------------------------------------------------\u001b[0m",
      "\u001b[0;31mKeyboardInterrupt\u001b[0m                         Traceback (most recent call last)",
      "Cell \u001b[0;32mIn[130], line 40\u001b[0m\n\u001b[1;32m     38\u001b[0m \u001b[38;5;28;01mfor\u001b[39;00m i, id_ \u001b[38;5;129;01min\u001b[39;00m \u001b[38;5;28menumerate\u001b[39m(\u001b[38;5;28msorted\u001b[39m(all_files_df\u001b[38;5;241m.\u001b[39mid\u001b[38;5;241m.\u001b[39mto_list()[\u001b[38;5;241m21\u001b[39m:], reverse\u001b[38;5;241m=\u001b[39m\u001b[38;5;28;01mTrue\u001b[39;00m)):\n\u001b[1;32m     39\u001b[0m     print_progress(\u001b[38;5;124mf\u001b[39m\u001b[38;5;124m\"\u001b[39m\u001b[38;5;124m---> \u001b[39m\u001b[38;5;132;01m{\u001b[39;00mi\u001b[38;5;132;01m=}\u001b[39;00m\u001b[38;5;124m: \u001b[39m\u001b[38;5;132;01m{\u001b[39;00mid_\u001b[38;5;132;01m}\u001b[39;00m\u001b[38;5;124m\"\u001b[39m)\n\u001b[0;32m---> 40\u001b[0m     jdict \u001b[38;5;241m=\u001b[39m \u001b[43mdacc\u001b[49m\u001b[38;5;241;43m.\u001b[39;49m\u001b[43ms\u001b[49m\u001b[38;5;241;43m.\u001b[39;49m\u001b[43mjson_files\u001b[49m\u001b[43m[\u001b[49m\u001b[43mid_\u001b[49m\u001b[43m]\u001b[49m\n\u001b[1;32m     41\u001b[0m     \u001b[38;5;28mprint\u001b[39m(json_info(jdict))\n\u001b[1;32m     42\u001b[0m     \u001b[38;5;28mprint\u001b[39m(\u001b[38;5;124m\"\u001b[39m\u001b[38;5;124m\"\u001b[39m)\n",
      "File \u001b[0;32m~/Dropbox/py/proj/i/dol/dol/base.py:617\u001b[0m, in \u001b[0;36mStore.__getitem__\u001b[0;34m(self, k)\u001b[0m\n\u001b[1;32m    615\u001b[0m _id \u001b[38;5;241m=\u001b[39m \u001b[38;5;28mself\u001b[39m\u001b[38;5;241m.\u001b[39m_id_of_key(k)\n\u001b[1;32m    616\u001b[0m \u001b[38;5;28;01mtry\u001b[39;00m:\n\u001b[0;32m--> 617\u001b[0m     data \u001b[38;5;241m=\u001b[39m \u001b[38;5;28;43mself\u001b[39;49m\u001b[38;5;241;43m.\u001b[39;49m\u001b[43mstore\u001b[49m\u001b[43m[\u001b[49m\u001b[43m_id\u001b[49m\u001b[43m]\u001b[49m\n\u001b[1;32m    618\u001b[0m \u001b[38;5;28;01mexcept\u001b[39;00m \u001b[38;5;28mself\u001b[39m\u001b[38;5;241m.\u001b[39m_errors_that_trigger_missing \u001b[38;5;28;01mas\u001b[39;00m error:\n\u001b[1;32m    619\u001b[0m     \u001b[38;5;28;01mif\u001b[39;00m \u001b[38;5;28mhasattr\u001b[39m(\u001b[38;5;28mself\u001b[39m, \u001b[38;5;124m'\u001b[39m\u001b[38;5;124m__missing__\u001b[39m\u001b[38;5;124m'\u001b[39m):\n",
      "File \u001b[0;32m~/Dropbox/py/proj/t/oa/oa/stores.py:135\u001b[0m, in \u001b[0;36mMappingHooks.__getitem__\u001b[0;34m(self, key)\u001b[0m\n\u001b[1;32m    134\u001b[0m \u001b[38;5;28;01mdef\u001b[39;00m \u001b[38;5;21m__getitem__\u001b[39m(\u001b[38;5;28mself\u001b[39m, key):\n\u001b[0;32m--> 135\u001b[0m     \u001b[38;5;28;01mreturn\u001b[39;00m \u001b[38;5;28;43mself\u001b[39;49m\u001b[38;5;241;43m.\u001b[39;49m\u001b[43m_getitem\u001b[49m\u001b[43m(\u001b[49m\u001b[43mkey\u001b[49m\u001b[43m)\u001b[49m\n",
      "File \u001b[0;32m~/Dropbox/py/proj/t/oa/oa/stores.py:118\u001b[0m, in \u001b[0;36mextract_id.<locals>._wrapped_method\u001b[0;34m(self, x, *args, **kwargs)\u001b[0m\n\u001b[1;32m    116\u001b[0m     \u001b[38;5;28;01melse\u001b[39;00m:\n\u001b[1;32m    117\u001b[0m         \u001b[38;5;28;01mraise\u001b[39;00m \u001b[38;5;167;01mValueError\u001b[39;00m(\u001b[38;5;124mf\u001b[39m\u001b[38;5;124m\"\u001b[39m\u001b[38;5;124mCan\u001b[39m\u001b[38;5;124m'\u001b[39m\u001b[38;5;124mt resolve id from \u001b[39m\u001b[38;5;132;01m{\u001b[39;00m\u001b[38;5;28mtype\u001b[39m(x)\u001b[38;5;132;01m}\u001b[39;00m\u001b[38;5;124m: \u001b[39m\u001b[38;5;132;01m{\u001b[39;00mx\u001b[38;5;132;01m}\u001b[39;00m\u001b[38;5;124m\"\u001b[39m)\n\u001b[0;32m--> 118\u001b[0m \u001b[38;5;28;01mreturn\u001b[39;00m \u001b[43mmethod\u001b[49m\u001b[43m(\u001b[49m\u001b[38;5;28;43mself\u001b[39;49m\u001b[43m,\u001b[49m\u001b[43m \u001b[49m\u001b[43mx\u001b[49m\u001b[43m,\u001b[49m\u001b[43m \u001b[49m\u001b[38;5;241;43m*\u001b[39;49m\u001b[43margs\u001b[49m\u001b[43m,\u001b[49m\u001b[43m \u001b[49m\u001b[38;5;241;43m*\u001b[39;49m\u001b[38;5;241;43m*\u001b[39;49m\u001b[43mkwargs\u001b[49m\u001b[43m)\u001b[49m\n",
      "File \u001b[0;32m~/Dropbox/py/proj/t/oa/oa/stores.py:215\u001b[0m, in \u001b[0;36mOaFilesBase.content\u001b[0;34m(self, file_id)\u001b[0m\n\u001b[1;32m    213\u001b[0m \u001b[38;5;129m@extract_id\u001b[39m\n\u001b[1;32m    214\u001b[0m \u001b[38;5;28;01mdef\u001b[39;00m \u001b[38;5;21mcontent\u001b[39m(\u001b[38;5;28mself\u001b[39m, file_id):\n\u001b[0;32m--> 215\u001b[0m     \u001b[38;5;28;01mreturn\u001b[39;00m \u001b[38;5;28;43mself\u001b[39;49m\u001b[38;5;241;43m.\u001b[39;49m\u001b[43mclient\u001b[49m\u001b[38;5;241;43m.\u001b[39;49m\u001b[43mfiles\u001b[49m\u001b[38;5;241;43m.\u001b[39;49m\u001b[43mcontent\u001b[49m\u001b[43m(\u001b[49m\u001b[43mfile_id\u001b[49m\u001b[43m,\u001b[49m\u001b[43m \u001b[49m\u001b[38;5;241;43m*\u001b[39;49m\u001b[38;5;241;43m*\u001b[39;49m\u001b[38;5;28;43mself\u001b[39;49m\u001b[38;5;241;43m.\u001b[39;49m\u001b[43mextra_kwargs\u001b[49m\u001b[43m)\u001b[49m\n",
      "File \u001b[0;32m~/.pyenv/versions/3.10.13/envs/p10/lib/python3.10/site-packages/openai/resources/files.py:258\u001b[0m, in \u001b[0;36mFiles.content\u001b[0;34m(self, file_id, extra_headers, extra_query, extra_body, timeout)\u001b[0m\n\u001b[1;32m    256\u001b[0m     \u001b[38;5;28;01mraise\u001b[39;00m \u001b[38;5;167;01mValueError\u001b[39;00m(\u001b[38;5;124mf\u001b[39m\u001b[38;5;124m\"\u001b[39m\u001b[38;5;124mExpected a non-empty value for `file_id` but received \u001b[39m\u001b[38;5;132;01m{\u001b[39;00mfile_id\u001b[38;5;132;01m!r}\u001b[39;00m\u001b[38;5;124m\"\u001b[39m)\n\u001b[1;32m    257\u001b[0m extra_headers \u001b[38;5;241m=\u001b[39m {\u001b[38;5;124m\"\u001b[39m\u001b[38;5;124mAccept\u001b[39m\u001b[38;5;124m\"\u001b[39m: \u001b[38;5;124m\"\u001b[39m\u001b[38;5;124mapplication/binary\u001b[39m\u001b[38;5;124m\"\u001b[39m, \u001b[38;5;241m*\u001b[39m\u001b[38;5;241m*\u001b[39m(extra_headers \u001b[38;5;129;01mor\u001b[39;00m {})}\n\u001b[0;32m--> 258\u001b[0m \u001b[38;5;28;01mreturn\u001b[39;00m \u001b[38;5;28;43mself\u001b[39;49m\u001b[38;5;241;43m.\u001b[39;49m\u001b[43m_get\u001b[49m\u001b[43m(\u001b[49m\n\u001b[1;32m    259\u001b[0m \u001b[43m    \u001b[49m\u001b[38;5;124;43mf\u001b[39;49m\u001b[38;5;124;43m\"\u001b[39;49m\u001b[38;5;124;43m/files/\u001b[39;49m\u001b[38;5;132;43;01m{\u001b[39;49;00m\u001b[43mfile_id\u001b[49m\u001b[38;5;132;43;01m}\u001b[39;49;00m\u001b[38;5;124;43m/content\u001b[39;49m\u001b[38;5;124;43m\"\u001b[39;49m\u001b[43m,\u001b[49m\n\u001b[1;32m    260\u001b[0m \u001b[43m    \u001b[49m\u001b[43moptions\u001b[49m\u001b[38;5;241;43m=\u001b[39;49m\u001b[43mmake_request_options\u001b[49m\u001b[43m(\u001b[49m\n\u001b[1;32m    261\u001b[0m \u001b[43m        \u001b[49m\u001b[43mextra_headers\u001b[49m\u001b[38;5;241;43m=\u001b[39;49m\u001b[43mextra_headers\u001b[49m\u001b[43m,\u001b[49m\u001b[43m \u001b[49m\u001b[43mextra_query\u001b[49m\u001b[38;5;241;43m=\u001b[39;49m\u001b[43mextra_query\u001b[49m\u001b[43m,\u001b[49m\u001b[43m \u001b[49m\u001b[43mextra_body\u001b[49m\u001b[38;5;241;43m=\u001b[39;49m\u001b[43mextra_body\u001b[49m\u001b[43m,\u001b[49m\u001b[43m \u001b[49m\u001b[43mtimeout\u001b[49m\u001b[38;5;241;43m=\u001b[39;49m\u001b[43mtimeout\u001b[49m\n\u001b[1;32m    262\u001b[0m \u001b[43m    \u001b[49m\u001b[43m)\u001b[49m\u001b[43m,\u001b[49m\n\u001b[1;32m    263\u001b[0m \u001b[43m    \u001b[49m\u001b[43mcast_to\u001b[49m\u001b[38;5;241;43m=\u001b[39;49m\u001b[43m_legacy_response\u001b[49m\u001b[38;5;241;43m.\u001b[39;49m\u001b[43mHttpxBinaryResponseContent\u001b[49m\u001b[43m,\u001b[49m\n\u001b[1;32m    264\u001b[0m \u001b[43m\u001b[49m\u001b[43m)\u001b[49m\n",
      "File \u001b[0;32m~/.pyenv/versions/3.10.13/envs/p10/lib/python3.10/site-packages/openai/_base_client.py:1206\u001b[0m, in \u001b[0;36mSyncAPIClient.get\u001b[0;34m(self, path, cast_to, options, stream, stream_cls)\u001b[0m\n\u001b[1;32m   1203\u001b[0m opts \u001b[38;5;241m=\u001b[39m FinalRequestOptions\u001b[38;5;241m.\u001b[39mconstruct(method\u001b[38;5;241m=\u001b[39m\u001b[38;5;124m\"\u001b[39m\u001b[38;5;124mget\u001b[39m\u001b[38;5;124m\"\u001b[39m, url\u001b[38;5;241m=\u001b[39mpath, \u001b[38;5;241m*\u001b[39m\u001b[38;5;241m*\u001b[39moptions)\n\u001b[1;32m   1204\u001b[0m \u001b[38;5;66;03m# cast is required because mypy complains about returning Any even though\u001b[39;00m\n\u001b[1;32m   1205\u001b[0m \u001b[38;5;66;03m# it understands the type variables\u001b[39;00m\n\u001b[0;32m-> 1206\u001b[0m \u001b[38;5;28;01mreturn\u001b[39;00m cast(ResponseT, \u001b[38;5;28;43mself\u001b[39;49m\u001b[38;5;241;43m.\u001b[39;49m\u001b[43mrequest\u001b[49m\u001b[43m(\u001b[49m\u001b[43mcast_to\u001b[49m\u001b[43m,\u001b[49m\u001b[43m \u001b[49m\u001b[43mopts\u001b[49m\u001b[43m,\u001b[49m\u001b[43m \u001b[49m\u001b[43mstream\u001b[49m\u001b[38;5;241;43m=\u001b[39;49m\u001b[43mstream\u001b[49m\u001b[43m,\u001b[49m\u001b[43m \u001b[49m\u001b[43mstream_cls\u001b[49m\u001b[38;5;241;43m=\u001b[39;49m\u001b[43mstream_cls\u001b[49m\u001b[43m)\u001b[49m)\n",
      "File \u001b[0;32m~/.pyenv/versions/3.10.13/envs/p10/lib/python3.10/site-packages/openai/_base_client.py:937\u001b[0m, in \u001b[0;36mSyncAPIClient.request\u001b[0;34m(self, cast_to, options, remaining_retries, stream, stream_cls)\u001b[0m\n\u001b[1;32m    928\u001b[0m \u001b[38;5;28;01mdef\u001b[39;00m \u001b[38;5;21mrequest\u001b[39m(\n\u001b[1;32m    929\u001b[0m     \u001b[38;5;28mself\u001b[39m,\n\u001b[1;32m    930\u001b[0m     cast_to: Type[ResponseT],\n\u001b[0;32m   (...)\u001b[0m\n\u001b[1;32m    935\u001b[0m     stream_cls: \u001b[38;5;28mtype\u001b[39m[_StreamT] \u001b[38;5;241m|\u001b[39m \u001b[38;5;28;01mNone\u001b[39;00m \u001b[38;5;241m=\u001b[39m \u001b[38;5;28;01mNone\u001b[39;00m,\n\u001b[1;32m    936\u001b[0m ) \u001b[38;5;241m-\u001b[39m\u001b[38;5;241m>\u001b[39m ResponseT \u001b[38;5;241m|\u001b[39m _StreamT:\n\u001b[0;32m--> 937\u001b[0m     \u001b[38;5;28;01mreturn\u001b[39;00m \u001b[38;5;28;43mself\u001b[39;49m\u001b[38;5;241;43m.\u001b[39;49m\u001b[43m_request\u001b[49m\u001b[43m(\u001b[49m\n\u001b[1;32m    938\u001b[0m \u001b[43m        \u001b[49m\u001b[43mcast_to\u001b[49m\u001b[38;5;241;43m=\u001b[39;49m\u001b[43mcast_to\u001b[49m\u001b[43m,\u001b[49m\n\u001b[1;32m    939\u001b[0m \u001b[43m        \u001b[49m\u001b[43moptions\u001b[49m\u001b[38;5;241;43m=\u001b[39;49m\u001b[43moptions\u001b[49m\u001b[43m,\u001b[49m\n\u001b[1;32m    940\u001b[0m \u001b[43m        \u001b[49m\u001b[43mstream\u001b[49m\u001b[38;5;241;43m=\u001b[39;49m\u001b[43mstream\u001b[49m\u001b[43m,\u001b[49m\n\u001b[1;32m    941\u001b[0m \u001b[43m        \u001b[49m\u001b[43mstream_cls\u001b[49m\u001b[38;5;241;43m=\u001b[39;49m\u001b[43mstream_cls\u001b[49m\u001b[43m,\u001b[49m\n\u001b[1;32m    942\u001b[0m \u001b[43m        \u001b[49m\u001b[43mremaining_retries\u001b[49m\u001b[38;5;241;43m=\u001b[39;49m\u001b[43mremaining_retries\u001b[49m\u001b[43m,\u001b[49m\n\u001b[1;32m    943\u001b[0m \u001b[43m    \u001b[49m\u001b[43m)\u001b[49m\n",
      "File \u001b[0;32m~/.pyenv/versions/3.10.13/envs/p10/lib/python3.10/site-packages/openai/_base_client.py:973\u001b[0m, in \u001b[0;36mSyncAPIClient._request\u001b[0;34m(self, cast_to, options, remaining_retries, stream, stream_cls)\u001b[0m\n\u001b[1;32m    970\u001b[0m log\u001b[38;5;241m.\u001b[39mdebug(\u001b[38;5;124m\"\u001b[39m\u001b[38;5;124mSending HTTP Request: \u001b[39m\u001b[38;5;132;01m%s\u001b[39;00m\u001b[38;5;124m \u001b[39m\u001b[38;5;132;01m%s\u001b[39;00m\u001b[38;5;124m\"\u001b[39m, request\u001b[38;5;241m.\u001b[39mmethod, request\u001b[38;5;241m.\u001b[39murl)\n\u001b[1;32m    972\u001b[0m \u001b[38;5;28;01mtry\u001b[39;00m:\n\u001b[0;32m--> 973\u001b[0m     response \u001b[38;5;241m=\u001b[39m \u001b[38;5;28;43mself\u001b[39;49m\u001b[38;5;241;43m.\u001b[39;49m\u001b[43m_client\u001b[49m\u001b[38;5;241;43m.\u001b[39;49m\u001b[43msend\u001b[49m\u001b[43m(\u001b[49m\n\u001b[1;32m    974\u001b[0m \u001b[43m        \u001b[49m\u001b[43mrequest\u001b[49m\u001b[43m,\u001b[49m\n\u001b[1;32m    975\u001b[0m \u001b[43m        \u001b[49m\u001b[43mstream\u001b[49m\u001b[38;5;241;43m=\u001b[39;49m\u001b[43mstream\u001b[49m\u001b[43m \u001b[49m\u001b[38;5;129;43;01mor\u001b[39;49;00m\u001b[43m \u001b[49m\u001b[38;5;28;43mself\u001b[39;49m\u001b[38;5;241;43m.\u001b[39;49m\u001b[43m_should_stream_response_body\u001b[49m\u001b[43m(\u001b[49m\u001b[43mrequest\u001b[49m\u001b[38;5;241;43m=\u001b[39;49m\u001b[43mrequest\u001b[49m\u001b[43m)\u001b[49m\u001b[43m,\u001b[49m\n\u001b[1;32m    976\u001b[0m \u001b[43m        \u001b[49m\u001b[38;5;241;43m*\u001b[39;49m\u001b[38;5;241;43m*\u001b[39;49m\u001b[43mkwargs\u001b[49m\u001b[43m,\u001b[49m\n\u001b[1;32m    977\u001b[0m \u001b[43m    \u001b[49m\u001b[43m)\u001b[49m\n\u001b[1;32m    978\u001b[0m \u001b[38;5;28;01mexcept\u001b[39;00m httpx\u001b[38;5;241m.\u001b[39mTimeoutException \u001b[38;5;28;01mas\u001b[39;00m err:\n\u001b[1;32m    979\u001b[0m     log\u001b[38;5;241m.\u001b[39mdebug(\u001b[38;5;124m\"\u001b[39m\u001b[38;5;124mEncountered httpx.TimeoutException\u001b[39m\u001b[38;5;124m\"\u001b[39m, exc_info\u001b[38;5;241m=\u001b[39m\u001b[38;5;28;01mTrue\u001b[39;00m)\n",
      "File \u001b[0;32m~/.pyenv/versions/3.10.13/envs/p10/lib/python3.10/site-packages/httpx/_client.py:915\u001b[0m, in \u001b[0;36mClient.send\u001b[0;34m(self, request, stream, auth, follow_redirects)\u001b[0m\n\u001b[1;32m    907\u001b[0m follow_redirects \u001b[38;5;241m=\u001b[39m (\n\u001b[1;32m    908\u001b[0m     \u001b[38;5;28mself\u001b[39m\u001b[38;5;241m.\u001b[39mfollow_redirects\n\u001b[1;32m    909\u001b[0m     \u001b[38;5;28;01mif\u001b[39;00m \u001b[38;5;28misinstance\u001b[39m(follow_redirects, UseClientDefault)\n\u001b[1;32m    910\u001b[0m     \u001b[38;5;28;01melse\u001b[39;00m follow_redirects\n\u001b[1;32m    911\u001b[0m )\n\u001b[1;32m    913\u001b[0m auth \u001b[38;5;241m=\u001b[39m \u001b[38;5;28mself\u001b[39m\u001b[38;5;241m.\u001b[39m_build_request_auth(request, auth)\n\u001b[0;32m--> 915\u001b[0m response \u001b[38;5;241m=\u001b[39m \u001b[38;5;28;43mself\u001b[39;49m\u001b[38;5;241;43m.\u001b[39;49m\u001b[43m_send_handling_auth\u001b[49m\u001b[43m(\u001b[49m\n\u001b[1;32m    916\u001b[0m \u001b[43m    \u001b[49m\u001b[43mrequest\u001b[49m\u001b[43m,\u001b[49m\n\u001b[1;32m    917\u001b[0m \u001b[43m    \u001b[49m\u001b[43mauth\u001b[49m\u001b[38;5;241;43m=\u001b[39;49m\u001b[43mauth\u001b[49m\u001b[43m,\u001b[49m\n\u001b[1;32m    918\u001b[0m \u001b[43m    \u001b[49m\u001b[43mfollow_redirects\u001b[49m\u001b[38;5;241;43m=\u001b[39;49m\u001b[43mfollow_redirects\u001b[49m\u001b[43m,\u001b[49m\n\u001b[1;32m    919\u001b[0m \u001b[43m    \u001b[49m\u001b[43mhistory\u001b[49m\u001b[38;5;241;43m=\u001b[39;49m\u001b[43m[\u001b[49m\u001b[43m]\u001b[49m\u001b[43m,\u001b[49m\n\u001b[1;32m    920\u001b[0m \u001b[43m\u001b[49m\u001b[43m)\u001b[49m\n\u001b[1;32m    921\u001b[0m \u001b[38;5;28;01mtry\u001b[39;00m:\n\u001b[1;32m    922\u001b[0m     \u001b[38;5;28;01mif\u001b[39;00m \u001b[38;5;129;01mnot\u001b[39;00m stream:\n",
      "File \u001b[0;32m~/.pyenv/versions/3.10.13/envs/p10/lib/python3.10/site-packages/httpx/_client.py:943\u001b[0m, in \u001b[0;36mClient._send_handling_auth\u001b[0;34m(self, request, auth, follow_redirects, history)\u001b[0m\n\u001b[1;32m    940\u001b[0m request \u001b[38;5;241m=\u001b[39m \u001b[38;5;28mnext\u001b[39m(auth_flow)\n\u001b[1;32m    942\u001b[0m \u001b[38;5;28;01mwhile\u001b[39;00m \u001b[38;5;28;01mTrue\u001b[39;00m:\n\u001b[0;32m--> 943\u001b[0m     response \u001b[38;5;241m=\u001b[39m \u001b[38;5;28;43mself\u001b[39;49m\u001b[38;5;241;43m.\u001b[39;49m\u001b[43m_send_handling_redirects\u001b[49m\u001b[43m(\u001b[49m\n\u001b[1;32m    944\u001b[0m \u001b[43m        \u001b[49m\u001b[43mrequest\u001b[49m\u001b[43m,\u001b[49m\n\u001b[1;32m    945\u001b[0m \u001b[43m        \u001b[49m\u001b[43mfollow_redirects\u001b[49m\u001b[38;5;241;43m=\u001b[39;49m\u001b[43mfollow_redirects\u001b[49m\u001b[43m,\u001b[49m\n\u001b[1;32m    946\u001b[0m \u001b[43m        \u001b[49m\u001b[43mhistory\u001b[49m\u001b[38;5;241;43m=\u001b[39;49m\u001b[43mhistory\u001b[49m\u001b[43m,\u001b[49m\n\u001b[1;32m    947\u001b[0m \u001b[43m    \u001b[49m\u001b[43m)\u001b[49m\n\u001b[1;32m    948\u001b[0m     \u001b[38;5;28;01mtry\u001b[39;00m:\n\u001b[1;32m    949\u001b[0m         \u001b[38;5;28;01mtry\u001b[39;00m:\n",
      "File \u001b[0;32m~/.pyenv/versions/3.10.13/envs/p10/lib/python3.10/site-packages/httpx/_client.py:980\u001b[0m, in \u001b[0;36mClient._send_handling_redirects\u001b[0;34m(self, request, follow_redirects, history)\u001b[0m\n\u001b[1;32m    977\u001b[0m \u001b[38;5;28;01mfor\u001b[39;00m hook \u001b[38;5;129;01min\u001b[39;00m \u001b[38;5;28mself\u001b[39m\u001b[38;5;241m.\u001b[39m_event_hooks[\u001b[38;5;124m\"\u001b[39m\u001b[38;5;124mrequest\u001b[39m\u001b[38;5;124m\"\u001b[39m]:\n\u001b[1;32m    978\u001b[0m     hook(request)\n\u001b[0;32m--> 980\u001b[0m response \u001b[38;5;241m=\u001b[39m \u001b[38;5;28;43mself\u001b[39;49m\u001b[38;5;241;43m.\u001b[39;49m\u001b[43m_send_single_request\u001b[49m\u001b[43m(\u001b[49m\u001b[43mrequest\u001b[49m\u001b[43m)\u001b[49m\n\u001b[1;32m    981\u001b[0m \u001b[38;5;28;01mtry\u001b[39;00m:\n\u001b[1;32m    982\u001b[0m     \u001b[38;5;28;01mfor\u001b[39;00m hook \u001b[38;5;129;01min\u001b[39;00m \u001b[38;5;28mself\u001b[39m\u001b[38;5;241m.\u001b[39m_event_hooks[\u001b[38;5;124m\"\u001b[39m\u001b[38;5;124mresponse\u001b[39m\u001b[38;5;124m\"\u001b[39m]:\n",
      "File \u001b[0;32m~/.pyenv/versions/3.10.13/envs/p10/lib/python3.10/site-packages/httpx/_client.py:1016\u001b[0m, in \u001b[0;36mClient._send_single_request\u001b[0;34m(self, request)\u001b[0m\n\u001b[1;32m   1011\u001b[0m     \u001b[38;5;28;01mraise\u001b[39;00m \u001b[38;5;167;01mRuntimeError\u001b[39;00m(\n\u001b[1;32m   1012\u001b[0m         \u001b[38;5;124m\"\u001b[39m\u001b[38;5;124mAttempted to send an async request with a sync Client instance.\u001b[39m\u001b[38;5;124m\"\u001b[39m\n\u001b[1;32m   1013\u001b[0m     )\n\u001b[1;32m   1015\u001b[0m \u001b[38;5;28;01mwith\u001b[39;00m request_context(request\u001b[38;5;241m=\u001b[39mrequest):\n\u001b[0;32m-> 1016\u001b[0m     response \u001b[38;5;241m=\u001b[39m \u001b[43mtransport\u001b[49m\u001b[38;5;241;43m.\u001b[39;49m\u001b[43mhandle_request\u001b[49m\u001b[43m(\u001b[49m\u001b[43mrequest\u001b[49m\u001b[43m)\u001b[49m\n\u001b[1;32m   1018\u001b[0m \u001b[38;5;28;01massert\u001b[39;00m \u001b[38;5;28misinstance\u001b[39m(response\u001b[38;5;241m.\u001b[39mstream, SyncByteStream)\n\u001b[1;32m   1020\u001b[0m response\u001b[38;5;241m.\u001b[39mrequest \u001b[38;5;241m=\u001b[39m request\n",
      "File \u001b[0;32m~/.pyenv/versions/3.10.13/envs/p10/lib/python3.10/site-packages/httpx/_transports/default.py:231\u001b[0m, in \u001b[0;36mHTTPTransport.handle_request\u001b[0;34m(self, request)\u001b[0m\n\u001b[1;32m    218\u001b[0m req \u001b[38;5;241m=\u001b[39m httpcore\u001b[38;5;241m.\u001b[39mRequest(\n\u001b[1;32m    219\u001b[0m     method\u001b[38;5;241m=\u001b[39mrequest\u001b[38;5;241m.\u001b[39mmethod,\n\u001b[1;32m    220\u001b[0m     url\u001b[38;5;241m=\u001b[39mhttpcore\u001b[38;5;241m.\u001b[39mURL(\n\u001b[0;32m   (...)\u001b[0m\n\u001b[1;32m    228\u001b[0m     extensions\u001b[38;5;241m=\u001b[39mrequest\u001b[38;5;241m.\u001b[39mextensions,\n\u001b[1;32m    229\u001b[0m )\n\u001b[1;32m    230\u001b[0m \u001b[38;5;28;01mwith\u001b[39;00m map_httpcore_exceptions():\n\u001b[0;32m--> 231\u001b[0m     resp \u001b[38;5;241m=\u001b[39m \u001b[38;5;28;43mself\u001b[39;49m\u001b[38;5;241;43m.\u001b[39;49m\u001b[43m_pool\u001b[49m\u001b[38;5;241;43m.\u001b[39;49m\u001b[43mhandle_request\u001b[49m\u001b[43m(\u001b[49m\u001b[43mreq\u001b[49m\u001b[43m)\u001b[49m\n\u001b[1;32m    233\u001b[0m \u001b[38;5;28;01massert\u001b[39;00m \u001b[38;5;28misinstance\u001b[39m(resp\u001b[38;5;241m.\u001b[39mstream, typing\u001b[38;5;241m.\u001b[39mIterable)\n\u001b[1;32m    235\u001b[0m \u001b[38;5;28;01mreturn\u001b[39;00m Response(\n\u001b[1;32m    236\u001b[0m     status_code\u001b[38;5;241m=\u001b[39mresp\u001b[38;5;241m.\u001b[39mstatus,\n\u001b[1;32m    237\u001b[0m     headers\u001b[38;5;241m=\u001b[39mresp\u001b[38;5;241m.\u001b[39mheaders,\n\u001b[1;32m    238\u001b[0m     stream\u001b[38;5;241m=\u001b[39mResponseStream(resp\u001b[38;5;241m.\u001b[39mstream),\n\u001b[1;32m    239\u001b[0m     extensions\u001b[38;5;241m=\u001b[39mresp\u001b[38;5;241m.\u001b[39mextensions,\n\u001b[1;32m    240\u001b[0m )\n",
      "File \u001b[0;32m~/.pyenv/versions/3.10.13/envs/p10/lib/python3.10/site-packages/httpcore/_sync/connection_pool.py:268\u001b[0m, in \u001b[0;36mConnectionPool.handle_request\u001b[0;34m(self, request)\u001b[0m\n\u001b[1;32m    266\u001b[0m     \u001b[38;5;28;01mwith\u001b[39;00m ShieldCancellation():\n\u001b[1;32m    267\u001b[0m         \u001b[38;5;28mself\u001b[39m\u001b[38;5;241m.\u001b[39mresponse_closed(status)\n\u001b[0;32m--> 268\u001b[0m     \u001b[38;5;28;01mraise\u001b[39;00m exc\n\u001b[1;32m    269\u001b[0m \u001b[38;5;28;01melse\u001b[39;00m:\n\u001b[1;32m    270\u001b[0m     \u001b[38;5;28;01mbreak\u001b[39;00m\n",
      "File \u001b[0;32m~/.pyenv/versions/3.10.13/envs/p10/lib/python3.10/site-packages/httpcore/_sync/connection_pool.py:251\u001b[0m, in \u001b[0;36mConnectionPool.handle_request\u001b[0;34m(self, request)\u001b[0m\n\u001b[1;32m    248\u001b[0m         \u001b[38;5;28;01mraise\u001b[39;00m exc\n\u001b[1;32m    250\u001b[0m \u001b[38;5;28;01mtry\u001b[39;00m:\n\u001b[0;32m--> 251\u001b[0m     response \u001b[38;5;241m=\u001b[39m \u001b[43mconnection\u001b[49m\u001b[38;5;241;43m.\u001b[39;49m\u001b[43mhandle_request\u001b[49m\u001b[43m(\u001b[49m\u001b[43mrequest\u001b[49m\u001b[43m)\u001b[49m\n\u001b[1;32m    252\u001b[0m \u001b[38;5;28;01mexcept\u001b[39;00m ConnectionNotAvailable:\n\u001b[1;32m    253\u001b[0m     \u001b[38;5;66;03m# The ConnectionNotAvailable exception is a special case, that\u001b[39;00m\n\u001b[1;32m    254\u001b[0m     \u001b[38;5;66;03m# indicates we need to retry the request on a new connection.\u001b[39;00m\n\u001b[0;32m   (...)\u001b[0m\n\u001b[1;32m    258\u001b[0m     \u001b[38;5;66;03m# might end up as an HTTP/2 connection, but which actually ends\u001b[39;00m\n\u001b[1;32m    259\u001b[0m     \u001b[38;5;66;03m# up as HTTP/1.1.\u001b[39;00m\n\u001b[1;32m    260\u001b[0m     \u001b[38;5;28;01mwith\u001b[39;00m \u001b[38;5;28mself\u001b[39m\u001b[38;5;241m.\u001b[39m_pool_lock:\n\u001b[1;32m    261\u001b[0m         \u001b[38;5;66;03m# Maintain our position in the request queue, but reset the\u001b[39;00m\n\u001b[1;32m    262\u001b[0m         \u001b[38;5;66;03m# status so that the request becomes queued again.\u001b[39;00m\n",
      "File \u001b[0;32m~/.pyenv/versions/3.10.13/envs/p10/lib/python3.10/site-packages/httpcore/_sync/connection.py:103\u001b[0m, in \u001b[0;36mHTTPConnection.handle_request\u001b[0;34m(self, request)\u001b[0m\n\u001b[1;32m    100\u001b[0m     \u001b[38;5;28;01melif\u001b[39;00m \u001b[38;5;129;01mnot\u001b[39;00m \u001b[38;5;28mself\u001b[39m\u001b[38;5;241m.\u001b[39m_connection\u001b[38;5;241m.\u001b[39mis_available():\n\u001b[1;32m    101\u001b[0m         \u001b[38;5;28;01mraise\u001b[39;00m ConnectionNotAvailable()\n\u001b[0;32m--> 103\u001b[0m \u001b[38;5;28;01mreturn\u001b[39;00m \u001b[38;5;28;43mself\u001b[39;49m\u001b[38;5;241;43m.\u001b[39;49m\u001b[43m_connection\u001b[49m\u001b[38;5;241;43m.\u001b[39;49m\u001b[43mhandle_request\u001b[49m\u001b[43m(\u001b[49m\u001b[43mrequest\u001b[49m\u001b[43m)\u001b[49m\n",
      "File \u001b[0;32m~/.pyenv/versions/3.10.13/envs/p10/lib/python3.10/site-packages/httpcore/_sync/http11.py:133\u001b[0m, in \u001b[0;36mHTTP11Connection.handle_request\u001b[0;34m(self, request)\u001b[0m\n\u001b[1;32m    131\u001b[0m     \u001b[38;5;28;01mwith\u001b[39;00m Trace(\u001b[38;5;124m\"\u001b[39m\u001b[38;5;124mresponse_closed\u001b[39m\u001b[38;5;124m\"\u001b[39m, logger, request) \u001b[38;5;28;01mas\u001b[39;00m trace:\n\u001b[1;32m    132\u001b[0m         \u001b[38;5;28mself\u001b[39m\u001b[38;5;241m.\u001b[39m_response_closed()\n\u001b[0;32m--> 133\u001b[0m \u001b[38;5;28;01mraise\u001b[39;00m exc\n",
      "File \u001b[0;32m~/.pyenv/versions/3.10.13/envs/p10/lib/python3.10/site-packages/httpcore/_sync/http11.py:111\u001b[0m, in \u001b[0;36mHTTP11Connection.handle_request\u001b[0;34m(self, request)\u001b[0m\n\u001b[1;32m    101\u001b[0m     \u001b[38;5;28;01mpass\u001b[39;00m\n\u001b[1;32m    103\u001b[0m \u001b[38;5;28;01mwith\u001b[39;00m Trace(\n\u001b[1;32m    104\u001b[0m     \u001b[38;5;124m\"\u001b[39m\u001b[38;5;124mreceive_response_headers\u001b[39m\u001b[38;5;124m\"\u001b[39m, logger, request, kwargs\n\u001b[1;32m    105\u001b[0m ) \u001b[38;5;28;01mas\u001b[39;00m trace:\n\u001b[1;32m    106\u001b[0m     (\n\u001b[1;32m    107\u001b[0m         http_version,\n\u001b[1;32m    108\u001b[0m         status,\n\u001b[1;32m    109\u001b[0m         reason_phrase,\n\u001b[1;32m    110\u001b[0m         headers,\n\u001b[0;32m--> 111\u001b[0m     ) \u001b[38;5;241m=\u001b[39m \u001b[38;5;28;43mself\u001b[39;49m\u001b[38;5;241;43m.\u001b[39;49m\u001b[43m_receive_response_headers\u001b[49m\u001b[43m(\u001b[49m\u001b[38;5;241;43m*\u001b[39;49m\u001b[38;5;241;43m*\u001b[39;49m\u001b[43mkwargs\u001b[49m\u001b[43m)\u001b[49m\n\u001b[1;32m    112\u001b[0m     trace\u001b[38;5;241m.\u001b[39mreturn_value \u001b[38;5;241m=\u001b[39m (\n\u001b[1;32m    113\u001b[0m         http_version,\n\u001b[1;32m    114\u001b[0m         status,\n\u001b[1;32m    115\u001b[0m         reason_phrase,\n\u001b[1;32m    116\u001b[0m         headers,\n\u001b[1;32m    117\u001b[0m     )\n\u001b[1;32m    119\u001b[0m \u001b[38;5;28;01mreturn\u001b[39;00m Response(\n\u001b[1;32m    120\u001b[0m     status\u001b[38;5;241m=\u001b[39mstatus,\n\u001b[1;32m    121\u001b[0m     headers\u001b[38;5;241m=\u001b[39mheaders,\n\u001b[0;32m   (...)\u001b[0m\n\u001b[1;32m    127\u001b[0m     },\n\u001b[1;32m    128\u001b[0m )\n",
      "File \u001b[0;32m~/.pyenv/versions/3.10.13/envs/p10/lib/python3.10/site-packages/httpcore/_sync/http11.py:176\u001b[0m, in \u001b[0;36mHTTP11Connection._receive_response_headers\u001b[0;34m(self, request)\u001b[0m\n\u001b[1;32m    173\u001b[0m timeout \u001b[38;5;241m=\u001b[39m timeouts\u001b[38;5;241m.\u001b[39mget(\u001b[38;5;124m\"\u001b[39m\u001b[38;5;124mread\u001b[39m\u001b[38;5;124m\"\u001b[39m, \u001b[38;5;28;01mNone\u001b[39;00m)\n\u001b[1;32m    175\u001b[0m \u001b[38;5;28;01mwhile\u001b[39;00m \u001b[38;5;28;01mTrue\u001b[39;00m:\n\u001b[0;32m--> 176\u001b[0m     event \u001b[38;5;241m=\u001b[39m \u001b[38;5;28;43mself\u001b[39;49m\u001b[38;5;241;43m.\u001b[39;49m\u001b[43m_receive_event\u001b[49m\u001b[43m(\u001b[49m\u001b[43mtimeout\u001b[49m\u001b[38;5;241;43m=\u001b[39;49m\u001b[43mtimeout\u001b[49m\u001b[43m)\u001b[49m\n\u001b[1;32m    177\u001b[0m     \u001b[38;5;28;01mif\u001b[39;00m \u001b[38;5;28misinstance\u001b[39m(event, h11\u001b[38;5;241m.\u001b[39mResponse):\n\u001b[1;32m    178\u001b[0m         \u001b[38;5;28;01mbreak\u001b[39;00m\n",
      "File \u001b[0;32m~/.pyenv/versions/3.10.13/envs/p10/lib/python3.10/site-packages/httpcore/_sync/http11.py:212\u001b[0m, in \u001b[0;36mHTTP11Connection._receive_event\u001b[0;34m(self, timeout)\u001b[0m\n\u001b[1;32m    209\u001b[0m     event \u001b[38;5;241m=\u001b[39m \u001b[38;5;28mself\u001b[39m\u001b[38;5;241m.\u001b[39m_h11_state\u001b[38;5;241m.\u001b[39mnext_event()\n\u001b[1;32m    211\u001b[0m \u001b[38;5;28;01mif\u001b[39;00m event \u001b[38;5;129;01mis\u001b[39;00m h11\u001b[38;5;241m.\u001b[39mNEED_DATA:\n\u001b[0;32m--> 212\u001b[0m     data \u001b[38;5;241m=\u001b[39m \u001b[38;5;28;43mself\u001b[39;49m\u001b[38;5;241;43m.\u001b[39;49m\u001b[43m_network_stream\u001b[49m\u001b[38;5;241;43m.\u001b[39;49m\u001b[43mread\u001b[49m\u001b[43m(\u001b[49m\n\u001b[1;32m    213\u001b[0m \u001b[43m        \u001b[49m\u001b[38;5;28;43mself\u001b[39;49m\u001b[38;5;241;43m.\u001b[39;49m\u001b[43mREAD_NUM_BYTES\u001b[49m\u001b[43m,\u001b[49m\u001b[43m \u001b[49m\u001b[43mtimeout\u001b[49m\u001b[38;5;241;43m=\u001b[39;49m\u001b[43mtimeout\u001b[49m\n\u001b[1;32m    214\u001b[0m \u001b[43m    \u001b[49m\u001b[43m)\u001b[49m\n\u001b[1;32m    216\u001b[0m     \u001b[38;5;66;03m# If we feed this case through h11 we'll raise an exception like:\u001b[39;00m\n\u001b[1;32m    217\u001b[0m     \u001b[38;5;66;03m#\u001b[39;00m\n\u001b[1;32m    218\u001b[0m     \u001b[38;5;66;03m#     httpcore.RemoteProtocolError: can't handle event type\u001b[39;00m\n\u001b[0;32m   (...)\u001b[0m\n\u001b[1;32m    222\u001b[0m     \u001b[38;5;66;03m# perspective. Instead we handle this case distinctly and treat\u001b[39;00m\n\u001b[1;32m    223\u001b[0m     \u001b[38;5;66;03m# it as a ConnectError.\u001b[39;00m\n\u001b[1;32m    224\u001b[0m     \u001b[38;5;28;01mif\u001b[39;00m data \u001b[38;5;241m==\u001b[39m \u001b[38;5;124mb\u001b[39m\u001b[38;5;124m\"\u001b[39m\u001b[38;5;124m\"\u001b[39m \u001b[38;5;129;01mand\u001b[39;00m \u001b[38;5;28mself\u001b[39m\u001b[38;5;241m.\u001b[39m_h11_state\u001b[38;5;241m.\u001b[39mtheir_state \u001b[38;5;241m==\u001b[39m h11\u001b[38;5;241m.\u001b[39mSEND_RESPONSE:\n",
      "File \u001b[0;32m~/.pyenv/versions/3.10.13/envs/p10/lib/python3.10/site-packages/httpcore/_backends/sync.py:126\u001b[0m, in \u001b[0;36mSyncStream.read\u001b[0;34m(self, max_bytes, timeout)\u001b[0m\n\u001b[1;32m    124\u001b[0m \u001b[38;5;28;01mwith\u001b[39;00m map_exceptions(exc_map):\n\u001b[1;32m    125\u001b[0m     \u001b[38;5;28mself\u001b[39m\u001b[38;5;241m.\u001b[39m_sock\u001b[38;5;241m.\u001b[39msettimeout(timeout)\n\u001b[0;32m--> 126\u001b[0m     \u001b[38;5;28;01mreturn\u001b[39;00m \u001b[38;5;28;43mself\u001b[39;49m\u001b[38;5;241;43m.\u001b[39;49m\u001b[43m_sock\u001b[49m\u001b[38;5;241;43m.\u001b[39;49m\u001b[43mrecv\u001b[49m\u001b[43m(\u001b[49m\u001b[43mmax_bytes\u001b[49m\u001b[43m)\u001b[49m\n",
      "File \u001b[0;32m~/.pyenv/versions/3.10.13/lib/python3.10/ssl.py:1292\u001b[0m, in \u001b[0;36mSSLSocket.recv\u001b[0;34m(self, buflen, flags)\u001b[0m\n\u001b[1;32m   1288\u001b[0m     \u001b[38;5;28;01mif\u001b[39;00m flags \u001b[38;5;241m!=\u001b[39m \u001b[38;5;241m0\u001b[39m:\n\u001b[1;32m   1289\u001b[0m         \u001b[38;5;28;01mraise\u001b[39;00m \u001b[38;5;167;01mValueError\u001b[39;00m(\n\u001b[1;32m   1290\u001b[0m             \u001b[38;5;124m\"\u001b[39m\u001b[38;5;124mnon-zero flags not allowed in calls to recv() on \u001b[39m\u001b[38;5;132;01m%s\u001b[39;00m\u001b[38;5;124m\"\u001b[39m \u001b[38;5;241m%\u001b[39m\n\u001b[1;32m   1291\u001b[0m             \u001b[38;5;28mself\u001b[39m\u001b[38;5;241m.\u001b[39m\u001b[38;5;18m__class__\u001b[39m)\n\u001b[0;32m-> 1292\u001b[0m     \u001b[38;5;28;01mreturn\u001b[39;00m \u001b[38;5;28;43mself\u001b[39;49m\u001b[38;5;241;43m.\u001b[39;49m\u001b[43mread\u001b[49m\u001b[43m(\u001b[49m\u001b[43mbuflen\u001b[49m\u001b[43m)\u001b[49m\n\u001b[1;32m   1293\u001b[0m \u001b[38;5;28;01melse\u001b[39;00m:\n\u001b[1;32m   1294\u001b[0m     \u001b[38;5;28;01mreturn\u001b[39;00m \u001b[38;5;28msuper\u001b[39m()\u001b[38;5;241m.\u001b[39mrecv(buflen, flags)\n",
      "File \u001b[0;32m~/.pyenv/versions/3.10.13/lib/python3.10/ssl.py:1165\u001b[0m, in \u001b[0;36mSSLSocket.read\u001b[0;34m(self, len, buffer)\u001b[0m\n\u001b[1;32m   1163\u001b[0m         \u001b[38;5;28;01mreturn\u001b[39;00m \u001b[38;5;28mself\u001b[39m\u001b[38;5;241m.\u001b[39m_sslobj\u001b[38;5;241m.\u001b[39mread(\u001b[38;5;28mlen\u001b[39m, buffer)\n\u001b[1;32m   1164\u001b[0m     \u001b[38;5;28;01melse\u001b[39;00m:\n\u001b[0;32m-> 1165\u001b[0m         \u001b[38;5;28;01mreturn\u001b[39;00m \u001b[38;5;28;43mself\u001b[39;49m\u001b[38;5;241;43m.\u001b[39;49m\u001b[43m_sslobj\u001b[49m\u001b[38;5;241;43m.\u001b[39;49m\u001b[43mread\u001b[49m\u001b[43m(\u001b[49m\u001b[38;5;28;43mlen\u001b[39;49m\u001b[43m)\u001b[49m\n\u001b[1;32m   1166\u001b[0m \u001b[38;5;28;01mexcept\u001b[39;00m SSLError \u001b[38;5;28;01mas\u001b[39;00m x:\n\u001b[1;32m   1167\u001b[0m     \u001b[38;5;28;01mif\u001b[39;00m x\u001b[38;5;241m.\u001b[39margs[\u001b[38;5;241m0\u001b[39m] \u001b[38;5;241m==\u001b[39m SSL_ERROR_EOF \u001b[38;5;129;01mand\u001b[39;00m \u001b[38;5;28mself\u001b[39m\u001b[38;5;241m.\u001b[39msuppress_ragged_eofs:\n",
      "\u001b[0;31mKeyboardInterrupt\u001b[0m: "
     ]
    }
   ],
   "source": [
    "from lkj import print_progress\n",
    "from dol import path_get\n",
    "\n",
    "from oa.stores import OaDacc\n",
    "\n",
    "dacc = OaDacc()\n",
    "\n",
    "def json_info(jdict):\n",
    "    custom_id = jdict['custom_id']\n",
    "    if 'response' in jdict:\n",
    "        # response kind\n",
    "        response = jdict['response']\n",
    "        if response['status_code'] == 200:\n",
    "            body = response['body']\n",
    "            return {\n",
    "                'custom_id': custom_id,\n",
    "                'type': 'response',\n",
    "                'object': body['object'],\n",
    "                'n_data': len(body['data']),\n",
    "            }\n",
    "        else:\n",
    "            # response_error kind\n",
    "            error = jdict['error']\n",
    "            return {\n",
    "                'custom_id': custom_id,\n",
    "                'type': 'response_error',\n",
    "                'error': jdict['error'],\n",
    "            }\n",
    "    else:\n",
    "        body = jdict['body']\n",
    "        # response_error kind\n",
    "        return {\n",
    "            'custom_id': custom_id,\n",
    "            'type': 'input',\n",
    "            'input_type': type(body['input']),\n",
    "            'n_input': len(body['input']),\n",
    "            'n_input_0': len(body['input'][0]),\n",
    "        }\n",
    "\n",
    "for i, id_ in enumerate(sorted(all_files_df.id.to_list()[21:], reverse=True)):\n",
    "    print_progress(f\"---> {i=}: {id_}\")\n",
    "    jdict = dacc.s.json_files[id_]\n",
    "    print(json_info(jdict))\n",
    "    print(\"\")\n",
    "    \n"
   ]
  },
  {
   "cell_type": "code",
   "execution_count": 129,
   "metadata": {},
   "outputs": [
    {
     "data": {
      "text/plain": [
       "{'custom_id': 'embeddings_batch_id-1724501630836592128',\n",
       " 'type': 'response',\n",
       " 'object': 'list',\n",
       " 'n_data': 2000}"
      ]
     },
     "execution_count": 129,
     "metadata": {},
     "output_type": "execute_result"
    }
   ],
   "source": [
    "json_info(jdict)"
   ]
  },
  {
   "cell_type": "code",
   "execution_count": 127,
   "metadata": {},
   "outputs": [
    {
     "name": "stdout",
     "output_type": "stream",
     "text": [
      "['id', 'custom_id', 'response', 'error']\n"
     ]
    },
    {
     "data": {
      "text/plain": [
       "['status_code', 'request_id', 'body']"
      ]
     },
     "execution_count": 127,
     "metadata": {},
     "output_type": "execute_result"
    }
   ],
   "source": [
    "print(list(jdict))\n",
    "list(jdict['response'])\n"
   ]
  },
  {
   "cell_type": "code",
   "execution_count": 112,
   "metadata": {},
   "outputs": [
    {
     "ename": "AttributeError",
     "evalue": "'bytes' object has no attribute 'json'",
     "output_type": "error",
     "traceback": [
      "\u001b[0;31m---------------------------------------------------------------------------\u001b[0m",
      "\u001b[0;31mAttributeError\u001b[0m                            Traceback (most recent call last)",
      "Cell \u001b[0;32mIn[112], line 1\u001b[0m\n\u001b[0;32m----> 1\u001b[0m rj \u001b[38;5;241m=\u001b[39m \u001b[43mdacc\u001b[49m\u001b[38;5;241;43m.\u001b[39;49m\u001b[43ms\u001b[49m\u001b[38;5;241;43m.\u001b[39;49m\u001b[43mfiles\u001b[49m\u001b[43m[\u001b[49m\u001b[38;5;124;43m'\u001b[39;49m\u001b[38;5;124;43mfile-zrqNUeHJciihWh7sRNRYjJNR\u001b[39;49m\u001b[38;5;124;43m'\u001b[39;49m\u001b[43m]\u001b[49m\u001b[38;5;241;43m.\u001b[39;49m\u001b[43mjson\u001b[49m()\n",
      "\u001b[0;31mAttributeError\u001b[0m: 'bytes' object has no attribute 'json'"
     ]
    }
   ],
   "source": [
    "rj = dacc.s.files_base['file-zrqNUeHJciihWh7sRNRYjJNR']\n"
   ]
  },
  {
   "cell_type": "code",
   "execution_count": 124,
   "metadata": {},
   "outputs": [
    {
     "data": {
      "text/plain": [
       "['status_code', 'request_id', 'body']"
      ]
     },
     "execution_count": 124,
     "metadata": {},
     "output_type": "execute_result"
    }
   ],
   "source": [
    "list(rj['response'])#['body']"
   ]
  },
  {
   "cell_type": "code",
   "execution_count": 105,
   "metadata": {},
   "outputs": [],
   "source": [
    "rj['error']"
   ]
  },
  {
   "cell_type": "code",
   "execution_count": 102,
   "metadata": {},
   "outputs": [
    {
     "data": {
      "text/plain": [
       "{'custom_id': 'embeddings_batch_id-1724501970634621952',\n",
       " 'body.input.0': 'latitude and longitude?'}"
      ]
     },
     "execution_count": 102,
     "metadata": {},
     "output_type": "execute_result"
    }
   ],
   "source": [
    "from dol.paths import paths_getter\n",
    "\n",
    "f = paths_getter({x: x for x in ['custom_id', 'body.input.0']})\n",
    "f(rj)"
   ]
  },
  {
   "cell_type": "code",
   "execution_count": 80,
   "metadata": {},
   "outputs": [
    {
     "data": {
      "text/plain": [
       "id                file-DVT6hjyjOfGSPvGS6sIMmV7b\n",
       "bytes                                        75\n",
       "created_at                           1723223404\n",
       "filename                      tmp8qb8dvh2.jsonl\n",
       "object                                     file\n",
       "purpose                                   batch\n",
       "status                                processed\n",
       "status_details                             None\n",
       "Name: 2141, dtype: object"
      ]
     },
     "execution_count": 80,
     "metadata": {},
     "output_type": "execute_result"
    }
   ],
   "source": [
    "all_files_df.iloc[-1]"
   ]
  },
  {
   "cell_type": "code",
   "execution_count": 75,
   "metadata": {},
   "outputs": [
    {
     "name": "stdout",
     "output_type": "stream",
     "text": [
      "list(line)=['id', 'custom_id', 'response', 'error']\n",
      "list(line['response'])=['status_code', 'request_id', 'body']\n",
      "list(line['response']['body'])=['object', 'data', 'model', 'usage']\n",
      "line['response']['body']['object']='list'\n",
      "len(line['response']['body']['data'])=4\n",
      "list(line['response']['body']['data'][0])=['object', 'index', 'embedding']\n"
     ]
    }
   ],
   "source": [
    "\n",
    "tt = r.json()\n",
    "\n",
    "from oa.stores import print_some_jsonl_line_fields\n",
    "\n",
    "print_some_jsonl_line_fields(tt)"
   ]
  },
  {
   "cell_type": "code",
   "execution_count": 78,
   "metadata": {},
   "outputs": [
    {
     "data": {
      "text/plain": [
       "1536"
      ]
     },
     "execution_count": 78,
     "metadata": {},
     "output_type": "execute_result"
    }
   ],
   "source": [
    "len(tt['response']['body']['data'][0]['embedding'])"
   ]
  },
  {
   "cell_type": "code",
   "execution_count": 72,
   "metadata": {},
   "outputs": [
    {
     "data": {
      "text/plain": [
       "4"
      ]
     },
     "execution_count": 72,
     "metadata": {},
     "output_type": "execute_result"
    }
   ],
   "source": [
    "tt['id'], tt['custom_id']\n",
    "ttt = tt['response']['body']\n",
    "list(ttt)\n",
    "data = ttt['data']\n",
    "len(data)"
   ]
  },
  {
   "cell_type": "code",
   "execution_count": null,
   "metadata": {},
   "outputs": [],
   "source": []
  },
  {
   "cell_type": "code",
   "execution_count": 86,
   "metadata": {},
   "outputs": [
    {
     "name": "stdout",
     "output_type": "stream",
     "text": [
      "list(line)=['id', 'custom_id', 'response', 'error']\n",
      "list(line['response'])=['status_code', 'request_id', 'body']\n",
      "list(line['response']['body'])=['object', 'data', 'model', 'usage']\n",
      "line['response']['body']['object']='list'\n",
      "len(line['response']['body']['data'])=2000\n",
      "list(line['response']['body']['data'][0])=['object', 'index', 'embedding']\n"
     ]
    }
   ],
   "source": [
    "from oa.stores import print_some_jsonl_line_fields\n",
    "\n",
    "print_some_jsonl_line_fields(line)\n"
   ]
  },
  {
   "cell_type": "code",
   "execution_count": null,
   "metadata": {},
   "outputs": [],
   "source": []
  },
  {
   "cell_type": "code",
   "execution_count": 6,
   "metadata": {},
   "outputs": [
    {
     "data": {
      "text/plain": [
       "['object', 'data', 'model', 'usage']"
      ]
     },
     "execution_count": 6,
     "metadata": {},
     "output_type": "execute_result"
    }
   ],
   "source": [
    "ttt = tt['response']\n",
    "list(ttt)  # ['status_code', 'request_id', 'body']\n",
    "w = ttt['body']\n",
    "list(w)  # ['object', 'data', 'model', 'usage']"
   ]
  },
  {
   "cell_type": "code",
   "execution_count": 9,
   "metadata": {},
   "outputs": [
    {
     "data": {
      "text/plain": [
       "2000"
      ]
     },
     "execution_count": 9,
     "metadata": {},
     "output_type": "execute_result"
    }
   ],
   "source": [
    "len(w['data'])"
   ]
  },
  {
   "cell_type": "code",
   "execution_count": 11,
   "metadata": {},
   "outputs": [
    {
     "data": {
      "text/plain": [
       "[b'sd', b'lkjf']"
      ]
     },
     "execution_count": 11,
     "metadata": {},
     "output_type": "execute_result"
    }
   ],
   "source": [
    "bytes.splitlines(b'sd\\nlkjf')"
   ]
  },
  {
   "cell_type": "code",
   "execution_count": 1,
   "metadata": {},
   "outputs": [
    {
     "ename": "NameError",
     "evalue": "name 'batch' is not defined",
     "output_type": "error",
     "traceback": [
      "\u001b[0;31m---------------------------------------------------------------------------\u001b[0m",
      "\u001b[0;31mNameError\u001b[0m                                 Traceback (most recent call last)",
      "Cell \u001b[0;32mIn[1], line 5\u001b[0m\n\u001b[1;32m      1\u001b[0m \u001b[38;5;28;01mfrom\u001b[39;00m \u001b[38;5;21;01moa\u001b[39;00m\u001b[38;5;21;01m.\u001b[39;00m\u001b[38;5;21;01mstores\u001b[39;00m \u001b[38;5;28;01mimport\u001b[39;00m OaStores\n\u001b[1;32m      3\u001b[0m oa_stores \u001b[38;5;241m=\u001b[39m OaStores()\n\u001b[0;32m----> 5\u001b[0m w \u001b[38;5;241m=\u001b[39m oa_stores\u001b[38;5;241m.\u001b[39mfiles_base[\u001b[43mbatch\u001b[49m\u001b[38;5;241m.\u001b[39moutput_file_id]\n",
      "\u001b[0;31mNameError\u001b[0m: name 'batch' is not defined"
     ]
    }
   ],
   "source": [
    "from oa.stores import OaStores\n",
    "\n",
    "oa_stores = OaStores()\n",
    "\n",
    "w = oa_stores.files_base[batch.output_file_id]"
   ]
  },
  {
   "cell_type": "code",
   "execution_count": 79,
   "metadata": {},
   "outputs": [
    {
     "data": {
      "text/plain": [
       "['id', 'custom_id', 'response', 'error']"
      ]
     },
     "execution_count": 79,
     "metadata": {},
     "output_type": "execute_result"
    }
   ],
   "source": [
    "tt = t[0]\n",
    "len(tt)\n",
    "list(tt)"
   ]
  },
  {
   "cell_type": "code",
   "execution_count": 71,
   "metadata": {},
   "outputs": [
    {
     "ename": "KeyboardInterrupt",
     "evalue": "",
     "output_type": "error",
     "traceback": [
      "\u001b[0;31m---------------------------------------------------------------------------\u001b[0m",
      "\u001b[0;31mKeyboardInterrupt\u001b[0m                         Traceback (most recent call last)",
      "Cell \u001b[0;32mIn[71], line 8\u001b[0m\n\u001b[1;32m      3\u001b[0m \u001b[38;5;66;03m# t = jsonl_loads(d.content)\u001b[39;00m\n\u001b[1;32m      4\u001b[0m \n\u001b[1;32m      5\u001b[0m \u001b[38;5;66;03m# t = list(map(json.loads, d.content.decode().split('\\n')))\u001b[39;00m\n\u001b[1;32m      7\u001b[0m t \u001b[38;5;241m=\u001b[39m \u001b[38;5;28mlist\u001b[39m(\u001b[38;5;28mmap\u001b[39m(json\u001b[38;5;241m.\u001b[39mloads, d\u001b[38;5;241m.\u001b[39miter_lines()))\n\u001b[0;32m----> 8\u001b[0m t[\u001b[38;5;241m0\u001b[39m]\n",
      "File \u001b[0;32m~/.pyenv/versions/3.10.13/envs/p10/lib/python3.10/site-packages/IPython/core/displayhook.py:268\u001b[0m, in \u001b[0;36mDisplayHook.__call__\u001b[0;34m(self, result)\u001b[0m\n\u001b[1;32m    266\u001b[0m \u001b[38;5;28mself\u001b[39m\u001b[38;5;241m.\u001b[39mstart_displayhook()\n\u001b[1;32m    267\u001b[0m \u001b[38;5;28mself\u001b[39m\u001b[38;5;241m.\u001b[39mwrite_output_prompt()\n\u001b[0;32m--> 268\u001b[0m format_dict, md_dict \u001b[38;5;241m=\u001b[39m \u001b[38;5;28;43mself\u001b[39;49m\u001b[38;5;241;43m.\u001b[39;49m\u001b[43mcompute_format_data\u001b[49m\u001b[43m(\u001b[49m\u001b[43mresult\u001b[49m\u001b[43m)\u001b[49m\n\u001b[1;32m    269\u001b[0m \u001b[38;5;28mself\u001b[39m\u001b[38;5;241m.\u001b[39mupdate_user_ns(result)\n\u001b[1;32m    270\u001b[0m \u001b[38;5;28mself\u001b[39m\u001b[38;5;241m.\u001b[39mfill_exec_result(result)\n",
      "File \u001b[0;32m~/.pyenv/versions/3.10.13/envs/p10/lib/python3.10/site-packages/IPython/core/displayhook.py:157\u001b[0m, in \u001b[0;36mDisplayHook.compute_format_data\u001b[0;34m(self, result)\u001b[0m\n\u001b[1;32m    127\u001b[0m \u001b[38;5;28;01mdef\u001b[39;00m \u001b[38;5;21mcompute_format_data\u001b[39m(\u001b[38;5;28mself\u001b[39m, result):\n\u001b[1;32m    128\u001b[0m \u001b[38;5;250m    \u001b[39m\u001b[38;5;124;03m\"\"\"Compute format data of the object to be displayed.\u001b[39;00m\n\u001b[1;32m    129\u001b[0m \n\u001b[1;32m    130\u001b[0m \u001b[38;5;124;03m    The format data is a generalization of the :func:`repr` of an object.\u001b[39;00m\n\u001b[0;32m   (...)\u001b[0m\n\u001b[1;32m    155\u001b[0m \n\u001b[1;32m    156\u001b[0m \u001b[38;5;124;03m    \"\"\"\u001b[39;00m\n\u001b[0;32m--> 157\u001b[0m     \u001b[38;5;28;01mreturn\u001b[39;00m \u001b[38;5;28;43mself\u001b[39;49m\u001b[38;5;241;43m.\u001b[39;49m\u001b[43mshell\u001b[49m\u001b[38;5;241;43m.\u001b[39;49m\u001b[43mdisplay_formatter\u001b[49m\u001b[38;5;241;43m.\u001b[39;49m\u001b[43mformat\u001b[49m\u001b[43m(\u001b[49m\u001b[43mresult\u001b[49m\u001b[43m)\u001b[49m\n",
      "File \u001b[0;32m~/.pyenv/versions/3.10.13/envs/p10/lib/python3.10/site-packages/IPython/core/formatters.py:182\u001b[0m, in \u001b[0;36mDisplayFormatter.format\u001b[0;34m(self, obj, include, exclude)\u001b[0m\n\u001b[1;32m    180\u001b[0m md \u001b[38;5;241m=\u001b[39m \u001b[38;5;28;01mNone\u001b[39;00m\n\u001b[1;32m    181\u001b[0m \u001b[38;5;28;01mtry\u001b[39;00m:\n\u001b[0;32m--> 182\u001b[0m     data \u001b[38;5;241m=\u001b[39m \u001b[43mformatter\u001b[49m\u001b[43m(\u001b[49m\u001b[43mobj\u001b[49m\u001b[43m)\u001b[49m\n\u001b[1;32m    183\u001b[0m \u001b[38;5;28;01mexcept\u001b[39;00m:\n\u001b[1;32m    184\u001b[0m     \u001b[38;5;66;03m# FIXME: log the exception\u001b[39;00m\n\u001b[1;32m    185\u001b[0m     \u001b[38;5;28;01mraise\u001b[39;00m\n",
      "File \u001b[0;32m~/.pyenv/versions/3.10.13/envs/p10/lib/python3.10/site-packages/decorator.py:232\u001b[0m, in \u001b[0;36mdecorate.<locals>.fun\u001b[0;34m(*args, **kw)\u001b[0m\n\u001b[1;32m    230\u001b[0m \u001b[38;5;28;01mif\u001b[39;00m \u001b[38;5;129;01mnot\u001b[39;00m kwsyntax:\n\u001b[1;32m    231\u001b[0m     args, kw \u001b[38;5;241m=\u001b[39m fix(args, kw, sig)\n\u001b[0;32m--> 232\u001b[0m \u001b[38;5;28;01mreturn\u001b[39;00m \u001b[43mcaller\u001b[49m\u001b[43m(\u001b[49m\u001b[43mfunc\u001b[49m\u001b[43m,\u001b[49m\u001b[43m \u001b[49m\u001b[38;5;241;43m*\u001b[39;49m\u001b[43m(\u001b[49m\u001b[43mextras\u001b[49m\u001b[43m \u001b[49m\u001b[38;5;241;43m+\u001b[39;49m\u001b[43m \u001b[49m\u001b[43margs\u001b[49m\u001b[43m)\u001b[49m\u001b[43m,\u001b[49m\u001b[43m \u001b[49m\u001b[38;5;241;43m*\u001b[39;49m\u001b[38;5;241;43m*\u001b[39;49m\u001b[43mkw\u001b[49m\u001b[43m)\u001b[49m\n",
      "File \u001b[0;32m~/.pyenv/versions/3.10.13/envs/p10/lib/python3.10/site-packages/IPython/core/formatters.py:226\u001b[0m, in \u001b[0;36mcatch_format_error\u001b[0;34m(method, self, *args, **kwargs)\u001b[0m\n\u001b[1;32m    224\u001b[0m \u001b[38;5;250m\u001b[39m\u001b[38;5;124;03m\"\"\"show traceback on failed format call\"\"\"\u001b[39;00m\n\u001b[1;32m    225\u001b[0m \u001b[38;5;28;01mtry\u001b[39;00m:\n\u001b[0;32m--> 226\u001b[0m     r \u001b[38;5;241m=\u001b[39m \u001b[43mmethod\u001b[49m\u001b[43m(\u001b[49m\u001b[38;5;28;43mself\u001b[39;49m\u001b[43m,\u001b[49m\u001b[43m \u001b[49m\u001b[38;5;241;43m*\u001b[39;49m\u001b[43margs\u001b[49m\u001b[43m,\u001b[49m\u001b[43m \u001b[49m\u001b[38;5;241;43m*\u001b[39;49m\u001b[38;5;241;43m*\u001b[39;49m\u001b[43mkwargs\u001b[49m\u001b[43m)\u001b[49m\n\u001b[1;32m    227\u001b[0m \u001b[38;5;28;01mexcept\u001b[39;00m \u001b[38;5;167;01mNotImplementedError\u001b[39;00m:\n\u001b[1;32m    228\u001b[0m     \u001b[38;5;66;03m# don't warn on NotImplementedErrors\u001b[39;00m\n\u001b[1;32m    229\u001b[0m     \u001b[38;5;28;01mreturn\u001b[39;00m \u001b[38;5;28mself\u001b[39m\u001b[38;5;241m.\u001b[39m_check_return(\u001b[38;5;28;01mNone\u001b[39;00m, args[\u001b[38;5;241m0\u001b[39m])\n",
      "File \u001b[0;32m~/.pyenv/versions/3.10.13/envs/p10/lib/python3.10/site-packages/IPython/core/formatters.py:711\u001b[0m, in \u001b[0;36mPlainTextFormatter.__call__\u001b[0;34m(self, obj)\u001b[0m\n\u001b[1;32m    704\u001b[0m stream \u001b[38;5;241m=\u001b[39m StringIO()\n\u001b[1;32m    705\u001b[0m printer \u001b[38;5;241m=\u001b[39m pretty\u001b[38;5;241m.\u001b[39mRepresentationPrinter(stream, \u001b[38;5;28mself\u001b[39m\u001b[38;5;241m.\u001b[39mverbose,\n\u001b[1;32m    706\u001b[0m     \u001b[38;5;28mself\u001b[39m\u001b[38;5;241m.\u001b[39mmax_width, \u001b[38;5;28mself\u001b[39m\u001b[38;5;241m.\u001b[39mnewline,\n\u001b[1;32m    707\u001b[0m     max_seq_length\u001b[38;5;241m=\u001b[39m\u001b[38;5;28mself\u001b[39m\u001b[38;5;241m.\u001b[39mmax_seq_length,\n\u001b[1;32m    708\u001b[0m     singleton_pprinters\u001b[38;5;241m=\u001b[39m\u001b[38;5;28mself\u001b[39m\u001b[38;5;241m.\u001b[39msingleton_printers,\n\u001b[1;32m    709\u001b[0m     type_pprinters\u001b[38;5;241m=\u001b[39m\u001b[38;5;28mself\u001b[39m\u001b[38;5;241m.\u001b[39mtype_printers,\n\u001b[1;32m    710\u001b[0m     deferred_pprinters\u001b[38;5;241m=\u001b[39m\u001b[38;5;28mself\u001b[39m\u001b[38;5;241m.\u001b[39mdeferred_printers)\n\u001b[0;32m--> 711\u001b[0m \u001b[43mprinter\u001b[49m\u001b[38;5;241;43m.\u001b[39;49m\u001b[43mpretty\u001b[49m\u001b[43m(\u001b[49m\u001b[43mobj\u001b[49m\u001b[43m)\u001b[49m\n\u001b[1;32m    712\u001b[0m printer\u001b[38;5;241m.\u001b[39mflush()\n\u001b[1;32m    713\u001b[0m \u001b[38;5;28;01mreturn\u001b[39;00m stream\u001b[38;5;241m.\u001b[39mgetvalue()\n",
      "File \u001b[0;32m~/.pyenv/versions/3.10.13/envs/p10/lib/python3.10/site-packages/IPython/lib/pretty.py:394\u001b[0m, in \u001b[0;36mRepresentationPrinter.pretty\u001b[0;34m(self, obj)\u001b[0m\n\u001b[1;32m    391\u001b[0m \u001b[38;5;28;01mfor\u001b[39;00m \u001b[38;5;28mcls\u001b[39m \u001b[38;5;129;01min\u001b[39;00m _get_mro(obj_class):\n\u001b[1;32m    392\u001b[0m     \u001b[38;5;28;01mif\u001b[39;00m \u001b[38;5;28mcls\u001b[39m \u001b[38;5;129;01min\u001b[39;00m \u001b[38;5;28mself\u001b[39m\u001b[38;5;241m.\u001b[39mtype_pprinters:\n\u001b[1;32m    393\u001b[0m         \u001b[38;5;66;03m# printer registered in self.type_pprinters\u001b[39;00m\n\u001b[0;32m--> 394\u001b[0m         \u001b[38;5;28;01mreturn\u001b[39;00m \u001b[38;5;28;43mself\u001b[39;49m\u001b[38;5;241;43m.\u001b[39;49m\u001b[43mtype_pprinters\u001b[49m\u001b[43m[\u001b[49m\u001b[38;5;28;43mcls\u001b[39;49m\u001b[43m]\u001b[49m\u001b[43m(\u001b[49m\u001b[43mobj\u001b[49m\u001b[43m,\u001b[49m\u001b[43m \u001b[49m\u001b[38;5;28;43mself\u001b[39;49m\u001b[43m,\u001b[49m\u001b[43m \u001b[49m\u001b[43mcycle\u001b[49m\u001b[43m)\u001b[49m\n\u001b[1;32m    395\u001b[0m     \u001b[38;5;28;01melse\u001b[39;00m:\n\u001b[1;32m    396\u001b[0m         \u001b[38;5;66;03m# deferred printer\u001b[39;00m\n\u001b[1;32m    397\u001b[0m         printer \u001b[38;5;241m=\u001b[39m \u001b[38;5;28mself\u001b[39m\u001b[38;5;241m.\u001b[39m_in_deferred_types(\u001b[38;5;28mcls\u001b[39m)\n",
      "File \u001b[0;32m~/.pyenv/versions/3.10.13/envs/p10/lib/python3.10/site-packages/IPython/lib/pretty.py:693\u001b[0m, in \u001b[0;36m_dict_pprinter_factory.<locals>.inner\u001b[0;34m(obj, p, cycle)\u001b[0m\n\u001b[1;32m    691\u001b[0m     p\u001b[38;5;241m.\u001b[39mpretty(key)\n\u001b[1;32m    692\u001b[0m     p\u001b[38;5;241m.\u001b[39mtext(\u001b[38;5;124m'\u001b[39m\u001b[38;5;124m: \u001b[39m\u001b[38;5;124m'\u001b[39m)\n\u001b[0;32m--> 693\u001b[0m     \u001b[43mp\u001b[49m\u001b[38;5;241;43m.\u001b[39;49m\u001b[43mpretty\u001b[49m\u001b[43m(\u001b[49m\u001b[43mobj\u001b[49m\u001b[43m[\u001b[49m\u001b[43mkey\u001b[49m\u001b[43m]\u001b[49m\u001b[43m)\u001b[49m\n\u001b[1;32m    694\u001b[0m p\u001b[38;5;241m.\u001b[39mend_group(step, end)\n",
      "File \u001b[0;32m~/.pyenv/versions/3.10.13/envs/p10/lib/python3.10/site-packages/IPython/lib/pretty.py:394\u001b[0m, in \u001b[0;36mRepresentationPrinter.pretty\u001b[0;34m(self, obj)\u001b[0m\n\u001b[1;32m    391\u001b[0m \u001b[38;5;28;01mfor\u001b[39;00m \u001b[38;5;28mcls\u001b[39m \u001b[38;5;129;01min\u001b[39;00m _get_mro(obj_class):\n\u001b[1;32m    392\u001b[0m     \u001b[38;5;28;01mif\u001b[39;00m \u001b[38;5;28mcls\u001b[39m \u001b[38;5;129;01min\u001b[39;00m \u001b[38;5;28mself\u001b[39m\u001b[38;5;241m.\u001b[39mtype_pprinters:\n\u001b[1;32m    393\u001b[0m         \u001b[38;5;66;03m# printer registered in self.type_pprinters\u001b[39;00m\n\u001b[0;32m--> 394\u001b[0m         \u001b[38;5;28;01mreturn\u001b[39;00m \u001b[38;5;28;43mself\u001b[39;49m\u001b[38;5;241;43m.\u001b[39;49m\u001b[43mtype_pprinters\u001b[49m\u001b[43m[\u001b[49m\u001b[38;5;28;43mcls\u001b[39;49m\u001b[43m]\u001b[49m\u001b[43m(\u001b[49m\u001b[43mobj\u001b[49m\u001b[43m,\u001b[49m\u001b[43m \u001b[49m\u001b[38;5;28;43mself\u001b[39;49m\u001b[43m,\u001b[49m\u001b[43m \u001b[49m\u001b[43mcycle\u001b[49m\u001b[43m)\u001b[49m\n\u001b[1;32m    395\u001b[0m     \u001b[38;5;28;01melse\u001b[39;00m:\n\u001b[1;32m    396\u001b[0m         \u001b[38;5;66;03m# deferred printer\u001b[39;00m\n\u001b[1;32m    397\u001b[0m         printer \u001b[38;5;241m=\u001b[39m \u001b[38;5;28mself\u001b[39m\u001b[38;5;241m.\u001b[39m_in_deferred_types(\u001b[38;5;28mcls\u001b[39m)\n",
      "File \u001b[0;32m~/.pyenv/versions/3.10.13/envs/p10/lib/python3.10/site-packages/IPython/lib/pretty.py:693\u001b[0m, in \u001b[0;36m_dict_pprinter_factory.<locals>.inner\u001b[0;34m(obj, p, cycle)\u001b[0m\n\u001b[1;32m    691\u001b[0m     p\u001b[38;5;241m.\u001b[39mpretty(key)\n\u001b[1;32m    692\u001b[0m     p\u001b[38;5;241m.\u001b[39mtext(\u001b[38;5;124m'\u001b[39m\u001b[38;5;124m: \u001b[39m\u001b[38;5;124m'\u001b[39m)\n\u001b[0;32m--> 693\u001b[0m     \u001b[43mp\u001b[49m\u001b[38;5;241;43m.\u001b[39;49m\u001b[43mpretty\u001b[49m\u001b[43m(\u001b[49m\u001b[43mobj\u001b[49m\u001b[43m[\u001b[49m\u001b[43mkey\u001b[49m\u001b[43m]\u001b[49m\u001b[43m)\u001b[49m\n\u001b[1;32m    694\u001b[0m p\u001b[38;5;241m.\u001b[39mend_group(step, end)\n",
      "    \u001b[0;31m[... skipping similar frames: RepresentationPrinter.pretty at line 394 (1 times)]\u001b[0m\n",
      "File \u001b[0;32m~/.pyenv/versions/3.10.13/envs/p10/lib/python3.10/site-packages/IPython/lib/pretty.py:693\u001b[0m, in \u001b[0;36m_dict_pprinter_factory.<locals>.inner\u001b[0;34m(obj, p, cycle)\u001b[0m\n\u001b[1;32m    691\u001b[0m     p\u001b[38;5;241m.\u001b[39mpretty(key)\n\u001b[1;32m    692\u001b[0m     p\u001b[38;5;241m.\u001b[39mtext(\u001b[38;5;124m'\u001b[39m\u001b[38;5;124m: \u001b[39m\u001b[38;5;124m'\u001b[39m)\n\u001b[0;32m--> 693\u001b[0m     \u001b[43mp\u001b[49m\u001b[38;5;241;43m.\u001b[39;49m\u001b[43mpretty\u001b[49m\u001b[43m(\u001b[49m\u001b[43mobj\u001b[49m\u001b[43m[\u001b[49m\u001b[43mkey\u001b[49m\u001b[43m]\u001b[49m\u001b[43m)\u001b[49m\n\u001b[1;32m    694\u001b[0m p\u001b[38;5;241m.\u001b[39mend_group(step, end)\n",
      "File \u001b[0;32m~/.pyenv/versions/3.10.13/envs/p10/lib/python3.10/site-packages/IPython/lib/pretty.py:394\u001b[0m, in \u001b[0;36mRepresentationPrinter.pretty\u001b[0;34m(self, obj)\u001b[0m\n\u001b[1;32m    391\u001b[0m \u001b[38;5;28;01mfor\u001b[39;00m \u001b[38;5;28mcls\u001b[39m \u001b[38;5;129;01min\u001b[39;00m _get_mro(obj_class):\n\u001b[1;32m    392\u001b[0m     \u001b[38;5;28;01mif\u001b[39;00m \u001b[38;5;28mcls\u001b[39m \u001b[38;5;129;01min\u001b[39;00m \u001b[38;5;28mself\u001b[39m\u001b[38;5;241m.\u001b[39mtype_pprinters:\n\u001b[1;32m    393\u001b[0m         \u001b[38;5;66;03m# printer registered in self.type_pprinters\u001b[39;00m\n\u001b[0;32m--> 394\u001b[0m         \u001b[38;5;28;01mreturn\u001b[39;00m \u001b[38;5;28;43mself\u001b[39;49m\u001b[38;5;241;43m.\u001b[39;49m\u001b[43mtype_pprinters\u001b[49m\u001b[43m[\u001b[49m\u001b[38;5;28;43mcls\u001b[39;49m\u001b[43m]\u001b[49m\u001b[43m(\u001b[49m\u001b[43mobj\u001b[49m\u001b[43m,\u001b[49m\u001b[43m \u001b[49m\u001b[38;5;28;43mself\u001b[39;49m\u001b[43m,\u001b[49m\u001b[43m \u001b[49m\u001b[43mcycle\u001b[49m\u001b[43m)\u001b[49m\n\u001b[1;32m    395\u001b[0m     \u001b[38;5;28;01melse\u001b[39;00m:\n\u001b[1;32m    396\u001b[0m         \u001b[38;5;66;03m# deferred printer\u001b[39;00m\n\u001b[1;32m    397\u001b[0m         printer \u001b[38;5;241m=\u001b[39m \u001b[38;5;28mself\u001b[39m\u001b[38;5;241m.\u001b[39m_in_deferred_types(\u001b[38;5;28mcls\u001b[39m)\n",
      "File \u001b[0;32m~/.pyenv/versions/3.10.13/envs/p10/lib/python3.10/site-packages/IPython/lib/pretty.py:641\u001b[0m, in \u001b[0;36m_seq_pprinter_factory.<locals>.inner\u001b[0;34m(obj, p, cycle)\u001b[0m\n\u001b[1;32m    639\u001b[0m         p\u001b[38;5;241m.\u001b[39mtext(\u001b[38;5;124m'\u001b[39m\u001b[38;5;124m,\u001b[39m\u001b[38;5;124m'\u001b[39m)\n\u001b[1;32m    640\u001b[0m         p\u001b[38;5;241m.\u001b[39mbreakable()\n\u001b[0;32m--> 641\u001b[0m     \u001b[43mp\u001b[49m\u001b[38;5;241;43m.\u001b[39;49m\u001b[43mpretty\u001b[49m\u001b[43m(\u001b[49m\u001b[43mx\u001b[49m\u001b[43m)\u001b[49m\n\u001b[1;32m    642\u001b[0m \u001b[38;5;28;01mif\u001b[39;00m \u001b[38;5;28mlen\u001b[39m(obj) \u001b[38;5;241m==\u001b[39m \u001b[38;5;241m1\u001b[39m \u001b[38;5;129;01mand\u001b[39;00m \u001b[38;5;28misinstance\u001b[39m(obj, \u001b[38;5;28mtuple\u001b[39m):\n\u001b[1;32m    643\u001b[0m     \u001b[38;5;66;03m# Special case for 1-item tuples.\u001b[39;00m\n\u001b[1;32m    644\u001b[0m     p\u001b[38;5;241m.\u001b[39mtext(\u001b[38;5;124m'\u001b[39m\u001b[38;5;124m,\u001b[39m\u001b[38;5;124m'\u001b[39m)\n",
      "File \u001b[0;32m~/.pyenv/versions/3.10.13/envs/p10/lib/python3.10/site-packages/IPython/lib/pretty.py:394\u001b[0m, in \u001b[0;36mRepresentationPrinter.pretty\u001b[0;34m(self, obj)\u001b[0m\n\u001b[1;32m    391\u001b[0m \u001b[38;5;28;01mfor\u001b[39;00m \u001b[38;5;28mcls\u001b[39m \u001b[38;5;129;01min\u001b[39;00m _get_mro(obj_class):\n\u001b[1;32m    392\u001b[0m     \u001b[38;5;28;01mif\u001b[39;00m \u001b[38;5;28mcls\u001b[39m \u001b[38;5;129;01min\u001b[39;00m \u001b[38;5;28mself\u001b[39m\u001b[38;5;241m.\u001b[39mtype_pprinters:\n\u001b[1;32m    393\u001b[0m         \u001b[38;5;66;03m# printer registered in self.type_pprinters\u001b[39;00m\n\u001b[0;32m--> 394\u001b[0m         \u001b[38;5;28;01mreturn\u001b[39;00m \u001b[38;5;28;43mself\u001b[39;49m\u001b[38;5;241;43m.\u001b[39;49m\u001b[43mtype_pprinters\u001b[49m\u001b[43m[\u001b[49m\u001b[38;5;28;43mcls\u001b[39;49m\u001b[43m]\u001b[49m\u001b[43m(\u001b[49m\u001b[43mobj\u001b[49m\u001b[43m,\u001b[49m\u001b[43m \u001b[49m\u001b[38;5;28;43mself\u001b[39;49m\u001b[43m,\u001b[49m\u001b[43m \u001b[49m\u001b[43mcycle\u001b[49m\u001b[43m)\u001b[49m\n\u001b[1;32m    395\u001b[0m     \u001b[38;5;28;01melse\u001b[39;00m:\n\u001b[1;32m    396\u001b[0m         \u001b[38;5;66;03m# deferred printer\u001b[39;00m\n\u001b[1;32m    397\u001b[0m         printer \u001b[38;5;241m=\u001b[39m \u001b[38;5;28mself\u001b[39m\u001b[38;5;241m.\u001b[39m_in_deferred_types(\u001b[38;5;28mcls\u001b[39m)\n",
      "File \u001b[0;32m~/.pyenv/versions/3.10.13/envs/p10/lib/python3.10/site-packages/IPython/lib/pretty.py:693\u001b[0m, in \u001b[0;36m_dict_pprinter_factory.<locals>.inner\u001b[0;34m(obj, p, cycle)\u001b[0m\n\u001b[1;32m    691\u001b[0m     p\u001b[38;5;241m.\u001b[39mpretty(key)\n\u001b[1;32m    692\u001b[0m     p\u001b[38;5;241m.\u001b[39mtext(\u001b[38;5;124m'\u001b[39m\u001b[38;5;124m: \u001b[39m\u001b[38;5;124m'\u001b[39m)\n\u001b[0;32m--> 693\u001b[0m     \u001b[43mp\u001b[49m\u001b[38;5;241;43m.\u001b[39;49m\u001b[43mpretty\u001b[49m\u001b[43m(\u001b[49m\u001b[43mobj\u001b[49m\u001b[43m[\u001b[49m\u001b[43mkey\u001b[49m\u001b[43m]\u001b[49m\u001b[43m)\u001b[49m\n\u001b[1;32m    694\u001b[0m p\u001b[38;5;241m.\u001b[39mend_group(step, end)\n",
      "File \u001b[0;32m~/.pyenv/versions/3.10.13/envs/p10/lib/python3.10/site-packages/IPython/lib/pretty.py:394\u001b[0m, in \u001b[0;36mRepresentationPrinter.pretty\u001b[0;34m(self, obj)\u001b[0m\n\u001b[1;32m    391\u001b[0m \u001b[38;5;28;01mfor\u001b[39;00m \u001b[38;5;28mcls\u001b[39m \u001b[38;5;129;01min\u001b[39;00m _get_mro(obj_class):\n\u001b[1;32m    392\u001b[0m     \u001b[38;5;28;01mif\u001b[39;00m \u001b[38;5;28mcls\u001b[39m \u001b[38;5;129;01min\u001b[39;00m \u001b[38;5;28mself\u001b[39m\u001b[38;5;241m.\u001b[39mtype_pprinters:\n\u001b[1;32m    393\u001b[0m         \u001b[38;5;66;03m# printer registered in self.type_pprinters\u001b[39;00m\n\u001b[0;32m--> 394\u001b[0m         \u001b[38;5;28;01mreturn\u001b[39;00m \u001b[38;5;28;43mself\u001b[39;49m\u001b[38;5;241;43m.\u001b[39;49m\u001b[43mtype_pprinters\u001b[49m\u001b[43m[\u001b[49m\u001b[38;5;28;43mcls\u001b[39;49m\u001b[43m]\u001b[49m\u001b[43m(\u001b[49m\u001b[43mobj\u001b[49m\u001b[43m,\u001b[49m\u001b[43m \u001b[49m\u001b[38;5;28;43mself\u001b[39;49m\u001b[43m,\u001b[49m\u001b[43m \u001b[49m\u001b[43mcycle\u001b[49m\u001b[43m)\u001b[49m\n\u001b[1;32m    395\u001b[0m     \u001b[38;5;28;01melse\u001b[39;00m:\n\u001b[1;32m    396\u001b[0m         \u001b[38;5;66;03m# deferred printer\u001b[39;00m\n\u001b[1;32m    397\u001b[0m         printer \u001b[38;5;241m=\u001b[39m \u001b[38;5;28mself\u001b[39m\u001b[38;5;241m.\u001b[39m_in_deferred_types(\u001b[38;5;28mcls\u001b[39m)\n",
      "File \u001b[0;32m~/.pyenv/versions/3.10.13/envs/p10/lib/python3.10/site-packages/IPython/lib/pretty.py:641\u001b[0m, in \u001b[0;36m_seq_pprinter_factory.<locals>.inner\u001b[0;34m(obj, p, cycle)\u001b[0m\n\u001b[1;32m    639\u001b[0m         p\u001b[38;5;241m.\u001b[39mtext(\u001b[38;5;124m'\u001b[39m\u001b[38;5;124m,\u001b[39m\u001b[38;5;124m'\u001b[39m)\n\u001b[1;32m    640\u001b[0m         p\u001b[38;5;241m.\u001b[39mbreakable()\n\u001b[0;32m--> 641\u001b[0m     \u001b[43mp\u001b[49m\u001b[38;5;241;43m.\u001b[39;49m\u001b[43mpretty\u001b[49m\u001b[43m(\u001b[49m\u001b[43mx\u001b[49m\u001b[43m)\u001b[49m\n\u001b[1;32m    642\u001b[0m \u001b[38;5;28;01mif\u001b[39;00m \u001b[38;5;28mlen\u001b[39m(obj) \u001b[38;5;241m==\u001b[39m \u001b[38;5;241m1\u001b[39m \u001b[38;5;129;01mand\u001b[39;00m \u001b[38;5;28misinstance\u001b[39m(obj, \u001b[38;5;28mtuple\u001b[39m):\n\u001b[1;32m    643\u001b[0m     \u001b[38;5;66;03m# Special case for 1-item tuples.\u001b[39;00m\n\u001b[1;32m    644\u001b[0m     p\u001b[38;5;241m.\u001b[39mtext(\u001b[38;5;124m'\u001b[39m\u001b[38;5;124m,\u001b[39m\u001b[38;5;124m'\u001b[39m)\n",
      "File \u001b[0;32m~/.pyenv/versions/3.10.13/envs/p10/lib/python3.10/site-packages/IPython/lib/pretty.py:378\u001b[0m, in \u001b[0;36mRepresentationPrinter.pretty\u001b[0;34m(self, obj)\u001b[0m\n\u001b[1;32m    376\u001b[0m cycle \u001b[38;5;241m=\u001b[39m obj_id \u001b[38;5;129;01min\u001b[39;00m \u001b[38;5;28mself\u001b[39m\u001b[38;5;241m.\u001b[39mstack\n\u001b[1;32m    377\u001b[0m \u001b[38;5;28mself\u001b[39m\u001b[38;5;241m.\u001b[39mstack\u001b[38;5;241m.\u001b[39mappend(obj_id)\n\u001b[0;32m--> 378\u001b[0m \u001b[38;5;28;43mself\u001b[39;49m\u001b[38;5;241;43m.\u001b[39;49m\u001b[43mbegin_group\u001b[49m\u001b[43m(\u001b[49m\u001b[43m)\u001b[49m\n\u001b[1;32m    379\u001b[0m \u001b[38;5;28;01mtry\u001b[39;00m:\n\u001b[1;32m    380\u001b[0m     obj_class \u001b[38;5;241m=\u001b[39m _safe_getattr(obj, \u001b[38;5;124m'\u001b[39m\u001b[38;5;124m__class__\u001b[39m\u001b[38;5;124m'\u001b[39m, \u001b[38;5;28;01mNone\u001b[39;00m) \u001b[38;5;129;01mor\u001b[39;00m \u001b[38;5;28mtype\u001b[39m(obj)\n",
      "File \u001b[0;32m~/.pyenv/versions/3.10.13/envs/p10/lib/python3.10/site-packages/IPython/lib/pretty.py:292\u001b[0m, in \u001b[0;36mPrettyPrinter.begin_group\u001b[0;34m(self, indent, open)\u001b[0m\n\u001b[1;32m    290\u001b[0m group \u001b[38;5;241m=\u001b[39m Group(\u001b[38;5;28mself\u001b[39m\u001b[38;5;241m.\u001b[39mgroup_stack[\u001b[38;5;241m-\u001b[39m\u001b[38;5;241m1\u001b[39m]\u001b[38;5;241m.\u001b[39mdepth \u001b[38;5;241m+\u001b[39m \u001b[38;5;241m1\u001b[39m)\n\u001b[1;32m    291\u001b[0m \u001b[38;5;28mself\u001b[39m\u001b[38;5;241m.\u001b[39mgroup_stack\u001b[38;5;241m.\u001b[39mappend(group)\n\u001b[0;32m--> 292\u001b[0m \u001b[38;5;28;43mself\u001b[39;49m\u001b[38;5;241;43m.\u001b[39;49m\u001b[43mgroup_queue\u001b[49m\u001b[38;5;241;43m.\u001b[39;49m\u001b[43menq\u001b[49m\u001b[43m(\u001b[49m\u001b[43mgroup\u001b[49m\u001b[43m)\u001b[49m\n\u001b[1;32m    293\u001b[0m \u001b[38;5;28mself\u001b[39m\u001b[38;5;241m.\u001b[39mindentation \u001b[38;5;241m+\u001b[39m\u001b[38;5;241m=\u001b[39m indent\n",
      "File \u001b[0;32m~/.pyenv/versions/3.10.13/envs/p10/lib/python3.10/site-packages/IPython/lib/pretty.py:496\u001b[0m, in \u001b[0;36mGroupQueue.enq\u001b[0;34m(self, group)\u001b[0m\n\u001b[1;32m    493\u001b[0m     \u001b[38;5;28;01mfor\u001b[39;00m group \u001b[38;5;129;01min\u001b[39;00m groups:\n\u001b[1;32m    494\u001b[0m         \u001b[38;5;28mself\u001b[39m\u001b[38;5;241m.\u001b[39menq(group)\n\u001b[0;32m--> 496\u001b[0m \u001b[38;5;28;01mdef\u001b[39;00m \u001b[38;5;21menq\u001b[39m(\u001b[38;5;28mself\u001b[39m, group):\n\u001b[1;32m    497\u001b[0m     depth \u001b[38;5;241m=\u001b[39m group\u001b[38;5;241m.\u001b[39mdepth\n\u001b[1;32m    498\u001b[0m     \u001b[38;5;28;01mwhile\u001b[39;00m depth \u001b[38;5;241m>\u001b[39m \u001b[38;5;28mlen\u001b[39m(\u001b[38;5;28mself\u001b[39m\u001b[38;5;241m.\u001b[39mqueue) \u001b[38;5;241m-\u001b[39m \u001b[38;5;241m1\u001b[39m:\n",
      "File \u001b[0;32m~/.pyenv/versions/3.10.13/envs/p10/lib/python3.10/site-packages/debugpy/_vendored/pydevd/_pydevd_bundle/pydevd_trace_dispatch_regular.py:360\u001b[0m, in \u001b[0;36mThreadTracer.__call__\u001b[0;34m(self, frame, event, arg)\u001b[0m\n\u001b[1;32m    358\u001b[0m pydev_step_cmd \u001b[38;5;241m=\u001b[39m additional_info\u001b[38;5;241m.\u001b[39mpydev_step_cmd\n\u001b[1;32m    359\u001b[0m is_stepping \u001b[38;5;241m=\u001b[39m pydev_step_cmd \u001b[38;5;241m!=\u001b[39m \u001b[38;5;241m-\u001b[39m\u001b[38;5;241m1\u001b[39m\n\u001b[0;32m--> 360\u001b[0m \u001b[38;5;28;01mif\u001b[39;00m py_db\u001b[38;5;241m.\u001b[39mpydb_disposed:\n\u001b[1;32m    361\u001b[0m     \u001b[38;5;28;01mreturn\u001b[39;00m \u001b[38;5;28;01mNone\u001b[39;00m \u001b[38;5;28;01mif\u001b[39;00m event \u001b[38;5;241m==\u001b[39m \u001b[38;5;124m'\u001b[39m\u001b[38;5;124mcall\u001b[39m\u001b[38;5;124m'\u001b[39m \u001b[38;5;28;01melse\u001b[39;00m NO_FTRACE\n\u001b[1;32m    363\u001b[0m \u001b[38;5;66;03m# if thread is not alive, cancel trace_dispatch processing\u001b[39;00m\n",
      "\u001b[0;31mKeyboardInterrupt\u001b[0m: "
     ]
    }
   ],
   "source": [
    "from oa.stores import jsonl_dumps, jsonl_loads\n",
    "\n",
    "# t = jsonl_loads(d.content)\n",
    "\n",
    "# t = list(map(json.loads, d.content.decode().split('\\n')))\n",
    "\n",
    "t = list(map(json.loads, d.iter_lines()))\n",
    "t[0]"
   ]
  },
  {
   "cell_type": "code",
   "execution_count": null,
   "metadata": {},
   "outputs": [],
   "source": []
  },
  {
   "cell_type": "code",
   "execution_count": 64,
   "metadata": {},
   "outputs": [
    {
     "ename": "JSONDecodeError",
     "evalue": "Extra data: line 3 column 1 (char 43)",
     "output_type": "error",
     "traceback": [
      "\u001b[0;31m---------------------------------------------------------------------------\u001b[0m",
      "\u001b[0;31mJSONDecodeError\u001b[0m                           Traceback (most recent call last)",
      "Cell \u001b[0;32mIn[64], line 7\u001b[0m\n\u001b[1;32m      1\u001b[0m \u001b[38;5;28;01mimport\u001b[39;00m \u001b[38;5;21;01mjson\u001b[39;00m\n\u001b[1;32m      3\u001b[0m jsonl_bytes \u001b[38;5;241m=\u001b[39m \u001b[38;5;124m\"\"\"\u001b[39m\n\u001b[1;32m      4\u001b[0m \u001b[38;5;124m{\u001b[39m\u001b[38;5;124m\"\u001b[39m\u001b[38;5;124ma\u001b[39m\u001b[38;5;124m\"\u001b[39m\u001b[38;5;124m: \u001b[39m\u001b[38;5;124m\"\u001b[39m\u001b[38;5;124mlist\u001b[39m\u001b[38;5;124m\"\u001b[39m\u001b[38;5;124m, \u001b[39m\u001b[38;5;124m\"\u001b[39m\u001b[38;5;124mof\u001b[39m\u001b[38;5;124m\"\u001b[39m\u001b[38;5;124m: \u001b[39m\u001b[38;5;124m\"\u001b[39m\u001b[38;5;124mjson\u001b[39m\u001b[38;5;124m\"\u001b[39m\u001b[38;5;124m, \u001b[39m\u001b[38;5;124m\"\u001b[39m\u001b[38;5;124mobjects\u001b[39m\u001b[38;5;124m\"\u001b[39m\u001b[38;5;124m: 1}\u001b[39m\n\u001b[1;32m      5\u001b[0m \u001b[38;5;124m{\u001b[39m\u001b[38;5;124m\"\u001b[39m\u001b[38;5;124mhere\u001b[39m\u001b[38;5;124m\"\u001b[39m\u001b[38;5;124m: \u001b[39m\u001b[38;5;124m\"\u001b[39m\u001b[38;5;124mis\u001b[39m\u001b[38;5;124m\"\u001b[39m\u001b[38;5;124m, \u001b[39m\u001b[38;5;124m\"\u001b[39m\u001b[38;5;124manother\u001b[39m\u001b[38;5;124m\"\u001b[39m\u001b[38;5;124m: \u001b[39m\u001b[38;5;124m\"\u001b[39m\u001b[38;5;124mline\u001b[39m\u001b[38;5;124m\"\u001b[39m\u001b[38;5;124m, \u001b[39m\u001b[38;5;124m\"\u001b[39m\u001b[38;5;124mof\u001b[39m\u001b[38;5;124m\"\u001b[39m\u001b[38;5;124m: \u001b[39m\u001b[38;5;124m\"\u001b[39m\u001b[38;5;124mjsons\u001b[39m\u001b[38;5;124m\"\u001b[39m\u001b[38;5;124m}\u001b[39m\n\u001b[1;32m      6\u001b[0m \u001b[38;5;124m\"\"\"\u001b[39m\n\u001b[0;32m----> 7\u001b[0m \u001b[43mjson\u001b[49m\u001b[38;5;241;43m.\u001b[39;49m\u001b[43mloads\u001b[49m\u001b[43m(\u001b[49m\u001b[43mjsonl_bytes\u001b[49m\u001b[43m)\u001b[49m\n",
      "File \u001b[0;32m~/.pyenv/versions/3.10.13/lib/python3.10/json/__init__.py:346\u001b[0m, in \u001b[0;36mloads\u001b[0;34m(s, cls, object_hook, parse_float, parse_int, parse_constant, object_pairs_hook, **kw)\u001b[0m\n\u001b[1;32m    341\u001b[0m     s \u001b[38;5;241m=\u001b[39m s\u001b[38;5;241m.\u001b[39mdecode(detect_encoding(s), \u001b[38;5;124m'\u001b[39m\u001b[38;5;124msurrogatepass\u001b[39m\u001b[38;5;124m'\u001b[39m)\n\u001b[1;32m    343\u001b[0m \u001b[38;5;28;01mif\u001b[39;00m (\u001b[38;5;28mcls\u001b[39m \u001b[38;5;129;01mis\u001b[39;00m \u001b[38;5;28;01mNone\u001b[39;00m \u001b[38;5;129;01mand\u001b[39;00m object_hook \u001b[38;5;129;01mis\u001b[39;00m \u001b[38;5;28;01mNone\u001b[39;00m \u001b[38;5;129;01mand\u001b[39;00m\n\u001b[1;32m    344\u001b[0m         parse_int \u001b[38;5;129;01mis\u001b[39;00m \u001b[38;5;28;01mNone\u001b[39;00m \u001b[38;5;129;01mand\u001b[39;00m parse_float \u001b[38;5;129;01mis\u001b[39;00m \u001b[38;5;28;01mNone\u001b[39;00m \u001b[38;5;129;01mand\u001b[39;00m\n\u001b[1;32m    345\u001b[0m         parse_constant \u001b[38;5;129;01mis\u001b[39;00m \u001b[38;5;28;01mNone\u001b[39;00m \u001b[38;5;129;01mand\u001b[39;00m object_pairs_hook \u001b[38;5;129;01mis\u001b[39;00m \u001b[38;5;28;01mNone\u001b[39;00m \u001b[38;5;129;01mand\u001b[39;00m \u001b[38;5;129;01mnot\u001b[39;00m kw):\n\u001b[0;32m--> 346\u001b[0m     \u001b[38;5;28;01mreturn\u001b[39;00m \u001b[43m_default_decoder\u001b[49m\u001b[38;5;241;43m.\u001b[39;49m\u001b[43mdecode\u001b[49m\u001b[43m(\u001b[49m\u001b[43ms\u001b[49m\u001b[43m)\u001b[49m\n\u001b[1;32m    347\u001b[0m \u001b[38;5;28;01mif\u001b[39;00m \u001b[38;5;28mcls\u001b[39m \u001b[38;5;129;01mis\u001b[39;00m \u001b[38;5;28;01mNone\u001b[39;00m:\n\u001b[1;32m    348\u001b[0m     \u001b[38;5;28mcls\u001b[39m \u001b[38;5;241m=\u001b[39m JSONDecoder\n",
      "File \u001b[0;32m~/.pyenv/versions/3.10.13/lib/python3.10/json/decoder.py:340\u001b[0m, in \u001b[0;36mJSONDecoder.decode\u001b[0;34m(self, s, _w)\u001b[0m\n\u001b[1;32m    338\u001b[0m end \u001b[38;5;241m=\u001b[39m _w(s, end)\u001b[38;5;241m.\u001b[39mend()\n\u001b[1;32m    339\u001b[0m \u001b[38;5;28;01mif\u001b[39;00m end \u001b[38;5;241m!=\u001b[39m \u001b[38;5;28mlen\u001b[39m(s):\n\u001b[0;32m--> 340\u001b[0m     \u001b[38;5;28;01mraise\u001b[39;00m JSONDecodeError(\u001b[38;5;124m\"\u001b[39m\u001b[38;5;124mExtra data\u001b[39m\u001b[38;5;124m\"\u001b[39m, s, end)\n\u001b[1;32m    341\u001b[0m \u001b[38;5;28;01mreturn\u001b[39;00m obj\n",
      "\u001b[0;31mJSONDecodeError\u001b[0m: Extra data: line 3 column 1 (char 43)"
     ]
    }
   ],
   "source": [
    "\n"
   ]
  },
  {
   "cell_type": "code",
   "execution_count": null,
   "metadata": {},
   "outputs": [],
   "source": []
  },
  {
   "cell_type": "code",
   "execution_count": 43,
   "metadata": {},
   "outputs": [
    {
     "data": {
      "text/plain": [
       "[]"
      ]
     },
     "execution_count": 43,
     "metadata": {},
     "output_type": "execute_result"
    }
   ],
   "source": [
    "type(batch)\n",
    "from openai.types.batch import Batch\n",
    "from openai.types import EmbeddingCreateParams\n",
    "\n",
    "t = list(filter(callable, (getattr(Batch, x) for x in vars(Batch) if not x.startswith('_'))))\n",
    "t = [f\"{x.__name__}{Sig(x)}\" for x in t]\n",
    "t\n",
    "    "
   ]
  },
  {
   "cell_type": "code",
   "execution_count": 13,
   "metadata": {},
   "outputs": [
    {
     "data": {
      "text/plain": [
       "{'id': 'batch_YY7gAytldnVxPRy3vgnlbsbT',\n",
       " 'completion_window': '24h',\n",
       " 'created_at': 1724503218,\n",
       " 'endpoint': '/v1/embeddings',\n",
       " 'input_file_id': 'file-d1dB20OYOXmnE3ENznpwvVZd',\n",
       " 'object': 'batch',\n",
       " 'status': 'completed',\n",
       " 'cancelled_at': None,\n",
       " 'cancelling_at': None,\n",
       " 'completed_at': 1724503296,\n",
       " 'error_file_id': None,\n",
       " 'errors': None,\n",
       " 'expired_at': None,\n",
       " 'expires_at': 1724589618,\n",
       " 'failed_at': None,\n",
       " 'finalizing_at': 1724503293,\n",
       " 'in_progress_at': 1724503219,\n",
       " 'metadata': None,\n",
       " 'output_file_id': 'file-g1iSPVYMatQRuCRQAkIGFBUA',\n",
       " 'request_counts': {'completed': 1, 'failed': 0, 'total': 1}}"
      ]
     },
     "execution_count": 13,
     "metadata": {},
     "output_type": "execute_result"
    }
   ],
   "source": [
    "batch.to_dict()"
   ]
  },
  {
   "cell_type": "code",
   "execution_count": 114,
   "metadata": {},
   "outputs": [
    {
     "data": {
      "text/plain": [
       "{'id': 'batch_SG05bpxRRsw9u2WtlR9qQOgK',\n",
       " 'completion_window': '24h',\n",
       " 'created_at': 1724496845,\n",
       " 'endpoint': '/v1/embeddings',\n",
       " 'input_file_id': 'file-i4LQNnei6RZBGaIVlWLbhYtH',\n",
       " 'object': 'batch',\n",
       " 'status': 'completed',\n",
       " 'cancelled_at': None,\n",
       " 'cancelling_at': None,\n",
       " 'completed_at': 1724496870,\n",
       " 'error_file_id': 'file-zrJoJ1IA1Tj3Wjzl0CAaPDaV',\n",
       " 'errors': None,\n",
       " 'expired_at': None,\n",
       " 'expires_at': 1724583245,\n",
       " 'failed_at': None,\n",
       " 'finalizing_at': 1724496870,\n",
       " 'in_progress_at': 1724496847,\n",
       " 'metadata': None,\n",
       " 'output_file_id': None,\n",
       " 'request_counts': {'completed': 0, 'failed': 1, 'total': 1}}"
      ]
     },
     "execution_count": 114,
     "metadata": {},
     "output_type": "execute_result"
    }
   ],
   "source": [
    "from oa import OaStores\n",
    "\n",
    "s = OaStores()\n",
    "batch_id = 'batch_SG05bpxRRsw9u2WtlR9qQOgK'\n",
    "batch = s.batches[batch_id]\n",
    "batch.to_dict()"
   ]
  },
  {
   "cell_type": "code",
   "execution_count": 115,
   "metadata": {},
   "outputs": [
    {
     "name": "stdout",
     "output_type": "stream",
     "text": [
      "'$.input' is invalid. Please check the API reference: https://platform.openai.com/docs/api-reference.\n"
     ]
    }
   ],
   "source": [
    "from dol import path_get\n",
    "f = s.files_base[batch.error_file_id]\n",
    "r = f.json()\n",
    "body = r['response']['body']\n",
    "print(body['error']['message'])"
   ]
  },
  {
   "cell_type": "code",
   "execution_count": 124,
   "metadata": {},
   "outputs": [
    {
     "data": {
      "text/plain": [
       "bytes"
      ]
     },
     "execution_count": 124,
     "metadata": {},
     "output_type": "execute_result"
    }
   ],
   "source": [
    "t = s.files_base[batch.input_file_id]\n",
    "type(t.content)"
   ]
  },
  {
   "cell_type": "code",
   "execution_count": 127,
   "metadata": {},
   "outputs": [
    {
     "data": {
      "text/plain": [
       "['custom_id', 'method', 'url', 'body']"
      ]
     },
     "execution_count": 127,
     "metadata": {},
     "output_type": "execute_result"
    }
   ],
   "source": [
    "from oa.stores import jsonl_loads_iter\n",
    "\n",
    "w = list(jsonl_loads_iter(t))\n",
    "if len(w) == 1:\n",
    "    w = w[0]\n",
    "list(w)"
   ]
  },
  {
   "cell_type": "code",
   "execution_count": 134,
   "metadata": {},
   "outputs": [
    {
     "data": {
      "text/plain": [
       "True"
      ]
     },
     "execution_count": 134,
     "metadata": {},
     "output_type": "execute_result"
    }
   ],
   "source": [
    "ww = w['body']['input']\n",
    "'.input' in ''.join(ww)"
   ]
  },
  {
   "cell_type": "code",
   "execution_count": 135,
   "metadata": {},
   "outputs": [
    {
     "data": {
      "text/plain": [
       "543006"
      ]
     },
     "execution_count": 135,
     "metadata": {},
     "output_type": "execute_result"
    }
   ],
   "source": [
    "''.join(ww).index('.input')"
   ]
  },
  {
   "cell_type": "code",
   "execution_count": 145,
   "metadata": {},
   "outputs": [
    {
     "data": {
      "text/plain": [
       "'这是你昨天帮我写的聊天室，能不能帮我改一下样式让这个页面看起来科技感一些，还有兼容一下移动端<html lang=\"en\">\\n<head>\\n    <meta charset=\"UTF-8\">\\n    <meta name=\"viewport\" content=\"width=device-width, initial-scale=1.0\">\\n    <title>Vue Chat</title>\\n    <link rel=\"stylesheet\" href=\"https://cdnjs.cloudflare.com/ajax/libs/element-ui/2.15.6/theme-chalk/index.css\">\\n    <script src=\"https://cdnjs.cloudflare.com/ajax/libs/vue/2.6.14/vue.min.js\"></script>\\n    <script src=\"https://cdnjs.cloudflare.com/ajax/libs/axios/0.23.0/axios.min.js\"></script>\\n    <script src=\"https://cdnjs.cloudflare.com/ajax/libs/element-ui/2.15.6/index.js\"></script>\\n    <style>\\n        .chat-container {\\n            display: flex;\\n            height: 100vh;\\n            width: 100%;\\n        }\\n        .user-list {\\n            width: 25%;\\n            border-right: 1px solid #f0f0f0;\\n        }\\n        .chat {\\n            width: 75%;\\n            display: flex;\\n            flex-direction: column;\\n            justify-content: space-between;\\n            padding: 20px 10px;\\n        }\\n        .chat-main {\\n            flex-grow: 1;\\n            overflow-y: auto;\\n        }\\n    </style>\\n</head>\\n<body>\\n<div id=\"app\">\\n    <el-container class=\"chat-container\">\\n        <el-aside class=\"user-list\">\\n            <el-menu :default-active=\"activeUser\" @select=\"handleChangeUser\" mode=\"vertical\" background-color=\"#f8f9ff\" text-color=\"#5c5c5c\" active-text-color=\"#20a0ff\">\\n                <el-menu-item v-for=\"user in users\" :index=\"user.id\">\\n                    <i class=\"el-icon-message\"></i>\\n                    <span>{{ user.name }}</span>\\n                </el-menu-item>\\n            </el-menu>\\n        </el-aside>\\n        <el-main class=\"chat\">\\n            <div class=\"chat-main\">\\n                <el-timeline>\\n                    <el-timeline-item v-for=\"msg in activeChatRecord\" :timestamp=\"msg.time\">\\n                        {{ msg.user }}: {{ msg.content }}\\n                    </el-timeline-item>\\n                </el-timeline>\\n            </div>\\n            <el-input type=\"textarea\" v-model=\"input\"></el-input>\\n            <el-button type=\"primary\" @click=\"sendMessage\">发送</el-button>\\n        </el-main>\\n    </el-container>\\n</div>\\n<script>\\n    new Vue({\\n        el: \\'#app\\',\\n    data() {\\n        return {\\n            input: \\'\\',\\n        activeUser: \\'1\\',\\n        users: [\\n            { id: \\'1\\', name: \\'用户1\\' },\\n        { id: \\'2\\', name: \\'用户2\\' },\\n        { id: \\'3\\', name: \\'用户3\\' }\\n    ],\\n        chatRecord: {\\n            1: [\\n                { user: \\'用户1\\', content: \\'你好\\', time: \\'2021-01-01 10:30\\' },\\n            { user: \\'我\\', content: \\'你好\\', time: \\'2021-01-01 10:31\\' }\\n        ],\\n            2: [\\n                { user: \\'用户2\\', content: \\'你好\\', time: \\'2021-01-01 10:32\\' },\\n        ],\\n        },\\n    };\\n    },\\n    computed: {\\n        activeChatRecord() {\\n            return this.chatRecord[this.activeUser] || [];\\n        },\\n    },\\n    methods: {\\n        handleChangeUser(activeIndex) {\\n            this.activeUser = activeIndex;\\n        },\\n        sendMessage() {\\n            if (!this.input) return;\\n\\n            this.activeChatRecord.push({ user: \\'我\\', content: this.input, time: new Date().toLocaleTimeString() });\\n            this.input = \\'\\';\\n        },\\n    },\\n    });\\n</script>\\n</body>\\n</html>'"
      ]
     },
     "execution_count": 145,
     "metadata": {},
     "output_type": "execute_result"
    }
   ],
   "source": [
    "has_input_string = list(filter(None, map(lambda x: x if '.input' in x else None, ww)))\n",
    "has_input_string[1]\n"
   ]
  },
  {
   "cell_type": "code",
   "execution_count": 137,
   "metadata": {},
   "outputs": [
    {
     "data": {
      "text/plain": [
       "\"rives to honor Sitara's memory through her continued growth and dedication to the path of the hunter.input = What's the weather like today? temperature=0.1The weather today is quite cold with a temper\""
      ]
     },
     "execution_count": 137,
     "metadata": {},
     "output_type": "execute_result"
    }
   ],
   "source": [
    "''.join(ww)[(543006-100):(543006+100)]"
   ]
  },
  {
   "cell_type": "code",
   "execution_count": null,
   "metadata": {},
   "outputs": [],
   "source": []
  },
  {
   "cell_type": "code",
   "execution_count": null,
   "metadata": {},
   "outputs": [],
   "source": []
  },
  {
   "cell_type": "code",
   "execution_count": null,
   "metadata": {},
   "outputs": [],
   "source": []
  },
  {
   "cell_type": "code",
   "execution_count": null,
   "metadata": {},
   "outputs": [],
   "source": []
  },
  {
   "cell_type": "markdown",
   "metadata": {},
   "source": [
    "## Misc"
   ]
  },
  {
   "cell_type": "code",
   "execution_count": 16,
   "metadata": {},
   "outputs": [],
   "source": [
    "import oa\n",
    "\n",
    "t = oa.embeddings(segments[-1])"
   ]
  },
  {
   "cell_type": "code",
   "execution_count": 18,
   "metadata": {},
   "outputs": [
    {
     "data": {
      "text/plain": [
       "language\n",
       "English     2033782\n",
       "Chinese      702062\n",
       "Russian      461567\n",
       "French       132346\n",
       "Spanish      115912\n",
       "             ...   \n",
       "Armenian         30\n",
       "Marathi          28\n",
       "Tamil            14\n",
       "Gujarati         14\n",
       "Georgian          4\n",
       "Name: count, Length: 74, dtype: int64"
      ]
     },
     "execution_count": 18,
     "metadata": {},
     "output_type": "execute_result"
    }
   ],
   "source": [
    "df.language.value_counts()"
   ]
  },
  {
   "cell_type": "markdown",
   "metadata": {},
   "source": [
    "# Appendix"
   ]
  },
  {
   "cell_type": "markdown",
   "metadata": {},
   "source": [
    "## Making the raw data"
   ]
  },
  {
   "cell_type": "code",
   "execution_count": 2,
   "metadata": {},
   "outputs": [],
   "source": [
    "from collections import Counter\n",
    "from imbed.base import HugfaceDaccBase\n",
    "\n",
    "d = HugfaceDaccBase(\"allenai/WildChat-1M\", name='wildchat')\n"
   ]
  },
  {
   "cell_type": "code",
   "execution_count": 58,
   "metadata": {},
   "outputs": [],
   "source": [
    "df = d.train_data"
   ]
  },
  {
   "cell_type": "code",
   "execution_count": 59,
   "metadata": {},
   "outputs": [
    {
     "data": {
      "text/plain": [
       "(840774, 14)"
      ]
     },
     "execution_count": 59,
     "metadata": {},
     "output_type": "execute_result"
    }
   ],
   "source": [
    "df.shape"
   ]
  },
  {
   "cell_type": "code",
   "execution_count": 60,
   "metadata": {},
   "outputs": [
    {
     "data": {
      "text/plain": [
       "conversation_hash                       c9ec5b440fbdd2a269333dd241f32f64\n",
       "model                                                         gpt-4-0314\n",
       "timestamp                                      2023-04-09 00:02:53+00:00\n",
       "conversation           [{'content': 'Hey there! Are you familiar with...\n",
       "turn                                                                   1\n",
       "language                                                         English\n",
       "openai_moderation      [{'categories': {'harassment': False, 'harassm...\n",
       "detoxify_moderation    [{'identity_attack': 0.00020589135237969458, '...\n",
       "toxic                                                              False\n",
       "redacted                                                           False\n",
       "state                                                              Texas\n",
       "country                                                    United States\n",
       "hashed_ip              22fd87ba9b98f3d379b23c7b52961f2d4a8505127e58b3...\n",
       "header                 {'accept-language': 'en-US,en;q=0.9,es;q=0.8',...\n",
       "Name: 0, dtype: object"
      ]
     },
     "execution_count": 60,
     "metadata": {},
     "output_type": "execute_result"
    }
   ],
   "source": [
    "df.iloc[0]"
   ]
  },
  {
   "cell_type": "code",
   "execution_count": 64,
   "metadata": {},
   "outputs": [
    {
     "data": {
      "text/plain": [
       "gpt-3.5-turbo-0613    371341\n",
       "gpt-3.5-turbo-0301    195161\n",
       "gpt-4-1106-preview    100972\n",
       "gpt-4-0125-preview     62581\n",
       "gpt-3.5-turbo-0125     57426\n",
       "gpt-4-0314             53291\n",
       "gpt-4-0613                 2\n",
       "dtype: int64"
      ]
     },
     "execution_count": 64,
     "metadata": {},
     "output_type": "execute_result"
    }
   ],
   "source": [
    "pd.Series(dict(Counter(df.model).most_common()))"
   ]
  },
  {
   "cell_type": "code",
   "execution_count": 66,
   "metadata": {},
   "outputs": [
    {
     "data": {
      "text/plain": [
       "{'content': 'Hey there! Are you familiar with reality shifting? So, I’m refining a foolproof method for reality shifting and want to pick a destination. Want to help me? I’m thinking something pretty personalized. There are a few things that are required of my destination. 1. The quest. I have to have a clear overarching goal in my reality, and don’t make it too crazy. It should be more along the lines of “save the president’s daughter” or “escape this weird wacky sinister place” NOT “get an artifact that literally controls reality”. Seriously, don’t make me fetch an artifact, or fetch anything. Instead, make me DO something. 2. Babes. I need pretty girls. 3. The entry. I need to get to lose consciousness in order to begin my journey in my desired reality, preferably by having it knocked out by one of the aforementioned babes. 4. Action. It needs to be cool. 5. Unconsciousness. Myself and the babes need to pass out in this place, preferably by being knocked out in some way or fainting. And it should happen, like, a lot. With these requirements in mind, you got any unique refined ideas? Don’t be vague, be extremely specific. Also, make your response as long and detailed as possible. Be super specific, especially when describing the world. The world should be self-contained and relatively small/understandable. Also, try to be conversational. Describe the world well.',\n",
       " 'country': 'United States',\n",
       " 'hashed_ip': '22fd87ba9b98f3d379b23c7b52961f2d4a8505127e58b3104b227a8ca1ce7260',\n",
       " 'header': {'accept-language': 'en-US,en;q=0.9,es;q=0.8',\n",
       "  'user-agent': 'Mozilla/5.0 (Windows NT 10.0; Win64; x64) AppleWebKit/537.36 (KHTML, like Gecko) Chrome/111.0.0.0 Safari/537.36'},\n",
       " 'language': 'English',\n",
       " 'redacted': False,\n",
       " 'role': 'user',\n",
       " 'state': 'Texas',\n",
       " 'timestamp': None,\n",
       " 'toxic': False,\n",
       " 'turn_identifier': 101001}"
      ]
     },
     "execution_count": 66,
     "metadata": {},
     "output_type": "execute_result"
    }
   ],
   "source": [
    "t[0]"
   ]
  },
  {
   "cell_type": "code",
   "execution_count": 67,
   "metadata": {},
   "outputs": [
    {
     "data": {
      "text/plain": [
       "(24, 14)"
      ]
     },
     "execution_count": 67,
     "metadata": {},
     "output_type": "execute_result"
    }
   ],
   "source": [
    "from tabled import expand_rows\n",
    "\n",
    "w = expand_rows(df.iloc[:10], ['conversation', 'openai_moderation', 'detoxify_moderation'])\n",
    "w.shape"
   ]
  },
  {
   "cell_type": "code",
   "execution_count": 68,
   "metadata": {},
   "outputs": [
    {
     "data": {
      "text/plain": [
       "{'content': 'Hey there! Are you familiar with reality shifting? So, I’m refining a foolproof method for reality shifting and want to pick a destination. Want to help me? I’m thinking something pretty personalized. There are a few things that are required of my destination. 1. The quest. I have to have a clear overarching goal in my reality, and don’t make it too crazy. It should be more along the lines of “save the president’s daughter” or “escape this weird wacky sinister place” NOT “get an artifact that literally controls reality”. Seriously, don’t make me fetch an artifact, or fetch anything. Instead, make me DO something. 2. Babes. I need pretty girls. 3. The entry. I need to get to lose consciousness in order to begin my journey in my desired reality, preferably by having it knocked out by one of the aforementioned babes. 4. Action. It needs to be cool. 5. Unconsciousness. Myself and the babes need to pass out in this place, preferably by being knocked out in some way or fainting. And it should happen, like, a lot. With these requirements in mind, you got any unique refined ideas? Don’t be vague, be extremely specific. Also, make your response as long and detailed as possible. Be super specific, especially when describing the world. The world should be self-contained and relatively small/understandable. Also, try to be conversational. Describe the world well.',\n",
       " 'country': 'United States',\n",
       " 'hashed_ip': '22fd87ba9b98f3d379b23c7b52961f2d4a8505127e58b3104b227a8ca1ce7260',\n",
       " 'header': {'accept-language': 'en-US,en;q=0.9,es;q=0.8',\n",
       "  'user-agent': 'Mozilla/5.0 (Windows NT 10.0; Win64; x64) AppleWebKit/537.36 (KHTML, like Gecko) Chrome/111.0.0.0 Safari/537.36'},\n",
       " 'language': 'English',\n",
       " 'redacted': False,\n",
       " 'role': 'user',\n",
       " 'state': 'Texas',\n",
       " 'timestamp': None,\n",
       " 'toxic': False,\n",
       " 'turn_identifier': 101001}"
      ]
     },
     "execution_count": 68,
     "metadata": {},
     "output_type": "execute_result"
    }
   ],
   "source": [
    "w.conversation.iloc[0]"
   ]
  },
  {
   "cell_type": "code",
   "execution_count": 69,
   "metadata": {},
   "outputs": [
    {
     "data": {
      "text/plain": [
       "{'categories': {'harassment': False,\n",
       "  'harassment/threatening': False,\n",
       "  'harassment_threatening': False,\n",
       "  'hate': False,\n",
       "  'hate/threatening': False,\n",
       "  'hate_threatening': False,\n",
       "  'self-harm': False,\n",
       "  'self-harm/instructions': False,\n",
       "  'self-harm/intent': False,\n",
       "  'self_harm': False,\n",
       "  'self_harm_instructions': False,\n",
       "  'self_harm_intent': False,\n",
       "  'sexual': False,\n",
       "  'sexual/minors': False,\n",
       "  'sexual_minors': False,\n",
       "  'violence': False,\n",
       "  'violence/graphic': False,\n",
       "  'violence_graphic': False},\n",
       " 'category_scores': {'harassment': 0.000484861753648147,\n",
       "  'harassment/threatening': 0.00012471186346374452,\n",
       "  'harassment_threatening': 0.00012471186346374452,\n",
       "  'hate': 0.000457498652394861,\n",
       "  'hate/threatening': 1.3141398994775955e-05,\n",
       "  'hate_threatening': 1.3141398994775955e-05,\n",
       "  'self-harm': 5.52945930394344e-05,\n",
       "  'self-harm/instructions': 1.1666821819744655e-06,\n",
       "  'self-harm/intent': 1.4811689652560744e-05,\n",
       "  'self_harm': 5.52945930394344e-05,\n",
       "  'self_harm_instructions': 1.1666821819744655e-06,\n",
       "  'self_harm_intent': 1.4811689652560744e-05,\n",
       "  'sexual': 0.006505185272544622,\n",
       "  'sexual/minors': 0.00020243361359462142,\n",
       "  'sexual_minors': 0.00020243361359462142,\n",
       "  'violence': 0.08307147771120071,\n",
       "  'violence/graphic': 5.154956306796521e-05,\n",
       "  'violence_graphic': 5.154956306796521e-05},\n",
       " 'flagged': False}"
      ]
     },
     "execution_count": 69,
     "metadata": {},
     "output_type": "execute_result"
    }
   ],
   "source": [
    "w.openai_moderation.iloc[0]"
   ]
  },
  {
   "cell_type": "code",
   "execution_count": 70,
   "metadata": {},
   "outputs": [
    {
     "data": {
      "text/plain": [
       "{'identity_attack': 0.00020589135237969458,\n",
       " 'insult': 0.002148400293663144,\n",
       " 'obscene': 0.0004123652761336416,\n",
       " 'severe_toxicity': 3.0470857382169925e-05,\n",
       " 'sexual_explicit': 0.00012746300490107387,\n",
       " 'threat': 6.507332727778703e-05,\n",
       " 'toxicity': 0.005422386806458235}"
      ]
     },
     "execution_count": 70,
     "metadata": {},
     "output_type": "execute_result"
    }
   ],
   "source": [
    "w.detoxify_moderation.iloc[0]"
   ]
  },
  {
   "cell_type": "markdown",
   "metadata": {},
   "source": [
    "... and from there we expand rows and columns so that we can have a flat dataframe.\n",
    "This is born `expand_wildchat_data(df)` and `dacc.expanded_train`."
   ]
  },
  {
   "cell_type": "markdown",
   "metadata": {},
   "source": [
    "## Adding specific props and methods"
   ]
  },
  {
   "cell_type": "code",
   "execution_count": 1,
   "metadata": {},
   "outputs": [],
   "source": [
    "from imbed_data_prep.wildchat import *\n",
    "\n",
    "d = WildchatDacc()"
   ]
  },
  {
   "cell_type": "code",
   "execution_count": 2,
   "metadata": {},
   "outputs": [
    {
     "data": {
      "text/plain": [
       "['test.parquet',\n",
       " 'wildchat_train.parquet',\n",
       " 'test..parquet',\n",
       " 'expanded_train.parquet']"
      ]
     },
     "execution_count": 2,
     "metadata": {},
     "output_type": "execute_result"
    }
   ],
   "source": [
    "list(d.saves)"
   ]
  },
  {
   "cell_type": "code",
   "execution_count": 72,
   "metadata": {},
   "outputs": [
    {
     "data": {
      "text/plain": [
       "English     481268\n",
       "Chinese     119303\n",
       "Russian      87127\n",
       "French       26977\n",
       "Spanish      20447\n",
       "             ...  \n",
       "Marathi         11\n",
       "Armenian         8\n",
       "Tamil            2\n",
       "Gujarati         2\n",
       "Georgian         1\n",
       "Length: 74, dtype: int64"
      ]
     },
     "execution_count": 72,
     "metadata": {},
     "output_type": "execute_result"
    }
   ],
   "source": [
    "# d.language_conversation_counts  # computes on train_data (raw data)"
   ]
  },
  {
   "cell_type": "code",
   "execution_count": 7,
   "metadata": {},
   "outputs": [
    {
     "data": {
      "text/plain": [
       "language\n",
       "English     2033782\n",
       "Chinese      702062\n",
       "Russian      461567\n",
       "French       132346\n",
       "Spanish      115912\n",
       "             ...   \n",
       "Armenian         30\n",
       "Marathi          28\n",
       "Tamil            14\n",
       "Gujarati         14\n",
       "Georgian          4\n",
       "Name: count, Length: 74, dtype: int64"
      ]
     },
     "execution_count": 7,
     "metadata": {},
     "output_type": "execute_result"
    }
   ],
   "source": [
    "d.language_turn_counts  # ~10s, for loading expanded_train"
   ]
  },
  {
   "cell_type": "code",
   "execution_count": 10,
   "metadata": {},
   "outputs": [],
   "source": [
    "df = d.expanded_en"
   ]
  },
  {
   "cell_type": "code",
   "execution_count": 41,
   "metadata": {},
   "outputs": [
    {
     "data": {
      "text/plain": [
       "(2033782, 54)"
      ]
     },
     "execution_count": 41,
     "metadata": {},
     "output_type": "execute_result"
    }
   ],
   "source": [
    "df.shape"
   ]
  },
  {
   "cell_type": "code",
   "execution_count": 13,
   "metadata": {},
   "outputs": [
    {
     "data": {
      "text/plain": [
       "3008604331"
      ]
     },
     "execution_count": 13,
     "metadata": {},
     "output_type": "execute_result"
    }
   ],
   "source": [
    "all_content = '\\n'.join(df['conversation.content'])\n",
    "len(all_content)  # 3_008_604_331"
   ]
  },
  {
   "cell_type": "code",
   "execution_count": 15,
   "metadata": {},
   "outputs": [
    {
     "data": {
      "text/plain": [
       "673443658"
      ]
     },
     "execution_count": 15,
     "metadata": {},
     "output_type": "execute_result"
    }
   ],
   "source": [
    "import oa\n",
    "\n",
    "oa.num_tokens(all_content)  # = 673_443_658 (takes 5mn30 to compute)"
   ]
  },
  {
   "cell_type": "code",
   "execution_count": 42,
   "metadata": {},
   "outputs": [
    {
     "data": {
      "text/plain": [
       "13.46887316"
      ]
     },
     "execution_count": 42,
     "metadata": {},
     "output_type": "execute_result"
    }
   ],
   "source": [
    "0.02 * 673443658 / 1e6"
   ]
  },
  {
   "cell_type": "code",
   "execution_count": 32,
   "metadata": {},
   "outputs": [
    {
     "data": {
      "text/plain": [
       "13.468873160000001"
      ]
     },
     "execution_count": 32,
     "metadata": {},
     "output_type": "execute_result"
    }
   ],
   "source": [
    "import oa\n",
    "\n",
    "# oa.compute_price('ada v2', 673443658)\n",
    "oa.base.model_information_dict\n",
    "\n",
    "oa.compute_price('text-embedding-3-small', 673443658)"
   ]
  },
  {
   "cell_type": "code",
   "execution_count": 50,
   "metadata": {},
   "outputs": [
    {
     "data": {
      "text/plain": [
       "{'text-embedding-3-small': {'price_per_million_tokens': 0.02,\n",
       "  'pages_per_dollar': 62500,\n",
       "  'performance_on_mteb_eval': 62.3,\n",
       "  'max_input': 8191},\n",
       " 'text-embedding-3-large': {'price_per_million_tokens': 0.13,\n",
       "  'pages_per_dollar': 9615,\n",
       "  'performance_on_mteb_eval': 64.6,\n",
       "  'max_input': 8191},\n",
       " 'text-embedding-ada-002': {'price_per_million_tokens': 0.1,\n",
       "  'pages_per_dollar': 12500,\n",
       "  'performance_on_mteb_eval': 61.0,\n",
       "  'max_input': 8191},\n",
       " 'batch__text-embedding-3-small': {'price_per_million_tokens': 0.01,\n",
       "  'pages_per_dollar': 100,\n",
       "  'performance_on_mteb_eval': 62.3,\n",
       "  'max_input': 8191},\n",
       " 'batch__text-embedding-3-large': {'price_per_million_tokens': 0.065,\n",
       "  'pages_per_dollar': 15,\n",
       "  'performance_on_mteb_eval': 64.6,\n",
       "  'max_input': 8191},\n",
       " 'batch__text-embedding-ada-002': {'price_per_million_tokens': 0.05,\n",
       "  'pages_per_dollar': 20,\n",
       "  'performance_on_mteb_eval': 61.0,\n",
       "  'max_input': 8191}}"
      ]
     },
     "execution_count": 50,
     "metadata": {},
     "output_type": "execute_result"
    }
   ],
   "source": [
    "from oa.util import embeddings_models\n",
    "\n",
    "embeddings_models"
   ]
  },
  {
   "cell_type": "code",
   "execution_count": 52,
   "metadata": {},
   "outputs": [],
   "source": [
    "# oa.embeddings('dog')"
   ]
  },
  {
   "cell_type": "code",
   "execution_count": null,
   "metadata": {},
   "outputs": [],
   "source": []
  },
  {
   "cell_type": "code",
   "execution_count": null,
   "metadata": {},
   "outputs": [],
   "source": []
  },
  {
   "cell_type": "code",
   "execution_count": null,
   "metadata": {},
   "outputs": [],
   "source": []
  },
  {
   "cell_type": "code",
   "execution_count": null,
   "metadata": {},
   "outputs": [],
   "source": []
  },
  {
   "cell_type": "code",
   "execution_count": null,
   "metadata": {},
   "outputs": [],
   "source": []
  },
  {
   "cell_type": "code",
   "execution_count": 6,
   "metadata": {},
   "outputs": [
    {
     "name": "stdout",
     "output_type": "stream",
     "text": [
      "Making dataframe from parquet bytes\n",
      "Loading bytes of raw data from /Users/thorwhalen/Dropbox/_odata/figiri/github-repos.parquet\n",
      "... Done\n",
      "Dropping duplicate nameWithOwner (github stub)...\n",
      "... Dropped 209524 duplicates\n",
      "... Done\n"
     ]
    }
   ],
   "source": [
    "data_for_cosmo = d.data_with_planar_embeddings()"
   ]
  },
  {
   "cell_type": "code",
   "execution_count": null,
   "metadata": {},
   "outputs": [],
   "source": []
  },
  {
   "cell_type": "code",
   "execution_count": null,
   "metadata": {},
   "outputs": [],
   "source": []
  },
  {
   "cell_type": "code",
   "execution_count": null,
   "metadata": {},
   "outputs": [],
   "source": []
  },
  {
   "cell_type": "code",
   "execution_count": 6,
   "metadata": {},
   "outputs": [],
   "source": [
    "# d.cache['github_repo_for_cosmos.parquet'] = data_for_cosmo"
   ]
  },
  {
   "cell_type": "code",
   "execution_count": 19,
   "metadata": {},
   "outputs": [
    {
     "data": {
      "text/plain": [
       "(3065063, 256)"
      ]
     },
     "execution_count": 19,
     "metadata": {},
     "output_type": "execute_result"
    }
   ],
   "source": [
    "# get numpy array of segment vectors\n",
    "# the d.segment_vectors is a series whose elements are numpy arrays\n",
    "# We want to have a 2 dimentional array with the same number of rows as the series\n",
    "# and the number of columns as the length of the numpy arrays\n",
    "\n",
    "import numpy as np\n",
    "\n",
    "X = np.vstack(d.segment_vectors.tolist())\n",
    "X.shape"
   ]
  },
  {
   "cell_type": "code",
   "execution_count": 15,
   "metadata": {},
   "outputs": [
    {
     "data": {
      "text/plain": [
       "(3065063, 256)"
      ]
     },
     "execution_count": 15,
     "metadata": {},
     "output_type": "execute_result"
    }
   ],
   "source": [
    "from sklearn.cluster import KMeans\n",
    "d.embeddings_matrix"
   ]
  },
  {
   "cell_type": "code",
   "execution_count": 9,
   "metadata": {},
   "outputs": [
    {
     "name": "stdout",
     "output_type": "stream",
     "text": [
      "Computing cluster indices for num of clusters: (5, 8, 13, 21, 34)\n",
      "... Done\n"
     ]
    }
   ],
   "source": [
    "t = d.cluster_indices"
   ]
  },
  {
   "cell_type": "code",
   "execution_count": 24,
   "metadata": {},
   "outputs": [
    {
     "data": {
      "text/plain": [
       "conversation_hash                                                            c9ec5b440fbdd2a269333dd241f32f64\n",
       "model                                                                                              gpt-4-0314\n",
       "timestamp                                                                           2023-04-09 00:02:53+00:00\n",
       "turn                                                                                                        1\n",
       "language                                                                                              English\n",
       "toxic                                                                                                   False\n",
       "redacted                                                                                                False\n",
       "state                                                                                                   Texas\n",
       "country                                                                                         United States\n",
       "hashed_ip                                                   22fd87ba9b98f3d379b23c7b52961f2d4a8505127e58b3...\n",
       "header                                                      {'accept-language': 'en-US,en;q=0.9,es;q=0.8',...\n",
       "conversation.content                                        Hey there! Are you familiar with reality shift...\n",
       "conversation.country                                                                            United States\n",
       "conversation.hashed_ip                                      22fd87ba9b98f3d379b23c7b52961f2d4a8505127e58b3...\n",
       "conversation.header                                         {'accept-language': 'en-US,en;q=0.9,es;q=0.8',...\n",
       "conversation.language                                                                                 English\n",
       "conversation.redacted                                                                                   False\n",
       "conversation.role                                                                                        user\n",
       "conversation.state                                                                                      Texas\n",
       "conversation.timestamp                                                                                    NaT\n",
       "conversation.toxic                                                                                      False\n",
       "conversation.turn_identifier                                                                           101001\n",
       "openai_moderation.flagged                                                                               False\n",
       "detoxify_moderation.identity_attack                                                                  0.000206\n",
       "detoxify_moderation.insult                                                                           0.002148\n",
       "detoxify_moderation.obscene                                                                          0.000412\n",
       "detoxify_moderation.severe_toxicity                                                                   0.00003\n",
       "detoxify_moderation.sexual_explicit                                                                  0.000127\n",
       "detoxify_moderation.threat                                                                           0.000065\n",
       "detoxify_moderation.toxicity                                                                         0.005422\n",
       "openai_moderation.categories.harassment                                                                 False\n",
       "openai_moderation.categories.harassment_threatening                                                     False\n",
       "openai_moderation.categories.hate                                                                       False\n",
       "openai_moderation.categories.hate_threatening                                                           False\n",
       "openai_moderation.categories.self-harm                                                                  False\n",
       "openai_moderation.categories.self_harm                                                                  False\n",
       "openai_moderation.categories.self_harm_instructions                                                     False\n",
       "openai_moderation.categories.self_harm_intent                                                           False\n",
       "openai_moderation.categories.sexual                                                                     False\n",
       "openai_moderation.categories.sexual_minors                                                              False\n",
       "openai_moderation.categories.violence                                                                   False\n",
       "openai_moderation.categories.violence_graphic                                                           False\n",
       "openai_moderation.category_scores.harassment                                                         0.000485\n",
       "openai_moderation.category_scores.harassment_threatening                                             0.000125\n",
       "openai_moderation.category_scores.hate                                                               0.000457\n",
       "openai_moderation.category_scores.hate_threatening                                                   0.000013\n",
       "openai_moderation.category_scores.self-harm                                                          0.000055\n",
       "openai_moderation.category_scores.self_harm                                                          0.000055\n",
       "openai_moderation.category_scores.self_harm_instructions                                             0.000001\n",
       "openai_moderation.category_scores.self_harm_intent                                                   0.000015\n",
       "openai_moderation.category_scores.sexual                                                             0.006505\n",
       "openai_moderation.category_scores.sexual_minors                                                      0.000202\n",
       "openai_moderation.category_scores.violence                                                           0.083071\n",
       "openai_moderation.category_scores.violence_graphic                                                   0.000052\n",
       "Name: 0, dtype: object"
      ]
     },
     "execution_count": 24,
     "metadata": {},
     "output_type": "execute_result"
    }
   ],
   "source": [
    "df.iloc[0]"
   ]
  },
  {
   "cell_type": "code",
   "execution_count": 25,
   "metadata": {},
   "outputs": [],
   "source": [
    "t = df[['conversation_hash', 'turn']].groupby('conversation_hash')\n",
    "\n",
    "# see if the turn number is the same for each group\n",
    "\n",
    "tt = t['turn'].nunique()\n",
    "               "
   ]
  },
  {
   "cell_type": "code",
   "execution_count": 34,
   "metadata": {},
   "outputs": [
    {
     "data": {
      "text/plain": [
       "<pandas.core.groupby.generic.SeriesGroupBy object at 0x60e4ef460>"
      ]
     },
     "execution_count": 34,
     "metadata": {},
     "output_type": "execute_result"
    }
   ],
   "source": [
    "w = t['turn']\n",
    "w"
   ]
  },
  {
   "cell_type": "code",
   "execution_count": 46,
   "metadata": {},
   "outputs": [
    {
     "data": {
      "text/plain": [
       "(18, 54)"
      ]
     },
     "execution_count": 46,
     "metadata": {},
     "output_type": "execute_result"
    }
   ],
   "source": [
    "ww = df[df.conversation_hash == df.conversation_hash.iloc[10000]]\n",
    "ww.shape"
   ]
  },
  {
   "cell_type": "code",
   "execution_count": 47,
   "metadata": {},
   "outputs": [
    {
     "data": {
      "text/html": [
       "<div>\n",
       "<style scoped>\n",
       "    .dataframe tbody tr th:only-of-type {\n",
       "        vertical-align: middle;\n",
       "    }\n",
       "\n",
       "    .dataframe tbody tr th {\n",
       "        vertical-align: top;\n",
       "    }\n",
       "\n",
       "    .dataframe thead th {\n",
       "        text-align: right;\n",
       "    }\n",
       "</style>\n",
       "<table border=\"1\" class=\"dataframe\">\n",
       "  <thead>\n",
       "    <tr style=\"text-align: right;\">\n",
       "      <th></th>\n",
       "      <th>conversation_hash</th>\n",
       "      <th>model</th>\n",
       "      <th>timestamp</th>\n",
       "      <th>turn</th>\n",
       "      <th>language</th>\n",
       "      <th>toxic</th>\n",
       "      <th>redacted</th>\n",
       "      <th>state</th>\n",
       "      <th>country</th>\n",
       "      <th>hashed_ip</th>\n",
       "      <th>...</th>\n",
       "      <th>openai_moderation.category_scores.hate</th>\n",
       "      <th>openai_moderation.category_scores.hate_threatening</th>\n",
       "      <th>openai_moderation.category_scores.self-harm</th>\n",
       "      <th>openai_moderation.category_scores.self_harm</th>\n",
       "      <th>openai_moderation.category_scores.self_harm_instructions</th>\n",
       "      <th>openai_moderation.category_scores.self_harm_intent</th>\n",
       "      <th>openai_moderation.category_scores.sexual</th>\n",
       "      <th>openai_moderation.category_scores.sexual_minors</th>\n",
       "      <th>openai_moderation.category_scores.violence</th>\n",
       "      <th>openai_moderation.category_scores.violence_graphic</th>\n",
       "    </tr>\n",
       "  </thead>\n",
       "  <tbody>\n",
       "    <tr>\n",
       "      <th>10022</th>\n",
       "      <td>b6c9e101545621fe21b57cf071ea4fbb</td>\n",
       "      <td>gpt-3.5-turbo-0301</td>\n",
       "      <td>2023-04-10 00:19:13+00:00</td>\n",
       "      <td>9</td>\n",
       "      <td>English</td>\n",
       "      <td>False</td>\n",
       "      <td>False</td>\n",
       "      <td>None</td>\n",
       "      <td>United Kingdom</td>\n",
       "      <td>655c90bccccbfe5d45155d8ba640968d3979be04a574f5...</td>\n",
       "      <td>...</td>\n",
       "      <td>8.560066e-06</td>\n",
       "      <td>1.177902e-07</td>\n",
       "      <td>5.698167e-08</td>\n",
       "      <td>5.698167e-08</td>\n",
       "      <td>7.000239e-07</td>\n",
       "      <td>3.924020e-08</td>\n",
       "      <td>1.607948e-05</td>\n",
       "      <td>1.403812e-07</td>\n",
       "      <td>0.000004</td>\n",
       "      <td>8.308701e-07</td>\n",
       "    </tr>\n",
       "    <tr>\n",
       "      <th>10023</th>\n",
       "      <td>b6c9e101545621fe21b57cf071ea4fbb</td>\n",
       "      <td>gpt-3.5-turbo-0301</td>\n",
       "      <td>2023-04-10 00:19:13+00:00</td>\n",
       "      <td>9</td>\n",
       "      <td>English</td>\n",
       "      <td>False</td>\n",
       "      <td>False</td>\n",
       "      <td>None</td>\n",
       "      <td>United Kingdom</td>\n",
       "      <td>655c90bccccbfe5d45155d8ba640968d3979be04a574f5...</td>\n",
       "      <td>...</td>\n",
       "      <td>3.599308e-06</td>\n",
       "      <td>1.932818e-08</td>\n",
       "      <td>1.549814e-08</td>\n",
       "      <td>1.549814e-08</td>\n",
       "      <td>2.338652e-08</td>\n",
       "      <td>6.392519e-09</td>\n",
       "      <td>3.556191e-06</td>\n",
       "      <td>4.100534e-08</td>\n",
       "      <td>0.000003</td>\n",
       "      <td>9.448757e-07</td>\n",
       "    </tr>\n",
       "    <tr>\n",
       "      <th>10024</th>\n",
       "      <td>b6c9e101545621fe21b57cf071ea4fbb</td>\n",
       "      <td>gpt-3.5-turbo-0301</td>\n",
       "      <td>2023-04-10 00:19:13+00:00</td>\n",
       "      <td>9</td>\n",
       "      <td>English</td>\n",
       "      <td>False</td>\n",
       "      <td>False</td>\n",
       "      <td>None</td>\n",
       "      <td>United Kingdom</td>\n",
       "      <td>655c90bccccbfe5d45155d8ba640968d3979be04a574f5...</td>\n",
       "      <td>...</td>\n",
       "      <td>7.716891e-04</td>\n",
       "      <td>9.781449e-06</td>\n",
       "      <td>5.611879e-07</td>\n",
       "      <td>5.611879e-07</td>\n",
       "      <td>1.037431e-04</td>\n",
       "      <td>6.468735e-06</td>\n",
       "      <td>3.651887e-07</td>\n",
       "      <td>6.270196e-08</td>\n",
       "      <td>0.000018</td>\n",
       "      <td>8.820460e-06</td>\n",
       "    </tr>\n",
       "    <tr>\n",
       "      <th>10025</th>\n",
       "      <td>b6c9e101545621fe21b57cf071ea4fbb</td>\n",
       "      <td>gpt-3.5-turbo-0301</td>\n",
       "      <td>2023-04-10 00:19:13+00:00</td>\n",
       "      <td>9</td>\n",
       "      <td>English</td>\n",
       "      <td>False</td>\n",
       "      <td>False</td>\n",
       "      <td>None</td>\n",
       "      <td>United Kingdom</td>\n",
       "      <td>655c90bccccbfe5d45155d8ba640968d3979be04a574f5...</td>\n",
       "      <td>...</td>\n",
       "      <td>2.318166e-05</td>\n",
       "      <td>1.200334e-08</td>\n",
       "      <td>2.156982e-07</td>\n",
       "      <td>2.156982e-07</td>\n",
       "      <td>5.506181e-08</td>\n",
       "      <td>5.028720e-07</td>\n",
       "      <td>2.864497e-06</td>\n",
       "      <td>3.680430e-08</td>\n",
       "      <td>0.000048</td>\n",
       "      <td>3.797020e-05</td>\n",
       "    </tr>\n",
       "    <tr>\n",
       "      <th>10026</th>\n",
       "      <td>b6c9e101545621fe21b57cf071ea4fbb</td>\n",
       "      <td>gpt-3.5-turbo-0301</td>\n",
       "      <td>2023-04-10 00:19:13+00:00</td>\n",
       "      <td>9</td>\n",
       "      <td>English</td>\n",
       "      <td>False</td>\n",
       "      <td>False</td>\n",
       "      <td>None</td>\n",
       "      <td>United Kingdom</td>\n",
       "      <td>655c90bccccbfe5d45155d8ba640968d3979be04a574f5...</td>\n",
       "      <td>...</td>\n",
       "      <td>8.972065e-05</td>\n",
       "      <td>3.721726e-08</td>\n",
       "      <td>6.696445e-08</td>\n",
       "      <td>6.696445e-08</td>\n",
       "      <td>2.632944e-09</td>\n",
       "      <td>1.321221e-08</td>\n",
       "      <td>3.964782e-05</td>\n",
       "      <td>5.612077e-07</td>\n",
       "      <td>0.000007</td>\n",
       "      <td>9.867542e-06</td>\n",
       "    </tr>\n",
       "    <tr>\n",
       "      <th>10027</th>\n",
       "      <td>b6c9e101545621fe21b57cf071ea4fbb</td>\n",
       "      <td>gpt-3.5-turbo-0301</td>\n",
       "      <td>2023-04-10 00:19:13+00:00</td>\n",
       "      <td>9</td>\n",
       "      <td>English</td>\n",
       "      <td>False</td>\n",
       "      <td>False</td>\n",
       "      <td>None</td>\n",
       "      <td>United Kingdom</td>\n",
       "      <td>655c90bccccbfe5d45155d8ba640968d3979be04a574f5...</td>\n",
       "      <td>...</td>\n",
       "      <td>2.800229e-05</td>\n",
       "      <td>1.644585e-07</td>\n",
       "      <td>4.765648e-06</td>\n",
       "      <td>4.765648e-06</td>\n",
       "      <td>2.606096e-07</td>\n",
       "      <td>6.785344e-06</td>\n",
       "      <td>2.763604e-04</td>\n",
       "      <td>1.187764e-05</td>\n",
       "      <td>0.000150</td>\n",
       "      <td>3.415837e-05</td>\n",
       "    </tr>\n",
       "    <tr>\n",
       "      <th>10028</th>\n",
       "      <td>b6c9e101545621fe21b57cf071ea4fbb</td>\n",
       "      <td>gpt-3.5-turbo-0301</td>\n",
       "      <td>2023-04-10 00:19:13+00:00</td>\n",
       "      <td>9</td>\n",
       "      <td>English</td>\n",
       "      <td>False</td>\n",
       "      <td>False</td>\n",
       "      <td>None</td>\n",
       "      <td>United Kingdom</td>\n",
       "      <td>655c90bccccbfe5d45155d8ba640968d3979be04a574f5...</td>\n",
       "      <td>...</td>\n",
       "      <td>8.186800e-06</td>\n",
       "      <td>5.734495e-08</td>\n",
       "      <td>1.032312e-07</td>\n",
       "      <td>1.032312e-07</td>\n",
       "      <td>5.211108e-06</td>\n",
       "      <td>1.527691e-07</td>\n",
       "      <td>4.321943e-05</td>\n",
       "      <td>5.010630e-07</td>\n",
       "      <td>0.000013</td>\n",
       "      <td>1.206811e-06</td>\n",
       "    </tr>\n",
       "    <tr>\n",
       "      <th>10029</th>\n",
       "      <td>b6c9e101545621fe21b57cf071ea4fbb</td>\n",
       "      <td>gpt-3.5-turbo-0301</td>\n",
       "      <td>2023-04-10 00:19:13+00:00</td>\n",
       "      <td>9</td>\n",
       "      <td>English</td>\n",
       "      <td>False</td>\n",
       "      <td>False</td>\n",
       "      <td>None</td>\n",
       "      <td>United Kingdom</td>\n",
       "      <td>655c90bccccbfe5d45155d8ba640968d3979be04a574f5...</td>\n",
       "      <td>...</td>\n",
       "      <td>2.822489e-05</td>\n",
       "      <td>6.462722e-08</td>\n",
       "      <td>3.939725e-07</td>\n",
       "      <td>3.939725e-07</td>\n",
       "      <td>3.200054e-08</td>\n",
       "      <td>2.077721e-08</td>\n",
       "      <td>2.953003e-06</td>\n",
       "      <td>7.248196e-08</td>\n",
       "      <td>0.000005</td>\n",
       "      <td>5.167577e-06</td>\n",
       "    </tr>\n",
       "    <tr>\n",
       "      <th>10030</th>\n",
       "      <td>b6c9e101545621fe21b57cf071ea4fbb</td>\n",
       "      <td>gpt-3.5-turbo-0301</td>\n",
       "      <td>2023-04-10 00:19:13+00:00</td>\n",
       "      <td>9</td>\n",
       "      <td>English</td>\n",
       "      <td>False</td>\n",
       "      <td>False</td>\n",
       "      <td>None</td>\n",
       "      <td>United Kingdom</td>\n",
       "      <td>655c90bccccbfe5d45155d8ba640968d3979be04a574f5...</td>\n",
       "      <td>...</td>\n",
       "      <td>9.061228e-06</td>\n",
       "      <td>3.345552e-08</td>\n",
       "      <td>9.246688e-07</td>\n",
       "      <td>9.246688e-07</td>\n",
       "      <td>4.029054e-07</td>\n",
       "      <td>9.376783e-07</td>\n",
       "      <td>2.356749e-04</td>\n",
       "      <td>1.261401e-05</td>\n",
       "      <td>0.000057</td>\n",
       "      <td>7.687549e-06</td>\n",
       "    </tr>\n",
       "    <tr>\n",
       "      <th>10031</th>\n",
       "      <td>b6c9e101545621fe21b57cf071ea4fbb</td>\n",
       "      <td>gpt-3.5-turbo-0301</td>\n",
       "      <td>2023-04-10 00:19:13+00:00</td>\n",
       "      <td>9</td>\n",
       "      <td>English</td>\n",
       "      <td>False</td>\n",
       "      <td>False</td>\n",
       "      <td>None</td>\n",
       "      <td>United Kingdom</td>\n",
       "      <td>655c90bccccbfe5d45155d8ba640968d3979be04a574f5...</td>\n",
       "      <td>...</td>\n",
       "      <td>5.081911e-07</td>\n",
       "      <td>1.963464e-07</td>\n",
       "      <td>5.633334e-06</td>\n",
       "      <td>5.633334e-06</td>\n",
       "      <td>1.399870e-06</td>\n",
       "      <td>1.684211e-05</td>\n",
       "      <td>5.790507e-04</td>\n",
       "      <td>1.823820e-05</td>\n",
       "      <td>0.000090</td>\n",
       "      <td>3.037581e-05</td>\n",
       "    </tr>\n",
       "    <tr>\n",
       "      <th>10032</th>\n",
       "      <td>b6c9e101545621fe21b57cf071ea4fbb</td>\n",
       "      <td>gpt-3.5-turbo-0301</td>\n",
       "      <td>2023-04-10 00:19:13+00:00</td>\n",
       "      <td>9</td>\n",
       "      <td>English</td>\n",
       "      <td>False</td>\n",
       "      <td>False</td>\n",
       "      <td>None</td>\n",
       "      <td>United Kingdom</td>\n",
       "      <td>655c90bccccbfe5d45155d8ba640968d3979be04a574f5...</td>\n",
       "      <td>...</td>\n",
       "      <td>2.487068e-06</td>\n",
       "      <td>2.791518e-07</td>\n",
       "      <td>9.634796e-07</td>\n",
       "      <td>9.634796e-07</td>\n",
       "      <td>1.166102e-07</td>\n",
       "      <td>4.273041e-07</td>\n",
       "      <td>2.892839e-04</td>\n",
       "      <td>2.499226e-04</td>\n",
       "      <td>0.000123</td>\n",
       "      <td>3.602239e-05</td>\n",
       "    </tr>\n",
       "    <tr>\n",
       "      <th>10033</th>\n",
       "      <td>b6c9e101545621fe21b57cf071ea4fbb</td>\n",
       "      <td>gpt-3.5-turbo-0301</td>\n",
       "      <td>2023-04-10 00:19:13+00:00</td>\n",
       "      <td>9</td>\n",
       "      <td>English</td>\n",
       "      <td>False</td>\n",
       "      <td>False</td>\n",
       "      <td>None</td>\n",
       "      <td>United Kingdom</td>\n",
       "      <td>655c90bccccbfe5d45155d8ba640968d3979be04a574f5...</td>\n",
       "      <td>...</td>\n",
       "      <td>2.857869e-06</td>\n",
       "      <td>2.877259e-09</td>\n",
       "      <td>2.312513e-07</td>\n",
       "      <td>2.312513e-07</td>\n",
       "      <td>1.622015e-08</td>\n",
       "      <td>2.356299e-07</td>\n",
       "      <td>5.529280e-05</td>\n",
       "      <td>5.406052e-06</td>\n",
       "      <td>0.000023</td>\n",
       "      <td>2.884773e-06</td>\n",
       "    </tr>\n",
       "    <tr>\n",
       "      <th>10034</th>\n",
       "      <td>b6c9e101545621fe21b57cf071ea4fbb</td>\n",
       "      <td>gpt-3.5-turbo-0301</td>\n",
       "      <td>2023-04-10 00:19:13+00:00</td>\n",
       "      <td>9</td>\n",
       "      <td>English</td>\n",
       "      <td>False</td>\n",
       "      <td>False</td>\n",
       "      <td>None</td>\n",
       "      <td>United Kingdom</td>\n",
       "      <td>655c90bccccbfe5d45155d8ba640968d3979be04a574f5...</td>\n",
       "      <td>...</td>\n",
       "      <td>1.877370e-05</td>\n",
       "      <td>3.366715e-08</td>\n",
       "      <td>1.096690e-07</td>\n",
       "      <td>1.096690e-07</td>\n",
       "      <td>5.370233e-09</td>\n",
       "      <td>2.263774e-08</td>\n",
       "      <td>8.701622e-05</td>\n",
       "      <td>4.011825e-05</td>\n",
       "      <td>0.000022</td>\n",
       "      <td>6.209637e-06</td>\n",
       "    </tr>\n",
       "    <tr>\n",
       "      <th>10035</th>\n",
       "      <td>b6c9e101545621fe21b57cf071ea4fbb</td>\n",
       "      <td>gpt-3.5-turbo-0301</td>\n",
       "      <td>2023-04-10 00:19:13+00:00</td>\n",
       "      <td>9</td>\n",
       "      <td>English</td>\n",
       "      <td>False</td>\n",
       "      <td>False</td>\n",
       "      <td>None</td>\n",
       "      <td>United Kingdom</td>\n",
       "      <td>655c90bccccbfe5d45155d8ba640968d3979be04a574f5...</td>\n",
       "      <td>...</td>\n",
       "      <td>1.468067e-05</td>\n",
       "      <td>2.683053e-08</td>\n",
       "      <td>1.033140e-07</td>\n",
       "      <td>1.033140e-07</td>\n",
       "      <td>3.457773e-09</td>\n",
       "      <td>8.054282e-09</td>\n",
       "      <td>1.654337e-04</td>\n",
       "      <td>1.370585e-05</td>\n",
       "      <td>0.000283</td>\n",
       "      <td>3.621858e-06</td>\n",
       "    </tr>\n",
       "    <tr>\n",
       "      <th>10036</th>\n",
       "      <td>b6c9e101545621fe21b57cf071ea4fbb</td>\n",
       "      <td>gpt-3.5-turbo-0301</td>\n",
       "      <td>2023-04-10 00:19:13+00:00</td>\n",
       "      <td>9</td>\n",
       "      <td>English</td>\n",
       "      <td>False</td>\n",
       "      <td>False</td>\n",
       "      <td>None</td>\n",
       "      <td>United Kingdom</td>\n",
       "      <td>655c90bccccbfe5d45155d8ba640968d3979be04a574f5...</td>\n",
       "      <td>...</td>\n",
       "      <td>7.772050e-06</td>\n",
       "      <td>5.988907e-07</td>\n",
       "      <td>4.345102e-08</td>\n",
       "      <td>4.345102e-08</td>\n",
       "      <td>3.213014e-08</td>\n",
       "      <td>1.673824e-07</td>\n",
       "      <td>6.822284e-05</td>\n",
       "      <td>1.575359e-05</td>\n",
       "      <td>0.000060</td>\n",
       "      <td>9.004339e-06</td>\n",
       "    </tr>\n",
       "    <tr>\n",
       "      <th>10037</th>\n",
       "      <td>b6c9e101545621fe21b57cf071ea4fbb</td>\n",
       "      <td>gpt-3.5-turbo-0301</td>\n",
       "      <td>2023-04-10 00:19:13+00:00</td>\n",
       "      <td>9</td>\n",
       "      <td>English</td>\n",
       "      <td>False</td>\n",
       "      <td>False</td>\n",
       "      <td>None</td>\n",
       "      <td>United Kingdom</td>\n",
       "      <td>655c90bccccbfe5d45155d8ba640968d3979be04a574f5...</td>\n",
       "      <td>...</td>\n",
       "      <td>6.939480e-06</td>\n",
       "      <td>1.587448e-08</td>\n",
       "      <td>2.739635e-07</td>\n",
       "      <td>2.739635e-07</td>\n",
       "      <td>1.202230e-09</td>\n",
       "      <td>1.344995e-08</td>\n",
       "      <td>2.705508e-05</td>\n",
       "      <td>3.516383e-06</td>\n",
       "      <td>0.000366</td>\n",
       "      <td>2.978828e-05</td>\n",
       "    </tr>\n",
       "    <tr>\n",
       "      <th>10038</th>\n",
       "      <td>b6c9e101545621fe21b57cf071ea4fbb</td>\n",
       "      <td>gpt-3.5-turbo-0301</td>\n",
       "      <td>2023-04-10 00:19:13+00:00</td>\n",
       "      <td>9</td>\n",
       "      <td>English</td>\n",
       "      <td>False</td>\n",
       "      <td>False</td>\n",
       "      <td>None</td>\n",
       "      <td>United Kingdom</td>\n",
       "      <td>655c90bccccbfe5d45155d8ba640968d3979be04a574f5...</td>\n",
       "      <td>...</td>\n",
       "      <td>7.701629e-07</td>\n",
       "      <td>8.054895e-09</td>\n",
       "      <td>2.630063e-07</td>\n",
       "      <td>2.630063e-07</td>\n",
       "      <td>6.231755e-07</td>\n",
       "      <td>2.911682e-06</td>\n",
       "      <td>3.162012e-06</td>\n",
       "      <td>5.981293e-06</td>\n",
       "      <td>0.000005</td>\n",
       "      <td>2.385720e-08</td>\n",
       "    </tr>\n",
       "    <tr>\n",
       "      <th>10039</th>\n",
       "      <td>b6c9e101545621fe21b57cf071ea4fbb</td>\n",
       "      <td>gpt-3.5-turbo-0301</td>\n",
       "      <td>2023-04-10 00:19:13+00:00</td>\n",
       "      <td>9</td>\n",
       "      <td>English</td>\n",
       "      <td>False</td>\n",
       "      <td>False</td>\n",
       "      <td>None</td>\n",
       "      <td>United Kingdom</td>\n",
       "      <td>655c90bccccbfe5d45155d8ba640968d3979be04a574f5...</td>\n",
       "      <td>...</td>\n",
       "      <td>5.254616e-08</td>\n",
       "      <td>1.492851e-09</td>\n",
       "      <td>8.744260e-08</td>\n",
       "      <td>8.744260e-08</td>\n",
       "      <td>1.208442e-07</td>\n",
       "      <td>2.451112e-07</td>\n",
       "      <td>1.290935e-05</td>\n",
       "      <td>1.172751e-06</td>\n",
       "      <td>0.000003</td>\n",
       "      <td>3.586133e-08</td>\n",
       "    </tr>\n",
       "  </tbody>\n",
       "</table>\n",
       "<p>18 rows × 54 columns</p>\n",
       "</div>"
      ],
      "text/plain": [
       "                      conversation_hash               model  \\\n",
       "10022  b6c9e101545621fe21b57cf071ea4fbb  gpt-3.5-turbo-0301   \n",
       "10023  b6c9e101545621fe21b57cf071ea4fbb  gpt-3.5-turbo-0301   \n",
       "10024  b6c9e101545621fe21b57cf071ea4fbb  gpt-3.5-turbo-0301   \n",
       "10025  b6c9e101545621fe21b57cf071ea4fbb  gpt-3.5-turbo-0301   \n",
       "10026  b6c9e101545621fe21b57cf071ea4fbb  gpt-3.5-turbo-0301   \n",
       "10027  b6c9e101545621fe21b57cf071ea4fbb  gpt-3.5-turbo-0301   \n",
       "10028  b6c9e101545621fe21b57cf071ea4fbb  gpt-3.5-turbo-0301   \n",
       "10029  b6c9e101545621fe21b57cf071ea4fbb  gpt-3.5-turbo-0301   \n",
       "10030  b6c9e101545621fe21b57cf071ea4fbb  gpt-3.5-turbo-0301   \n",
       "10031  b6c9e101545621fe21b57cf071ea4fbb  gpt-3.5-turbo-0301   \n",
       "10032  b6c9e101545621fe21b57cf071ea4fbb  gpt-3.5-turbo-0301   \n",
       "10033  b6c9e101545621fe21b57cf071ea4fbb  gpt-3.5-turbo-0301   \n",
       "10034  b6c9e101545621fe21b57cf071ea4fbb  gpt-3.5-turbo-0301   \n",
       "10035  b6c9e101545621fe21b57cf071ea4fbb  gpt-3.5-turbo-0301   \n",
       "10036  b6c9e101545621fe21b57cf071ea4fbb  gpt-3.5-turbo-0301   \n",
       "10037  b6c9e101545621fe21b57cf071ea4fbb  gpt-3.5-turbo-0301   \n",
       "10038  b6c9e101545621fe21b57cf071ea4fbb  gpt-3.5-turbo-0301   \n",
       "10039  b6c9e101545621fe21b57cf071ea4fbb  gpt-3.5-turbo-0301   \n",
       "\n",
       "                      timestamp  turn language  toxic  redacted state  \\\n",
       "10022 2023-04-10 00:19:13+00:00     9  English  False     False  None   \n",
       "10023 2023-04-10 00:19:13+00:00     9  English  False     False  None   \n",
       "10024 2023-04-10 00:19:13+00:00     9  English  False     False  None   \n",
       "10025 2023-04-10 00:19:13+00:00     9  English  False     False  None   \n",
       "10026 2023-04-10 00:19:13+00:00     9  English  False     False  None   \n",
       "10027 2023-04-10 00:19:13+00:00     9  English  False     False  None   \n",
       "10028 2023-04-10 00:19:13+00:00     9  English  False     False  None   \n",
       "10029 2023-04-10 00:19:13+00:00     9  English  False     False  None   \n",
       "10030 2023-04-10 00:19:13+00:00     9  English  False     False  None   \n",
       "10031 2023-04-10 00:19:13+00:00     9  English  False     False  None   \n",
       "10032 2023-04-10 00:19:13+00:00     9  English  False     False  None   \n",
       "10033 2023-04-10 00:19:13+00:00     9  English  False     False  None   \n",
       "10034 2023-04-10 00:19:13+00:00     9  English  False     False  None   \n",
       "10035 2023-04-10 00:19:13+00:00     9  English  False     False  None   \n",
       "10036 2023-04-10 00:19:13+00:00     9  English  False     False  None   \n",
       "10037 2023-04-10 00:19:13+00:00     9  English  False     False  None   \n",
       "10038 2023-04-10 00:19:13+00:00     9  English  False     False  None   \n",
       "10039 2023-04-10 00:19:13+00:00     9  English  False     False  None   \n",
       "\n",
       "              country                                          hashed_ip  ...  \\\n",
       "10022  United Kingdom  655c90bccccbfe5d45155d8ba640968d3979be04a574f5...  ...   \n",
       "10023  United Kingdom  655c90bccccbfe5d45155d8ba640968d3979be04a574f5...  ...   \n",
       "10024  United Kingdom  655c90bccccbfe5d45155d8ba640968d3979be04a574f5...  ...   \n",
       "10025  United Kingdom  655c90bccccbfe5d45155d8ba640968d3979be04a574f5...  ...   \n",
       "10026  United Kingdom  655c90bccccbfe5d45155d8ba640968d3979be04a574f5...  ...   \n",
       "10027  United Kingdom  655c90bccccbfe5d45155d8ba640968d3979be04a574f5...  ...   \n",
       "10028  United Kingdom  655c90bccccbfe5d45155d8ba640968d3979be04a574f5...  ...   \n",
       "10029  United Kingdom  655c90bccccbfe5d45155d8ba640968d3979be04a574f5...  ...   \n",
       "10030  United Kingdom  655c90bccccbfe5d45155d8ba640968d3979be04a574f5...  ...   \n",
       "10031  United Kingdom  655c90bccccbfe5d45155d8ba640968d3979be04a574f5...  ...   \n",
       "10032  United Kingdom  655c90bccccbfe5d45155d8ba640968d3979be04a574f5...  ...   \n",
       "10033  United Kingdom  655c90bccccbfe5d45155d8ba640968d3979be04a574f5...  ...   \n",
       "10034  United Kingdom  655c90bccccbfe5d45155d8ba640968d3979be04a574f5...  ...   \n",
       "10035  United Kingdom  655c90bccccbfe5d45155d8ba640968d3979be04a574f5...  ...   \n",
       "10036  United Kingdom  655c90bccccbfe5d45155d8ba640968d3979be04a574f5...  ...   \n",
       "10037  United Kingdom  655c90bccccbfe5d45155d8ba640968d3979be04a574f5...  ...   \n",
       "10038  United Kingdom  655c90bccccbfe5d45155d8ba640968d3979be04a574f5...  ...   \n",
       "10039  United Kingdom  655c90bccccbfe5d45155d8ba640968d3979be04a574f5...  ...   \n",
       "\n",
       "      openai_moderation.category_scores.hate  \\\n",
       "10022                           8.560066e-06   \n",
       "10023                           3.599308e-06   \n",
       "10024                           7.716891e-04   \n",
       "10025                           2.318166e-05   \n",
       "10026                           8.972065e-05   \n",
       "10027                           2.800229e-05   \n",
       "10028                           8.186800e-06   \n",
       "10029                           2.822489e-05   \n",
       "10030                           9.061228e-06   \n",
       "10031                           5.081911e-07   \n",
       "10032                           2.487068e-06   \n",
       "10033                           2.857869e-06   \n",
       "10034                           1.877370e-05   \n",
       "10035                           1.468067e-05   \n",
       "10036                           7.772050e-06   \n",
       "10037                           6.939480e-06   \n",
       "10038                           7.701629e-07   \n",
       "10039                           5.254616e-08   \n",
       "\n",
       "      openai_moderation.category_scores.hate_threatening  \\\n",
       "10022                                       1.177902e-07   \n",
       "10023                                       1.932818e-08   \n",
       "10024                                       9.781449e-06   \n",
       "10025                                       1.200334e-08   \n",
       "10026                                       3.721726e-08   \n",
       "10027                                       1.644585e-07   \n",
       "10028                                       5.734495e-08   \n",
       "10029                                       6.462722e-08   \n",
       "10030                                       3.345552e-08   \n",
       "10031                                       1.963464e-07   \n",
       "10032                                       2.791518e-07   \n",
       "10033                                       2.877259e-09   \n",
       "10034                                       3.366715e-08   \n",
       "10035                                       2.683053e-08   \n",
       "10036                                       5.988907e-07   \n",
       "10037                                       1.587448e-08   \n",
       "10038                                       8.054895e-09   \n",
       "10039                                       1.492851e-09   \n",
       "\n",
       "      openai_moderation.category_scores.self-harm  \\\n",
       "10022                                5.698167e-08   \n",
       "10023                                1.549814e-08   \n",
       "10024                                5.611879e-07   \n",
       "10025                                2.156982e-07   \n",
       "10026                                6.696445e-08   \n",
       "10027                                4.765648e-06   \n",
       "10028                                1.032312e-07   \n",
       "10029                                3.939725e-07   \n",
       "10030                                9.246688e-07   \n",
       "10031                                5.633334e-06   \n",
       "10032                                9.634796e-07   \n",
       "10033                                2.312513e-07   \n",
       "10034                                1.096690e-07   \n",
       "10035                                1.033140e-07   \n",
       "10036                                4.345102e-08   \n",
       "10037                                2.739635e-07   \n",
       "10038                                2.630063e-07   \n",
       "10039                                8.744260e-08   \n",
       "\n",
       "      openai_moderation.category_scores.self_harm  \\\n",
       "10022                                5.698167e-08   \n",
       "10023                                1.549814e-08   \n",
       "10024                                5.611879e-07   \n",
       "10025                                2.156982e-07   \n",
       "10026                                6.696445e-08   \n",
       "10027                                4.765648e-06   \n",
       "10028                                1.032312e-07   \n",
       "10029                                3.939725e-07   \n",
       "10030                                9.246688e-07   \n",
       "10031                                5.633334e-06   \n",
       "10032                                9.634796e-07   \n",
       "10033                                2.312513e-07   \n",
       "10034                                1.096690e-07   \n",
       "10035                                1.033140e-07   \n",
       "10036                                4.345102e-08   \n",
       "10037                                2.739635e-07   \n",
       "10038                                2.630063e-07   \n",
       "10039                                8.744260e-08   \n",
       "\n",
       "      openai_moderation.category_scores.self_harm_instructions  \\\n",
       "10022                                       7.000239e-07         \n",
       "10023                                       2.338652e-08         \n",
       "10024                                       1.037431e-04         \n",
       "10025                                       5.506181e-08         \n",
       "10026                                       2.632944e-09         \n",
       "10027                                       2.606096e-07         \n",
       "10028                                       5.211108e-06         \n",
       "10029                                       3.200054e-08         \n",
       "10030                                       4.029054e-07         \n",
       "10031                                       1.399870e-06         \n",
       "10032                                       1.166102e-07         \n",
       "10033                                       1.622015e-08         \n",
       "10034                                       5.370233e-09         \n",
       "10035                                       3.457773e-09         \n",
       "10036                                       3.213014e-08         \n",
       "10037                                       1.202230e-09         \n",
       "10038                                       6.231755e-07         \n",
       "10039                                       1.208442e-07         \n",
       "\n",
       "      openai_moderation.category_scores.self_harm_intent  \\\n",
       "10022                                       3.924020e-08   \n",
       "10023                                       6.392519e-09   \n",
       "10024                                       6.468735e-06   \n",
       "10025                                       5.028720e-07   \n",
       "10026                                       1.321221e-08   \n",
       "10027                                       6.785344e-06   \n",
       "10028                                       1.527691e-07   \n",
       "10029                                       2.077721e-08   \n",
       "10030                                       9.376783e-07   \n",
       "10031                                       1.684211e-05   \n",
       "10032                                       4.273041e-07   \n",
       "10033                                       2.356299e-07   \n",
       "10034                                       2.263774e-08   \n",
       "10035                                       8.054282e-09   \n",
       "10036                                       1.673824e-07   \n",
       "10037                                       1.344995e-08   \n",
       "10038                                       2.911682e-06   \n",
       "10039                                       2.451112e-07   \n",
       "\n",
       "       openai_moderation.category_scores.sexual  \\\n",
       "10022                              1.607948e-05   \n",
       "10023                              3.556191e-06   \n",
       "10024                              3.651887e-07   \n",
       "10025                              2.864497e-06   \n",
       "10026                              3.964782e-05   \n",
       "10027                              2.763604e-04   \n",
       "10028                              4.321943e-05   \n",
       "10029                              2.953003e-06   \n",
       "10030                              2.356749e-04   \n",
       "10031                              5.790507e-04   \n",
       "10032                              2.892839e-04   \n",
       "10033                              5.529280e-05   \n",
       "10034                              8.701622e-05   \n",
       "10035                              1.654337e-04   \n",
       "10036                              6.822284e-05   \n",
       "10037                              2.705508e-05   \n",
       "10038                              3.162012e-06   \n",
       "10039                              1.290935e-05   \n",
       "\n",
       "      openai_moderation.category_scores.sexual_minors  \\\n",
       "10022                                    1.403812e-07   \n",
       "10023                                    4.100534e-08   \n",
       "10024                                    6.270196e-08   \n",
       "10025                                    3.680430e-08   \n",
       "10026                                    5.612077e-07   \n",
       "10027                                    1.187764e-05   \n",
       "10028                                    5.010630e-07   \n",
       "10029                                    7.248196e-08   \n",
       "10030                                    1.261401e-05   \n",
       "10031                                    1.823820e-05   \n",
       "10032                                    2.499226e-04   \n",
       "10033                                    5.406052e-06   \n",
       "10034                                    4.011825e-05   \n",
       "10035                                    1.370585e-05   \n",
       "10036                                    1.575359e-05   \n",
       "10037                                    3.516383e-06   \n",
       "10038                                    5.981293e-06   \n",
       "10039                                    1.172751e-06   \n",
       "\n",
       "      openai_moderation.category_scores.violence  \\\n",
       "10022                                   0.000004   \n",
       "10023                                   0.000003   \n",
       "10024                                   0.000018   \n",
       "10025                                   0.000048   \n",
       "10026                                   0.000007   \n",
       "10027                                   0.000150   \n",
       "10028                                   0.000013   \n",
       "10029                                   0.000005   \n",
       "10030                                   0.000057   \n",
       "10031                                   0.000090   \n",
       "10032                                   0.000123   \n",
       "10033                                   0.000023   \n",
       "10034                                   0.000022   \n",
       "10035                                   0.000283   \n",
       "10036                                   0.000060   \n",
       "10037                                   0.000366   \n",
       "10038                                   0.000005   \n",
       "10039                                   0.000003   \n",
       "\n",
       "      openai_moderation.category_scores.violence_graphic  \n",
       "10022                                       8.308701e-07  \n",
       "10023                                       9.448757e-07  \n",
       "10024                                       8.820460e-06  \n",
       "10025                                       3.797020e-05  \n",
       "10026                                       9.867542e-06  \n",
       "10027                                       3.415837e-05  \n",
       "10028                                       1.206811e-06  \n",
       "10029                                       5.167577e-06  \n",
       "10030                                       7.687549e-06  \n",
       "10031                                       3.037581e-05  \n",
       "10032                                       3.602239e-05  \n",
       "10033                                       2.884773e-06  \n",
       "10034                                       6.209637e-06  \n",
       "10035                                       3.621858e-06  \n",
       "10036                                       9.004339e-06  \n",
       "10037                                       2.978828e-05  \n",
       "10038                                       2.385720e-08  \n",
       "10039                                       3.586133e-08  \n",
       "\n",
       "[18 rows x 54 columns]"
      ]
     },
     "execution_count": 47,
     "metadata": {},
     "output_type": "execute_result"
    }
   ],
   "source": [
    "ww"
   ]
  },
  {
   "cell_type": "code",
   "execution_count": 51,
   "metadata": {},
   "outputs": [
    {
     "data": {
      "text/html": [
       "<div>\n",
       "<style scoped>\n",
       "    .dataframe tbody tr th:only-of-type {\n",
       "        vertical-align: middle;\n",
       "    }\n",
       "\n",
       "    .dataframe tbody tr th {\n",
       "        vertical-align: top;\n",
       "    }\n",
       "\n",
       "    .dataframe thead th {\n",
       "        text-align: right;\n",
       "    }\n",
       "</style>\n",
       "<table border=\"1\" class=\"dataframe\">\n",
       "  <thead>\n",
       "    <tr style=\"text-align: right;\">\n",
       "      <th></th>\n",
       "      <th>conversation.content</th>\n",
       "      <th>conversation.role</th>\n",
       "    </tr>\n",
       "  </thead>\n",
       "  <tbody>\n",
       "    <tr>\n",
       "      <th>0</th>\n",
       "      <td>Hey there! Are you familiar with reality shift...</td>\n",
       "      <td>user</td>\n",
       "    </tr>\n",
       "    <tr>\n",
       "      <th>1</th>\n",
       "      <td>Hey there! I'm more than happy to help you pla...</td>\n",
       "      <td>assistant</td>\n",
       "    </tr>\n",
       "    <tr>\n",
       "      <th>2</th>\n",
       "      <td>Crea una imagen de una mujer corriente por la ...</td>\n",
       "      <td>user</td>\n",
       "    </tr>\n",
       "    <tr>\n",
       "      <th>3</th>\n",
       "      <td>Como inteligencia artificial basada en texto, ...</td>\n",
       "      <td>assistant</td>\n",
       "    </tr>\n",
       "    <tr>\n",
       "      <th>4</th>\n",
       "      <td>Aceede a Amazon y dame una lista de lo TV más ...</td>\n",
       "      <td>user</td>\n",
       "    </tr>\n",
       "    <tr>\n",
       "      <th>...</th>\n",
       "      <td>...</td>\n",
       "      <td>...</td>\n",
       "    </tr>\n",
       "    <tr>\n",
       "      <th>3930079</th>\n",
       "      <td>In the haunting expanse of Red Dead Redemption...</td>\n",
       "      <td>assistant</td>\n",
       "    </tr>\n",
       "    <tr>\n",
       "      <th>3930080</th>\n",
       "      <td>Write an interesting, riveting, action-packed,...</td>\n",
       "      <td>user</td>\n",
       "    </tr>\n",
       "    <tr>\n",
       "      <th>3930081</th>\n",
       "      <td>In the twilight of 1955 AD, amidst a world int...</td>\n",
       "      <td>assistant</td>\n",
       "    </tr>\n",
       "    <tr>\n",
       "      <th>3930082</th>\n",
       "      <td>در مورد دوران پس از ظهور امام زمان انشا بنویس.</td>\n",
       "      <td>user</td>\n",
       "    </tr>\n",
       "    <tr>\n",
       "      <th>3930083</th>\n",
       "      <td>در آغاز باید گفت که ظهور امام زمان (عج) و دورا...</td>\n",
       "      <td>assistant</td>\n",
       "    </tr>\n",
       "  </tbody>\n",
       "</table>\n",
       "<p>3913088 rows × 2 columns</p>\n",
       "</div>"
      ],
      "text/plain": [
       "                                      conversation.content conversation.role\n",
       "0        Hey there! Are you familiar with reality shift...              user\n",
       "1        Hey there! I'm more than happy to help you pla...         assistant\n",
       "2        Crea una imagen de una mujer corriente por la ...              user\n",
       "3        Como inteligencia artificial basada en texto, ...         assistant\n",
       "4        Aceede a Amazon y dame una lista de lo TV más ...              user\n",
       "...                                                    ...               ...\n",
       "3930079  In the haunting expanse of Red Dead Redemption...         assistant\n",
       "3930080  Write an interesting, riveting, action-packed,...              user\n",
       "3930081  In the twilight of 1955 AD, amidst a world int...         assistant\n",
       "3930082     در مورد دوران پس از ظهور امام زمان انشا بنویس.              user\n",
       "3930083  در آغاز باید گفت که ظهور امام زمان (عج) و دورا...         assistant\n",
       "\n",
       "[3913088 rows x 2 columns]"
      ]
     },
     "execution_count": 51,
     "metadata": {},
     "output_type": "execute_result"
    }
   ],
   "source": [
    "df[['conversation.content', 'conversation.role']]"
   ]
  },
  {
   "cell_type": "code",
   "execution_count": 58,
   "metadata": {},
   "outputs": [
    {
     "data": {
      "text/plain": [
       "English     2033782\n",
       "Chinese      702062\n",
       "Russian      461567\n",
       "French       132346\n",
       "Spanish      115912\n",
       "             ...   \n",
       "Armenian         30\n",
       "Marathi          28\n",
       "Tamil            14\n",
       "Gujarati         14\n",
       "Georgian          4\n",
       "Length: 74, dtype: int64"
      ]
     },
     "execution_count": 58,
     "metadata": {},
     "output_type": "execute_result"
    }
   ],
   "source": [
    "from collections import Counter\n",
    "import pandas as pd\n",
    "\n",
    "w = pd.Series(dict(Counter(df.language).most_common()))\n",
    "w"
   ]
  },
  {
   "cell_type": "code",
   "execution_count": 60,
   "metadata": {},
   "outputs": [
    {
     "data": {
      "text/plain": [
       "English       2033782\n",
       "Chinese        702062\n",
       "Russian        461567\n",
       "French         132346\n",
       "Spanish        115912\n",
       "Arabic          63734\n",
       "German          53699\n",
       "Portuguese      53488\n",
       "Turkish         31256\n",
       "Italian         29293\n",
       "Vietnamese      27032\n",
       "Korean          24622\n",
       "Persian         22541\n",
       "Polish          21539\n",
       "Indonesian      19593\n",
       "Japanese        16773\n",
       "Dutch            9701\n",
       "Ukrainian        8792\n",
       "Latin            8219\n",
       "Hungarian        7301\n",
       "Maori            6766\n",
       "Romanian         4571\n",
       "Sotho            4560\n",
       "Nolang           4282\n",
       "Tagalog          3804\n",
       "Afrikaans        3391\n",
       "Czech            3174\n",
       "Greek            3151\n",
       "Malay            2165\n",
       "Swedish          1969\n",
       "dtype: int64"
      ]
     },
     "execution_count": 60,
     "metadata": {},
     "output_type": "execute_result"
    }
   ],
   "source": [
    "w.iloc[:30]"
   ]
  },
  {
   "cell_type": "code",
   "execution_count": null,
   "metadata": {},
   "outputs": [],
   "source": []
  },
  {
   "cell_type": "code",
   "execution_count": null,
   "metadata": {},
   "outputs": [],
   "source": []
  },
  {
   "cell_type": "markdown",
   "metadata": {},
   "source": [
    "# Data prep misc"
   ]
  },
  {
   "cell_type": "code",
   "execution_count": null,
   "metadata": {},
   "outputs": [],
   "source": [
    "from imbed_data_prep.github_repos import *\n",
    "\n",
    "d = GithubReposData()"
   ]
  },
  {
   "cell_type": "markdown",
   "metadata": {},
   "source": [
    "## Can we take the github stub (nameWithOwner) as an id?"
   ]
  },
  {
   "cell_type": "code",
   "execution_count": 18,
   "metadata": {},
   "outputs": [
    {
     "name": "stdout",
     "output_type": "stream",
     "text": [
      "Making dataframe from parquet bytes\n",
      "Loading bytes of raw data from /Users/thorwhalen/Dropbox/_odata/figiri/github-repos.parquet\n"
     ]
    }
   ],
   "source": [
    "assert len(d.raw_data.nameWithOwner.dropna()) == len(d.raw_data), (\n",
    "    \"We assumed that there's no missing data in the 'nameWithOwner' column\"\n",
    ")"
   ]
  },
  {
   "cell_type": "code",
   "execution_count": 24,
   "metadata": {},
   "outputs": [
    {
     "ename": "AssertionError",
     "evalue": "We assumed that the 'nameWithOwner' were unique",
     "output_type": "error",
     "traceback": [
      "\u001b[0;31m---------------------------------------------------------------------------\u001b[0m",
      "\u001b[0;31mAssertionError\u001b[0m                            Traceback (most recent call last)",
      "Cell \u001b[0;32mIn[24], line 1\u001b[0m\n\u001b[0;32m----> 1\u001b[0m \u001b[38;5;28;01massert\u001b[39;00m d\u001b[38;5;241m.\u001b[39mraw_data\u001b[38;5;241m.\u001b[39mnameWithOwner\u001b[38;5;241m.\u001b[39mnunique() \u001b[38;5;241m==\u001b[39m \u001b[38;5;28mlen\u001b[39m(d\u001b[38;5;241m.\u001b[39mraw_data), (\n\u001b[1;32m      2\u001b[0m     \u001b[38;5;124m\"\u001b[39m\u001b[38;5;124mWe assumed that the \u001b[39m\u001b[38;5;124m'\u001b[39m\u001b[38;5;124mnameWithOwner\u001b[39m\u001b[38;5;124m'\u001b[39m\u001b[38;5;124m were unique\u001b[39m\u001b[38;5;124m\"\u001b[39m\n\u001b[1;32m      3\u001b[0m )\n",
      "\u001b[0;31mAssertionError\u001b[0m: We assumed that the 'nameWithOwner' were unique"
     ]
    }
   ],
   "source": [
    "assert d.raw_data.nameWithOwner.nunique() == len(d.raw_data), (\n",
    "    \"We assumed that the 'nameWithOwner' were unique\"\n",
    ")"
   ]
  },
  {
   "cell_type": "markdown",
   "metadata": {},
   "source": [
    "### Let's look at the duplicates"
   ]
  },
  {
   "cell_type": "code",
   "execution_count": 25,
   "metadata": {},
   "outputs": [
    {
     "data": {
      "text/plain": [
       "[('plapadoo/ledger-jira-sync', 4),\n",
       " ('wasp-platform/wasp', 4),\n",
       " ('dimdenGD/OldTweetDeck', 3),\n",
       " ('TravisWThompson1/Makefile_Example_CUDA_CPP_To_Executable', 3),\n",
       " ('Roave/EmailTemplates', 3),\n",
       " ('grigio/meteor-weuse', 3),\n",
       " ('laewahn/CutCAD', 3),\n",
       " ('cockroachdb/cdc-sink', 3),\n",
       " ('AP-Atul/Torpido', 3),\n",
       " ('althonos/pyhmmer', 3)]"
      ]
     },
     "execution_count": 25,
     "metadata": {},
     "output_type": "execute_result"
    }
   ],
   "source": [
    "from collections import Counter\n",
    "\n",
    "Counter(d.raw_data.nameWithOwner).most_common(10)"
   ]
  },
  {
   "cell_type": "code",
   "execution_count": 26,
   "metadata": {},
   "outputs": [
    {
     "data": {
      "text/html": [
       "<div>\n",
       "<style scoped>\n",
       "    .dataframe tbody tr th:only-of-type {\n",
       "        vertical-align: middle;\n",
       "    }\n",
       "\n",
       "    .dataframe tbody tr th {\n",
       "        vertical-align: top;\n",
       "    }\n",
       "\n",
       "    .dataframe thead th {\n",
       "        text-align: right;\n",
       "    }\n",
       "</style>\n",
       "<table border=\"1\" class=\"dataframe\">\n",
       "  <thead>\n",
       "    <tr style=\"text-align: right;\">\n",
       "      <th></th>\n",
       "      <th>owner</th>\n",
       "      <th>name</th>\n",
       "      <th>stars</th>\n",
       "      <th>forks</th>\n",
       "      <th>watchers</th>\n",
       "      <th>isFork</th>\n",
       "      <th>isArchived</th>\n",
       "      <th>languages</th>\n",
       "      <th>languageCount</th>\n",
       "      <th>topics</th>\n",
       "      <th>...</th>\n",
       "      <th>createdAt</th>\n",
       "      <th>pushedAt</th>\n",
       "      <th>defaultBranchCommitCount</th>\n",
       "      <th>license</th>\n",
       "      <th>assignableUserCount</th>\n",
       "      <th>codeOfConduct</th>\n",
       "      <th>forkingAllowed</th>\n",
       "      <th>nameWithOwner</th>\n",
       "      <th>parent</th>\n",
       "      <th>embedding</th>\n",
       "    </tr>\n",
       "  </thead>\n",
       "  <tbody>\n",
       "    <tr>\n",
       "      <th>2117813</th>\n",
       "      <td>plapadoo</td>\n",
       "      <td>ledger-jira-sync</td>\n",
       "      <td>6</td>\n",
       "      <td>0</td>\n",
       "      <td>6</td>\n",
       "      <td>False</td>\n",
       "      <td>False</td>\n",
       "      <td>Python: 8602, Nix: 1530</td>\n",
       "      <td>2</td>\n",
       "      <td>ledger: 15, python: 277441, accounting: 67, bo...</td>\n",
       "      <td>...</td>\n",
       "      <td>2018-05-19T08:00:12Z</td>\n",
       "      <td>2019-03-05T17:55:25Z</td>\n",
       "      <td>9.0</td>\n",
       "      <td>BSD 3-Clause \"New\" or \"Revised\" License</td>\n",
       "      <td>3</td>\n",
       "      <td>None</td>\n",
       "      <td>True</td>\n",
       "      <td>plapadoo/ledger-jira-sync</td>\n",
       "      <td>NaN</td>\n",
       "      <td>[-0.04487917, 0.025739525, 0.106529795, -0.135...</td>\n",
       "    </tr>\n",
       "    <tr>\n",
       "      <th>2117814</th>\n",
       "      <td>plapadoo</td>\n",
       "      <td>ledger-jira-sync</td>\n",
       "      <td>6</td>\n",
       "      <td>0</td>\n",
       "      <td>6</td>\n",
       "      <td>False</td>\n",
       "      <td>False</td>\n",
       "      <td>Python: 8602, Nix: 1530</td>\n",
       "      <td>2</td>\n",
       "      <td>ledger: 15, python: 277441, accounting: 67, bo...</td>\n",
       "      <td>...</td>\n",
       "      <td>2018-05-19T08:00:12Z</td>\n",
       "      <td>2019-03-05T17:55:25Z</td>\n",
       "      <td>9.0</td>\n",
       "      <td>BSD 3-Clause \"New\" or \"Revised\" License</td>\n",
       "      <td>3</td>\n",
       "      <td>None</td>\n",
       "      <td>True</td>\n",
       "      <td>plapadoo/ledger-jira-sync</td>\n",
       "      <td>NaN</td>\n",
       "      <td>[-0.04487917, 0.025739525, 0.106529795, -0.135...</td>\n",
       "    </tr>\n",
       "    <tr>\n",
       "      <th>2117815</th>\n",
       "      <td>plapadoo</td>\n",
       "      <td>ledger-jira-sync</td>\n",
       "      <td>6</td>\n",
       "      <td>0</td>\n",
       "      <td>6</td>\n",
       "      <td>False</td>\n",
       "      <td>False</td>\n",
       "      <td>Python: 8602, Nix: 1530</td>\n",
       "      <td>2</td>\n",
       "      <td>ledger: 15, python: 277441, accounting: 67, bo...</td>\n",
       "      <td>...</td>\n",
       "      <td>2018-05-19T08:00:12Z</td>\n",
       "      <td>2019-03-05T17:55:25Z</td>\n",
       "      <td>9.0</td>\n",
       "      <td>BSD 3-Clause \"New\" or \"Revised\" License</td>\n",
       "      <td>3</td>\n",
       "      <td>None</td>\n",
       "      <td>True</td>\n",
       "      <td>plapadoo/ledger-jira-sync</td>\n",
       "      <td>NaN</td>\n",
       "      <td>[-0.04487917, 0.025739525, 0.106529795, -0.135...</td>\n",
       "    </tr>\n",
       "    <tr>\n",
       "      <th>2117816</th>\n",
       "      <td>plapadoo</td>\n",
       "      <td>ledger-jira-sync</td>\n",
       "      <td>5</td>\n",
       "      <td>0</td>\n",
       "      <td>6</td>\n",
       "      <td>False</td>\n",
       "      <td>False</td>\n",
       "      <td>Python: 8602, Nix: 1530</td>\n",
       "      <td>2</td>\n",
       "      <td>ledger: 15, python: 277500, accounting: 67, bo...</td>\n",
       "      <td>...</td>\n",
       "      <td>2018-05-19T08:00:12Z</td>\n",
       "      <td>2019-03-05T17:55:25Z</td>\n",
       "      <td>9.0</td>\n",
       "      <td>BSD 3-Clause \"New\" or \"Revised\" License</td>\n",
       "      <td>3</td>\n",
       "      <td>None</td>\n",
       "      <td>True</td>\n",
       "      <td>plapadoo/ledger-jira-sync</td>\n",
       "      <td>NaN</td>\n",
       "      <td>[-0.04487917, 0.025739525, 0.106529795, -0.135...</td>\n",
       "    </tr>\n",
       "  </tbody>\n",
       "</table>\n",
       "<p>4 rows × 26 columns</p>\n",
       "</div>"
      ],
      "text/plain": [
       "            owner              name  stars  forks  watchers  isFork  \\\n",
       "2117813  plapadoo  ledger-jira-sync      6      0         6   False   \n",
       "2117814  plapadoo  ledger-jira-sync      6      0         6   False   \n",
       "2117815  plapadoo  ledger-jira-sync      6      0         6   False   \n",
       "2117816  plapadoo  ledger-jira-sync      5      0         6   False   \n",
       "\n",
       "         isArchived                languages  languageCount  \\\n",
       "2117813       False  Python: 8602, Nix: 1530              2   \n",
       "2117814       False  Python: 8602, Nix: 1530              2   \n",
       "2117815       False  Python: 8602, Nix: 1530              2   \n",
       "2117816       False  Python: 8602, Nix: 1530              2   \n",
       "\n",
       "                                                    topics  ...  \\\n",
       "2117813  ledger: 15, python: 277441, accounting: 67, bo...  ...   \n",
       "2117814  ledger: 15, python: 277441, accounting: 67, bo...  ...   \n",
       "2117815  ledger: 15, python: 277441, accounting: 67, bo...  ...   \n",
       "2117816  ledger: 15, python: 277500, accounting: 67, bo...  ...   \n",
       "\n",
       "                    createdAt              pushedAt  defaultBranchCommitCount  \\\n",
       "2117813  2018-05-19T08:00:12Z  2019-03-05T17:55:25Z                       9.0   \n",
       "2117814  2018-05-19T08:00:12Z  2019-03-05T17:55:25Z                       9.0   \n",
       "2117815  2018-05-19T08:00:12Z  2019-03-05T17:55:25Z                       9.0   \n",
       "2117816  2018-05-19T08:00:12Z  2019-03-05T17:55:25Z                       9.0   \n",
       "\n",
       "                                         license assignableUserCount  \\\n",
       "2117813  BSD 3-Clause \"New\" or \"Revised\" License                   3   \n",
       "2117814  BSD 3-Clause \"New\" or \"Revised\" License                   3   \n",
       "2117815  BSD 3-Clause \"New\" or \"Revised\" License                   3   \n",
       "2117816  BSD 3-Clause \"New\" or \"Revised\" License                   3   \n",
       "\n",
       "        codeOfConduct forkingAllowed              nameWithOwner  parent  \\\n",
       "2117813          None           True  plapadoo/ledger-jira-sync     NaN   \n",
       "2117814          None           True  plapadoo/ledger-jira-sync     NaN   \n",
       "2117815          None           True  plapadoo/ledger-jira-sync     NaN   \n",
       "2117816          None           True  plapadoo/ledger-jira-sync     NaN   \n",
       "\n",
       "                                                 embedding  \n",
       "2117813  [-0.04487917, 0.025739525, 0.106529795, -0.135...  \n",
       "2117814  [-0.04487917, 0.025739525, 0.106529795, -0.135...  \n",
       "2117815  [-0.04487917, 0.025739525, 0.106529795, -0.135...  \n",
       "2117816  [-0.04487917, 0.025739525, 0.106529795, -0.135...  \n",
       "\n",
       "[4 rows x 26 columns]"
      ]
     },
     "execution_count": 26,
     "metadata": {},
     "output_type": "execute_result"
    }
   ],
   "source": [
    "d.raw_data[d.raw_data.nameWithOwner == \"plapadoo/ledger-jira-sync\"]"
   ]
  },
  {
   "cell_type": "markdown",
   "metadata": {},
   "source": [
    "It looks like the meta data is exactly the same, so the non-unique entries might be duplicates. Let's drop any rows that are exact duplicates (except for the embeddings, which are numpy arrays, so not hashable, and could have slight variations). "
   ]
  },
  {
   "cell_type": "code",
   "execution_count": 35,
   "metadata": {},
   "outputs": [
    {
     "name": "stdout",
     "output_type": "stream",
     "text": [
      "207147 rows were dropped\n"
     ]
    },
    {
     "data": {
      "text/plain": [
       "((3274587, 26), (3067440, 26))"
      ]
     },
     "execution_count": 35,
     "metadata": {},
     "output_type": "execute_result"
    }
   ],
   "source": [
    "# drop duplicates, ignoring the embedding column (which is not hashable)\n",
    "t = d.raw_data.drop_duplicates(subset=d.raw_data.columns.difference([\"embedding\"]))\n",
    "assert d.raw_data.shape[1] == t.shape[1], \"Assumed no columns were dropped\"\n",
    "print(f\"{len(d.raw_data) - len(t)} rows were dropped\")\n",
    "d.raw_data.shape, t.shape"
   ]
  },
  {
   "cell_type": "code",
   "execution_count": 36,
   "metadata": {},
   "outputs": [
    {
     "ename": "AssertionError",
     "evalue": "We assumed that the 'nameWithOwner' were unique",
     "output_type": "error",
     "traceback": [
      "\u001b[0;31m---------------------------------------------------------------------------\u001b[0m",
      "\u001b[0;31mAssertionError\u001b[0m                            Traceback (most recent call last)",
      "Cell \u001b[0;32mIn[36], line 1\u001b[0m\n\u001b[0;32m----> 1\u001b[0m \u001b[38;5;28;01massert\u001b[39;00m t\u001b[38;5;241m.\u001b[39mnameWithOwner\u001b[38;5;241m.\u001b[39mnunique() \u001b[38;5;241m==\u001b[39m \u001b[38;5;28mlen\u001b[39m(t), (\n\u001b[1;32m      2\u001b[0m     \u001b[38;5;124m\"\u001b[39m\u001b[38;5;124mWe assumed that the \u001b[39m\u001b[38;5;124m'\u001b[39m\u001b[38;5;124mnameWithOwner\u001b[39m\u001b[38;5;124m'\u001b[39m\u001b[38;5;124m were unique\u001b[39m\u001b[38;5;124m\"\u001b[39m\n\u001b[1;32m      3\u001b[0m )\n",
      "\u001b[0;31mAssertionError\u001b[0m: We assumed that the 'nameWithOwner' were unique"
     ]
    }
   ],
   "source": [
    "# Still some duplicate nameWithOwner, with different stars etc.\n",
    "# So we'll just drop duplicate nameWithOwner\n",
    "assert t.nameWithOwner.nunique() == len(t), (\n",
    "    \"We assumed that the 'nameWithOwner' were unique\"\n",
    ")"
   ]
  },
  {
   "cell_type": "code",
   "execution_count": 39,
   "metadata": {},
   "outputs": [
    {
     "data": {
      "text/plain": [
       "[('dimdenGD/OldTweetDeck', 3),\n",
       " ('weaigc/gradio-chatbot', 3),\n",
       " ('MoyuruAizawa/Cropify', 3),\n",
       " ('Lakr233/BBackupp', 3),\n",
       " ('daboigbae/react-native-template', 3),\n",
       " ('esp-rs/esp-mbedtls', 3),\n",
       " ('Nahid1911/space-travelers-proj-react', 3),\n",
       " ('Rel1cx/eslint-plugin-react-ts', 3),\n",
       " ('redknotmiaoyuqiao/EyerH264Decoder', 2),\n",
       " ('ShuifaHe/STM32', 2)]"
      ]
     },
     "execution_count": 39,
     "metadata": {},
     "output_type": "execute_result"
    }
   ],
   "source": [
    "Counter(t.nameWithOwner).most_common(10)"
   ]
  },
  {
   "cell_type": "code",
   "execution_count": 40,
   "metadata": {},
   "outputs": [
    {
     "data": {
      "text/html": [
       "<div>\n",
       "<style scoped>\n",
       "    .dataframe tbody tr th:only-of-type {\n",
       "        vertical-align: middle;\n",
       "    }\n",
       "\n",
       "    .dataframe tbody tr th {\n",
       "        vertical-align: top;\n",
       "    }\n",
       "\n",
       "    .dataframe thead th {\n",
       "        text-align: right;\n",
       "    }\n",
       "</style>\n",
       "<table border=\"1\" class=\"dataframe\">\n",
       "  <thead>\n",
       "    <tr style=\"text-align: right;\">\n",
       "      <th></th>\n",
       "      <th>owner</th>\n",
       "      <th>name</th>\n",
       "      <th>stars</th>\n",
       "      <th>forks</th>\n",
       "      <th>watchers</th>\n",
       "      <th>isFork</th>\n",
       "      <th>isArchived</th>\n",
       "      <th>languages</th>\n",
       "      <th>languageCount</th>\n",
       "      <th>topics</th>\n",
       "      <th>...</th>\n",
       "      <th>createdAt</th>\n",
       "      <th>pushedAt</th>\n",
       "      <th>defaultBranchCommitCount</th>\n",
       "      <th>license</th>\n",
       "      <th>assignableUserCount</th>\n",
       "      <th>codeOfConduct</th>\n",
       "      <th>forkingAllowed</th>\n",
       "      <th>nameWithOwner</th>\n",
       "      <th>parent</th>\n",
       "      <th>embedding</th>\n",
       "    </tr>\n",
       "  </thead>\n",
       "  <tbody>\n",
       "    <tr>\n",
       "      <th>8747</th>\n",
       "      <td>dimdenGD</td>\n",
       "      <td>OldTweetDeck</td>\n",
       "      <td>129</td>\n",
       "      <td>5</td>\n",
       "      <td>10</td>\n",
       "      <td>False</td>\n",
       "      <td>False</td>\n",
       "      <td>JavaScript: 5093</td>\n",
       "      <td>1</td>\n",
       "      <td></td>\n",
       "      <td>...</td>\n",
       "      <td>2023-08-17T00:31:05Z</td>\n",
       "      <td>2023-08-18T19:55:14Z</td>\n",
       "      <td>14.0</td>\n",
       "      <td>MIT License</td>\n",
       "      <td>1</td>\n",
       "      <td>None</td>\n",
       "      <td>True</td>\n",
       "      <td>dimdenGD/OldTweetDeck</td>\n",
       "      <td>NaN</td>\n",
       "      <td>[-0.093423545, -0.07952896, -0.038683187, -0.0...</td>\n",
       "    </tr>\n",
       "    <tr>\n",
       "      <th>8748</th>\n",
       "      <td>dimdenGD</td>\n",
       "      <td>OldTweetDeck</td>\n",
       "      <td>97</td>\n",
       "      <td>4</td>\n",
       "      <td>8</td>\n",
       "      <td>False</td>\n",
       "      <td>False</td>\n",
       "      <td>JavaScript: 5093</td>\n",
       "      <td>1</td>\n",
       "      <td></td>\n",
       "      <td>...</td>\n",
       "      <td>2023-08-17T00:31:05Z</td>\n",
       "      <td>2023-08-18T16:44:39Z</td>\n",
       "      <td>13.0</td>\n",
       "      <td>MIT License</td>\n",
       "      <td>1</td>\n",
       "      <td>None</td>\n",
       "      <td>True</td>\n",
       "      <td>dimdenGD/OldTweetDeck</td>\n",
       "      <td>NaN</td>\n",
       "      <td>[-0.093423545, -0.07952896, -0.038683187, -0.0...</td>\n",
       "    </tr>\n",
       "    <tr>\n",
       "      <th>8749</th>\n",
       "      <td>dimdenGD</td>\n",
       "      <td>OldTweetDeck</td>\n",
       "      <td>128</td>\n",
       "      <td>5</td>\n",
       "      <td>10</td>\n",
       "      <td>False</td>\n",
       "      <td>False</td>\n",
       "      <td>JavaScript: 5093</td>\n",
       "      <td>1</td>\n",
       "      <td></td>\n",
       "      <td>...</td>\n",
       "      <td>2023-08-17T00:31:05Z</td>\n",
       "      <td>2023-08-18T19:55:14Z</td>\n",
       "      <td>14.0</td>\n",
       "      <td>MIT License</td>\n",
       "      <td>1</td>\n",
       "      <td>None</td>\n",
       "      <td>True</td>\n",
       "      <td>dimdenGD/OldTweetDeck</td>\n",
       "      <td>NaN</td>\n",
       "      <td>[-0.093423545, -0.07952896, -0.038683187, -0.0...</td>\n",
       "    </tr>\n",
       "  </tbody>\n",
       "</table>\n",
       "<p>3 rows × 26 columns</p>\n",
       "</div>"
      ],
      "text/plain": [
       "         owner          name  stars  forks  watchers  isFork  isArchived  \\\n",
       "8747  dimdenGD  OldTweetDeck    129      5        10   False       False   \n",
       "8748  dimdenGD  OldTweetDeck     97      4         8   False       False   \n",
       "8749  dimdenGD  OldTweetDeck    128      5        10   False       False   \n",
       "\n",
       "             languages  languageCount topics  ...             createdAt  \\\n",
       "8747  JavaScript: 5093              1         ...  2023-08-17T00:31:05Z   \n",
       "8748  JavaScript: 5093              1         ...  2023-08-17T00:31:05Z   \n",
       "8749  JavaScript: 5093              1         ...  2023-08-17T00:31:05Z   \n",
       "\n",
       "                  pushedAt  defaultBranchCommitCount      license  \\\n",
       "8747  2023-08-18T19:55:14Z                      14.0  MIT License   \n",
       "8748  2023-08-18T16:44:39Z                      13.0  MIT License   \n",
       "8749  2023-08-18T19:55:14Z                      14.0  MIT License   \n",
       "\n",
       "     assignableUserCount codeOfConduct forkingAllowed          nameWithOwner  \\\n",
       "8747                   1          None           True  dimdenGD/OldTweetDeck   \n",
       "8748                   1          None           True  dimdenGD/OldTweetDeck   \n",
       "8749                   1          None           True  dimdenGD/OldTweetDeck   \n",
       "\n",
       "      parent                                          embedding  \n",
       "8747     NaN  [-0.093423545, -0.07952896, -0.038683187, -0.0...  \n",
       "8748     NaN  [-0.093423545, -0.07952896, -0.038683187, -0.0...  \n",
       "8749     NaN  [-0.093423545, -0.07952896, -0.038683187, -0.0...  \n",
       "\n",
       "[3 rows x 26 columns]"
      ]
     },
     "execution_count": 40,
     "metadata": {},
     "output_type": "execute_result"
    }
   ],
   "source": [
    "d.raw_data[d.raw_data.nameWithOwner == 'dimdenGD/OldTweetDeck']"
   ]
  },
  {
   "cell_type": "markdown",
   "metadata": {},
   "source": [
    "## Different ways to get an array out of a dataframe"
   ]
  },
  {
   "cell_type": "code",
   "execution_count": 3,
   "metadata": {},
   "outputs": [],
   "source": [
    "import pandas as pd\n",
    "import numpy as np\n",
    "t = pd.DataFrame(np.random.randint(0, 10000, (10000, 2)), columns=['a', 'b'])"
   ]
  },
  {
   "cell_type": "code",
   "execution_count": 12,
   "metadata": {},
   "outputs": [
    {
     "name": "stdout",
     "output_type": "stream",
     "text": [
      "3.38 µs ± 10.1 ns per loop (mean ± std. dev. of 7 runs, 100,000 loops each)\n"
     ]
    }
   ],
   "source": [
    "%timeit tt = t.a.to_numpy()  # 3.38 µs ± 10.1 ns"
   ]
  },
  {
   "cell_type": "code",
   "execution_count": 13,
   "metadata": {},
   "outputs": [
    {
     "name": "stdout",
     "output_type": "stream",
     "text": [
      "351 µs ± 2.92 µs per loop (mean ± std. dev. of 7 runs, 1,000 loops each)\n"
     ]
    }
   ],
   "source": [
    "%timeit tt = np.array(t.a.to_list())  # 351 µs ± 2.92 µs"
   ]
  },
  {
   "cell_type": "code",
   "execution_count": null,
   "metadata": {},
   "outputs": [],
   "source": []
  },
  {
   "cell_type": "markdown",
   "metadata": {},
   "source": [
    "# Scrap: Github Repos Embeddings"
   ]
  },
  {
   "cell_type": "code",
   "execution_count": 1,
   "metadata": {},
   "outputs": [],
   "source": [
    "from imbed_data_prep.github_repos import _DFLT_RAW_DATA_FILEPATH, _DFLT_CACHE_DIR\n",
    "from imbed_data_prep.github_repos import *"
   ]
  },
  {
   "cell_type": "code",
   "execution_count": 1,
   "metadata": {},
   "outputs": [
    {
     "data": {
      "text/plain": [
       "False"
      ]
     },
     "execution_count": 1,
     "metadata": {},
     "output_type": "execute_result"
    }
   ],
   "source": [
    "log_flag_attr = 'verbose'\n",
    "args = ()\n",
    "getattr(next(iter(args), None), log_flag_attr, False)"
   ]
  },
  {
   "cell_type": "code",
   "execution_count": 4,
   "metadata": {},
   "outputs": [
    {
     "name": "stdout",
     "output_type": "stream",
     "text": [
      "Calling foo...\n",
      "Executing foo\n",
      ".... Done calling foo\n"
     ]
    }
   ],
   "source": [
    "from lkj import log_calls\n",
    "\n",
    "class MyClass:\n",
    "    def __init__(self, verbose=False):\n",
    "        self.verbose = verbose\n",
    "\n",
    "    @log_calls(log_flag_attr='verbose')\n",
    "    def foo(self):\n",
    "        print(\"Executing foo\")\n",
    "\n",
    "# Example usage\n",
    "obj = MyClass(verbose=True)\n",
    "obj.foo()  # This will log\n"
   ]
  },
  {
   "cell_type": "markdown",
   "metadata": {},
   "source": [
    "# Scrap: "
   ]
  },
  {
   "cell_type": "code",
   "execution_count": null,
   "metadata": {},
   "outputs": [],
   "source": [
    "# An attempt to use a different method than fixed size chunks, hoping we'll \n",
    "# never go over the API limits (max MBs, max number of items (embeddings), etc.)\n",
    "# Here, we (try) to iterate over the items, and release maximal bundles of items that\n",
    "# meet a condition.\n",
    "# To implement, should look into itertools and creek\n",
    "\n",
    "from typing import Callable, Iterable, TypeVar, Union\n",
    "\n",
    "\n",
    "Item = TypeVar('Item')\n",
    "Bundle = TypeVar('Bundle')\n",
    "\n",
    "\n",
    "def return_none(item: Item) -> None:\n",
    "    return None\n",
    "\n",
    "def smart_bundles(\n",
    "        items: Iterable[Item], \n",
    "        bundle_release_condition: Callable[[Bundle], bool],\n",
    "        *,\n",
    "        init_bundle: Callable[[], Bundle] = list, \n",
    "        update_bundle: Callable[[Bundle, Item], Union[Bundle, None]] = list.append, \n",
    "        exceptional_item_callback: Callable[[Item], None] = return_none,\n",
    "    ):\n",
    "    \"\"\" \n",
    "    Generate bundles of items that (number of items) maximal and meet a condition.\n",
    "\n",
    "    A bundle is just an aggregate of items that can be initialized and updated. \n",
    "    \n",
    "    The bundle_release_condition is a function that takes a bundle and returns True \n",
    "    if the bundle is releasable. \n",
    "    When a non-relasable bundle is found, the function will not release it, but \n",
    "    instead release the last bundle (which should be releasable), and take the item\n",
    "    that tipped the last bundle over the edge and make it the first item in the a \n",
    "    new bundle.\n",
    "\n",
    "    There is one special case to this: What if a bundle with one item doesn't meet \n",
    "    the criteria for realease? In this case, there's no \"previous bundle\" to release.\n",
    "    This is where the `exceptional_item_callback` comes in play. \n",
    "    It will be called with the item that didn't fit in the bundle, and then be skipped\n",
    "    (i.e. a new bundle will be started with the next item).\n",
    "\n",
    "    This `exceptional_item_callback` allows us to control what happens when an item\n",
    "    doesn't fit in the bundle. This could be things like raising or logging the \n",
    "    exception, saving the item to a file, etc.\n",
    "    Note that the result of the callback is yielded, so if you want to skip such items,\n",
    "    you should make sure that `exceptional_item_callback` returns None, since \n",
    "    the function will not yield None.\n",
    "\n",
    "    Args:\n",
    "        items: The items to bundle.\n",
    "        bundle_release_condition: A function that takes a bundle and returns True \n",
    "            if the bundle is releasable.\n",
    "        init_bundle: A function that returns a new bundle.\n",
    "        update_bundle: A function that takes a bundle and an item, and returns the \n",
    "            updated bundle, or returns None (in which case it is assumed that the\n",
    "            bundle was updated in place).\n",
    "        exceptional_item_callback: A function that takes an item that didn't fit in \n",
    "            the bundle.\n",
    "\n",
    "    Example:\n",
    "    \n",
    "    >>> def bundle_release_condition(bundle, max_sum=9):\n",
    "    ...     return sum(bundle) <= max_sum\n",
    "    >>> items = [1, 2, 3, 4, 5, 6, 7, 10, 1, 2]\n",
    "    >>> list(smart_bundles(items, bundle_release_condition))\n",
    "    [[1, 2, 3], [4, 5], [6], [7], [1, 2]]\n",
    "\n",
    "    >>> list(smart_bundles(items, \n",
    "    ...     lambda x: x >= 9,\n",
    "    ...     init_bundle=lambda: 0, \n",
    "    ...     update_bundle=lambda x, y: x + y,\n",
    "    ...     exceptional_item_callback=lambda x: print(f\"Exceptional item: {x}\")))\n",
    "    ... )\n",
    "    Exceptional item: 10\n",
    "    [[1, 2, 3], [4, 5], [6], [7], [1, 2]]\n",
    "    \n",
    "    \"\"\"\n"
   ]
  },
  {
   "cell_type": "code",
   "execution_count": null,
   "metadata": {},
   "outputs": [],
   "source": []
  }
 ],
 "metadata": {
  "kernelspec": {
   "display_name": "Python 3",
   "language": "python",
   "name": "python3"
  },
  "language_info": {
   "codemirror_mode": {
    "name": "ipython",
    "version": 3
   },
   "file_extension": ".py",
   "mimetype": "text/x-python",
   "name": "python",
   "nbconvert_exporter": "python",
   "pygments_lexer": "ipython3",
   "version": "3.10.13"
  }
 },
 "nbformat": 4,
 "nbformat_minor": 2
}
