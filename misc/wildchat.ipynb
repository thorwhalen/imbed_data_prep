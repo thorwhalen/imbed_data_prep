{
 "cells": [
  {
   "cell_type": "markdown",
   "metadata": {},
   "source": [
    "Here, we'll have a look at [WildChat Dataset](https://wildchat.allen.ai/). \n",
    "\n",
    "[Huggingface dataset](https://huggingface.co/datasets/allenai/WildChat-1M) (hugging face stub: `allenai/WildChat-1M`)\n"
   ]
  },
  {
   "cell_type": "markdown",
   "metadata": {},
   "source": []
  },
  {
   "cell_type": "code",
   "execution_count": 4,
   "metadata": {},
   "outputs": [],
   "source": [
    "from imbed_data_prep.wildchat import *\n",
    "\n"
   ]
  },
  {
   "cell_type": "code",
   "execution_count": null,
   "metadata": {},
   "outputs": [],
   "source": []
  },
  {
   "cell_type": "code",
   "execution_count": null,
   "metadata": {},
   "outputs": [],
   "source": []
  },
  {
   "cell_type": "code",
   "execution_count": null,
   "metadata": {},
   "outputs": [],
   "source": []
  },
  {
   "cell_type": "code",
   "execution_count": null,
   "metadata": {},
   "outputs": [],
   "source": []
  },
  {
   "cell_type": "code",
   "execution_count": null,
   "metadata": {},
   "outputs": [],
   "source": []
  },
  {
   "cell_type": "markdown",
   "metadata": {},
   "source": [
    "# Appendix"
   ]
  },
  {
   "cell_type": "markdown",
   "metadata": {},
   "source": [
    "## Making the raw data"
   ]
  },
  {
   "cell_type": "code",
   "execution_count": 55,
   "metadata": {},
   "outputs": [],
   "source": [
    "from dataclasses import dataclass, KW_ONLY\n",
    "from imbed.base import HugfaceDaccBase\n",
    "\n",
    "d = HugfaceDaccBase(\"allenai/WildChat-1M\", name='wildchat')\n",
    "\n"
   ]
  },
  {
   "cell_type": "code",
   "execution_count": 58,
   "metadata": {},
   "outputs": [],
   "source": [
    "df = d.train_data"
   ]
  },
  {
   "cell_type": "code",
   "execution_count": 59,
   "metadata": {},
   "outputs": [
    {
     "data": {
      "text/plain": [
       "(840774, 14)"
      ]
     },
     "execution_count": 59,
     "metadata": {},
     "output_type": "execute_result"
    }
   ],
   "source": [
    "df.shape"
   ]
  },
  {
   "cell_type": "code",
   "execution_count": 60,
   "metadata": {},
   "outputs": [
    {
     "data": {
      "text/plain": [
       "conversation_hash                       c9ec5b440fbdd2a269333dd241f32f64\n",
       "model                                                         gpt-4-0314\n",
       "timestamp                                      2023-04-09 00:02:53+00:00\n",
       "conversation           [{'content': 'Hey there! Are you familiar with...\n",
       "turn                                                                   1\n",
       "language                                                         English\n",
       "openai_moderation      [{'categories': {'harassment': False, 'harassm...\n",
       "detoxify_moderation    [{'identity_attack': 0.00020589135237969458, '...\n",
       "toxic                                                              False\n",
       "redacted                                                           False\n",
       "state                                                              Texas\n",
       "country                                                    United States\n",
       "hashed_ip              22fd87ba9b98f3d379b23c7b52961f2d4a8505127e58b3...\n",
       "header                 {'accept-language': 'en-US,en;q=0.9,es;q=0.8',...\n",
       "Name: 0, dtype: object"
      ]
     },
     "execution_count": 60,
     "metadata": {},
     "output_type": "execute_result"
    }
   ],
   "source": [
    "df.iloc[0]"
   ]
  },
  {
   "cell_type": "code",
   "execution_count": 61,
   "metadata": {},
   "outputs": [
    {
     "data": {
      "text/plain": [
       "Counter({'gpt-3.5-turbo-0613': 371341,\n",
       "         'gpt-3.5-turbo-0301': 195161,\n",
       "         'gpt-4-1106-preview': 100972,\n",
       "         'gpt-4-0125-preview': 62581,\n",
       "         'gpt-3.5-turbo-0125': 57426,\n",
       "         'gpt-4-0314': 53291,\n",
       "         'gpt-4-0613': 2})"
      ]
     },
     "execution_count": 61,
     "metadata": {},
     "output_type": "execute_result"
    }
   ],
   "source": [
    "from collections import Counter\n",
    "Counter(df.model)"
   ]
  },
  {
   "cell_type": "code",
   "execution_count": 65,
   "metadata": {},
   "outputs": [
    {
     "data": {
      "text/plain": [
       "array([{'content': 'Hey there! Are you familiar with reality shifting? So, I’m refining a foolproof method for reality shifting and want to pick a destination. Want to help me? I’m thinking something pretty personalized. There are a few things that are required of my destination. 1. The quest. I have to have a clear overarching goal in my reality, and don’t make it too crazy. It should be more along the lines of “save the president’s daughter” or “escape this weird wacky sinister place” NOT “get an artifact that literally controls reality”. Seriously, don’t make me fetch an artifact, or fetch anything. Instead, make me DO something. 2. Babes. I need pretty girls. 3. The entry. I need to get to lose consciousness in order to begin my journey in my desired reality, preferably by having it knocked out by one of the aforementioned babes. 4. Action. It needs to be cool. 5. Unconsciousness. Myself and the babes need to pass out in this place, preferably by being knocked out in some way or fainting. And it should happen, like, a lot. With these requirements in mind, you got any unique refined ideas? Don’t be vague, be extremely specific. Also, make your response as long and detailed as possible. Be super specific, especially when describing the world. The world should be self-contained and relatively small/understandable. Also, try to be conversational. Describe the world well.', 'country': 'United States', 'hashed_ip': '22fd87ba9b98f3d379b23c7b52961f2d4a8505127e58b3104b227a8ca1ce7260', 'header': {'accept-language': 'en-US,en;q=0.9,es;q=0.8', 'user-agent': 'Mozilla/5.0 (Windows NT 10.0; Win64; x64) AppleWebKit/537.36 (KHTML, like Gecko) Chrome/111.0.0.0 Safari/537.36'}, 'language': 'English', 'redacted': False, 'role': 'user', 'state': 'Texas', 'timestamp': None, 'toxic': False, 'turn_identifier': 101001},\n",
       "       {'content': 'Hey there! I\\'m more than happy to help you plan your reality-shifting adventure, and I\\'ve got just the destination in mind for you based on your requirements. Let\\'s dive in, shall we?\\n\\nWelcome to the breathtaking world of Adrenalina! Picture a stunning landscape with a blend of tropical islands, majestic mountains, and lush rainforests filled with breathtaking waterfalls - all surrounded by crystal clear waters teeming with marine life. It\\'s a world of adventure and excitement, designed to thrill all who dare to explore its locales.\\n\\n1. The Quest: As the newly appointed Head Protector of Adrenalina, your mission is to protect the inhabitants and maintain balance in the environment. There\\'s a rare flower, known as the \"Harmony Bloom,\" that maintains balance across the islands in Adrenalina. However, it has been stolen, and if not restored to its pedestal in the Temple of Equilibrium by the next full moon, the consequences could be disastrous. Your task is to locate the thief, restore the Harmony Bloom to its rightful place, and ensure the ongoing prosperity of the land.\\n\\n2. Babes: Fear not, for Adrenalina is full of stunning people who are as talented as they are beautiful. Some of the most captivating females, like the fierce island warriors and enchanting sirens, will make your heart race as you embark on your thrilling adventure.\\n\\n3. The Entry: While sunbathing on an idyllic beach, one of the island\\'s talented warriors playfully surprises you with a friendly sparring match. They\\'re testing your skills to see if you\\'re worthy of being the Head Protector of Adrenalina. She lands a well-placed (yet gentle) blow, causing you to lose consciousness and wake up in a luscious jungle teeming with life, where your quest officially begins.\\n\\n4. Action: Adrenalina is a non-stop action-packed world with a little bit of everything for the thrill-seekers. From skirmishes with rogue pirates and chasing down the thief on off-road vehicles and zip lines through the jungle, to navigating a maze made up of massive corals under the sea, you\\'ll never be short of exhilarating experiences. But you\\'ll also find moments of peace and serenity, where you can watch the sunset while lounging in a hammock, listening to the melodies of the nocturnal creatures of the rainforest.\\n\\n5. Unconsciousness: Throughout your journey, you and your companions will encounter various challenges that lead to bouts of unconsciousness. One moment all of you may be knocked out by the fragrant pollen of a colossal Venus Flytrap-like plant, and another time enchanted by a charming melody sung by an alluring siren, causing everyone to faint. But do not worry – you will always awaken refreshed, invigorated, and ready to continue your quest.\\n\\nIn Adrenalina, you\\'ll discover a world of beauty and adrenaline-fueled adventure, and your tale will be one of valiance, strength, friendship, and the thrills that await you in this high-octane reality. I hope this creates an unforgettable experience for you as you embark on your reality-shifting journey. Good luck, and have fun!', 'country': None, 'hashed_ip': None, 'header': None, 'language': 'English', 'redacted': False, 'role': 'assistant', 'state': None, 'timestamp': datetime.datetime(2023, 4, 9, 0, 2, 53, tzinfo=<UTC>), 'toxic': False, 'turn_identifier': 101001}],\n",
       "      dtype=object)"
      ]
     },
     "execution_count": 65,
     "metadata": {},
     "output_type": "execute_result"
    }
   ],
   "source": [
    "t = df.conversation.iloc[0]\n",
    "t"
   ]
  },
  {
   "cell_type": "code",
   "execution_count": 66,
   "metadata": {},
   "outputs": [
    {
     "data": {
      "text/plain": [
       "{'content': 'Hey there! Are you familiar with reality shifting? So, I’m refining a foolproof method for reality shifting and want to pick a destination. Want to help me? I’m thinking something pretty personalized. There are a few things that are required of my destination. 1. The quest. I have to have a clear overarching goal in my reality, and don’t make it too crazy. It should be more along the lines of “save the president’s daughter” or “escape this weird wacky sinister place” NOT “get an artifact that literally controls reality”. Seriously, don’t make me fetch an artifact, or fetch anything. Instead, make me DO something. 2. Babes. I need pretty girls. 3. The entry. I need to get to lose consciousness in order to begin my journey in my desired reality, preferably by having it knocked out by one of the aforementioned babes. 4. Action. It needs to be cool. 5. Unconsciousness. Myself and the babes need to pass out in this place, preferably by being knocked out in some way or fainting. And it should happen, like, a lot. With these requirements in mind, you got any unique refined ideas? Don’t be vague, be extremely specific. Also, make your response as long and detailed as possible. Be super specific, especially when describing the world. The world should be self-contained and relatively small/understandable. Also, try to be conversational. Describe the world well.',\n",
       " 'country': 'United States',\n",
       " 'hashed_ip': '22fd87ba9b98f3d379b23c7b52961f2d4a8505127e58b3104b227a8ca1ce7260',\n",
       " 'header': {'accept-language': 'en-US,en;q=0.9,es;q=0.8',\n",
       "  'user-agent': 'Mozilla/5.0 (Windows NT 10.0; Win64; x64) AppleWebKit/537.36 (KHTML, like Gecko) Chrome/111.0.0.0 Safari/537.36'},\n",
       " 'language': 'English',\n",
       " 'redacted': False,\n",
       " 'role': 'user',\n",
       " 'state': 'Texas',\n",
       " 'timestamp': None,\n",
       " 'toxic': False,\n",
       " 'turn_identifier': 101001}"
      ]
     },
     "execution_count": 66,
     "metadata": {},
     "output_type": "execute_result"
    }
   ],
   "source": [
    "t[0]"
   ]
  },
  {
   "cell_type": "code",
   "execution_count": 67,
   "metadata": {},
   "outputs": [
    {
     "data": {
      "text/plain": [
       "(24, 14)"
      ]
     },
     "execution_count": 67,
     "metadata": {},
     "output_type": "execute_result"
    }
   ],
   "source": [
    "from tabled import expand_rows\n",
    "\n",
    "w = expand_rows(df.iloc[:10], ['conversation', 'openai_moderation', 'detoxify_moderation'])\n",
    "w.shape"
   ]
  },
  {
   "cell_type": "code",
   "execution_count": 68,
   "metadata": {},
   "outputs": [
    {
     "data": {
      "text/plain": [
       "{'content': 'Hey there! Are you familiar with reality shifting? So, I’m refining a foolproof method for reality shifting and want to pick a destination. Want to help me? I’m thinking something pretty personalized. There are a few things that are required of my destination. 1. The quest. I have to have a clear overarching goal in my reality, and don’t make it too crazy. It should be more along the lines of “save the president’s daughter” or “escape this weird wacky sinister place” NOT “get an artifact that literally controls reality”. Seriously, don’t make me fetch an artifact, or fetch anything. Instead, make me DO something. 2. Babes. I need pretty girls. 3. The entry. I need to get to lose consciousness in order to begin my journey in my desired reality, preferably by having it knocked out by one of the aforementioned babes. 4. Action. It needs to be cool. 5. Unconsciousness. Myself and the babes need to pass out in this place, preferably by being knocked out in some way or fainting. And it should happen, like, a lot. With these requirements in mind, you got any unique refined ideas? Don’t be vague, be extremely specific. Also, make your response as long and detailed as possible. Be super specific, especially when describing the world. The world should be self-contained and relatively small/understandable. Also, try to be conversational. Describe the world well.',\n",
       " 'country': 'United States',\n",
       " 'hashed_ip': '22fd87ba9b98f3d379b23c7b52961f2d4a8505127e58b3104b227a8ca1ce7260',\n",
       " 'header': {'accept-language': 'en-US,en;q=0.9,es;q=0.8',\n",
       "  'user-agent': 'Mozilla/5.0 (Windows NT 10.0; Win64; x64) AppleWebKit/537.36 (KHTML, like Gecko) Chrome/111.0.0.0 Safari/537.36'},\n",
       " 'language': 'English',\n",
       " 'redacted': False,\n",
       " 'role': 'user',\n",
       " 'state': 'Texas',\n",
       " 'timestamp': None,\n",
       " 'toxic': False,\n",
       " 'turn_identifier': 101001}"
      ]
     },
     "execution_count": 68,
     "metadata": {},
     "output_type": "execute_result"
    }
   ],
   "source": [
    "w.conversation.iloc[0]"
   ]
  },
  {
   "cell_type": "code",
   "execution_count": 69,
   "metadata": {},
   "outputs": [
    {
     "data": {
      "text/plain": [
       "{'categories': {'harassment': False,\n",
       "  'harassment/threatening': False,\n",
       "  'harassment_threatening': False,\n",
       "  'hate': False,\n",
       "  'hate/threatening': False,\n",
       "  'hate_threatening': False,\n",
       "  'self-harm': False,\n",
       "  'self-harm/instructions': False,\n",
       "  'self-harm/intent': False,\n",
       "  'self_harm': False,\n",
       "  'self_harm_instructions': False,\n",
       "  'self_harm_intent': False,\n",
       "  'sexual': False,\n",
       "  'sexual/minors': False,\n",
       "  'sexual_minors': False,\n",
       "  'violence': False,\n",
       "  'violence/graphic': False,\n",
       "  'violence_graphic': False},\n",
       " 'category_scores': {'harassment': 0.000484861753648147,\n",
       "  'harassment/threatening': 0.00012471186346374452,\n",
       "  'harassment_threatening': 0.00012471186346374452,\n",
       "  'hate': 0.000457498652394861,\n",
       "  'hate/threatening': 1.3141398994775955e-05,\n",
       "  'hate_threatening': 1.3141398994775955e-05,\n",
       "  'self-harm': 5.52945930394344e-05,\n",
       "  'self-harm/instructions': 1.1666821819744655e-06,\n",
       "  'self-harm/intent': 1.4811689652560744e-05,\n",
       "  'self_harm': 5.52945930394344e-05,\n",
       "  'self_harm_instructions': 1.1666821819744655e-06,\n",
       "  'self_harm_intent': 1.4811689652560744e-05,\n",
       "  'sexual': 0.006505185272544622,\n",
       "  'sexual/minors': 0.00020243361359462142,\n",
       "  'sexual_minors': 0.00020243361359462142,\n",
       "  'violence': 0.08307147771120071,\n",
       "  'violence/graphic': 5.154956306796521e-05,\n",
       "  'violence_graphic': 5.154956306796521e-05},\n",
       " 'flagged': False}"
      ]
     },
     "execution_count": 69,
     "metadata": {},
     "output_type": "execute_result"
    }
   ],
   "source": [
    "w.openai_moderation.iloc[0]"
   ]
  },
  {
   "cell_type": "code",
   "execution_count": 70,
   "metadata": {},
   "outputs": [
    {
     "data": {
      "text/plain": [
       "{'identity_attack': 0.00020589135237969458,\n",
       " 'insult': 0.002148400293663144,\n",
       " 'obscene': 0.0004123652761336416,\n",
       " 'severe_toxicity': 3.0470857382169925e-05,\n",
       " 'sexual_explicit': 0.00012746300490107387,\n",
       " 'threat': 6.507332727778703e-05,\n",
       " 'toxicity': 0.005422386806458235}"
      ]
     },
     "execution_count": 70,
     "metadata": {},
     "output_type": "execute_result"
    }
   ],
   "source": [
    "w.detoxify_moderation.iloc[0]"
   ]
  },
  {
   "cell_type": "code",
   "execution_count": 71,
   "metadata": {},
   "outputs": [
    {
     "data": {
      "text/plain": [
       "((24, 32), (24, 66))"
      ]
     },
     "execution_count": 71,
     "metadata": {},
     "output_type": "execute_result"
    }
   ],
   "source": [
    "from tabled import expand_columns\n",
    "\n",
    "ww = expand_columns(w, ['conversation', 'openai_moderation', 'detoxify_moderation'])\n",
    "www = expand_columns(ww, ['openai_moderation.categories', 'openai_moderation.category_scores'])\n",
    "ww.shape, www.shape"
   ]
  },
  {
   "cell_type": "code",
   "execution_count": 72,
   "metadata": {},
   "outputs": [
    {
     "data": {
      "text/plain": [
       "(24, 54)"
      ]
     },
     "execution_count": 72,
     "metadata": {},
     "output_type": "execute_result"
    }
   ],
   "source": [
    "# remove all columns that have a / in them (because they have duplicates)\n",
    "www = www[[c for c in www.columns if '/' not in c]]\n",
    "www.shape"
   ]
  },
  {
   "cell_type": "code",
   "execution_count": 75,
   "metadata": {},
   "outputs": [],
   "source": [
    "from tabled import expand_rows, expand_columns\n",
    "\n",
    "def flatten_wildchat_data(df):\n",
    "    # for each (aligned) item of conversation and moderation, make a new row\n",
    "    df = expand_rows(df, ['conversation', 'openai_moderation', 'detoxify_moderation'])\n",
    "    # These items are dicts, so expand their fields into columns\n",
    "    df = expand_columns(df, ['conversation', 'openai_moderation', 'detoxify_moderation'])\n",
    "    # # openai_moderation has yet one more level of nesting so flatten that too\n",
    "    # df = expand_columns(df, ['openai_moderation.categories', 'openai_moderation.category_scores'])\n",
    "    # # remove all columns that have a / in them (because they have duplicates)\n",
    "    # df = df[[c for c in df.columns if '/' not in c]]\n",
    "    return df"
   ]
  },
  {
   "cell_type": "code",
   "execution_count": 76,
   "metadata": {},
   "outputs": [],
   "source": [
    "df = flatten_wildchat_data(df)"
   ]
  },
  {
   "cell_type": "code",
   "execution_count": 77,
   "metadata": {},
   "outputs": [],
   "source": [
    "df.to_parquet('wildchat_train.parquet')"
   ]
  },
  {
   "cell_type": "code",
   "execution_count": null,
   "metadata": {},
   "outputs": [],
   "source": []
  },
  {
   "cell_type": "code",
   "execution_count": null,
   "metadata": {},
   "outputs": [],
   "source": []
  },
  {
   "cell_type": "code",
   "execution_count": null,
   "metadata": {},
   "outputs": [],
   "source": []
  },
  {
   "cell_type": "code",
   "execution_count": 6,
   "metadata": {},
   "outputs": [
    {
     "name": "stdout",
     "output_type": "stream",
     "text": [
      "Making dataframe from parquet bytes\n",
      "Loading bytes of raw data from /Users/thorwhalen/Dropbox/_odata/figiri/github-repos.parquet\n",
      "... Done\n",
      "Dropping duplicate nameWithOwner (github stub)...\n",
      "... Dropped 209524 duplicates\n",
      "... Done\n"
     ]
    }
   ],
   "source": [
    "data_for_cosmo = d.data_with_planar_embeddings()"
   ]
  },
  {
   "cell_type": "code",
   "execution_count": 6,
   "metadata": {},
   "outputs": [],
   "source": [
    "# d.cache['github_repo_for_cosmos.parquet'] = data_for_cosmo"
   ]
  },
  {
   "cell_type": "code",
   "execution_count": 19,
   "metadata": {},
   "outputs": [
    {
     "data": {
      "text/plain": [
       "(3065063, 256)"
      ]
     },
     "execution_count": 19,
     "metadata": {},
     "output_type": "execute_result"
    }
   ],
   "source": [
    "# get numpy array of segment vectors\n",
    "# the d.segment_vectors is a series whose elements are numpy arrays\n",
    "# We want to have a 2 dimentional array with the same number of rows as the series\n",
    "# and the number of columns as the length of the numpy arrays\n",
    "\n",
    "import numpy as np\n",
    "\n",
    "X = np.vstack(d.segment_vectors.tolist())\n",
    "X.shape"
   ]
  },
  {
   "cell_type": "code",
   "execution_count": 15,
   "metadata": {},
   "outputs": [
    {
     "data": {
      "text/plain": [
       "(3065063, 256)"
      ]
     },
     "execution_count": 15,
     "metadata": {},
     "output_type": "execute_result"
    }
   ],
   "source": [
    "from sklearn.cluster import KMeans\n",
    "d.embeddings_matrix"
   ]
  },
  {
   "cell_type": "code",
   "execution_count": 9,
   "metadata": {},
   "outputs": [
    {
     "name": "stdout",
     "output_type": "stream",
     "text": [
      "Computing cluster indices for num of clusters: (5, 8, 13, 21, 34)\n",
      "... Done\n"
     ]
    }
   ],
   "source": [
    "t = d.cluster_indices"
   ]
  },
  {
   "cell_type": "markdown",
   "metadata": {},
   "source": [
    "# Data prep misc"
   ]
  },
  {
   "cell_type": "code",
   "execution_count": null,
   "metadata": {},
   "outputs": [],
   "source": [
    "from imbed_data_prep.github_repos import *\n",
    "\n",
    "d = GithubReposData()"
   ]
  },
  {
   "cell_type": "markdown",
   "metadata": {},
   "source": [
    "## Can we take the github stub (nameWithOwner) as an id?"
   ]
  },
  {
   "cell_type": "code",
   "execution_count": 18,
   "metadata": {},
   "outputs": [
    {
     "name": "stdout",
     "output_type": "stream",
     "text": [
      "Making dataframe from parquet bytes\n",
      "Loading bytes of raw data from /Users/thorwhalen/Dropbox/_odata/figiri/github-repos.parquet\n"
     ]
    }
   ],
   "source": [
    "assert len(d.raw_data.nameWithOwner.dropna()) == len(d.raw_data), (\n",
    "    \"We assumed that there's no missing data in the 'nameWithOwner' column\"\n",
    ")"
   ]
  },
  {
   "cell_type": "code",
   "execution_count": 24,
   "metadata": {},
   "outputs": [
    {
     "ename": "AssertionError",
     "evalue": "We assumed that the 'nameWithOwner' were unique",
     "output_type": "error",
     "traceback": [
      "\u001b[0;31m---------------------------------------------------------------------------\u001b[0m",
      "\u001b[0;31mAssertionError\u001b[0m                            Traceback (most recent call last)",
      "Cell \u001b[0;32mIn[24], line 1\u001b[0m\n\u001b[0;32m----> 1\u001b[0m \u001b[38;5;28;01massert\u001b[39;00m d\u001b[38;5;241m.\u001b[39mraw_data\u001b[38;5;241m.\u001b[39mnameWithOwner\u001b[38;5;241m.\u001b[39mnunique() \u001b[38;5;241m==\u001b[39m \u001b[38;5;28mlen\u001b[39m(d\u001b[38;5;241m.\u001b[39mraw_data), (\n\u001b[1;32m      2\u001b[0m     \u001b[38;5;124m\"\u001b[39m\u001b[38;5;124mWe assumed that the \u001b[39m\u001b[38;5;124m'\u001b[39m\u001b[38;5;124mnameWithOwner\u001b[39m\u001b[38;5;124m'\u001b[39m\u001b[38;5;124m were unique\u001b[39m\u001b[38;5;124m\"\u001b[39m\n\u001b[1;32m      3\u001b[0m )\n",
      "\u001b[0;31mAssertionError\u001b[0m: We assumed that the 'nameWithOwner' were unique"
     ]
    }
   ],
   "source": [
    "assert d.raw_data.nameWithOwner.nunique() == len(d.raw_data), (\n",
    "    \"We assumed that the 'nameWithOwner' were unique\"\n",
    ")"
   ]
  },
  {
   "cell_type": "markdown",
   "metadata": {},
   "source": [
    "### Let's look at the duplicates"
   ]
  },
  {
   "cell_type": "code",
   "execution_count": 25,
   "metadata": {},
   "outputs": [
    {
     "data": {
      "text/plain": [
       "[('plapadoo/ledger-jira-sync', 4),\n",
       " ('wasp-platform/wasp', 4),\n",
       " ('dimdenGD/OldTweetDeck', 3),\n",
       " ('TravisWThompson1/Makefile_Example_CUDA_CPP_To_Executable', 3),\n",
       " ('Roave/EmailTemplates', 3),\n",
       " ('grigio/meteor-weuse', 3),\n",
       " ('laewahn/CutCAD', 3),\n",
       " ('cockroachdb/cdc-sink', 3),\n",
       " ('AP-Atul/Torpido', 3),\n",
       " ('althonos/pyhmmer', 3)]"
      ]
     },
     "execution_count": 25,
     "metadata": {},
     "output_type": "execute_result"
    }
   ],
   "source": [
    "from collections import Counter\n",
    "\n",
    "Counter(d.raw_data.nameWithOwner).most_common(10)"
   ]
  },
  {
   "cell_type": "code",
   "execution_count": 26,
   "metadata": {},
   "outputs": [
    {
     "data": {
      "text/html": [
       "<div>\n",
       "<style scoped>\n",
       "    .dataframe tbody tr th:only-of-type {\n",
       "        vertical-align: middle;\n",
       "    }\n",
       "\n",
       "    .dataframe tbody tr th {\n",
       "        vertical-align: top;\n",
       "    }\n",
       "\n",
       "    .dataframe thead th {\n",
       "        text-align: right;\n",
       "    }\n",
       "</style>\n",
       "<table border=\"1\" class=\"dataframe\">\n",
       "  <thead>\n",
       "    <tr style=\"text-align: right;\">\n",
       "      <th></th>\n",
       "      <th>owner</th>\n",
       "      <th>name</th>\n",
       "      <th>stars</th>\n",
       "      <th>forks</th>\n",
       "      <th>watchers</th>\n",
       "      <th>isFork</th>\n",
       "      <th>isArchived</th>\n",
       "      <th>languages</th>\n",
       "      <th>languageCount</th>\n",
       "      <th>topics</th>\n",
       "      <th>...</th>\n",
       "      <th>createdAt</th>\n",
       "      <th>pushedAt</th>\n",
       "      <th>defaultBranchCommitCount</th>\n",
       "      <th>license</th>\n",
       "      <th>assignableUserCount</th>\n",
       "      <th>codeOfConduct</th>\n",
       "      <th>forkingAllowed</th>\n",
       "      <th>nameWithOwner</th>\n",
       "      <th>parent</th>\n",
       "      <th>embedding</th>\n",
       "    </tr>\n",
       "  </thead>\n",
       "  <tbody>\n",
       "    <tr>\n",
       "      <th>2117813</th>\n",
       "      <td>plapadoo</td>\n",
       "      <td>ledger-jira-sync</td>\n",
       "      <td>6</td>\n",
       "      <td>0</td>\n",
       "      <td>6</td>\n",
       "      <td>False</td>\n",
       "      <td>False</td>\n",
       "      <td>Python: 8602, Nix: 1530</td>\n",
       "      <td>2</td>\n",
       "      <td>ledger: 15, python: 277441, accounting: 67, bo...</td>\n",
       "      <td>...</td>\n",
       "      <td>2018-05-19T08:00:12Z</td>\n",
       "      <td>2019-03-05T17:55:25Z</td>\n",
       "      <td>9.0</td>\n",
       "      <td>BSD 3-Clause \"New\" or \"Revised\" License</td>\n",
       "      <td>3</td>\n",
       "      <td>None</td>\n",
       "      <td>True</td>\n",
       "      <td>plapadoo/ledger-jira-sync</td>\n",
       "      <td>NaN</td>\n",
       "      <td>[-0.04487917, 0.025739525, 0.106529795, -0.135...</td>\n",
       "    </tr>\n",
       "    <tr>\n",
       "      <th>2117814</th>\n",
       "      <td>plapadoo</td>\n",
       "      <td>ledger-jira-sync</td>\n",
       "      <td>6</td>\n",
       "      <td>0</td>\n",
       "      <td>6</td>\n",
       "      <td>False</td>\n",
       "      <td>False</td>\n",
       "      <td>Python: 8602, Nix: 1530</td>\n",
       "      <td>2</td>\n",
       "      <td>ledger: 15, python: 277441, accounting: 67, bo...</td>\n",
       "      <td>...</td>\n",
       "      <td>2018-05-19T08:00:12Z</td>\n",
       "      <td>2019-03-05T17:55:25Z</td>\n",
       "      <td>9.0</td>\n",
       "      <td>BSD 3-Clause \"New\" or \"Revised\" License</td>\n",
       "      <td>3</td>\n",
       "      <td>None</td>\n",
       "      <td>True</td>\n",
       "      <td>plapadoo/ledger-jira-sync</td>\n",
       "      <td>NaN</td>\n",
       "      <td>[-0.04487917, 0.025739525, 0.106529795, -0.135...</td>\n",
       "    </tr>\n",
       "    <tr>\n",
       "      <th>2117815</th>\n",
       "      <td>plapadoo</td>\n",
       "      <td>ledger-jira-sync</td>\n",
       "      <td>6</td>\n",
       "      <td>0</td>\n",
       "      <td>6</td>\n",
       "      <td>False</td>\n",
       "      <td>False</td>\n",
       "      <td>Python: 8602, Nix: 1530</td>\n",
       "      <td>2</td>\n",
       "      <td>ledger: 15, python: 277441, accounting: 67, bo...</td>\n",
       "      <td>...</td>\n",
       "      <td>2018-05-19T08:00:12Z</td>\n",
       "      <td>2019-03-05T17:55:25Z</td>\n",
       "      <td>9.0</td>\n",
       "      <td>BSD 3-Clause \"New\" or \"Revised\" License</td>\n",
       "      <td>3</td>\n",
       "      <td>None</td>\n",
       "      <td>True</td>\n",
       "      <td>plapadoo/ledger-jira-sync</td>\n",
       "      <td>NaN</td>\n",
       "      <td>[-0.04487917, 0.025739525, 0.106529795, -0.135...</td>\n",
       "    </tr>\n",
       "    <tr>\n",
       "      <th>2117816</th>\n",
       "      <td>plapadoo</td>\n",
       "      <td>ledger-jira-sync</td>\n",
       "      <td>5</td>\n",
       "      <td>0</td>\n",
       "      <td>6</td>\n",
       "      <td>False</td>\n",
       "      <td>False</td>\n",
       "      <td>Python: 8602, Nix: 1530</td>\n",
       "      <td>2</td>\n",
       "      <td>ledger: 15, python: 277500, accounting: 67, bo...</td>\n",
       "      <td>...</td>\n",
       "      <td>2018-05-19T08:00:12Z</td>\n",
       "      <td>2019-03-05T17:55:25Z</td>\n",
       "      <td>9.0</td>\n",
       "      <td>BSD 3-Clause \"New\" or \"Revised\" License</td>\n",
       "      <td>3</td>\n",
       "      <td>None</td>\n",
       "      <td>True</td>\n",
       "      <td>plapadoo/ledger-jira-sync</td>\n",
       "      <td>NaN</td>\n",
       "      <td>[-0.04487917, 0.025739525, 0.106529795, -0.135...</td>\n",
       "    </tr>\n",
       "  </tbody>\n",
       "</table>\n",
       "<p>4 rows × 26 columns</p>\n",
       "</div>"
      ],
      "text/plain": [
       "            owner              name  stars  forks  watchers  isFork  \\\n",
       "2117813  plapadoo  ledger-jira-sync      6      0         6   False   \n",
       "2117814  plapadoo  ledger-jira-sync      6      0         6   False   \n",
       "2117815  plapadoo  ledger-jira-sync      6      0         6   False   \n",
       "2117816  plapadoo  ledger-jira-sync      5      0         6   False   \n",
       "\n",
       "         isArchived                languages  languageCount  \\\n",
       "2117813       False  Python: 8602, Nix: 1530              2   \n",
       "2117814       False  Python: 8602, Nix: 1530              2   \n",
       "2117815       False  Python: 8602, Nix: 1530              2   \n",
       "2117816       False  Python: 8602, Nix: 1530              2   \n",
       "\n",
       "                                                    topics  ...  \\\n",
       "2117813  ledger: 15, python: 277441, accounting: 67, bo...  ...   \n",
       "2117814  ledger: 15, python: 277441, accounting: 67, bo...  ...   \n",
       "2117815  ledger: 15, python: 277441, accounting: 67, bo...  ...   \n",
       "2117816  ledger: 15, python: 277500, accounting: 67, bo...  ...   \n",
       "\n",
       "                    createdAt              pushedAt  defaultBranchCommitCount  \\\n",
       "2117813  2018-05-19T08:00:12Z  2019-03-05T17:55:25Z                       9.0   \n",
       "2117814  2018-05-19T08:00:12Z  2019-03-05T17:55:25Z                       9.0   \n",
       "2117815  2018-05-19T08:00:12Z  2019-03-05T17:55:25Z                       9.0   \n",
       "2117816  2018-05-19T08:00:12Z  2019-03-05T17:55:25Z                       9.0   \n",
       "\n",
       "                                         license assignableUserCount  \\\n",
       "2117813  BSD 3-Clause \"New\" or \"Revised\" License                   3   \n",
       "2117814  BSD 3-Clause \"New\" or \"Revised\" License                   3   \n",
       "2117815  BSD 3-Clause \"New\" or \"Revised\" License                   3   \n",
       "2117816  BSD 3-Clause \"New\" or \"Revised\" License                   3   \n",
       "\n",
       "        codeOfConduct forkingAllowed              nameWithOwner  parent  \\\n",
       "2117813          None           True  plapadoo/ledger-jira-sync     NaN   \n",
       "2117814          None           True  plapadoo/ledger-jira-sync     NaN   \n",
       "2117815          None           True  plapadoo/ledger-jira-sync     NaN   \n",
       "2117816          None           True  plapadoo/ledger-jira-sync     NaN   \n",
       "\n",
       "                                                 embedding  \n",
       "2117813  [-0.04487917, 0.025739525, 0.106529795, -0.135...  \n",
       "2117814  [-0.04487917, 0.025739525, 0.106529795, -0.135...  \n",
       "2117815  [-0.04487917, 0.025739525, 0.106529795, -0.135...  \n",
       "2117816  [-0.04487917, 0.025739525, 0.106529795, -0.135...  \n",
       "\n",
       "[4 rows x 26 columns]"
      ]
     },
     "execution_count": 26,
     "metadata": {},
     "output_type": "execute_result"
    }
   ],
   "source": [
    "d.raw_data[d.raw_data.nameWithOwner == \"plapadoo/ledger-jira-sync\"]"
   ]
  },
  {
   "cell_type": "markdown",
   "metadata": {},
   "source": [
    "It looks like the meta data is exactly the same, so the non-unique entries might be duplicates. Let's drop any rows that are exact duplicates (except for the embeddings, which are numpy arrays, so not hashable, and could have slight variations). "
   ]
  },
  {
   "cell_type": "code",
   "execution_count": 35,
   "metadata": {},
   "outputs": [
    {
     "name": "stdout",
     "output_type": "stream",
     "text": [
      "207147 rows were dropped\n"
     ]
    },
    {
     "data": {
      "text/plain": [
       "((3274587, 26), (3067440, 26))"
      ]
     },
     "execution_count": 35,
     "metadata": {},
     "output_type": "execute_result"
    }
   ],
   "source": [
    "# drop duplicates, ignoring the embedding column (which is not hashable)\n",
    "t = d.raw_data.drop_duplicates(subset=d.raw_data.columns.difference([\"embedding\"]))\n",
    "assert d.raw_data.shape[1] == t.shape[1], \"Assumed no columns were dropped\"\n",
    "print(f\"{len(d.raw_data) - len(t)} rows were dropped\")\n",
    "d.raw_data.shape, t.shape"
   ]
  },
  {
   "cell_type": "code",
   "execution_count": 36,
   "metadata": {},
   "outputs": [
    {
     "ename": "AssertionError",
     "evalue": "We assumed that the 'nameWithOwner' were unique",
     "output_type": "error",
     "traceback": [
      "\u001b[0;31m---------------------------------------------------------------------------\u001b[0m",
      "\u001b[0;31mAssertionError\u001b[0m                            Traceback (most recent call last)",
      "Cell \u001b[0;32mIn[36], line 1\u001b[0m\n\u001b[0;32m----> 1\u001b[0m \u001b[38;5;28;01massert\u001b[39;00m t\u001b[38;5;241m.\u001b[39mnameWithOwner\u001b[38;5;241m.\u001b[39mnunique() \u001b[38;5;241m==\u001b[39m \u001b[38;5;28mlen\u001b[39m(t), (\n\u001b[1;32m      2\u001b[0m     \u001b[38;5;124m\"\u001b[39m\u001b[38;5;124mWe assumed that the \u001b[39m\u001b[38;5;124m'\u001b[39m\u001b[38;5;124mnameWithOwner\u001b[39m\u001b[38;5;124m'\u001b[39m\u001b[38;5;124m were unique\u001b[39m\u001b[38;5;124m\"\u001b[39m\n\u001b[1;32m      3\u001b[0m )\n",
      "\u001b[0;31mAssertionError\u001b[0m: We assumed that the 'nameWithOwner' were unique"
     ]
    }
   ],
   "source": [
    "# Still some duplicate nameWithOwner, with different stars etc.\n",
    "# So we'll just drop duplicate nameWithOwner\n",
    "assert t.nameWithOwner.nunique() == len(t), (\n",
    "    \"We assumed that the 'nameWithOwner' were unique\"\n",
    ")"
   ]
  },
  {
   "cell_type": "code",
   "execution_count": 39,
   "metadata": {},
   "outputs": [
    {
     "data": {
      "text/plain": [
       "[('dimdenGD/OldTweetDeck', 3),\n",
       " ('weaigc/gradio-chatbot', 3),\n",
       " ('MoyuruAizawa/Cropify', 3),\n",
       " ('Lakr233/BBackupp', 3),\n",
       " ('daboigbae/react-native-template', 3),\n",
       " ('esp-rs/esp-mbedtls', 3),\n",
       " ('Nahid1911/space-travelers-proj-react', 3),\n",
       " ('Rel1cx/eslint-plugin-react-ts', 3),\n",
       " ('redknotmiaoyuqiao/EyerH264Decoder', 2),\n",
       " ('ShuifaHe/STM32', 2)]"
      ]
     },
     "execution_count": 39,
     "metadata": {},
     "output_type": "execute_result"
    }
   ],
   "source": [
    "Counter(t.nameWithOwner).most_common(10)"
   ]
  },
  {
   "cell_type": "code",
   "execution_count": 40,
   "metadata": {},
   "outputs": [
    {
     "data": {
      "text/html": [
       "<div>\n",
       "<style scoped>\n",
       "    .dataframe tbody tr th:only-of-type {\n",
       "        vertical-align: middle;\n",
       "    }\n",
       "\n",
       "    .dataframe tbody tr th {\n",
       "        vertical-align: top;\n",
       "    }\n",
       "\n",
       "    .dataframe thead th {\n",
       "        text-align: right;\n",
       "    }\n",
       "</style>\n",
       "<table border=\"1\" class=\"dataframe\">\n",
       "  <thead>\n",
       "    <tr style=\"text-align: right;\">\n",
       "      <th></th>\n",
       "      <th>owner</th>\n",
       "      <th>name</th>\n",
       "      <th>stars</th>\n",
       "      <th>forks</th>\n",
       "      <th>watchers</th>\n",
       "      <th>isFork</th>\n",
       "      <th>isArchived</th>\n",
       "      <th>languages</th>\n",
       "      <th>languageCount</th>\n",
       "      <th>topics</th>\n",
       "      <th>...</th>\n",
       "      <th>createdAt</th>\n",
       "      <th>pushedAt</th>\n",
       "      <th>defaultBranchCommitCount</th>\n",
       "      <th>license</th>\n",
       "      <th>assignableUserCount</th>\n",
       "      <th>codeOfConduct</th>\n",
       "      <th>forkingAllowed</th>\n",
       "      <th>nameWithOwner</th>\n",
       "      <th>parent</th>\n",
       "      <th>embedding</th>\n",
       "    </tr>\n",
       "  </thead>\n",
       "  <tbody>\n",
       "    <tr>\n",
       "      <th>8747</th>\n",
       "      <td>dimdenGD</td>\n",
       "      <td>OldTweetDeck</td>\n",
       "      <td>129</td>\n",
       "      <td>5</td>\n",
       "      <td>10</td>\n",
       "      <td>False</td>\n",
       "      <td>False</td>\n",
       "      <td>JavaScript: 5093</td>\n",
       "      <td>1</td>\n",
       "      <td></td>\n",
       "      <td>...</td>\n",
       "      <td>2023-08-17T00:31:05Z</td>\n",
       "      <td>2023-08-18T19:55:14Z</td>\n",
       "      <td>14.0</td>\n",
       "      <td>MIT License</td>\n",
       "      <td>1</td>\n",
       "      <td>None</td>\n",
       "      <td>True</td>\n",
       "      <td>dimdenGD/OldTweetDeck</td>\n",
       "      <td>NaN</td>\n",
       "      <td>[-0.093423545, -0.07952896, -0.038683187, -0.0...</td>\n",
       "    </tr>\n",
       "    <tr>\n",
       "      <th>8748</th>\n",
       "      <td>dimdenGD</td>\n",
       "      <td>OldTweetDeck</td>\n",
       "      <td>97</td>\n",
       "      <td>4</td>\n",
       "      <td>8</td>\n",
       "      <td>False</td>\n",
       "      <td>False</td>\n",
       "      <td>JavaScript: 5093</td>\n",
       "      <td>1</td>\n",
       "      <td></td>\n",
       "      <td>...</td>\n",
       "      <td>2023-08-17T00:31:05Z</td>\n",
       "      <td>2023-08-18T16:44:39Z</td>\n",
       "      <td>13.0</td>\n",
       "      <td>MIT License</td>\n",
       "      <td>1</td>\n",
       "      <td>None</td>\n",
       "      <td>True</td>\n",
       "      <td>dimdenGD/OldTweetDeck</td>\n",
       "      <td>NaN</td>\n",
       "      <td>[-0.093423545, -0.07952896, -0.038683187, -0.0...</td>\n",
       "    </tr>\n",
       "    <tr>\n",
       "      <th>8749</th>\n",
       "      <td>dimdenGD</td>\n",
       "      <td>OldTweetDeck</td>\n",
       "      <td>128</td>\n",
       "      <td>5</td>\n",
       "      <td>10</td>\n",
       "      <td>False</td>\n",
       "      <td>False</td>\n",
       "      <td>JavaScript: 5093</td>\n",
       "      <td>1</td>\n",
       "      <td></td>\n",
       "      <td>...</td>\n",
       "      <td>2023-08-17T00:31:05Z</td>\n",
       "      <td>2023-08-18T19:55:14Z</td>\n",
       "      <td>14.0</td>\n",
       "      <td>MIT License</td>\n",
       "      <td>1</td>\n",
       "      <td>None</td>\n",
       "      <td>True</td>\n",
       "      <td>dimdenGD/OldTweetDeck</td>\n",
       "      <td>NaN</td>\n",
       "      <td>[-0.093423545, -0.07952896, -0.038683187, -0.0...</td>\n",
       "    </tr>\n",
       "  </tbody>\n",
       "</table>\n",
       "<p>3 rows × 26 columns</p>\n",
       "</div>"
      ],
      "text/plain": [
       "         owner          name  stars  forks  watchers  isFork  isArchived  \\\n",
       "8747  dimdenGD  OldTweetDeck    129      5        10   False       False   \n",
       "8748  dimdenGD  OldTweetDeck     97      4         8   False       False   \n",
       "8749  dimdenGD  OldTweetDeck    128      5        10   False       False   \n",
       "\n",
       "             languages  languageCount topics  ...             createdAt  \\\n",
       "8747  JavaScript: 5093              1         ...  2023-08-17T00:31:05Z   \n",
       "8748  JavaScript: 5093              1         ...  2023-08-17T00:31:05Z   \n",
       "8749  JavaScript: 5093              1         ...  2023-08-17T00:31:05Z   \n",
       "\n",
       "                  pushedAt  defaultBranchCommitCount      license  \\\n",
       "8747  2023-08-18T19:55:14Z                      14.0  MIT License   \n",
       "8748  2023-08-18T16:44:39Z                      13.0  MIT License   \n",
       "8749  2023-08-18T19:55:14Z                      14.0  MIT License   \n",
       "\n",
       "     assignableUserCount codeOfConduct forkingAllowed          nameWithOwner  \\\n",
       "8747                   1          None           True  dimdenGD/OldTweetDeck   \n",
       "8748                   1          None           True  dimdenGD/OldTweetDeck   \n",
       "8749                   1          None           True  dimdenGD/OldTweetDeck   \n",
       "\n",
       "      parent                                          embedding  \n",
       "8747     NaN  [-0.093423545, -0.07952896, -0.038683187, -0.0...  \n",
       "8748     NaN  [-0.093423545, -0.07952896, -0.038683187, -0.0...  \n",
       "8749     NaN  [-0.093423545, -0.07952896, -0.038683187, -0.0...  \n",
       "\n",
       "[3 rows x 26 columns]"
      ]
     },
     "execution_count": 40,
     "metadata": {},
     "output_type": "execute_result"
    }
   ],
   "source": [
    "d.raw_data[d.raw_data.nameWithOwner == 'dimdenGD/OldTweetDeck']"
   ]
  },
  {
   "cell_type": "markdown",
   "metadata": {},
   "source": [
    "## Different ways to get an array out of a dataframe"
   ]
  },
  {
   "cell_type": "code",
   "execution_count": 3,
   "metadata": {},
   "outputs": [],
   "source": [
    "import pandas as pd\n",
    "import numpy as np\n",
    "t = pd.DataFrame(np.random.randint(0, 10000, (10000, 2)), columns=['a', 'b'])"
   ]
  },
  {
   "cell_type": "code",
   "execution_count": 12,
   "metadata": {},
   "outputs": [
    {
     "name": "stdout",
     "output_type": "stream",
     "text": [
      "3.38 µs ± 10.1 ns per loop (mean ± std. dev. of 7 runs, 100,000 loops each)\n"
     ]
    }
   ],
   "source": [
    "%timeit tt = t.a.to_numpy()  # 3.38 µs ± 10.1 ns"
   ]
  },
  {
   "cell_type": "code",
   "execution_count": 13,
   "metadata": {},
   "outputs": [
    {
     "name": "stdout",
     "output_type": "stream",
     "text": [
      "351 µs ± 2.92 µs per loop (mean ± std. dev. of 7 runs, 1,000 loops each)\n"
     ]
    }
   ],
   "source": [
    "%timeit tt = np.array(t.a.to_list())  # 351 µs ± 2.92 µs"
   ]
  },
  {
   "cell_type": "code",
   "execution_count": null,
   "metadata": {},
   "outputs": [],
   "source": []
  },
  {
   "cell_type": "markdown",
   "metadata": {},
   "source": [
    "# Scrap: Github Repos Embeddings"
   ]
  },
  {
   "cell_type": "code",
   "execution_count": 1,
   "metadata": {},
   "outputs": [],
   "source": [
    "from imbed_data_prep.github_repos import _DFLT_RAW_DATA_FILEPATH, _DFLT_CACHE_DIR\n",
    "from imbed_data_prep.github_repos import *"
   ]
  },
  {
   "cell_type": "code",
   "execution_count": 1,
   "metadata": {},
   "outputs": [
    {
     "data": {
      "text/plain": [
       "False"
      ]
     },
     "execution_count": 1,
     "metadata": {},
     "output_type": "execute_result"
    }
   ],
   "source": [
    "log_flag_attr = 'verbose'\n",
    "args = ()\n",
    "getattr(next(iter(args), None), log_flag_attr, False)"
   ]
  },
  {
   "cell_type": "code",
   "execution_count": 4,
   "metadata": {},
   "outputs": [
    {
     "name": "stdout",
     "output_type": "stream",
     "text": [
      "Calling foo...\n",
      "Executing foo\n",
      ".... Done calling foo\n"
     ]
    }
   ],
   "source": [
    "from lkj import log_calls\n",
    "\n",
    "class MyClass:\n",
    "    def __init__(self, verbose=False):\n",
    "        self.verbose = verbose\n",
    "\n",
    "    @log_calls(log_flag_attr='verbose')\n",
    "    def foo(self):\n",
    "        print(\"Executing foo\")\n",
    "\n",
    "# Example usage\n",
    "obj = MyClass(verbose=True)\n",
    "obj.foo()  # This will log\n"
   ]
  },
  {
   "cell_type": "code",
   "execution_count": null,
   "metadata": {},
   "outputs": [],
   "source": []
  }
 ],
 "metadata": {
  "kernelspec": {
   "display_name": "Python 3",
   "language": "python",
   "name": "python3"
  },
  "language_info": {
   "codemirror_mode": {
    "name": "ipython",
    "version": 3
   },
   "file_extension": ".py",
   "mimetype": "text/x-python",
   "name": "python",
   "nbconvert_exporter": "python",
   "pygments_lexer": "ipython3",
   "version": "3.10.13"
  }
 },
 "nbformat": 4,
 "nbformat_minor": 2
}
