{
 "cells": [
  {
   "cell_type": "code",
   "execution_count": null,
   "metadata": {},
   "outputs": [],
   "source": [
    "import imbed"
   ]
  },
  {
   "cell_type": "markdown",
   "metadata": {},
   "source": [
    "# Label data"
   ]
  },
  {
   "cell_type": "code",
   "execution_count": 2,
   "metadata": {},
   "outputs": [],
   "source": [
    "from imbed.tools import ClusterLabeler"
   ]
  },
  {
   "cell_type": "code",
   "execution_count": null,
   "metadata": {},
   "outputs": [],
   "source": [
    "from imbed_data_prep.eurovis import EurovisDacc\n",
    "\n",
    "dacc = EurovisDacc()"
   ]
  },
  {
   "cell_type": "code",
   "execution_count": 4,
   "metadata": {},
   "outputs": [
    {
     "data": {
      "text/plain": [
       "conference                                                      EuroVis\n",
       "year                                                               2024\n",
       "title                 A Prediction-Traversal Approach for Compressin...\n",
       "abstract              We explore an error-bounded lossy compression ...\n",
       "authorNamesDeduped           Congrong Ren;Xin Liang 0001;Hanqi Guo 0001\n",
       "award                                                              None\n",
       "resources                                                             P\n",
       "link                     https://vispubs.com/?paper=10.1111%2Fcgf.15097\n",
       "segment               ##A Prediction-Traversal Approach for Compress...\n",
       "n_tokens                                                            318\n",
       "x                                                            -29.573154\n",
       "y                                                             -3.688721\n",
       "cluster_05                                                            3\n",
       "cluster_08                                                            4\n",
       "cluster_13                                                            2\n",
       "cluster_21                                                            2\n",
       "cluster_34                                                            3\n",
       "Name: 10.1111/cgf.15097, dtype: object"
      ]
     },
     "execution_count": 4,
     "metadata": {},
     "output_type": "execute_result"
    }
   ],
   "source": [
    "dacc.merged_artifacts.iloc[0]"
   ]
  },
  {
   "cell_type": "code",
   "execution_count": 29,
   "metadata": {},
   "outputs": [
    {
     "name": "stdout",
     "output_type": "stream",
     "text": [
      "{0: '\"Summaries of Data Visualization Publications\"',\n",
      " 1: '\"Data Visualization Academic Papers\"',\n",
      " 2: '\"Visual Analytics Research Papers Abstracts\"',\n",
      " 3: '\"Abstracts of Visualization Studies\"',\n",
      " 4: '\"Data Visualization Research Abstracts\"',\n",
      " 5: 'Dataset of Visualization Research Titles',\n",
      " 6: '\"Visual Data Analysis Research Articles\"',\n",
      " 7: '\"Academic Research Data Summaries\"',\n",
      " 8: '\"Academic Papers on Data Visualization\"',\n",
      " 9: '\"Scientific Data Visualization Abstracts\"',\n",
      " 10: '\"Titles of Scientific Research Papers\"',\n",
      " 11: '\"Research Papers on Data Visualization\"',\n",
      " 12: '\"Visual Analytics Research Abstracts\"'}\n"
     ]
    }
   ],
   "source": [
    "cluster_labels = ClusterLabeler(cluster_idx_col='cluster_13').label_clusters(dacc.merged_artifacts)\n",
    "\n",
    "from pprint import pprint\n",
    "\n",
    "pprint(cluster_labels)\n"
   ]
  },
  {
   "cell_type": "code",
   "execution_count": 5,
   "metadata": {},
   "outputs": [],
   "source": [
    "context = \"\"\"\n",
    "    These are all research papers for data visualization. The labels should convey the \n",
    "    particular topic or domain of the papers beyond the general topic of data visualization.\n",
    "\"\"\"\n",
    "cluster_labels = ClusterLabeler(cluster_idx_col='cluster_13', context=context)._label_clusters(dacc.merged_artifacts)\n"
   ]
  },
  {
   "cell_type": "code",
   "execution_count": 6,
   "metadata": {},
   "outputs": [
    {
     "data": {
      "text/plain": [
       "(2,\n",
       " \"1. Graph Customization Techniques\\n2. Visualizing Multivariate Networks\\n3. Aneurysm Detection and Segmentation\\n4. Visualizing Animal Behavior Patterns\\n5. Evolutionary Visual Exploration Evaluation\\n6. Blood-Flow Visualization Techniques\\n7. Analyzing Nano-brain Structures\\n8. Edge and Trail Bundling Techniques\\n9. Visual Analysis of Particle Separation\\n10. Pie & Donut Chart Encodings\\n11. Reordering Strategies in Data Clusters\\n12. Transparent Particle-based Data Visualization\\n13. AR Studies through Visual Gaze\\n14. Scaling Pan/Zoom Visualizations\\n15. Spatio-Temporal Weather Data Visualization\\n16. Morse Complexes on Tetrahedral Meshes\\n17. Visualizing Missing Data Treatments\\n18. Analyzing Autonomous Vehicle Logs\\n19. Streamgraph Aesthetics and Applications\\n20. Visualizing Global Trade Networks\\n21. Visualizing Dynamic Physicalization Effects\\n22. Correlation-Based Time Series Analysis\\n23. Data Visualization in Water Stories\\n24. Mouse Interactions in Data Analysis\\n25. Visualizing Polynomial Functions' Contour Trees\\n26. Autonomous Visualization Agents\\n27. Atmospheric Rivers Visualization\\n28. Edge-Aware Volume Smoothing Techniques\\n29. Identifying Structural Definitions Interactively\\n30. Visualizing Query Results\\n31. Complexity Plots Analysis\\n32. Eye Movement Patterns Visualization\\n33. Aggregate Operations Transition Design\\n34. Time-Varying Volume Data Selection\\n35. Personalized Flood Risk Visualization\\n36. Optimizing Aneurysm Detection\\n37. Visualizing Unsteady Vector Fields\\n38. Exploring Multivariate Networks on Mobile\\n39. Analyzing Table Cartograms\\n40. Cyber Security Pattern Visualization\\n41. Medical Visualization Flattening Techniques\\n42. Extracting Biomolecular Surface Features\\n43. Compressive Volume Rendering Techniques\\n44. Assessing Disentanglement in GANs\\n45. Visualizing Molecular Reactions\\n46. Visualizing Large Graphs\\n47. Learning from Misinformative Visualizations\\n48. Embedding Subset in Multi-Dimensional Data\\n49. Narrative Visualization Authoring\\n50. Comparative Breast Cancer Assessment\")"
      ]
     },
     "execution_count": 6,
     "metadata": {},
     "output_type": "execute_result"
    }
   ],
   "source": [
    "next(cluster_labels())"
   ]
  },
  {
   "cell_type": "code",
   "execution_count": 23,
   "metadata": {},
   "outputs": [],
   "source": []
  },
  {
   "cell_type": "code",
   "execution_count": null,
   "metadata": {},
   "outputs": [],
   "source": []
  },
  {
   "cell_type": "code",
   "execution_count": null,
   "metadata": {},
   "outputs": [],
   "source": []
  },
  {
   "cell_type": "markdown",
   "metadata": {},
   "source": [
    "# Describe data"
   ]
  },
  {
   "cell_type": "markdown",
   "metadata": {},
   "source": [
    "Here we see how we can use the oa.prompt_function to make a python function that will describe the data you give it."
   ]
  },
  {
   "cell_type": "code",
   "execution_count": 2,
   "metadata": {},
   "outputs": [
    {
     "data": {
      "image/svg+xml": [
       "<?xml version=\"1.0\" encoding=\"UTF-8\" standalone=\"no\"?>\n",
       "<!DOCTYPE svg PUBLIC \"-//W3C//DTD SVG 1.1//EN\"\n",
       " \"http://www.w3.org/Graphics/SVG/1.1/DTD/svg11.dtd\">\n",
       "<!-- Generated by graphviz version 9.0.0 (20230911.1827)\n",
       " -->\n",
       "<!-- Pages: 1 -->\n",
       "<svg width=\"170pt\" height=\"332pt\"\n",
       " viewBox=\"0.00 0.00 169.88 332.00\" xmlns=\"http://www.w3.org/2000/svg\" xmlns:xlink=\"http://www.w3.org/1999/xlink\">\n",
       "<g id=\"graph0\" class=\"graph\" transform=\"scale(1 1) rotate(0) translate(4 328)\">\n",
       "<polygon fill=\"white\" stroke=\"none\" points=\"-4,4 -4,-328 165.88,-328 165.88,4 -4,4\"/>\n",
       "<!-- text_for_data -->\n",
       "<g id=\"node1\" class=\"node\">\n",
       "<title>text_for_data</title>\n",
       "<text text-anchor=\"middle\" x=\"117.88\" y=\"-156.95\" font-family=\"Times,serif\" font-size=\"14.00\">text_for_data</text>\n",
       "</g>\n",
       "<!-- describe_data -->\n",
       "<g id=\"node6\" class=\"node\">\n",
       "<title>describe_data</title>\n",
       "<polygon fill=\"none\" stroke=\"black\" points=\"118,-108 27.75,-108 27.75,-72 118,-72 118,-108\"/>\n",
       "<text text-anchor=\"middle\" x=\"72.88\" y=\"-84.95\" font-family=\"Times,serif\" font-size=\"14.00\">describe_data</text>\n",
       "</g>\n",
       "<!-- text_for_data&#45;&gt;describe_data -->\n",
       "<g id=\"edge4\" class=\"edge\">\n",
       "<title>text_for_data&#45;&gt;describe_data</title>\n",
       "<path fill=\"none\" stroke=\"black\" d=\"M106.98,-144.05C101.92,-136.18 95.77,-126.62 90.1,-117.79\"/>\n",
       "<polygon fill=\"black\" stroke=\"black\" points=\"93.15,-116.07 84.8,-109.55 87.26,-119.85 93.15,-116.07\"/>\n",
       "</g>\n",
       "<!-- data -->\n",
       "<g id=\"node2\" class=\"node\">\n",
       "<title>data</title>\n",
       "<text text-anchor=\"middle\" x=\"117.88\" y=\"-300.95\" font-family=\"Times,serif\" font-size=\"14.00\">data</text>\n",
       "</g>\n",
       "<!-- data_to_text -->\n",
       "<g id=\"node3\" class=\"node\">\n",
       "<title>data_to_text</title>\n",
       "<polygon fill=\"none\" stroke=\"black\" points=\"159.25,-252 76.5,-252 76.5,-216 159.25,-216 159.25,-252\"/>\n",
       "<text text-anchor=\"middle\" x=\"117.88\" y=\"-228.95\" font-family=\"Times,serif\" font-size=\"14.00\">data_to_text</text>\n",
       "</g>\n",
       "<!-- data&#45;&gt;data_to_text -->\n",
       "<g id=\"edge2\" class=\"edge\">\n",
       "<title>data&#45;&gt;data_to_text</title>\n",
       "<path fill=\"none\" stroke=\"black\" d=\"M117.88,-288.05C117.88,-280.68 117.88,-271.84 117.88,-263.51\"/>\n",
       "<polygon fill=\"black\" stroke=\"black\" points=\"121.38,-263.79 117.88,-253.79 114.38,-263.79 121.38,-263.79\"/>\n",
       "</g>\n",
       "<!-- data_to_text&#45;&gt;text_for_data -->\n",
       "<g id=\"edge1\" class=\"edge\">\n",
       "<title>data_to_text&#45;&gt;text_for_data</title>\n",
       "<path fill=\"none\" stroke=\"black\" d=\"M117.88,-215.7C117.88,-208.21 117.88,-199.26 117.88,-190.88\"/>\n",
       "<polygon fill=\"black\" stroke=\"black\" points=\"121.38,-191.14 117.88,-181.14 114.38,-191.14 121.38,-191.14\"/>\n",
       "</g>\n",
       "<!-- description_of_data -->\n",
       "<g id=\"node4\" class=\"node\">\n",
       "<title>description_of_data</title>\n",
       "<text text-anchor=\"middle\" x=\"72.88\" y=\"-12.95\" font-family=\"Times,serif\" font-size=\"14.00\">description_of_data</text>\n",
       "</g>\n",
       "<!-- context -->\n",
       "<g id=\"node5\" class=\"node\">\n",
       "<title>context</title>\n",
       "<text text-anchor=\"middle\" x=\"27.88\" y=\"-156.95\" font-family=\"Times,serif\" font-size=\"14.00\">context</text>\n",
       "</g>\n",
       "<!-- context&#45;&gt;describe_data -->\n",
       "<g id=\"edge5\" class=\"edge\">\n",
       "<title>context&#45;&gt;describe_data</title>\n",
       "<path fill=\"none\" stroke=\"black\" d=\"M38.77,-144.05C43.83,-136.18 49.98,-126.62 55.65,-117.79\"/>\n",
       "<polygon fill=\"black\" stroke=\"black\" points=\"58.49,-119.85 60.95,-109.55 52.6,-116.07 58.49,-119.85\"/>\n",
       "</g>\n",
       "<!-- describe_data&#45;&gt;description_of_data -->\n",
       "<g id=\"edge3\" class=\"edge\">\n",
       "<title>describe_data&#45;&gt;description_of_data</title>\n",
       "<path fill=\"none\" stroke=\"black\" d=\"M72.88,-71.7C72.88,-64.21 72.88,-55.26 72.88,-46.88\"/>\n",
       "<polygon fill=\"black\" stroke=\"black\" points=\"76.38,-47.14 72.88,-37.14 69.38,-47.14 76.38,-47.14\"/>\n",
       "</g>\n",
       "</g>\n",
       "</svg>\n"
      ],
      "text/plain": [
       "<graphviz.graphs.Digraph at 0x12034c730>"
      ]
     },
     "execution_count": 2,
     "metadata": {},
     "output_type": "execute_result"
    }
   ],
   "source": [
    "from meshed import code_to_dag\n",
    "\n",
    "@code_to_dag\n",
    "def cluster_description():\n",
    "    text_for_data = data_to_text(data)\n",
    "    description_of_data = describe_data(text_for_data, context)\n",
    "\n",
    "cluster_description.dot_digraph()"
   ]
  },
  {
   "cell_type": "code",
   "execution_count": 7,
   "metadata": {},
   "outputs": [
    {
     "data": {
      "text/plain": [
       "<function oa.tools.prompt_function.<locals>.ask_oa(data, *, n_words='10', context=' ')>"
      ]
     },
     "execution_count": 7,
     "metadata": {},
     "output_type": "execute_result"
    }
   ],
   "source": [
    "import oa\n",
    "\n",
    "describe_data = oa.prompt_function(\"\"\"\n",
    "Describe the data I printed below. \n",
    "Have the description be around {n_words:10} words long.\n",
    "More info about the source of the data: {context: }.\n",
    "                                   \n",
    "The data:\n",
    "                                   \n",
    "{data}\n",
    "\"\"\")\n",
    "\n",
    "\n",
    "\n",
    "# note that describe_data is a python function with arguments, defaults, etc.\n",
    "describe_data\n"
   ]
  },
  {
   "cell_type": "code",
   "execution_count": null,
   "metadata": {},
   "outputs": [],
   "source": []
  },
  {
   "cell_type": "code",
   "execution_count": null,
   "metadata": {},
   "outputs": [],
   "source": []
  },
  {
   "cell_type": "markdown",
   "metadata": {},
   "source": [
    "Let's try this out with the github repo data."
   ]
  },
  {
   "cell_type": "code",
   "execution_count": 6,
   "metadata": {},
   "outputs": [],
   "source": [
    "from imbed_data_prep.github_repos import *\n",
    "\n",
    "d = GithubReposData()"
   ]
  },
  {
   "cell_type": "code",
   "execution_count": 9,
   "metadata": {},
   "outputs": [
    {
     "name": "stdout",
     "output_type": "stream",
     "text": [
      "xdedzl/RuntimeTerrainEditor\n",
      "realvect0r/leetcode-api\n",
      "vippsas/vipps-developers\n",
      "NetManAIOps/Squeeze\n",
      "mdolab/MACH-Aero\n",
      "daily-co/daily-js\n",
      "NREL/ReEDS-2.0\n",
      "gadenbuie/grkstyle\n",
      "guanpj/JReadHub\n",
      "exp-sky/AsiaSecWest-2018-Chakra-vulnerability-and-exploit-bypass-all-system-mitigation\n",
      "dukelec/cdpga\n",
      "pjgao/eplot\n",
      "dalenguyen/firebase-functions-helper\n",
      "enovella/ida2ghidra-kb\n",
      "JazzyWagdaddy/AzureStudyGroups-AZ-203\n",
      "simonwongwong/Facebook-Messenger-Statistics\n",
      "uber/simple-store\n",
      "al-one/certbot-auth-dnspod\n",
      "digitalbitbox/bitbox-base\n",
      "BillyWei01/Doodle\n"
     ]
    }
   ],
   "source": [
    "def indices_of_first_rows(df, n_rows=20):\n",
    "    \"\"\"A data_to_text function that returns the indices of the first n_rows of a dataframe.\"\"\"\n",
    "    t = df.iloc[:n_rows]\n",
    "    return '\\n'.join(t.index.values)\n",
    "\n",
    "print(indices_of_first_rows(d.raw_data))"
   ]
  },
  {
   "cell_type": "code",
   "execution_count": 10,
   "metadata": {},
   "outputs": [
    {
     "data": {
      "text/plain": [
       "'These are different repositories found on the coding platform, Github.'"
      ]
     },
     "execution_count": 10,
     "metadata": {},
     "output_type": "execute_result"
    }
   ],
   "source": [
    "data_context = describe_data(indices_of_first_rows(d.raw_data))\n",
    "data_context"
   ]
  },
  {
   "cell_type": "markdown",
   "metadata": {},
   "source": [
    "Let's now select a subset of the data taken from a cluster, and feed our function the descriptions of it."
   ]
  },
  {
   "cell_type": "code",
   "execution_count": 4,
   "metadata": {},
   "outputs": [],
   "source": [
    "# get the smallest cluster\n",
    "from collections import Counter\n",
    "dflt_cluster_idx, num_of_rows = Counter(d.cluster_indices.clusters_34).most_common()[-1]\n",
    "dflt_cluster_idx, num_of_rows"
   ]
  },
  {
   "cell_type": "code",
   "execution_count": 5,
   "metadata": {},
   "outputs": [],
   "source": [
    "def descriptions_of_cluster(\n",
    "    d, *, cluster_idx=dflt_cluster_idx, max_description_length=100, n_samples=500,\n",
    "):\n",
    "    \"\"\"A data_to_text function that returns the descriptions of a cluster\"\"\"\n",
    "    import numpy as np\n",
    "\n",
    "    indices = d.cluster_indices[d.cluster_indices.clusters_34 == cluster_idx].index\n",
    "    random_sample_of_indices = np.random.choice(indices, n_samples)\n",
    "    sample_indices = d.raw_data.loc[random_sample_of_indices, 'description'].values\n",
    "    descriptions_text = '\\n\\n'.join(\n",
    "        map(lambda x: x[:max_description_length] + '...', filter(None, sample_indices))\n",
    "    )\n",
    "    return descriptions_text"
   ]
  },
  {
   "cell_type": "code",
   "execution_count": 21,
   "metadata": {},
   "outputs": [
    {
     "name": "stdout",
     "output_type": "stream",
     "text": [
      "26904 characters\n"
     ]
    }
   ],
   "source": [
    "descriptions_text = descriptions_of_cluster(d)\n",
    "print(f\"{len(descriptions_text)} characters\")"
   ]
  },
  {
   "cell_type": "code",
   "execution_count": 18,
   "metadata": {},
   "outputs": [
    {
     "name": "stdout",
     "output_type": "stream",
     "text": [
      "The data lists numerous GoLang projects or tools with brief descriptions of their functionalities.\n"
     ]
    }
   ],
   "source": [
    "# should be something about go language\n",
    "print(describe_data(descriptions_text))"
   ]
  },
  {
   "cell_type": "code",
   "execution_count": 23,
   "metadata": {},
   "outputs": [
    {
     "name": "stdout",
     "output_type": "stream",
     "text": [
      "84.04% of the repos in cluster mention go in their langauges.\n"
     ]
    }
   ],
   "source": [
    "# Confirmation that these are go language repos\n",
    "key_text = 'go'\n",
    "idx = d.cluster_indices[d.cluster_indices.clusters_34 == dflt_cluster_idx].index\n",
    "r = sum(key_text in x.lower() for x in d.raw_data.loc[idx, 'languages'].values) / len(idx)\n",
    "print(f\"{r * 100:.2f}% of the repos in cluster mention {key_text} in their langauges.\")"
   ]
  },
  {
   "cell_type": "code",
   "execution_count": 24,
   "metadata": {},
   "outputs": [
    {
     "name": "stdout",
     "output_type": "stream",
     "text": [
      "These are descriptions of different coding projects and software plugins.\n"
     ]
    }
   ],
   "source": [
    "# try with another cluster\n",
    "print(describe_data(descriptions_of_cluster(d, cluster_idx=0)))"
   ]
  },
  {
   "cell_type": "code",
   "execution_count": 25,
   "metadata": {},
   "outputs": [
    {
     "name": "stdout",
     "output_type": "stream",
     "text": [
      "The data consists of various software project descriptions, often including technologies used and project functionality.\n"
     ]
    }
   ],
   "source": [
    "# again\n",
    "print(describe_data(descriptions_of_cluster(d, cluster_idx=0)))"
   ]
  },
  {
   "cell_type": "code",
   "execution_count": null,
   "metadata": {},
   "outputs": [],
   "source": []
  }
 ],
 "metadata": {
  "kernelspec": {
   "display_name": "p10",
   "language": "python",
   "name": "python3"
  },
  "language_info": {
   "codemirror_mode": {
    "name": "ipython",
    "version": 3
   },
   "file_extension": ".py",
   "mimetype": "text/x-python",
   "name": "python",
   "nbconvert_exporter": "python",
   "pygments_lexer": "ipython3",
   "version": "3.10.13"
  }
 },
 "nbformat": 4,
 "nbformat_minor": 2
}
