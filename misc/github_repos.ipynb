{
 "cells": [
  {
   "cell_type": "markdown",
   "metadata": {},
   "source": [
    "Here, we'll have a look at [GitHub Public Repository Metadata](https://www.kaggle.com/datasets/pelmers/github-repository-metadata-with-5-stars?resource=download) ([Dropbox link to parquet file](https://www.dropbox.com/s/kokiypcm2ylx4an/github-repos.parquet?dl=0))"
   ]
  },
  {
   "cell_type": "markdown",
   "metadata": {},
   "source": [
    "The `GithubReposData` class is your entry point to the github repo data. \n",
    "You can parametrized instances of `GithubReposData`, but if you don't, it'll work anyway with its own defaults. \n",
    "You can specify the parameters when making a `GithubReposData` instance, or set environment variables. If you do neither, it'll ask you (user input) everytime you make an instance, to see if you want to set these parameters.\n"
   ]
  },
  {
   "cell_type": "code",
   "execution_count": 4,
   "metadata": {},
   "outputs": [],
   "source": [
    "from imbed_data_prep.github_repos import *\n",
    "\n",
    "d = GithubReposData()"
   ]
  },
  {
   "cell_type": "code",
   "execution_count": 5,
   "metadata": {},
   "outputs": [],
   "source": [
    "planar_vects = d.planar_embeddings  # 14m15s to compute from scratch"
   ]
  },
  {
   "cell_type": "code",
   "execution_count": 6,
   "metadata": {},
   "outputs": [
    {
     "name": "stdout",
     "output_type": "stream",
     "text": [
      "Making dataframe from parquet bytes\n",
      "Loading bytes of raw data from /Users/thorwhalen/Dropbox/_odata/figiri/github-repos.parquet\n",
      "... Done\n",
      "Dropping duplicate nameWithOwner (github stub)...\n",
      "... Dropped 209524 duplicates\n",
      "... Done\n"
     ]
    }
   ],
   "source": [
    "data_for_cosmo = d.data_with_planar_embeddings()"
   ]
  },
  {
   "cell_type": "code",
   "execution_count": 6,
   "metadata": {},
   "outputs": [],
   "source": [
    "# d.cache['github_repo_for_cosmos.parquet'] = data_for_cosmo"
   ]
  },
  {
   "cell_type": "code",
   "execution_count": 19,
   "metadata": {},
   "outputs": [
    {
     "data": {
      "text/plain": [
       "(3065063, 256)"
      ]
     },
     "execution_count": 19,
     "metadata": {},
     "output_type": "execute_result"
    }
   ],
   "source": [
    "# get numpy array of segment vectors\n",
    "# the d.segment_vectors is a series whose elements are numpy arrays\n",
    "# We want to have a 2 dimentional array with the same number of rows as the series\n",
    "# and the number of columns as the length of the numpy arrays\n",
    "\n",
    "import numpy as np\n",
    "\n",
    "X = np.vstack(d.segment_vectors.tolist())\n",
    "X.shape"
   ]
  },
  {
   "cell_type": "code",
   "execution_count": 15,
   "metadata": {},
   "outputs": [
    {
     "data": {
      "text/plain": [
       "(3065063, 256)"
      ]
     },
     "execution_count": 15,
     "metadata": {},
     "output_type": "execute_result"
    }
   ],
   "source": [
    "from sklearn.cluster import KMeans\n",
    "d.embeddings_matrix"
   ]
  },
  {
   "cell_type": "code",
   "execution_count": 9,
   "metadata": {},
   "outputs": [
    {
     "name": "stdout",
     "output_type": "stream",
     "text": [
      "Computing cluster indices for num of clusters: (5, 8, 13, 21, 34)\n",
      "... Done\n"
     ]
    }
   ],
   "source": [
    "t = d.cluster_indices"
   ]
  },
  {
   "cell_type": "markdown",
   "metadata": {},
   "source": [
    "# Data prep misc"
   ]
  },
  {
   "cell_type": "code",
   "execution_count": null,
   "metadata": {},
   "outputs": [],
   "source": [
    "from imbed_data_prep.github_repos import *\n",
    "\n",
    "d = GithubReposData()"
   ]
  },
  {
   "cell_type": "markdown",
   "metadata": {},
   "source": [
    "## Can we take the github stub (nameWithOwner) as an id?"
   ]
  },
  {
   "cell_type": "code",
   "execution_count": 18,
   "metadata": {},
   "outputs": [
    {
     "name": "stdout",
     "output_type": "stream",
     "text": [
      "Making dataframe from parquet bytes\n",
      "Loading bytes of raw data from /Users/thorwhalen/Dropbox/_odata/figiri/github-repos.parquet\n"
     ]
    }
   ],
   "source": [
    "assert len(d.raw_data.nameWithOwner.dropna()) == len(d.raw_data), (\n",
    "    \"We assumed that there's no missing data in the 'nameWithOwner' column\"\n",
    ")"
   ]
  },
  {
   "cell_type": "code",
   "execution_count": 24,
   "metadata": {},
   "outputs": [
    {
     "ename": "AssertionError",
     "evalue": "We assumed that the 'nameWithOwner' were unique",
     "output_type": "error",
     "traceback": [
      "\u001b[0;31m---------------------------------------------------------------------------\u001b[0m",
      "\u001b[0;31mAssertionError\u001b[0m                            Traceback (most recent call last)",
      "Cell \u001b[0;32mIn[24], line 1\u001b[0m\n\u001b[0;32m----> 1\u001b[0m \u001b[38;5;28;01massert\u001b[39;00m d\u001b[38;5;241m.\u001b[39mraw_data\u001b[38;5;241m.\u001b[39mnameWithOwner\u001b[38;5;241m.\u001b[39mnunique() \u001b[38;5;241m==\u001b[39m \u001b[38;5;28mlen\u001b[39m(d\u001b[38;5;241m.\u001b[39mraw_data), (\n\u001b[1;32m      2\u001b[0m     \u001b[38;5;124m\"\u001b[39m\u001b[38;5;124mWe assumed that the \u001b[39m\u001b[38;5;124m'\u001b[39m\u001b[38;5;124mnameWithOwner\u001b[39m\u001b[38;5;124m'\u001b[39m\u001b[38;5;124m were unique\u001b[39m\u001b[38;5;124m\"\u001b[39m\n\u001b[1;32m      3\u001b[0m )\n",
      "\u001b[0;31mAssertionError\u001b[0m: We assumed that the 'nameWithOwner' were unique"
     ]
    }
   ],
   "source": [
    "assert d.raw_data.nameWithOwner.nunique() == len(d.raw_data), (\n",
    "    \"We assumed that the 'nameWithOwner' were unique\"\n",
    ")"
   ]
  },
  {
   "cell_type": "markdown",
   "metadata": {},
   "source": [
    "### Let's look at the duplicates"
   ]
  },
  {
   "cell_type": "code",
   "execution_count": 25,
   "metadata": {},
   "outputs": [
    {
     "data": {
      "text/plain": [
       "[('plapadoo/ledger-jira-sync', 4),\n",
       " ('wasp-platform/wasp', 4),\n",
       " ('dimdenGD/OldTweetDeck', 3),\n",
       " ('TravisWThompson1/Makefile_Example_CUDA_CPP_To_Executable', 3),\n",
       " ('Roave/EmailTemplates', 3),\n",
       " ('grigio/meteor-weuse', 3),\n",
       " ('laewahn/CutCAD', 3),\n",
       " ('cockroachdb/cdc-sink', 3),\n",
       " ('AP-Atul/Torpido', 3),\n",
       " ('althonos/pyhmmer', 3)]"
      ]
     },
     "execution_count": 25,
     "metadata": {},
     "output_type": "execute_result"
    }
   ],
   "source": [
    "from collections import Counter\n",
    "\n",
    "Counter(d.raw_data.nameWithOwner).most_common(10)"
   ]
  },
  {
   "cell_type": "code",
   "execution_count": 26,
   "metadata": {},
   "outputs": [
    {
     "data": {
      "text/html": [
       "<div>\n",
       "<style scoped>\n",
       "    .dataframe tbody tr th:only-of-type {\n",
       "        vertical-align: middle;\n",
       "    }\n",
       "\n",
       "    .dataframe tbody tr th {\n",
       "        vertical-align: top;\n",
       "    }\n",
       "\n",
       "    .dataframe thead th {\n",
       "        text-align: right;\n",
       "    }\n",
       "</style>\n",
       "<table border=\"1\" class=\"dataframe\">\n",
       "  <thead>\n",
       "    <tr style=\"text-align: right;\">\n",
       "      <th></th>\n",
       "      <th>owner</th>\n",
       "      <th>name</th>\n",
       "      <th>stars</th>\n",
       "      <th>forks</th>\n",
       "      <th>watchers</th>\n",
       "      <th>isFork</th>\n",
       "      <th>isArchived</th>\n",
       "      <th>languages</th>\n",
       "      <th>languageCount</th>\n",
       "      <th>topics</th>\n",
       "      <th>...</th>\n",
       "      <th>createdAt</th>\n",
       "      <th>pushedAt</th>\n",
       "      <th>defaultBranchCommitCount</th>\n",
       "      <th>license</th>\n",
       "      <th>assignableUserCount</th>\n",
       "      <th>codeOfConduct</th>\n",
       "      <th>forkingAllowed</th>\n",
       "      <th>nameWithOwner</th>\n",
       "      <th>parent</th>\n",
       "      <th>embedding</th>\n",
       "    </tr>\n",
       "  </thead>\n",
       "  <tbody>\n",
       "    <tr>\n",
       "      <th>2117813</th>\n",
       "      <td>plapadoo</td>\n",
       "      <td>ledger-jira-sync</td>\n",
       "      <td>6</td>\n",
       "      <td>0</td>\n",
       "      <td>6</td>\n",
       "      <td>False</td>\n",
       "      <td>False</td>\n",
       "      <td>Python: 8602, Nix: 1530</td>\n",
       "      <td>2</td>\n",
       "      <td>ledger: 15, python: 277441, accounting: 67, bo...</td>\n",
       "      <td>...</td>\n",
       "      <td>2018-05-19T08:00:12Z</td>\n",
       "      <td>2019-03-05T17:55:25Z</td>\n",
       "      <td>9.0</td>\n",
       "      <td>BSD 3-Clause \"New\" or \"Revised\" License</td>\n",
       "      <td>3</td>\n",
       "      <td>None</td>\n",
       "      <td>True</td>\n",
       "      <td>plapadoo/ledger-jira-sync</td>\n",
       "      <td>NaN</td>\n",
       "      <td>[-0.04487917, 0.025739525, 0.106529795, -0.135...</td>\n",
       "    </tr>\n",
       "    <tr>\n",
       "      <th>2117814</th>\n",
       "      <td>plapadoo</td>\n",
       "      <td>ledger-jira-sync</td>\n",
       "      <td>6</td>\n",
       "      <td>0</td>\n",
       "      <td>6</td>\n",
       "      <td>False</td>\n",
       "      <td>False</td>\n",
       "      <td>Python: 8602, Nix: 1530</td>\n",
       "      <td>2</td>\n",
       "      <td>ledger: 15, python: 277441, accounting: 67, bo...</td>\n",
       "      <td>...</td>\n",
       "      <td>2018-05-19T08:00:12Z</td>\n",
       "      <td>2019-03-05T17:55:25Z</td>\n",
       "      <td>9.0</td>\n",
       "      <td>BSD 3-Clause \"New\" or \"Revised\" License</td>\n",
       "      <td>3</td>\n",
       "      <td>None</td>\n",
       "      <td>True</td>\n",
       "      <td>plapadoo/ledger-jira-sync</td>\n",
       "      <td>NaN</td>\n",
       "      <td>[-0.04487917, 0.025739525, 0.106529795, -0.135...</td>\n",
       "    </tr>\n",
       "    <tr>\n",
       "      <th>2117815</th>\n",
       "      <td>plapadoo</td>\n",
       "      <td>ledger-jira-sync</td>\n",
       "      <td>6</td>\n",
       "      <td>0</td>\n",
       "      <td>6</td>\n",
       "      <td>False</td>\n",
       "      <td>False</td>\n",
       "      <td>Python: 8602, Nix: 1530</td>\n",
       "      <td>2</td>\n",
       "      <td>ledger: 15, python: 277441, accounting: 67, bo...</td>\n",
       "      <td>...</td>\n",
       "      <td>2018-05-19T08:00:12Z</td>\n",
       "      <td>2019-03-05T17:55:25Z</td>\n",
       "      <td>9.0</td>\n",
       "      <td>BSD 3-Clause \"New\" or \"Revised\" License</td>\n",
       "      <td>3</td>\n",
       "      <td>None</td>\n",
       "      <td>True</td>\n",
       "      <td>plapadoo/ledger-jira-sync</td>\n",
       "      <td>NaN</td>\n",
       "      <td>[-0.04487917, 0.025739525, 0.106529795, -0.135...</td>\n",
       "    </tr>\n",
       "    <tr>\n",
       "      <th>2117816</th>\n",
       "      <td>plapadoo</td>\n",
       "      <td>ledger-jira-sync</td>\n",
       "      <td>5</td>\n",
       "      <td>0</td>\n",
       "      <td>6</td>\n",
       "      <td>False</td>\n",
       "      <td>False</td>\n",
       "      <td>Python: 8602, Nix: 1530</td>\n",
       "      <td>2</td>\n",
       "      <td>ledger: 15, python: 277500, accounting: 67, bo...</td>\n",
       "      <td>...</td>\n",
       "      <td>2018-05-19T08:00:12Z</td>\n",
       "      <td>2019-03-05T17:55:25Z</td>\n",
       "      <td>9.0</td>\n",
       "      <td>BSD 3-Clause \"New\" or \"Revised\" License</td>\n",
       "      <td>3</td>\n",
       "      <td>None</td>\n",
       "      <td>True</td>\n",
       "      <td>plapadoo/ledger-jira-sync</td>\n",
       "      <td>NaN</td>\n",
       "      <td>[-0.04487917, 0.025739525, 0.106529795, -0.135...</td>\n",
       "    </tr>\n",
       "  </tbody>\n",
       "</table>\n",
       "<p>4 rows × 26 columns</p>\n",
       "</div>"
      ],
      "text/plain": [
       "            owner              name  stars  forks  watchers  isFork  \\\n",
       "2117813  plapadoo  ledger-jira-sync      6      0         6   False   \n",
       "2117814  plapadoo  ledger-jira-sync      6      0         6   False   \n",
       "2117815  plapadoo  ledger-jira-sync      6      0         6   False   \n",
       "2117816  plapadoo  ledger-jira-sync      5      0         6   False   \n",
       "\n",
       "         isArchived                languages  languageCount  \\\n",
       "2117813       False  Python: 8602, Nix: 1530              2   \n",
       "2117814       False  Python: 8602, Nix: 1530              2   \n",
       "2117815       False  Python: 8602, Nix: 1530              2   \n",
       "2117816       False  Python: 8602, Nix: 1530              2   \n",
       "\n",
       "                                                    topics  ...  \\\n",
       "2117813  ledger: 15, python: 277441, accounting: 67, bo...  ...   \n",
       "2117814  ledger: 15, python: 277441, accounting: 67, bo...  ...   \n",
       "2117815  ledger: 15, python: 277441, accounting: 67, bo...  ...   \n",
       "2117816  ledger: 15, python: 277500, accounting: 67, bo...  ...   \n",
       "\n",
       "                    createdAt              pushedAt  defaultBranchCommitCount  \\\n",
       "2117813  2018-05-19T08:00:12Z  2019-03-05T17:55:25Z                       9.0   \n",
       "2117814  2018-05-19T08:00:12Z  2019-03-05T17:55:25Z                       9.0   \n",
       "2117815  2018-05-19T08:00:12Z  2019-03-05T17:55:25Z                       9.0   \n",
       "2117816  2018-05-19T08:00:12Z  2019-03-05T17:55:25Z                       9.0   \n",
       "\n",
       "                                         license assignableUserCount  \\\n",
       "2117813  BSD 3-Clause \"New\" or \"Revised\" License                   3   \n",
       "2117814  BSD 3-Clause \"New\" or \"Revised\" License                   3   \n",
       "2117815  BSD 3-Clause \"New\" or \"Revised\" License                   3   \n",
       "2117816  BSD 3-Clause \"New\" or \"Revised\" License                   3   \n",
       "\n",
       "        codeOfConduct forkingAllowed              nameWithOwner  parent  \\\n",
       "2117813          None           True  plapadoo/ledger-jira-sync     NaN   \n",
       "2117814          None           True  plapadoo/ledger-jira-sync     NaN   \n",
       "2117815          None           True  plapadoo/ledger-jira-sync     NaN   \n",
       "2117816          None           True  plapadoo/ledger-jira-sync     NaN   \n",
       "\n",
       "                                                 embedding  \n",
       "2117813  [-0.04487917, 0.025739525, 0.106529795, -0.135...  \n",
       "2117814  [-0.04487917, 0.025739525, 0.106529795, -0.135...  \n",
       "2117815  [-0.04487917, 0.025739525, 0.106529795, -0.135...  \n",
       "2117816  [-0.04487917, 0.025739525, 0.106529795, -0.135...  \n",
       "\n",
       "[4 rows x 26 columns]"
      ]
     },
     "execution_count": 26,
     "metadata": {},
     "output_type": "execute_result"
    }
   ],
   "source": [
    "d.raw_data[d.raw_data.nameWithOwner == \"plapadoo/ledger-jira-sync\"]"
   ]
  },
  {
   "cell_type": "markdown",
   "metadata": {},
   "source": [
    "It looks like the meta data is exactly the same, so the non-unique entries might be duplicates. Let's drop any rows that are exact duplicates (except for the embeddings, which are numpy arrays, so not hashable, and could have slight variations). "
   ]
  },
  {
   "cell_type": "code",
   "execution_count": 35,
   "metadata": {},
   "outputs": [
    {
     "name": "stdout",
     "output_type": "stream",
     "text": [
      "207147 rows were dropped\n"
     ]
    },
    {
     "data": {
      "text/plain": [
       "((3274587, 26), (3067440, 26))"
      ]
     },
     "execution_count": 35,
     "metadata": {},
     "output_type": "execute_result"
    }
   ],
   "source": [
    "# drop duplicates, ignoring the embedding column (which is not hashable)\n",
    "t = d.raw_data.drop_duplicates(subset=d.raw_data.columns.difference([\"embedding\"]))\n",
    "assert d.raw_data.shape[1] == t.shape[1], \"Assumed no columns were dropped\"\n",
    "print(f\"{len(d.raw_data) - len(t)} rows were dropped\")\n",
    "d.raw_data.shape, t.shape"
   ]
  },
  {
   "cell_type": "code",
   "execution_count": 36,
   "metadata": {},
   "outputs": [
    {
     "ename": "AssertionError",
     "evalue": "We assumed that the 'nameWithOwner' were unique",
     "output_type": "error",
     "traceback": [
      "\u001b[0;31m---------------------------------------------------------------------------\u001b[0m",
      "\u001b[0;31mAssertionError\u001b[0m                            Traceback (most recent call last)",
      "Cell \u001b[0;32mIn[36], line 1\u001b[0m\n\u001b[0;32m----> 1\u001b[0m \u001b[38;5;28;01massert\u001b[39;00m t\u001b[38;5;241m.\u001b[39mnameWithOwner\u001b[38;5;241m.\u001b[39mnunique() \u001b[38;5;241m==\u001b[39m \u001b[38;5;28mlen\u001b[39m(t), (\n\u001b[1;32m      2\u001b[0m     \u001b[38;5;124m\"\u001b[39m\u001b[38;5;124mWe assumed that the \u001b[39m\u001b[38;5;124m'\u001b[39m\u001b[38;5;124mnameWithOwner\u001b[39m\u001b[38;5;124m'\u001b[39m\u001b[38;5;124m were unique\u001b[39m\u001b[38;5;124m\"\u001b[39m\n\u001b[1;32m      3\u001b[0m )\n",
      "\u001b[0;31mAssertionError\u001b[0m: We assumed that the 'nameWithOwner' were unique"
     ]
    }
   ],
   "source": [
    "# Still some duplicate nameWithOwner, with different stars etc.\n",
    "# So we'll just drop duplicate nameWithOwner\n",
    "assert t.nameWithOwner.nunique() == len(t), (\n",
    "    \"We assumed that the 'nameWithOwner' were unique\"\n",
    ")"
   ]
  },
  {
   "cell_type": "code",
   "execution_count": 39,
   "metadata": {},
   "outputs": [
    {
     "data": {
      "text/plain": [
       "[('dimdenGD/OldTweetDeck', 3),\n",
       " ('weaigc/gradio-chatbot', 3),\n",
       " ('MoyuruAizawa/Cropify', 3),\n",
       " ('Lakr233/BBackupp', 3),\n",
       " ('daboigbae/react-native-template', 3),\n",
       " ('esp-rs/esp-mbedtls', 3),\n",
       " ('Nahid1911/space-travelers-proj-react', 3),\n",
       " ('Rel1cx/eslint-plugin-react-ts', 3),\n",
       " ('redknotmiaoyuqiao/EyerH264Decoder', 2),\n",
       " ('ShuifaHe/STM32', 2)]"
      ]
     },
     "execution_count": 39,
     "metadata": {},
     "output_type": "execute_result"
    }
   ],
   "source": [
    "Counter(t.nameWithOwner).most_common(10)"
   ]
  },
  {
   "cell_type": "code",
   "execution_count": 40,
   "metadata": {},
   "outputs": [
    {
     "data": {
      "text/html": [
       "<div>\n",
       "<style scoped>\n",
       "    .dataframe tbody tr th:only-of-type {\n",
       "        vertical-align: middle;\n",
       "    }\n",
       "\n",
       "    .dataframe tbody tr th {\n",
       "        vertical-align: top;\n",
       "    }\n",
       "\n",
       "    .dataframe thead th {\n",
       "        text-align: right;\n",
       "    }\n",
       "</style>\n",
       "<table border=\"1\" class=\"dataframe\">\n",
       "  <thead>\n",
       "    <tr style=\"text-align: right;\">\n",
       "      <th></th>\n",
       "      <th>owner</th>\n",
       "      <th>name</th>\n",
       "      <th>stars</th>\n",
       "      <th>forks</th>\n",
       "      <th>watchers</th>\n",
       "      <th>isFork</th>\n",
       "      <th>isArchived</th>\n",
       "      <th>languages</th>\n",
       "      <th>languageCount</th>\n",
       "      <th>topics</th>\n",
       "      <th>...</th>\n",
       "      <th>createdAt</th>\n",
       "      <th>pushedAt</th>\n",
       "      <th>defaultBranchCommitCount</th>\n",
       "      <th>license</th>\n",
       "      <th>assignableUserCount</th>\n",
       "      <th>codeOfConduct</th>\n",
       "      <th>forkingAllowed</th>\n",
       "      <th>nameWithOwner</th>\n",
       "      <th>parent</th>\n",
       "      <th>embedding</th>\n",
       "    </tr>\n",
       "  </thead>\n",
       "  <tbody>\n",
       "    <tr>\n",
       "      <th>8747</th>\n",
       "      <td>dimdenGD</td>\n",
       "      <td>OldTweetDeck</td>\n",
       "      <td>129</td>\n",
       "      <td>5</td>\n",
       "      <td>10</td>\n",
       "      <td>False</td>\n",
       "      <td>False</td>\n",
       "      <td>JavaScript: 5093</td>\n",
       "      <td>1</td>\n",
       "      <td></td>\n",
       "      <td>...</td>\n",
       "      <td>2023-08-17T00:31:05Z</td>\n",
       "      <td>2023-08-18T19:55:14Z</td>\n",
       "      <td>14.0</td>\n",
       "      <td>MIT License</td>\n",
       "      <td>1</td>\n",
       "      <td>None</td>\n",
       "      <td>True</td>\n",
       "      <td>dimdenGD/OldTweetDeck</td>\n",
       "      <td>NaN</td>\n",
       "      <td>[-0.093423545, -0.07952896, -0.038683187, -0.0...</td>\n",
       "    </tr>\n",
       "    <tr>\n",
       "      <th>8748</th>\n",
       "      <td>dimdenGD</td>\n",
       "      <td>OldTweetDeck</td>\n",
       "      <td>97</td>\n",
       "      <td>4</td>\n",
       "      <td>8</td>\n",
       "      <td>False</td>\n",
       "      <td>False</td>\n",
       "      <td>JavaScript: 5093</td>\n",
       "      <td>1</td>\n",
       "      <td></td>\n",
       "      <td>...</td>\n",
       "      <td>2023-08-17T00:31:05Z</td>\n",
       "      <td>2023-08-18T16:44:39Z</td>\n",
       "      <td>13.0</td>\n",
       "      <td>MIT License</td>\n",
       "      <td>1</td>\n",
       "      <td>None</td>\n",
       "      <td>True</td>\n",
       "      <td>dimdenGD/OldTweetDeck</td>\n",
       "      <td>NaN</td>\n",
       "      <td>[-0.093423545, -0.07952896, -0.038683187, -0.0...</td>\n",
       "    </tr>\n",
       "    <tr>\n",
       "      <th>8749</th>\n",
       "      <td>dimdenGD</td>\n",
       "      <td>OldTweetDeck</td>\n",
       "      <td>128</td>\n",
       "      <td>5</td>\n",
       "      <td>10</td>\n",
       "      <td>False</td>\n",
       "      <td>False</td>\n",
       "      <td>JavaScript: 5093</td>\n",
       "      <td>1</td>\n",
       "      <td></td>\n",
       "      <td>...</td>\n",
       "      <td>2023-08-17T00:31:05Z</td>\n",
       "      <td>2023-08-18T19:55:14Z</td>\n",
       "      <td>14.0</td>\n",
       "      <td>MIT License</td>\n",
       "      <td>1</td>\n",
       "      <td>None</td>\n",
       "      <td>True</td>\n",
       "      <td>dimdenGD/OldTweetDeck</td>\n",
       "      <td>NaN</td>\n",
       "      <td>[-0.093423545, -0.07952896, -0.038683187, -0.0...</td>\n",
       "    </tr>\n",
       "  </tbody>\n",
       "</table>\n",
       "<p>3 rows × 26 columns</p>\n",
       "</div>"
      ],
      "text/plain": [
       "         owner          name  stars  forks  watchers  isFork  isArchived  \\\n",
       "8747  dimdenGD  OldTweetDeck    129      5        10   False       False   \n",
       "8748  dimdenGD  OldTweetDeck     97      4         8   False       False   \n",
       "8749  dimdenGD  OldTweetDeck    128      5        10   False       False   \n",
       "\n",
       "             languages  languageCount topics  ...             createdAt  \\\n",
       "8747  JavaScript: 5093              1         ...  2023-08-17T00:31:05Z   \n",
       "8748  JavaScript: 5093              1         ...  2023-08-17T00:31:05Z   \n",
       "8749  JavaScript: 5093              1         ...  2023-08-17T00:31:05Z   \n",
       "\n",
       "                  pushedAt  defaultBranchCommitCount      license  \\\n",
       "8747  2023-08-18T19:55:14Z                      14.0  MIT License   \n",
       "8748  2023-08-18T16:44:39Z                      13.0  MIT License   \n",
       "8749  2023-08-18T19:55:14Z                      14.0  MIT License   \n",
       "\n",
       "     assignableUserCount codeOfConduct forkingAllowed          nameWithOwner  \\\n",
       "8747                   1          None           True  dimdenGD/OldTweetDeck   \n",
       "8748                   1          None           True  dimdenGD/OldTweetDeck   \n",
       "8749                   1          None           True  dimdenGD/OldTweetDeck   \n",
       "\n",
       "      parent                                          embedding  \n",
       "8747     NaN  [-0.093423545, -0.07952896, -0.038683187, -0.0...  \n",
       "8748     NaN  [-0.093423545, -0.07952896, -0.038683187, -0.0...  \n",
       "8749     NaN  [-0.093423545, -0.07952896, -0.038683187, -0.0...  \n",
       "\n",
       "[3 rows x 26 columns]"
      ]
     },
     "execution_count": 40,
     "metadata": {},
     "output_type": "execute_result"
    }
   ],
   "source": [
    "d.raw_data[d.raw_data.nameWithOwner == 'dimdenGD/OldTweetDeck']"
   ]
  },
  {
   "cell_type": "markdown",
   "metadata": {},
   "source": [
    "## Different ways to get an array out of a dataframe"
   ]
  },
  {
   "cell_type": "code",
   "execution_count": 3,
   "metadata": {},
   "outputs": [],
   "source": [
    "import pandas as pd\n",
    "import numpy as np\n",
    "t = pd.DataFrame(np.random.randint(0, 10000, (10000, 2)), columns=['a', 'b'])"
   ]
  },
  {
   "cell_type": "code",
   "execution_count": 12,
   "metadata": {},
   "outputs": [
    {
     "name": "stdout",
     "output_type": "stream",
     "text": [
      "3.38 µs ± 10.1 ns per loop (mean ± std. dev. of 7 runs, 100,000 loops each)\n"
     ]
    }
   ],
   "source": [
    "%timeit tt = t.a.to_numpy()  # 3.38 µs ± 10.1 ns"
   ]
  },
  {
   "cell_type": "code",
   "execution_count": 13,
   "metadata": {},
   "outputs": [
    {
     "name": "stdout",
     "output_type": "stream",
     "text": [
      "351 µs ± 2.92 µs per loop (mean ± std. dev. of 7 runs, 1,000 loops each)\n"
     ]
    }
   ],
   "source": [
    "%timeit tt = np.array(t.a.to_list())  # 351 µs ± 2.92 µs"
   ]
  },
  {
   "cell_type": "code",
   "execution_count": null,
   "metadata": {},
   "outputs": [],
   "source": []
  },
  {
   "cell_type": "markdown",
   "metadata": {},
   "source": [
    "# Scrap: Github Repos Embeddings"
   ]
  },
  {
   "cell_type": "code",
   "execution_count": 1,
   "metadata": {},
   "outputs": [],
   "source": [
    "from imbed_data_prep.github_repos import _DFLT_RAW_DATA_FILEPATH, _DFLT_CACHE_DIR\n",
    "from imbed_data_prep.github_repos import *"
   ]
  },
  {
   "cell_type": "code",
   "execution_count": 1,
   "metadata": {},
   "outputs": [
    {
     "data": {
      "text/plain": [
       "False"
      ]
     },
     "execution_count": 1,
     "metadata": {},
     "output_type": "execute_result"
    }
   ],
   "source": [
    "log_flag_attr = 'verbose'\n",
    "args = ()\n",
    "getattr(next(iter(args), None), log_flag_attr, False)"
   ]
  },
  {
   "cell_type": "code",
   "execution_count": 4,
   "metadata": {},
   "outputs": [
    {
     "name": "stdout",
     "output_type": "stream",
     "text": [
      "Calling foo...\n",
      "Executing foo\n",
      ".... Done calling foo\n"
     ]
    }
   ],
   "source": [
    "from lkj import log_calls\n",
    "\n",
    "class MyClass:\n",
    "    def __init__(self, verbose=False):\n",
    "        self.verbose = verbose\n",
    "\n",
    "    @log_calls(log_flag_attr='verbose')\n",
    "    def foo(self):\n",
    "        print(\"Executing foo\")\n",
    "\n",
    "# Example usage\n",
    "obj = MyClass(verbose=True)\n",
    "obj.foo()  # This will log\n"
   ]
  },
  {
   "cell_type": "code",
   "execution_count": null,
   "metadata": {},
   "outputs": [],
   "source": []
  }
 ],
 "metadata": {
  "kernelspec": {
   "display_name": "Python 3",
   "language": "python",
   "name": "python3"
  },
  "language_info": {
   "codemirror_mode": {
    "name": "ipython",
    "version": 3
   },
   "file_extension": ".py",
   "mimetype": "text/x-python",
   "name": "python",
   "nbconvert_exporter": "python",
   "pygments_lexer": "ipython3",
   "version": "3.10.13"
  }
 },
 "nbformat": 4,
 "nbformat_minor": 2
}
