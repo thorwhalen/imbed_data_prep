{
 "cells": [
  {
   "cell_type": "markdown",
   "metadata": {},
   "source": [
    "Here we'll aquire and prepare all (1375) documents that define Jersey (Channel Islands, UK) law. "
   ]
  },
  {
   "cell_type": "markdown",
   "metadata": {},
   "source": [
    "Set the root directory you want to put your data in below:"
   ]
  },
  {
   "cell_type": "code",
   "execution_count": 18,
   "metadata": {},
   "outputs": [
    {
     "name": "stdout",
     "output_type": "stream",
     "text": [
      "rootdir='/Users/thorwhalen/Dropbox/py/notebooks/tw/scraping/jersey_laws'\n"
     ]
    }
   ],
   "source": [
    "from config2py import config_getter\n",
    "import os\n",
    "\n",
    "rootdir = config_getter('jersey_laws')\n",
    "\n",
    "# The above will fetch the rootdir from a config file, or from the environment, \n",
    "# or ask the user for it (and store it for next time)\n",
    "# If you prefer to just define it in the code, you can do that too by uncommenting \n",
    "# and editing the following line:\n",
    "# rootdir = '/Users/thorwhalen/Dropbox/py/notebooks/tw/scraping/jersey_laws'\n",
    "\n",
    "\n",
    "print(f\"{rootdir=}\")\n",
    "\n",
    "if not os.path.isdir(rootdir):\n",
    "    raise NotADirectoryError(f\"rootdir ({rootdir}) is not a directory. Please make it!\")"
   ]
  },
  {
   "cell_type": "markdown",
   "metadata": {},
   "source": [
    "# Data acquisition"
   ]
  },
  {
   "cell_type": "markdown",
   "metadata": {},
   "source": [
    "## Get the htmls"
   ]
  },
  {
   "cell_type": "code",
   "execution_count": 176,
   "metadata": {},
   "outputs": [
    {
     "name": "stdout",
     "output_type": "stream",
     "text": [
      "law_htmls_rootdir='/Users/thorwhalen/Dropbox/py/notebooks/tw/scraping/jersey_laws/law_htmls'\n"
     ]
    }
   ],
   "source": [
    "import os\n",
    "\n",
    "law_htmls_rootdir = os.path.join(rootdir, 'law_htmls')\n",
    "\n",
    "print(f\"{law_htmls_rootdir=}\")"
   ]
  },
  {
   "cell_type": "markdown",
   "metadata": {},
   "source": [
    "I tried to write an automatic data slurper, but was resisting, so a tiny bit of\n",
    "**MANUAL WORK NEEDED**:\n",
    "\n",
    "1. Go to https://www.jerseylaw.je/laws/current/Pages/search.aspx?size=n_500_n\n",
    "2. Copy the html from the \"inspect\" tool in your browser.\n",
    "3. Save it into an `.html` file in a folder called `law_htmls` in the root directory\n",
    "4. Repeat for each page of results, and save each page to a different file.\n"
   ]
  },
  {
   "cell_type": "markdown",
   "metadata": {},
   "source": [
    "## Parsing the htmls to get the info (pdf urls, etc.)"
   ]
  },
  {
   "cell_type": "code",
   "execution_count": 177,
   "metadata": {},
   "outputs": [],
   "source": [
    "from imbed.mdat.jersey_laws import *\n",
    "\n",
    "laws_info = get_laws_info(law_htmls_rootdir)"
   ]
  },
  {
   "cell_type": "code",
   "execution_count": 178,
   "metadata": {},
   "outputs": [
    {
     "data": {
      "text/plain": [
       "1375"
      ]
     },
     "execution_count": 178,
     "metadata": {},
     "output_type": "execute_result"
    }
   ],
   "source": [
    "len(laws_info)"
   ]
  },
  {
   "cell_type": "code",
   "execution_count": 168,
   "metadata": {},
   "outputs": [
    {
     "data": {
      "text/plain": [
       "{'name': 'Access to Justice (Jersey) Law 2019',\n",
       " 'url': 'https://www.jerseylaw.je/laws/current/Pages/07.025.aspx',\n",
       " 'ref': '07.025',\n",
       " 'pdf': 'https://www.jerseylaw.je/laws/current/PDFs/07.025.pdf'}"
      ]
     },
     "execution_count": 168,
     "metadata": {},
     "output_type": "execute_result"
    }
   ],
   "source": [
    "laws_info[0]"
   ]
  },
  {
   "cell_type": "markdown",
   "metadata": {},
   "source": [
    "## Download the pdfs"
   ]
  },
  {
   "cell_type": "markdown",
   "metadata": {},
   "source": [
    "The cell below will make a `pdfs` store and populate it with anything that is in \n",
    "laws_info but not found in the `law_pdfs` folder."
   ]
  },
  {
   "cell_type": "code",
   "execution_count": 181,
   "metadata": {},
   "outputs": [
    {
     "name": "stdout",
     "output_type": "stream",
     "text": [
      "The following 59 pdfs are missing:\n",
      "The first (up to) 5 are:\n",
      "\tLoi (1871) sur le mode d’élection des VingteniersTranslated.pdf\n",
      "\tLoi (1913) pour empêcher l’usage à Jersey, sans autorité, des Armoiries Royales.pdf\n",
      "\tLoi (1885) touchant l’Administration des Marchés PublicsTranslated.pdf\n",
      "\tLoi (1884) sur le prêt sur gages.pdf\n",
      "\tNouveaux Districts Ecclésiastique de “All Saints” et de “Saint Andrew”.pdf\n",
      "Aborting (not getting missing pdfs)\n"
     ]
    }
   ],
   "source": [
    "import requests\n",
    "from dol import Files\n",
    "import os\n",
    "\n",
    "pdfs = Files(os.path.join(rootdir, 'law_pdfs'))\n",
    "\n",
    "# TODO: The following SOMEHOW always things the same 18 pfds are missing. WTF!!!?\n",
    "def acquire_missing_pdfs(pdfs=pdfs, laws_info=laws_info, *, ask_user_confirmation=True, verbose=True):\n",
    "    pdf_urls = {x['name'] + '.pdf': x['pdf'] for x in laws_info}\n",
    "    existing_pdfs = list(pdfs)\n",
    "    \n",
    "    # TODO: the two following lines SOMEHOW do not give the same thing. WTF!!!?\n",
    "    # missing_pdfs = set(pdf_urls) - set(existing_pdfs)\n",
    "    missing_pdfs = [x for x in pdf_urls if x not in pdfs]\n",
    "    \n",
    "    if missing_pdfs:\n",
    "        n_missing_pdfs = len(missing_pdfs)\n",
    "        missing_pdf_urls = {pdf_name: pdf_urls[pdf_name] for pdf_name in missing_pdfs}\n",
    "\n",
    "        if ask_user_confirmation:\n",
    "            print(f\"The following {len(missing_pdfs)} pdfs are missing:\")\n",
    "            print(\"The first (up to) 5 are:\")\n",
    "            print('\\t' + '\\n\\t'.join(list(missing_pdfs)[:5]))\n",
    "            if input(\"Do you want to acquire them? (y/n) \").lower() != 'y':\n",
    "                print(\"Aborting (not getting missing pdfs)\")\n",
    "                return missing_pdf_urls\n",
    "        \n",
    "        error_pdfs = {}\n",
    "        \n",
    "        for i, (pdf_name, pdf_url) in enumerate(missing_pdf_urls.items(), 1):\n",
    "            if verbose: \n",
    "                print(f\"({i}/{n_missing_pdfs}): Aquiring {pdf_name}\")\n",
    "            r = requests.get(pdf_url)\n",
    "            if r.status_code == 200:\n",
    "                pdfs[pdf_name] = r.content\n",
    "            else:\n",
    "                error_pdfs.update({pdf_name: pdf_url})\n",
    "                if verbose:\n",
    "                    print(\n",
    "                        f\"----> Failed to get {pdf_name} \", \n",
    "                        f\"({pdf_url} returned status code: {r.status_code}\"\n",
    "                    )\n",
    "                    \n",
    "        return error_pdfs\n",
    "    else:\n",
    "        if verbose:\n",
    "            print(\"You got all the pdfs (that are present in the htmls)!\")\n",
    "\n",
    "missing_pdf_urls = acquire_missing_pdfs()"
   ]
  },
  {
   "cell_type": "markdown",
   "metadata": {},
   "source": [
    "### Strange problem I couldn't solve"
   ]
  },
  {
   "cell_type": "code",
   "execution_count": 224,
   "metadata": {},
   "outputs": [
    {
     "data": {
      "text/plain": [
       "(59, 0)"
      ]
     },
     "execution_count": 224,
     "metadata": {},
     "output_type": "execute_result"
    }
   ],
   "source": [
    "pdf_urls = {x['name'] + '.pdf': x['pdf'] for x in laws_info}\n",
    "existing_pdfs = list(pdfs)\n",
    "a = sorted(set(pdf_urls) - set(existing_pdfs))\n",
    "b = sorted([x for x in pdf_urls if x not in pdfs])\n",
    "len(a), len(b)  # These should be the same, but the a list has 59 more items than b. WTF!?"
   ]
  },
  {
   "cell_type": "code",
   "execution_count": 196,
   "metadata": {},
   "outputs": [
    {
     "name": "stdout",
     "output_type": "stream",
     "text": [
      "k in pdfs=True\n",
      "k in pdfs.keys()=True\n",
      "k in set(pdfs)=False\n",
      "k in list(pdfs)=False\n"
     ]
    }
   ],
   "source": [
    "# Let's look at the first key of a.\n",
    "# Note that it's in pdf (i.e. in it's keys), but not in the set, or list, of those keys\n",
    "k = a[0]\n",
    "print(f\"{k in pdfs=}\")\n",
    "print(f\"{k in pdfs.keys()=}\")\n",
    "print(f\"{k in set(pdfs)=}\")\n",
    "print(f\"{k in list(pdfs)=}\")"
   ]
  },
  {
   "cell_type": "code",
   "execution_count": 212,
   "metadata": {},
   "outputs": [],
   "source": [
    "# I thought maybe pdfs (which is a custom class is lying when it does:\n",
    "\n",
    "assert pdfs.__contains__(k)\n",
    "\n",
    "# which really means:\n",
    "import os\n",
    "filepath = os.path.join(pdfs.rootdir, k)\n",
    "assert os.path.exists(filepath)\n",
    "\n",
    "# but the file exists indeed\n"
   ]
  },
  {
   "cell_type": "code",
   "execution_count": 213,
   "metadata": {},
   "outputs": [
    {
     "data": {
      "text/plain": [
       "'Amendes en vertu des Règlements triennaux.pdf'"
      ]
     },
     "execution_count": 213,
     "metadata": {},
     "output_type": "execute_result"
    }
   ],
   "source": [
    "# So I thought maybe it's because of the accents in the k values\n",
    "k"
   ]
  },
  {
   "cell_type": "code",
   "execution_count": 219,
   "metadata": {},
   "outputs": [
    {
     "data": {
      "text/plain": [
       "True"
      ]
     },
     "execution_count": 219,
     "metadata": {},
     "output_type": "execute_result"
    }
   ],
   "source": [
    "# though\n",
    "k == k"
   ]
  },
  {
   "cell_type": "code",
   "execution_count": 221,
   "metadata": {},
   "outputs": [
    {
     "data": {
      "text/plain": [
       "False"
      ]
     },
     "execution_count": 221,
     "metadata": {},
     "output_type": "execute_result"
    }
   ],
   "source": [
    "# see this too (should be True, but is False)\n",
    "s = [k for k in pdfs]\n",
    "k in s"
   ]
  },
  {
   "cell_type": "code",
   "execution_count": 223,
   "metadata": {},
   "outputs": [
    {
     "data": {
      "text/plain": [
       "True"
      ]
     },
     "execution_count": 223,
     "metadata": {},
     "output_type": "execute_result"
    }
   ],
   "source": [
    "k in set(a)"
   ]
  },
  {
   "cell_type": "code",
   "execution_count": 215,
   "metadata": {},
   "outputs": [
    {
     "data": {
      "text/plain": [
       "False"
      ]
     },
     "execution_count": 215,
     "metadata": {},
     "output_type": "execute_result"
    }
   ],
   "source": [
    "hash(k) in {hash(x) for x in set(pdfs)}"
   ]
  },
  {
   "cell_type": "code",
   "execution_count": null,
   "metadata": {},
   "outputs": [],
   "source": []
  },
  {
   "cell_type": "code",
   "execution_count": null,
   "metadata": {},
   "outputs": [],
   "source": []
  },
  {
   "cell_type": "code",
   "execution_count": null,
   "metadata": {},
   "outputs": [],
   "source": []
  },
  {
   "cell_type": "code",
   "execution_count": null,
   "metadata": {},
   "outputs": [],
   "source": []
  },
  {
   "cell_type": "code",
   "execution_count": null,
   "metadata": {},
   "outputs": [],
   "source": []
  },
  {
   "cell_type": "code",
   "execution_count": null,
   "metadata": {},
   "outputs": [],
   "source": []
  },
  {
   "cell_type": "code",
   "execution_count": null,
   "metadata": {},
   "outputs": [],
   "source": []
  },
  {
   "cell_type": "code",
   "execution_count": null,
   "metadata": {},
   "outputs": [],
   "source": []
  },
  {
   "cell_type": "code",
   "execution_count": null,
   "metadata": {},
   "outputs": [],
   "source": []
  }
 ],
 "metadata": {
  "kernelspec": {
   "display_name": "Python 3",
   "language": "python",
   "name": "python3"
  },
  "language_info": {
   "codemirror_mode": {
    "name": "ipython",
    "version": 3
   },
   "file_extension": ".py",
   "mimetype": "text/x-python",
   "name": "python",
   "nbconvert_exporter": "python",
   "pygments_lexer": "ipython3",
   "version": "3.10.8"
  }
 },
 "nbformat": 4,
 "nbformat_minor": 2
}
