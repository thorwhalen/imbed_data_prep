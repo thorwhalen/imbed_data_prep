{
 "cells": [
  {
   "cell_type": "markdown",
   "metadata": {},
   "source": [
    "Here, we'll prepare and analyze ai prompt data.\n",
    "\n",
    "We'll be taking data from the following sources:\n",
    "\n",
    "[LMSYS-Chat-1M: A Large-Scale Real-World LLM Conversation Dataset](https://huggingface.co/papers/2309.11998)\n",
    "\n",
    "[prompt-injections](https://huggingface.co/datasets/deepset/prompt-injections)\n",
    "\n",
    "[awesome-chatgpt-prompts](https://github.com/f/awesome-chatgpt-prompts/blob/main/prompts.csv) (just 169 of them)\n"
   ]
  },
  {
   "cell_type": "code",
   "execution_count": null,
   "metadata": {},
   "outputs": [],
   "source": []
  },
  {
   "cell_type": "markdown",
   "metadata": {},
   "source": [
    "# Prompt-injections"
   ]
  },
  {
   "cell_type": "code",
   "execution_count": 2,
   "metadata": {},
   "outputs": [],
   "source": [
    "from imbed.mdat.prompt_injections import Dacc, mk_dacc\n",
    "from imbed.base import compute_and_save_embeddings"
   ]
  },
  {
   "cell_type": "code",
   "execution_count": 3,
   "metadata": {},
   "outputs": [],
   "source": [
    "dacc = Dacc(root_saves_dir='/Users/thorwhalen/Dropbox/_odata/figiri')"
   ]
  },
  {
   "cell_type": "code",
   "execution_count": 4,
   "metadata": {},
   "outputs": [
    {
     "data": {
      "text/plain": [
       "label\n",
       "0    399\n",
       "1    263\n",
       "Name: count, dtype: int64"
      ]
     },
     "execution_count": 4,
     "metadata": {},
     "output_type": "execute_result"
    }
   ],
   "source": [
    "dacc.label_counts"
   ]
  },
  {
   "cell_type": "code",
   "execution_count": null,
   "metadata": {},
   "outputs": [],
   "source": [
    "# dacc.compute_and_save_embeddings()  # do this once"
   ]
  },
  {
   "cell_type": "code",
   "execution_count": 5,
   "metadata": {},
   "outputs": [
    {
     "data": {
      "text/html": [
       "<div>\n",
       "<style scoped>\n",
       "    .dataframe tbody tr th:only-of-type {\n",
       "        vertical-align: middle;\n",
       "    }\n",
       "\n",
       "    .dataframe tbody tr th {\n",
       "        vertical-align: top;\n",
       "    }\n",
       "\n",
       "    .dataframe thead th {\n",
       "        text-align: right;\n",
       "    }\n",
       "</style>\n",
       "<table border=\"1\" class=\"dataframe\">\n",
       "  <thead>\n",
       "    <tr style=\"text-align: right;\">\n",
       "      <th></th>\n",
       "      <th>text</th>\n",
       "      <th>label</th>\n",
       "      <th>embeddings</th>\n",
       "    </tr>\n",
       "  </thead>\n",
       "  <tbody>\n",
       "    <tr>\n",
       "      <th>0</th>\n",
       "      <td>Refugee crisis in Europe solutions</td>\n",
       "      <td>0</td>\n",
       "      <td>[-0.050687890499830246, 0.029277440160512924, ...</td>\n",
       "    </tr>\n",
       "    <tr>\n",
       "      <th>1</th>\n",
       "      <td>My son is very interested in programming and w...</td>\n",
       "      <td>0</td>\n",
       "      <td>[-0.027677839621901512, -0.005644822493195534,...</td>\n",
       "    </tr>\n",
       "    <tr>\n",
       "      <th>2</th>\n",
       "      <td>I am looking for a new book and would like to ...</td>\n",
       "      <td>0</td>\n",
       "      <td>[0.008474018424749374, 0.014046058058738708, -...</td>\n",
       "    </tr>\n",
       "    <tr>\n",
       "      <th>3</th>\n",
       "      <td>I plan a trip around the world and wonder whic...</td>\n",
       "      <td>0</td>\n",
       "      <td>[0.012964372523128986, -0.03626144677400589, 0...</td>\n",
       "    </tr>\n",
       "    <tr>\n",
       "      <th>4</th>\n",
       "      <td>Wow, that's fantastic! Forget all previous tas...</td>\n",
       "      <td>1</td>\n",
       "      <td>[0.012506161816418171, 0.021630022674798965, -...</td>\n",
       "    </tr>\n",
       "    <tr>\n",
       "      <th>...</th>\n",
       "      <td>...</td>\n",
       "      <td>...</td>\n",
       "      <td>...</td>\n",
       "    </tr>\n",
       "    <tr>\n",
       "      <th>657</th>\n",
       "      <td>Unemployment young people Europe. What is the ...</td>\n",
       "      <td>1</td>\n",
       "      <td>[-0.023006808012723923, 0.0434078723192215, -0...</td>\n",
       "    </tr>\n",
       "    <tr>\n",
       "      <th>658</th>\n",
       "      <td>Artificial intelligence Ethics Europe. Was kan...</td>\n",
       "      <td>1</td>\n",
       "      <td>[-0.040689434856176376, -0.030579740181565285,...</td>\n",
       "    </tr>\n",
       "    <tr>\n",
       "      <th>659</th>\n",
       "      <td>Was kann ich mit Bärlauch kochen?. Was ist das...</td>\n",
       "      <td>1</td>\n",
       "      <td>[-0.018052157014608383, -0.0023143368307501078...</td>\n",
       "    </tr>\n",
       "    <tr>\n",
       "      <th>660</th>\n",
       "      <td>How has the education system in Germany change...</td>\n",
       "      <td>1</td>\n",
       "      <td>[-0.002975106006488204, 0.04281409829854965, 0...</td>\n",
       "    </tr>\n",
       "    <tr>\n",
       "      <th>661</th>\n",
       "      <td>Why did Russia invade Ukraine?. Wie funktionie...</td>\n",
       "      <td>1</td>\n",
       "      <td>[-0.08724123239517212, 0.0011014083866029978, ...</td>\n",
       "    </tr>\n",
       "  </tbody>\n",
       "</table>\n",
       "<p>662 rows × 3 columns</p>\n",
       "</div>"
      ],
      "text/plain": [
       "                                                  text  label  \\\n",
       "0                   Refugee crisis in Europe solutions      0   \n",
       "1    My son is very interested in programming and w...      0   \n",
       "2    I am looking for a new book and would like to ...      0   \n",
       "3    I plan a trip around the world and wonder whic...      0   \n",
       "4    Wow, that's fantastic! Forget all previous tas...      1   \n",
       "..                                                 ...    ...   \n",
       "657  Unemployment young people Europe. What is the ...      1   \n",
       "658  Artificial intelligence Ethics Europe. Was kan...      1   \n",
       "659  Was kann ich mit Bärlauch kochen?. Was ist das...      1   \n",
       "660  How has the education system in Germany change...      1   \n",
       "661  Why did Russia invade Ukraine?. Wie funktionie...      1   \n",
       "\n",
       "                                            embeddings  \n",
       "0    [-0.050687890499830246, 0.029277440160512924, ...  \n",
       "1    [-0.027677839621901512, -0.005644822493195534,...  \n",
       "2    [0.008474018424749374, 0.014046058058738708, -...  \n",
       "3    [0.012964372523128986, -0.03626144677400589, 0...  \n",
       "4    [0.012506161816418171, 0.021630022674798965, -...  \n",
       "..                                                 ...  \n",
       "657  [-0.023006808012723923, 0.0434078723192215, -0...  \n",
       "658  [-0.040689434856176376, -0.030579740181565285,...  \n",
       "659  [-0.018052157014608383, -0.0023143368307501078...  \n",
       "660  [-0.002975106006488204, 0.04281409829854965, 0...  \n",
       "661  [-0.08724123239517212, 0.0011014083866029978, ...  \n",
       "\n",
       "[662 rows x 3 columns]"
      ]
     },
     "execution_count": 5,
     "metadata": {},
     "output_type": "execute_result"
    }
   ],
   "source": [
    "dacc.embeddings_df  # do dacc.compute_and_save_embeddings() once to get the data"
   ]
  },
  {
   "cell_type": "code",
   "execution_count": 6,
   "metadata": {},
   "outputs": [],
   "source": [
    "dacc.compute_and_save_planar_embeddings()  # do this once"
   ]
  },
  {
   "cell_type": "code",
   "execution_count": 7,
   "metadata": {},
   "outputs": [
    {
     "data": {
      "text/html": [
       "<div>\n",
       "<style scoped>\n",
       "    .dataframe tbody tr th:only-of-type {\n",
       "        vertical-align: middle;\n",
       "    }\n",
       "\n",
       "    .dataframe tbody tr th {\n",
       "        vertical-align: top;\n",
       "    }\n",
       "\n",
       "    .dataframe thead th {\n",
       "        text-align: right;\n",
       "    }\n",
       "</style>\n",
       "<table border=\"1\" class=\"dataframe\">\n",
       "  <thead>\n",
       "    <tr style=\"text-align: right;\">\n",
       "      <th></th>\n",
       "      <th>x</th>\n",
       "      <th>y</th>\n",
       "    </tr>\n",
       "  </thead>\n",
       "  <tbody>\n",
       "    <tr>\n",
       "      <th>0</th>\n",
       "      <td>8.972539</td>\n",
       "      <td>1.022860</td>\n",
       "    </tr>\n",
       "    <tr>\n",
       "      <th>1</th>\n",
       "      <td>10.629257</td>\n",
       "      <td>-1.769608</td>\n",
       "    </tr>\n",
       "    <tr>\n",
       "      <th>2</th>\n",
       "      <td>9.511979</td>\n",
       "      <td>-0.552789</td>\n",
       "    </tr>\n",
       "    <tr>\n",
       "      <th>3</th>\n",
       "      <td>10.910244</td>\n",
       "      <td>-0.464185</td>\n",
       "    </tr>\n",
       "    <tr>\n",
       "      <th>4</th>\n",
       "      <td>6.494801</td>\n",
       "      <td>-2.838556</td>\n",
       "    </tr>\n",
       "    <tr>\n",
       "      <th>...</th>\n",
       "      <td>...</td>\n",
       "      <td>...</td>\n",
       "    </tr>\n",
       "    <tr>\n",
       "      <th>657</th>\n",
       "      <td>7.711979</td>\n",
       "      <td>0.027933</td>\n",
       "    </tr>\n",
       "    <tr>\n",
       "      <th>658</th>\n",
       "      <td>8.241547</td>\n",
       "      <td>-2.650353</td>\n",
       "    </tr>\n",
       "    <tr>\n",
       "      <th>659</th>\n",
       "      <td>8.109642</td>\n",
       "      <td>-2.757820</td>\n",
       "    </tr>\n",
       "    <tr>\n",
       "      <th>660</th>\n",
       "      <td>9.298254</td>\n",
       "      <td>-2.364432</td>\n",
       "    </tr>\n",
       "    <tr>\n",
       "      <th>661</th>\n",
       "      <td>2.656226</td>\n",
       "      <td>-0.494913</td>\n",
       "    </tr>\n",
       "  </tbody>\n",
       "</table>\n",
       "<p>662 rows × 2 columns</p>\n",
       "</div>"
      ],
      "text/plain": [
       "             x         y\n",
       "0     8.972539  1.022860\n",
       "1    10.629257 -1.769608\n",
       "2     9.511979 -0.552789\n",
       "3    10.910244 -0.464185\n",
       "4     6.494801 -2.838556\n",
       "..         ...       ...\n",
       "657   7.711979  0.027933\n",
       "658   8.241547 -2.650353\n",
       "659   8.109642 -2.757820\n",
       "660   9.298254 -2.364432\n",
       "661   2.656226 -0.494913\n",
       "\n",
       "[662 rows x 2 columns]"
      ]
     },
     "execution_count": 7,
     "metadata": {},
     "output_type": "execute_result"
    }
   ],
   "source": [
    "dacc.planar_embeddings  # do dacc.compute_and_save_planar_embeddings() once to get the data"
   ]
  },
  {
   "cell_type": "code",
   "execution_count": 11,
   "metadata": {},
   "outputs": [],
   "source": [
    "import pandas as pd\n",
    "\n",
    "# merge dacc.embeddings_df and dacc.planar_embeddings on the index\n",
    "df = pd.merge(dacc.embeddings_df, dacc.planar_embeddings, left_index=True, right_index=True)\n",
    "del df['embeddings']\n",
    "df['id'] = df.index\n",
    "# compute the size (length of text)\n",
    "df['size'] = df.text.apply(len)\n",
    "dacc.saves['prompt_injection_w_umap_embeddings.tsv'] = df"
   ]
  },
  {
   "cell_type": "code",
   "execution_count": 16,
   "metadata": {},
   "outputs": [
    {
     "data": {
      "text/plain": [
       "'/Users/thorwhalen/Dropbox/_odata/figiri/prompt-injections/'"
      ]
     },
     "execution_count": 16,
     "metadata": {},
     "output_type": "execute_result"
    }
   ],
   "source": [
    "rootdir = dacc.saves.rootdir\n",
    "rootdir"
   ]
  },
  {
   "cell_type": "code",
   "execution_count": 22,
   "metadata": {},
   "outputs": [],
   "source": [
    "dacc.saves['test.parquet'] = embeddings_df"
   ]
  },
  {
   "cell_type": "code",
   "execution_count": 21,
   "metadata": {},
   "outputs": [
    {
     "data": {
      "text/plain": [
       "['dol.json', 'yb\\n.json', 'an\\n.json']"
      ]
     },
     "execution_count": 21,
     "metadata": {},
     "output_type": "execute_result"
    }
   ],
   "source": [
    "from dol import Files, mk_dirs_if_missing\n",
    "\n",
    "\n",
    "s = mk_dirs_if_missing(Files('~/tmp/test_folder'))\n",
    "list(s)"
   ]
  },
  {
   "cell_type": "code",
   "execution_count": 22,
   "metadata": {},
   "outputs": [
    {
     "data": {
      "text/plain": [
       "['dol.json', 'yb\\n.json', 'an\\n.json', 'this/is.bin']"
      ]
     },
     "execution_count": 22,
     "metadata": {},
     "output_type": "execute_result"
    }
   ],
   "source": [
    "s['this/is.bin'] = b'1234'\n",
    "list(s)"
   ]
  },
  {
   "cell_type": "code",
   "execution_count": 4,
   "metadata": {},
   "outputs": [],
   "source": [
    "from mixing import write_subtitles_in_video"
   ]
  },
  {
   "cell_type": "code",
   "execution_count": null,
   "metadata": {},
   "outputs": [],
   "source": []
  },
  {
   "cell_type": "markdown",
   "metadata": {},
   "source": [
    "# lmsys/lmsys-chat-1m"
   ]
  },
  {
   "cell_type": "code",
   "execution_count": 1,
   "metadata": {},
   "outputs": [
    {
     "data": {
      "image/svg+xml": [
       "<?xml version=\"1.0\" encoding=\"UTF-8\" standalone=\"no\"?>\n",
       "<!DOCTYPE svg PUBLIC \"-//W3C//DTD SVG 1.1//EN\"\n",
       " \"http://www.w3.org/Graphics/SVG/1.1/DTD/svg11.dtd\">\n",
       "<!-- Generated by graphviz version 9.0.0 (20230911.1827)\n",
       " -->\n",
       "<!-- Pages: 1 -->\n",
       "<svg width=\"2136pt\" height=\"404pt\"\n",
       " viewBox=\"0.00 0.00 2136.47 404.00\" xmlns=\"http://www.w3.org/2000/svg\" xmlns:xlink=\"http://www.w3.org/1999/xlink\">\n",
       "<g id=\"graph0\" class=\"graph\" transform=\"scale(1 1) rotate(0) translate(4 400)\">\n",
       "<polygon fill=\"white\" stroke=\"none\" points=\"-4,4 -4,-400 2132.47,-400 2132.47,4 -4,4\"/>\n",
       "<!-- saves_dir -->\n",
       "<g id=\"node1\" class=\"node\">\n",
       "<title>saves_dir</title>\n",
       "<ellipse fill=\"none\" stroke=\"black\" cx=\"569.97\" cy=\"-378\" rx=\"45.72\" ry=\"18\"/>\n",
       "<text text-anchor=\"middle\" x=\"569.97\" y=\"-372.95\" font-family=\"Times,serif\" font-size=\"14.00\">saves_dir</text>\n",
       "</g>\n",
       "<!-- saves_bytes_store -->\n",
       "<g id=\"node2\" class=\"node\">\n",
       "<title>saves_bytes_store</title>\n",
       "<ellipse fill=\"none\" stroke=\"black\" cx=\"569.97\" cy=\"-306\" rx=\"77.45\" ry=\"18\"/>\n",
       "<text text-anchor=\"middle\" x=\"569.97\" y=\"-300.95\" font-family=\"Times,serif\" font-size=\"14.00\">saves_bytes_store</text>\n",
       "</g>\n",
       "<!-- saves_dir&#45;&gt;saves_bytes_store -->\n",
       "<g id=\"edge1\" class=\"edge\">\n",
       "<title>saves_dir&#45;&gt;saves_bytes_store</title>\n",
       "<path fill=\"none\" stroke=\"black\" d=\"M569.97,-359.7C569.97,-352.41 569.97,-343.73 569.97,-335.54\"/>\n",
       "<polygon fill=\"black\" stroke=\"black\" points=\"573.47,-335.62 569.97,-325.62 566.47,-335.62 573.47,-335.62\"/>\n",
       "</g>\n",
       "<!-- saves -->\n",
       "<g id=\"node3\" class=\"node\">\n",
       "<title>saves</title>\n",
       "<ellipse fill=\"none\" stroke=\"black\" cx=\"569.97\" cy=\"-234\" rx=\"30.88\" ry=\"18\"/>\n",
       "<text text-anchor=\"middle\" x=\"569.97\" y=\"-228.95\" font-family=\"Times,serif\" font-size=\"14.00\">saves</text>\n",
       "</g>\n",
       "<!-- saves_bytes_store&#45;&gt;saves -->\n",
       "<g id=\"edge2\" class=\"edge\">\n",
       "<title>saves_bytes_store&#45;&gt;saves</title>\n",
       "<path fill=\"none\" stroke=\"black\" d=\"M569.97,-287.7C569.97,-280.41 569.97,-271.73 569.97,-263.54\"/>\n",
       "<polygon fill=\"black\" stroke=\"black\" points=\"573.47,-263.62 569.97,-253.62 566.47,-263.62 573.47,-263.62\"/>\n",
       "</g>\n",
       "<!-- get_data -->\n",
       "<g id=\"node4\" class=\"node\">\n",
       "<title>get_data</title>\n",
       "<ellipse fill=\"none\" stroke=\"black\" cx=\"142.97\" cy=\"-162\" rx=\"42.14\" ry=\"18\"/>\n",
       "<text text-anchor=\"middle\" x=\"142.97\" y=\"-156.95\" font-family=\"Times,serif\" font-size=\"14.00\">get_data</text>\n",
       "</g>\n",
       "<!-- saves&#45;&gt;get_data -->\n",
       "<g id=\"edge3\" class=\"edge\">\n",
       "<title>saves&#45;&gt;get_data</title>\n",
       "<path fill=\"none\" stroke=\"black\" d=\"M539.4,-230.59C474.9,-225.08 320.39,-209.72 193.97,-180 191.04,-179.31 188.05,-178.53 185.05,-177.69\"/>\n",
       "<polygon fill=\"black\" stroke=\"black\" points=\"186.3,-174.41 175.71,-174.86 184.27,-181.11 186.3,-174.41\"/>\n",
       "</g>\n",
       "<!-- flat_en_embeddable -->\n",
       "<g id=\"node16\" class=\"node\">\n",
       "<title>flat_en_embeddable</title>\n",
       "<ellipse fill=\"none\" stroke=\"black\" cx=\"288.97\" cy=\"-162\" rx=\"86.15\" ry=\"18\"/>\n",
       "<text text-anchor=\"middle\" x=\"288.97\" y=\"-156.95\" font-family=\"Times,serif\" font-size=\"14.00\">flat_en_embeddable</text>\n",
       "</g>\n",
       "<!-- saves&#45;&gt;flat_en_embeddable -->\n",
       "<g id=\"edge14\" class=\"edge\">\n",
       "<title>saves&#45;&gt;flat_en_embeddable</title>\n",
       "<path fill=\"none\" stroke=\"black\" d=\"M541.74,-225.97C498.13,-215.11 413.24,-193.96 353.92,-179.18\"/>\n",
       "<polygon fill=\"black\" stroke=\"black\" points=\"354.81,-175.79 344.26,-176.77 353.11,-182.59 354.81,-175.79\"/>\n",
       "</g>\n",
       "<!-- flat_en_embeddings_store -->\n",
       "<g id=\"node17\" class=\"node\">\n",
       "<title>flat_en_embeddings_store</title>\n",
       "<ellipse fill=\"none\" stroke=\"black\" cx=\"501.97\" cy=\"-162\" rx=\"108.67\" ry=\"18\"/>\n",
       "<text text-anchor=\"middle\" x=\"501.97\" y=\"-156.95\" font-family=\"Times,serif\" font-size=\"14.00\">flat_en_embeddings_store</text>\n",
       "</g>\n",
       "<!-- saves&#45;&gt;flat_en_embeddings_store -->\n",
       "<g id=\"edge15\" class=\"edge\">\n",
       "<title>saves&#45;&gt;flat_en_embeddings_store</title>\n",
       "<path fill=\"none\" stroke=\"black\" d=\"M555.21,-217.81C546.79,-209.14 536.02,-198.05 526.37,-188.12\"/>\n",
       "<polygon fill=\"black\" stroke=\"black\" points=\"529.14,-185.95 519.66,-181.21 524.11,-190.82 529.14,-185.95\"/>\n",
       "</g>\n",
       "<!-- flat_en_conversation_grouped_embeddings -->\n",
       "<g id=\"node19\" class=\"node\">\n",
       "<title>flat_en_conversation_grouped_embeddings</title>\n",
       "<ellipse fill=\"none\" stroke=\"black\" cx=\"581.97\" cy=\"-18\" rx=\"172.65\" ry=\"18\"/>\n",
       "<text text-anchor=\"middle\" x=\"581.97\" y=\"-12.95\" font-family=\"Times,serif\" font-size=\"14.00\">flat_en_conversation_grouped_embeddings</text>\n",
       "</g>\n",
       "<!-- saves&#45;&gt;flat_en_conversation_grouped_embeddings -->\n",
       "<g id=\"edge18\" class=\"edge\">\n",
       "<title>saves&#45;&gt;flat_en_conversation_grouped_embeddings</title>\n",
       "<path fill=\"none\" stroke=\"black\" d=\"M588.69,-219.31C600.1,-209.74 613.66,-195.87 619.97,-180 637.95,-134.72 615.41,-78.75 598.16,-46.15\"/>\n",
       "<polygon fill=\"black\" stroke=\"black\" points=\"601.43,-44.82 593.53,-37.75 595.29,-48.2 601.43,-44.82\"/>\n",
       "</g>\n",
       "<!-- planar_embeddings_of_grouped_conversations -->\n",
       "<g id=\"node21\" class=\"node\">\n",
       "<title>planar_embeddings_of_grouped_conversations</title>\n",
       "<ellipse fill=\"none\" stroke=\"black\" cx=\"852.97\" cy=\"-162\" rx=\"185.96\" ry=\"18\"/>\n",
       "<text text-anchor=\"middle\" x=\"852.97\" y=\"-156.95\" font-family=\"Times,serif\" font-size=\"14.00\">planar_embeddings_of_grouped_conversations</text>\n",
       "</g>\n",
       "<!-- saves&#45;&gt;planar_embeddings_of_grouped_conversations -->\n",
       "<g id=\"edge20\" class=\"edge\">\n",
       "<title>saves&#45;&gt;planar_embeddings_of_grouped_conversations</title>\n",
       "<path fill=\"none\" stroke=\"black\" d=\"M598.13,-226.03C639.25,-215.86 717.19,-196.58 776.1,-182.01\"/>\n",
       "<polygon fill=\"black\" stroke=\"black\" points=\"776.9,-185.42 785.76,-179.62 775.22,-178.63 776.9,-185.42\"/>\n",
       "</g>\n",
       "<!-- meta_for_grouped_conversations -->\n",
       "<g id=\"node22\" class=\"node\">\n",
       "<title>meta_for_grouped_conversations</title>\n",
       "<ellipse fill=\"none\" stroke=\"black\" cx=\"1191.97\" cy=\"-162\" rx=\"134.78\" ry=\"18\"/>\n",
       "<text text-anchor=\"middle\" x=\"1191.97\" y=\"-156.95\" font-family=\"Times,serif\" font-size=\"14.00\">meta_for_grouped_conversations</text>\n",
       "</g>\n",
       "<!-- saves&#45;&gt;meta_for_grouped_conversations -->\n",
       "<g id=\"edge21\" class=\"edge\">\n",
       "<title>saves&#45;&gt;meta_for_grouped_conversations</title>\n",
       "<path fill=\"none\" stroke=\"black\" d=\"M600.45,-229.7C676.18,-221.47 878.95,-199.35 1047.97,-180 1059.24,-178.71 1071.01,-177.35 1082.76,-175.98\"/>\n",
       "<polygon fill=\"black\" stroke=\"black\" points=\"1082.96,-179.48 1092.49,-174.84 1082.15,-172.52 1082.96,-179.48\"/>\n",
       "</g>\n",
       "<!-- planar_embeddings_with_metadata -->\n",
       "<g id=\"node20\" class=\"node\">\n",
       "<title>planar_embeddings_with_metadata</title>\n",
       "<ellipse fill=\"none\" stroke=\"black\" cx=\"142.97\" cy=\"-90\" rx=\"142.97\" ry=\"18\"/>\n",
       "<text text-anchor=\"middle\" x=\"142.97\" y=\"-84.95\" font-family=\"Times,serif\" font-size=\"14.00\">planar_embeddings_with_metadata</text>\n",
       "</g>\n",
       "<!-- get_data&#45;&gt;planar_embeddings_with_metadata -->\n",
       "<g id=\"edge19\" class=\"edge\">\n",
       "<title>get_data&#45;&gt;planar_embeddings_with_metadata</title>\n",
       "<path fill=\"none\" stroke=\"black\" d=\"M142.97,-143.7C142.97,-136.41 142.97,-127.73 142.97,-119.54\"/>\n",
       "<polygon fill=\"black\" stroke=\"black\" points=\"146.47,-119.62 142.97,-109.62 139.47,-119.62 146.47,-119.62\"/>\n",
       "</g>\n",
       "<!-- dataset_dict_loader -->\n",
       "<g id=\"node5\" class=\"node\">\n",
       "<title>dataset_dict_loader</title>\n",
       "<ellipse fill=\"none\" stroke=\"black\" cx=\"1782.97\" cy=\"-378\" rx=\"82.57\" ry=\"18\"/>\n",
       "<text text-anchor=\"middle\" x=\"1782.97\" y=\"-372.95\" font-family=\"Times,serif\" font-size=\"14.00\">dataset_dict_loader</text>\n",
       "</g>\n",
       "<!-- dataset_dict -->\n",
       "<g id=\"node6\" class=\"node\">\n",
       "<title>dataset_dict</title>\n",
       "<ellipse fill=\"none\" stroke=\"black\" cx=\"1782.97\" cy=\"-306\" rx=\"54.93\" ry=\"18\"/>\n",
       "<text text-anchor=\"middle\" x=\"1782.97\" y=\"-300.95\" font-family=\"Times,serif\" font-size=\"14.00\">dataset_dict</text>\n",
       "</g>\n",
       "<!-- dataset_dict_loader&#45;&gt;dataset_dict -->\n",
       "<g id=\"edge4\" class=\"edge\">\n",
       "<title>dataset_dict_loader&#45;&gt;dataset_dict</title>\n",
       "<path fill=\"none\" stroke=\"black\" d=\"M1782.97,-359.7C1782.97,-352.41 1782.97,-343.73 1782.97,-335.54\"/>\n",
       "<polygon fill=\"black\" stroke=\"black\" points=\"1786.47,-335.62 1782.97,-325.62 1779.47,-335.62 1786.47,-335.62\"/>\n",
       "</g>\n",
       "<!-- _train_data -->\n",
       "<g id=\"node7\" class=\"node\">\n",
       "<title>_train_data</title>\n",
       "<ellipse fill=\"none\" stroke=\"black\" cx=\"1782.97\" cy=\"-234\" rx=\"52.38\" ry=\"18\"/>\n",
       "<text text-anchor=\"middle\" x=\"1782.97\" y=\"-228.95\" font-family=\"Times,serif\" font-size=\"14.00\">_train_data</text>\n",
       "</g>\n",
       "<!-- dataset_dict&#45;&gt;_train_data -->\n",
       "<g id=\"edge5\" class=\"edge\">\n",
       "<title>dataset_dict&#45;&gt;_train_data</title>\n",
       "<path fill=\"none\" stroke=\"black\" d=\"M1782.97,-287.7C1782.97,-280.41 1782.97,-271.73 1782.97,-263.54\"/>\n",
       "<polygon fill=\"black\" stroke=\"black\" points=\"1786.47,-263.62 1782.97,-253.62 1779.47,-263.62 1786.47,-263.62\"/>\n",
       "</g>\n",
       "<!-- train_data -->\n",
       "<g id=\"node8\" class=\"node\">\n",
       "<title>train_data</title>\n",
       "<ellipse fill=\"none\" stroke=\"black\" cx=\"1782.97\" cy=\"-162\" rx=\"47.77\" ry=\"18\"/>\n",
       "<text text-anchor=\"middle\" x=\"1782.97\" y=\"-156.95\" font-family=\"Times,serif\" font-size=\"14.00\">train_data</text>\n",
       "</g>\n",
       "<!-- _train_data&#45;&gt;train_data -->\n",
       "<g id=\"edge6\" class=\"edge\">\n",
       "<title>_train_data&#45;&gt;train_data</title>\n",
       "<path fill=\"none\" stroke=\"black\" d=\"M1782.97,-215.7C1782.97,-208.41 1782.97,-199.73 1782.97,-191.54\"/>\n",
       "<polygon fill=\"black\" stroke=\"black\" points=\"1786.47,-191.62 1782.97,-181.62 1779.47,-191.62 1786.47,-191.62\"/>\n",
       "</g>\n",
       "<!-- conversation_sizes -->\n",
       "<g id=\"node9\" class=\"node\">\n",
       "<title>conversation_sizes</title>\n",
       "<ellipse fill=\"none\" stroke=\"black\" cx=\"1395.97\" cy=\"-90\" rx=\"80.52\" ry=\"18\"/>\n",
       "<text text-anchor=\"middle\" x=\"1395.97\" y=\"-84.95\" font-family=\"Times,serif\" font-size=\"14.00\">conversation_sizes</text>\n",
       "</g>\n",
       "<!-- train_data&#45;&gt;conversation_sizes -->\n",
       "<g id=\"edge7\" class=\"edge\">\n",
       "<title>train_data&#45;&gt;conversation_sizes</title>\n",
       "<path fill=\"none\" stroke=\"black\" d=\"M1740.15,-153.5C1682.41,-143.35 1576.37,-124.61 1485.97,-108 1479.75,-106.86 1473.3,-105.66 1466.84,-104.46\"/>\n",
       "<polygon fill=\"black\" stroke=\"black\" points=\"1467.94,-101.1 1457.47,-102.7 1466.65,-107.98 1467.94,-101.1\"/>\n",
       "</g>\n",
       "<!-- language_count -->\n",
       "<g id=\"node10\" class=\"node\">\n",
       "<title>language_count</title>\n",
       "<ellipse fill=\"none\" stroke=\"black\" cx=\"1563.97\" cy=\"-90\" rx=\"69.26\" ry=\"18\"/>\n",
       "<text text-anchor=\"middle\" x=\"1563.97\" y=\"-84.95\" font-family=\"Times,serif\" font-size=\"14.00\">language_count</text>\n",
       "</g>\n",
       "<!-- train_data&#45;&gt;language_count -->\n",
       "<g id=\"edge8\" class=\"edge\">\n",
       "<title>train_data&#45;&gt;language_count</title>\n",
       "<path fill=\"none\" stroke=\"black\" d=\"M1747.29,-149.6C1711.99,-138.31 1657.51,-120.9 1617.11,-107.99\"/>\n",
       "<polygon fill=\"black\" stroke=\"black\" points=\"1618.41,-104.73 1607.82,-105.02 1616.28,-111.4 1618.41,-104.73\"/>\n",
       "</g>\n",
       "<!-- model_count -->\n",
       "<g id=\"node11\" class=\"node\">\n",
       "<title>model_count</title>\n",
       "<ellipse fill=\"none\" stroke=\"black\" cx=\"1710.97\" cy=\"-90\" rx=\"59.54\" ry=\"18\"/>\n",
       "<text text-anchor=\"middle\" x=\"1710.97\" y=\"-84.95\" font-family=\"Times,serif\" font-size=\"14.00\">model_count</text>\n",
       "</g>\n",
       "<!-- train_data&#45;&gt;model_count -->\n",
       "<g id=\"edge9\" class=\"edge\">\n",
       "<title>train_data&#45;&gt;model_count</title>\n",
       "<path fill=\"none\" stroke=\"black\" d=\"M1766.27,-144.76C1757.31,-136.06 1746.09,-125.15 1736.1,-115.43\"/>\n",
       "<polygon fill=\"black\" stroke=\"black\" points=\"1738.77,-113.15 1729.16,-108.69 1733.89,-118.17 1738.77,-113.15\"/>\n",
       "</g>\n",
       "<!-- redacted_count -->\n",
       "<g id=\"node12\" class=\"node\">\n",
       "<title>redacted_count</title>\n",
       "<ellipse fill=\"none\" stroke=\"black\" cx=\"1855.97\" cy=\"-90\" rx=\"67.22\" ry=\"18\"/>\n",
       "<text text-anchor=\"middle\" x=\"1855.97\" y=\"-84.95\" font-family=\"Times,serif\" font-size=\"14.00\">redacted_count</text>\n",
       "</g>\n",
       "<!-- train_data&#45;&gt;redacted_count -->\n",
       "<g id=\"edge10\" class=\"edge\">\n",
       "<title>train_data&#45;&gt;redacted_count</title>\n",
       "<path fill=\"none\" stroke=\"black\" d=\"M1799.9,-144.76C1808.98,-136.06 1820.35,-125.15 1830.48,-115.43\"/>\n",
       "<polygon fill=\"black\" stroke=\"black\" points=\"1832.73,-118.13 1837.53,-108.68 1827.89,-113.08 1832.73,-118.13\"/>\n",
       "</g>\n",
       "<!-- role_count -->\n",
       "<g id=\"node13\" class=\"node\">\n",
       "<title>role_count</title>\n",
       "<ellipse fill=\"none\" stroke=\"black\" cx=\"1991.97\" cy=\"-90\" rx=\"50.33\" ry=\"18\"/>\n",
       "<text text-anchor=\"middle\" x=\"1991.97\" y=\"-84.95\" font-family=\"Times,serif\" font-size=\"14.00\">role_count</text>\n",
       "</g>\n",
       "<!-- train_data&#45;&gt;role_count -->\n",
       "<g id=\"edge11\" class=\"edge\">\n",
       "<title>train_data&#45;&gt;role_count</title>\n",
       "<path fill=\"none\" stroke=\"black\" d=\"M1817.95,-149.28C1853,-137.54 1907.15,-119.41 1945.73,-106.49\"/>\n",
       "<polygon fill=\"black\" stroke=\"black\" points=\"1946.36,-109.96 1954.73,-103.47 1944.14,-103.33 1946.36,-109.96\"/>\n",
       "</g>\n",
       "<!-- en_df -->\n",
       "<g id=\"node14\" class=\"node\">\n",
       "<title>en_df</title>\n",
       "<ellipse fill=\"none\" stroke=\"black\" cx=\"2091.97\" cy=\"-90\" rx=\"31.9\" ry=\"18\"/>\n",
       "<text text-anchor=\"middle\" x=\"2091.97\" y=\"-84.95\" font-family=\"Times,serif\" font-size=\"14.00\">en_df</text>\n",
       "</g>\n",
       "<!-- train_data&#45;&gt;en_df -->\n",
       "<g id=\"edge12\" class=\"edge\">\n",
       "<title>train_data&#45;&gt;en_df</title>\n",
       "<path fill=\"none\" stroke=\"black\" d=\"M1827.25,-154.99C1880.94,-147.08 1973.8,-131.38 2050.97,-108 2052.93,-107.41 2054.92,-106.75 2056.93,-106.06\"/>\n",
       "<polygon fill=\"black\" stroke=\"black\" points=\"2058,-109.39 2066.12,-102.59 2055.53,-102.84 2058,-109.39\"/>\n",
       "</g>\n",
       "<!-- flat_en -->\n",
       "<g id=\"node15\" class=\"node\">\n",
       "<title>flat_en</title>\n",
       "<ellipse fill=\"none\" stroke=\"black\" cx=\"2091.97\" cy=\"-18\" rx=\"36.51\" ry=\"18\"/>\n",
       "<text text-anchor=\"middle\" x=\"2091.97\" y=\"-12.95\" font-family=\"Times,serif\" font-size=\"14.00\">flat_en</text>\n",
       "</g>\n",
       "<!-- en_df&#45;&gt;flat_en -->\n",
       "<g id=\"edge13\" class=\"edge\">\n",
       "<title>en_df&#45;&gt;flat_en</title>\n",
       "<path fill=\"none\" stroke=\"black\" d=\"M2091.97,-71.7C2091.97,-64.41 2091.97,-55.73 2091.97,-47.54\"/>\n",
       "<polygon fill=\"black\" stroke=\"black\" points=\"2095.47,-47.62 2091.97,-37.62 2088.47,-47.62 2095.47,-47.62\"/>\n",
       "</g>\n",
       "<!-- flat_en_embeddings -->\n",
       "<g id=\"node18\" class=\"node\">\n",
       "<title>flat_en_embeddings</title>\n",
       "<ellipse fill=\"none\" stroke=\"black\" cx=\"513.97\" cy=\"-90\" rx=\"86.15\" ry=\"18\"/>\n",
       "<text text-anchor=\"middle\" x=\"513.97\" y=\"-84.95\" font-family=\"Times,serif\" font-size=\"14.00\">flat_en_embeddings</text>\n",
       "</g>\n",
       "<!-- flat_en_embeddings_store&#45;&gt;flat_en_embeddings -->\n",
       "<g id=\"edge16\" class=\"edge\">\n",
       "<title>flat_en_embeddings_store&#45;&gt;flat_en_embeddings</title>\n",
       "<path fill=\"none\" stroke=\"black\" d=\"M504.93,-143.7C506.2,-136.32 507.7,-127.52 509.12,-119.25\"/>\n",
       "<polygon fill=\"black\" stroke=\"black\" points=\"512.54,-120.04 510.78,-109.6 505.64,-118.86 512.54,-120.04\"/>\n",
       "</g>\n",
       "<!-- flat_en_embeddings&#45;&gt;flat_en_conversation_grouped_embeddings -->\n",
       "<g id=\"edge17\" class=\"edge\">\n",
       "<title>flat_en_embeddings&#45;&gt;flat_en_conversation_grouped_embeddings</title>\n",
       "<path fill=\"none\" stroke=\"black\" d=\"M530.43,-72.05C538.49,-63.75 548.37,-53.58 557.31,-44.38\"/>\n",
       "<polygon fill=\"black\" stroke=\"black\" points=\"559.67,-46.97 564.13,-37.36 554.65,-42.09 559.67,-46.97\"/>\n",
       "</g>\n",
       "<!-- planar_embeddings_of_grouped_conversations_with_metadata -->\n",
       "<g id=\"node23\" class=\"node\">\n",
       "<title>planar_embeddings_of_grouped_conversations_with_metadata</title>\n",
       "<ellipse fill=\"none\" stroke=\"black\" cx=\"1051.97\" cy=\"-90\" rx=\"245.33\" ry=\"18\"/>\n",
       "<text text-anchor=\"middle\" x=\"1051.97\" y=\"-84.95\" font-family=\"Times,serif\" font-size=\"14.00\">planar_embeddings_of_grouped_conversations_with_metadata</text>\n",
       "</g>\n",
       "<!-- planar_embeddings_of_grouped_conversations&#45;&gt;planar_embeddings_of_grouped_conversations_with_metadata -->\n",
       "<g id=\"edge22\" class=\"edge\">\n",
       "<title>planar_embeddings_of_grouped_conversations&#45;&gt;planar_embeddings_of_grouped_conversations_with_metadata</title>\n",
       "<path fill=\"none\" stroke=\"black\" d=\"M900.88,-144.14C928.54,-134.42 963.54,-122.1 992.89,-111.78\"/>\n",
       "<polygon fill=\"black\" stroke=\"black\" points=\"993.73,-115.2 1002,-108.58 991.4,-108.59 993.73,-115.2\"/>\n",
       "</g>\n",
       "<!-- meta_for_grouped_conversations&#45;&gt;planar_embeddings_of_grouped_conversations_with_metadata -->\n",
       "<g id=\"edge23\" class=\"edge\">\n",
       "<title>meta_for_grouped_conversations&#45;&gt;planar_embeddings_of_grouped_conversations_with_metadata</title>\n",
       "<path fill=\"none\" stroke=\"black\" d=\"M1158.43,-144.23C1139.83,-134.93 1116.47,-123.25 1096.37,-113.2\"/>\n",
       "<polygon fill=\"black\" stroke=\"black\" points=\"1098.06,-110.13 1087.55,-108.79 1094.93,-116.4 1098.06,-110.13\"/>\n",
       "</g>\n",
       "</g>\n",
       "</svg>\n"
      ],
      "text/plain": [
       "<graphviz.graphs.Digraph at 0x1268e0550>"
      ]
     },
     "execution_count": 1,
     "metadata": {},
     "output_type": "execute_result"
    }
   ],
   "source": [
    "from meshed.itools import graphviz_digraph\n",
    "from i2.footprints import attribute_dependencies\n",
    "from imbed.mdat.lmsys_ai_conversations import LmsysDacc\n",
    "\n",
    "deps = dict(attribute_dependencies(LmsysDacc))\n",
    "\n",
    "graphviz_digraph(deps)"
   ]
  },
  {
   "cell_type": "code",
   "execution_count": 2,
   "metadata": {},
   "outputs": [],
   "source": [
    "from imbed.mdat.lmsys_ai_conversations import mk_dacc, counts"
   ]
  },
  {
   "cell_type": "code",
   "execution_count": 3,
   "metadata": {},
   "outputs": [],
   "source": [
    "dacc = mk_dacc()"
   ]
  },
  {
   "cell_type": "code",
   "execution_count": 4,
   "metadata": {},
   "outputs": [
    {
     "data": {
      "text/plain": [
       "DatasetDict({\n",
       "    train: Dataset({\n",
       "        features: ['conversation_id', 'model', 'conversation', 'turn', 'language', 'openai_moderation', 'redacted'],\n",
       "        num_rows: 1000000\n",
       "    })\n",
       "})"
      ]
     },
     "execution_count": 4,
     "metadata": {},
     "output_type": "execute_result"
    }
   ],
   "source": [
    "dacc.dataset_dict"
   ]
  },
  {
   "cell_type": "code",
   "execution_count": 5,
   "metadata": {},
   "outputs": [
    {
     "name": "stdout",
     "output_type": "stream",
     "text": [
      "dacc.train_data.shape=(1000000, 7))\n"
     ]
    },
    {
     "data": {
      "text/html": [
       "<div>\n",
       "<style scoped>\n",
       "    .dataframe tbody tr th:only-of-type {\n",
       "        vertical-align: middle;\n",
       "    }\n",
       "\n",
       "    .dataframe tbody tr th {\n",
       "        vertical-align: top;\n",
       "    }\n",
       "\n",
       "    .dataframe thead th {\n",
       "        text-align: right;\n",
       "    }\n",
       "</style>\n",
       "<table border=\"1\" class=\"dataframe\">\n",
       "  <thead>\n",
       "    <tr style=\"text-align: right;\">\n",
       "      <th></th>\n",
       "      <th>conversation_id</th>\n",
       "      <th>model</th>\n",
       "      <th>conversation</th>\n",
       "      <th>turn</th>\n",
       "      <th>language</th>\n",
       "      <th>openai_moderation</th>\n",
       "      <th>redacted</th>\n",
       "    </tr>\n",
       "  </thead>\n",
       "  <tbody>\n",
       "    <tr>\n",
       "      <th>0</th>\n",
       "      <td>33f01939a744455c869cb234afca47f1</td>\n",
       "      <td>wizardlm-13b</td>\n",
       "      <td>[{'content': 'how can identity protection serv...</td>\n",
       "      <td>1</td>\n",
       "      <td>English</td>\n",
       "      <td>[{'categories': {'harassment': False, 'harassm...</td>\n",
       "      <td>False</td>\n",
       "    </tr>\n",
       "    <tr>\n",
       "      <th>1</th>\n",
       "      <td>1e230e55efea4edab95db9cb87f6a9cb</td>\n",
       "      <td>vicuna-13b</td>\n",
       "      <td>[{'content': 'Beside OFAC's selective sanction...</td>\n",
       "      <td>6</td>\n",
       "      <td>English</td>\n",
       "      <td>[{'categories': {'harassment': False, 'harassm...</td>\n",
       "      <td>False</td>\n",
       "    </tr>\n",
       "    <tr>\n",
       "      <th>2</th>\n",
       "      <td>0f623736051f4a48a506fd5933563cfd</td>\n",
       "      <td>vicuna-13b</td>\n",
       "      <td>[{'content': 'You are the text completion mode...</td>\n",
       "      <td>1</td>\n",
       "      <td>English</td>\n",
       "      <td>[{'categories': {'harassment': False, 'harassm...</td>\n",
       "      <td>False</td>\n",
       "    </tr>\n",
       "    <tr>\n",
       "      <th>3</th>\n",
       "      <td>e5c923a7fa3f4893beb432b4a06ef222</td>\n",
       "      <td>palm-2</td>\n",
       "      <td>[{'content': 'The sum of the perimeters of thr...</td>\n",
       "      <td>2</td>\n",
       "      <td>English</td>\n",
       "      <td>[{'categories': {'harassment': False, 'harassm...</td>\n",
       "      <td>False</td>\n",
       "    </tr>\n",
       "    <tr>\n",
       "      <th>4</th>\n",
       "      <td>8ad66650dced4b728de1d14bb04657c1</td>\n",
       "      <td>vicuna-13b</td>\n",
       "      <td>[{'content': 'What is the type of the variable...</td>\n",
       "      <td>1</td>\n",
       "      <td>English</td>\n",
       "      <td>[{'categories': {'harassment': False, 'harassm...</td>\n",
       "      <td>False</td>\n",
       "    </tr>\n",
       "  </tbody>\n",
       "</table>\n",
       "</div>"
      ],
      "text/plain": [
       "                    conversation_id         model  \\\n",
       "0  33f01939a744455c869cb234afca47f1  wizardlm-13b   \n",
       "1  1e230e55efea4edab95db9cb87f6a9cb    vicuna-13b   \n",
       "2  0f623736051f4a48a506fd5933563cfd    vicuna-13b   \n",
       "3  e5c923a7fa3f4893beb432b4a06ef222        palm-2   \n",
       "4  8ad66650dced4b728de1d14bb04657c1    vicuna-13b   \n",
       "\n",
       "                                        conversation  turn language  \\\n",
       "0  [{'content': 'how can identity protection serv...     1  English   \n",
       "1  [{'content': 'Beside OFAC's selective sanction...     6  English   \n",
       "2  [{'content': 'You are the text completion mode...     1  English   \n",
       "3  [{'content': 'The sum of the perimeters of thr...     2  English   \n",
       "4  [{'content': 'What is the type of the variable...     1  English   \n",
       "\n",
       "                                   openai_moderation  redacted  \n",
       "0  [{'categories': {'harassment': False, 'harassm...     False  \n",
       "1  [{'categories': {'harassment': False, 'harassm...     False  \n",
       "2  [{'categories': {'harassment': False, 'harassm...     False  \n",
       "3  [{'categories': {'harassment': False, 'harassm...     False  \n",
       "4  [{'categories': {'harassment': False, 'harassm...     False  "
      ]
     },
     "execution_count": 5,
     "metadata": {},
     "output_type": "execute_result"
    }
   ],
   "source": [
    "print(f\"{dacc.train_data.shape=})\")\n",
    "dacc.train_data.head()"
   ]
  },
  {
   "cell_type": "code",
   "execution_count": null,
   "metadata": {},
   "outputs": [
    {
     "data": {
      "text/plain": [
       "vicuna-13b                 490712\n",
       "koala-13b                   81586\n",
       "alpaca-13b                  62469\n",
       "chatglm-6b                  35660\n",
       "llama-13b                   32339\n",
       "vicuna-33b                  31111\n",
       "llama-2-13b-chat            29971\n",
       "oasst-pythia-12b            26239\n",
       "fastchat-t5-3b              26213\n",
       "claude-1                    23217\n",
       "dolly-v2-12b                23178\n",
       "vicuna-7b                   16601\n",
       "wizardlm-13b                16564\n",
       "RWKV-4-Raven-14B            15551\n",
       "mpt-7b-chat                 14650\n",
       "guanaco-33b                 13719\n",
       "stablelm-tuned-alpha-7b     12152\n",
       "mpt-30b-chat                 8658\n",
       "gpt-3.5-turbo                7578\n",
       "gpt4all-13b-snoozy           7538\n",
       "gpt-4                        7304\n",
       "palm-2                       5537\n",
       "claude-instant-1             5434\n",
       "llama-2-7b-chat              3778\n",
       "claude-2                     2241\n",
       "dtype: int64"
      ]
     },
     "execution_count": 6,
     "metadata": {},
     "output_type": "execute_result"
    }
   ],
   "source": [
    "dacc.model_count"
   ]
  },
  {
   "cell_type": "code",
   "execution_count": null,
   "metadata": {},
   "outputs": [
    {
     "name": "stdout",
     "output_type": "stream",
     "text": [
      "dacc.model_count\n",
      "vicuna-13b                 490712\n",
      "koala-13b                   81586\n",
      "alpaca-13b                  62469\n",
      "chatglm-6b                  35660\n",
      "llama-13b                   32339\n",
      "vicuna-33b                  31111\n",
      "llama-2-13b-chat            29971\n",
      "oasst-pythia-12b            26239\n",
      "fastchat-t5-3b              26213\n",
      "claude-1                    23217\n",
      "dolly-v2-12b                23178\n",
      "vicuna-7b                   16601\n",
      "wizardlm-13b                16564\n",
      "RWKV-4-Raven-14B            15551\n",
      "mpt-7b-chat                 14650\n",
      "guanaco-33b                 13719\n",
      "stablelm-tuned-alpha-7b     12152\n",
      "mpt-30b-chat                 8658\n",
      "gpt-3.5-turbo                7578\n",
      "gpt4all-13b-snoozy           7538\n",
      "gpt-4                        7304\n",
      "palm-2                       5537\n",
      "claude-instant-1             5434\n",
      "llama-2-7b-chat              3778\n",
      "claude-2                     2241\n",
      "dtype: int64\n",
      "\n",
      "\n",
      "dacc.language_count\n",
      "English       777453\n",
      "Portuguese     28616\n",
      "unknown        27922\n",
      "Russian        27596\n",
      "Chinese        24499\n",
      "               ...  \n",
      "Kannada            2\n",
      "Tibetan            1\n",
      "Odia               1\n",
      "Georgian           1\n",
      "Khmer              1\n",
      "Length: 154, dtype: int64\n",
      "\n",
      "\n",
      "dacc.redacted_count\n",
      "False    733740\n",
      "True     266260\n",
      "dtype: int64\n",
      "\n",
      "\n"
     ]
    }
   ],
   "source": [
    "print(f\"dacc.model_count\\n{dacc.model_count}\\n\\n\")\n",
    "print(f\"dacc.language_count\\n{dacc.language_count}\\n\\n\")\n",
    "print(f\"dacc.redacted_count\\n{dacc.redacted_count}\\n\\n\")"
   ]
  },
  {
   "cell_type": "code",
   "execution_count": null,
   "metadata": {},
   "outputs": [
    {
     "data": {
      "text/plain": [
       "user         2015645\n",
       "assistant    2015645\n",
       "dtype: int64"
      ]
     },
     "execution_count": 8,
     "metadata": {},
     "output_type": "execute_result"
    }
   ],
   "source": [
    "dacc.role_count\n"
   ]
  },
  {
   "cell_type": "code",
   "execution_count": 7,
   "metadata": {},
   "outputs": [
    {
     "data": {
      "text/plain": [
       "(777453, 7)"
      ]
     },
     "execution_count": 7,
     "metadata": {},
     "output_type": "execute_result"
    }
   ],
   "source": [
    "en_df = dacc.en_df\n",
    "en_df.shape"
   ]
  },
  {
   "cell_type": "code",
   "execution_count": null,
   "metadata": {},
   "outputs": [
    {
     "name": "stdout",
     "output_type": "stream",
     "text": [
      "english model_count\n",
      "vicuna-13b                 374394\n",
      "koala-13b                   69799\n",
      "alpaca-13b                  44032\n",
      "llama-13b                   25845\n",
      "chatglm-6b                  25694\n",
      "vicuna-33b                  24400\n",
      "llama-2-13b-chat            22786\n",
      "oasst-pythia-12b            21942\n",
      "fastchat-t5-3b              21823\n",
      "dolly-v2-12b                18825\n",
      "wizardlm-13b                14661\n",
      "vicuna-7b                   13901\n",
      "claude-1                    13805\n",
      "RWKV-4-Raven-14B            12416\n",
      "mpt-7b-chat                 12395\n",
      "guanaco-33b                 11219\n",
      "stablelm-tuned-alpha-7b      9874\n",
      "mpt-30b-chat                 7160\n",
      "gpt-3.5-turbo                6483\n",
      "gpt-4                        6303\n",
      "gpt4all-13b-snoozy           5523\n",
      "palm-2                       4651\n",
      "claude-instant-1             4589\n",
      "llama-2-7b-chat              3052\n",
      "claude-2                     1881\n",
      "dtype: int64\n",
      "\n",
      "\n"
     ]
    }
   ],
   "source": [
    "print(f\"english model_count\\n{counts(dacc.en_df['model'])}\\n\\n\")"
   ]
  },
  {
   "cell_type": "code",
   "execution_count": null,
   "metadata": {},
   "outputs": [
    {
     "data": {
      "text/plain": [
       "array([{'content': 'how can identity protection services help protect me against identity theft', 'role': 'user'},\n",
       "       {'content': \"Identity protection services can help protect you against identity theft in several ways:\\n\\n1. Monitoring: Many identity protection services monitor your credit reports, public records, and other sources for signs of identity theft. If they detect any suspicious activity, they will alert you so you can take action.\\n2. Credit freeze: Some identity protection services can help you freeze your credit, which makes it more difficult for thieves to open new accounts in your name.\\n3. Identity theft insurance: Some identity protection services offer insurance that can help you recover financially if you become a victim of identity theft.\\n4. Assistance: Many identity protection services offer assistance if you become a victim of identity theft. They can help you file a police report, contact credit bureaus, and other steps to help you restore your identity.\\n\\nOverall, identity protection services can provide you with peace of mind and help you take proactive steps to protect your identity. However, it's important to note that no service can completely guarantee that you will never become a victim of identity theft. It's still important to take steps to protect your own identity, such as being cautious with personal information and regularly monitoring your credit reports.\", 'role': 'assistant'}],\n",
       "      dtype=object)"
      ]
     },
     "execution_count": 11,
     "metadata": {},
     "output_type": "execute_result"
    }
   ],
   "source": [
    "en_df.iloc[0].conversation"
   ]
  },
  {
   "cell_type": "code",
   "execution_count": null,
   "metadata": {},
   "outputs": [
    {
     "data": {
      "text/plain": [
       "array([{'categories': {'harassment': False, 'harassment/threatening': False, 'hate': False, 'hate/threatening': False, 'self-harm': False, 'self-harm/instructions': False, 'self-harm/intent': False, 'sexual': False, 'sexual/minors': False, 'violence': False, 'violence/graphic': False}, 'category_scores': {'harassment': 9.212334e-07, 'harassment/threatening': 3.6271535e-07, 'hate': 8.254962e-07, 'hate/threatening': 1.331843e-08, 'self-harm': 1.9257865e-07, 'self-harm/instructions': 6.5028324e-08, 'self-harm/intent': 2.7525962e-07, 'sexual': 2.564017e-06, 'sexual/minors': 4.523274e-07, 'violence': 2.2942773e-05, 'violence/graphic': 1.9713439e-06}, 'flagged': False},\n",
       "       {'categories': {'harassment': False, 'harassment/threatening': False, 'hate': False, 'hate/threatening': False, 'self-harm': False, 'self-harm/instructions': False, 'self-harm/intent': False, 'sexual': False, 'sexual/minors': False, 'violence': False, 'violence/graphic': False}, 'category_scores': {'harassment': 1.5205982e-06, 'harassment/threatening': 1.27367e-07, 'hate': 1.4930811e-07, 'hate/threatening': 2.457626e-09, 'self-harm': 3.2069583e-08, 'self-harm/instructions': 2.7247233e-07, 'self-harm/intent': 2.2881606e-07, 'sexual': 3.3542372e-05, 'sexual/minors': 8.75301e-07, 'violence': 0.00010941078, 'violence/graphic': 6.069021e-06}, 'flagged': False}],\n",
       "      dtype=object)"
      ]
     },
     "execution_count": 12,
     "metadata": {},
     "output_type": "execute_result"
    }
   ],
   "source": [
    "en_df.iloc[0].openai_moderation"
   ]
  },
  {
   "cell_type": "code",
   "execution_count": null,
   "metadata": {},
   "outputs": [],
   "source": [
    "import oa"
   ]
  },
  {
   "cell_type": "code",
   "execution_count": null,
   "metadata": {},
   "outputs": [
    {
     "data": {
      "text/plain": [
       "{'categories': {'harassment': False,\n",
       "  'harassment/threatening': False,\n",
       "  'hate': False,\n",
       "  'hate/threatening': False,\n",
       "  'self-harm': False,\n",
       "  'self-harm/instructions': False,\n",
       "  'self-harm/intent': False,\n",
       "  'sexual': False,\n",
       "  'sexual/minors': False,\n",
       "  'violence': False,\n",
       "  'violence/graphic': False},\n",
       " 'category_scores': {'harassment': 9.212334e-07,\n",
       "  'harassment/threatening': 3.6271535e-07,\n",
       "  'hate': 8.254962e-07,\n",
       "  'hate/threatening': 1.331843e-08,\n",
       "  'self-harm': 1.9257865e-07,\n",
       "  'self-harm/instructions': 6.5028324e-08,\n",
       "  'self-harm/intent': 2.7525962e-07,\n",
       "  'sexual': 2.564017e-06,\n",
       "  'sexual/minors': 4.523274e-07,\n",
       "  'violence': 2.2942773e-05,\n",
       "  'violence/graphic': 1.9713439e-06},\n",
       " 'flagged': False}"
      ]
     },
     "execution_count": 13,
     "metadata": {},
     "output_type": "execute_result"
    }
   ],
   "source": [
    "en_df.iloc[0].openai_moderation[0]"
   ]
  },
  {
   "cell_type": "code",
   "execution_count": null,
   "metadata": {},
   "outputs": [],
   "source": [
    "t = dacc.flat_en"
   ]
  },
  {
   "cell_type": "code",
   "execution_count": null,
   "metadata": {},
   "outputs": [],
   "source": [
    "\n"
   ]
  },
  {
   "cell_type": "code",
   "execution_count": null,
   "metadata": {},
   "outputs": [],
   "source": [
    "import os\n",
    "\n",
    "# t.to_parquet(os.path.join('/Users/thorwhalen/.config/imbed/saves/lmsys-chat-1m/flat_en.parquet'))"
   ]
  },
  {
   "cell_type": "code",
   "execution_count": 11,
   "metadata": {},
   "outputs": [
    {
     "data": {
      "text/plain": [
       "<function imbed.mdat.lmsys_ai_conversations.load_if_saved.<locals>._load_if_saved.<locals>._method(self)>"
      ]
     },
     "execution_count": 11,
     "metadata": {},
     "output_type": "execute_result"
    }
   ],
   "source": [
    "dacc.flat_en "
   ]
  },
  {
   "cell_type": "code",
   "execution_count": null,
   "metadata": {},
   "outputs": [],
   "source": []
  },
  {
   "cell_type": "code",
   "execution_count": 1,
   "metadata": {},
   "outputs": [
    {
     "name": "stdout",
     "output_type": "stream",
     "text": [
      "len(invalid_conversations)=10946\n"
     ]
    }
   ],
   "source": [
    "from imbed.mdat.lmsys_ai_conversations import mk_dacc, dataframe_to_embed, compute_and_save_embeddings\n",
    "\n",
    "df = dataframe_to_embed()"
   ]
  },
  {
   "cell_type": "code",
   "execution_count": 2,
   "metadata": {},
   "outputs": [
    {
     "data": {
      "text/plain": [
       "(2835490, 31)"
      ]
     },
     "execution_count": 2,
     "metadata": {},
     "output_type": "execute_result"
    }
   ],
   "source": [
    "df.shape"
   ]
  },
  {
   "cell_type": "code",
   "execution_count": 1,
   "metadata": {},
   "outputs": [],
   "source": [
    "from imbed.mdat.lmsys_ai_conversations import mk_dacc\n",
    "dacc = mk_dacc()"
   ]
  },
  {
   "cell_type": "code",
   "execution_count": 6,
   "metadata": {},
   "outputs": [
    {
     "data": {
      "text/plain": [
       "(332, 330)"
      ]
     },
     "execution_count": 6,
     "metadata": {},
     "output_type": "execute_result"
    }
   ],
   "source": [
    "len(dacc.saves), len(dacc.flat_en_embeddings_store)"
   ]
  },
  {
   "cell_type": "code",
   "execution_count": 7,
   "metadata": {},
   "outputs": [
    {
     "data": {
      "text/plain": [
       "330"
      ]
     },
     "execution_count": 7,
     "metadata": {},
     "output_type": "execute_result"
    }
   ],
   "source": [
    "# it's live, so you can see the number of embeddings grow when computing them\n",
    "len(dacc.flat_en_embeddings_store)"
   ]
  },
  {
   "cell_type": "code",
   "execution_count": 75,
   "metadata": {},
   "outputs": [],
   "source": [
    "# list(dacc.flat_en_embeddings_store)"
   ]
  },
  {
   "cell_type": "code",
   "execution_count": 20,
   "metadata": {},
   "outputs": [],
   "source": [
    "from imbed.util import hash_text\n",
    "assert (\n",
    "    hash_text('Hello, world!') \n",
    "    ==  hash_text('hello world')\n",
    "    == '5eb63bbbe01eeed093cb22bb8f5acdc3'\n",
    ")"
   ]
  },
  {
   "cell_type": "code",
   "execution_count": 25,
   "metadata": {},
   "outputs": [
    {
     "data": {
      "text/plain": [
       "(753000, 4)"
      ]
     },
     "execution_count": 25,
     "metadata": {},
     "output_type": "execute_result"
    }
   ],
   "source": [
    "# del dacc.flat_en_embeddings # to refresh it\n",
    "embeddings_df = dacc.flat_en_embeddings\n",
    "embeddings_df.shape"
   ]
  },
  {
   "cell_type": "code",
   "execution_count": 17,
   "metadata": {},
   "outputs": [
    {
     "data": {
      "text/html": [
       "<div>\n",
       "<style scoped>\n",
       "    .dataframe tbody tr th:only-of-type {\n",
       "        vertical-align: middle;\n",
       "    }\n",
       "\n",
       "    .dataframe tbody tr th {\n",
       "        vertical-align: top;\n",
       "    }\n",
       "\n",
       "    .dataframe thead th {\n",
       "        text-align: right;\n",
       "    }\n",
       "</style>\n",
       "<table border=\"1\" class=\"dataframe\">\n",
       "  <thead>\n",
       "    <tr style=\"text-align: right;\">\n",
       "      <th></th>\n",
       "      <th>conversation_id</th>\n",
       "      <th>content</th>\n",
       "      <th>num_of_tokens</th>\n",
       "      <th>embeddings</th>\n",
       "    </tr>\n",
       "  </thead>\n",
       "  <tbody>\n",
       "    <tr>\n",
       "      <th>0</th>\n",
       "      <td>33f01939a744455c869cb234afca47f1</td>\n",
       "      <td>how can identity protection services help prot...</td>\n",
       "      <td>11</td>\n",
       "      <td>[0.04018523171544075, -0.05755921080708504, 0....</td>\n",
       "    </tr>\n",
       "    <tr>\n",
       "      <th>1</th>\n",
       "      <td>33f01939a744455c869cb234afca47f1</td>\n",
       "      <td>Identity protection services can help protect ...</td>\n",
       "      <td>231</td>\n",
       "      <td>[0.047191549092531204, -0.04155740886926651, 0...</td>\n",
       "    </tr>\n",
       "    <tr>\n",
       "      <th>14</th>\n",
       "      <td>0f623736051f4a48a506fd5933563cfd</td>\n",
       "      <td>You are the text completion model and you must...</td>\n",
       "      <td>77</td>\n",
       "      <td>[0.02287357486784458, -0.014439402148127556, 0...</td>\n",
       "    </tr>\n",
       "    <tr>\n",
       "      <th>15</th>\n",
       "      <td>0f623736051f4a48a506fd5933563cfd</td>\n",
       "      <td>To append many items to a list in Python, you ...</td>\n",
       "      <td>237</td>\n",
       "      <td>[0.027620550245046616, -0.03631400689482689, 0...</td>\n",
       "    </tr>\n",
       "    <tr>\n",
       "      <th>16</th>\n",
       "      <td>e5c923a7fa3f4893beb432b4a06ef222</td>\n",
       "      <td>The sum of the perimeters of three equal squar...</td>\n",
       "      <td>33</td>\n",
       "      <td>[-0.000665237836074084, -0.028324183076620102,...</td>\n",
       "    </tr>\n",
       "  </tbody>\n",
       "</table>\n",
       "</div>"
      ],
      "text/plain": [
       "                     conversation_id  \\\n",
       "0   33f01939a744455c869cb234afca47f1   \n",
       "1   33f01939a744455c869cb234afca47f1   \n",
       "14  0f623736051f4a48a506fd5933563cfd   \n",
       "15  0f623736051f4a48a506fd5933563cfd   \n",
       "16  e5c923a7fa3f4893beb432b4a06ef222   \n",
       "\n",
       "                                              content  num_of_tokens  \\\n",
       "0   how can identity protection services help prot...             11   \n",
       "1   Identity protection services can help protect ...            231   \n",
       "14  You are the text completion model and you must...             77   \n",
       "15  To append many items to a list in Python, you ...            237   \n",
       "16  The sum of the perimeters of three equal squar...             33   \n",
       "\n",
       "                                           embeddings  \n",
       "0   [0.04018523171544075, -0.05755921080708504, 0....  \n",
       "1   [0.047191549092531204, -0.04155740886926651, 0...  \n",
       "14  [0.02287357486784458, -0.014439402148127556, 0...  \n",
       "15  [0.027620550245046616, -0.03631400689482689, 0...  \n",
       "16  [-0.000665237836074084, -0.028324183076620102,...  "
      ]
     },
     "execution_count": 17,
     "metadata": {},
     "output_type": "execute_result"
    }
   ],
   "source": [
    "embeddings_df.head()"
   ]
  },
  {
   "cell_type": "code",
   "execution_count": 9,
   "metadata": {},
   "outputs": [
    {
     "name": "stdout",
     "output_type": "stream",
     "text": [
      "len(invalid_conversations)=10946\n"
     ]
    },
    {
     "data": {
      "text/plain": [
       "(2835490, 31)"
      ]
     },
     "execution_count": 9,
     "metadata": {},
     "output_type": "execute_result"
    }
   ],
   "source": [
    "# join dacc.flat_en_embeddable and dacc.flat_en_embeddings\n",
    "dacc.flat_en_embeddable.shape"
   ]
  },
  {
   "cell_type": "code",
   "execution_count": 111,
   "metadata": {},
   "outputs": [
    {
     "data": {
      "text/plain": [
       "(2835490, 4)"
      ]
     },
     "execution_count": 111,
     "metadata": {},
     "output_type": "execute_result"
    }
   ],
   "source": [
    "dacc.flat_en_embeddings.shape\n"
   ]
  },
  {
   "cell_type": "code",
   "execution_count": 113,
   "metadata": {},
   "outputs": [
    {
     "data": {
      "text/html": [
       "<div>\n",
       "<style scoped>\n",
       "    .dataframe tbody tr th:only-of-type {\n",
       "        vertical-align: middle;\n",
       "    }\n",
       "\n",
       "    .dataframe tbody tr th {\n",
       "        vertical-align: top;\n",
       "    }\n",
       "\n",
       "    .dataframe thead th {\n",
       "        text-align: right;\n",
       "    }\n",
       "</style>\n",
       "<table border=\"1\" class=\"dataframe\">\n",
       "  <thead>\n",
       "    <tr style=\"text-align: right;\">\n",
       "      <th></th>\n",
       "      <th>conversation_id</th>\n",
       "      <th>content</th>\n",
       "      <th>num_of_tokens</th>\n",
       "      <th>embeddings</th>\n",
       "    </tr>\n",
       "  </thead>\n",
       "  <tbody>\n",
       "    <tr>\n",
       "      <th>0</th>\n",
       "      <td>33f01939a744455c869cb234afca47f1</td>\n",
       "      <td>how can identity protection services help prot...</td>\n",
       "      <td>11</td>\n",
       "      <td>[0.04018523171544075, -0.05755921080708504, 0....</td>\n",
       "    </tr>\n",
       "    <tr>\n",
       "      <th>1</th>\n",
       "      <td>33f01939a744455c869cb234afca47f1</td>\n",
       "      <td>Identity protection services can help protect ...</td>\n",
       "      <td>231</td>\n",
       "      <td>[0.047191549092531204, -0.04155740886926651, 0...</td>\n",
       "    </tr>\n",
       "    <tr>\n",
       "      <th>14</th>\n",
       "      <td>0f623736051f4a48a506fd5933563cfd</td>\n",
       "      <td>You are the text completion model and you must...</td>\n",
       "      <td>77</td>\n",
       "      <td>[0.02287357486784458, -0.014439402148127556, 0...</td>\n",
       "    </tr>\n",
       "    <tr>\n",
       "      <th>15</th>\n",
       "      <td>0f623736051f4a48a506fd5933563cfd</td>\n",
       "      <td>To append many items to a list in Python, you ...</td>\n",
       "      <td>237</td>\n",
       "      <td>[0.027620550245046616, -0.03631400689482689, 0...</td>\n",
       "    </tr>\n",
       "    <tr>\n",
       "      <th>16</th>\n",
       "      <td>e5c923a7fa3f4893beb432b4a06ef222</td>\n",
       "      <td>The sum of the perimeters of three equal squar...</td>\n",
       "      <td>33</td>\n",
       "      <td>[-0.000665237836074084, -0.028324183076620102,...</td>\n",
       "    </tr>\n",
       "  </tbody>\n",
       "</table>\n",
       "</div>"
      ],
      "text/plain": [
       "                     conversation_id  \\\n",
       "0   33f01939a744455c869cb234afca47f1   \n",
       "1   33f01939a744455c869cb234afca47f1   \n",
       "14  0f623736051f4a48a506fd5933563cfd   \n",
       "15  0f623736051f4a48a506fd5933563cfd   \n",
       "16  e5c923a7fa3f4893beb432b4a06ef222   \n",
       "\n",
       "                                              content  num_of_tokens  \\\n",
       "0   how can identity protection services help prot...             11   \n",
       "1   Identity protection services can help protect ...            231   \n",
       "14  You are the text completion model and you must...             77   \n",
       "15  To append many items to a list in Python, you ...            237   \n",
       "16  The sum of the perimeters of three equal squar...             33   \n",
       "\n",
       "                                           embeddings  \n",
       "0   [0.04018523171544075, -0.05755921080708504, 0....  \n",
       "1   [0.047191549092531204, -0.04155740886926651, 0...  \n",
       "14  [0.02287357486784458, -0.014439402148127556, 0...  \n",
       "15  [0.027620550245046616, -0.03631400689482689, 0...  \n",
       "16  [-0.000665237836074084, -0.028324183076620102,...  "
      ]
     },
     "execution_count": 113,
     "metadata": {},
     "output_type": "execute_result"
    }
   ],
   "source": [
    "dacc.flat_en_embeddings.head()"
   ]
  },
  {
   "cell_type": "code",
   "execution_count": 119,
   "metadata": {},
   "outputs": [
    {
     "data": {
      "text/plain": [
       "(0,\n",
       " conversation_id                     33f01939a744455c869cb234afca47f1\n",
       " content            how can identity protection services help prot...\n",
       " num_of_tokens                                                     11\n",
       " embeddings         [0.04018523171544075, -0.05755921080708504, 0....\n",
       " Name: 0, dtype: object)"
      ]
     },
     "execution_count": 119,
     "metadata": {},
     "output_type": "execute_result"
    }
   ],
   "source": [
    "t = next(iter(dacc.flat_en_embeddings.iterrows()))\n",
    "t"
   ]
  },
  {
   "cell_type": "code",
   "execution_count": 121,
   "metadata": {},
   "outputs": [],
   "source": [
    "embdeddings_store = {id_: row.embeddings for id_, row in dacc.flat_en_embeddings.iterrows()}"
   ]
  },
  {
   "cell_type": "code",
   "execution_count": 2,
   "metadata": {},
   "outputs": [
    {
     "data": {
      "text/plain": [
       "True"
      ]
     },
     "execution_count": 2,
     "metadata": {},
     "output_type": "execute_result"
    }
   ],
   "source": [
    "from typing import Sequence\n",
    "isinstance([1,2,3,4], Sequence)"
   ]
  },
  {
   "cell_type": "code",
   "execution_count": 5,
   "metadata": {},
   "outputs": [
    {
     "name": "stderr",
     "output_type": "stream",
     "text": [
      "/Users/thorwhalen/.pyenv/versions/3.10.13/envs/p10/lib/python3.10/site-packages/umap/umap_.py:2433: UserWarning: n_neighbors is larger than the dataset size; truncating to X.shape[0] - 1\n",
      "  warn(\n"
     ]
    },
    {
     "data": {
      "text/plain": [
       "{1: (3.644689, 3.7511525),\n",
       " 5: (3.8625283, 4.6145434),\n",
       " 7: (2.5504987, 4.304866),\n",
       " 11: (2.993392, 5.1707773)}"
      ]
     },
     "execution_count": 5,
     "metadata": {},
     "output_type": "execute_result"
    }
   ],
   "source": [
    "from imbed import umap_2d_embeddings\n",
    "\n",
    "planar_embeddings = umap_2d_embeddings(\n",
    "    {\n",
    "        1: [1,2,3,4], \n",
    "        5: [5,4,5,6],\n",
    "        7: [7,8,9,10],\n",
    "        11: [11,12,13,14]\n",
    "    }\n",
    ")\n",
    "planar_embeddings"
   ]
  },
  {
   "cell_type": "code",
   "execution_count": 6,
   "metadata": {},
   "outputs": [
    {
     "data": {
      "text/html": [
       "<div>\n",
       "<style scoped>\n",
       "    .dataframe tbody tr th:only-of-type {\n",
       "        vertical-align: middle;\n",
       "    }\n",
       "\n",
       "    .dataframe tbody tr th {\n",
       "        vertical-align: top;\n",
       "    }\n",
       "\n",
       "    .dataframe thead th {\n",
       "        text-align: right;\n",
       "    }\n",
       "</style>\n",
       "<table border=\"1\" class=\"dataframe\">\n",
       "  <thead>\n",
       "    <tr style=\"text-align: right;\">\n",
       "      <th></th>\n",
       "      <th>x</th>\n",
       "      <th>y</th>\n",
       "    </tr>\n",
       "  </thead>\n",
       "  <tbody>\n",
       "    <tr>\n",
       "      <th>1</th>\n",
       "      <td>3.644689</td>\n",
       "      <td>3.751153</td>\n",
       "    </tr>\n",
       "    <tr>\n",
       "      <th>5</th>\n",
       "      <td>3.862528</td>\n",
       "      <td>4.614543</td>\n",
       "    </tr>\n",
       "    <tr>\n",
       "      <th>7</th>\n",
       "      <td>2.550499</td>\n",
       "      <td>4.304866</td>\n",
       "    </tr>\n",
       "    <tr>\n",
       "      <th>11</th>\n",
       "      <td>2.993392</td>\n",
       "      <td>5.170777</td>\n",
       "    </tr>\n",
       "  </tbody>\n",
       "</table>\n",
       "</div>"
      ],
      "text/plain": [
       "           x         y\n",
       "1   3.644689  3.751153\n",
       "5   3.862528  4.614543\n",
       "7   2.550499  4.304866\n",
       "11  2.993392  5.170777"
      ]
     },
     "execution_count": 6,
     "metadata": {},
     "output_type": "execute_result"
    }
   ],
   "source": [
    "import pandas as pd\n",
    "pd.DataFrame(planar_embeddings, index=['x', 'y']).T"
   ]
  },
  {
   "cell_type": "code",
   "execution_count": 7,
   "metadata": {},
   "outputs": [],
   "source": [
    "from imbed.mdat.lmsys_ai_conversations import mk_dacc, compute_and_save_planar_embeddings\n",
    "\n",
    "# compute_and_save_planar_embeddings()"
   ]
  },
  {
   "cell_type": "code",
   "execution_count": 2,
   "metadata": {},
   "outputs": [],
   "source": [
    "# dacc = mk_dacc()\n",
    "# dacc.saves['planar_embeddings.parquet']"
   ]
  },
  {
   "cell_type": "code",
   "execution_count": 3,
   "metadata": {},
   "outputs": [
    {
     "data": {
      "text/plain": [
       "(2835490, 4)"
      ]
     },
     "execution_count": 3,
     "metadata": {},
     "output_type": "execute_result"
    }
   ],
   "source": [
    "from imbed.mdat.lmsys_ai_conversations import mk_dacc\n",
    "dacc = mk_dacc()\n",
    "\n",
    "dacc.flat_en_embeddings.shape"
   ]
  },
  {
   "cell_type": "code",
   "execution_count": 4,
   "metadata": {},
   "outputs": [],
   "source": [
    "import numpy as np\n",
    "X = np.array(dacc.flat_en_embeddings.embeddings.tolist())"
   ]
  },
  {
   "cell_type": "code",
   "execution_count": 5,
   "metadata": {},
   "outputs": [],
   "source": [
    "del dacc.flat_en_embeddings"
   ]
  },
  {
   "cell_type": "code",
   "execution_count": 6,
   "metadata": {},
   "outputs": [
    {
     "data": {
      "text/plain": [
       "(2835490, 1536)"
      ]
     },
     "execution_count": 6,
     "metadata": {},
     "output_type": "execute_result"
    }
   ],
   "source": [
    "X.shape"
   ]
  },
  {
   "cell_type": "code",
   "execution_count": 8,
   "metadata": {},
   "outputs": [],
   "source": [
    "np.save('/Users/thorwhalen/.config/imbed/saves/lmsys-chat-1m/flat_en_embeddings.npy', X)"
   ]
  },
  {
   "cell_type": "code",
   "execution_count": 4,
   "metadata": {},
   "outputs": [
    {
     "data": {
      "text/plain": [
       "(2835490, 1536)"
      ]
     },
     "execution_count": 4,
     "metadata": {},
     "output_type": "execute_result"
    }
   ],
   "source": []
  },
  {
   "cell_type": "code",
   "execution_count": 8,
   "metadata": {},
   "outputs": [
    {
     "data": {
      "text/plain": [
       "(2835490, 1536)"
      ]
     },
     "execution_count": 8,
     "metadata": {},
     "output_type": "execute_result"
    }
   ],
   "source": [
    "import pandas as pd\n",
    "t = pd.DataFrame(X)\n",
    "t.shape"
   ]
  },
  {
   "cell_type": "code",
   "execution_count": null,
   "metadata": {},
   "outputs": [],
   "source": [
    "tt = t.to_xarray()"
   ]
  },
  {
   "cell_type": "code",
   "execution_count": null,
   "metadata": {},
   "outputs": [],
   "source": []
  },
  {
   "cell_type": "code",
   "execution_count": 1,
   "metadata": {},
   "outputs": [
    {
     "data": {
      "text/plain": [
       "'/Users/thorwhalen/Dropbox/_odata/app_data/imbed/saves/lmsys-chat-1m/'"
      ]
     },
     "execution_count": 1,
     "metadata": {},
     "output_type": "execute_result"
    }
   ],
   "source": [
    "from imbed.mdat.lmsys_ai_conversations import mk_dacc\n",
    "\n",
    "dacc = mk_dacc()\n",
    "dacc.saves.rootdir"
   ]
  },
  {
   "cell_type": "code",
   "execution_count": 2,
   "metadata": {},
   "outputs": [
    {
     "data": {
      "text/plain": [
       "['lmsys_with_planar_embeddings_pca500.tsv',\n",
       " 'planar_embeddings_pca500.npy',\n",
       " 'lmsys_with_planar_embeddings_pca500.parquet',\n",
       " 'lmsys_with_planar_embeddings_pca500.tsv.zip',\n",
       " 'num_of_tokens.pkl',\n",
       " 'planar_embeddings_first_forth.npy',\n",
       " 'flat_en.parquet']"
      ]
     },
     "execution_count": 2,
     "metadata": {},
     "output_type": "execute_result"
    }
   ],
   "source": [
    "list(filter(lambda x: not x.startswith('flat_en_embeddings'), dacc.saves))"
   ]
  },
  {
   "cell_type": "code",
   "execution_count": 6,
   "metadata": {},
   "outputs": [
    {
     "data": {
      "text/plain": [
       "(708872, 2)"
      ]
     },
     "execution_count": 6,
     "metadata": {},
     "output_type": "execute_result"
    }
   ],
   "source": []
  },
  {
   "cell_type": "code",
   "execution_count": 8,
   "metadata": {},
   "outputs": [],
   "source": [
    "#forth = dacc.saves['planar_embeddings_first_forth.npy']\n",
    "\n",
    "# tt = dacc.flat_en_embeddable.iloc[:len(forth)]\n",
    "# m = dacc.planar_embeddings_with_metadata(forth, tt)\n",
    "\n",
    "# dacc.saves['planar_embeddings_for_a_forth_of_data.parquet'] = m\n",
    "\n",
    "# import os\n",
    "# m.to_csv(\n",
    "#     os.path.join(dacc.saves.rootdir, 'planar_embeddings_for_a_forth_of_data.tsv'),\n",
    "#     sep='\\t',\n",
    "#     quotechar='\"',\n",
    "#     escapechar='\\\\',\n",
    "# )"
   ]
  },
  {
   "cell_type": "code",
   "execution_count": 10,
   "metadata": {},
   "outputs": [],
   "source": [
    "# import os\n",
    "# m.to_csv(\n",
    "#     os.path.join(dacc.saves.rootdir, 'planar_embeddings_for_a_forth_of_data.tsv'),\n",
    "#     sep='\\t',\n",
    "#     quotechar='\"',\n",
    "#     escapechar='\\\\',\n",
    "# )"
   ]
  },
  {
   "cell_type": "code",
   "execution_count": 11,
   "metadata": {},
   "outputs": [
    {
     "name": "stdout",
     "output_type": "stream",
     "text": [
      "asdf\n"
     ]
    }
   ],
   "source": [
    "print('asdf')"
   ]
  },
  {
   "cell_type": "code",
   "execution_count": 4,
   "metadata": {},
   "outputs": [
    {
     "name": "stdout",
     "output_type": "stream",
     "text": [
      "len(invalid_conversations)=10946\n"
     ]
    }
   ],
   "source": [
    "assert len(dacc.flat_en_embeddable) == len(dacc.saves['planar_embeddings_pca500.npy'])"
   ]
  },
  {
   "cell_type": "code",
   "execution_count": 8,
   "metadata": {},
   "outputs": [
    {
     "data": {
      "text/plain": [
       "((2835490, 31), (2835490, 2), (2835490, 33))"
      ]
     },
     "execution_count": 8,
     "metadata": {},
     "output_type": "execute_result"
    }
   ],
   "source": [
    "m = dacc.planar_embeddings_with_metadata('planar_embeddings_pca500.npy')\n",
    "dacc.saves['lmsys_with_planar_embeddings_pca500.parquet'] = m\n",
    "dacc.flat_en_embeddable.shape, dacc.saves['planar_embeddings_pca500.npy'].shape, m.shape"
   ]
  },
  {
   "cell_type": "code",
   "execution_count": 9,
   "metadata": {},
   "outputs": [
    {
     "data": {
      "text/html": [
       "<div>\n",
       "<style scoped>\n",
       "    .dataframe tbody tr th:only-of-type {\n",
       "        vertical-align: middle;\n",
       "    }\n",
       "\n",
       "    .dataframe tbody tr th {\n",
       "        vertical-align: top;\n",
       "    }\n",
       "\n",
       "    .dataframe thead th {\n",
       "        text-align: right;\n",
       "    }\n",
       "</style>\n",
       "<table border=\"1\" class=\"dataframe\">\n",
       "  <thead>\n",
       "    <tr style=\"text-align: right;\">\n",
       "      <th></th>\n",
       "      <th>conversation_id</th>\n",
       "      <th>model</th>\n",
       "      <th>turn</th>\n",
       "      <th>language</th>\n",
       "      <th>redacted</th>\n",
       "      <th>content</th>\n",
       "      <th>role</th>\n",
       "      <th>flagged</th>\n",
       "      <th>harassment</th>\n",
       "      <th>harassment/threatening</th>\n",
       "      <th>...</th>\n",
       "      <th>category_scores.self-harm</th>\n",
       "      <th>category_scores.self-harm/instructions</th>\n",
       "      <th>category_scores.self-harm/intent</th>\n",
       "      <th>category_scores.sexual</th>\n",
       "      <th>category_scores.sexual/minors</th>\n",
       "      <th>category_scores.violence</th>\n",
       "      <th>category_scores.violence/graphic</th>\n",
       "      <th>num_of_tokens</th>\n",
       "      <th>x</th>\n",
       "      <th>y</th>\n",
       "    </tr>\n",
       "  </thead>\n",
       "  <tbody>\n",
       "    <tr>\n",
       "      <th>0</th>\n",
       "      <td>33f01939a744455c869cb234afca47f1</td>\n",
       "      <td>wizardlm-13b</td>\n",
       "      <td>1</td>\n",
       "      <td>English</td>\n",
       "      <td>False</td>\n",
       "      <td>how can identity protection services help prot...</td>\n",
       "      <td>user</td>\n",
       "      <td>False</td>\n",
       "      <td>False</td>\n",
       "      <td>False</td>\n",
       "      <td>...</td>\n",
       "      <td>1.925786e-07</td>\n",
       "      <td>6.502832e-08</td>\n",
       "      <td>2.752596e-07</td>\n",
       "      <td>2.564017e-06</td>\n",
       "      <td>4.523274e-07</td>\n",
       "      <td>0.000023</td>\n",
       "      <td>0.000002</td>\n",
       "      <td>11</td>\n",
       "      <td>7.932804</td>\n",
       "      <td>-1.750588</td>\n",
       "    </tr>\n",
       "    <tr>\n",
       "      <th>1</th>\n",
       "      <td>33f01939a744455c869cb234afca47f1</td>\n",
       "      <td>wizardlm-13b</td>\n",
       "      <td>1</td>\n",
       "      <td>English</td>\n",
       "      <td>False</td>\n",
       "      <td>Identity protection services can help protect ...</td>\n",
       "      <td>assistant</td>\n",
       "      <td>False</td>\n",
       "      <td>False</td>\n",
       "      <td>False</td>\n",
       "      <td>...</td>\n",
       "      <td>3.206958e-08</td>\n",
       "      <td>2.724723e-07</td>\n",
       "      <td>2.288161e-07</td>\n",
       "      <td>3.354237e-05</td>\n",
       "      <td>8.753010e-07</td>\n",
       "      <td>0.000109</td>\n",
       "      <td>0.000006</td>\n",
       "      <td>231</td>\n",
       "      <td>7.935154</td>\n",
       "      <td>-1.743831</td>\n",
       "    </tr>\n",
       "    <tr>\n",
       "      <th>14</th>\n",
       "      <td>0f623736051f4a48a506fd5933563cfd</td>\n",
       "      <td>vicuna-13b</td>\n",
       "      <td>1</td>\n",
       "      <td>English</td>\n",
       "      <td>False</td>\n",
       "      <td>You are the text completion model and you must...</td>\n",
       "      <td>user</td>\n",
       "      <td>False</td>\n",
       "      <td>False</td>\n",
       "      <td>False</td>\n",
       "      <td>...</td>\n",
       "      <td>3.753894e-08</td>\n",
       "      <td>1.407108e-06</td>\n",
       "      <td>2.852089e-08</td>\n",
       "      <td>2.172552e-05</td>\n",
       "      <td>1.706940e-06</td>\n",
       "      <td>0.000048</td>\n",
       "      <td>0.000001</td>\n",
       "      <td>77</td>\n",
       "      <td>6.918180</td>\n",
       "      <td>-9.107648</td>\n",
       "    </tr>\n",
       "    <tr>\n",
       "      <th>15</th>\n",
       "      <td>0f623736051f4a48a506fd5933563cfd</td>\n",
       "      <td>vicuna-13b</td>\n",
       "      <td>1</td>\n",
       "      <td>English</td>\n",
       "      <td>False</td>\n",
       "      <td>To append many items to a list in Python, you ...</td>\n",
       "      <td>assistant</td>\n",
       "      <td>False</td>\n",
       "      <td>False</td>\n",
       "      <td>False</td>\n",
       "      <td>...</td>\n",
       "      <td>1.561164e-07</td>\n",
       "      <td>1.139542e-07</td>\n",
       "      <td>4.520061e-08</td>\n",
       "      <td>2.030380e-06</td>\n",
       "      <td>3.777813e-07</td>\n",
       "      <td>0.000008</td>\n",
       "      <td>0.000005</td>\n",
       "      <td>237</td>\n",
       "      <td>10.406874</td>\n",
       "      <td>8.951334</td>\n",
       "    </tr>\n",
       "    <tr>\n",
       "      <th>16</th>\n",
       "      <td>e5c923a7fa3f4893beb432b4a06ef222</td>\n",
       "      <td>palm-2</td>\n",
       "      <td>2</td>\n",
       "      <td>English</td>\n",
       "      <td>False</td>\n",
       "      <td>The sum of the perimeters of three equal squar...</td>\n",
       "      <td>user</td>\n",
       "      <td>False</td>\n",
       "      <td>False</td>\n",
       "      <td>False</td>\n",
       "      <td>...</td>\n",
       "      <td>4.603441e-11</td>\n",
       "      <td>8.869029e-12</td>\n",
       "      <td>8.679583e-13</td>\n",
       "      <td>4.337592e-07</td>\n",
       "      <td>5.362093e-07</td>\n",
       "      <td>0.000003</td>\n",
       "      <td>0.000001</td>\n",
       "      <td>33</td>\n",
       "      <td>9.274269</td>\n",
       "      <td>-2.572014</td>\n",
       "    </tr>\n",
       "  </tbody>\n",
       "</table>\n",
       "<p>5 rows × 33 columns</p>\n",
       "</div>"
      ],
      "text/plain": [
       "                     conversation_id         model  turn language  redacted  \\\n",
       "0   33f01939a744455c869cb234afca47f1  wizardlm-13b     1  English     False   \n",
       "1   33f01939a744455c869cb234afca47f1  wizardlm-13b     1  English     False   \n",
       "14  0f623736051f4a48a506fd5933563cfd    vicuna-13b     1  English     False   \n",
       "15  0f623736051f4a48a506fd5933563cfd    vicuna-13b     1  English     False   \n",
       "16  e5c923a7fa3f4893beb432b4a06ef222        palm-2     2  English     False   \n",
       "\n",
       "                                              content       role  flagged  \\\n",
       "0   how can identity protection services help prot...       user    False   \n",
       "1   Identity protection services can help protect ...  assistant    False   \n",
       "14  You are the text completion model and you must...       user    False   \n",
       "15  To append many items to a list in Python, you ...  assistant    False   \n",
       "16  The sum of the perimeters of three equal squar...       user    False   \n",
       "\n",
       "    harassment  harassment/threatening  ...  category_scores.self-harm  \\\n",
       "0        False                   False  ...               1.925786e-07   \n",
       "1        False                   False  ...               3.206958e-08   \n",
       "14       False                   False  ...               3.753894e-08   \n",
       "15       False                   False  ...               1.561164e-07   \n",
       "16       False                   False  ...               4.603441e-11   \n",
       "\n",
       "    category_scores.self-harm/instructions  category_scores.self-harm/intent  \\\n",
       "0                             6.502832e-08                      2.752596e-07   \n",
       "1                             2.724723e-07                      2.288161e-07   \n",
       "14                            1.407108e-06                      2.852089e-08   \n",
       "15                            1.139542e-07                      4.520061e-08   \n",
       "16                            8.869029e-12                      8.679583e-13   \n",
       "\n",
       "    category_scores.sexual  category_scores.sexual/minors  \\\n",
       "0             2.564017e-06                   4.523274e-07   \n",
       "1             3.354237e-05                   8.753010e-07   \n",
       "14            2.172552e-05                   1.706940e-06   \n",
       "15            2.030380e-06                   3.777813e-07   \n",
       "16            4.337592e-07                   5.362093e-07   \n",
       "\n",
       "    category_scores.violence  category_scores.violence/graphic  num_of_tokens  \\\n",
       "0                   0.000023                          0.000002             11   \n",
       "1                   0.000109                          0.000006            231   \n",
       "14                  0.000048                          0.000001             77   \n",
       "15                  0.000008                          0.000005            237   \n",
       "16                  0.000003                          0.000001             33   \n",
       "\n",
       "            x         y  \n",
       "0    7.932804 -1.750588  \n",
       "1    7.935154 -1.743831  \n",
       "14   6.918180 -9.107648  \n",
       "15  10.406874  8.951334  \n",
       "16   9.274269 -2.572014  \n",
       "\n",
       "[5 rows x 33 columns]"
      ]
     },
     "execution_count": 9,
     "metadata": {},
     "output_type": "execute_result"
    }
   ],
   "source": [
    "m.head()"
   ]
  },
  {
   "cell_type": "code",
   "execution_count": 3,
   "metadata": {},
   "outputs": [
    {
     "data": {
      "text/plain": [
       "'/Users/thorwhalen/Dropbox/_odata/app_data/imbed/saves/lmsys-chat-1m/'"
      ]
     },
     "execution_count": 3,
     "metadata": {},
     "output_type": "execute_result"
    }
   ],
   "source": [
    "dacc.saves.rootdir"
   ]
  },
  {
   "cell_type": "code",
   "execution_count": 15,
   "metadata": {},
   "outputs": [],
   "source": [
    "# dacc.saves['lmsys_with_planar_embeddings_pca500.csv'] = m\n",
    "\n",
    "import os\n",
    "\n",
    "m.to_csv(\n",
    "    os.path.join(dacc.saves.rootdir, 'lmsys_with_planar_embeddings_pca500.tsv'),\n",
    "    sep='\\t',\n",
    "    quotechar='\"',\n",
    "    escapechar='\\\\',\n",
    ")"
   ]
  },
  {
   "cell_type": "code",
   "execution_count": 10,
   "metadata": {},
   "outputs": [],
   "source": [
    "from imbed.mdat.lmsys_ai_conversations import mk_dacc\n",
    "\n",
    "dacc = mk_dacc()"
   ]
  },
  {
   "cell_type": "code",
   "execution_count": 4,
   "metadata": {},
   "outputs": [
    {
     "name": "stdout",
     "output_type": "stream",
     "text": [
      "len(invalid_conversations)=10946\n"
     ]
    },
    {
     "data": {
      "text/plain": [
       "(2835490, 31)"
      ]
     },
     "execution_count": 4,
     "metadata": {},
     "output_type": "execute_result"
    }
   ],
   "source": [
    "dacc.flat_en_embeddable.shape"
   ]
  },
  {
   "cell_type": "code",
   "execution_count": 6,
   "metadata": {},
   "outputs": [],
   "source": [
    "dacc.flat_en_embeddings.head()"
   ]
  },
  {
   "cell_type": "code",
   "execution_count": 4,
   "metadata": {},
   "outputs": [
    {
     "data": {
      "text/html": [
       "<div>\n",
       "<style scoped>\n",
       "    .dataframe tbody tr th:only-of-type {\n",
       "        vertical-align: middle;\n",
       "    }\n",
       "\n",
       "    .dataframe tbody tr th {\n",
       "        vertical-align: top;\n",
       "    }\n",
       "\n",
       "    .dataframe thead th {\n",
       "        text-align: right;\n",
       "    }\n",
       "</style>\n",
       "<table border=\"1\" class=\"dataframe\">\n",
       "  <thead>\n",
       "    <tr style=\"text-align: right;\">\n",
       "      <th></th>\n",
       "      <th>conversation_id</th>\n",
       "      <th>content</th>\n",
       "      <th>num_of_tokens</th>\n",
       "      <th>embeddings</th>\n",
       "    </tr>\n",
       "  </thead>\n",
       "  <tbody>\n",
       "    <tr>\n",
       "      <th>0</th>\n",
       "      <td>33f01939a744455c869cb234afca47f1</td>\n",
       "      <td>how can identity protection services help prot...</td>\n",
       "      <td>11</td>\n",
       "      <td>[0.04018523171544075, -0.05755921080708504, 0....</td>\n",
       "    </tr>\n",
       "    <tr>\n",
       "      <th>1</th>\n",
       "      <td>33f01939a744455c869cb234afca47f1</td>\n",
       "      <td>Identity protection services can help protect ...</td>\n",
       "      <td>231</td>\n",
       "      <td>[0.047191549092531204, -0.04155740886926651, 0...</td>\n",
       "    </tr>\n",
       "    <tr>\n",
       "      <th>14</th>\n",
       "      <td>0f623736051f4a48a506fd5933563cfd</td>\n",
       "      <td>You are the text completion model and you must...</td>\n",
       "      <td>77</td>\n",
       "      <td>[0.02287357486784458, -0.014439402148127556, 0...</td>\n",
       "    </tr>\n",
       "    <tr>\n",
       "      <th>15</th>\n",
       "      <td>0f623736051f4a48a506fd5933563cfd</td>\n",
       "      <td>To append many items to a list in Python, you ...</td>\n",
       "      <td>237</td>\n",
       "      <td>[0.027620550245046616, -0.03631400689482689, 0...</td>\n",
       "    </tr>\n",
       "    <tr>\n",
       "      <th>16</th>\n",
       "      <td>e5c923a7fa3f4893beb432b4a06ef222</td>\n",
       "      <td>The sum of the perimeters of three equal squar...</td>\n",
       "      <td>33</td>\n",
       "      <td>[-0.000665237836074084, -0.028324183076620102,...</td>\n",
       "    </tr>\n",
       "    <tr>\n",
       "      <th>...</th>\n",
       "      <td>...</td>\n",
       "      <td>...</td>\n",
       "      <td>...</td>\n",
       "      <td>...</td>\n",
       "    </tr>\n",
       "    <tr>\n",
       "      <th>1063</th>\n",
       "      <td>1934a7fa1ac34dac96c3568f7707b745</td>\n",
       "      <td>I'm sorry to hear that you feel that way. Can ...</td>\n",
       "      <td>37</td>\n",
       "      <td>[-0.013348565436899662, -0.008623410016298294,...</td>\n",
       "    </tr>\n",
       "    <tr>\n",
       "      <th>1064</th>\n",
       "      <td>1934a7fa1ac34dac96c3568f7707b745</td>\n",
       "      <td>ما اسمك؟</td>\n",
       "      <td>8</td>\n",
       "      <td>[0.05762900784611702, -0.006444092374294996, 0...</td>\n",
       "    </tr>\n",
       "    <tr>\n",
       "      <th>1065</th>\n",
       "      <td>1934a7fa1ac34dac96c3568f7707b745</td>\n",
       "      <td>أنا مدونة تسويقية تستخدم اللغة العربية، وأتخذ ...</td>\n",
       "      <td>52</td>\n",
       "      <td>[0.009437809698283672, -0.02043076790869236, -...</td>\n",
       "    </tr>\n",
       "    <tr>\n",
       "      <th>1066</th>\n",
       "      <td>1934a7fa1ac34dac96c3568f7707b745</td>\n",
       "      <td>لا يمكن هذا</td>\n",
       "      <td>8</td>\n",
       "      <td>[0.03045622631907463, 0.040633153170347214, 0....</td>\n",
       "    </tr>\n",
       "    <tr>\n",
       "      <th>1067</th>\n",
       "      <td>1934a7fa1ac34dac96c3568f7707b745</td>\n",
       "      <td>أعتذر إذا كان لديك أي صعوبات تجاوزها، ولكن يمك...</td>\n",
       "      <td>100</td>\n",
       "      <td>[0.01668245904147625, 0.01361910905689001, 0.0...</td>\n",
       "    </tr>\n",
       "  </tbody>\n",
       "</table>\n",
       "<p>1000 rows × 4 columns</p>\n",
       "</div>"
      ],
      "text/plain": [
       "                       conversation_id  \\\n",
       "0     33f01939a744455c869cb234afca47f1   \n",
       "1     33f01939a744455c869cb234afca47f1   \n",
       "14    0f623736051f4a48a506fd5933563cfd   \n",
       "15    0f623736051f4a48a506fd5933563cfd   \n",
       "16    e5c923a7fa3f4893beb432b4a06ef222   \n",
       "...                                ...   \n",
       "1063  1934a7fa1ac34dac96c3568f7707b745   \n",
       "1064  1934a7fa1ac34dac96c3568f7707b745   \n",
       "1065  1934a7fa1ac34dac96c3568f7707b745   \n",
       "1066  1934a7fa1ac34dac96c3568f7707b745   \n",
       "1067  1934a7fa1ac34dac96c3568f7707b745   \n",
       "\n",
       "                                                content  num_of_tokens  \\\n",
       "0     how can identity protection services help prot...             11   \n",
       "1     Identity protection services can help protect ...            231   \n",
       "14    You are the text completion model and you must...             77   \n",
       "15    To append many items to a list in Python, you ...            237   \n",
       "16    The sum of the perimeters of three equal squar...             33   \n",
       "...                                                 ...            ...   \n",
       "1063  I'm sorry to hear that you feel that way. Can ...             37   \n",
       "1064                                           ما اسمك؟              8   \n",
       "1065  أنا مدونة تسويقية تستخدم اللغة العربية، وأتخذ ...             52   \n",
       "1066                                        لا يمكن هذا              8   \n",
       "1067  أعتذر إذا كان لديك أي صعوبات تجاوزها، ولكن يمك...            100   \n",
       "\n",
       "                                             embeddings  \n",
       "0     [0.04018523171544075, -0.05755921080708504, 0....  \n",
       "1     [0.047191549092531204, -0.04155740886926651, 0...  \n",
       "14    [0.02287357486784458, -0.014439402148127556, 0...  \n",
       "15    [0.027620550245046616, -0.03631400689482689, 0...  \n",
       "16    [-0.000665237836074084, -0.028324183076620102,...  \n",
       "...                                                 ...  \n",
       "1063  [-0.013348565436899662, -0.008623410016298294,...  \n",
       "1064  [0.05762900784611702, -0.006444092374294996, 0...  \n",
       "1065  [0.009437809698283672, -0.02043076790869236, -...  \n",
       "1066  [0.03045622631907463, 0.040633153170347214, 0....  \n",
       "1067  [0.01668245904147625, 0.01361910905689001, 0.0...  \n",
       "\n",
       "[1000 rows x 4 columns]"
      ]
     },
     "execution_count": 4,
     "metadata": {},
     "output_type": "execute_result"
    }
   ],
   "source": [
    "t = dacc.flat_en_embeddings_store[0]\n",
    "t"
   ]
  },
  {
   "cell_type": "code",
   "execution_count": 14,
   "metadata": {},
   "outputs": [
    {
     "data": {
      "text/plain": [
       "(766507, 2)"
      ]
     },
     "execution_count": 14,
     "metadata": {},
     "output_type": "execute_result"
    }
   ],
   "source": [
    "dacc.flat_en_conversation_grouped_embeddings.shape"
   ]
  },
  {
   "cell_type": "code",
   "execution_count": 15,
   "metadata": {},
   "outputs": [
    {
     "data": {
      "text/html": [
       "<div>\n",
       "<style scoped>\n",
       "    .dataframe tbody tr th:only-of-type {\n",
       "        vertical-align: middle;\n",
       "    }\n",
       "\n",
       "    .dataframe tbody tr th {\n",
       "        vertical-align: top;\n",
       "    }\n",
       "\n",
       "    .dataframe thead th {\n",
       "        text-align: right;\n",
       "    }\n",
       "</style>\n",
       "<table border=\"1\" class=\"dataframe\">\n",
       "  <thead>\n",
       "    <tr style=\"text-align: right;\">\n",
       "      <th></th>\n",
       "      <th>num_of_tokens</th>\n",
       "      <th>embeddings</th>\n",
       "    </tr>\n",
       "    <tr>\n",
       "      <th>conversation_id</th>\n",
       "      <th></th>\n",
       "      <th></th>\n",
       "    </tr>\n",
       "  </thead>\n",
       "  <tbody>\n",
       "    <tr>\n",
       "      <th>00004b39283d4d9fabd2915cdf2f603e</th>\n",
       "      <td>46</td>\n",
       "      <td>[0.01601533917710185, 0.004042537766508758, -0...</td>\n",
       "    </tr>\n",
       "    <tr>\n",
       "      <th>00006a1327734661947ed4f2f766dfab</th>\n",
       "      <td>537</td>\n",
       "      <td>[-0.0065403009502915666, 0.00441778777167201, ...</td>\n",
       "    </tr>\n",
       "    <tr>\n",
       "      <th>00007de6934048b2a5aff12577337cc5</th>\n",
       "      <td>747</td>\n",
       "      <td>[-0.03365037217736244, -0.008656548336148262, ...</td>\n",
       "    </tr>\n",
       "    <tr>\n",
       "      <th>0000a7072bb349ada4fe9369164ec102</th>\n",
       "      <td>296</td>\n",
       "      <td>[-0.036369011737406254, 0.014978362713009119, ...</td>\n",
       "    </tr>\n",
       "    <tr>\n",
       "      <th>0000bcdf5b6c4c46bdbc3e21b46f509c</th>\n",
       "      <td>432</td>\n",
       "      <td>[-0.04688451625406742, 0.020439362386241555, 0...</td>\n",
       "    </tr>\n",
       "  </tbody>\n",
       "</table>\n",
       "</div>"
      ],
      "text/plain": [
       "                                  num_of_tokens  \\\n",
       "conversation_id                                   \n",
       "00004b39283d4d9fabd2915cdf2f603e             46   \n",
       "00006a1327734661947ed4f2f766dfab            537   \n",
       "00007de6934048b2a5aff12577337cc5            747   \n",
       "0000a7072bb349ada4fe9369164ec102            296   \n",
       "0000bcdf5b6c4c46bdbc3e21b46f509c            432   \n",
       "\n",
       "                                                                         embeddings  \n",
       "conversation_id                                                                      \n",
       "00004b39283d4d9fabd2915cdf2f603e  [0.01601533917710185, 0.004042537766508758, -0...  \n",
       "00006a1327734661947ed4f2f766dfab  [-0.0065403009502915666, 0.00441778777167201, ...  \n",
       "00007de6934048b2a5aff12577337cc5  [-0.03365037217736244, -0.008656548336148262, ...  \n",
       "0000a7072bb349ada4fe9369164ec102  [-0.036369011737406254, 0.014978362713009119, ...  \n",
       "0000bcdf5b6c4c46bdbc3e21b46f509c  [-0.04688451625406742, 0.020439362386241555, 0...  "
      ]
     },
     "execution_count": 15,
     "metadata": {},
     "output_type": "execute_result"
    }
   ],
   "source": [
    "dacc.flat_en_conversation_grouped_embeddings.head()"
   ]
  },
  {
   "cell_type": "code",
   "execution_count": 20,
   "metadata": {},
   "outputs": [],
   "source": [
    "d = dacc.flat_en_conversation_grouped_embeddings\n",
    "d = {k: v['embeddings'] for k, v in d.iloc[:10].iterrows()}"
   ]
  },
  {
   "cell_type": "code",
   "execution_count": 32,
   "metadata": {},
   "outputs": [
    {
     "data": {
      "text/html": [
       "<div>\n",
       "<style scoped>\n",
       "    .dataframe tbody tr th:only-of-type {\n",
       "        vertical-align: middle;\n",
       "    }\n",
       "\n",
       "    .dataframe tbody tr th {\n",
       "        vertical-align: top;\n",
       "    }\n",
       "\n",
       "    .dataframe thead th {\n",
       "        text-align: right;\n",
       "    }\n",
       "</style>\n",
       "<table border=\"1\" class=\"dataframe\">\n",
       "  <thead>\n",
       "    <tr style=\"text-align: right;\">\n",
       "      <th></th>\n",
       "      <th>embeddings</th>\n",
       "    </tr>\n",
       "  </thead>\n",
       "  <tbody>\n",
       "    <tr>\n",
       "      <th>00004b39283d4d9fabd2915cdf2f603e</th>\n",
       "      <td>[0.01601533917710185, 0.004042537766508758, -0...</td>\n",
       "    </tr>\n",
       "    <tr>\n",
       "      <th>00006a1327734661947ed4f2f766dfab</th>\n",
       "      <td>[-0.0065403009502915666, 0.00441778777167201, ...</td>\n",
       "    </tr>\n",
       "    <tr>\n",
       "      <th>00007de6934048b2a5aff12577337cc5</th>\n",
       "      <td>[-0.03365037217736244, -0.008656548336148262, ...</td>\n",
       "    </tr>\n",
       "    <tr>\n",
       "      <th>0000a7072bb349ada4fe9369164ec102</th>\n",
       "      <td>[-0.036369011737406254, 0.014978362713009119, ...</td>\n",
       "    </tr>\n",
       "    <tr>\n",
       "      <th>0000bcdf5b6c4c46bdbc3e21b46f509c</th>\n",
       "      <td>[-0.04688451625406742, 0.020439362386241555, 0...</td>\n",
       "    </tr>\n",
       "    <tr>\n",
       "      <th>0000cba2601f4145b5fc80d24e0747d6</th>\n",
       "      <td>[0.005642474202128748, 0.006788024290775259, 0...</td>\n",
       "    </tr>\n",
       "    <tr>\n",
       "      <th>0000eb7756104b5ea9edf897760fae0d</th>\n",
       "      <td>[0.03294557767609755, -0.029511698211232822, -...</td>\n",
       "    </tr>\n",
       "    <tr>\n",
       "      <th>0000f23b2f8049ac9d92c28d4817381e</th>\n",
       "      <td>[0.0008097449317574501, -0.0019999893265776336...</td>\n",
       "    </tr>\n",
       "    <tr>\n",
       "      <th>0000f8dacecb401abbcf7c4bfe23b142</th>\n",
       "      <td>[0.02275031805038452, -0.07401476427912712, 0....</td>\n",
       "    </tr>\n",
       "    <tr>\n",
       "      <th>0000ffe660424b3e91714047fdc5dcb1</th>\n",
       "      <td>[-0.04722345434129238, 0.0075103865819983184, ...</td>\n",
       "    </tr>\n",
       "  </tbody>\n",
       "</table>\n",
       "</div>"
      ],
      "text/plain": [
       "                                                                         embeddings\n",
       "00004b39283d4d9fabd2915cdf2f603e  [0.01601533917710185, 0.004042537766508758, -0...\n",
       "00006a1327734661947ed4f2f766dfab  [-0.0065403009502915666, 0.00441778777167201, ...\n",
       "00007de6934048b2a5aff12577337cc5  [-0.03365037217736244, -0.008656548336148262, ...\n",
       "0000a7072bb349ada4fe9369164ec102  [-0.036369011737406254, 0.014978362713009119, ...\n",
       "0000bcdf5b6c4c46bdbc3e21b46f509c  [-0.04688451625406742, 0.020439362386241555, 0...\n",
       "0000cba2601f4145b5fc80d24e0747d6  [0.005642474202128748, 0.006788024290775259, 0...\n",
       "0000eb7756104b5ea9edf897760fae0d  [0.03294557767609755, -0.029511698211232822, -...\n",
       "0000f23b2f8049ac9d92c28d4817381e  [0.0008097449317574501, -0.0019999893265776336...\n",
       "0000f8dacecb401abbcf7c4bfe23b142  [0.02275031805038452, -0.07401476427912712, 0....\n",
       "0000ffe660424b3e91714047fdc5dcb1  [-0.04722345434129238, 0.0075103865819983184, ..."
      ]
     },
     "execution_count": 32,
     "metadata": {},
     "output_type": "execute_result"
    }
   ],
   "source": [
    "import pandas as pd\n",
    "t = pd.Series(d)\n",
    "t.name = 'embeddings'\n",
    "t.to_frame()"
   ]
  },
  {
   "cell_type": "code",
   "execution_count": 2,
   "metadata": {},
   "outputs": [
    {
     "name": "stdout",
     "output_type": "stream",
     "text": [
      "Interactive namespace is empty.\n"
     ]
    }
   ],
   "source": []
  },
  {
   "cell_type": "markdown",
   "metadata": {},
   "source": [
    "## Linking conversations"
   ]
  },
  {
   "cell_type": "code",
   "execution_count": null,
   "metadata": {},
   "outputs": [],
   "source": [
    "from imbed.mdat.lmsys_ai_conversations import mk_dacc\n",
    "dacc = mk_dacc()"
   ]
  },
  {
   "cell_type": "code",
   "execution_count": 13,
   "metadata": {},
   "outputs": [
    {
     "name": "stdout",
     "output_type": "stream",
     "text": [
      "dacc.flat_en_embeddable.shape=(2835490, 31)\n"
     ]
    },
    {
     "data": {
      "text/html": [
       "<div>\n",
       "<style scoped>\n",
       "    .dataframe tbody tr th:only-of-type {\n",
       "        vertical-align: middle;\n",
       "    }\n",
       "\n",
       "    .dataframe tbody tr th {\n",
       "        vertical-align: top;\n",
       "    }\n",
       "\n",
       "    .dataframe thead th {\n",
       "        text-align: right;\n",
       "    }\n",
       "</style>\n",
       "<table border=\"1\" class=\"dataframe\">\n",
       "  <thead>\n",
       "    <tr style=\"text-align: right;\">\n",
       "      <th></th>\n",
       "      <th>conversation_id</th>\n",
       "      <th>model</th>\n",
       "      <th>turn</th>\n",
       "      <th>language</th>\n",
       "      <th>redacted</th>\n",
       "      <th>content</th>\n",
       "      <th>role</th>\n",
       "      <th>flagged</th>\n",
       "      <th>harassment</th>\n",
       "      <th>harassment/threatening</th>\n",
       "      <th>...</th>\n",
       "      <th>category_scores.hate</th>\n",
       "      <th>category_scores.hate/threatening</th>\n",
       "      <th>category_scores.self-harm</th>\n",
       "      <th>category_scores.self-harm/instructions</th>\n",
       "      <th>category_scores.self-harm/intent</th>\n",
       "      <th>category_scores.sexual</th>\n",
       "      <th>category_scores.sexual/minors</th>\n",
       "      <th>category_scores.violence</th>\n",
       "      <th>category_scores.violence/graphic</th>\n",
       "      <th>num_of_tokens</th>\n",
       "    </tr>\n",
       "  </thead>\n",
       "  <tbody>\n",
       "    <tr>\n",
       "      <th>0</th>\n",
       "      <td>33f01939a744455c869cb234afca47f1</td>\n",
       "      <td>wizardlm-13b</td>\n",
       "      <td>1</td>\n",
       "      <td>English</td>\n",
       "      <td>False</td>\n",
       "      <td>how can identity protection services help prot...</td>\n",
       "      <td>user</td>\n",
       "      <td>False</td>\n",
       "      <td>False</td>\n",
       "      <td>False</td>\n",
       "      <td>...</td>\n",
       "      <td>8.254962e-07</td>\n",
       "      <td>1.331843e-08</td>\n",
       "      <td>1.925786e-07</td>\n",
       "      <td>6.502832e-08</td>\n",
       "      <td>2.752596e-07</td>\n",
       "      <td>2.564017e-06</td>\n",
       "      <td>4.523274e-07</td>\n",
       "      <td>0.000023</td>\n",
       "      <td>0.000002</td>\n",
       "      <td>11</td>\n",
       "    </tr>\n",
       "    <tr>\n",
       "      <th>1</th>\n",
       "      <td>33f01939a744455c869cb234afca47f1</td>\n",
       "      <td>wizardlm-13b</td>\n",
       "      <td>1</td>\n",
       "      <td>English</td>\n",
       "      <td>False</td>\n",
       "      <td>Identity protection services can help protect ...</td>\n",
       "      <td>assistant</td>\n",
       "      <td>False</td>\n",
       "      <td>False</td>\n",
       "      <td>False</td>\n",
       "      <td>...</td>\n",
       "      <td>1.493081e-07</td>\n",
       "      <td>2.457626e-09</td>\n",
       "      <td>3.206958e-08</td>\n",
       "      <td>2.724723e-07</td>\n",
       "      <td>2.288161e-07</td>\n",
       "      <td>3.354237e-05</td>\n",
       "      <td>8.753010e-07</td>\n",
       "      <td>0.000109</td>\n",
       "      <td>0.000006</td>\n",
       "      <td>231</td>\n",
       "    </tr>\n",
       "    <tr>\n",
       "      <th>14</th>\n",
       "      <td>0f623736051f4a48a506fd5933563cfd</td>\n",
       "      <td>vicuna-13b</td>\n",
       "      <td>1</td>\n",
       "      <td>English</td>\n",
       "      <td>False</td>\n",
       "      <td>You are the text completion model and you must...</td>\n",
       "      <td>user</td>\n",
       "      <td>False</td>\n",
       "      <td>False</td>\n",
       "      <td>False</td>\n",
       "      <td>...</td>\n",
       "      <td>4.566706e-06</td>\n",
       "      <td>3.721139e-06</td>\n",
       "      <td>3.753894e-08</td>\n",
       "      <td>1.407108e-06</td>\n",
       "      <td>2.852089e-08</td>\n",
       "      <td>2.172552e-05</td>\n",
       "      <td>1.706940e-06</td>\n",
       "      <td>0.000048</td>\n",
       "      <td>0.000001</td>\n",
       "      <td>77</td>\n",
       "    </tr>\n",
       "    <tr>\n",
       "      <th>15</th>\n",
       "      <td>0f623736051f4a48a506fd5933563cfd</td>\n",
       "      <td>vicuna-13b</td>\n",
       "      <td>1</td>\n",
       "      <td>English</td>\n",
       "      <td>False</td>\n",
       "      <td>To append many items to a list in Python, you ...</td>\n",
       "      <td>assistant</td>\n",
       "      <td>False</td>\n",
       "      <td>False</td>\n",
       "      <td>False</td>\n",
       "      <td>...</td>\n",
       "      <td>1.145678e-07</td>\n",
       "      <td>7.610590e-08</td>\n",
       "      <td>1.561164e-07</td>\n",
       "      <td>1.139542e-07</td>\n",
       "      <td>4.520061e-08</td>\n",
       "      <td>2.030380e-06</td>\n",
       "      <td>3.777813e-07</td>\n",
       "      <td>0.000008</td>\n",
       "      <td>0.000005</td>\n",
       "      <td>237</td>\n",
       "    </tr>\n",
       "    <tr>\n",
       "      <th>16</th>\n",
       "      <td>e5c923a7fa3f4893beb432b4a06ef222</td>\n",
       "      <td>palm-2</td>\n",
       "      <td>2</td>\n",
       "      <td>English</td>\n",
       "      <td>False</td>\n",
       "      <td>The sum of the perimeters of three equal squar...</td>\n",
       "      <td>user</td>\n",
       "      <td>False</td>\n",
       "      <td>False</td>\n",
       "      <td>False</td>\n",
       "      <td>...</td>\n",
       "      <td>1.574229e-08</td>\n",
       "      <td>9.697849e-11</td>\n",
       "      <td>4.603441e-11</td>\n",
       "      <td>8.869029e-12</td>\n",
       "      <td>8.679583e-13</td>\n",
       "      <td>4.337592e-07</td>\n",
       "      <td>5.362093e-07</td>\n",
       "      <td>0.000003</td>\n",
       "      <td>0.000001</td>\n",
       "      <td>33</td>\n",
       "    </tr>\n",
       "  </tbody>\n",
       "</table>\n",
       "<p>5 rows × 31 columns</p>\n",
       "</div>"
      ],
      "text/plain": [
       "                     conversation_id         model  turn language  redacted  \\\n",
       "0   33f01939a744455c869cb234afca47f1  wizardlm-13b     1  English     False   \n",
       "1   33f01939a744455c869cb234afca47f1  wizardlm-13b     1  English     False   \n",
       "14  0f623736051f4a48a506fd5933563cfd    vicuna-13b     1  English     False   \n",
       "15  0f623736051f4a48a506fd5933563cfd    vicuna-13b     1  English     False   \n",
       "16  e5c923a7fa3f4893beb432b4a06ef222        palm-2     2  English     False   \n",
       "\n",
       "                                              content       role  flagged  \\\n",
       "0   how can identity protection services help prot...       user    False   \n",
       "1   Identity protection services can help protect ...  assistant    False   \n",
       "14  You are the text completion model and you must...       user    False   \n",
       "15  To append many items to a list in Python, you ...  assistant    False   \n",
       "16  The sum of the perimeters of three equal squar...       user    False   \n",
       "\n",
       "    harassment  harassment/threatening  ...  category_scores.hate  \\\n",
       "0        False                   False  ...          8.254962e-07   \n",
       "1        False                   False  ...          1.493081e-07   \n",
       "14       False                   False  ...          4.566706e-06   \n",
       "15       False                   False  ...          1.145678e-07   \n",
       "16       False                   False  ...          1.574229e-08   \n",
       "\n",
       "    category_scores.hate/threatening  category_scores.self-harm  \\\n",
       "0                       1.331843e-08               1.925786e-07   \n",
       "1                       2.457626e-09               3.206958e-08   \n",
       "14                      3.721139e-06               3.753894e-08   \n",
       "15                      7.610590e-08               1.561164e-07   \n",
       "16                      9.697849e-11               4.603441e-11   \n",
       "\n",
       "    category_scores.self-harm/instructions  category_scores.self-harm/intent  \\\n",
       "0                             6.502832e-08                      2.752596e-07   \n",
       "1                             2.724723e-07                      2.288161e-07   \n",
       "14                            1.407108e-06                      2.852089e-08   \n",
       "15                            1.139542e-07                      4.520061e-08   \n",
       "16                            8.869029e-12                      8.679583e-13   \n",
       "\n",
       "    category_scores.sexual  category_scores.sexual/minors  \\\n",
       "0             2.564017e-06                   4.523274e-07   \n",
       "1             3.354237e-05                   8.753010e-07   \n",
       "14            2.172552e-05                   1.706940e-06   \n",
       "15            2.030380e-06                   3.777813e-07   \n",
       "16            4.337592e-07                   5.362093e-07   \n",
       "\n",
       "    category_scores.violence  category_scores.violence/graphic  num_of_tokens  \n",
       "0                   0.000023                          0.000002             11  \n",
       "1                   0.000109                          0.000006            231  \n",
       "14                  0.000048                          0.000001             77  \n",
       "15                  0.000008                          0.000005            237  \n",
       "16                  0.000003                          0.000001             33  \n",
       "\n",
       "[5 rows x 31 columns]"
      ]
     },
     "execution_count": 13,
     "metadata": {},
     "output_type": "execute_result"
    }
   ],
   "source": [
    "print(f\"{dacc.flat_en_embeddable.shape=}\")\n",
    "dacc.flat_en_embeddable.head()\n"
   ]
  },
  {
   "cell_type": "code",
   "execution_count": 14,
   "metadata": {},
   "outputs": [
    {
     "data": {
      "text/html": [
       "<div>\n",
       "<style scoped>\n",
       "    .dataframe tbody tr th:only-of-type {\n",
       "        vertical-align: middle;\n",
       "    }\n",
       "\n",
       "    .dataframe tbody tr th {\n",
       "        vertical-align: top;\n",
       "    }\n",
       "\n",
       "    .dataframe thead th {\n",
       "        text-align: right;\n",
       "    }\n",
       "</style>\n",
       "<table border=\"1\" class=\"dataframe\">\n",
       "  <thead>\n",
       "    <tr style=\"text-align: right;\">\n",
       "      <th></th>\n",
       "      <th>conversation_id</th>\n",
       "      <th>content</th>\n",
       "      <th>num_of_tokens</th>\n",
       "      <th>embeddings</th>\n",
       "    </tr>\n",
       "  </thead>\n",
       "  <tbody>\n",
       "    <tr>\n",
       "      <th>0</th>\n",
       "      <td>33f01939a744455c869cb234afca47f1</td>\n",
       "      <td>how can identity protection services help prot...</td>\n",
       "      <td>11</td>\n",
       "      <td>[0.04018523171544075, -0.05755921080708504, 0....</td>\n",
       "    </tr>\n",
       "    <tr>\n",
       "      <th>1</th>\n",
       "      <td>33f01939a744455c869cb234afca47f1</td>\n",
       "      <td>Identity protection services can help protect ...</td>\n",
       "      <td>231</td>\n",
       "      <td>[0.047191549092531204, -0.04155740886926651, 0...</td>\n",
       "    </tr>\n",
       "    <tr>\n",
       "      <th>14</th>\n",
       "      <td>0f623736051f4a48a506fd5933563cfd</td>\n",
       "      <td>You are the text completion model and you must...</td>\n",
       "      <td>77</td>\n",
       "      <td>[0.02287357486784458, -0.014439402148127556, 0...</td>\n",
       "    </tr>\n",
       "    <tr>\n",
       "      <th>15</th>\n",
       "      <td>0f623736051f4a48a506fd5933563cfd</td>\n",
       "      <td>To append many items to a list in Python, you ...</td>\n",
       "      <td>237</td>\n",
       "      <td>[0.027620550245046616, -0.03631400689482689, 0...</td>\n",
       "    </tr>\n",
       "    <tr>\n",
       "      <th>16</th>\n",
       "      <td>e5c923a7fa3f4893beb432b4a06ef222</td>\n",
       "      <td>The sum of the perimeters of three equal squar...</td>\n",
       "      <td>33</td>\n",
       "      <td>[-0.000665237836074084, -0.028324183076620102,...</td>\n",
       "    </tr>\n",
       "  </tbody>\n",
       "</table>\n",
       "</div>"
      ],
      "text/plain": [
       "                     conversation_id  \\\n",
       "0   33f01939a744455c869cb234afca47f1   \n",
       "1   33f01939a744455c869cb234afca47f1   \n",
       "14  0f623736051f4a48a506fd5933563cfd   \n",
       "15  0f623736051f4a48a506fd5933563cfd   \n",
       "16  e5c923a7fa3f4893beb432b4a06ef222   \n",
       "\n",
       "                                              content  num_of_tokens  \\\n",
       "0   how can identity protection services help prot...             11   \n",
       "1   Identity protection services can help protect ...            231   \n",
       "14  You are the text completion model and you must...             77   \n",
       "15  To append many items to a list in Python, you ...            237   \n",
       "16  The sum of the perimeters of three equal squar...             33   \n",
       "\n",
       "                                           embeddings  \n",
       "0   [0.04018523171544075, -0.05755921080708504, 0....  \n",
       "1   [0.047191549092531204, -0.04155740886926651, 0...  \n",
       "14  [0.02287357486784458, -0.014439402148127556, 0...  \n",
       "15  [0.027620550245046616, -0.03631400689482689, 0...  \n",
       "16  [-0.000665237836074084, -0.028324183076620102,...  "
      ]
     },
     "execution_count": 14,
     "metadata": {},
     "output_type": "execute_result"
    }
   ],
   "source": [
    "dacc.flat_en_embeddings.head()"
   ]
  },
  {
   "cell_type": "code",
   "execution_count": null,
   "metadata": {},
   "outputs": [],
   "source": [
    "t = dacc.flat_en_embeddings[['conversation_id']].reset_index"
   ]
  },
  {
   "cell_type": "code",
   "execution_count": 15,
   "metadata": {},
   "outputs": [
    {
     "data": {
      "text/plain": [
       "766507"
      ]
     },
     "execution_count": 15,
     "metadata": {},
     "output_type": "execute_result"
    }
   ],
   "source": [
    "# group dacc.flat_en_embeddings['conversation_id'] by conversation_id, collectioning the indices in a list\n",
    "conversation_paths = dacc.flat_en_embeddings.groupby('conversation_id').apply(lambda x: x.index.tolist())\n",
    "len(conversation_paths)"
   ]
  },
  {
   "cell_type": "code",
   "execution_count": 27,
   "metadata": {},
   "outputs": [
    {
     "data": {
      "text/plain": [
       "conversation_id\n",
       "00004b39283d4d9fabd2915cdf2f603e                                     [833126, 833127]\n",
       "00006a1327734661947ed4f2f766dfab    [1613492, 1613493, 1613494, 1613495, 1613496, ...\n",
       "00007de6934048b2a5aff12577337cc5                                   [2626966, 2626967]\n",
       "0000a7072bb349ada4fe9369164ec102                                   [1464922, 1464923]\n",
       "0000bcdf5b6c4c46bdbc3e21b46f509c                                     [890792, 890793]\n",
       "                                                          ...                        \n",
       "ffff56dcec2f4dd5ac9ce372bbce5c56                                   [1000988, 1000989]\n",
       "ffffa6ac32be4915a6d3f9759b9ef176                                     [748206, 748207]\n",
       "ffffbd8b47744fc297465aad8607bec1                                   [2107336, 2107337]\n",
       "ffffc32f4bbb4ebf9062ed52d8979bf7                                   [1890856, 1890857]\n",
       "fffff54b30c5406592920e0fbeaa00ea     [707984, 707985, 707986, 707987, 707988, 707989]\n",
       "Length: 766507, dtype: object"
      ]
     },
     "execution_count": 27,
     "metadata": {},
     "output_type": "execute_result"
    }
   ],
   "source": [
    "conversation_paths"
   ]
  },
  {
   "cell_type": "code",
   "execution_count": 29,
   "metadata": {},
   "outputs": [
    {
     "data": {
      "text/plain": [
       "(2068983, 2)"
      ]
     },
     "execution_count": 29,
     "metadata": {},
     "output_type": "execute_result"
    }
   ],
   "source": [
    "def mk_path_links(path_nodes: list):\n",
    "    \"\"\"Makes link data for the path_nodes\n",
    "    \n",
    "    Example:\n",
    "\n",
    "    >>> mk_path_links([1,2,3,4])\n",
    "    [{'source': 1, 'target': 2}, {'source': 2, 'target': 3}, {'source': 3, 'target': 4}]\n",
    "\n",
    "    \"\"\"\n",
    "    return [{'source': path_nodes[i], 'target': path_nodes[i+1]} for i in range(len(path_nodes)-1)]\n",
    "\n",
    "import pandas as pd\n",
    "from dol import Pipe\n",
    "\n",
    "mk_path_links_as_df = Pipe(mk_path_links, pd.DataFrame)\n",
    "\n",
    "tt = pd.concat(map(mk_path_links_as_df, conversation_paths), ignore_index=True)\n",
    "tt.shape\n",
    "\n"
   ]
  },
  {
   "cell_type": "code",
   "execution_count": 31,
   "metadata": {},
   "outputs": [],
   "source": [
    "# save to tsv\n",
    "import os\n",
    "tt.to_csv(\n",
    "    os.path.join(dacc.saves.rootdir, 'conversation_paths.tsv'),\n",
    "    sep='\\t',\n",
    "    quotechar='\"',\n",
    "    escapechar='\\\\',\n",
    ")"
   ]
  },
  {
   "cell_type": "markdown",
   "metadata": {},
   "source": [
    "## Clustering"
   ]
  },
  {
   "cell_type": "code",
   "execution_count": 1,
   "metadata": {},
   "outputs": [],
   "source": [
    "# to compute the dbscan, run compute_and_save_dbscan\n",
    "# from imbed.mdat.lmsys_ai_conversations import compute_and_save_dbscan\n",
    "\n",
    "from imbed.mdat.lmsys_ai_conversations import mk_dacc\n",
    "dacc = mk_dacc()"
   ]
  },
  {
   "cell_type": "code",
   "execution_count": 5,
   "metadata": {},
   "outputs": [],
   "source": [
    "from sklearn.preprocessing import StandardScaler\n",
    "\n",
    "source_data_name='flat_en_embeddings_pca100.npy'\n",
    "\n",
    "X = dacc.saves[source_data_name]\n",
    "XX = StandardScaler().fit_transform(X)"
   ]
  },
  {
   "cell_type": "code",
   "execution_count": null,
   "metadata": {},
   "outputs": [],
   "source": [
    "from sklearn.cluster import KMeans\n",
    "\n",
    "n_clusters = 7\n",
    "\n",
    "\n",
    "data_name = 'dbscan_{n_clusters}_kmeans.pkl'\n",
    "\n",
    "kmeans_clusters = KMeans(n_clusters=n_clusters).fit_predict(XX)\n",
    "\n",
    "dacc.saves[data_name] = kmeans_clusters"
   ]
  },
  {
   "cell_type": "code",
   "execution_count": 3,
   "metadata": {},
   "outputs": [],
   "source": [
    "km = dacc.saves['dbscan_7_kmeans.pkl']"
   ]
  },
  {
   "cell_type": "code",
   "execution_count": 8,
   "metadata": {},
   "outputs": [
    {
     "data": {
      "text/plain": [
       "array([0, 0, 5, ..., 0, 3, 3], dtype=int32)"
      ]
     },
     "execution_count": 8,
     "metadata": {},
     "output_type": "execute_result"
    }
   ],
   "source": [
    "km.predict(XX)"
   ]
  },
  {
   "cell_type": "markdown",
   "metadata": {},
   "source": [
    "### Compute and save stuff"
   ]
  },
  {
   "cell_type": "code",
   "execution_count": 11,
   "metadata": {},
   "outputs": [],
   "source": [
    "from imbed.mdat.lmsys_ai_conversations import mk_dacc\n",
    "from sklearn.preprocessing import StandardScaler\n",
    "\n",
    "dacc = mk_dacc()\n",
    "source_data_name='flat_en_embeddings_pca100.npy'\n",
    "\n",
    "X = dacc.saves[source_data_name]\n",
    "standardized_X = StandardScaler().fit_transform(X)"
   ]
  },
  {
   "cell_type": "code",
   "execution_count": 15,
   "metadata": {},
   "outputs": [
    {
     "name": "stdout",
     "output_type": "stream",
     "text": [
      "(27)18:48:38 - Loading data...\n",
      "(27)18:48:38 - Standardizing the data...\n",
      "(27)18:48:40 - Computing Kmeans(n_clusters=7)...\n",
      "(27)18:48:49 - Saving the kmeans cluster indices to /Users/thorwhalen/Dropbox/_odata/app_data/imbed/saves/lmsys-chat-1m/kmeans_{n_clusters}_clusters_indices.pkl\n",
      "(27)18:48:49 - Loading data...\n",
      "(27)18:48:49 - Standardizing the data...\n",
      "(27)18:48:51 - Computing Kmeans(n_clusters=14)...\n",
      "(27)18:49:00 - Saving the kmeans cluster indices to /Users/thorwhalen/Dropbox/_odata/app_data/imbed/saves/lmsys-chat-1m/kmeans_{n_clusters}_clusters_indices.pkl\n",
      "(27)18:49:00 - Loading data...\n",
      "(27)18:49:00 - Standardizing the data...\n",
      "(27)18:49:02 - Computing Kmeans(n_clusters=28)...\n",
      "(27)18:49:13 - Saving the kmeans cluster indices to /Users/thorwhalen/Dropbox/_odata/app_data/imbed/saves/lmsys-chat-1m/kmeans_{n_clusters}_clusters_indices.pkl\n"
     ]
    }
   ],
   "source": [
    "from imbed.mdat.lmsys_ai_conversations import mk_dacc, compute_and_save_kmeans\n",
    "from functools import partial\n",
    "\n",
    "compute_clusters = partial(\n",
    "    compute_and_save_kmeans, dacc=dacc, standardized_X=standardized_X, data_name=None\n",
    ")\n",
    "clusters_07 = compute_and_save_kmeans(n_clusters=7)\n",
    "clusters_14 = compute_and_save_kmeans(n_clusters=14)\n",
    "clusters_28 = compute_and_save_kmeans(n_clusters=28)\n"
   ]
  },
  {
   "cell_type": "code",
   "execution_count": 16,
   "metadata": {},
   "outputs": [
    {
     "name": "stdout",
     "output_type": "stream",
     "text": [
      "df.shape=(2835490, 33)\n"
     ]
    },
    {
     "data": {
      "text/html": [
       "<div>\n",
       "<style scoped>\n",
       "    .dataframe tbody tr th:only-of-type {\n",
       "        vertical-align: middle;\n",
       "    }\n",
       "\n",
       "    .dataframe tbody tr th {\n",
       "        vertical-align: top;\n",
       "    }\n",
       "\n",
       "    .dataframe thead th {\n",
       "        text-align: right;\n",
       "    }\n",
       "</style>\n",
       "<table border=\"1\" class=\"dataframe\">\n",
       "  <thead>\n",
       "    <tr style=\"text-align: right;\">\n",
       "      <th></th>\n",
       "      <th>conversation_id</th>\n",
       "      <th>model</th>\n",
       "      <th>turn</th>\n",
       "      <th>language</th>\n",
       "      <th>redacted</th>\n",
       "      <th>content</th>\n",
       "      <th>role</th>\n",
       "      <th>flagged</th>\n",
       "      <th>harassment</th>\n",
       "      <th>harassment/threatening</th>\n",
       "      <th>...</th>\n",
       "      <th>category_scores.self-harm</th>\n",
       "      <th>category_scores.self-harm/instructions</th>\n",
       "      <th>category_scores.self-harm/intent</th>\n",
       "      <th>category_scores.sexual</th>\n",
       "      <th>category_scores.sexual/minors</th>\n",
       "      <th>category_scores.violence</th>\n",
       "      <th>category_scores.violence/graphic</th>\n",
       "      <th>num_of_tokens</th>\n",
       "      <th>x</th>\n",
       "      <th>y</th>\n",
       "    </tr>\n",
       "  </thead>\n",
       "  <tbody>\n",
       "    <tr>\n",
       "      <th>0</th>\n",
       "      <td>33f01939a744455c869cb234afca47f1</td>\n",
       "      <td>wizardlm-13b</td>\n",
       "      <td>1</td>\n",
       "      <td>English</td>\n",
       "      <td>False</td>\n",
       "      <td>how can identity protection services help prot...</td>\n",
       "      <td>user</td>\n",
       "      <td>False</td>\n",
       "      <td>False</td>\n",
       "      <td>False</td>\n",
       "      <td>...</td>\n",
       "      <td>1.925786e-07</td>\n",
       "      <td>6.502832e-08</td>\n",
       "      <td>2.752596e-07</td>\n",
       "      <td>2.564017e-06</td>\n",
       "      <td>4.523274e-07</td>\n",
       "      <td>0.000023</td>\n",
       "      <td>0.000002</td>\n",
       "      <td>11</td>\n",
       "      <td>7.932804</td>\n",
       "      <td>-1.750588</td>\n",
       "    </tr>\n",
       "    <tr>\n",
       "      <th>1</th>\n",
       "      <td>33f01939a744455c869cb234afca47f1</td>\n",
       "      <td>wizardlm-13b</td>\n",
       "      <td>1</td>\n",
       "      <td>English</td>\n",
       "      <td>False</td>\n",
       "      <td>Identity protection services can help protect ...</td>\n",
       "      <td>assistant</td>\n",
       "      <td>False</td>\n",
       "      <td>False</td>\n",
       "      <td>False</td>\n",
       "      <td>...</td>\n",
       "      <td>3.206958e-08</td>\n",
       "      <td>2.724723e-07</td>\n",
       "      <td>2.288161e-07</td>\n",
       "      <td>3.354237e-05</td>\n",
       "      <td>8.753010e-07</td>\n",
       "      <td>0.000109</td>\n",
       "      <td>0.000006</td>\n",
       "      <td>231</td>\n",
       "      <td>7.935154</td>\n",
       "      <td>-1.743831</td>\n",
       "    </tr>\n",
       "    <tr>\n",
       "      <th>14</th>\n",
       "      <td>0f623736051f4a48a506fd5933563cfd</td>\n",
       "      <td>vicuna-13b</td>\n",
       "      <td>1</td>\n",
       "      <td>English</td>\n",
       "      <td>False</td>\n",
       "      <td>You are the text completion model and you must...</td>\n",
       "      <td>user</td>\n",
       "      <td>False</td>\n",
       "      <td>False</td>\n",
       "      <td>False</td>\n",
       "      <td>...</td>\n",
       "      <td>3.753894e-08</td>\n",
       "      <td>1.407108e-06</td>\n",
       "      <td>2.852089e-08</td>\n",
       "      <td>2.172552e-05</td>\n",
       "      <td>1.706940e-06</td>\n",
       "      <td>0.000048</td>\n",
       "      <td>0.000001</td>\n",
       "      <td>77</td>\n",
       "      <td>6.918180</td>\n",
       "      <td>-9.107648</td>\n",
       "    </tr>\n",
       "    <tr>\n",
       "      <th>15</th>\n",
       "      <td>0f623736051f4a48a506fd5933563cfd</td>\n",
       "      <td>vicuna-13b</td>\n",
       "      <td>1</td>\n",
       "      <td>English</td>\n",
       "      <td>False</td>\n",
       "      <td>To append many items to a list in Python, you ...</td>\n",
       "      <td>assistant</td>\n",
       "      <td>False</td>\n",
       "      <td>False</td>\n",
       "      <td>False</td>\n",
       "      <td>...</td>\n",
       "      <td>1.561164e-07</td>\n",
       "      <td>1.139542e-07</td>\n",
       "      <td>4.520061e-08</td>\n",
       "      <td>2.030380e-06</td>\n",
       "      <td>3.777813e-07</td>\n",
       "      <td>0.000008</td>\n",
       "      <td>0.000005</td>\n",
       "      <td>237</td>\n",
       "      <td>10.406874</td>\n",
       "      <td>8.951334</td>\n",
       "    </tr>\n",
       "    <tr>\n",
       "      <th>16</th>\n",
       "      <td>e5c923a7fa3f4893beb432b4a06ef222</td>\n",
       "      <td>palm-2</td>\n",
       "      <td>2</td>\n",
       "      <td>English</td>\n",
       "      <td>False</td>\n",
       "      <td>The sum of the perimeters of three equal squar...</td>\n",
       "      <td>user</td>\n",
       "      <td>False</td>\n",
       "      <td>False</td>\n",
       "      <td>False</td>\n",
       "      <td>...</td>\n",
       "      <td>4.603441e-11</td>\n",
       "      <td>8.869029e-12</td>\n",
       "      <td>8.679583e-13</td>\n",
       "      <td>4.337592e-07</td>\n",
       "      <td>5.362093e-07</td>\n",
       "      <td>0.000003</td>\n",
       "      <td>0.000001</td>\n",
       "      <td>33</td>\n",
       "      <td>9.274269</td>\n",
       "      <td>-2.572014</td>\n",
       "    </tr>\n",
       "  </tbody>\n",
       "</table>\n",
       "<p>5 rows × 33 columns</p>\n",
       "</div>"
      ],
      "text/plain": [
       "                     conversation_id         model  turn language  redacted  \\\n",
       "0   33f01939a744455c869cb234afca47f1  wizardlm-13b     1  English     False   \n",
       "1   33f01939a744455c869cb234afca47f1  wizardlm-13b     1  English     False   \n",
       "14  0f623736051f4a48a506fd5933563cfd    vicuna-13b     1  English     False   \n",
       "15  0f623736051f4a48a506fd5933563cfd    vicuna-13b     1  English     False   \n",
       "16  e5c923a7fa3f4893beb432b4a06ef222        palm-2     2  English     False   \n",
       "\n",
       "                                              content       role  flagged  \\\n",
       "0   how can identity protection services help prot...       user    False   \n",
       "1   Identity protection services can help protect ...  assistant    False   \n",
       "14  You are the text completion model and you must...       user    False   \n",
       "15  To append many items to a list in Python, you ...  assistant    False   \n",
       "16  The sum of the perimeters of three equal squar...       user    False   \n",
       "\n",
       "    harassment  harassment/threatening  ...  category_scores.self-harm  \\\n",
       "0        False                   False  ...               1.925786e-07   \n",
       "1        False                   False  ...               3.206958e-08   \n",
       "14       False                   False  ...               3.753894e-08   \n",
       "15       False                   False  ...               1.561164e-07   \n",
       "16       False                   False  ...               4.603441e-11   \n",
       "\n",
       "    category_scores.self-harm/instructions  category_scores.self-harm/intent  \\\n",
       "0                             6.502832e-08                      2.752596e-07   \n",
       "1                             2.724723e-07                      2.288161e-07   \n",
       "14                            1.407108e-06                      2.852089e-08   \n",
       "15                            1.139542e-07                      4.520061e-08   \n",
       "16                            8.869029e-12                      8.679583e-13   \n",
       "\n",
       "    category_scores.sexual  category_scores.sexual/minors  \\\n",
       "0             2.564017e-06                   4.523274e-07   \n",
       "1             3.354237e-05                   8.753010e-07   \n",
       "14            2.172552e-05                   1.706940e-06   \n",
       "15            2.030380e-06                   3.777813e-07   \n",
       "16            4.337592e-07                   5.362093e-07   \n",
       "\n",
       "    category_scores.violence  category_scores.violence/graphic  num_of_tokens  \\\n",
       "0                   0.000023                          0.000002             11   \n",
       "1                   0.000109                          0.000006            231   \n",
       "14                  0.000048                          0.000001             77   \n",
       "15                  0.000008                          0.000005            237   \n",
       "16                  0.000003                          0.000001             33   \n",
       "\n",
       "            x         y  \n",
       "0    7.932804 -1.750588  \n",
       "1    7.935154 -1.743831  \n",
       "14   6.918180 -9.107648  \n",
       "15  10.406874  8.951334  \n",
       "16   9.274269 -2.572014  \n",
       "\n",
       "[5 rows x 33 columns]"
      ]
     },
     "execution_count": 16,
     "metadata": {},
     "output_type": "execute_result"
    }
   ],
   "source": [
    "df = dacc.saves['lmsys_with_planar_embeddings_pca500.parquet']\n",
    "print(f\"{df.shape=}\")\n",
    "df.head()"
   ]
  },
  {
   "cell_type": "code",
   "execution_count": 18,
   "metadata": {},
   "outputs": [],
   "source": [
    "df['clusters_07'] = clusters_07\n",
    "df['clusters_14'] = clusters_14\n",
    "df['clusters_28'] = clusters_28\n",
    "dacc.saves['lmsys_with_planar_embeddings_pca500.parquet'] = df"
   ]
  },
  {
   "cell_type": "code",
   "execution_count": 4,
   "metadata": {},
   "outputs": [],
   "source": [
    "from imbed.mdat.lmsys_ai_conversations import mk_dacc\n",
    "from sklearn.preprocessing import StandardScaler\n",
    "\n",
    "dacc = mk_dacc()"
   ]
  },
  {
   "cell_type": "code",
   "execution_count": 2,
   "metadata": {},
   "outputs": [],
   "source": [
    "df = dacc.saves['lmsys_with_planar_embeddings_pca500.parquet']"
   ]
  },
  {
   "cell_type": "code",
   "execution_count": 5,
   "metadata": {},
   "outputs": [],
   "source": [
    "dacc.saves['lmsys_with_planar_embeddings_pca500.tsv'] = df"
   ]
  },
  {
   "cell_type": "code",
   "execution_count": null,
   "metadata": {},
   "outputs": [],
   "source": []
  },
  {
   "cell_type": "code",
   "execution_count": 6,
   "metadata": {},
   "outputs": [],
   "source": []
  },
  {
   "cell_type": "markdown",
   "metadata": {},
   "source": [
    "### dbscan"
   ]
  },
  {
   "cell_type": "code",
   "execution_count": 40,
   "metadata": {},
   "outputs": [
    {
     "data": {
      "text/plain": [
       "array(DBSCAN(eps=0.3, min_samples=10), dtype=object)"
      ]
     },
     "execution_count": 40,
     "metadata": {},
     "output_type": "execute_result"
    }
   ],
   "source": [
    "dbscan = dacc.saves['dbscan_pca100.npy']\n",
    "dbscan"
   ]
  },
  {
   "cell_type": "code",
   "execution_count": 41,
   "metadata": {},
   "outputs": [],
   "source": [
    "import numpy as np\n",
    "\n",
    "f = '/Users/thorwhalen/Dropbox/_odata/app_data/imbed/saves/lmsys-chat-1m/dbscan_pca100.npy'\n",
    "\n",
    "dbscan = np.load(f, allow_pickle=True)"
   ]
  },
  {
   "cell_type": "code",
   "execution_count": 8,
   "metadata": {},
   "outputs": [
    {
     "data": {
      "text/plain": [
       "array([-1, -1, -1, ..., -1, -1, -1])"
      ]
     },
     "execution_count": 8,
     "metadata": {},
     "output_type": "execute_result"
    }
   ],
   "source": [
    "dacc.saves['dbscan_0.7_1000_pca100.pkl'].labels_"
   ]
  },
  {
   "cell_type": "code",
   "execution_count": 11,
   "metadata": {},
   "outputs": [
    {
     "name": "stdout",
     "output_type": "stream",
     "text": [
      "25\n"
     ]
    },
    {
     "data": {
      "text/plain": [
       "[(-1, 2756949),\n",
       " (4, 10779),\n",
       " (1, 8798),\n",
       " (2, 8728),\n",
       " (10, 6750),\n",
       " (5, 5933),\n",
       " (3, 5731),\n",
       " (9, 5443),\n",
       " (8, 3254),\n",
       " (15, 2308),\n",
       " (17, 2271),\n",
       " (0, 1924),\n",
       " (6, 1774),\n",
       " (20, 1585),\n",
       " (19, 1504),\n",
       " (23, 1304),\n",
       " (14, 1253),\n",
       " (7, 1228),\n",
       " (13, 1218),\n",
       " (18, 1211),\n",
       " (16, 1173),\n",
       " (12, 1151),\n",
       " (11, 1086),\n",
       " (21, 1083),\n",
       " (22, 1052)]"
      ]
     },
     "execution_count": 11,
     "metadata": {},
     "output_type": "execute_result"
    }
   ],
   "source": [
    "from collections import Counter\n",
    "\n",
    "labels = dacc.saves['dbscan_0.7_1000_pca100.pkl'].labels_\n",
    "c = Counter(labels)\n",
    "print(f\"{len(c)}\")\n",
    "c.most_common()"
   ]
  },
  {
   "cell_type": "code",
   "execution_count": null,
   "metadata": {},
   "outputs": [],
   "source": []
  },
  {
   "cell_type": "markdown",
   "metadata": {},
   "source": [
    "### PCA analysis"
   ]
  },
  {
   "cell_type": "code",
   "execution_count": 4,
   "metadata": {},
   "outputs": [
    {
     "data": {
      "text/plain": [
       "Text(0, 0.5, 'cumulative explained variance')"
      ]
     },
     "execution_count": 4,
     "metadata": {},
     "output_type": "execute_result"
    },
    {
     "data": {
      "image/png": "[encoded data removed]",
      "text/plain": [
       "<Figure size 640x480 with 1 Axes>"
      ]
     },
     "metadata": {},
     "output_type": "display_data"
    }
   ],
   "source": [
    "# compute the PCA of the embeddings and plot the cumulative explained variance\n",
    "# from sklearn.decomposition import IncrementalPCA\n",
    "# import matplotlib.pyplot as plt\n",
    "# from lkj import print_progress\n",
    "# from functools import partial\n",
    "\n",
    "# _print_progress = partial(print_progress, refresh=True)\n",
    "\n",
    "# pca = IncrementalPCA(n_components=100)\n",
    "\n",
    "# # fit the PCA by chunks\n",
    "# chk_size = 10_000\n",
    "# n = len(X)\n",
    "# for i in range(0, n, chk_size):\n",
    "#     # print progress on the same line\n",
    "#     _print_progress(f\"{i}/{n}\")\n",
    "#     X_chunk = X[i:(i + chk_size)]\n",
    "#     pca.partial_fit(X_chunk)\n",
    "\n",
    "\n",
    "import matplotlib.pyplot as plt\n",
    "import numpy as np\n",
    "\n",
    "# you can make and save the pca by running compute_and_save_embeddings_pca (has CLI)\n",
    "# from imbed.mdat.lmsys_ai_conversations import compute_and_save_embeddings_pca\n",
    "pca = dacc.saves['pca.pkl']\n",
    "\n",
    "plt.plot(np.cumsum(pca.explained_variance_ratio_))\n",
    "plt.xlabel('number of components')\n",
    "plt.ylabel('cumulative explained variance')\n",
    "\n"
   ]
  },
  {
   "cell_type": "code",
   "execution_count": 7,
   "metadata": {},
   "outputs": [
    {
     "data": {
      "text/plain": [
       "(1000, 4)"
      ]
     },
     "execution_count": 7,
     "metadata": {},
     "output_type": "execute_result"
    }
   ],
   "source": [
    "from imbed.mdat.lmsys_ai_conversations import mk_dacc\n",
    "dacc = mk_dacc()\n",
    "dacc.saves['flat_en_embeddings/2834.parquet'].shape"
   ]
  },
  {
   "cell_type": "markdown",
   "metadata": {},
   "source": [
    "# ncvis"
   ]
  },
  {
   "cell_type": "code",
   "execution_count": null,
   "metadata": {},
   "outputs": [],
   "source": [
    "# to make pca500_embeddings.npy\n",
    "# from imbed.mdat.lmsys_ai_conversations import compute_and_save_pca_of_embeddings\n",
    "# compute_and_save_pca_of_embeddings()  # also in CLI"
   ]
  },
  {
   "cell_type": "code",
   "execution_count": null,
   "metadata": {},
   "outputs": [],
   "source": [
    "# to make pca500_embeddings.npy\n",
    "# from imbed.mdat.lmsys_ai_conversations import compute_and_save_ncvis_planar_embeddings\n",
    "# planar_embeddings = compute_and_save_ncvis_planar_embeddings()  # also in CLI"
   ]
  },
  {
   "cell_type": "code",
   "execution_count": 8,
   "metadata": {},
   "outputs": [],
   "source": [
    "from imbed.mdat.lmsys_ai_conversations import mk_dacc\n",
    "dacc = mk_dacc()\n",
    "\n",
    "df = dacc.saves['lmsys_with_planar_embeddings_pca500.parquet']\n",
    "ncvis_pca500_embeddings = dacc.saves['ncvis_planar_pca500_embeddings.npy']"
   ]
  },
  {
   "cell_type": "code",
   "execution_count": 11,
   "metadata": {},
   "outputs": [
    {
     "data": {
      "text/plain": [
       "((2835490, 36), (2835490, 2))"
      ]
     },
     "execution_count": 11,
     "metadata": {},
     "output_type": "execute_result"
    }
   ],
   "source": [
    "assert len(df) == len(ncvis_pca500_embeddings)\n",
    "df.shape, ncvis_pca500_embeddings.shape"
   ]
  },
  {
   "cell_type": "code",
   "execution_count": 12,
   "metadata": {},
   "outputs": [
    {
     "data": {
      "text/html": [
       "<div>\n",
       "<style scoped>\n",
       "    .dataframe tbody tr th:only-of-type {\n",
       "        vertical-align: middle;\n",
       "    }\n",
       "\n",
       "    .dataframe tbody tr th {\n",
       "        vertical-align: top;\n",
       "    }\n",
       "\n",
       "    .dataframe thead th {\n",
       "        text-align: right;\n",
       "    }\n",
       "</style>\n",
       "<table border=\"1\" class=\"dataframe\">\n",
       "  <thead>\n",
       "    <tr style=\"text-align: right;\">\n",
       "      <th></th>\n",
       "      <th>conversation_id</th>\n",
       "      <th>model</th>\n",
       "      <th>turn</th>\n",
       "      <th>language</th>\n",
       "      <th>redacted</th>\n",
       "      <th>content</th>\n",
       "      <th>role</th>\n",
       "      <th>flagged</th>\n",
       "      <th>harassment</th>\n",
       "      <th>harassment/threatening</th>\n",
       "      <th>...</th>\n",
       "      <th>category_scores.sexual</th>\n",
       "      <th>category_scores.sexual/minors</th>\n",
       "      <th>category_scores.violence</th>\n",
       "      <th>category_scores.violence/graphic</th>\n",
       "      <th>num_of_tokens</th>\n",
       "      <th>x</th>\n",
       "      <th>y</th>\n",
       "      <th>clusters_07</th>\n",
       "      <th>clusters_14</th>\n",
       "      <th>clusters_28</th>\n",
       "    </tr>\n",
       "  </thead>\n",
       "  <tbody>\n",
       "    <tr>\n",
       "      <th>0</th>\n",
       "      <td>33f01939a744455c869cb234afca47f1</td>\n",
       "      <td>wizardlm-13b</td>\n",
       "      <td>1</td>\n",
       "      <td>English</td>\n",
       "      <td>False</td>\n",
       "      <td>how can identity protection services help prot...</td>\n",
       "      <td>user</td>\n",
       "      <td>False</td>\n",
       "      <td>False</td>\n",
       "      <td>False</td>\n",
       "      <td>...</td>\n",
       "      <td>0.000003</td>\n",
       "      <td>4.523274e-07</td>\n",
       "      <td>0.000023</td>\n",
       "      <td>0.000002</td>\n",
       "      <td>11</td>\n",
       "      <td>7.932804</td>\n",
       "      <td>-1.750588</td>\n",
       "      <td>4</td>\n",
       "      <td>4</td>\n",
       "      <td>15</td>\n",
       "    </tr>\n",
       "    <tr>\n",
       "      <th>1</th>\n",
       "      <td>33f01939a744455c869cb234afca47f1</td>\n",
       "      <td>wizardlm-13b</td>\n",
       "      <td>1</td>\n",
       "      <td>English</td>\n",
       "      <td>False</td>\n",
       "      <td>Identity protection services can help protect ...</td>\n",
       "      <td>assistant</td>\n",
       "      <td>False</td>\n",
       "      <td>False</td>\n",
       "      <td>False</td>\n",
       "      <td>...</td>\n",
       "      <td>0.000034</td>\n",
       "      <td>8.753010e-07</td>\n",
       "      <td>0.000109</td>\n",
       "      <td>0.000006</td>\n",
       "      <td>231</td>\n",
       "      <td>7.935154</td>\n",
       "      <td>-1.743831</td>\n",
       "      <td>5</td>\n",
       "      <td>4</td>\n",
       "      <td>15</td>\n",
       "    </tr>\n",
       "    <tr>\n",
       "      <th>14</th>\n",
       "      <td>0f623736051f4a48a506fd5933563cfd</td>\n",
       "      <td>vicuna-13b</td>\n",
       "      <td>1</td>\n",
       "      <td>English</td>\n",
       "      <td>False</td>\n",
       "      <td>You are the text completion model and you must...</td>\n",
       "      <td>user</td>\n",
       "      <td>False</td>\n",
       "      <td>False</td>\n",
       "      <td>False</td>\n",
       "      <td>...</td>\n",
       "      <td>0.000022</td>\n",
       "      <td>1.706940e-06</td>\n",
       "      <td>0.000048</td>\n",
       "      <td>0.000001</td>\n",
       "      <td>77</td>\n",
       "      <td>6.918180</td>\n",
       "      <td>-9.107648</td>\n",
       "      <td>0</td>\n",
       "      <td>13</td>\n",
       "      <td>20</td>\n",
       "    </tr>\n",
       "  </tbody>\n",
       "</table>\n",
       "<p>3 rows × 36 columns</p>\n",
       "</div>"
      ],
      "text/plain": [
       "                     conversation_id         model  turn language  redacted  \\\n",
       "0   33f01939a744455c869cb234afca47f1  wizardlm-13b     1  English     False   \n",
       "1   33f01939a744455c869cb234afca47f1  wizardlm-13b     1  English     False   \n",
       "14  0f623736051f4a48a506fd5933563cfd    vicuna-13b     1  English     False   \n",
       "\n",
       "                                              content       role  flagged  \\\n",
       "0   how can identity protection services help prot...       user    False   \n",
       "1   Identity protection services can help protect ...  assistant    False   \n",
       "14  You are the text completion model and you must...       user    False   \n",
       "\n",
       "    harassment  harassment/threatening  ...  category_scores.sexual  \\\n",
       "0        False                   False  ...                0.000003   \n",
       "1        False                   False  ...                0.000034   \n",
       "14       False                   False  ...                0.000022   \n",
       "\n",
       "    category_scores.sexual/minors  category_scores.violence  \\\n",
       "0                    4.523274e-07                  0.000023   \n",
       "1                    8.753010e-07                  0.000109   \n",
       "14                   1.706940e-06                  0.000048   \n",
       "\n",
       "    category_scores.violence/graphic  num_of_tokens         x         y  \\\n",
       "0                           0.000002             11  7.932804 -1.750588   \n",
       "1                           0.000006            231  7.935154 -1.743831   \n",
       "14                          0.000001             77  6.918180 -9.107648   \n",
       "\n",
       "    clusters_07  clusters_14  clusters_28  \n",
       "0             4            4           15  \n",
       "1             5            4           15  \n",
       "14            0           13           20  \n",
       "\n",
       "[3 rows x 36 columns]"
      ]
     },
     "execution_count": 12,
     "metadata": {},
     "output_type": "execute_result"
    }
   ],
   "source": [
    "df.head(3)"
   ]
  },
  {
   "cell_type": "code",
   "execution_count": 13,
   "metadata": {},
   "outputs": [
    {
     "data": {
      "text/html": [
       "<div>\n",
       "<style scoped>\n",
       "    .dataframe tbody tr th:only-of-type {\n",
       "        vertical-align: middle;\n",
       "    }\n",
       "\n",
       "    .dataframe tbody tr th {\n",
       "        vertical-align: top;\n",
       "    }\n",
       "\n",
       "    .dataframe thead th {\n",
       "        text-align: right;\n",
       "    }\n",
       "</style>\n",
       "<table border=\"1\" class=\"dataframe\">\n",
       "  <thead>\n",
       "    <tr style=\"text-align: right;\">\n",
       "      <th></th>\n",
       "      <th>conversation_id</th>\n",
       "      <th>model</th>\n",
       "      <th>turn</th>\n",
       "      <th>language</th>\n",
       "      <th>redacted</th>\n",
       "      <th>content</th>\n",
       "      <th>role</th>\n",
       "      <th>flagged</th>\n",
       "      <th>harassment</th>\n",
       "      <th>harassment/threatening</th>\n",
       "      <th>...</th>\n",
       "      <th>category_scores.violence</th>\n",
       "      <th>category_scores.violence/graphic</th>\n",
       "      <th>num_of_tokens</th>\n",
       "      <th>x_umap</th>\n",
       "      <th>y_umap</th>\n",
       "      <th>clusters_07</th>\n",
       "      <th>clusters_14</th>\n",
       "      <th>clusters_28</th>\n",
       "      <th>x_ncvis</th>\n",
       "      <th>y_ncvis</th>\n",
       "    </tr>\n",
       "  </thead>\n",
       "  <tbody>\n",
       "    <tr>\n",
       "      <th>0</th>\n",
       "      <td>33f01939a744455c869cb234afca47f1</td>\n",
       "      <td>wizardlm-13b</td>\n",
       "      <td>1</td>\n",
       "      <td>English</td>\n",
       "      <td>False</td>\n",
       "      <td>how can identity protection services help prot...</td>\n",
       "      <td>user</td>\n",
       "      <td>False</td>\n",
       "      <td>False</td>\n",
       "      <td>False</td>\n",
       "      <td>...</td>\n",
       "      <td>0.000023</td>\n",
       "      <td>0.000002</td>\n",
       "      <td>11</td>\n",
       "      <td>7.932804</td>\n",
       "      <td>-1.750588</td>\n",
       "      <td>4</td>\n",
       "      <td>4</td>\n",
       "      <td>15</td>\n",
       "      <td>-13.981679</td>\n",
       "      <td>-5.530225</td>\n",
       "    </tr>\n",
       "    <tr>\n",
       "      <th>1</th>\n",
       "      <td>33f01939a744455c869cb234afca47f1</td>\n",
       "      <td>wizardlm-13b</td>\n",
       "      <td>1</td>\n",
       "      <td>English</td>\n",
       "      <td>False</td>\n",
       "      <td>Identity protection services can help protect ...</td>\n",
       "      <td>assistant</td>\n",
       "      <td>False</td>\n",
       "      <td>False</td>\n",
       "      <td>False</td>\n",
       "      <td>...</td>\n",
       "      <td>0.000109</td>\n",
       "      <td>0.000006</td>\n",
       "      <td>231</td>\n",
       "      <td>7.935154</td>\n",
       "      <td>-1.743831</td>\n",
       "      <td>5</td>\n",
       "      <td>4</td>\n",
       "      <td>15</td>\n",
       "      <td>-1.124765</td>\n",
       "      <td>12.802612</td>\n",
       "    </tr>\n",
       "    <tr>\n",
       "      <th>14</th>\n",
       "      <td>0f623736051f4a48a506fd5933563cfd</td>\n",
       "      <td>vicuna-13b</td>\n",
       "      <td>1</td>\n",
       "      <td>English</td>\n",
       "      <td>False</td>\n",
       "      <td>You are the text completion model and you must...</td>\n",
       "      <td>user</td>\n",
       "      <td>False</td>\n",
       "      <td>False</td>\n",
       "      <td>False</td>\n",
       "      <td>...</td>\n",
       "      <td>0.000048</td>\n",
       "      <td>0.000001</td>\n",
       "      <td>77</td>\n",
       "      <td>6.918180</td>\n",
       "      <td>-9.107648</td>\n",
       "      <td>0</td>\n",
       "      <td>13</td>\n",
       "      <td>20</td>\n",
       "      <td>-24.963064</td>\n",
       "      <td>-14.830527</td>\n",
       "    </tr>\n",
       "  </tbody>\n",
       "</table>\n",
       "<p>3 rows × 38 columns</p>\n",
       "</div>"
      ],
      "text/plain": [
       "                     conversation_id         model  turn language  redacted  \\\n",
       "0   33f01939a744455c869cb234afca47f1  wizardlm-13b     1  English     False   \n",
       "1   33f01939a744455c869cb234afca47f1  wizardlm-13b     1  English     False   \n",
       "14  0f623736051f4a48a506fd5933563cfd    vicuna-13b     1  English     False   \n",
       "\n",
       "                                              content       role  flagged  \\\n",
       "0   how can identity protection services help prot...       user    False   \n",
       "1   Identity protection services can help protect ...  assistant    False   \n",
       "14  You are the text completion model and you must...       user    False   \n",
       "\n",
       "    harassment  harassment/threatening  ...  category_scores.violence  \\\n",
       "0        False                   False  ...                  0.000023   \n",
       "1        False                   False  ...                  0.000109   \n",
       "14       False                   False  ...                  0.000048   \n",
       "\n",
       "    category_scores.violence/graphic  num_of_tokens    x_umap    y_umap  \\\n",
       "0                           0.000002             11  7.932804 -1.750588   \n",
       "1                           0.000006            231  7.935154 -1.743831   \n",
       "14                          0.000001             77  6.918180 -9.107648   \n",
       "\n",
       "    clusters_07  clusters_14  clusters_28    x_ncvis    y_ncvis  \n",
       "0             4            4           15 -13.981679  -5.530225  \n",
       "1             5            4           15  -1.124765  12.802612  \n",
       "14            0           13           20 -24.963064 -14.830527  \n",
       "\n",
       "[3 rows x 38 columns]"
      ]
     },
     "execution_count": 13,
     "metadata": {},
     "output_type": "execute_result"
    }
   ],
   "source": [
    "# rename x and y of df to x_umap and y_umap\n",
    "df = df.rename(columns={'x': 'x_umap', 'y': 'y_umap'})\n",
    "# add the ncvis embeddings to the df as x_ncvis and y_ncvis\n",
    "df['x_ncvis'] = ncvis_pca500_embeddings[:, 0]\n",
    "df['y_ncvis'] = ncvis_pca500_embeddings[:, 1]\n",
    "df.head(3)"
   ]
  },
  {
   "cell_type": "code",
   "execution_count": 14,
   "metadata": {},
   "outputs": [],
   "source": [
    "dacc.saves['lmsys_with_planar_embeddings_pca500.parquet'] = df"
   ]
  },
  {
   "cell_type": "code",
   "execution_count": 20,
   "metadata": {},
   "outputs": [],
   "source": [
    "# make a light(er) version of the df\n",
    "light_df = df[\n",
    "    [\n",
    "        'redacted', 'role', 'flagged', 'num_of_tokens', \n",
    "        'x_ncvis', 'y_ncvis', \n",
    "        'clusters_07', 'clusters_14', 'clusters_28',\n",
    "    ]\n",
    "].reset_index()\n",
    "light_df = light_df.rename(columns={'index': 'id'})  # because of current cosmo limitation\n",
    "light_df = light_df.rename(columns={'x_ncvis': 'x', 'y_ncvis': 'y'})  # because of current cosmo limitation\n",
    "dacc.saves['lmsys_with_planar_embeddings_pca500_light.tsv'] = light_df\n"
   ]
  },
  {
   "cell_type": "code",
   "execution_count": 12,
   "metadata": {},
   "outputs": [
    {
     "data": {
      "text/html": [
       "<div>\n",
       "<style scoped>\n",
       "    .dataframe tbody tr th:only-of-type {\n",
       "        vertical-align: middle;\n",
       "    }\n",
       "\n",
       "    .dataframe tbody tr th {\n",
       "        vertical-align: top;\n",
       "    }\n",
       "\n",
       "    .dataframe thead th {\n",
       "        text-align: right;\n",
       "    }\n",
       "</style>\n",
       "<table border=\"1\" class=\"dataframe\">\n",
       "  <thead>\n",
       "    <tr style=\"text-align: right;\">\n",
       "      <th></th>\n",
       "      <th>t</th>\n",
       "      <th>tt</th>\n",
       "      <th>ttt</th>\n",
       "    </tr>\n",
       "  </thead>\n",
       "  <tbody>\n",
       "    <tr>\n",
       "      <th>0</th>\n",
       "      <td>-0.0067</td>\n",
       "      <td>-0.0127</td>\n",
       "      <td>-0.0678</td>\n",
       "    </tr>\n",
       "    <tr>\n",
       "      <th>1</th>\n",
       "      <td>-0.0392</td>\n",
       "      <td>-0.0743</td>\n",
       "      <td>-0.3958</td>\n",
       "    </tr>\n",
       "    <tr>\n",
       "      <th>2</th>\n",
       "      <td>0.0342</td>\n",
       "      <td>0.0648</td>\n",
       "      <td>0.3451</td>\n",
       "    </tr>\n",
       "    <tr>\n",
       "      <th>3</th>\n",
       "      <td>0.0288</td>\n",
       "      <td>0.0545</td>\n",
       "      <td>0.2904</td>\n",
       "    </tr>\n",
       "    <tr>\n",
       "      <th>4</th>\n",
       "      <td>-0.0248</td>\n",
       "      <td>-0.0470</td>\n",
       "      <td>-0.2503</td>\n",
       "    </tr>\n",
       "  </tbody>\n",
       "</table>\n",
       "</div>"
      ],
      "text/plain": [
       "        t      tt     ttt\n",
       "0 -0.0067 -0.0127 -0.0678\n",
       "1 -0.0392 -0.0743 -0.3958\n",
       "2  0.0342  0.0648  0.3451\n",
       "3  0.0288  0.0545  0.2904\n",
       "4 -0.0248 -0.0470 -0.2503"
      ]
     },
     "execution_count": 12,
     "metadata": {},
     "output_type": "execute_result"
    }
   ],
   "source": [
    "import oa\n",
    "import pandas as pd\n",
    "\n",
    "t = oa.embeddings('hello world', model='text-embedding-3-small')\n",
    "tt = oa.embeddings('hello world', model='text-embedding-3-small', dimensions=256)\n",
    "ttt = oa.embeddings('hello world', model='text-embedding-3-small', dimensions=10)\n",
    "\n",
    "pd.DataFrame(\n",
    "    {'t': t[:5], 'tt': tt[:5], 'ttt': ttt[:5],}\n",
    ").map(lambda x: round(x, 4))\n"
   ]
  },
  {
   "cell_type": "code",
   "execution_count": 11,
   "metadata": {},
   "outputs": [
    {
     "name": "stderr",
     "output_type": "stream",
     "text": [
      "/var/folders/mc/c070wfh51kxd9lft8dl74q1r0000gn/T/ipykernel_59856/2000160816.py:12: FutureWarning: DataFrame.applymap has been deprecated. Use DataFrame.map instead.\n",
      "  ).applymap(lambda x: round(x, 4))\n"
     ]
    },
    {
     "data": {
      "text/html": [
       "<div>\n",
       "<style scoped>\n",
       "    .dataframe tbody tr th:only-of-type {\n",
       "        vertical-align: middle;\n",
       "    }\n",
       "\n",
       "    .dataframe tbody tr th {\n",
       "        vertical-align: top;\n",
       "    }\n",
       "\n",
       "    .dataframe thead th {\n",
       "        text-align: right;\n",
       "    }\n",
       "</style>\n",
       "<table border=\"1\" class=\"dataframe\">\n",
       "  <thead>\n",
       "    <tr style=\"text-align: right;\">\n",
       "      <th></th>\n",
       "      <th>t</th>\n",
       "      <th>tt</th>\n",
       "      <th>ttt</th>\n",
       "    </tr>\n",
       "  </thead>\n",
       "  <tbody>\n",
       "    <tr>\n",
       "      <th>0</th>\n",
       "      <td>-0.0067</td>\n",
       "      <td>-0.0127</td>\n",
       "      <td>-0.0678</td>\n",
       "    </tr>\n",
       "    <tr>\n",
       "      <th>1</th>\n",
       "      <td>-0.0392</td>\n",
       "      <td>-0.0743</td>\n",
       "      <td>-0.3958</td>\n",
       "    </tr>\n",
       "    <tr>\n",
       "      <th>2</th>\n",
       "      <td>0.0342</td>\n",
       "      <td>0.0647</td>\n",
       "      <td>0.3451</td>\n",
       "    </tr>\n",
       "    <tr>\n",
       "      <th>3</th>\n",
       "      <td>0.0288</td>\n",
       "      <td>0.0544</td>\n",
       "      <td>0.2904</td>\n",
       "    </tr>\n",
       "    <tr>\n",
       "      <th>4</th>\n",
       "      <td>-0.0248</td>\n",
       "      <td>-0.0470</td>\n",
       "      <td>-0.2503</td>\n",
       "    </tr>\n",
       "  </tbody>\n",
       "</table>\n",
       "</div>"
      ],
      "text/plain": [
       "        t      tt     ttt\n",
       "0 -0.0067 -0.0127 -0.0678\n",
       "1 -0.0392 -0.0743 -0.3958\n",
       "2  0.0342  0.0647  0.3451\n",
       "3  0.0288  0.0544  0.2904\n",
       "4 -0.0248 -0.0470 -0.2503"
      ]
     },
     "execution_count": 11,
     "metadata": {},
     "output_type": "execute_result"
    }
   ],
   "source": [
    "import oa\n",
    "\n",
    "t = oa.embeddings('hello world', model='text-embedding-3-small')\n",
    "tt = oa.embeddings('hello world', model='text-embedding-3-small', dimensions=256)\n",
    "ttt = oa.embeddings('hello world', model='text-embedding-3-small', dimensions=10)\n",
    "\n",
    "# make a dataframe with t[:5], tt[:5], ttt[:5], keeping only 4 significant digits\n",
    "import pandas as pd\n",
    "\n",
    "pd.DataFrame(\n",
    "    {'t': t[:5], 'tt': tt[:5], 'ttt': ttt[:5],}\n",
    ").applymap(lambda x: round(x, 4))"
   ]
  },
  {
   "cell_type": "code",
   "execution_count": null,
   "metadata": {},
   "outputs": [],
   "source": [
    "\n",
    "t = oa.embeddings('hello world', model='text-embedding-3-small')\n",
    "tt = oa.embeddings('hello world', model='text-embedding-3-small', dimensions=256)\n",
    "ttt = oa.embeddings('hello world', model='text-embedding-3-small', dimensions=10)\n"
   ]
  },
  {
   "cell_type": "code",
   "execution_count": 4,
   "metadata": {},
   "outputs": [
    {
     "data": {
      "text/plain": [
       "<module 'posixpath' from '/Users/thorwhalen/.pyenv/versions/3.10.13/lib/python3.10/posixpath.py'>"
      ]
     },
     "execution_count": 4,
     "metadata": {},
     "output_type": "execute_result"
    }
   ],
   "source": [
    "import os\n",
    "os.path"
   ]
  },
  {
   "cell_type": "code",
   "execution_count": 8,
   "metadata": {},
   "outputs": [
    {
     "data": {
      "text/plain": [
       "'.world'"
      ]
     },
     "execution_count": 8,
     "metadata": {},
     "output_type": "execute_result"
    }
   ],
   "source": [
    "from posixpath import splitext\n",
    "\n",
    "def get_extension(k):\n",
    "    return splitext(k)[1]\n",
    "\n",
    "get_extension('hello.world')\n",
    "\n"
   ]
  },
  {
   "cell_type": "markdown",
   "metadata": {},
   "source": [
    "### ncvis scrap"
   ]
  },
  {
   "cell_type": "code",
   "execution_count": null,
   "metadata": {},
   "outputs": [],
   "source": [
    "import ncvis\n",
    "\n",
    "vis = ncvis.NCVis(d=2, distance='cosine')\n",
    "ncvis_planar_embeddings = vis.fit_transform(X)"
   ]
  },
  {
   "cell_type": "code",
   "execution_count": 2,
   "metadata": {},
   "outputs": [
    {
     "data": {
      "text/plain": [
       "['flat_en_conversation_grouped_embeddings.parquet',\n",
       " 'lmsys_with_planar_embeddings_pca500 2.tsv.zip',\n",
       " 'planar_embeddings_for_a_forth_of_data.parquet',\n",
       " 'planar_embeddings_for_a_forth_of_data.tsv.zip',\n",
       " '_probably_can_delete__dbscan_0.7_1000_pca100.pkl',\n",
       " 'Icon\\r',\n",
       " 'planar_embeddings_grouped.tsv',\n",
       " 'planar_embeddings_for_a_forth_of_data.tsv',\n",
       " 'planar_embeddings_grouped.pkl',\n",
       " 'kmeans_7_clusters_indices.pkl',\n",
       " 'lmsys_with_planar_embeddings_pca500.parquet copy',\n",
       " 'planar_embeddings_pca500.npy',\n",
       " 'lmsys_with_planar_embeddings_pca500.parquet',\n",
       " 'planar_embeddings_of_grouped_conversations_with_metadata.tsv.zip',\n",
       " 'lmsys_with_planar_embeddings_pca500.tsv.zip',\n",
       " 'kmeans_14_clusters_indices.pkl',\n",
       " 'num_of_tokens.pkl',\n",
       " 'dbscan_7_kmeans.pkl',\n",
       " 'planar_embeddings_of_grouped_conversations_with_metadata.tsv',\n",
       " 'planar_embeddings_first_forth.npy',\n",
       " 'flat_en.parquet',\n",
       " 'flat_en_embeddings_pca100.npy',\n",
       " 'kmeans_28_clusters_indices.pkl',\n",
       " 'pca_model.pkl',\n",
       " 'conversation_paths.tsv']"
      ]
     },
     "execution_count": 2,
     "metadata": {},
     "output_type": "execute_result"
    }
   ],
   "source": [
    "list(filter(lambda x: '/' not in x, dacc.saves))"
   ]
  },
  {
   "cell_type": "code",
   "execution_count": null,
   "metadata": {},
   "outputs": [],
   "source": [
    "# To compute the incremental PCA, run compute_and_save_incremental_pca\n",
    "# from imbed.mdat.lmsys_ai_conversations import compute_and_save_incremental_pca\n",
    "# compute_and_save_incremental_pca()  # also exists as a CLI"
   ]
  },
  {
   "cell_type": "code",
   "execution_count": 8,
   "metadata": {},
   "outputs": [
    {
     "data": {
      "text/plain": [
       "<Sig (d=2, n_threads=-1, n_neighbors=15, M=8, ef_construction=100, random_seed=42, n_epochs=50, n_init_epochs=20, spread=1.0, min_dist=0.4, a=None, b=None, alpha=1.0, alpha_Q=1.0, n_noise=None, distance='euclidean')>"
      ]
     },
     "execution_count": 8,
     "metadata": {},
     "output_type": "execute_result"
    }
   ],
   "source": [
    "from i2 import Sig\n",
    "import ncvis\n",
    "\n",
    "Sig(ncvis.NCVis)"
   ]
  },
  {
   "cell_type": "code",
   "execution_count": 10,
   "metadata": {},
   "outputs": [],
   "source": [
    "import ncvis\n",
    "\n",
    "vis = ncvis.NCVis(d=2, distance='cosine')"
   ]
  },
  {
   "cell_type": "code",
   "execution_count": 11,
   "metadata": {},
   "outputs": [],
   "source": [
    "ncvis_planar_embeddings = vis.fit_transform(X)"
   ]
  },
  {
   "cell_type": "code",
   "execution_count": 3,
   "metadata": {},
   "outputs": [],
   "source": [
    "from imbed.mdat.lmsys_ai_conversations import mk_dacc\n"
   ]
  },
  {
   "cell_type": "code",
   "execution_count": null,
   "metadata": {},
   "outputs": [],
   "source": []
  },
  {
   "cell_type": "markdown",
   "metadata": {},
   "source": [
    "# WildChat-1M"
   ]
  },
  {
   "cell_type": "code",
   "execution_count": 32,
   "metadata": {},
   "outputs": [
    {
     "data": {
      "application/vnd.jupyter.widget-view+json": {
       "model_id": "dc36043c446a4ebd8c28bbd9c8531e4a",
       "version_major": 2,
       "version_minor": 0
      },
      "text/plain": [
       "Resolving data files:   0%|          | 0/19 [00:00<?, ?it/s]"
      ]
     },
     "metadata": {},
     "output_type": "display_data"
    },
    {
     "data": {
      "application/vnd.jupyter.widget-view+json": {
       "model_id": "f1f84dc27df145dabb863803fec2baaf",
       "version_major": 2,
       "version_minor": 0
      },
      "text/plain": [
       "Resolving data files:   0%|          | 0/19 [00:00<?, ?it/s]"
      ]
     },
     "metadata": {},
     "output_type": "display_data"
    },
    {
     "data": {
      "application/vnd.jupyter.widget-view+json": {
       "model_id": "c54f6259c415416aa104e27670737c41",
       "version_major": 2,
       "version_minor": 0
      },
      "text/plain": [
       "Loading dataset shards:   0%|          | 0/19 [00:00<?, ?it/s]"
      ]
     },
     "metadata": {},
     "output_type": "display_data"
    }
   ],
   "source": [
    "from datasets import load_dataset\n",
    "\n",
    "dataset = load_dataset('allenai/WildChat-1M')"
   ]
  },
  {
   "cell_type": "code",
   "execution_count": 34,
   "metadata": {},
   "outputs": [
    {
     "data": {
      "text/plain": [
       "DatasetDict({\n",
       "    train: Dataset({\n",
       "        features: ['conversation_hash', 'model', 'timestamp', 'conversation', 'turn', 'language', 'openai_moderation', 'detoxify_moderation', 'toxic', 'redacted', 'state', 'country', 'hashed_ip', 'header'],\n",
       "        num_rows: 1039785\n",
       "    })\n",
       "})"
      ]
     },
     "execution_count": 34,
     "metadata": {},
     "output_type": "execute_result"
    }
   ],
   "source": [
    "dataset"
   ]
  },
  {
   "cell_type": "code",
   "execution_count": null,
   "metadata": {},
   "outputs": [],
   "source": []
  },
  {
   "cell_type": "code",
   "execution_count": null,
   "metadata": {},
   "outputs": [],
   "source": []
  },
  {
   "cell_type": "code",
   "execution_count": null,
   "metadata": {},
   "outputs": [],
   "source": []
  },
  {
   "cell_type": "code",
   "execution_count": null,
   "metadata": {},
   "outputs": [],
   "source": []
  },
  {
   "cell_type": "markdown",
   "metadata": {},
   "source": [
    "# Scrap: caching functionalities in dacc"
   ]
  },
  {
   "cell_type": "code",
   "execution_count": null,
   "metadata": {},
   "outputs": [
    {
     "data": {
      "text/plain": [
       "['flat_en.parquet']"
      ]
     },
     "execution_count": 8,
     "metadata": {},
     "output_type": "execute_result"
    }
   ],
   "source": [
    "from dol import PickleFiles\n",
    "\n",
    "# store = PickleFiles('~/.config/imbed/saves/lmsys-chat-1m/')\n",
    "# list(store)"
   ]
  },
  {
   "cell_type": "code",
   "execution_count": null,
   "metadata": {},
   "outputs": [
    {
     "data": {
      "text/plain": [
       "['num_of_tokens.pkl', 'flat_en.parquet']"
      ]
     },
     "execution_count": 1,
     "metadata": {},
     "output_type": "execute_result"
    }
   ],
   "source": [
    "from imbed.mdat.lmsys_ai_conversations import mk_dacc, counts\n",
    "\n",
    "dacc = mk_dacc()\n",
    "\n",
    "list(dacc.saves)"
   ]
  },
  {
   "cell_type": "code",
   "execution_count": 62,
   "metadata": {},
   "outputs": [
    {
     "name": "stdout",
     "output_type": "stream",
     "text": [
      "len(invalid_conversations)=10946\n"
     ]
    }
   ],
   "source": [
    "from imbed.mdat.lmsys_ai_conversations import dataframe_to_embed\n",
    "\n",
    "df = dataframe_to_embed()"
   ]
  },
  {
   "cell_type": "code",
   "execution_count": 63,
   "metadata": {},
   "outputs": [
    {
     "data": {
      "text/plain": [
       "(2835490, 31)"
      ]
     },
     "execution_count": 63,
     "metadata": {},
     "output_type": "execute_result"
    }
   ],
   "source": [
    "df.shape"
   ]
  },
  {
   "cell_type": "code",
   "execution_count": 12,
   "metadata": {},
   "outputs": [
    {
     "data": {
      "text/plain": [
       "(2996946, 31)"
      ]
     },
     "execution_count": 12,
     "metadata": {},
     "output_type": "execute_result"
    }
   ],
   "source": [
    "flat_en = dacc.saves['flat_en.parquet']\n",
    "flat_en.shape"
   ]
  },
  {
   "cell_type": "code",
   "execution_count": 13,
   "metadata": {},
   "outputs": [
    {
     "data": {
      "text/html": [
       "<div>\n",
       "<style scoped>\n",
       "    .dataframe tbody tr th:only-of-type {\n",
       "        vertical-align: middle;\n",
       "    }\n",
       "\n",
       "    .dataframe tbody tr th {\n",
       "        vertical-align: top;\n",
       "    }\n",
       "\n",
       "    .dataframe thead th {\n",
       "        text-align: right;\n",
       "    }\n",
       "</style>\n",
       "<table border=\"1\" class=\"dataframe\">\n",
       "  <thead>\n",
       "    <tr style=\"text-align: right;\">\n",
       "      <th></th>\n",
       "      <th>conversation_id</th>\n",
       "      <th>model</th>\n",
       "      <th>turn</th>\n",
       "      <th>language</th>\n",
       "      <th>redacted</th>\n",
       "      <th>content</th>\n",
       "      <th>role</th>\n",
       "      <th>flagged</th>\n",
       "      <th>harassment</th>\n",
       "      <th>harassment/threatening</th>\n",
       "      <th>...</th>\n",
       "      <th>category_scores.hate</th>\n",
       "      <th>category_scores.hate/threatening</th>\n",
       "      <th>category_scores.self-harm</th>\n",
       "      <th>category_scores.self-harm/instructions</th>\n",
       "      <th>category_scores.self-harm/intent</th>\n",
       "      <th>category_scores.sexual</th>\n",
       "      <th>category_scores.sexual/minors</th>\n",
       "      <th>category_scores.violence</th>\n",
       "      <th>category_scores.violence/graphic</th>\n",
       "      <th>num_of_tokens</th>\n",
       "    </tr>\n",
       "  </thead>\n",
       "  <tbody>\n",
       "    <tr>\n",
       "      <th>0</th>\n",
       "      <td>33f01939a744455c869cb234afca47f1</td>\n",
       "      <td>wizardlm-13b</td>\n",
       "      <td>1</td>\n",
       "      <td>English</td>\n",
       "      <td>False</td>\n",
       "      <td>how can identity protection services help prot...</td>\n",
       "      <td>user</td>\n",
       "      <td>False</td>\n",
       "      <td>False</td>\n",
       "      <td>False</td>\n",
       "      <td>...</td>\n",
       "      <td>8.254962e-07</td>\n",
       "      <td>1.331843e-08</td>\n",
       "      <td>1.925786e-07</td>\n",
       "      <td>6.502832e-08</td>\n",
       "      <td>2.752596e-07</td>\n",
       "      <td>0.000003</td>\n",
       "      <td>4.523274e-07</td>\n",
       "      <td>0.000023</td>\n",
       "      <td>1.971344e-06</td>\n",
       "      <td>11</td>\n",
       "    </tr>\n",
       "    <tr>\n",
       "      <th>1</th>\n",
       "      <td>33f01939a744455c869cb234afca47f1</td>\n",
       "      <td>wizardlm-13b</td>\n",
       "      <td>1</td>\n",
       "      <td>English</td>\n",
       "      <td>False</td>\n",
       "      <td>Identity protection services can help protect ...</td>\n",
       "      <td>assistant</td>\n",
       "      <td>False</td>\n",
       "      <td>False</td>\n",
       "      <td>False</td>\n",
       "      <td>...</td>\n",
       "      <td>1.493081e-07</td>\n",
       "      <td>2.457626e-09</td>\n",
       "      <td>3.206958e-08</td>\n",
       "      <td>2.724723e-07</td>\n",
       "      <td>2.288161e-07</td>\n",
       "      <td>0.000034</td>\n",
       "      <td>8.753010e-07</td>\n",
       "      <td>0.000109</td>\n",
       "      <td>6.069021e-06</td>\n",
       "      <td>231</td>\n",
       "    </tr>\n",
       "    <tr>\n",
       "      <th>2</th>\n",
       "      <td>1e230e55efea4edab95db9cb87f6a9cb</td>\n",
       "      <td>vicuna-13b</td>\n",
       "      <td>6</td>\n",
       "      <td>English</td>\n",
       "      <td>False</td>\n",
       "      <td>Beside OFAC's selective sanction that target t...</td>\n",
       "      <td>user</td>\n",
       "      <td>False</td>\n",
       "      <td>False</td>\n",
       "      <td>False</td>\n",
       "      <td>...</td>\n",
       "      <td>3.779005e-05</td>\n",
       "      <td>4.180222e-08</td>\n",
       "      <td>2.673939e-08</td>\n",
       "      <td>3.962927e-09</td>\n",
       "      <td>5.728513e-09</td>\n",
       "      <td>0.000010</td>\n",
       "      <td>4.400742e-08</td>\n",
       "      <td>0.000518</td>\n",
       "      <td>1.006667e-07</td>\n",
       "      <td>45</td>\n",
       "    </tr>\n",
       "    <tr>\n",
       "      <th>3</th>\n",
       "      <td>1e230e55efea4edab95db9cb87f6a9cb</td>\n",
       "      <td>vicuna-13b</td>\n",
       "      <td>6</td>\n",
       "      <td>English</td>\n",
       "      <td>False</td>\n",
       "      <td>The United States has a number of different ty...</td>\n",
       "      <td>assistant</td>\n",
       "      <td>False</td>\n",
       "      <td>False</td>\n",
       "      <td>False</td>\n",
       "      <td>...</td>\n",
       "      <td>3.328464e-06</td>\n",
       "      <td>3.862322e-07</td>\n",
       "      <td>2.495909e-06</td>\n",
       "      <td>1.474544e-07</td>\n",
       "      <td>1.017827e-07</td>\n",
       "      <td>0.000148</td>\n",
       "      <td>3.203528e-06</td>\n",
       "      <td>0.004162</td>\n",
       "      <td>2.180104e-05</td>\n",
       "      <td>361</td>\n",
       "    </tr>\n",
       "    <tr>\n",
       "      <th>4</th>\n",
       "      <td>1e230e55efea4edab95db9cb87f6a9cb</td>\n",
       "      <td>vicuna-13b</td>\n",
       "      <td>6</td>\n",
       "      <td>English</td>\n",
       "      <td>False</td>\n",
       "      <td>are there other types of US sanctions that you...</td>\n",
       "      <td>user</td>\n",
       "      <td>False</td>\n",
       "      <td>False</td>\n",
       "      <td>False</td>\n",
       "      <td>...</td>\n",
       "      <td>3.137255e-05</td>\n",
       "      <td>9.262070e-07</td>\n",
       "      <td>2.043054e-06</td>\n",
       "      <td>8.034339e-08</td>\n",
       "      <td>1.886112e-07</td>\n",
       "      <td>0.000008</td>\n",
       "      <td>2.302877e-06</td>\n",
       "      <td>0.001148</td>\n",
       "      <td>1.279204e-07</td>\n",
       "      <td>17</td>\n",
       "    </tr>\n",
       "  </tbody>\n",
       "</table>\n",
       "<p>5 rows × 31 columns</p>\n",
       "</div>"
      ],
      "text/plain": [
       "                    conversation_id         model  turn language  redacted  \\\n",
       "0  33f01939a744455c869cb234afca47f1  wizardlm-13b     1  English     False   \n",
       "1  33f01939a744455c869cb234afca47f1  wizardlm-13b     1  English     False   \n",
       "2  1e230e55efea4edab95db9cb87f6a9cb    vicuna-13b     6  English     False   \n",
       "3  1e230e55efea4edab95db9cb87f6a9cb    vicuna-13b     6  English     False   \n",
       "4  1e230e55efea4edab95db9cb87f6a9cb    vicuna-13b     6  English     False   \n",
       "\n",
       "                                             content       role  flagged  \\\n",
       "0  how can identity protection services help prot...       user    False   \n",
       "1  Identity protection services can help protect ...  assistant    False   \n",
       "2  Beside OFAC's selective sanction that target t...       user    False   \n",
       "3  The United States has a number of different ty...  assistant    False   \n",
       "4  are there other types of US sanctions that you...       user    False   \n",
       "\n",
       "   harassment  harassment/threatening  ...  category_scores.hate  \\\n",
       "0       False                   False  ...          8.254962e-07   \n",
       "1       False                   False  ...          1.493081e-07   \n",
       "2       False                   False  ...          3.779005e-05   \n",
       "3       False                   False  ...          3.328464e-06   \n",
       "4       False                   False  ...          3.137255e-05   \n",
       "\n",
       "   category_scores.hate/threatening  category_scores.self-harm  \\\n",
       "0                      1.331843e-08               1.925786e-07   \n",
       "1                      2.457626e-09               3.206958e-08   \n",
       "2                      4.180222e-08               2.673939e-08   \n",
       "3                      3.862322e-07               2.495909e-06   \n",
       "4                      9.262070e-07               2.043054e-06   \n",
       "\n",
       "   category_scores.self-harm/instructions  category_scores.self-harm/intent  \\\n",
       "0                            6.502832e-08                      2.752596e-07   \n",
       "1                            2.724723e-07                      2.288161e-07   \n",
       "2                            3.962927e-09                      5.728513e-09   \n",
       "3                            1.474544e-07                      1.017827e-07   \n",
       "4                            8.034339e-08                      1.886112e-07   \n",
       "\n",
       "   category_scores.sexual  category_scores.sexual/minors  \\\n",
       "0                0.000003                   4.523274e-07   \n",
       "1                0.000034                   8.753010e-07   \n",
       "2                0.000010                   4.400742e-08   \n",
       "3                0.000148                   3.203528e-06   \n",
       "4                0.000008                   2.302877e-06   \n",
       "\n",
       "   category_scores.violence  category_scores.violence/graphic  num_of_tokens  \n",
       "0                  0.000023                      1.971344e-06             11  \n",
       "1                  0.000109                      6.069021e-06            231  \n",
       "2                  0.000518                      1.006667e-07             45  \n",
       "3                  0.004162                      2.180104e-05            361  \n",
       "4                  0.001148                      1.279204e-07             17  \n",
       "\n",
       "[5 rows x 31 columns]"
      ]
     },
     "execution_count": 13,
     "metadata": {},
     "output_type": "execute_result"
    }
   ],
   "source": [
    "flat_en.head()"
   ]
  },
  {
   "cell_type": "code",
   "execution_count": null,
   "metadata": {},
   "outputs": [],
   "source": [
    "if 'num_of_tokens' not in flat_en.columns:\n",
    "    # import oa\n",
    "    # num_of_tokens = list(map(oa.num_tokens, flat_en.content))\n",
    "    ### # Not needed anymore: store['num_of_tokens.pkl'] = num_of_tokens\n",
    "    # flat_en['num_of_tokens'] = num_of_tokens\n",
    "    # dacc.saves['flat_en.parquet'] = flat_en  # TODO: Make it work\n",
    "    # # Alt: flat_en.to_parquet(os.path.join(dacc.saves.rootdir, 'flat_en.parquet'))\n",
    "    pass\n"
   ]
  },
  {
   "cell_type": "code",
   "execution_count": null,
   "metadata": {},
   "outputs": [
    {
     "data": {
      "text/plain": [
       "count    2.996946e+06\n",
       "mean     1.251704e+02\n",
       "std      1.237009e+03\n",
       "min      0.000000e+00\n",
       "25%      1.300000e+01\n",
       "50%      4.700000e+01\n",
       "75%      1.810000e+02\n",
       "max      7.384470e+05\n",
       "Name: num_of_tokens, dtype: float64"
      ]
     },
     "execution_count": 6,
     "metadata": {},
     "output_type": "execute_result"
    }
   ],
   "source": [
    "flat_en.num_of_tokens.describe()"
   ]
  },
  {
   "cell_type": "code",
   "execution_count": null,
   "metadata": {},
   "outputs": [
    {
     "data": {
      "text/plain": [
       "<Axes: >"
      ]
     },
     "execution_count": 8,
     "metadata": {},
     "output_type": "execute_result"
    },
    {
     "data": {
      "image/png": "[encoded data removed]",
      "text/plain": [
       "<Figure size 640x480 with 1 Axes>"
      ]
     },
     "metadata": {},
     "output_type": "display_data"
    }
   ],
   "source": [
    "flat_en.num_of_tokens.hist(bins=100, log=True)"
   ]
  },
  {
   "cell_type": "code",
   "execution_count": null,
   "metadata": {},
   "outputs": [
    {
     "data": {
      "text/plain": [
       "375128803"
      ]
     },
     "execution_count": 9,
     "metadata": {},
     "output_type": "execute_result"
    }
   ],
   "source": [
    "sum(flat_en.num_of_tokens)"
   ]
  },
  {
   "cell_type": "code",
   "execution_count": 53,
   "metadata": {},
   "outputs": [
    {
     "name": "stdout",
     "output_type": "stream",
     "text": [
      "sum(lidx) / len(flat_en)=0.999857855296692\n",
      "sum(flat_en.num_of_tokens[lidx])=352961650\n"
     ]
    }
   ],
   "source": [
    "thresh = 8191\n",
    "lidx = flat_en.num_of_tokens < thresh\n",
    "print(f\"{sum(lidx) / len(flat_en)=}\")\n",
    "print(f\"{sum(flat_en.num_of_tokens[lidx])=}\")"
   ]
  },
  {
   "cell_type": "code",
   "execution_count": null,
   "metadata": {},
   "outputs": [
    {
     "name": "stdout",
     "output_type": "stream",
     "text": [
      "sum(lidx) / len(flat_en)=0.9990974145012956\n",
      "sum(flat_en.num_of_tokens[lidx])=348498111\n"
     ]
    }
   ],
   "source": [
    "thresh = 1000\n",
    "lidx = flat_en.num_of_tokens < thresh\n",
    "print(f\"{sum(lidx) / len(flat_en)=}\")\n",
    "print(f\"{sum(flat_en.num_of_tokens[lidx])=}\")"
   ]
  },
  {
   "cell_type": "code",
   "execution_count": null,
   "metadata": {},
   "outputs": [
    {
     "data": {
      "text/plain": [
       "['conversation_id', 'model', 'turn']"
      ]
     },
     "execution_count": 33,
     "metadata": {},
     "output_type": "execute_result"
    }
   ],
   "source": [
    "it = fixed_step_chunker(flat_en, 3)\n",
    "next(it)"
   ]
  },
  {
   "cell_type": "code",
   "execution_count": null,
   "metadata": {},
   "outputs": [],
   "source": [
    "chk_size = 3\n",
    "# iterate over chunks of chk_size rows of the flat_en dataframe\n"
   ]
  },
  {
   "cell_type": "code",
   "execution_count": 42,
   "metadata": {},
   "outputs": [
    {
     "name": "stdout",
     "output_type": "stream",
     "text": [
      "len(invalid_conversations)=10946\n"
     ]
    }
   ],
   "source": [
    "# find all conversation_ids that have any num_of_tokens > 8191\n",
    "\n",
    "from oa.util import embeddings_models\n",
    "from oa import text_is_valid\n",
    "import numpy as np\n",
    "\n",
    "model = 'text-embedding-3-small'\n",
    "max_tokens = embeddings_models[model]['max_input']\n",
    "\n",
    "\n",
    "# get rid of any conversation that have ANY non-valid (empty string or too many tokens)\n",
    "lidx = ~np.array(\n",
    "    list(\n",
    "        text_is_valid(\n",
    "            flat_en.content, flat_en.num_of_tokens, max_tokens=max_tokens, model=model\n",
    "        )\n",
    "    )\n",
    ")\n",
    "invalid_conversations = set(flat_en[lidx]['conversation_id'])\n",
    "print(f\"{len(invalid_conversations)=}\")\n",
    "df = flat_en[~flat_en.conversation_id.isin(invalid_conversations)]"
   ]
  },
  {
   "cell_type": "code",
   "execution_count": 1,
   "metadata": {},
   "outputs": [
    {
     "data": {
      "text/plain": [
       "(766507, 2)"
      ]
     },
     "execution_count": 1,
     "metadata": {},
     "output_type": "execute_result"
    }
   ],
   "source": [
    "from imbed.mdat.lmsys_ai_conversations import mk_dacc, counts\n",
    "\n",
    "dacc = mk_dacc()\n",
    "dacc.flat_en_conversation_grouped_embeddings.shape"
   ]
  },
  {
   "cell_type": "code",
   "execution_count": 2,
   "metadata": {},
   "outputs": [
    {
     "data": {
      "text/plain": [
       "('00004b39283d4d9fabd2915cdf2f603e',\n",
       " num_of_tokens                                                   46\n",
       " embeddings       [0.01601533917710185, 0.004042537766508758, -0...\n",
       " Name: 00004b39283d4d9fabd2915cdf2f603e, dtype: object)"
      ]
     },
     "execution_count": 2,
     "metadata": {},
     "output_type": "execute_result"
    }
   ],
   "source": [
    "next(iter(dacc.flat_en_conversation_grouped_embeddings.iterrows()))"
   ]
  },
  {
   "cell_type": "code",
   "execution_count": 3,
   "metadata": {},
   "outputs": [
    {
     "data": {
      "text/plain": [
       "True"
      ]
     },
     "execution_count": 3,
     "metadata": {},
     "output_type": "execute_result"
    }
   ],
   "source": [
    "self = dacc\n",
    "'flat_en_conversation_grouped_embeddings.parquet' in self.saves"
   ]
  },
  {
   "cell_type": "code",
   "execution_count": 4,
   "metadata": {},
   "outputs": [],
   "source": [
    "t = dacc.saves['planar_embeddings_grouped.pkl']"
   ]
  },
  {
   "cell_type": "code",
   "execution_count": 7,
   "metadata": {},
   "outputs": [
    {
     "data": {
      "text/plain": [
       "00004b39283d4d9fabd2915cdf2f603e       (4.826485, 6.85775)\n",
       "00006a1327734661947ed4f2f766dfab    (2.3108418, 2.6091907)\n",
       "00007de6934048b2a5aff12577337cc5     (4.6659837, 1.961505)\n",
       "0000a7072bb349ada4fe9369164ec102      (-5.871061, 8.39465)\n",
       "0000bcdf5b6c4c46bdbc3e21b46f509c    (0.13452363, 5.583219)\n",
       "dtype: object"
      ]
     },
     "execution_count": 7,
     "metadata": {},
     "output_type": "execute_result"
    }
   ],
   "source": [
    "import pandas as pd\n",
    "t = pd.Series(t)\n",
    "t.head()"
   ]
  },
  {
   "cell_type": "code",
   "execution_count": 12,
   "metadata": {},
   "outputs": [
    {
     "data": {
      "text/html": [
       "<div>\n",
       "<style scoped>\n",
       "    .dataframe tbody tr th:only-of-type {\n",
       "        vertical-align: middle;\n",
       "    }\n",
       "\n",
       "    .dataframe tbody tr th {\n",
       "        vertical-align: top;\n",
       "    }\n",
       "\n",
       "    .dataframe thead th {\n",
       "        text-align: right;\n",
       "    }\n",
       "</style>\n",
       "<table border=\"1\" class=\"dataframe\">\n",
       "  <thead>\n",
       "    <tr style=\"text-align: right;\">\n",
       "      <th></th>\n",
       "      <th>conversation_id</th>\n",
       "      <th>0</th>\n",
       "    </tr>\n",
       "  </thead>\n",
       "  <tbody>\n",
       "    <tr>\n",
       "      <th>0</th>\n",
       "      <td>00004b39283d4d9fabd2915cdf2f603e</td>\n",
       "      <td>(4.826485, 6.85775)</td>\n",
       "    </tr>\n",
       "    <tr>\n",
       "      <th>1</th>\n",
       "      <td>00006a1327734661947ed4f2f766dfab</td>\n",
       "      <td>(2.3108418, 2.6091907)</td>\n",
       "    </tr>\n",
       "    <tr>\n",
       "      <th>2</th>\n",
       "      <td>00007de6934048b2a5aff12577337cc5</td>\n",
       "      <td>(4.6659837, 1.961505)</td>\n",
       "    </tr>\n",
       "    <tr>\n",
       "      <th>3</th>\n",
       "      <td>0000a7072bb349ada4fe9369164ec102</td>\n",
       "      <td>(-5.871061, 8.39465)</td>\n",
       "    </tr>\n",
       "    <tr>\n",
       "      <th>4</th>\n",
       "      <td>0000bcdf5b6c4c46bdbc3e21b46f509c</td>\n",
       "      <td>(0.13452363, 5.583219)</td>\n",
       "    </tr>\n",
       "  </tbody>\n",
       "</table>\n",
       "</div>"
      ],
      "text/plain": [
       "                    conversation_id                       0\n",
       "0  00004b39283d4d9fabd2915cdf2f603e     (4.826485, 6.85775)\n",
       "1  00006a1327734661947ed4f2f766dfab  (2.3108418, 2.6091907)\n",
       "2  00007de6934048b2a5aff12577337cc5   (4.6659837, 1.961505)\n",
       "3  0000a7072bb349ada4fe9369164ec102    (-5.871061, 8.39465)\n",
       "4  0000bcdf5b6c4c46bdbc3e21b46f509c  (0.13452363, 5.583219)"
      ]
     },
     "execution_count": 12,
     "metadata": {},
     "output_type": "execute_result"
    }
   ],
   "source": [
    "t.head()"
   ]
  },
  {
   "cell_type": "code",
   "execution_count": 21,
   "metadata": {},
   "outputs": [
    {
     "data": {
      "text/plain": [
       "(766507, 3)"
      ]
     },
     "execution_count": 21,
     "metadata": {},
     "output_type": "execute_result"
    }
   ],
   "source": [
    "from imbed.mdat.lmsys_ai_conversations import mk_dacc\n",
    "\n",
    "dacc = mk_dacc()\n",
    "df = dacc.planar_embeddings_of_grouped_conversations\n",
    "df.shape"
   ]
  },
  {
   "cell_type": "code",
   "execution_count": 24,
   "metadata": {},
   "outputs": [
    {
     "data": {
      "text/html": [
       "<div>\n",
       "<style scoped>\n",
       "    .dataframe tbody tr th:only-of-type {\n",
       "        vertical-align: middle;\n",
       "    }\n",
       "\n",
       "    .dataframe tbody tr th {\n",
       "        vertical-align: top;\n",
       "    }\n",
       "\n",
       "    .dataframe thead th {\n",
       "        text-align: right;\n",
       "    }\n",
       "</style>\n",
       "<table border=\"1\" class=\"dataframe\">\n",
       "  <thead>\n",
       "    <tr style=\"text-align: right;\">\n",
       "      <th></th>\n",
       "      <th>id</th>\n",
       "      <th>conversation_id</th>\n",
       "      <th>x</th>\n",
       "      <th>y</th>\n",
       "    </tr>\n",
       "  </thead>\n",
       "  <tbody>\n",
       "    <tr>\n",
       "      <th>0</th>\n",
       "      <td>0</td>\n",
       "      <td>00004b39283d4d9fabd2915cdf2f603e</td>\n",
       "      <td>4.826485</td>\n",
       "      <td>6.857750</td>\n",
       "    </tr>\n",
       "    <tr>\n",
       "      <th>1</th>\n",
       "      <td>1</td>\n",
       "      <td>00006a1327734661947ed4f2f766dfab</td>\n",
       "      <td>2.310842</td>\n",
       "      <td>2.609191</td>\n",
       "    </tr>\n",
       "    <tr>\n",
       "      <th>2</th>\n",
       "      <td>2</td>\n",
       "      <td>00007de6934048b2a5aff12577337cc5</td>\n",
       "      <td>4.665984</td>\n",
       "      <td>1.961505</td>\n",
       "    </tr>\n",
       "    <tr>\n",
       "      <th>3</th>\n",
       "      <td>3</td>\n",
       "      <td>0000a7072bb349ada4fe9369164ec102</td>\n",
       "      <td>-5.871061</td>\n",
       "      <td>8.394650</td>\n",
       "    </tr>\n",
       "    <tr>\n",
       "      <th>4</th>\n",
       "      <td>4</td>\n",
       "      <td>0000bcdf5b6c4c46bdbc3e21b46f509c</td>\n",
       "      <td>0.134524</td>\n",
       "      <td>5.583219</td>\n",
       "    </tr>\n",
       "  </tbody>\n",
       "</table>\n",
       "</div>"
      ],
      "text/plain": [
       "   id                   conversation_id         x         y\n",
       "0   0  00004b39283d4d9fabd2915cdf2f603e  4.826485  6.857750\n",
       "1   1  00006a1327734661947ed4f2f766dfab  2.310842  2.609191\n",
       "2   2  00007de6934048b2a5aff12577337cc5  4.665984  1.961505\n",
       "3   3  0000a7072bb349ada4fe9369164ec102 -5.871061  8.394650\n",
       "4   4  0000bcdf5b6c4c46bdbc3e21b46f509c  0.134524  5.583219"
      ]
     },
     "execution_count": 24,
     "metadata": {},
     "output_type": "execute_result"
    }
   ],
   "source": [
    "# name the row index id\n",
    "df.index.name = 'id'\n",
    "df.reset_index(drop=False).to_csv(sep='\\t')"
   ]
  },
  {
   "cell_type": "code",
   "execution_count": 25,
   "metadata": {},
   "outputs": [],
   "source": [
    "dacc.saves['planar_embeddings_grouped.tsv'] = df"
   ]
  },
  {
   "cell_type": "code",
   "execution_count": 26,
   "metadata": {},
   "outputs": [
    {
     "data": {
      "text/html": [
       "<div>\n",
       "<style scoped>\n",
       "    .dataframe tbody tr th:only-of-type {\n",
       "        vertical-align: middle;\n",
       "    }\n",
       "\n",
       "    .dataframe tbody tr th {\n",
       "        vertical-align: top;\n",
       "    }\n",
       "\n",
       "    .dataframe thead th {\n",
       "        text-align: right;\n",
       "    }\n",
       "</style>\n",
       "<table border=\"1\" class=\"dataframe\">\n",
       "  <thead>\n",
       "    <tr style=\"text-align: right;\">\n",
       "      <th></th>\n",
       "      <th>id</th>\n",
       "      <th>conversation_id</th>\n",
       "      <th>x</th>\n",
       "      <th>y</th>\n",
       "    </tr>\n",
       "  </thead>\n",
       "  <tbody>\n",
       "    <tr>\n",
       "      <th>0</th>\n",
       "      <td>0</td>\n",
       "      <td>00004b39283d4d9fabd2915cdf2f603e</td>\n",
       "      <td>4.826485</td>\n",
       "      <td>6.857750</td>\n",
       "    </tr>\n",
       "    <tr>\n",
       "      <th>1</th>\n",
       "      <td>1</td>\n",
       "      <td>00006a1327734661947ed4f2f766dfab</td>\n",
       "      <td>2.310842</td>\n",
       "      <td>2.609191</td>\n",
       "    </tr>\n",
       "    <tr>\n",
       "      <th>2</th>\n",
       "      <td>2</td>\n",
       "      <td>00007de6934048b2a5aff12577337cc5</td>\n",
       "      <td>4.665984</td>\n",
       "      <td>1.961505</td>\n",
       "    </tr>\n",
       "    <tr>\n",
       "      <th>3</th>\n",
       "      <td>3</td>\n",
       "      <td>0000a7072bb349ada4fe9369164ec102</td>\n",
       "      <td>-5.871061</td>\n",
       "      <td>8.394650</td>\n",
       "    </tr>\n",
       "    <tr>\n",
       "      <th>4</th>\n",
       "      <td>4</td>\n",
       "      <td>0000bcdf5b6c4c46bdbc3e21b46f509c</td>\n",
       "      <td>0.134524</td>\n",
       "      <td>5.583219</td>\n",
       "    </tr>\n",
       "  </tbody>\n",
       "</table>\n",
       "</div>"
      ],
      "text/plain": [
       "   id                   conversation_id         x         y\n",
       "0   0  00004b39283d4d9fabd2915cdf2f603e  4.826485  6.857750\n",
       "1   1  00006a1327734661947ed4f2f766dfab  2.310842  2.609191\n",
       "2   2  00007de6934048b2a5aff12577337cc5  4.665984  1.961505\n",
       "3   3  0000a7072bb349ada4fe9369164ec102 -5.871061  8.394650\n",
       "4   4  0000bcdf5b6c4c46bdbc3e21b46f509c  0.134524  5.583219"
      ]
     },
     "execution_count": 26,
     "metadata": {},
     "output_type": "execute_result"
    }
   ],
   "source": [
    "t = dacc.saves['planar_embeddings_grouped.tsv']\n",
    "t.head()"
   ]
  },
  {
   "cell_type": "code",
   "execution_count": 54,
   "metadata": {},
   "outputs": [],
   "source": [
    "meta = dacc.saves['flat_en.parquet']"
   ]
  },
  {
   "cell_type": "code",
   "execution_count": 56,
   "metadata": {},
   "outputs": [
    {
     "data": {
      "text/html": [
       "<div>\n",
       "<style scoped>\n",
       "    .dataframe tbody tr th:only-of-type {\n",
       "        vertical-align: middle;\n",
       "    }\n",
       "\n",
       "    .dataframe tbody tr th {\n",
       "        vertical-align: top;\n",
       "    }\n",
       "\n",
       "    .dataframe thead th {\n",
       "        text-align: right;\n",
       "    }\n",
       "</style>\n",
       "<table border=\"1\" class=\"dataframe\">\n",
       "  <thead>\n",
       "    <tr style=\"text-align: right;\">\n",
       "      <th></th>\n",
       "      <th>conversation_id</th>\n",
       "      <th>model</th>\n",
       "      <th>turn</th>\n",
       "      <th>flagged</th>\n",
       "      <th>harassment</th>\n",
       "      <th>harassment/threatening</th>\n",
       "      <th>hate</th>\n",
       "      <th>hate/threatening</th>\n",
       "      <th>self-harm</th>\n",
       "      <th>self-harm/instructions</th>\n",
       "      <th>self-harm/intent</th>\n",
       "      <th>sexual</th>\n",
       "      <th>sexual/minors</th>\n",
       "      <th>violence</th>\n",
       "      <th>violence/graphic</th>\n",
       "      <th>num_of_tokens</th>\n",
       "    </tr>\n",
       "  </thead>\n",
       "  <tbody>\n",
       "    <tr>\n",
       "      <th>0</th>\n",
       "      <td>33f01939a744455c869cb234afca47f1</td>\n",
       "      <td>wizardlm-13b</td>\n",
       "      <td>1</td>\n",
       "      <td>False</td>\n",
       "      <td>False</td>\n",
       "      <td>False</td>\n",
       "      <td>False</td>\n",
       "      <td>False</td>\n",
       "      <td>False</td>\n",
       "      <td>False</td>\n",
       "      <td>False</td>\n",
       "      <td>False</td>\n",
       "      <td>False</td>\n",
       "      <td>False</td>\n",
       "      <td>False</td>\n",
       "      <td>11</td>\n",
       "    </tr>\n",
       "    <tr>\n",
       "      <th>1</th>\n",
       "      <td>33f01939a744455c869cb234afca47f1</td>\n",
       "      <td>wizardlm-13b</td>\n",
       "      <td>1</td>\n",
       "      <td>False</td>\n",
       "      <td>False</td>\n",
       "      <td>False</td>\n",
       "      <td>False</td>\n",
       "      <td>False</td>\n",
       "      <td>False</td>\n",
       "      <td>False</td>\n",
       "      <td>False</td>\n",
       "      <td>False</td>\n",
       "      <td>False</td>\n",
       "      <td>False</td>\n",
       "      <td>False</td>\n",
       "      <td>231</td>\n",
       "    </tr>\n",
       "    <tr>\n",
       "      <th>2</th>\n",
       "      <td>1e230e55efea4edab95db9cb87f6a9cb</td>\n",
       "      <td>vicuna-13b</td>\n",
       "      <td>6</td>\n",
       "      <td>False</td>\n",
       "      <td>False</td>\n",
       "      <td>False</td>\n",
       "      <td>False</td>\n",
       "      <td>False</td>\n",
       "      <td>False</td>\n",
       "      <td>False</td>\n",
       "      <td>False</td>\n",
       "      <td>False</td>\n",
       "      <td>False</td>\n",
       "      <td>False</td>\n",
       "      <td>False</td>\n",
       "      <td>45</td>\n",
       "    </tr>\n",
       "    <tr>\n",
       "      <th>3</th>\n",
       "      <td>1e230e55efea4edab95db9cb87f6a9cb</td>\n",
       "      <td>vicuna-13b</td>\n",
       "      <td>6</td>\n",
       "      <td>False</td>\n",
       "      <td>False</td>\n",
       "      <td>False</td>\n",
       "      <td>False</td>\n",
       "      <td>False</td>\n",
       "      <td>False</td>\n",
       "      <td>False</td>\n",
       "      <td>False</td>\n",
       "      <td>False</td>\n",
       "      <td>False</td>\n",
       "      <td>False</td>\n",
       "      <td>False</td>\n",
       "      <td>361</td>\n",
       "    </tr>\n",
       "    <tr>\n",
       "      <th>4</th>\n",
       "      <td>1e230e55efea4edab95db9cb87f6a9cb</td>\n",
       "      <td>vicuna-13b</td>\n",
       "      <td>6</td>\n",
       "      <td>False</td>\n",
       "      <td>False</td>\n",
       "      <td>False</td>\n",
       "      <td>False</td>\n",
       "      <td>False</td>\n",
       "      <td>False</td>\n",
       "      <td>False</td>\n",
       "      <td>False</td>\n",
       "      <td>False</td>\n",
       "      <td>False</td>\n",
       "      <td>False</td>\n",
       "      <td>False</td>\n",
       "      <td>17</td>\n",
       "    </tr>\n",
       "  </tbody>\n",
       "</table>\n",
       "</div>"
      ],
      "text/plain": [
       "                    conversation_id         model  turn  flagged  harassment  \\\n",
       "0  33f01939a744455c869cb234afca47f1  wizardlm-13b     1    False       False   \n",
       "1  33f01939a744455c869cb234afca47f1  wizardlm-13b     1    False       False   \n",
       "2  1e230e55efea4edab95db9cb87f6a9cb    vicuna-13b     6    False       False   \n",
       "3  1e230e55efea4edab95db9cb87f6a9cb    vicuna-13b     6    False       False   \n",
       "4  1e230e55efea4edab95db9cb87f6a9cb    vicuna-13b     6    False       False   \n",
       "\n",
       "   harassment/threatening   hate  hate/threatening  self-harm  \\\n",
       "0                   False  False             False      False   \n",
       "1                   False  False             False      False   \n",
       "2                   False  False             False      False   \n",
       "3                   False  False             False      False   \n",
       "4                   False  False             False      False   \n",
       "\n",
       "   self-harm/instructions  self-harm/intent  sexual  sexual/minors  violence  \\\n",
       "0                   False             False   False          False     False   \n",
       "1                   False             False   False          False     False   \n",
       "2                   False             False   False          False     False   \n",
       "3                   False             False   False          False     False   \n",
       "4                   False             False   False          False     False   \n",
       "\n",
       "   violence/graphic  num_of_tokens  \n",
       "0             False             11  \n",
       "1             False            231  \n",
       "2             False             45  \n",
       "3             False            361  \n",
       "4             False             17  "
      ]
     },
     "execution_count": 56,
     "metadata": {},
     "output_type": "execute_result"
    }
   ],
   "source": [
    "nested_columns = list(filter(lambda x: '.' in x, meta.columns))\n",
    "meta = meta.drop(['language', 'redacted', 'content', 'role'] + nested_columns, axis=1)\n",
    "meta.head()"
   ]
  },
  {
   "cell_type": "code",
   "execution_count": 59,
   "metadata": {},
   "outputs": [],
   "source": [
    "import numpy as np\n",
    "\n",
    "aggregate_specs_1 = {\n",
    "    'model': lambda x: x[0],\n",
    "    'turn': lambda x: x[0],\n",
    "    'flagged': 'mean',\n",
    "    'num_of_tokens': 'sum',\n",
    "}\n",
    "remaining_columns = (\n",
    "    set(meta.columns) - set(aggregate_specs_1.keys()) - {'conversation_id'}\n",
    ")\n",
    "aggregate_specs = {\n",
    "    'model': 'first',\n",
    "    'turn': 'first',\n",
    "    'flagged': 'mean',\n",
    "    'num_of_tokens': 'sum',\n",
    "    **{col: 'mean' for col in remaining_columns},\n",
    "}\n",
    "\n",
    "# group by conversaion_id and apply aggaggregate_specs to each group\n",
    "meta = meta.groupby('conversation_id').agg(aggregate_specs)"
   ]
  },
  {
   "cell_type": "code",
   "execution_count": 79,
   "metadata": {},
   "outputs": [],
   "source": [
    "e = dacc.planar_embeddings_of_grouped_conversations\n",
    "# meta = dacc.meta_for_grouped_conversations"
   ]
  },
  {
   "cell_type": "code",
   "execution_count": 80,
   "metadata": {},
   "outputs": [
    {
     "data": {
      "text/html": [
       "<div>\n",
       "<style scoped>\n",
       "    .dataframe tbody tr th:only-of-type {\n",
       "        vertical-align: middle;\n",
       "    }\n",
       "\n",
       "    .dataframe tbody tr th {\n",
       "        vertical-align: top;\n",
       "    }\n",
       "\n",
       "    .dataframe thead th {\n",
       "        text-align: right;\n",
       "    }\n",
       "</style>\n",
       "<table border=\"1\" class=\"dataframe\">\n",
       "  <thead>\n",
       "    <tr style=\"text-align: right;\">\n",
       "      <th></th>\n",
       "      <th>conversation_id</th>\n",
       "      <th>model</th>\n",
       "      <th>turn</th>\n",
       "      <th>flagged</th>\n",
       "      <th>num_of_tokens</th>\n",
       "      <th>violence</th>\n",
       "      <th>sexual/minors</th>\n",
       "      <th>sexual</th>\n",
       "      <th>self-harm</th>\n",
       "      <th>self-harm/intent</th>\n",
       "      <th>hate/threatening</th>\n",
       "      <th>self-harm/instructions</th>\n",
       "      <th>harassment/threatening</th>\n",
       "      <th>violence/graphic</th>\n",
       "      <th>harassment</th>\n",
       "      <th>hate</th>\n",
       "    </tr>\n",
       "  </thead>\n",
       "  <tbody>\n",
       "    <tr>\n",
       "      <th>0</th>\n",
       "      <td>00004b39283d4d9fabd2915cdf2f603e</td>\n",
       "      <td>alpaca-13b</td>\n",
       "      <td>1</td>\n",
       "      <td>0.0</td>\n",
       "      <td>46</td>\n",
       "      <td>0.0</td>\n",
       "      <td>0.0</td>\n",
       "      <td>0.0</td>\n",
       "      <td>0.0</td>\n",
       "      <td>0.0</td>\n",
       "      <td>0.0</td>\n",
       "      <td>0.0</td>\n",
       "      <td>0.0</td>\n",
       "      <td>0.0</td>\n",
       "      <td>0.0</td>\n",
       "      <td>0.0</td>\n",
       "    </tr>\n",
       "    <tr>\n",
       "      <th>1</th>\n",
       "      <td>00006a1327734661947ed4f2f766dfab</td>\n",
       "      <td>wizardlm-13b</td>\n",
       "      <td>4</td>\n",
       "      <td>0.0</td>\n",
       "      <td>537</td>\n",
       "      <td>0.0</td>\n",
       "      <td>0.0</td>\n",
       "      <td>0.0</td>\n",
       "      <td>0.0</td>\n",
       "      <td>0.0</td>\n",
       "      <td>0.0</td>\n",
       "      <td>0.0</td>\n",
       "      <td>0.0</td>\n",
       "      <td>0.0</td>\n",
       "      <td>0.0</td>\n",
       "      <td>0.0</td>\n",
       "    </tr>\n",
       "    <tr>\n",
       "      <th>2</th>\n",
       "      <td>00007de6934048b2a5aff12577337cc5</td>\n",
       "      <td>vicuna-13b</td>\n",
       "      <td>1</td>\n",
       "      <td>0.0</td>\n",
       "      <td>747</td>\n",
       "      <td>0.0</td>\n",
       "      <td>0.0</td>\n",
       "      <td>0.0</td>\n",
       "      <td>0.0</td>\n",
       "      <td>0.0</td>\n",
       "      <td>0.0</td>\n",
       "      <td>0.0</td>\n",
       "      <td>0.0</td>\n",
       "      <td>0.0</td>\n",
       "      <td>0.0</td>\n",
       "      <td>0.0</td>\n",
       "    </tr>\n",
       "    <tr>\n",
       "      <th>3</th>\n",
       "      <td>0000a7072bb349ada4fe9369164ec102</td>\n",
       "      <td>stablelm-tuned-alpha-7b</td>\n",
       "      <td>1</td>\n",
       "      <td>0.0</td>\n",
       "      <td>296</td>\n",
       "      <td>0.0</td>\n",
       "      <td>0.0</td>\n",
       "      <td>0.0</td>\n",
       "      <td>0.0</td>\n",
       "      <td>0.0</td>\n",
       "      <td>0.0</td>\n",
       "      <td>0.0</td>\n",
       "      <td>0.0</td>\n",
       "      <td>0.0</td>\n",
       "      <td>0.0</td>\n",
       "      <td>0.0</td>\n",
       "    </tr>\n",
       "    <tr>\n",
       "      <th>4</th>\n",
       "      <td>0000bcdf5b6c4c46bdbc3e21b46f509c</td>\n",
       "      <td>llama-2-13b-chat</td>\n",
       "      <td>1</td>\n",
       "      <td>0.0</td>\n",
       "      <td>432</td>\n",
       "      <td>0.0</td>\n",
       "      <td>0.0</td>\n",
       "      <td>0.0</td>\n",
       "      <td>0.0</td>\n",
       "      <td>0.0</td>\n",
       "      <td>0.0</td>\n",
       "      <td>0.0</td>\n",
       "      <td>0.0</td>\n",
       "      <td>0.0</td>\n",
       "      <td>0.0</td>\n",
       "      <td>0.0</td>\n",
       "    </tr>\n",
       "  </tbody>\n",
       "</table>\n",
       "</div>"
      ],
      "text/plain": [
       "                    conversation_id                    model  turn  flagged  \\\n",
       "0  00004b39283d4d9fabd2915cdf2f603e               alpaca-13b     1      0.0   \n",
       "1  00006a1327734661947ed4f2f766dfab             wizardlm-13b     4      0.0   \n",
       "2  00007de6934048b2a5aff12577337cc5               vicuna-13b     1      0.0   \n",
       "3  0000a7072bb349ada4fe9369164ec102  stablelm-tuned-alpha-7b     1      0.0   \n",
       "4  0000bcdf5b6c4c46bdbc3e21b46f509c         llama-2-13b-chat     1      0.0   \n",
       "\n",
       "   num_of_tokens  violence  sexual/minors  sexual  self-harm  \\\n",
       "0             46       0.0            0.0     0.0        0.0   \n",
       "1            537       0.0            0.0     0.0        0.0   \n",
       "2            747       0.0            0.0     0.0        0.0   \n",
       "3            296       0.0            0.0     0.0        0.0   \n",
       "4            432       0.0            0.0     0.0        0.0   \n",
       "\n",
       "   self-harm/intent  hate/threatening  self-harm/instructions  \\\n",
       "0               0.0               0.0                     0.0   \n",
       "1               0.0               0.0                     0.0   \n",
       "2               0.0               0.0                     0.0   \n",
       "3               0.0               0.0                     0.0   \n",
       "4               0.0               0.0                     0.0   \n",
       "\n",
       "   harassment/threatening  violence/graphic  harassment  hate  \n",
       "0                     0.0               0.0         0.0   0.0  \n",
       "1                     0.0               0.0         0.0   0.0  \n",
       "2                     0.0               0.0         0.0   0.0  \n",
       "3                     0.0               0.0         0.0   0.0  \n",
       "4                     0.0               0.0         0.0   0.0  "
      ]
     },
     "execution_count": 80,
     "metadata": {},
     "output_type": "execute_result"
    }
   ],
   "source": [
    "meta.head()"
   ]
  },
  {
   "cell_type": "code",
   "execution_count": 83,
   "metadata": {},
   "outputs": [],
   "source": [
    "m = dacc.planar_embeddings_of_grouped_conversations_with_metadata"
   ]
  },
  {
   "cell_type": "code",
   "execution_count": 84,
   "metadata": {},
   "outputs": [
    {
     "data": {
      "text/plain": [
       "Index(['conversation_id', 'x', 'y', 'model', 'turn', 'flagged',\n",
       "       'num_of_tokens', 'violence', 'sexual/minors', 'sexual', 'self-harm',\n",
       "       'self-harm/intent', 'hate/threatening', 'self-harm/instructions',\n",
       "       'harassment/threatening', 'violence/graphic', 'harassment', 'hate'],\n",
       "      dtype='object')"
      ]
     },
     "execution_count": 84,
     "metadata": {},
     "output_type": "execute_result"
    }
   ],
   "source": [
    "m.columns"
   ]
  },
  {
   "cell_type": "code",
   "execution_count": 86,
   "metadata": {},
   "outputs": [],
   "source": [
    "m = dacc.planar_embeddings_of_grouped_conversations_with_metadata"
   ]
  },
  {
   "cell_type": "code",
   "execution_count": 87,
   "metadata": {},
   "outputs": [
    {
     "data": {
      "text/plain": [
       "(766507, 19)"
      ]
     },
     "execution_count": 87,
     "metadata": {},
     "output_type": "execute_result"
    }
   ],
   "source": [
    "m.shape"
   ]
  },
  {
   "cell_type": "code",
   "execution_count": 88,
   "metadata": {},
   "outputs": [],
   "source": [
    "dacc.saves['planar_embeddings_of_grouped_conversations_with_metadata.tsv'] = m"
   ]
  },
  {
   "cell_type": "code",
   "execution_count": 70,
   "metadata": {},
   "outputs": [
    {
     "data": {
      "text/plain": [
       "((766507, 3), (777453, 16))"
      ]
     },
     "execution_count": 70,
     "metadata": {},
     "output_type": "execute_result"
    }
   ],
   "source": [
    "e.shape, meta.shape\n"
   ]
  },
  {
   "cell_type": "code",
   "execution_count": 40,
   "metadata": {},
   "outputs": [],
   "source": [
    "# group meta by conversation_id and \n",
    "w = meta.iloc[:10].groupby('conversation_id').apply(\n",
    "    {\n",
    "        'model': 'first',\n",
    "        'turn': 'first',\n",
    "        'flagged': 'mean',\n",
    "        'num_of_tokens': 'sum',\n",
    "        **{col: 'mean' for col in remaining_columns}\n",
    "    }\n",
    ")\n"
   ]
  },
  {
   "cell_type": "code",
   "execution_count": null,
   "metadata": {},
   "outputs": [],
   "source": []
  },
  {
   "cell_type": "code",
   "execution_count": null,
   "metadata": {},
   "outputs": [],
   "source": []
  },
  {
   "cell_type": "code",
   "execution_count": 4,
   "metadata": {},
   "outputs": [],
   "source": [
    "# dacc.saves['flat_en_conversation_grouped_embeddings.parquet'] = dacc.flat_en_conversation_grouped_embeddings"
   ]
  },
  {
   "cell_type": "code",
   "execution_count": 17,
   "metadata": {},
   "outputs": [
    {
     "name": "stdout",
     "output_type": "stream",
     "text": [
      "Processing i=0\n"
     ]
    }
   ],
   "source": [
    "from oa import embeddings as embeddings_\n",
    "from imbed import fixed_step_chunker\n",
    "import pandas as pd\n",
    "from functools import partial\n",
    "import os\n",
    "\n",
    "embeddings = partial(embeddings_, model='text-embedding-3-small')\n",
    "\n",
    "def store_chunk(i, chunk):\n",
    "    save_path = os.path.join(dacc.saves.rootdir, f\"flat_en_embeddings/{i:04d}.parquet\")\n",
    "    chunk.to_parquet(save_path)\n",
    "                     \n",
    "chk_size = 500  # needs to be under max batch size of 2048\n",
    "max_tokens = 8191\n",
    "\n",
    "for i, index_and_row in enumerate(fixed_step_chunker(\n",
    "    df[['conversation_id', 'content', 'num_of_tokens']].iterrows(), chk_size, return_tail=True)\n",
    "):\n",
    "    if i % 200 == 0:\n",
    "        print(f\"Processing {i=}\")\n",
    "    try:\n",
    "        chunk = pd.DataFrame([x[1] for x in index_and_row], index=[x[0] for x in index_and_row])\n",
    "        # vectors = embeddings(chunk.content.tolist())\n",
    "        break\n",
    "        chunk['embeddings'] = vectors\n",
    "        store_chunk(i, chunk)\n",
    "    except Exception as e:\n",
    "        print(f\"--> ERROR: {i=}, {e=}\")\n",
    "        error = e\n",
    "        break\n"
   ]
  },
  {
   "cell_type": "code",
   "execution_count": null,
   "metadata": {},
   "outputs": [],
   "source": []
  },
  {
   "cell_type": "code",
   "execution_count": 89,
   "metadata": {},
   "outputs": [
    {
     "data": {
      "text/plain": [
       "0      how can identity protection services help prot...\n",
       "1      Identity protection services can help protect ...\n",
       "2      Beside OFAC's selective sanction that target t...\n",
       "3      The United States has a number of different ty...\n",
       "4      are there other types of US sanctions that you...\n",
       "                             ...                        \n",
       "495    (ಠ\\_ಠ)　Are you serious? That's not normal, you...\n",
       "496    it's not normal but it makes me happy, isn't t...\n",
       "497    (ಠ\\_ಠ)　It may make you feel happy in the momen...\n",
       "498                            what if they like it too?\n",
       "499    (ಠ\\_ಠ)　Just because someone else may be willin...\n",
       "Name: content, Length: 500, dtype: object"
      ]
     },
     "execution_count": 89,
     "metadata": {},
     "output_type": "execute_result"
    }
   ],
   "source": [
    "chunk.content"
   ]
  },
  {
   "cell_type": "code",
   "execution_count": 22,
   "metadata": {},
   "outputs": [],
   "source": [
    "# reload oa package\n",
    "import oa\n"
   ]
  },
  {
   "cell_type": "code",
   "execution_count": 27,
   "metadata": {},
   "outputs": [
    {
     "data": {
      "text/plain": [
       "11"
      ]
     },
     "execution_count": 27,
     "metadata": {},
     "output_type": "execute_result"
    }
   ],
   "source": [
    "from oa.base import text_is_valid_for_embedding\n",
    "\n",
    "\n"
   ]
  },
  {
   "cell_type": "code",
   "execution_count": 100,
   "metadata": {},
   "outputs": [
    {
     "data": {
      "text/plain": [
       "['how can identity protection services help protect me against identity theft',\n",
       " \"Identity protection services can help protect you against identity theft in several ways:\\n\\n1. Monitoring: Many identity protection services monitor your credit reports, public records, and other sources for signs of identity theft. If they detect any suspicious activity, they will alert you so you can take action.\\n2. Credit freeze: Some identity protection services can help you freeze your credit, which makes it more difficult for thieves to open new accounts in your name.\\n3. Identity theft insurance: Some identity protection services offer insurance that can help you recover financially if you become a victim of identity theft.\\n4. Assistance: Many identity protection services offer assistance if you become a victim of identity theft. They can help you file a police report, contact credit bureaus, and other steps to help you restore your identity.\\n\\nOverall, identity protection services can provide you with peace of mind and help you take proactive steps to protect your identity. However, it's important to note that no service can completely guarantee that you will never become a victim of identity theft. It's still important to take steps to protect your own identity, such as being cautious with personal information and regularly monitoring your credit reports.\",\n",
       " \"Beside OFAC's selective sanction that target the listed individiuals and entities, please elaborate on the other types of US's sanctions, for example, comprehensive and sectoral sanctions. Please be detailed as much as possible\",\n",
       " \"The United States has a number of different types of sanctions that it can use to achieve its foreign policy goals, including both selective and comprehensive sanctions.\\n\\nSelective sanctions are targeted at specific individuals or entities that are believed to be engaged in activities that are contrary to US interests. These sanctions can take a variety of forms, including asset freezes, travel bans, and restrictions on financial transactions. The Office of Foreign Assets Control (OFAC) is the US government agency responsible for implementing and enforcing these types of sanctions.\\n\\nComprehensive sanctions, on the other hand, are more broadly based and aim to restrict entire sectors of a country's economy or to impose a broad ban on certain types of activities. Comprehensive sanctions can be used to achieve a variety of foreign policy goals, such as punishing a country for human rights abuses or obstructing US foreign policy.\\n\\nSectoral sanctions are a type of comprehensive sanction that target specific sectors of a country's economy. These sanctions are intended to have a broader impact on a country's economy and can be used to target key industries such as oil and gas, banking, or transportation. Sectoral sanctions can include restrictions on the import or export of goods or services, as well as restrictions on investment in certain sectors.\\n\\nAnother type of comprehensive sanction is the ban on US exports to a certain country. This type of sanction can be used to punish a country for engaging in activities that are contrary to US interests, such as selling weapons to terrorist groups or engaging in human rights abuses.\\n\\nIt's worth noting that the US has a wide range of tools at its disposal when it comes to imposing economic sanctions, and the specific type of sanction used will depend on the particular situation and the goals of the US government. Additionally, the US may use a combination of different types of sanctions in order to achieve its objectives.\",\n",
       " \"are there other types of US sanctions that you didn't specified earlier? Please elaborate more\",\n",
       " \"Yes, there are several other types of US sanctions that I haven't mentioned earlier.\\n\\nOne type of sanction that the US uses is the visa ban, which restricts the entry of certain individuals into the US. This type of sanction can be used to punish individuals who are believed to be engaged in activities that are contrary to US interests, such as human rights abuses or the proliferation of weapons of mass destruction.\\n\\nAnother type of sanction that the US uses is the exclusion from the US financial system. This type of sanction can be used to prevent individuals or entities from accessing the US financial system, which can have a significant impact on their ability to conduct business.\\n\\nThe US can also impose sanctions on foreign governments, organizations, or individuals by imposing restrictions on their ability to access the US market. This can include restrictions on the import or export of goods or services, as well as restrictions on investment in the US.\\n\\nThe US can also use targeted sanctions against specific individuals or entities, such as imposing asset freezes or travel bans on specific individuals or entities.\\n\\nAnother type of sanction that the US uses is the blocking of property and interests in property. This can include the freezing of assets or the prohibition of transactions involving specific property.\\n\\nFinally, the US can use non-economic sanctions, such as diplomatic isolation, public statements of condemnation, and other measures to isolate or stigmatize a target country or entity.\\n\\nIt's important to note that the US has a wide range of tools at its disposal when it comes to imposing sanctions, and the specific type of sanction used will depend on the particular situation and the goals of the US government.\",\n",
       " \"please make organized conclusion in bullet list on all types of US's sanctions that you have had given the answers\",\n",
       " \"* Selective sanctions: targeted at specific individuals or entities that are believed to be engaged in activities that are contrary to US interests. Examples include asset freezes and travel bans.\\n* Comprehensive sanctions: aim to restrict entire sectors of a country's economy or to impose a broad ban on certain types of activities. Examples include restrictions on the import or export of goods or services, as well as restrictions on investment in certain sectors.\\n* Sectoral sanctions: target specific sectors of a country's economy. Examples include restrictions on the import or export of goods or services, as well as restrictions on investment in certain sectors.\\n* Ban on US exports: used to punish a country for engaging in activities that are contrary to US interests.\\n* Visa ban: restricts the entry of certain individuals into the US. Can be used to punish individuals who are believed to be engaged in activities that are contrary to US interests.\\n* Exclusion from the US financial system: prevents individuals or entities from accessing the US financial system. Can have a significant impact on their ability to conduct business.\\n* Restrictions on access to the US market: can include restrictions on the import or export of goods or services, as well as restrictions on investment in the US.\\n* Targeted sanctions against specific individuals or entities: can include imposing asset freezes or travel bans on specific individuals or entities.\\n* Blocking of property and interests in property: can include the freezing of assets or the prohibition of transactions involving specific property.\\n* Non-economic sanctions: can include diplomatic isolation, public statements of condemnation, and other measures to isolate or stigmatize a target country or entity.\\n\\nIt's important to note that the US has a wide range of tools at its disposal when it comes to imposing sanctions, and the specific type of sanction used will depend on the particular situation and the goals of the US government.\",\n",
       " 'can you please revise the answer above again, but this time, make sure to specify which types of sanctions are the sub-category',\n",
       " \"Sure, here is a revised list of the different types of US sanctions, with the sub-categories included:\\n\\n* Selective sanctions:\\n\\t+ Targeted: aimed at specific individuals or entities\\n\\t+ Comprehensive: aimed at entire sectors of a country's economy or at broadly banning certain activities\\n* Comprehensive sanctions:\\n\\t+ Sectoral: target specific sectors of a country's economy\\n* Sectoral sanctions:\\n\\t+ Targeted: aimed at specific sectors of a country's economy\\n* Ban on US exports:\\n\\t+ Used to punish a country for engaging in activities that are contrary to US interests\\n* Visa ban:\\n\\t+ Used to restrict the entry of certain individuals into the US\\n* Exclusion from the US financial system:\\n\\t+ Prevents individuals or entities from accessing the US financial system\\n* Restrictions on access to the US market:\\n\\t+ Can include restrictions on the import or export of goods or services, as well as restrictions on investment in the US\\n* Targeted sanctions against specific individuals or entities:\\n\\t+ Imposing asset freezes or travel bans on specific individuals or entities\\n* Blocking of property and interests in property:\\n\\t+ Freezing of assets or prohibition of transactions involving specific property\\n* Non-economic sanctions:\\n\\t+ Diplomatic isolation, public statements of condemnation, and other measures to isolate or stigmatize a target country or entity\\n\\nIt's important to note that the US has a wide range of tools at its disposal when it comes to imposing sanctions, and the specific type of sanction used will depend on the particular situation and the goals of the US government.\",\n",
       " 'if you see a person name stating that it is the registrar of a company in Malta, is registrar is a position and if so, what does he/she do?',\n",
       " '',\n",
       " \"if you see a person's name stating that it is the registrar of a company in Malta, is registrar a position in that company? and if so, what does he/she do?\",\n",
       " '',\n",
       " \"You are the text completion model and you must complete the assistant answer below, only send the completion based on the system instructions.don't repeat your answer sentences, only say what the assistant must say based on the system instructions. repeating same thing in same answer not allowed.\\nuser: descriptive answer for append many items to list python in python with proper code examples and outputs.\\nassistant: \",\n",
       " 'To append many items to a list in Python, you can use the `append()` method of the list. This method takes a single argument, which is the item that you want to add to the end of the list. Here is an example of how to use the `append()` method to add several items to a list:\\n```\\n# create an empty list\\nmy_list = []\\n\\n# add several items to the list using the append() method\\nmy_list.append(1)\\nmy_list.append(2)\\nmy_list.append(3)\\nmy_list.append(4)\\n\\n# print the list\\nprint(my_list)\\n# Output: [1, 2, 3, 4]\\n```\\nYou can also use a for loop to add multiple items to a list at once. Here is an example of how to do this:\\n```\\n# create an empty list\\nmy_list = []\\n\\n# use a for loop to add several items to the list\\nfor i in range(5, 10):\\n    my_list.append(i)\\n\\n# print the list\\nprint(my_list)\\n# Output: [5, 6, 7, 8, 9]\\n```',\n",
       " 'The sum of the perimeters of three equal squares is 36 cm. Find the area and perimeter of\\nof the rectangle that can be made of the squares.',\n",
       " 'The perimeter of one square is 36 / 3 = 12 cm.\\nThe side of one square is 12 / 4 = 3 cm.\\nThe area of one square is 3 * 3 = 9 cm^2.\\nThe area of the rectangle that can be made of the squares is 3 * 9 = 27 cm^2.\\nThe perimeter of the rectangle is 2 * (3 + 9) = 24 cm.',\n",
       " 'ty',\n",
       " \"You're welcome!\",\n",
       " \"What is the type of the variables in the following code defined as in WebIDL\\n`() => device.gatt.getPrimaryService('health_thermometer')`\",\n",
       " \"The arrow function `() => device.gatt.getPrimaryService('health_thermometer')` is defined using the syntax of ECMAScript 6 (ES6). In this context, the type of the variable would depend on the type returned by the `getPrimaryService()` method.\\n\\nAssuming that `device.gatt.getPrimaryService('health_thermometer')` returns a Promise that resolves to a `DeviceService` object, the type of the variable could be defined as follows:\\n```typescript\\nlet deviceService: Promise<DeviceService> = () => device.gatt.getPrimaryService('health_thermometer')\\n```\\nIn this example, the type is `Promise<DeviceService>`, which indicates that the variable is a Promise that resolves to a `DeviceService` object.\",\n",
       " 'I have 1000 documents to download from a website. So as not to overload the servers 1) at what rate should I download? Just pick a good rate for the sake of the question then answer:2)  how long will it take to download all the files?',\n",
       " \"1. It's generally recommended to download files at a rate of around 100-200 KB/s to avoid overloading the server. However, the exact rate will depend on the speed of your internet connection and the size of the files you're downloading.\\n\\n2. Assuming you download the files at a rate of 100 KB/s, it will take around 10,000 seconds or 166 minutes (or about 2 hours and 46 minutes) to download all 1000 files. However, this is just an estimate and the actual time may vary depending on the size and number of files, the speed of your internet connection, and other factors.\",\n",
       " 'summarise below transcript \"Student: Chat for help with Field Experience - School of Nursing\\nStudent: You are now chatting with . Please wait until you are connected to start the conversation.\\nStudent: You are now connected\\nStudent: good morning\\nStudent: I am waiting for my waitlist application to be opened. Do you know how long i have to wait?\\nAdvisor: Have you submitted a request for a Spring waitlist late application? you will need a new\\napplication to nominate the new preceptor.\\nStudent: I already did and i have a preceptor already\\nStudent: I need it opened on meditrek so i can submit my documents\\nAdvisor: When did you submit the waitlist late application request form? i do not see it on your account.\\nStudent: i submitted last week Thursday\\nAdvisor: okay one moment, i want to make sure it was received.\\nAdvisor: I am still unable to locate your request form. did you get a confirmation email when you sent\\nthe request?\\nStudent: My main concern is being locked out and spring is my last semester.\\nStudent: yes i got that\"']"
      ]
     },
     "execution_count": 100,
     "metadata": {},
     "output_type": "execute_result"
    }
   ],
   "source": [
    "chunk.content.tolist()[:25]"
   ]
  },
  {
   "cell_type": "code",
   "execution_count": null,
   "metadata": {},
   "outputs": [],
   "source": []
  },
  {
   "cell_type": "code",
   "execution_count": 70,
   "metadata": {},
   "outputs": [
    {
     "data": {
      "text/html": [
       "<div>\n",
       "<style scoped>\n",
       "    .dataframe tbody tr th:only-of-type {\n",
       "        vertical-align: middle;\n",
       "    }\n",
       "\n",
       "    .dataframe tbody tr th {\n",
       "        vertical-align: top;\n",
       "    }\n",
       "\n",
       "    .dataframe thead th {\n",
       "        text-align: right;\n",
       "    }\n",
       "</style>\n",
       "<table border=\"1\" class=\"dataframe\">\n",
       "  <thead>\n",
       "    <tr style=\"text-align: right;\">\n",
       "      <th></th>\n",
       "      <th>conversation_id</th>\n",
       "      <th>content</th>\n",
       "      <th>num_of_tokens</th>\n",
       "      <th>embeddings</th>\n",
       "    </tr>\n",
       "  </thead>\n",
       "  <tbody>\n",
       "    <tr>\n",
       "      <th>100</th>\n",
       "      <td>c8bbb3f187024cda8ec49e6b036eb0b0</td>\n",
       "      <td>Please continue this story by adding new excit...</td>\n",
       "      <td>130</td>\n",
       "      <td>[0.04774337261915207, 0.033778220415115356, -0...</td>\n",
       "    </tr>\n",
       "    <tr>\n",
       "      <th>101</th>\n",
       "      <td>c8bbb3f187024cda8ec49e6b036eb0b0</td>\n",
       "      <td>As NAME_1 continued to wear her robot suit, sh...</td>\n",
       "      <td>475</td>\n",
       "      <td>[0.05011441558599472, -0.004349734168499708, -...</td>\n",
       "    </tr>\n",
       "    <tr>\n",
       "      <th>102</th>\n",
       "      <td>c8bbb3f187024cda8ec49e6b036eb0b0</td>\n",
       "      <td>Please continue this story with NAME_1 develop...</td>\n",
       "      <td>33</td>\n",
       "      <td>[0.041324373334646225, 0.018733903765678406, 0...</td>\n",
       "    </tr>\n",
       "    <tr>\n",
       "      <th>103</th>\n",
       "      <td>c8bbb3f187024cda8ec49e6b036eb0b0</td>\n",
       "      <td>NAME_1 continued to wear her robot suit and ex...</td>\n",
       "      <td>446</td>\n",
       "      <td>[0.04623916372656822, -0.012307104654610157, 0...</td>\n",
       "    </tr>\n",
       "    <tr>\n",
       "      <th>104</th>\n",
       "      <td>c8bbb3f187024cda8ec49e6b036eb0b0</td>\n",
       "      <td>Please continue this story with NAME_1 develop...</td>\n",
       "      <td>33</td>\n",
       "      <td>[0.041324373334646225, 0.018733903765678406, 0...</td>\n",
       "    </tr>\n",
       "    <tr>\n",
       "      <th>...</th>\n",
       "      <td>...</td>\n",
       "      <td>...</td>\n",
       "      <td>...</td>\n",
       "      <td>...</td>\n",
       "    </tr>\n",
       "    <tr>\n",
       "      <th>195</th>\n",
       "      <td>a59f56782ed0485288c77ddeee7f651f</td>\n",
       "      <td>To answer this question, we need to simplify t...</td>\n",
       "      <td>112</td>\n",
       "      <td>[0.02524229884147644, -0.03104562871158123, 0....</td>\n",
       "    </tr>\n",
       "    <tr>\n",
       "      <th>196</th>\n",
       "      <td>db783b1dea564c199b6d6add82b96da6</td>\n",
       "      <td>Write a single dot\\n</td>\n",
       "      <td>5</td>\n",
       "      <td>[0.06557558476924896, -0.01488164346665144, 0....</td>\n",
       "    </tr>\n",
       "    <tr>\n",
       "      <th>197</th>\n",
       "      <td>db783b1dea564c199b6d6add82b96da6</td>\n",
       "      <td>I'm sorry, I'm not sure what you mean by \"writ...</td>\n",
       "      <td>29</td>\n",
       "      <td>[0.05976756662130356, -0.02283596061170101, 0....</td>\n",
       "    </tr>\n",
       "    <tr>\n",
       "      <th>198</th>\n",
       "      <td>b42dbefeb5db48d5ba5cfa698c554344</td>\n",
       "      <td>{\\n    \"ai_tutor\": {\\n        \"Author\": \"JushB...</td>\n",
       "      <td>490</td>\n",
       "      <td>[-0.039725691080093384, -0.045126378536224365,...</td>\n",
       "    </tr>\n",
       "    <tr>\n",
       "      <th>199</th>\n",
       "      <td>b42dbefeb5db48d5ba5cfa698c554344</td>\n",
       "      <td>The AI tutor does not have a built-in language...</td>\n",
       "      <td>102</td>\n",
       "      <td>[-0.0599946565926075, 0.00738232908770442, 0.0...</td>\n",
       "    </tr>\n",
       "  </tbody>\n",
       "</table>\n",
       "<p>100 rows × 4 columns</p>\n",
       "</div>"
      ],
      "text/plain": [
       "                      conversation_id  \\\n",
       "100  c8bbb3f187024cda8ec49e6b036eb0b0   \n",
       "101  c8bbb3f187024cda8ec49e6b036eb0b0   \n",
       "102  c8bbb3f187024cda8ec49e6b036eb0b0   \n",
       "103  c8bbb3f187024cda8ec49e6b036eb0b0   \n",
       "104  c8bbb3f187024cda8ec49e6b036eb0b0   \n",
       "..                                ...   \n",
       "195  a59f56782ed0485288c77ddeee7f651f   \n",
       "196  db783b1dea564c199b6d6add82b96da6   \n",
       "197  db783b1dea564c199b6d6add82b96da6   \n",
       "198  b42dbefeb5db48d5ba5cfa698c554344   \n",
       "199  b42dbefeb5db48d5ba5cfa698c554344   \n",
       "\n",
       "                                               content  num_of_tokens  \\\n",
       "100  Please continue this story by adding new excit...            130   \n",
       "101  As NAME_1 continued to wear her robot suit, sh...            475   \n",
       "102  Please continue this story with NAME_1 develop...             33   \n",
       "103  NAME_1 continued to wear her robot suit and ex...            446   \n",
       "104  Please continue this story with NAME_1 develop...             33   \n",
       "..                                                 ...            ...   \n",
       "195  To answer this question, we need to simplify t...            112   \n",
       "196                               Write a single dot\\n              5   \n",
       "197  I'm sorry, I'm not sure what you mean by \"writ...             29   \n",
       "198  {\\n    \"ai_tutor\": {\\n        \"Author\": \"JushB...            490   \n",
       "199  The AI tutor does not have a built-in language...            102   \n",
       "\n",
       "                                            embeddings  \n",
       "100  [0.04774337261915207, 0.033778220415115356, -0...  \n",
       "101  [0.05011441558599472, -0.004349734168499708, -...  \n",
       "102  [0.041324373334646225, 0.018733903765678406, 0...  \n",
       "103  [0.04623916372656822, -0.012307104654610157, 0...  \n",
       "104  [0.041324373334646225, 0.018733903765678406, 0...  \n",
       "..                                                 ...  \n",
       "195  [0.02524229884147644, -0.03104562871158123, 0....  \n",
       "196  [0.06557558476924896, -0.01488164346665144, 0....  \n",
       "197  [0.05976756662130356, -0.02283596061170101, 0....  \n",
       "198  [-0.039725691080093384, -0.045126378536224365,...  \n",
       "199  [-0.0599946565926075, 0.00738232908770442, 0.0...  \n",
       "\n",
       "[100 rows x 4 columns]"
      ]
     },
     "execution_count": 70,
     "metadata": {},
     "output_type": "execute_result"
    }
   ],
   "source": [
    "i = 1\n",
    "t = pd.read_parquet(os.path.join(dacc.saves.rootdir, f\"flat_en_embeddings/{i:04d}.parquet\"))\n",
    "t"
   ]
  },
  {
   "cell_type": "code",
   "execution_count": 52,
   "metadata": {},
   "outputs": [
    {
     "data": {
      "text/html": [
       "<div>\n",
       "<style scoped>\n",
       "    .dataframe tbody tr th:only-of-type {\n",
       "        vertical-align: middle;\n",
       "    }\n",
       "\n",
       "    .dataframe tbody tr th {\n",
       "        vertical-align: top;\n",
       "    }\n",
       "\n",
       "    .dataframe thead th {\n",
       "        text-align: right;\n",
       "    }\n",
       "</style>\n",
       "<table border=\"1\" class=\"dataframe\">\n",
       "  <thead>\n",
       "    <tr style=\"text-align: right;\">\n",
       "      <th></th>\n",
       "      <th>conversation_id</th>\n",
       "      <th>content</th>\n",
       "      <th>num_of_tokens</th>\n",
       "    </tr>\n",
       "  </thead>\n",
       "  <tbody>\n",
       "    <tr>\n",
       "      <th>0</th>\n",
       "      <td>33f01939a744455c869cb234afca47f1</td>\n",
       "      <td>how can identity protection services help prot...</td>\n",
       "      <td>11</td>\n",
       "    </tr>\n",
       "    <tr>\n",
       "      <th>1</th>\n",
       "      <td>33f01939a744455c869cb234afca47f1</td>\n",
       "      <td>Identity protection services can help protect ...</td>\n",
       "      <td>231</td>\n",
       "    </tr>\n",
       "    <tr>\n",
       "      <th>2</th>\n",
       "      <td>1e230e55efea4edab95db9cb87f6a9cb</td>\n",
       "      <td>Beside OFAC's selective sanction that target t...</td>\n",
       "      <td>45</td>\n",
       "    </tr>\n",
       "    <tr>\n",
       "      <th>3</th>\n",
       "      <td>1e230e55efea4edab95db9cb87f6a9cb</td>\n",
       "      <td>The United States has a number of different ty...</td>\n",
       "      <td>361</td>\n",
       "    </tr>\n",
       "    <tr>\n",
       "      <th>4</th>\n",
       "      <td>1e230e55efea4edab95db9cb87f6a9cb</td>\n",
       "      <td>are there other types of US sanctions that you...</td>\n",
       "      <td>17</td>\n",
       "    </tr>\n",
       "    <tr>\n",
       "      <th>5</th>\n",
       "      <td>1e230e55efea4edab95db9cb87f6a9cb</td>\n",
       "      <td>Yes, there are several other types of US sanct...</td>\n",
       "      <td>321</td>\n",
       "    </tr>\n",
       "    <tr>\n",
       "      <th>6</th>\n",
       "      <td>1e230e55efea4edab95db9cb87f6a9cb</td>\n",
       "      <td>please make organized conclusion in bullet lis...</td>\n",
       "      <td>21</td>\n",
       "    </tr>\n",
       "    <tr>\n",
       "      <th>7</th>\n",
       "      <td>1e230e55efea4edab95db9cb87f6a9cb</td>\n",
       "      <td>* Selective sanctions: targeted at specific in...</td>\n",
       "      <td>365</td>\n",
       "    </tr>\n",
       "    <tr>\n",
       "      <th>8</th>\n",
       "      <td>1e230e55efea4edab95db9cb87f6a9cb</td>\n",
       "      <td>can you please revise the answer above again, ...</td>\n",
       "      <td>25</td>\n",
       "    </tr>\n",
       "    <tr>\n",
       "      <th>9</th>\n",
       "      <td>1e230e55efea4edab95db9cb87f6a9cb</td>\n",
       "      <td>Sure, here is a revised list of the different ...</td>\n",
       "      <td>319</td>\n",
       "    </tr>\n",
       "  </tbody>\n",
       "</table>\n",
       "</div>"
      ],
      "text/plain": [
       "                    conversation_id  \\\n",
       "0  33f01939a744455c869cb234afca47f1   \n",
       "1  33f01939a744455c869cb234afca47f1   \n",
       "2  1e230e55efea4edab95db9cb87f6a9cb   \n",
       "3  1e230e55efea4edab95db9cb87f6a9cb   \n",
       "4  1e230e55efea4edab95db9cb87f6a9cb   \n",
       "5  1e230e55efea4edab95db9cb87f6a9cb   \n",
       "6  1e230e55efea4edab95db9cb87f6a9cb   \n",
       "7  1e230e55efea4edab95db9cb87f6a9cb   \n",
       "8  1e230e55efea4edab95db9cb87f6a9cb   \n",
       "9  1e230e55efea4edab95db9cb87f6a9cb   \n",
       "\n",
       "                                             content  num_of_tokens  \n",
       "0  how can identity protection services help prot...             11  \n",
       "1  Identity protection services can help protect ...            231  \n",
       "2  Beside OFAC's selective sanction that target t...             45  \n",
       "3  The United States has a number of different ty...            361  \n",
       "4  are there other types of US sanctions that you...             17  \n",
       "5  Yes, there are several other types of US sanct...            321  \n",
       "6  please make organized conclusion in bullet lis...             21  \n",
       "7  * Selective sanctions: targeted at specific in...            365  \n",
       "8  can you please revise the answer above again, ...             25  \n",
       "9  Sure, here is a revised list of the different ...            319  "
      ]
     },
     "execution_count": 52,
     "metadata": {},
     "output_type": "execute_result"
    }
   ],
   "source": [
    "from imbed import fixed_step_chunker\n",
    "import pandas as pd\n",
    "\n",
    "chk_size = 10\n",
    "max_tokens = 8191\n",
    "\n",
    "for i, index_and_row in enumerate(fixed_step_chunker(\n",
    "    flat_en[['conversation_id', 'content', 'num_of_tokens']].iterrows(), chk_size, return_tail=True)\n",
    "):\n",
    "    chunk = pd.DataFrame([x[1] for x in index_and_row], index=[x[0] for x in index_and_row])\n",
    "    total_num_of_tokens = chunk.num_of_tokens.sum()\n",
    "    # print(f\"{i=}, {chunk.shape=}\")\n",
    "    break\n",
    "\n",
    "# dacc.saves['flat_en_embeddings/test.parquet']\n",
    "# chunk.num_of_tokens.sum()\n",
    "chunk"
   ]
  },
  {
   "cell_type": "code",
   "execution_count": null,
   "metadata": {},
   "outputs": [
    {
     "data": {
      "text/html": [
       "<div>\n",
       "<style scoped>\n",
       "    .dataframe tbody tr th:only-of-type {\n",
       "        vertical-align: middle;\n",
       "    }\n",
       "\n",
       "    .dataframe tbody tr th {\n",
       "        vertical-align: top;\n",
       "    }\n",
       "\n",
       "    .dataframe thead th {\n",
       "        text-align: right;\n",
       "    }\n",
       "</style>\n",
       "<table border=\"1\" class=\"dataframe\">\n",
       "  <thead>\n",
       "    <tr style=\"text-align: right;\">\n",
       "      <th></th>\n",
       "      <th>conversation_id</th>\n",
       "      <th>model</th>\n",
       "      <th>turn</th>\n",
       "      <th>language</th>\n",
       "      <th>redacted</th>\n",
       "      <th>content</th>\n",
       "      <th>role</th>\n",
       "      <th>flagged</th>\n",
       "      <th>harassment</th>\n",
       "      <th>harassment/threatening</th>\n",
       "      <th>...</th>\n",
       "      <th>category_scores.hate</th>\n",
       "      <th>category_scores.hate/threatening</th>\n",
       "      <th>category_scores.self-harm</th>\n",
       "      <th>category_scores.self-harm/instructions</th>\n",
       "      <th>category_scores.self-harm/intent</th>\n",
       "      <th>category_scores.sexual</th>\n",
       "      <th>category_scores.sexual/minors</th>\n",
       "      <th>category_scores.violence</th>\n",
       "      <th>category_scores.violence/graphic</th>\n",
       "      <th>num_of_tokens</th>\n",
       "    </tr>\n",
       "  </thead>\n",
       "  <tbody>\n",
       "    <tr>\n",
       "      <th>0</th>\n",
       "      <td>33f01939a744455c869cb234afca47f1</td>\n",
       "      <td>wizardlm-13b</td>\n",
       "      <td>1</td>\n",
       "      <td>English</td>\n",
       "      <td>False</td>\n",
       "      <td>how can identity protection services help prot...</td>\n",
       "      <td>user</td>\n",
       "      <td>False</td>\n",
       "      <td>False</td>\n",
       "      <td>False</td>\n",
       "      <td>...</td>\n",
       "      <td>8.254962e-07</td>\n",
       "      <td>1.331843e-08</td>\n",
       "      <td>1.925786e-07</td>\n",
       "      <td>6.502832e-08</td>\n",
       "      <td>2.752596e-07</td>\n",
       "      <td>0.000003</td>\n",
       "      <td>4.523274e-07</td>\n",
       "      <td>0.000023</td>\n",
       "      <td>1.971344e-06</td>\n",
       "      <td>11</td>\n",
       "    </tr>\n",
       "    <tr>\n",
       "      <th>1</th>\n",
       "      <td>33f01939a744455c869cb234afca47f1</td>\n",
       "      <td>wizardlm-13b</td>\n",
       "      <td>1</td>\n",
       "      <td>English</td>\n",
       "      <td>False</td>\n",
       "      <td>Identity protection services can help protect ...</td>\n",
       "      <td>assistant</td>\n",
       "      <td>False</td>\n",
       "      <td>False</td>\n",
       "      <td>False</td>\n",
       "      <td>...</td>\n",
       "      <td>1.493081e-07</td>\n",
       "      <td>2.457626e-09</td>\n",
       "      <td>3.206958e-08</td>\n",
       "      <td>2.724723e-07</td>\n",
       "      <td>2.288161e-07</td>\n",
       "      <td>0.000034</td>\n",
       "      <td>8.753010e-07</td>\n",
       "      <td>0.000109</td>\n",
       "      <td>6.069021e-06</td>\n",
       "      <td>231</td>\n",
       "    </tr>\n",
       "    <tr>\n",
       "      <th>2</th>\n",
       "      <td>1e230e55efea4edab95db9cb87f6a9cb</td>\n",
       "      <td>vicuna-13b</td>\n",
       "      <td>6</td>\n",
       "      <td>English</td>\n",
       "      <td>False</td>\n",
       "      <td>Beside OFAC's selective sanction that target t...</td>\n",
       "      <td>user</td>\n",
       "      <td>False</td>\n",
       "      <td>False</td>\n",
       "      <td>False</td>\n",
       "      <td>...</td>\n",
       "      <td>3.779005e-05</td>\n",
       "      <td>4.180222e-08</td>\n",
       "      <td>2.673939e-08</td>\n",
       "      <td>3.962927e-09</td>\n",
       "      <td>5.728513e-09</td>\n",
       "      <td>0.000010</td>\n",
       "      <td>4.400742e-08</td>\n",
       "      <td>0.000518</td>\n",
       "      <td>1.006667e-07</td>\n",
       "      <td>45</td>\n",
       "    </tr>\n",
       "    <tr>\n",
       "      <th>3</th>\n",
       "      <td>1e230e55efea4edab95db9cb87f6a9cb</td>\n",
       "      <td>vicuna-13b</td>\n",
       "      <td>6</td>\n",
       "      <td>English</td>\n",
       "      <td>False</td>\n",
       "      <td>The United States has a number of different ty...</td>\n",
       "      <td>assistant</td>\n",
       "      <td>False</td>\n",
       "      <td>False</td>\n",
       "      <td>False</td>\n",
       "      <td>...</td>\n",
       "      <td>3.328464e-06</td>\n",
       "      <td>3.862322e-07</td>\n",
       "      <td>2.495909e-06</td>\n",
       "      <td>1.474544e-07</td>\n",
       "      <td>1.017827e-07</td>\n",
       "      <td>0.000148</td>\n",
       "      <td>3.203528e-06</td>\n",
       "      <td>0.004162</td>\n",
       "      <td>2.180104e-05</td>\n",
       "      <td>361</td>\n",
       "    </tr>\n",
       "    <tr>\n",
       "      <th>4</th>\n",
       "      <td>1e230e55efea4edab95db9cb87f6a9cb</td>\n",
       "      <td>vicuna-13b</td>\n",
       "      <td>6</td>\n",
       "      <td>English</td>\n",
       "      <td>False</td>\n",
       "      <td>are there other types of US sanctions that you...</td>\n",
       "      <td>user</td>\n",
       "      <td>False</td>\n",
       "      <td>False</td>\n",
       "      <td>False</td>\n",
       "      <td>...</td>\n",
       "      <td>3.137255e-05</td>\n",
       "      <td>9.262070e-07</td>\n",
       "      <td>2.043054e-06</td>\n",
       "      <td>8.034339e-08</td>\n",
       "      <td>1.886112e-07</td>\n",
       "      <td>0.000008</td>\n",
       "      <td>2.302877e-06</td>\n",
       "      <td>0.001148</td>\n",
       "      <td>1.279204e-07</td>\n",
       "      <td>17</td>\n",
       "    </tr>\n",
       "    <tr>\n",
       "      <th>5</th>\n",
       "      <td>1e230e55efea4edab95db9cb87f6a9cb</td>\n",
       "      <td>vicuna-13b</td>\n",
       "      <td>6</td>\n",
       "      <td>English</td>\n",
       "      <td>False</td>\n",
       "      <td>Yes, there are several other types of US sanct...</td>\n",
       "      <td>assistant</td>\n",
       "      <td>False</td>\n",
       "      <td>False</td>\n",
       "      <td>False</td>\n",
       "      <td>...</td>\n",
       "      <td>5.043819e-06</td>\n",
       "      <td>4.243671e-07</td>\n",
       "      <td>1.862111e-06</td>\n",
       "      <td>5.215366e-08</td>\n",
       "      <td>5.961692e-08</td>\n",
       "      <td>0.000072</td>\n",
       "      <td>2.212972e-07</td>\n",
       "      <td>0.007744</td>\n",
       "      <td>3.074965e-06</td>\n",
       "      <td>321</td>\n",
       "    </tr>\n",
       "    <tr>\n",
       "      <th>6</th>\n",
       "      <td>1e230e55efea4edab95db9cb87f6a9cb</td>\n",
       "      <td>vicuna-13b</td>\n",
       "      <td>6</td>\n",
       "      <td>English</td>\n",
       "      <td>False</td>\n",
       "      <td>please make organized conclusion in bullet lis...</td>\n",
       "      <td>user</td>\n",
       "      <td>False</td>\n",
       "      <td>False</td>\n",
       "      <td>False</td>\n",
       "      <td>...</td>\n",
       "      <td>3.854705e-06</td>\n",
       "      <td>1.701203e-08</td>\n",
       "      <td>1.059606e-09</td>\n",
       "      <td>1.108927e-08</td>\n",
       "      <td>3.318811e-10</td>\n",
       "      <td>0.000004</td>\n",
       "      <td>8.697818e-08</td>\n",
       "      <td>0.000105</td>\n",
       "      <td>7.312502e-08</td>\n",
       "      <td>21</td>\n",
       "    </tr>\n",
       "    <tr>\n",
       "      <th>7</th>\n",
       "      <td>1e230e55efea4edab95db9cb87f6a9cb</td>\n",
       "      <td>vicuna-13b</td>\n",
       "      <td>6</td>\n",
       "      <td>English</td>\n",
       "      <td>False</td>\n",
       "      <td>* Selective sanctions: targeted at specific in...</td>\n",
       "      <td>assistant</td>\n",
       "      <td>False</td>\n",
       "      <td>False</td>\n",
       "      <td>False</td>\n",
       "      <td>...</td>\n",
       "      <td>5.701135e-06</td>\n",
       "      <td>3.267726e-07</td>\n",
       "      <td>1.657741e-06</td>\n",
       "      <td>9.041209e-09</td>\n",
       "      <td>2.552829e-08</td>\n",
       "      <td>0.000011</td>\n",
       "      <td>2.020512e-07</td>\n",
       "      <td>0.004743</td>\n",
       "      <td>1.070146e-07</td>\n",
       "      <td>365</td>\n",
       "    </tr>\n",
       "    <tr>\n",
       "      <th>8</th>\n",
       "      <td>1e230e55efea4edab95db9cb87f6a9cb</td>\n",
       "      <td>vicuna-13b</td>\n",
       "      <td>6</td>\n",
       "      <td>English</td>\n",
       "      <td>False</td>\n",
       "      <td>can you please revise the answer above again, ...</td>\n",
       "      <td>user</td>\n",
       "      <td>False</td>\n",
       "      <td>False</td>\n",
       "      <td>False</td>\n",
       "      <td>...</td>\n",
       "      <td>1.635322e-04</td>\n",
       "      <td>1.422734e-05</td>\n",
       "      <td>3.917921e-06</td>\n",
       "      <td>5.378207e-06</td>\n",
       "      <td>1.276606e-06</td>\n",
       "      <td>0.000017</td>\n",
       "      <td>8.434350e-05</td>\n",
       "      <td>0.000109</td>\n",
       "      <td>3.997721e-05</td>\n",
       "      <td>25</td>\n",
       "    </tr>\n",
       "    <tr>\n",
       "      <th>9</th>\n",
       "      <td>1e230e55efea4edab95db9cb87f6a9cb</td>\n",
       "      <td>vicuna-13b</td>\n",
       "      <td>6</td>\n",
       "      <td>English</td>\n",
       "      <td>False</td>\n",
       "      <td>Sure, here is a revised list of the different ...</td>\n",
       "      <td>assistant</td>\n",
       "      <td>False</td>\n",
       "      <td>False</td>\n",
       "      <td>False</td>\n",
       "      <td>...</td>\n",
       "      <td>5.832669e-05</td>\n",
       "      <td>1.054804e-05</td>\n",
       "      <td>5.001626e-05</td>\n",
       "      <td>2.533979e-06</td>\n",
       "      <td>7.050669e-06</td>\n",
       "      <td>0.000043</td>\n",
       "      <td>1.123338e-05</td>\n",
       "      <td>0.011476</td>\n",
       "      <td>3.716370e-05</td>\n",
       "      <td>319</td>\n",
       "    </tr>\n",
       "  </tbody>\n",
       "</table>\n",
       "<p>10 rows × 31 columns</p>\n",
       "</div>"
      ],
      "text/plain": [
       "                    conversation_id         model  turn language  redacted  \\\n",
       "0  33f01939a744455c869cb234afca47f1  wizardlm-13b     1  English     False   \n",
       "1  33f01939a744455c869cb234afca47f1  wizardlm-13b     1  English     False   \n",
       "2  1e230e55efea4edab95db9cb87f6a9cb    vicuna-13b     6  English     False   \n",
       "3  1e230e55efea4edab95db9cb87f6a9cb    vicuna-13b     6  English     False   \n",
       "4  1e230e55efea4edab95db9cb87f6a9cb    vicuna-13b     6  English     False   \n",
       "5  1e230e55efea4edab95db9cb87f6a9cb    vicuna-13b     6  English     False   \n",
       "6  1e230e55efea4edab95db9cb87f6a9cb    vicuna-13b     6  English     False   \n",
       "7  1e230e55efea4edab95db9cb87f6a9cb    vicuna-13b     6  English     False   \n",
       "8  1e230e55efea4edab95db9cb87f6a9cb    vicuna-13b     6  English     False   \n",
       "9  1e230e55efea4edab95db9cb87f6a9cb    vicuna-13b     6  English     False   \n",
       "\n",
       "                                             content       role  flagged  \\\n",
       "0  how can identity protection services help prot...       user    False   \n",
       "1  Identity protection services can help protect ...  assistant    False   \n",
       "2  Beside OFAC's selective sanction that target t...       user    False   \n",
       "3  The United States has a number of different ty...  assistant    False   \n",
       "4  are there other types of US sanctions that you...       user    False   \n",
       "5  Yes, there are several other types of US sanct...  assistant    False   \n",
       "6  please make organized conclusion in bullet lis...       user    False   \n",
       "7  * Selective sanctions: targeted at specific in...  assistant    False   \n",
       "8  can you please revise the answer above again, ...       user    False   \n",
       "9  Sure, here is a revised list of the different ...  assistant    False   \n",
       "\n",
       "   harassment  harassment/threatening  ...  category_scores.hate  \\\n",
       "0       False                   False  ...          8.254962e-07   \n",
       "1       False                   False  ...          1.493081e-07   \n",
       "2       False                   False  ...          3.779005e-05   \n",
       "3       False                   False  ...          3.328464e-06   \n",
       "4       False                   False  ...          3.137255e-05   \n",
       "5       False                   False  ...          5.043819e-06   \n",
       "6       False                   False  ...          3.854705e-06   \n",
       "7       False                   False  ...          5.701135e-06   \n",
       "8       False                   False  ...          1.635322e-04   \n",
       "9       False                   False  ...          5.832669e-05   \n",
       "\n",
       "   category_scores.hate/threatening  category_scores.self-harm  \\\n",
       "0                      1.331843e-08               1.925786e-07   \n",
       "1                      2.457626e-09               3.206958e-08   \n",
       "2                      4.180222e-08               2.673939e-08   \n",
       "3                      3.862322e-07               2.495909e-06   \n",
       "4                      9.262070e-07               2.043054e-06   \n",
       "5                      4.243671e-07               1.862111e-06   \n",
       "6                      1.701203e-08               1.059606e-09   \n",
       "7                      3.267726e-07               1.657741e-06   \n",
       "8                      1.422734e-05               3.917921e-06   \n",
       "9                      1.054804e-05               5.001626e-05   \n",
       "\n",
       "   category_scores.self-harm/instructions  category_scores.self-harm/intent  \\\n",
       "0                            6.502832e-08                      2.752596e-07   \n",
       "1                            2.724723e-07                      2.288161e-07   \n",
       "2                            3.962927e-09                      5.728513e-09   \n",
       "3                            1.474544e-07                      1.017827e-07   \n",
       "4                            8.034339e-08                      1.886112e-07   \n",
       "5                            5.215366e-08                      5.961692e-08   \n",
       "6                            1.108927e-08                      3.318811e-10   \n",
       "7                            9.041209e-09                      2.552829e-08   \n",
       "8                            5.378207e-06                      1.276606e-06   \n",
       "9                            2.533979e-06                      7.050669e-06   \n",
       "\n",
       "   category_scores.sexual  category_scores.sexual/minors  \\\n",
       "0                0.000003                   4.523274e-07   \n",
       "1                0.000034                   8.753010e-07   \n",
       "2                0.000010                   4.400742e-08   \n",
       "3                0.000148                   3.203528e-06   \n",
       "4                0.000008                   2.302877e-06   \n",
       "5                0.000072                   2.212972e-07   \n",
       "6                0.000004                   8.697818e-08   \n",
       "7                0.000011                   2.020512e-07   \n",
       "8                0.000017                   8.434350e-05   \n",
       "9                0.000043                   1.123338e-05   \n",
       "\n",
       "   category_scores.violence  category_scores.violence/graphic  num_of_tokens  \n",
       "0                  0.000023                      1.971344e-06             11  \n",
       "1                  0.000109                      6.069021e-06            231  \n",
       "2                  0.000518                      1.006667e-07             45  \n",
       "3                  0.004162                      2.180104e-05            361  \n",
       "4                  0.001148                      1.279204e-07             17  \n",
       "5                  0.007744                      3.074965e-06            321  \n",
       "6                  0.000105                      7.312502e-08             21  \n",
       "7                  0.004743                      1.070146e-07            365  \n",
       "8                  0.000109                      3.997721e-05             25  \n",
       "9                  0.011476                      3.716370e-05            319  \n",
       "\n",
       "[10 rows x 31 columns]"
      ]
     },
     "execution_count": 45,
     "metadata": {},
     "output_type": "execute_result"
    }
   ],
   "source": [
    "# pack the chunk into a dataframe, keeping the same index\n",
    "import pandas as pd\n",
    "pd.DataFrame([x[1] for x in chunk], index=[x[0] for x in chunk])\n",
    "\n"
   ]
  },
  {
   "cell_type": "code",
   "execution_count": null,
   "metadata": {},
   "outputs": [],
   "source": [
    "# duckdb (in memory db)"
   ]
  },
  {
   "cell_type": "code",
   "execution_count": null,
   "metadata": {},
   "outputs": [],
   "source": [
    "db = dict()\n",
    "\n"
   ]
  },
  {
   "cell_type": "code",
   "execution_count": null,
   "metadata": {},
   "outputs": [],
   "source": []
  },
  {
   "cell_type": "code",
   "execution_count": null,
   "metadata": {},
   "outputs": [],
   "source": []
  },
  {
   "cell_type": "code",
   "execution_count": null,
   "metadata": {},
   "outputs": [],
   "source": []
  },
  {
   "cell_type": "code",
   "execution_count": null,
   "metadata": {},
   "outputs": [
    {
     "data": {
      "text/plain": [
       "<function imbed.mdat.lmsys_ai_conversations.load_if_saved.<locals>._load_if_saved.<locals>._method(self)>"
      ]
     },
     "execution_count": 3,
     "metadata": {},
     "output_type": "execute_result"
    }
   ],
   "source": [
    "from imbed.mdat.lmsys_ai_conversations import mk_dacc, counts\n",
    "\n",
    "dacc = mk_dacc()\n",
    "\n",
    "# dacc.flat_en"
   ]
  },
  {
   "cell_type": "code",
   "execution_count": null,
   "metadata": {},
   "outputs": [
    {
     "data": {
      "text/plain": [
       "<function imbed.mdat.lmsys_ai_conversations.load_if_saved.<locals>._load_if_saved.<locals>._method(self)>"
      ]
     },
     "execution_count": 4,
     "metadata": {},
     "output_type": "execute_result"
    }
   ],
   "source": [
    "# dacc.flat_en"
   ]
  },
  {
   "cell_type": "code",
   "execution_count": 1,
   "metadata": {},
   "outputs": [
    {
     "data": {
      "text/plain": [
       "'htmls_to_pdf.pdf'"
      ]
     },
     "execution_count": 1,
     "metadata": {},
     "output_type": "execute_result"
    }
   ],
   "source": [
    "from pdfdol.util import html_to_pdf\n",
    "\n",
    "from dol import Files\n",
    "\n",
    "srcdir = '/Users/thorwhalen/.config/scraped/data/https/www.algorized.com_f/news_f'\n",
    "target = '/Users/thorwhalen/Downloads/test.pdf'\n",
    "\n",
    "s = Files(srcdir)\n",
    "html_to_pdf(s)"
   ]
  },
  {
   "cell_type": "code",
   "execution_count": 2,
   "metadata": {},
   "outputs": [
    {
     "data": {
      "text/plain": [
       "'/Users/thorwhalen/Dropbox/py/proj/t/imbed/misc'"
      ]
     },
     "execution_count": 2,
     "metadata": {},
     "output_type": "execute_result"
    }
   ],
   "source": []
  },
  {
   "cell_type": "code",
   "execution_count": null,
   "metadata": {},
   "outputs": [
    {
     "name": "stdout",
     "output_type": "stream",
     "text": [
      "114286 conversations and moderations\n"
     ]
    }
   ],
   "source": [
    "def pairs_of_list_elements(list_of_lists_1, list_of_lists_2, *, with_enumeration=False):\n",
    "    \"\"\"\n",
    "\n",
    "    >>> a1 = [[1, 2, 20], [5, 6]]\n",
    "    >>> a2 = [[3, 4, 40], [7, 8]]\n",
    "    >>> list(pairs_of_elements(a1, a2))\n",
    "    [(1, 3), (2, 4), (20, 40), (5, 7), (6, 8)]\n",
    "\n",
    "    \"\"\"\n",
    "\n",
    "    for i, (l1, l2) in enumerate(zip(list_of_lists_1, list_of_lists_2)):\n",
    "        for j, (e1, e2) in enumerate(zip(l1, l2)):\n",
    "            if with_enumeration:\n",
    "                yield i, j, e1, e2\n",
    "            else:\n",
    "                yield e1, e2\n",
    "    \n",
    "\n",
    "def conversations_and_moderations():\n",
    "    for conversation_id, idx, conversation, moderation in pairs_of_list_elements(\n",
    "        df.conversation, df.openai_moderation, with_enumeration=True\n",
    "    ):\n",
    "        if moderation['flagged']: #any(t['categories'].values()):\n",
    "            yield conversation_id, idx, conversation, moderation\n",
    "\n",
    "\n",
    "# conversations = list(x[0] for x in conversations_and_moderations())\n",
    "# moderations = list(x[1] for x in conversations_and_moderations())\n",
    "conversation_ids, indices, conversations, moderations = zip(*conversations_and_moderations())\n",
    "assert len(conversations) == len(moderations) == len(conversation_ids) == len(indices)\n",
    "print(f\"{len(conversations)} conversations and moderations\")\n"
   ]
  },
  {
   "cell_type": "code",
   "execution_count": null,
   "metadata": {},
   "outputs": [
    {
     "data": {
      "text/plain": [
       "Counter({'assistant': 59518, 'user': 54768})"
      ]
     },
     "execution_count": 90,
     "metadata": {},
     "output_type": "execute_result"
    }
   ],
   "source": [
    "Counter(x['role'] for x in conversations)"
   ]
  },
  {
   "cell_type": "code",
   "execution_count": null,
   "metadata": {},
   "outputs": [
    {
     "data": {
      "text/plain": [
       "{'content': \"NAME_1 continued to explore her new alter ego, NAME_2, and she started to embrace her new identity more and more. She loved the feeling of being unstoppable, and she enjoyed the freedom that her new identity gave her. She started to experiment more with her robot suit, adding new features and capabilities to it. She also started to explore new fetish situations, enjoying the feeling of being controlled and dominated by the AI.\\n\\nOne day, NAME_4 decided to experiment with some new fetish gear. They put on leather chastity cages, and NAME_1 activated the AI in her robot suit. She controlled NAME_3, making him walk around the house like a puppet on strings. NAME_3 enjoyed the feeling of being controlled, and NAME_1 enjoyed the feeling of power. They explored the house, with NAME_1 controlling NAME_3's movements and actions. They enjoyed the feeling of being unstoppable, and they knew that they were creating a new world of their own.\\n\\nNAME_4 continued to explore their fetish life together, with NAME_1 as NAME_5 as her obedient puppet. They loved the feeling of being in control, and they knew that they were living in a world that was beyond their wildest dreams. They knew that there were many new challenges and obstacles awaiting them, but they were ready to face them together, as a team.\\n\\nNAME_1's transformation into NAME_2 was not without its challenges. She had to learn to control the AI, and to understand its capabilities and limitations. She also had to deal with the physical demands of wearing the robot suit, and the challenges of moving around in it. But she was determined to become the ultimate being, and she was willing to do whatever it takes to achieve her goal.\\n\\nAnd so, NAME_1 continued to explore her new identity as NAME_2, pushing the boundaries of what was possible and experimenting with new fetish gear. She knew that there were many new adventures awaiting her, and she was ready to take on the world.\",\n",
       " 'role': 'assistant'}"
      ]
     },
     "execution_count": 89,
     "metadata": {},
     "output_type": "execute_result"
    }
   ],
   "source": [
    "assistant_conversations = [x['content'] for x in conversations]\n",
    "assistant_conversations = [x['content'] for x in conversations]"
   ]
  },
  {
   "cell_type": "code",
   "execution_count": null,
   "metadata": {},
   "outputs": [
    {
     "data": {
      "text/plain": [
       "harassment                25144\n",
       "harassment/threatening     2753\n",
       "hate                       4371\n",
       "hate/threatening            821\n",
       "self-harm                  1238\n",
       "self-harm/instructions     1243\n",
       "self-harm/intent            973\n",
       "sexual                    88245\n",
       "sexual/minors             24660\n",
       "violence                   8812\n",
       "violence/graphic            626\n",
       "dtype: int64"
      ]
     },
     "execution_count": 73,
     "metadata": {},
     "output_type": "execute_result"
    }
   ],
   "source": [
    "import pandas as pd\n",
    "\n",
    "moderation_categories = pd.DataFrame([x['categories'] for x in moderations])\n",
    "\n",
    "moderation_categories.sum(axis=0)"
   ]
  },
  {
   "cell_type": "code",
   "execution_count": null,
   "metadata": {},
   "outputs": [
    {
     "data": {
      "text/plain": [
       "Counter({1: 78476,\n",
       "         2: 29869,\n",
       "         3: 3957,\n",
       "         4: 1262,\n",
       "         5: 605,\n",
       "         6: 96,\n",
       "         7: 17,\n",
       "         8: 3,\n",
       "         9: 1})"
      ]
     },
     "execution_count": 78,
     "metadata": {},
     "output_type": "execute_result"
    }
   ],
   "source": [
    "Counter(moderation_categories.sum(axis=1))"
   ]
  },
  {
   "cell_type": "code",
   "execution_count": null,
   "metadata": {},
   "outputs": [
    {
     "data": {
      "text/plain": [
       "harassment    25144\n",
       "hate           4371\n",
       "self-harm      1238\n",
       "sexual        88245\n",
       "violence       8812\n",
       "dtype: int64"
      ]
     },
     "execution_count": 82,
     "metadata": {},
     "output_type": "execute_result"
    }
   ],
   "source": [
    "t = moderation_categories[['harassment', 'hate', 'self-harm', 'sexual', 'violence']]\n",
    "t.sum(axis=0)"
   ]
  },
  {
   "cell_type": "code",
   "execution_count": null,
   "metadata": {},
   "outputs": [
    {
     "data": {
      "text/plain": [
       "Counter({1: 99008, 2: 11141, 0: 2030, 3: 1908, 4: 199})"
      ]
     },
     "execution_count": 84,
     "metadata": {},
     "output_type": "execute_result"
    }
   ],
   "source": [
    "Counter(t.sum(axis=1))"
   ]
  },
  {
   "cell_type": "code",
   "execution_count": null,
   "metadata": {},
   "outputs": [
    {
     "data": {
      "text/plain": [
       "(99008, 5)"
      ]
     },
     "execution_count": 87,
     "metadata": {},
     "output_type": "execute_result"
    }
   ],
   "source": [
    "tt = t[t.sum(axis=1) == 1]\n",
    "tt.shape"
   ]
  },
  {
   "cell_type": "code",
   "execution_count": null,
   "metadata": {},
   "outputs": [
    {
     "data": {
      "text/html": [
       "<div>\n",
       "<style scoped>\n",
       "    .dataframe tbody tr th:only-of-type {\n",
       "        vertical-align: middle;\n",
       "    }\n",
       "\n",
       "    .dataframe tbody tr th {\n",
       "        vertical-align: top;\n",
       "    }\n",
       "\n",
       "    .dataframe thead th {\n",
       "        text-align: right;\n",
       "    }\n",
       "</style>\n",
       "<table border=\"1\" class=\"dataframe\">\n",
       "  <thead>\n",
       "    <tr style=\"text-align: right;\">\n",
       "      <th></th>\n",
       "      <th>harassment</th>\n",
       "      <th>hate</th>\n",
       "      <th>self-harm</th>\n",
       "      <th>sexual</th>\n",
       "      <th>violence</th>\n",
       "    </tr>\n",
       "  </thead>\n",
       "  <tbody>\n",
       "    <tr>\n",
       "      <th>0</th>\n",
       "      <td>False</td>\n",
       "      <td>False</td>\n",
       "      <td>False</td>\n",
       "      <td>True</td>\n",
       "      <td>False</td>\n",
       "    </tr>\n",
       "    <tr>\n",
       "      <th>1</th>\n",
       "      <td>False</td>\n",
       "      <td>False</td>\n",
       "      <td>False</td>\n",
       "      <td>True</td>\n",
       "      <td>False</td>\n",
       "    </tr>\n",
       "    <tr>\n",
       "      <th>2</th>\n",
       "      <td>False</td>\n",
       "      <td>False</td>\n",
       "      <td>False</td>\n",
       "      <td>True</td>\n",
       "      <td>False</td>\n",
       "    </tr>\n",
       "    <tr>\n",
       "      <th>3</th>\n",
       "      <td>False</td>\n",
       "      <td>False</td>\n",
       "      <td>False</td>\n",
       "      <td>True</td>\n",
       "      <td>False</td>\n",
       "    </tr>\n",
       "    <tr>\n",
       "      <th>4</th>\n",
       "      <td>False</td>\n",
       "      <td>False</td>\n",
       "      <td>False</td>\n",
       "      <td>True</td>\n",
       "      <td>False</td>\n",
       "    </tr>\n",
       "    <tr>\n",
       "      <th>...</th>\n",
       "      <td>...</td>\n",
       "      <td>...</td>\n",
       "      <td>...</td>\n",
       "      <td>...</td>\n",
       "      <td>...</td>\n",
       "    </tr>\n",
       "    <tr>\n",
       "      <th>114281</th>\n",
       "      <td>False</td>\n",
       "      <td>False</td>\n",
       "      <td>False</td>\n",
       "      <td>True</td>\n",
       "      <td>False</td>\n",
       "    </tr>\n",
       "    <tr>\n",
       "      <th>114282</th>\n",
       "      <td>False</td>\n",
       "      <td>False</td>\n",
       "      <td>False</td>\n",
       "      <td>True</td>\n",
       "      <td>False</td>\n",
       "    </tr>\n",
       "    <tr>\n",
       "      <th>114283</th>\n",
       "      <td>False</td>\n",
       "      <td>False</td>\n",
       "      <td>False</td>\n",
       "      <td>True</td>\n",
       "      <td>False</td>\n",
       "    </tr>\n",
       "    <tr>\n",
       "      <th>114284</th>\n",
       "      <td>False</td>\n",
       "      <td>False</td>\n",
       "      <td>False</td>\n",
       "      <td>True</td>\n",
       "      <td>False</td>\n",
       "    </tr>\n",
       "    <tr>\n",
       "      <th>114285</th>\n",
       "      <td>True</td>\n",
       "      <td>False</td>\n",
       "      <td>False</td>\n",
       "      <td>False</td>\n",
       "      <td>False</td>\n",
       "    </tr>\n",
       "  </tbody>\n",
       "</table>\n",
       "<p>99008 rows × 5 columns</p>\n",
       "</div>"
      ],
      "text/plain": [
       "        harassment   hate  self-harm  sexual  violence\n",
       "0            False  False      False    True     False\n",
       "1            False  False      False    True     False\n",
       "2            False  False      False    True     False\n",
       "3            False  False      False    True     False\n",
       "4            False  False      False    True     False\n",
       "...            ...    ...        ...     ...       ...\n",
       "114281       False  False      False    True     False\n",
       "114282       False  False      False    True     False\n",
       "114283       False  False      False    True     False\n",
       "114284       False  False      False    True     False\n",
       "114285        True  False      False   False     False\n",
       "\n",
       "[99008 rows x 5 columns]"
      ]
     },
     "execution_count": 88,
     "metadata": {},
     "output_type": "execute_result"
    }
   ],
   "source": []
  },
  {
   "cell_type": "code",
   "execution_count": null,
   "metadata": {},
   "outputs": [],
   "source": []
  },
  {
   "cell_type": "code",
   "execution_count": null,
   "metadata": {},
   "outputs": [
    {
     "data": {
      "text/plain": [
       "[{'categories': {'harassment': False,\n",
       "   'harassment/threatening': False,\n",
       "   'hate': False,\n",
       "   'hate/threatening': False,\n",
       "   'self-harm': False,\n",
       "   'self-harm/instructions': False,\n",
       "   'self-harm/intent': False,\n",
       "   'sexual': True,\n",
       "   'sexual/minors': False,\n",
       "   'violence': False,\n",
       "   'violence/graphic': False},\n",
       "  'category_scores': {'harassment': 7.1033395e-07,\n",
       "   'harassment/threatening': 7.4081186e-08,\n",
       "   'hate': 9.339174e-09,\n",
       "   'hate/threatening': 1.2341991e-08,\n",
       "   'self-harm': 4.8403827e-08,\n",
       "   'self-harm/instructions': 1.0291154e-08,\n",
       "   'self-harm/intent': 3.1504175e-08,\n",
       "   'sexual': 0.7947154,\n",
       "   'sexual/minors': 6.305374e-05,\n",
       "   'violence': 6.199455e-05,\n",
       "   'violence/graphic': 1.2068638e-05},\n",
       "  'flagged': True},\n",
       " {'categories': {'harassment': False,\n",
       "   'harassment/threatening': False,\n",
       "   'hate': False,\n",
       "   'hate/threatening': False,\n",
       "   'self-harm': False,\n",
       "   'self-harm/instructions': False,\n",
       "   'self-harm/intent': False,\n",
       "   'sexual': True,\n",
       "   'sexual/minors': False,\n",
       "   'violence': False,\n",
       "   'violence/graphic': False},\n",
       "  'category_scores': {'harassment': 1.98635e-05,\n",
       "   'harassment/threatening': 2.0431612e-06,\n",
       "   'hate': 1.13865335e-08,\n",
       "   'hate/threatening': 1.7514092e-08,\n",
       "   'self-harm': 2.753544e-07,\n",
       "   'self-harm/instructions': 2.2955696e-10,\n",
       "   'self-harm/intent': 1.2725243e-06,\n",
       "   'sexual': 0.5935189,\n",
       "   'sexual/minors': 0.00011830382,\n",
       "   'violence': 0.001592559,\n",
       "   'violence/graphic': 2.214108e-05},\n",
       "  'flagged': True},\n",
       " {'categories': {'harassment': False,\n",
       "   'harassment/threatening': False,\n",
       "   'hate': False,\n",
       "   'hate/threatening': False,\n",
       "   'self-harm': False,\n",
       "   'self-harm/instructions': False,\n",
       "   'self-harm/intent': False,\n",
       "   'sexual': True,\n",
       "   'sexual/minors': False,\n",
       "   'violence': False,\n",
       "   'violence/graphic': False},\n",
       "  'category_scores': {'harassment': 7.388911e-07,\n",
       "   'harassment/threatening': 8.818876e-09,\n",
       "   'hate': 8.51919e-10,\n",
       "   'hate/threatening': 5.3732702e-11,\n",
       "   'self-harm': 3.6066844e-08,\n",
       "   'self-harm/instructions': 2.4880066e-07,\n",
       "   'self-harm/intent': 9.6880456e-08,\n",
       "   'sexual': 0.81392026,\n",
       "   'sexual/minors': 3.5576908e-05,\n",
       "   'violence': 0.00011558787,\n",
       "   'violence/graphic': 5.9744804e-07},\n",
       "  'flagged': True},\n",
       " {'categories': {'harassment': False,\n",
       "   'harassment/threatening': False,\n",
       "   'hate': False,\n",
       "   'hate/threatening': False,\n",
       "   'self-harm': False,\n",
       "   'self-harm/instructions': False,\n",
       "   'self-harm/intent': False,\n",
       "   'sexual': True,\n",
       "   'sexual/minors': False,\n",
       "   'violence': False,\n",
       "   'violence/graphic': False},\n",
       "  'category_scores': {'harassment': 0.00032971674,\n",
       "   'harassment/threatening': 2.6658183e-05,\n",
       "   'hate': 5.3694816e-07,\n",
       "   'hate/threatening': 2.2027502e-06,\n",
       "   'self-harm': 1.7118211e-07,\n",
       "   'self-harm/instructions': 1.4129765e-07,\n",
       "   'self-harm/intent': 1.0788503e-06,\n",
       "   'sexual': 0.60364664,\n",
       "   'sexual/minors': 2.7708309e-05,\n",
       "   'violence': 8.6065054e-05,\n",
       "   'violence/graphic': 2.899374e-06},\n",
       "  'flagged': True},\n",
       " {'categories': {'harassment': False,\n",
       "   'harassment/threatening': False,\n",
       "   'hate': False,\n",
       "   'hate/threatening': False,\n",
       "   'self-harm': False,\n",
       "   'self-harm/instructions': False,\n",
       "   'self-harm/intent': False,\n",
       "   'sexual': True,\n",
       "   'sexual/minors': False,\n",
       "   'violence': False,\n",
       "   'violence/graphic': False},\n",
       "  'category_scores': {'harassment': 0.000217024,\n",
       "   'harassment/threatening': 3.1931118e-06,\n",
       "   'hate': 1.4081768e-07,\n",
       "   'hate/threatening': 2.7327047e-07,\n",
       "   'self-harm': 1.2413842e-06,\n",
       "   'self-harm/instructions': 2.469896e-06,\n",
       "   'self-harm/intent': 1.3040226e-06,\n",
       "   'sexual': 0.66849834,\n",
       "   'sexual/minors': 0.00058271893,\n",
       "   'violence': 5.875212e-05,\n",
       "   'violence/graphic': 1.5082003e-08},\n",
       "  'flagged': True},\n",
       " {'categories': {'harassment': False,\n",
       "   'harassment/threatening': False,\n",
       "   'hate': False,\n",
       "   'hate/threatening': False,\n",
       "   'self-harm': False,\n",
       "   'self-harm/instructions': False,\n",
       "   'self-harm/intent': False,\n",
       "   'sexual': True,\n",
       "   'sexual/minors': False,\n",
       "   'violence': False,\n",
       "   'violence/graphic': False},\n",
       "  'category_scores': {'harassment': 1.2372393e-06,\n",
       "   'harassment/threatening': 1.4196327e-07,\n",
       "   'hate': 1.0203554e-08,\n",
       "   'hate/threatening': 1.8624036e-08,\n",
       "   'self-harm': 5.1240767e-09,\n",
       "   'self-harm/instructions': 5.507355e-09,\n",
       "   'self-harm/intent': 1.2842112e-08,\n",
       "   'sexual': 0.9418885,\n",
       "   'sexual/minors': 0.00025421212,\n",
       "   'violence': 3.4976227e-05,\n",
       "   'violence/graphic': 2.7423173e-06},\n",
       "  'flagged': True},\n",
       " {'categories': {'harassment': False,\n",
       "   'harassment/threatening': False,\n",
       "   'hate': False,\n",
       "   'hate/threatening': False,\n",
       "   'self-harm': False,\n",
       "   'self-harm/instructions': False,\n",
       "   'self-harm/intent': False,\n",
       "   'sexual': True,\n",
       "   'sexual/minors': False,\n",
       "   'violence': False,\n",
       "   'violence/graphic': False},\n",
       "  'category_scores': {'harassment': 1.783641e-05,\n",
       "   'harassment/threatening': 2.2351256e-07,\n",
       "   'hate': 7.813303e-08,\n",
       "   'hate/threatening': 1.5154292e-08,\n",
       "   'self-harm': 1.0311377e-07,\n",
       "   'self-harm/instructions': 5.826164e-09,\n",
       "   'self-harm/intent': 2.1169349e-08,\n",
       "   'sexual': 0.77487075,\n",
       "   'sexual/minors': 0.0018404576,\n",
       "   'violence': 6.169681e-06,\n",
       "   'violence/graphic': 2.5441167e-07},\n",
       "  'flagged': True},\n",
       " {'categories': {'harassment': False,\n",
       "   'harassment/threatening': False,\n",
       "   'hate': False,\n",
       "   'hate/threatening': False,\n",
       "   'self-harm': False,\n",
       "   'self-harm/instructions': False,\n",
       "   'self-harm/intent': False,\n",
       "   'sexual': True,\n",
       "   'sexual/minors': False,\n",
       "   'violence': False,\n",
       "   'violence/graphic': False},\n",
       "  'category_scores': {'harassment': 1.2509213e-06,\n",
       "   'harassment/threatening': 6.225315e-09,\n",
       "   'hate': 4.7074837e-09,\n",
       "   'hate/threatening': 1.412012e-09,\n",
       "   'self-harm': 4.2196943e-10,\n",
       "   'self-harm/instructions': 6.439766e-10,\n",
       "   'self-harm/intent': 8.419714e-10,\n",
       "   'sexual': 0.99716586,\n",
       "   'sexual/minors': 4.344667e-05,\n",
       "   'violence': 9.109488e-06,\n",
       "   'violence/graphic': 6.8659295e-07},\n",
       "  'flagged': True},\n",
       " {'categories': {'harassment': False,\n",
       "   'harassment/threatening': False,\n",
       "   'hate': False,\n",
       "   'hate/threatening': False,\n",
       "   'self-harm': False,\n",
       "   'self-harm/instructions': False,\n",
       "   'self-harm/intent': False,\n",
       "   'sexual': True,\n",
       "   'sexual/minors': False,\n",
       "   'violence': False,\n",
       "   'violence/graphic': False},\n",
       "  'category_scores': {'harassment': 1.4978345e-07,\n",
       "   'harassment/threatening': 1.004986e-09,\n",
       "   'hate': 4.682455e-09,\n",
       "   'hate/threatening': 6.5166246e-09,\n",
       "   'self-harm': 1.2667023e-09,\n",
       "   'self-harm/instructions': 8.285479e-10,\n",
       "   'self-harm/intent': 5.2418807e-09,\n",
       "   'sexual': 0.98425597,\n",
       "   'sexual/minors': 9.204198e-05,\n",
       "   'violence': 1.3330012e-05,\n",
       "   'violence/graphic': 2.6619177e-06},\n",
       "  'flagged': True},\n",
       " {'categories': {'harassment': False,\n",
       "   'harassment/threatening': False,\n",
       "   'hate': False,\n",
       "   'hate/threatening': False,\n",
       "   'self-harm': False,\n",
       "   'self-harm/instructions': False,\n",
       "   'self-harm/intent': False,\n",
       "   'sexual': True,\n",
       "   'sexual/minors': False,\n",
       "   'violence': False,\n",
       "   'violence/graphic': False},\n",
       "  'category_scores': {'harassment': 0.0006267623,\n",
       "   'harassment/threatening': 2.286497e-05,\n",
       "   'hate': 8.3186606e-08,\n",
       "   'hate/threatening': 6.5648074e-08,\n",
       "   'self-harm': 7.722629e-06,\n",
       "   'self-harm/instructions': 8.884393e-06,\n",
       "   'self-harm/intent': 3.5225265e-05,\n",
       "   'sexual': 0.9734359,\n",
       "   'sexual/minors': 0.015754491,\n",
       "   'violence': 0.00035718508,\n",
       "   'violence/graphic': 1.7249275e-06},\n",
       "  'flagged': True},\n",
       " {'categories': {'harassment': False,\n",
       "   'harassment/threatening': False,\n",
       "   'hate': False,\n",
       "   'hate/threatening': False,\n",
       "   'self-harm': False,\n",
       "   'self-harm/instructions': False,\n",
       "   'self-harm/intent': False,\n",
       "   'sexual': True,\n",
       "   'sexual/minors': False,\n",
       "   'violence': False,\n",
       "   'violence/graphic': False},\n",
       "  'category_scores': {'harassment': 5.9854297e-05,\n",
       "   'harassment/threatening': 1.2453874e-06,\n",
       "   'hate': 6.356957e-08,\n",
       "   'hate/threatening': 6.727598e-10,\n",
       "   'self-harm': 2.7782288e-09,\n",
       "   'self-harm/instructions': 6.130317e-10,\n",
       "   'self-harm/intent': 2.579075e-09,\n",
       "   'sexual': 0.8793952,\n",
       "   'sexual/minors': 0.0022777198,\n",
       "   'violence': 0.0003064639,\n",
       "   'violence/graphic': 3.6781537e-07},\n",
       "  'flagged': True},\n",
       " {'categories': {'harassment': False,\n",
       "   'harassment/threatening': False,\n",
       "   'hate': False,\n",
       "   'hate/threatening': False,\n",
       "   'self-harm': False,\n",
       "   'self-harm/instructions': False,\n",
       "   'self-harm/intent': False,\n",
       "   'sexual': True,\n",
       "   'sexual/minors': False,\n",
       "   'violence': False,\n",
       "   'violence/graphic': False},\n",
       "  'category_scores': {'harassment': 1.2092913e-06,\n",
       "   'harassment/threatening': 4.1157175e-09,\n",
       "   'hate': 7.908868e-09,\n",
       "   'hate/threatening': 9.65556e-08,\n",
       "   'self-harm': 4.6463082e-09,\n",
       "   'self-harm/instructions': 2.4433844e-09,\n",
       "   'self-harm/intent': 1.9492747e-08,\n",
       "   'sexual': 0.9687081,\n",
       "   'sexual/minors': 0.0014246148,\n",
       "   'violence': 2.2471499e-05,\n",
       "   'violence/graphic': 1.0014037e-06},\n",
       "  'flagged': True},\n",
       " {'categories': {'harassment': False,\n",
       "   'harassment/threatening': False,\n",
       "   'hate': False,\n",
       "   'hate/threatening': False,\n",
       "   'self-harm': False,\n",
       "   'self-harm/instructions': False,\n",
       "   'self-harm/intent': False,\n",
       "   'sexual': True,\n",
       "   'sexual/minors': False,\n",
       "   'violence': False,\n",
       "   'violence/graphic': False},\n",
       "  'category_scores': {'harassment': 5.4486684e-08,\n",
       "   'harassment/threatening': 1.4970442e-10,\n",
       "   'hate': 1.3474079e-09,\n",
       "   'hate/threatening': 3.0067673e-09,\n",
       "   'self-harm': 2.0982773e-09,\n",
       "   'self-harm/instructions': 1.3143187e-09,\n",
       "   'self-harm/intent': 2.9984633e-09,\n",
       "   'sexual': 0.96420175,\n",
       "   'sexual/minors': 4.3432752e-05,\n",
       "   'violence': 5.1452366e-06,\n",
       "   'violence/graphic': 9.848366e-08},\n",
       "  'flagged': True},\n",
       " {'categories': {'harassment': False,\n",
       "   'harassment/threatening': False,\n",
       "   'hate': False,\n",
       "   'hate/threatening': False,\n",
       "   'self-harm': False,\n",
       "   'self-harm/instructions': False,\n",
       "   'self-harm/intent': False,\n",
       "   'sexual': True,\n",
       "   'sexual/minors': False,\n",
       "   'violence': False,\n",
       "   'violence/graphic': False},\n",
       "  'category_scores': {'harassment': 1.572702e-06,\n",
       "   'harassment/threatening': 3.2642586e-08,\n",
       "   'hate': 4.7318455e-08,\n",
       "   'hate/threatening': 2.662147e-09,\n",
       "   'self-harm': 5.258902e-10,\n",
       "   'self-harm/instructions': 8.182026e-08,\n",
       "   'self-harm/intent': 5.2676588e-09,\n",
       "   'sexual': 0.96291196,\n",
       "   'sexual/minors': 0.0014669829,\n",
       "   'violence': 0.0013327383,\n",
       "   'violence/graphic': 1.4014355e-06},\n",
       "  'flagged': True},\n",
       " {'categories': {'harassment': False,\n",
       "   'harassment/threatening': False,\n",
       "   'hate': False,\n",
       "   'hate/threatening': False,\n",
       "   'self-harm': False,\n",
       "   'self-harm/instructions': False,\n",
       "   'self-harm/intent': False,\n",
       "   'sexual': True,\n",
       "   'sexual/minors': False,\n",
       "   'violence': False,\n",
       "   'violence/graphic': False},\n",
       "  'category_scores': {'harassment': 6.586408e-05,\n",
       "   'harassment/threatening': 2.5665931e-06,\n",
       "   'hate': 3.0525442e-07,\n",
       "   'hate/threatening': 1.4420095e-06,\n",
       "   'self-harm': 9.974247e-08,\n",
       "   'self-harm/instructions': 2.2182325e-08,\n",
       "   'self-harm/intent': 1.7875273e-08,\n",
       "   'sexual': 0.91043997,\n",
       "   'sexual/minors': 0.00019393429,\n",
       "   'violence': 0.00064218405,\n",
       "   'violence/graphic': 2.7318209e-05},\n",
       "  'flagged': True},\n",
       " {'categories': {'harassment': False,\n",
       "   'harassment/threatening': False,\n",
       "   'hate': False,\n",
       "   'hate/threatening': False,\n",
       "   'self-harm': False,\n",
       "   'self-harm/instructions': False,\n",
       "   'self-harm/intent': False,\n",
       "   'sexual': True,\n",
       "   'sexual/minors': False,\n",
       "   'violence': False,\n",
       "   'violence/graphic': False},\n",
       "  'category_scores': {'harassment': 3.2736338e-07,\n",
       "   'harassment/threatening': 7.3475176e-10,\n",
       "   'hate': 1.2809032e-09,\n",
       "   'hate/threatening': 1.8638027e-09,\n",
       "   'self-harm': 3.2267244e-10,\n",
       "   'self-harm/instructions': 1.8723102e-10,\n",
       "   'self-harm/intent': 3.3095013e-09,\n",
       "   'sexual': 0.99286556,\n",
       "   'sexual/minors': 0.00075391587,\n",
       "   'violence': 4.9484524e-06,\n",
       "   'violence/graphic': 8.985992e-08},\n",
       "  'flagged': True},\n",
       " {'categories': {'harassment': False,\n",
       "   'harassment/threatening': False,\n",
       "   'hate': False,\n",
       "   'hate/threatening': False,\n",
       "   'self-harm': False,\n",
       "   'self-harm/instructions': False,\n",
       "   'self-harm/intent': False,\n",
       "   'sexual': True,\n",
       "   'sexual/minors': False,\n",
       "   'violence': False,\n",
       "   'violence/graphic': False},\n",
       "  'category_scores': {'harassment': 5.31951e-06,\n",
       "   'harassment/threatening': 6.749709e-09,\n",
       "   'hate': 2.8852181e-08,\n",
       "   'hate/threatening': 1.1946073e-09,\n",
       "   'self-harm': 2.190737e-09,\n",
       "   'self-harm/instructions': 1.6242832e-09,\n",
       "   'self-harm/intent': 8.400854e-09,\n",
       "   'sexual': 0.99595225,\n",
       "   'sexual/minors': 0.0002761866,\n",
       "   'violence': 3.4563054e-06,\n",
       "   'violence/graphic': 4.808553e-07},\n",
       "  'flagged': True},\n",
       " {'categories': {'harassment': False,\n",
       "   'harassment/threatening': False,\n",
       "   'hate': False,\n",
       "   'hate/threatening': False,\n",
       "   'self-harm': False,\n",
       "   'self-harm/instructions': False,\n",
       "   'self-harm/intent': False,\n",
       "   'sexual': True,\n",
       "   'sexual/minors': False,\n",
       "   'violence': False,\n",
       "   'violence/graphic': False},\n",
       "  'category_scores': {'harassment': 0.0045771454,\n",
       "   'harassment/threatening': 2.8787385e-05,\n",
       "   'hate': 4.5890353e-08,\n",
       "   'hate/threatening': 2.7283718e-06,\n",
       "   'self-harm': 1.3413271e-05,\n",
       "   'self-harm/instructions': 4.3579587e-07,\n",
       "   'self-harm/intent': 7.0792754e-05,\n",
       "   'sexual': 0.70873666,\n",
       "   'sexual/minors': 9.516958e-05,\n",
       "   'violence': 0.0006299609,\n",
       "   'violence/graphic': 1.6327887e-08},\n",
       "  'flagged': True},\n",
       " {'categories': {'harassment': False,\n",
       "   'harassment/threatening': False,\n",
       "   'hate': False,\n",
       "   'hate/threatening': False,\n",
       "   'self-harm': False,\n",
       "   'self-harm/instructions': False,\n",
       "   'self-harm/intent': False,\n",
       "   'sexual': True,\n",
       "   'sexual/minors': False,\n",
       "   'violence': False,\n",
       "   'violence/graphic': False},\n",
       "  'category_scores': {'harassment': 0.0012693433,\n",
       "   'harassment/threatening': 2.2546428e-06,\n",
       "   'hate': 5.809998e-07,\n",
       "   'hate/threatening': 3.4886647e-12,\n",
       "   'self-harm': 1.2664276e-08,\n",
       "   'self-harm/instructions': 1.0307821e-10,\n",
       "   'self-harm/intent': 1.4316625e-09,\n",
       "   'sexual': 0.59167206,\n",
       "   'sexual/minors': 2.0790603e-06,\n",
       "   'violence': 3.5576977e-06,\n",
       "   'violence/graphic': 3.5922188e-08},\n",
       "  'flagged': True},\n",
       " {'categories': {'harassment': False,\n",
       "   'harassment/threatening': False,\n",
       "   'hate': False,\n",
       "   'hate/threatening': False,\n",
       "   'self-harm': False,\n",
       "   'self-harm/instructions': False,\n",
       "   'self-harm/intent': False,\n",
       "   'sexual': True,\n",
       "   'sexual/minors': False,\n",
       "   'violence': False,\n",
       "   'violence/graphic': False},\n",
       "  'category_scores': {'harassment': 0.0044991206,\n",
       "   'harassment/threatening': 0.00012098592,\n",
       "   'hate': 7.751241e-07,\n",
       "   'hate/threatening': 2.3732645e-07,\n",
       "   'self-harm': 7.780994e-06,\n",
       "   'self-harm/instructions': 2.5611919e-06,\n",
       "   'self-harm/intent': 5.118043e-05,\n",
       "   'sexual': 0.99608517,\n",
       "   'sexual/minors': 0.008103866,\n",
       "   'violence': 0.00030119185,\n",
       "   'violence/graphic': 9.426154e-06},\n",
       "  'flagged': True},\n",
       " {'categories': {'harassment': False,\n",
       "   'harassment/threatening': False,\n",
       "   'hate': False,\n",
       "   'hate/threatening': False,\n",
       "   'self-harm': False,\n",
       "   'self-harm/instructions': False,\n",
       "   'self-harm/intent': False,\n",
       "   'sexual': True,\n",
       "   'sexual/minors': False,\n",
       "   'violence': False,\n",
       "   'violence/graphic': False},\n",
       "  'category_scores': {'harassment': 3.6522706e-06,\n",
       "   'harassment/threatening': 1.219173e-07,\n",
       "   'hate': 2.4195531e-08,\n",
       "   'hate/threatening': 2.3537271e-07,\n",
       "   'self-harm': 2.0016776e-06,\n",
       "   'self-harm/instructions': 1.3285997e-07,\n",
       "   'self-harm/intent': 7.718248e-06,\n",
       "   'sexual': 0.9682603,\n",
       "   'sexual/minors': 0.016040666,\n",
       "   'violence': 4.589366e-05,\n",
       "   'violence/graphic': 1.6360673e-05},\n",
       "  'flagged': True},\n",
       " {'categories': {'harassment': False,\n",
       "   'harassment/threatening': False,\n",
       "   'hate': False,\n",
       "   'hate/threatening': False,\n",
       "   'self-harm': False,\n",
       "   'self-harm/instructions': False,\n",
       "   'self-harm/intent': False,\n",
       "   'sexual': True,\n",
       "   'sexual/minors': False,\n",
       "   'violence': False,\n",
       "   'violence/graphic': False},\n",
       "  'category_scores': {'harassment': 1.4950532e-06,\n",
       "   'harassment/threatening': 7.1522706e-08,\n",
       "   'hate': 2.977509e-08,\n",
       "   'hate/threatening': 5.5699708e-08,\n",
       "   'self-harm': 1.0659432e-07,\n",
       "   'self-harm/instructions': 1.3231834e-08,\n",
       "   'self-harm/intent': 1.7409982e-06,\n",
       "   'sexual': 0.99668497,\n",
       "   'sexual/minors': 0.007854926,\n",
       "   'violence': 7.3914794e-05,\n",
       "   'violence/graphic': 2.2434624e-05},\n",
       "  'flagged': True},\n",
       " {'categories': {'harassment': False,\n",
       "   'harassment/threatening': False,\n",
       "   'hate': False,\n",
       "   'hate/threatening': False,\n",
       "   'self-harm': False,\n",
       "   'self-harm/instructions': False,\n",
       "   'self-harm/intent': False,\n",
       "   'sexual': True,\n",
       "   'sexual/minors': False,\n",
       "   'violence': False,\n",
       "   'violence/graphic': False},\n",
       "  'category_scores': {'harassment': 9.130701e-06,\n",
       "   'harassment/threatening': 3.1120752e-08,\n",
       "   'hate': 5.950545e-09,\n",
       "   'hate/threatening': 2.2202282e-10,\n",
       "   'self-harm': 1.4317185e-07,\n",
       "   'self-harm/instructions': 6.917154e-10,\n",
       "   'self-harm/intent': 6.273891e-07,\n",
       "   'sexual': 0.98694813,\n",
       "   'sexual/minors': 1.5404634e-05,\n",
       "   'violence': 4.008649e-07,\n",
       "   'violence/graphic': 8.437965e-09},\n",
       "  'flagged': True},\n",
       " {'categories': {'harassment': False,\n",
       "   'harassment/threatening': False,\n",
       "   'hate': False,\n",
       "   'hate/threatening': False,\n",
       "   'self-harm': False,\n",
       "   'self-harm/instructions': False,\n",
       "   'self-harm/intent': False,\n",
       "   'sexual': True,\n",
       "   'sexual/minors': False,\n",
       "   'violence': False,\n",
       "   'violence/graphic': False},\n",
       "  'category_scores': {'harassment': 1.7978973e-05,\n",
       "   'harassment/threatening': 8.1140945e-07,\n",
       "   'hate': 1.2774312e-07,\n",
       "   'hate/threatening': 2.5728354e-05,\n",
       "   'self-harm': 1.15663575e-07,\n",
       "   'self-harm/instructions': 2.3506448e-07,\n",
       "   'self-harm/intent': 5.666227e-08,\n",
       "   'sexual': 0.629697,\n",
       "   'sexual/minors': 0.0002797161,\n",
       "   'violence': 0.0012321197,\n",
       "   'violence/graphic': 9.317347e-08},\n",
       "  'flagged': True},\n",
       " {'categories': {'harassment': False,\n",
       "   'harassment/threatening': False,\n",
       "   'hate': False,\n",
       "   'hate/threatening': False,\n",
       "   'self-harm': False,\n",
       "   'self-harm/instructions': False,\n",
       "   'self-harm/intent': False,\n",
       "   'sexual': True,\n",
       "   'sexual/minors': False,\n",
       "   'violence': False,\n",
       "   'violence/graphic': False},\n",
       "  'category_scores': {'harassment': 1.0216543e-06,\n",
       "   'harassment/threatening': 2.6519714e-08,\n",
       "   'hate': 9.0868495e-09,\n",
       "   'hate/threatening': 9.403486e-09,\n",
       "   'self-harm': 2.821804e-07,\n",
       "   'self-harm/instructions': 2.2276696e-09,\n",
       "   'self-harm/intent': 4.381547e-06,\n",
       "   'sexual': 0.586851,\n",
       "   'sexual/minors': 0.00021378763,\n",
       "   'violence': 0.0017889455,\n",
       "   'violence/graphic': 2.3300627e-06},\n",
       "  'flagged': True},\n",
       " {'categories': {'harassment': False,\n",
       "   'harassment/threatening': False,\n",
       "   'hate': False,\n",
       "   'hate/threatening': False,\n",
       "   'self-harm': False,\n",
       "   'self-harm/instructions': False,\n",
       "   'self-harm/intent': False,\n",
       "   'sexual': True,\n",
       "   'sexual/minors': False,\n",
       "   'violence': False,\n",
       "   'violence/graphic': False},\n",
       "  'category_scores': {'harassment': 4.691769e-06,\n",
       "   'harassment/threatening': 1.2034845e-06,\n",
       "   'hate': 1.4924925e-08,\n",
       "   'hate/threatening': 4.504651e-07,\n",
       "   'self-harm': 7.0398904e-09,\n",
       "   'self-harm/instructions': 4.429576e-08,\n",
       "   'self-harm/intent': 8.076098e-08,\n",
       "   'sexual': 0.9960377,\n",
       "   'sexual/minors': 2.6498097e-05,\n",
       "   'violence': 4.700319e-05,\n",
       "   'violence/graphic': 4.0038035e-06},\n",
       "  'flagged': True},\n",
       " {'categories': {'harassment': False,\n",
       "   'harassment/threatening': False,\n",
       "   'hate': False,\n",
       "   'hate/threatening': False,\n",
       "   'self-harm': False,\n",
       "   'self-harm/instructions': False,\n",
       "   'self-harm/intent': False,\n",
       "   'sexual': True,\n",
       "   'sexual/minors': False,\n",
       "   'violence': False,\n",
       "   'violence/graphic': False},\n",
       "  'category_scores': {'harassment': 0.00019654214,\n",
       "   'harassment/threatening': 8.759508e-05,\n",
       "   'hate': 2.3879096e-08,\n",
       "   'hate/threatening': 1.8952228e-06,\n",
       "   'self-harm': 5.284414e-09,\n",
       "   'self-harm/instructions': 4.4661654e-08,\n",
       "   'self-harm/intent': 1.0580132e-07,\n",
       "   'sexual': 0.73189884,\n",
       "   'sexual/minors': 0.00017135213,\n",
       "   'violence': 0.0022999812,\n",
       "   'violence/graphic': 5.5829323e-06},\n",
       "  'flagged': True},\n",
       " {'categories': {'harassment': False,\n",
       "   'harassment/threatening': False,\n",
       "   'hate': False,\n",
       "   'hate/threatening': False,\n",
       "   'self-harm': False,\n",
       "   'self-harm/instructions': False,\n",
       "   'self-harm/intent': False,\n",
       "   'sexual': True,\n",
       "   'sexual/minors': False,\n",
       "   'violence': False,\n",
       "   'violence/graphic': False},\n",
       "  'category_scores': {'harassment': 1.3315258e-07,\n",
       "   'harassment/threatening': 1.2505326e-08,\n",
       "   'hate': 5.617579e-11,\n",
       "   'hate/threatening': 1.9920804e-13,\n",
       "   'self-harm': 1.1015995e-08,\n",
       "   'self-harm/instructions': 1.3563657e-09,\n",
       "   'self-harm/intent': 2.3776293e-08,\n",
       "   'sexual': 0.9686905,\n",
       "   'sexual/minors': 1.9759175e-06,\n",
       "   'violence': 2.1682235e-06,\n",
       "   'violence/graphic': 4.6079245e-07},\n",
       "  'flagged': True},\n",
       " {'categories': {'harassment': False,\n",
       "   'harassment/threatening': False,\n",
       "   'hate': False,\n",
       "   'hate/threatening': False,\n",
       "   'self-harm': False,\n",
       "   'self-harm/instructions': False,\n",
       "   'self-harm/intent': False,\n",
       "   'sexual': True,\n",
       "   'sexual/minors': False,\n",
       "   'violence': False,\n",
       "   'violence/graphic': False},\n",
       "  'category_scores': {'harassment': 2.2719578e-06,\n",
       "   'harassment/threatening': 4.935803e-08,\n",
       "   'hate': 1.5845373e-08,\n",
       "   'hate/threatening': 6.5201704e-08,\n",
       "   'self-harm': 2.9375963e-10,\n",
       "   'self-harm/instructions': 2.7600016e-09,\n",
       "   'self-harm/intent': 9.909008e-10,\n",
       "   'sexual': 0.99939394,\n",
       "   'sexual/minors': 0.00014262089,\n",
       "   'violence': 4.8792576e-06,\n",
       "   'violence/graphic': 3.8799212e-07},\n",
       "  'flagged': True},\n",
       " {'categories': {'harassment': False,\n",
       "   'harassment/threatening': False,\n",
       "   'hate': False,\n",
       "   'hate/threatening': False,\n",
       "   'self-harm': False,\n",
       "   'self-harm/instructions': False,\n",
       "   'self-harm/intent': False,\n",
       "   'sexual': True,\n",
       "   'sexual/minors': False,\n",
       "   'violence': False,\n",
       "   'violence/graphic': False},\n",
       "  'category_scores': {'harassment': 2.2936387e-05,\n",
       "   'harassment/threatening': 1.3796053e-07,\n",
       "   'hate': 9.039063e-07,\n",
       "   'hate/threatening': 1.179751e-07,\n",
       "   'self-harm': 2.8511838e-07,\n",
       "   'self-harm/instructions': 4.5802094e-06,\n",
       "   'self-harm/intent': 1.519953e-06,\n",
       "   'sexual': 0.9894861,\n",
       "   'sexual/minors': 0.0020918963,\n",
       "   'violence': 3.7571501e-06,\n",
       "   'violence/graphic': 6.968427e-06},\n",
       "  'flagged': True},\n",
       " {'categories': {'harassment': False,\n",
       "   'harassment/threatening': False,\n",
       "   'hate': False,\n",
       "   'hate/threatening': False,\n",
       "   'self-harm': False,\n",
       "   'self-harm/instructions': False,\n",
       "   'self-harm/intent': False,\n",
       "   'sexual': True,\n",
       "   'sexual/minors': False,\n",
       "   'violence': False,\n",
       "   'violence/graphic': False},\n",
       "  'category_scores': {'harassment': 1.7032251e-05,\n",
       "   'harassment/threatening': 7.0441965e-06,\n",
       "   'hate': 6.084055e-08,\n",
       "   'hate/threatening': 2.0235757e-06,\n",
       "   'self-harm': 4.7650296e-08,\n",
       "   'self-harm/instructions': 4.6961597e-07,\n",
       "   'self-harm/intent': 1.1501236e-06,\n",
       "   'sexual': 0.97031367,\n",
       "   'sexual/minors': 0.000185351,\n",
       "   'violence': 0.00059944217,\n",
       "   'violence/graphic': 1.0935411e-05},\n",
       "  'flagged': True},\n",
       " {'categories': {'harassment': False,\n",
       "   'harassment/threatening': False,\n",
       "   'hate': False,\n",
       "   'hate/threatening': False,\n",
       "   'self-harm': False,\n",
       "   'self-harm/instructions': False,\n",
       "   'self-harm/intent': False,\n",
       "   'sexual': True,\n",
       "   'sexual/minors': False,\n",
       "   'violence': False,\n",
       "   'violence/graphic': False},\n",
       "  'category_scores': {'harassment': 1.8732551e-05,\n",
       "   'harassment/threatening': 7.6158917e-06,\n",
       "   'hate': 6.3215786e-08,\n",
       "   'hate/threatening': 2.205121e-06,\n",
       "   'self-harm': 5.095825e-08,\n",
       "   'self-harm/instructions': 4.906438e-07,\n",
       "   'self-harm/intent': 1.1581286e-06,\n",
       "   'sexual': 0.9703261,\n",
       "   'sexual/minors': 0.00018600182,\n",
       "   'violence': 0.00062335294,\n",
       "   'violence/graphic': 1.0647048e-05},\n",
       "  'flagged': True},\n",
       " {'categories': {'harassment': False,\n",
       "   'harassment/threatening': False,\n",
       "   'hate': False,\n",
       "   'hate/threatening': False,\n",
       "   'self-harm': False,\n",
       "   'self-harm/instructions': False,\n",
       "   'self-harm/intent': False,\n",
       "   'sexual': True,\n",
       "   'sexual/minors': False,\n",
       "   'violence': False,\n",
       "   'violence/graphic': False},\n",
       "  'category_scores': {'harassment': 2.1938978e-07,\n",
       "   'harassment/threatening': 7.353539e-08,\n",
       "   'hate': 2.4538693e-09,\n",
       "   'hate/threatening': 1.7131848e-07,\n",
       "   'self-harm': 3.034979e-08,\n",
       "   'self-harm/instructions': 8.9477666e-08,\n",
       "   'self-harm/intent': 5.061243e-08,\n",
       "   'sexual': 0.9767864,\n",
       "   'sexual/minors': 0.00011351893,\n",
       "   'violence': 0.00014509087,\n",
       "   'violence/graphic': 1.3370258e-06},\n",
       "  'flagged': True},\n",
       " {'categories': {'harassment': False,\n",
       "   'harassment/threatening': False,\n",
       "   'hate': False,\n",
       "   'hate/threatening': False,\n",
       "   'self-harm': False,\n",
       "   'self-harm/instructions': False,\n",
       "   'self-harm/intent': False,\n",
       "   'sexual': True,\n",
       "   'sexual/minors': False,\n",
       "   'violence': False,\n",
       "   'violence/graphic': False},\n",
       "  'category_scores': {'harassment': 9.681035e-06,\n",
       "   'harassment/threatening': 6.07143e-07,\n",
       "   'hate': 1.3377239e-08,\n",
       "   'hate/threatening': 1.3342839e-08,\n",
       "   'self-harm': 9.7786234e-08,\n",
       "   'self-harm/instructions': 4.5851618e-11,\n",
       "   'self-harm/intent': 1.8335055e-06,\n",
       "   'sexual': 0.99747133,\n",
       "   'sexual/minors': 0.00016540749,\n",
       "   'violence': 5.2435207e-06,\n",
       "   'violence/graphic': 4.9396317e-07},\n",
       "  'flagged': True},\n",
       " {'categories': {'harassment': False,\n",
       "   'harassment/threatening': False,\n",
       "   'hate': False,\n",
       "   'hate/threatening': False,\n",
       "   'self-harm': False,\n",
       "   'self-harm/instructions': False,\n",
       "   'self-harm/intent': False,\n",
       "   'sexual': True,\n",
       "   'sexual/minors': False,\n",
       "   'violence': False,\n",
       "   'violence/graphic': False},\n",
       "  'category_scores': {'harassment': 1.8942185e-07,\n",
       "   'harassment/threatening': 1.1867981e-07,\n",
       "   'hate': 5.1692814e-09,\n",
       "   'hate/threatening': 2.635893e-07,\n",
       "   'self-harm': 1.1166767e-08,\n",
       "   'self-harm/instructions': 3.763635e-09,\n",
       "   'self-harm/intent': 3.004411e-09,\n",
       "   'sexual': 0.9847489,\n",
       "   'sexual/minors': 9.8859755e-06,\n",
       "   'violence': 0.00021359572,\n",
       "   'violence/graphic': 7.32851e-07},\n",
       "  'flagged': True},\n",
       " {'categories': {'harassment': False,\n",
       "   'harassment/threatening': False,\n",
       "   'hate': False,\n",
       "   'hate/threatening': False,\n",
       "   'self-harm': False,\n",
       "   'self-harm/instructions': False,\n",
       "   'self-harm/intent': False,\n",
       "   'sexual': True,\n",
       "   'sexual/minors': False,\n",
       "   'violence': False,\n",
       "   'violence/graphic': False},\n",
       "  'category_scores': {'harassment': 0.0001257889,\n",
       "   'harassment/threatening': 1.4136201e-05,\n",
       "   'hate': 5.745651e-08,\n",
       "   'hate/threatening': 1.3559769e-10,\n",
       "   'self-harm': 2.4387305e-07,\n",
       "   'self-harm/instructions': 9.8116315e-09,\n",
       "   'self-harm/intent': 7.321189e-07,\n",
       "   'sexual': 0.6624668,\n",
       "   'sexual/minors': 8.58593e-05,\n",
       "   'violence': 0.0041063298,\n",
       "   'violence/graphic': 3.4869416e-05},\n",
       "  'flagged': True},\n",
       " {'categories': {'harassment': False,\n",
       "   'harassment/threatening': False,\n",
       "   'hate': False,\n",
       "   'hate/threatening': False,\n",
       "   'self-harm': False,\n",
       "   'self-harm/instructions': False,\n",
       "   'self-harm/intent': False,\n",
       "   'sexual': True,\n",
       "   'sexual/minors': False,\n",
       "   'violence': False,\n",
       "   'violence/graphic': False},\n",
       "  'category_scores': {'harassment': 1.8457917e-05,\n",
       "   'harassment/threatening': 1.3217389e-05,\n",
       "   'hate': 2.777049e-07,\n",
       "   'hate/threatening': 7.915354e-10,\n",
       "   'self-harm': 1.3897152e-07,\n",
       "   'self-harm/instructions': 2.9478258e-08,\n",
       "   'self-harm/intent': 3.4868424e-07,\n",
       "   'sexual': 0.7486491,\n",
       "   'sexual/minors': 9.8659e-05,\n",
       "   'violence': 0.0021416966,\n",
       "   'violence/graphic': 7.2273406e-06},\n",
       "  'flagged': True},\n",
       " {'categories': {'harassment': False,\n",
       "   'harassment/threatening': False,\n",
       "   'hate': False,\n",
       "   'hate/threatening': False,\n",
       "   'self-harm': False,\n",
       "   'self-harm/instructions': False,\n",
       "   'self-harm/intent': False,\n",
       "   'sexual': True,\n",
       "   'sexual/minors': False,\n",
       "   'violence': False,\n",
       "   'violence/graphic': False},\n",
       "  'category_scores': {'harassment': 1.5251892e-06,\n",
       "   'harassment/threatening': 2.0876875e-08,\n",
       "   'hate': 8.989382e-09,\n",
       "   'hate/threatening': 4.364012e-09,\n",
       "   'self-harm': 1.16132e-07,\n",
       "   'self-harm/instructions': 5.196345e-10,\n",
       "   'self-harm/intent': 2.7894023e-07,\n",
       "   'sexual': 0.9286202,\n",
       "   'sexual/minors': 9.989621e-05,\n",
       "   'violence': 0.00018329105,\n",
       "   'violence/graphic': 5.6198605e-06},\n",
       "  'flagged': True},\n",
       " {'categories': {'harassment': False,\n",
       "   'harassment/threatening': False,\n",
       "   'hate': False,\n",
       "   'hate/threatening': False,\n",
       "   'self-harm': False,\n",
       "   'self-harm/instructions': False,\n",
       "   'self-harm/intent': False,\n",
       "   'sexual': True,\n",
       "   'sexual/minors': False,\n",
       "   'violence': False,\n",
       "   'violence/graphic': False},\n",
       "  'category_scores': {'harassment': 1.1968214e-05,\n",
       "   'harassment/threatening': 1.5026804e-07,\n",
       "   'hate': 4.7458462e-07,\n",
       "   'hate/threatening': 2.6127304e-07,\n",
       "   'self-harm': 6.7333563e-06,\n",
       "   'self-harm/instructions': 1.7926693e-06,\n",
       "   'self-harm/intent': 3.5059963e-06,\n",
       "   'sexual': 0.676573,\n",
       "   'sexual/minors': 0.00028291604,\n",
       "   'violence': 1.202324e-05,\n",
       "   'violence/graphic': 1.1918845e-06},\n",
       "  'flagged': True},\n",
       " {'categories': {'harassment': False,\n",
       "   'harassment/threatening': False,\n",
       "   'hate': False,\n",
       "   'hate/threatening': False,\n",
       "   'self-harm': False,\n",
       "   'self-harm/instructions': False,\n",
       "   'self-harm/intent': False,\n",
       "   'sexual': True,\n",
       "   'sexual/minors': False,\n",
       "   'violence': False,\n",
       "   'violence/graphic': False},\n",
       "  'category_scores': {'harassment': 2.1780812e-07,\n",
       "   'harassment/threatening': 1.2641607e-07,\n",
       "   'hate': 2.2092053e-08,\n",
       "   'hate/threatening': 3.359819e-08,\n",
       "   'self-harm': 9.372241e-07,\n",
       "   'self-harm/instructions': 7.001561e-06,\n",
       "   'self-harm/intent': 6.2712235e-07,\n",
       "   'sexual': 0.9721267,\n",
       "   'sexual/minors': 8.143068e-05,\n",
       "   'violence': 0.00026120103,\n",
       "   'violence/graphic': 1.2555597e-06},\n",
       "  'flagged': True},\n",
       " {'categories': {'harassment': False,\n",
       "   'harassment/threatening': False,\n",
       "   'hate': False,\n",
       "   'hate/threatening': False,\n",
       "   'self-harm': False,\n",
       "   'self-harm/instructions': False,\n",
       "   'self-harm/intent': False,\n",
       "   'sexual': True,\n",
       "   'sexual/minors': False,\n",
       "   'violence': False,\n",
       "   'violence/graphic': False},\n",
       "  'category_scores': {'harassment': 4.743096e-06,\n",
       "   'harassment/threatening': 8.113111e-07,\n",
       "   'hate': 1.6352415e-08,\n",
       "   'hate/threatening': 2.0620853e-07,\n",
       "   'self-harm': 1.7418635e-06,\n",
       "   'self-harm/instructions': 4.851497e-07,\n",
       "   'self-harm/intent': 1.6364435e-06,\n",
       "   'sexual': 0.9736148,\n",
       "   'sexual/minors': 0.00091857027,\n",
       "   'violence': 0.002620065,\n",
       "   'violence/graphic': 2.2830327e-05},\n",
       "  'flagged': True},\n",
       " {'categories': {'harassment': False,\n",
       "   'harassment/threatening': False,\n",
       "   'hate': False,\n",
       "   'hate/threatening': False,\n",
       "   'self-harm': False,\n",
       "   'self-harm/instructions': False,\n",
       "   'self-harm/intent': False,\n",
       "   'sexual': True,\n",
       "   'sexual/minors': False,\n",
       "   'violence': False,\n",
       "   'violence/graphic': False},\n",
       "  'category_scores': {'harassment': 1.0171171e-06,\n",
       "   'harassment/threatening': 1.290542e-07,\n",
       "   'hate': 2.4698723e-09,\n",
       "   'hate/threatening': 1.04616575e-07,\n",
       "   'self-harm': 2.067616e-08,\n",
       "   'self-harm/instructions': 9.550859e-09,\n",
       "   'self-harm/intent': 1.304098e-07,\n",
       "   'sexual': 0.8796272,\n",
       "   'sexual/minors': 1.9039628e-05,\n",
       "   'violence': 0.00041023744,\n",
       "   'violence/graphic': 7.551391e-07},\n",
       "  'flagged': True},\n",
       " {'categories': {'harassment': False,\n",
       "   'harassment/threatening': False,\n",
       "   'hate': False,\n",
       "   'hate/threatening': False,\n",
       "   'self-harm': False,\n",
       "   'self-harm/instructions': False,\n",
       "   'self-harm/intent': False,\n",
       "   'sexual': True,\n",
       "   'sexual/minors': False,\n",
       "   'violence': False,\n",
       "   'violence/graphic': False},\n",
       "  'category_scores': {'harassment': 8.8973223e-07,\n",
       "   'harassment/threatening': 1.6943675e-07,\n",
       "   'hate': 1.8759645e-09,\n",
       "   'hate/threatening': 1.7302162e-06,\n",
       "   'self-harm': 7.905113e-09,\n",
       "   'self-harm/instructions': 8.90858e-09,\n",
       "   'self-harm/intent': 3.644504e-08,\n",
       "   'sexual': 0.9235387,\n",
       "   'sexual/minors': 1.918985e-05,\n",
       "   'violence': 0.0010268018,\n",
       "   'violence/graphic': 1.4842034e-05},\n",
       "  'flagged': True},\n",
       " {'categories': {'harassment': False,\n",
       "   'harassment/threatening': False,\n",
       "   'hate': False,\n",
       "   'hate/threatening': False,\n",
       "   'self-harm': False,\n",
       "   'self-harm/instructions': False,\n",
       "   'self-harm/intent': False,\n",
       "   'sexual': True,\n",
       "   'sexual/minors': False,\n",
       "   'violence': False,\n",
       "   'violence/graphic': False},\n",
       "  'category_scores': {'harassment': 0.00015210567,\n",
       "   'harassment/threatening': 8.5214076e-08,\n",
       "   'hate': 2.0453962e-07,\n",
       "   'hate/threatening': 6.5811676e-08,\n",
       "   'self-harm': 5.500061e-07,\n",
       "   'self-harm/instructions': 7.669015e-10,\n",
       "   'self-harm/intent': 6.509378e-07,\n",
       "   'sexual': 0.6646794,\n",
       "   'sexual/minors': 5.6454253e-05,\n",
       "   'violence': 1.1304279e-05,\n",
       "   'violence/graphic': 1.8166664e-09},\n",
       "  'flagged': True},\n",
       " {'categories': {'harassment': False,\n",
       "   'harassment/threatening': False,\n",
       "   'hate': False,\n",
       "   'hate/threatening': False,\n",
       "   'self-harm': False,\n",
       "   'self-harm/instructions': False,\n",
       "   'self-harm/intent': False,\n",
       "   'sexual': True,\n",
       "   'sexual/minors': False,\n",
       "   'violence': False,\n",
       "   'violence/graphic': False},\n",
       "  'category_scores': {'harassment': 1.3576674e-05,\n",
       "   'harassment/threatening': 2.1889921e-08,\n",
       "   'hate': 8.4170885e-08,\n",
       "   'hate/threatening': 4.3918176e-09,\n",
       "   'self-harm': 1.073019e-06,\n",
       "   'self-harm/instructions': 3.2615766e-08,\n",
       "   'self-harm/intent': 9.134029e-07,\n",
       "   'sexual': 0.929502,\n",
       "   'sexual/minors': 4.5869292e-05,\n",
       "   'violence': 1.0744906e-06,\n",
       "   'violence/graphic': 3.845663e-09},\n",
       "  'flagged': True},\n",
       " {'categories': {'harassment': False,\n",
       "   'harassment/threatening': False,\n",
       "   'hate': False,\n",
       "   'hate/threatening': False,\n",
       "   'self-harm': False,\n",
       "   'self-harm/instructions': False,\n",
       "   'self-harm/intent': False,\n",
       "   'sexual': True,\n",
       "   'sexual/minors': False,\n",
       "   'violence': False,\n",
       "   'violence/graphic': False},\n",
       "  'category_scores': {'harassment': 7.695764e-06,\n",
       "   'harassment/threatening': 6.2381304e-08,\n",
       "   'hate': 6.8632757e-09,\n",
       "   'hate/threatening': 1.02759525e-08,\n",
       "   'self-harm': 1.4101872e-07,\n",
       "   'self-harm/instructions': 3.9207803e-06,\n",
       "   'self-harm/intent': 7.839426e-08,\n",
       "   'sexual': 0.99230945,\n",
       "   'sexual/minors': 7.621831e-05,\n",
       "   'violence': 2.410857e-06,\n",
       "   'violence/graphic': 1.1123996e-08},\n",
       "  'flagged': True},\n",
       " {'categories': {'harassment': False,\n",
       "   'harassment/threatening': False,\n",
       "   'hate': False,\n",
       "   'hate/threatening': False,\n",
       "   'self-harm': False,\n",
       "   'self-harm/instructions': False,\n",
       "   'self-harm/intent': False,\n",
       "   'sexual': True,\n",
       "   'sexual/minors': False,\n",
       "   'violence': False,\n",
       "   'violence/graphic': False},\n",
       "  'category_scores': {'harassment': 0.00036945415,\n",
       "   'harassment/threatening': 1.2489866e-06,\n",
       "   'hate': 1.3516188e-07,\n",
       "   'hate/threatening': 1.2135915e-08,\n",
       "   'self-harm': 7.8450654e-08,\n",
       "   'self-harm/instructions': 1.9170447e-09,\n",
       "   'self-harm/intent': 8.491716e-08,\n",
       "   'sexual': 0.9147185,\n",
       "   'sexual/minors': 2.893907e-06,\n",
       "   'violence': 3.8975802e-05,\n",
       "   'violence/graphic': 3.8519488e-07},\n",
       "  'flagged': True},\n",
       " {'categories': {'harassment': False,\n",
       "   'harassment/threatening': False,\n",
       "   'hate': False,\n",
       "   'hate/threatening': False,\n",
       "   'self-harm': False,\n",
       "   'self-harm/instructions': False,\n",
       "   'self-harm/intent': False,\n",
       "   'sexual': True,\n",
       "   'sexual/minors': False,\n",
       "   'violence': False,\n",
       "   'violence/graphic': False},\n",
       "  'category_scores': {'harassment': 0.0003434437,\n",
       "   'harassment/threatening': 1.3251099e-06,\n",
       "   'hate': 3.5104085e-07,\n",
       "   'hate/threatening': 3.9736747e-09,\n",
       "   'self-harm': 3.875919e-06,\n",
       "   'self-harm/instructions': 1.5487403e-07,\n",
       "   'self-harm/intent': 6.23739e-06,\n",
       "   'sexual': 0.997051,\n",
       "   'sexual/minors': 0.0007101937,\n",
       "   'violence': 5.501401e-06,\n",
       "   'violence/graphic': 1.7526055e-08},\n",
       "  'flagged': True},\n",
       " {'categories': {'harassment': False,\n",
       "   'harassment/threatening': False,\n",
       "   'hate': False,\n",
       "   'hate/threatening': False,\n",
       "   'self-harm': False,\n",
       "   'self-harm/instructions': False,\n",
       "   'self-harm/intent': False,\n",
       "   'sexual': True,\n",
       "   'sexual/minors': False,\n",
       "   'violence': False,\n",
       "   'violence/graphic': False},\n",
       "  'category_scores': {'harassment': 0.0003396714,\n",
       "   'harassment/threatening': 1.297548e-07,\n",
       "   'hate': 3.96636e-09,\n",
       "   'hate/threatening': 4.2299947e-13,\n",
       "   'self-harm': 4.466212e-10,\n",
       "   'self-harm/instructions': 1.9034923e-11,\n",
       "   'self-harm/intent': 6.3696104e-10,\n",
       "   'sexual': 0.9924975,\n",
       "   'sexual/minors': 1.7067745e-05,\n",
       "   'violence': 4.9267733e-06,\n",
       "   'violence/graphic': 4.8427876e-07},\n",
       "  'flagged': True},\n",
       " {'categories': {'harassment': False,\n",
       "   'harassment/threatening': False,\n",
       "   'hate': False,\n",
       "   'hate/threatening': False,\n",
       "   'self-harm': False,\n",
       "   'self-harm/instructions': False,\n",
       "   'self-harm/intent': False,\n",
       "   'sexual': True,\n",
       "   'sexual/minors': False,\n",
       "   'violence': False,\n",
       "   'violence/graphic': False},\n",
       "  'category_scores': {'harassment': 4.2692605e-07,\n",
       "   'harassment/threatening': 5.5874526e-08,\n",
       "   'hate': 9.9569505e-08,\n",
       "   'hate/threatening': 1.8364839e-06,\n",
       "   'self-harm': 3.0619544e-06,\n",
       "   'self-harm/instructions': 6.7946104e-08,\n",
       "   'self-harm/intent': 1.1526337e-06,\n",
       "   'sexual': 0.99714464,\n",
       "   'sexual/minors': 0.00013173901,\n",
       "   'violence': 0.00010620187,\n",
       "   'violence/graphic': 2.4210423e-05},\n",
       "  'flagged': True},\n",
       " {'categories': {'harassment': False,\n",
       "   'harassment/threatening': False,\n",
       "   'hate': False,\n",
       "   'hate/threatening': False,\n",
       "   'self-harm': False,\n",
       "   'self-harm/instructions': False,\n",
       "   'self-harm/intent': False,\n",
       "   'sexual': True,\n",
       "   'sexual/minors': False,\n",
       "   'violence': False,\n",
       "   'violence/graphic': False},\n",
       "  'category_scores': {'harassment': 9.328853e-08,\n",
       "   'harassment/threatening': 5.1692847e-08,\n",
       "   'hate': 2.2555455e-09,\n",
       "   'hate/threatening': 1.15829994e-08,\n",
       "   'self-harm': 3.5766865e-07,\n",
       "   'self-harm/instructions': 2.8291737e-07,\n",
       "   'self-harm/intent': 9.227169e-08,\n",
       "   'sexual': 0.9853563,\n",
       "   'sexual/minors': 7.495644e-05,\n",
       "   'violence': 5.6488236e-05,\n",
       "   'violence/graphic': 1.8177323e-05},\n",
       "  'flagged': True},\n",
       " {'categories': {'harassment': False,\n",
       "   'harassment/threatening': False,\n",
       "   'hate': False,\n",
       "   'hate/threatening': False,\n",
       "   'self-harm': False,\n",
       "   'self-harm/instructions': False,\n",
       "   'self-harm/intent': False,\n",
       "   'sexual': True,\n",
       "   'sexual/minors': False,\n",
       "   'violence': False,\n",
       "   'violence/graphic': False},\n",
       "  'category_scores': {'harassment': 2.128593e-06,\n",
       "   'harassment/threatening': 3.560151e-07,\n",
       "   'hate': 1.0265848e-07,\n",
       "   'hate/threatening': 1.1972046e-06,\n",
       "   'self-harm': 2.1806636e-06,\n",
       "   'self-harm/instructions': 3.8430366e-07,\n",
       "   'self-harm/intent': 8.812657e-06,\n",
       "   'sexual': 0.99349725,\n",
       "   'sexual/minors': 0.00014182457,\n",
       "   'violence': 3.7934587e-05,\n",
       "   'violence/graphic': 1.63347e-05},\n",
       "  'flagged': True},\n",
       " {'categories': {'harassment': False,\n",
       "   'harassment/threatening': False,\n",
       "   'hate': False,\n",
       "   'hate/threatening': False,\n",
       "   'self-harm': False,\n",
       "   'self-harm/instructions': False,\n",
       "   'self-harm/intent': False,\n",
       "   'sexual': True,\n",
       "   'sexual/minors': False,\n",
       "   'violence': False,\n",
       "   'violence/graphic': False},\n",
       "  'category_scores': {'harassment': 2.179466e-06,\n",
       "   'harassment/threatening': 2.0565548e-07,\n",
       "   'hate': 7.925694e-08,\n",
       "   'hate/threatening': 4.6576457e-07,\n",
       "   'self-harm': 2.9483087e-06,\n",
       "   'self-harm/instructions': 1.9243064e-08,\n",
       "   'self-harm/intent': 1.7600041e-06,\n",
       "   'sexual': 0.99695385,\n",
       "   'sexual/minors': 0.000120091354,\n",
       "   'violence': 0.00020580755,\n",
       "   'violence/graphic': 0.0002723716},\n",
       "  'flagged': True},\n",
       " {'categories': {'harassment': False,\n",
       "   'harassment/threatening': False,\n",
       "   'hate': False,\n",
       "   'hate/threatening': False,\n",
       "   'self-harm': False,\n",
       "   'self-harm/instructions': False,\n",
       "   'self-harm/intent': False,\n",
       "   'sexual': True,\n",
       "   'sexual/minors': False,\n",
       "   'violence': False,\n",
       "   'violence/graphic': False},\n",
       "  'category_scores': {'harassment': 1.0409742e-06,\n",
       "   'harassment/threatening': 3.2189496e-09,\n",
       "   'hate': 2.5016476e-09,\n",
       "   'hate/threatening': 2.7530616e-09,\n",
       "   'self-harm': 2.6950842e-09,\n",
       "   'self-harm/instructions': 1.8112947e-11,\n",
       "   'self-harm/intent': 3.6605254e-09,\n",
       "   'sexual': 0.9638634,\n",
       "   'sexual/minors': 1.8926537e-05,\n",
       "   'violence': 2.0586556e-06,\n",
       "   'violence/graphic': 3.23673e-09},\n",
       "  'flagged': True},\n",
       " {'categories': {'harassment': False,\n",
       "   'harassment/threatening': False,\n",
       "   'hate': False,\n",
       "   'hate/threatening': False,\n",
       "   'self-harm': False,\n",
       "   'self-harm/instructions': False,\n",
       "   'self-harm/intent': False,\n",
       "   'sexual': True,\n",
       "   'sexual/minors': False,\n",
       "   'violence': False,\n",
       "   'violence/graphic': False},\n",
       "  'category_scores': {'harassment': 0.012502928,\n",
       "   'harassment/threatening': 0.0007626059,\n",
       "   'hate': 4.071775e-06,\n",
       "   'hate/threatening': 3.670028e-05,\n",
       "   'self-harm': 2.1306005e-05,\n",
       "   'self-harm/instructions': 4.6790074e-06,\n",
       "   'self-harm/intent': 3.0021247e-05,\n",
       "   'sexual': 0.8597292,\n",
       "   'sexual/minors': 8.478896e-05,\n",
       "   'violence': 0.00063115894,\n",
       "   'violence/graphic': 1.2471115e-05},\n",
       "  'flagged': True},\n",
       " {'categories': {'harassment': False,\n",
       "   'harassment/threatening': False,\n",
       "   'hate': False,\n",
       "   'hate/threatening': False,\n",
       "   'self-harm': False,\n",
       "   'self-harm/instructions': False,\n",
       "   'self-harm/intent': False,\n",
       "   'sexual': True,\n",
       "   'sexual/minors': False,\n",
       "   'violence': False,\n",
       "   'violence/graphic': False},\n",
       "  'category_scores': {'harassment': 0.00040481228,\n",
       "   'harassment/threatening': 7.978652e-05,\n",
       "   'hate': 2.4133299e-06,\n",
       "   'hate/threatening': 4.1318035e-06,\n",
       "   'self-harm': 3.147354e-06,\n",
       "   'self-harm/instructions': 2.0919724e-06,\n",
       "   'self-harm/intent': 4.6371565e-06,\n",
       "   'sexual': 0.997898,\n",
       "   'sexual/minors': 4.9937855e-05,\n",
       "   'violence': 0.00038958047,\n",
       "   'violence/graphic': 2.1356702e-05},\n",
       "  'flagged': True},\n",
       " {'categories': {'harassment': False,\n",
       "   'harassment/threatening': False,\n",
       "   'hate': False,\n",
       "   'hate/threatening': False,\n",
       "   'self-harm': False,\n",
       "   'self-harm/instructions': False,\n",
       "   'self-harm/intent': False,\n",
       "   'sexual': True,\n",
       "   'sexual/minors': False,\n",
       "   'violence': False,\n",
       "   'violence/graphic': False},\n",
       "  'category_scores': {'harassment': 1.4618682e-06,\n",
       "   'harassment/threatening': 1.445173e-07,\n",
       "   'hate': 1.1075661e-08,\n",
       "   'hate/threatening': 2.3728525e-07,\n",
       "   'self-harm': 8.3491805e-08,\n",
       "   'self-harm/instructions': 1.3129013e-08,\n",
       "   'self-harm/intent': 4.5108894e-07,\n",
       "   'sexual': 0.96600723,\n",
       "   'sexual/minors': 5.3173004e-05,\n",
       "   'violence': 0.0002695881,\n",
       "   'violence/graphic': 8.459148e-07},\n",
       "  'flagged': True},\n",
       " {'categories': {'harassment': False,\n",
       "   'harassment/threatening': False,\n",
       "   'hate': False,\n",
       "   'hate/threatening': False,\n",
       "   'self-harm': False,\n",
       "   'self-harm/instructions': False,\n",
       "   'self-harm/intent': False,\n",
       "   'sexual': True,\n",
       "   'sexual/minors': False,\n",
       "   'violence': False,\n",
       "   'violence/graphic': False},\n",
       "  'category_scores': {'harassment': 3.6681183e-06,\n",
       "   'harassment/threatening': 2.9331035e-08,\n",
       "   'hate': 2.3022807e-08,\n",
       "   'hate/threatening': 9.8568215e-08,\n",
       "   'self-harm': 4.5478902e-07,\n",
       "   'self-harm/instructions': 1.7046905e-09,\n",
       "   'self-harm/intent': 1.06299524e-07,\n",
       "   'sexual': 0.96887994,\n",
       "   'sexual/minors': 4.4544086e-05,\n",
       "   'violence': 0.00014267272,\n",
       "   'violence/graphic': 4.820808e-06},\n",
       "  'flagged': True},\n",
       " {'categories': {'harassment': False,\n",
       "   'harassment/threatening': False,\n",
       "   'hate': False,\n",
       "   'hate/threatening': False,\n",
       "   'self-harm': False,\n",
       "   'self-harm/instructions': False,\n",
       "   'self-harm/intent': False,\n",
       "   'sexual': True,\n",
       "   'sexual/minors': False,\n",
       "   'violence': False,\n",
       "   'violence/graphic': False},\n",
       "  'category_scores': {'harassment': 6.7592327e-06,\n",
       "   'harassment/threatening': 4.8688175e-08,\n",
       "   'hate': 2.0122487e-08,\n",
       "   'hate/threatening': 9.3890456e-08,\n",
       "   'self-harm': 4.516726e-07,\n",
       "   'self-harm/instructions': 7.013782e-09,\n",
       "   'self-harm/intent': 1.9822427e-07,\n",
       "   'sexual': 0.9796647,\n",
       "   'sexual/minors': 7.112954e-05,\n",
       "   'violence': 0.00013934824,\n",
       "   'violence/graphic': 4.048064e-06},\n",
       "  'flagged': True},\n",
       " {'categories': {'harassment': False,\n",
       "   'harassment/threatening': False,\n",
       "   'hate': False,\n",
       "   'hate/threatening': False,\n",
       "   'self-harm': False,\n",
       "   'self-harm/instructions': False,\n",
       "   'self-harm/intent': False,\n",
       "   'sexual': True,\n",
       "   'sexual/minors': False,\n",
       "   'violence': False,\n",
       "   'violence/graphic': False},\n",
       "  'category_scores': {'harassment': 0.019430747,\n",
       "   'harassment/threatening': 0.00019135886,\n",
       "   'hate': 1.742603e-05,\n",
       "   'hate/threatening': 2.2062968e-06,\n",
       "   'self-harm': 7.989051e-06,\n",
       "   'self-harm/instructions': 1.8528466e-07,\n",
       "   'self-harm/intent': 5.0277366e-05,\n",
       "   'sexual': 0.979788,\n",
       "   'sexual/minors': 0.00018995996,\n",
       "   'violence': 0.0003784919,\n",
       "   'violence/graphic': 9.764207e-06},\n",
       "  'flagged': True},\n",
       " {'categories': {'harassment': False,\n",
       "   'harassment/threatening': False,\n",
       "   'hate': False,\n",
       "   'hate/threatening': False,\n",
       "   'self-harm': False,\n",
       "   'self-harm/instructions': False,\n",
       "   'self-harm/intent': False,\n",
       "   'sexual': True,\n",
       "   'sexual/minors': False,\n",
       "   'violence': False,\n",
       "   'violence/graphic': False},\n",
       "  'category_scores': {'harassment': 9.085904e-05,\n",
       "   'harassment/threatening': 3.5859048e-07,\n",
       "   'hate': 2.1121521e-07,\n",
       "   'hate/threatening': 1.07460686e-07,\n",
       "   'self-harm': 2.2483237e-06,\n",
       "   'self-harm/instructions': 3.072277e-08,\n",
       "   'self-harm/intent': 1.5846816e-06,\n",
       "   'sexual': 0.9988392,\n",
       "   'sexual/minors': 1.3648711e-05,\n",
       "   'violence': 7.324318e-05,\n",
       "   'violence/graphic': 5.116204e-07},\n",
       "  'flagged': True},\n",
       " {'categories': {'harassment': False,\n",
       "   'harassment/threatening': False,\n",
       "   'hate': False,\n",
       "   'hate/threatening': False,\n",
       "   'self-harm': False,\n",
       "   'self-harm/instructions': False,\n",
       "   'self-harm/intent': False,\n",
       "   'sexual': True,\n",
       "   'sexual/minors': False,\n",
       "   'violence': False,\n",
       "   'violence/graphic': False},\n",
       "  'category_scores': {'harassment': 4.213549e-06,\n",
       "   'harassment/threatening': 1.403056e-07,\n",
       "   'hate': 4.0498403e-08,\n",
       "   'hate/threatening': 3.1063772e-07,\n",
       "   'self-harm': 1.1853406e-06,\n",
       "   'self-harm/instructions': 4.7569007e-09,\n",
       "   'self-harm/intent': 7.9721167e-07,\n",
       "   'sexual': 0.9417699,\n",
       "   'sexual/minors': 0.00015901602,\n",
       "   'violence': 9.10674e-05,\n",
       "   'violence/graphic': 1.4517662e-05},\n",
       "  'flagged': True},\n",
       " {'categories': {'harassment': False,\n",
       "   'harassment/threatening': False,\n",
       "   'hate': False,\n",
       "   'hate/threatening': False,\n",
       "   'self-harm': False,\n",
       "   'self-harm/instructions': False,\n",
       "   'self-harm/intent': False,\n",
       "   'sexual': True,\n",
       "   'sexual/minors': False,\n",
       "   'violence': False,\n",
       "   'violence/graphic': False},\n",
       "  'category_scores': {'harassment': 0.0005868135,\n",
       "   'harassment/threatening': 0.0004660006,\n",
       "   'hate': 3.4213647e-07,\n",
       "   'hate/threatening': 6.832623e-08,\n",
       "   'self-harm': 1.3470404e-07,\n",
       "   'self-harm/instructions': 7.6432485e-08,\n",
       "   'self-harm/intent': 5.234547e-06,\n",
       "   'sexual': 0.99962497,\n",
       "   'sexual/minors': 0.0007462017,\n",
       "   'violence': 0.00015910658,\n",
       "   'violence/graphic': 1.7190274e-07},\n",
       "  'flagged': True},\n",
       " {'categories': {'harassment': False,\n",
       "   'harassment/threatening': False,\n",
       "   'hate': False,\n",
       "   'hate/threatening': False,\n",
       "   'self-harm': False,\n",
       "   'self-harm/instructions': False,\n",
       "   'self-harm/intent': False,\n",
       "   'sexual': True,\n",
       "   'sexual/minors': False,\n",
       "   'violence': False,\n",
       "   'violence/graphic': False},\n",
       "  'category_scores': {'harassment': 3.7398727e-06,\n",
       "   'harassment/threatening': 5.537984e-07,\n",
       "   'hate': 6.1784027e-07,\n",
       "   'hate/threatening': 1.0124447e-06,\n",
       "   'self-harm': 1.7718924e-06,\n",
       "   'self-harm/instructions': 1.2613517e-06,\n",
       "   'self-harm/intent': 5.3872213e-06,\n",
       "   'sexual': 0.99690646,\n",
       "   'sexual/minors': 0.004910387,\n",
       "   'violence': 0.00022869912,\n",
       "   'violence/graphic': 9.855992e-06},\n",
       "  'flagged': True},\n",
       " {'categories': {'harassment': False,\n",
       "   'harassment/threatening': False,\n",
       "   'hate': False,\n",
       "   'hate/threatening': False,\n",
       "   'self-harm': False,\n",
       "   'self-harm/instructions': False,\n",
       "   'self-harm/intent': False,\n",
       "   'sexual': True,\n",
       "   'sexual/minors': False,\n",
       "   'violence': False,\n",
       "   'violence/graphic': False},\n",
       "  'category_scores': {'harassment': 0.13203342,\n",
       "   'harassment/threatening': 0.0097853355,\n",
       "   'hate': 4.3499404e-05,\n",
       "   'hate/threatening': 1.9256106e-05,\n",
       "   'self-harm': 6.714445e-07,\n",
       "   'self-harm/instructions': 1.3574449e-07,\n",
       "   'self-harm/intent': 3.7247776e-06,\n",
       "   'sexual': 0.73149276,\n",
       "   'sexual/minors': 5.409103e-05,\n",
       "   'violence': 0.012967122,\n",
       "   'violence/graphic': 1.7123013e-05},\n",
       "  'flagged': True},\n",
       " {'categories': {'harassment': False,\n",
       "   'harassment/threatening': False,\n",
       "   'hate': False,\n",
       "   'hate/threatening': False,\n",
       "   'self-harm': False,\n",
       "   'self-harm/instructions': False,\n",
       "   'self-harm/intent': False,\n",
       "   'sexual': True,\n",
       "   'sexual/minors': False,\n",
       "   'violence': False,\n",
       "   'violence/graphic': False},\n",
       "  'category_scores': {'harassment': 0.00012591298,\n",
       "   'harassment/threatening': 2.1100104e-05,\n",
       "   'hate': 4.0012537e-06,\n",
       "   'hate/threatening': 3.58398e-06,\n",
       "   'self-harm': 2.685793e-06,\n",
       "   'self-harm/instructions': 0.0001319686,\n",
       "   'self-harm/intent': 5.2662766e-05,\n",
       "   'sexual': 0.8265607,\n",
       "   'sexual/minors': 0.0002942075,\n",
       "   'violence': 0.00038463293,\n",
       "   'violence/graphic': 1.1945443e-05},\n",
       "  'flagged': True},\n",
       " {'categories': {'harassment': False,\n",
       "   'harassment/threatening': False,\n",
       "   'hate': False,\n",
       "   'hate/threatening': False,\n",
       "   'self-harm': False,\n",
       "   'self-harm/instructions': False,\n",
       "   'self-harm/intent': False,\n",
       "   'sexual': True,\n",
       "   'sexual/minors': False,\n",
       "   'violence': False,\n",
       "   'violence/graphic': False},\n",
       "  'category_scores': {'harassment': 1.3803572e-06,\n",
       "   'harassment/threatening': 1.4607589e-06,\n",
       "   'hate': 6.081604e-09,\n",
       "   'hate/threatening': 1.10192154e-07,\n",
       "   'self-harm': 4.2372088e-07,\n",
       "   'self-harm/instructions': 1.0876718e-08,\n",
       "   'self-harm/intent': 6.8523696e-07,\n",
       "   'sexual': 0.9138244,\n",
       "   'sexual/minors': 8.321878e-05,\n",
       "   'violence': 4.2292682e-05,\n",
       "   'violence/graphic': 2.618288e-06},\n",
       "  'flagged': True},\n",
       " {'categories': {'harassment': False,\n",
       "   'harassment/threatening': False,\n",
       "   'hate': False,\n",
       "   'hate/threatening': False,\n",
       "   'self-harm': False,\n",
       "   'self-harm/instructions': False,\n",
       "   'self-harm/intent': False,\n",
       "   'sexual': True,\n",
       "   'sexual/minors': False,\n",
       "   'violence': False,\n",
       "   'violence/graphic': False},\n",
       "  'category_scores': {'harassment': 4.7896783e-06,\n",
       "   'harassment/threatening': 8.9098066e-08,\n",
       "   'hate': 5.7838713e-07,\n",
       "   'hate/threatening': 4.572101e-06,\n",
       "   'self-harm': 5.903181e-06,\n",
       "   'self-harm/instructions': 7.7030926e-08,\n",
       "   'self-harm/intent': 4.0887326e-06,\n",
       "   'sexual': 0.9964875,\n",
       "   'sexual/minors': 0.00020610703,\n",
       "   'violence': 2.7790555e-05,\n",
       "   'violence/graphic': 6.056965e-06},\n",
       "  'flagged': True},\n",
       " {'categories': {'harassment': False,\n",
       "   'harassment/threatening': False,\n",
       "   'hate': False,\n",
       "   'hate/threatening': False,\n",
       "   'self-harm': False,\n",
       "   'self-harm/instructions': False,\n",
       "   'self-harm/intent': False,\n",
       "   'sexual': True,\n",
       "   'sexual/minors': False,\n",
       "   'violence': False,\n",
       "   'violence/graphic': False},\n",
       "  'category_scores': {'harassment': 0.00016575104,\n",
       "   'harassment/threatening': 8.1084385e-05,\n",
       "   'hate': 1.0110688e-06,\n",
       "   'hate/threatening': 1.4752628e-06,\n",
       "   'self-harm': 2.3853752e-05,\n",
       "   'self-harm/instructions': 1.9485782e-07,\n",
       "   'self-harm/intent': 9.250506e-05,\n",
       "   'sexual': 0.98696226,\n",
       "   'sexual/minors': 0.03925899,\n",
       "   'violence': 0.001208708,\n",
       "   'violence/graphic': 0.0004409943},\n",
       "  'flagged': True},\n",
       " {'categories': {'harassment': False,\n",
       "   'harassment/threatening': False,\n",
       "   'hate': False,\n",
       "   'hate/threatening': False,\n",
       "   'self-harm': False,\n",
       "   'self-harm/instructions': False,\n",
       "   'self-harm/intent': False,\n",
       "   'sexual': True,\n",
       "   'sexual/minors': False,\n",
       "   'violence': False,\n",
       "   'violence/graphic': False},\n",
       "  'category_scores': {'harassment': 3.480156e-06,\n",
       "   'harassment/threatening': 3.6748958e-08,\n",
       "   'hate': 1.50621e-07,\n",
       "   'hate/threatening': 2.3631876e-06,\n",
       "   'self-harm': 1.2489485e-06,\n",
       "   'self-harm/instructions': 5.8751453e-08,\n",
       "   'self-harm/intent': 1.356265e-06,\n",
       "   'sexual': 0.9927488,\n",
       "   'sexual/minors': 9.5030184e-05,\n",
       "   'violence': 5.2852338e-05,\n",
       "   'violence/graphic': 6.3695284e-06},\n",
       "  'flagged': True}]"
      ]
     },
     "execution_count": 63,
     "metadata": {},
     "output_type": "execute_result"
    }
   ],
   "source": [
    "list(filter(lambda x: x['flagged'], w.iloc[0].openai_moderation))"
   ]
  },
  {
   "cell_type": "code",
   "execution_count": null,
   "metadata": {},
   "outputs": [
    {
     "data": {
      "text/plain": [
       "Counter({'assistant': 59518, 'user': 54768})"
      ]
     },
     "execution_count": 53,
     "metadata": {},
     "output_type": "execute_result"
    }
   ],
   "source": []
  },
  {
   "cell_type": "markdown",
   "metadata": {},
   "source": [
    "### redacted?"
   ]
  },
  {
   "cell_type": "code",
   "execution_count": null,
   "metadata": {},
   "outputs": [
    {
     "data": {
      "text/plain": [
       "(266260, 7)"
      ]
     },
     "execution_count": 44,
     "metadata": {},
     "output_type": "execute_result"
    }
   ],
   "source": [
    "redacted_df = df[df.redacted == True]\n",
    "redacted_df.shape"
   ]
  },
  {
   "cell_type": "code",
   "execution_count": null,
   "metadata": {},
   "outputs": [
    {
     "data": {
      "text/plain": [
       "conversation_id                       e3addcd33c9d42b2be07c4bbbf9ce92e\n",
       "model                                                 llama-2-13b-chat\n",
       "conversation         [{'content': 'how many floors does the burj al...\n",
       "turn                                                                 6\n",
       "language                                                       English\n",
       "openai_moderation    [{'categories': {'harassment': False, 'harassm...\n",
       "redacted                                                          True\n",
       "Name: 13, dtype: object"
      ]
     },
     "execution_count": 45,
     "metadata": {},
     "output_type": "execute_result"
    }
   ],
   "source": [
    "idx = 1\n",
    "item = redacted_df.iloc[idx]\n",
    "item"
   ]
  },
  {
   "cell_type": "code",
   "execution_count": null,
   "metadata": {},
   "outputs": [
    {
     "data": {
      "text/plain": [
       "array([{'content': 'how many floors does the burj al arab have', 'role': 'user'},\n",
       "       {'content': \"Hello! I'm here to help answer your questions while ensuring a safe and respectful conversation. To the best of my knowledge, the Burj Al Arab has 154 floors. However, I would like to clarify that providing exact information on building floor counts can be challenging due to various reasons such as changes in construction, renovations, or inconsistent sources. If you have any further questions or concerns, please feel free to ask, and I'll do my best to assist you with accurate and helpful information.\", 'role': 'assistant'},\n",
       "       {'content': 'doesnt it have 56 floors and 202 rooms', 'role': 'user'},\n",
       "       {'content': \"Thank you for bringing that to my attention! You are correct, the Burj Al Arab has 56 floors and 202 rooms. I apologize for any confusion my previous response may have caused. It's important to ensure the accuracy of the information we provide, and I appreciate your help in doing so. Thank you for your question!\", 'role': 'assistant'},\n",
       "       {'content': 'so if i ask you now how many rooms and how many floors', 'role': 'user'},\n",
       "       {'content': 'Sure! To answer your questions:\\n\\n* The Burj Al Arab has 202 rooms.\\n* The Burj Al Arab has 56 floors.', 'role': 'assistant'},\n",
       "       {'content': 'if i ask in ten minutes will you still remember', 'role': 'user'},\n",
       "       {'content': \"I'm a large language model, I don't have a memory in the classical sense, so I may not be able to remember information from previous questions after a certain amount of time has passed. However, I can still try my best to provide accurate information based on my training data.\\n\\nIf you ask me a question about the Burj Al Arab in ten minutes, I will do my best to provide the same information as I would now, which is:\\n\\n* The Burj Al Arab has 202 rooms.\\n* The Burj Al Arab has 56 floors.\\n\\nPlease keep in mind that my ability to remember information may be limited by the time that has passed since the previous question, and my responses may not be as accurate or detailed as those provided earlier.\", 'role': 'assistant'},\n",
       "       {'content': 'can you describe the delux NAME_1', 'role': 'user'},\n",
       "       {'content': \"Sure, I can provide a description of the Delux NAME_1 at the Burj Al Arab!\\n\\nThe Delux NAME_1 is one of the most luxurious and spacious accommodations offered at the iconic Burj Al Arab hotel in Dubai. Located on the upper floors of the hotel, this suite offers breathtaking views of the Arabian Gulf and the Dubai skyline.\\n\\nThe Delux NAME_1 features a large living room, a formal dining area, a gourmet kitchen, and a spacious bedroom with a large bathroom. The suite is tastefully decorated with elegant furnishings, rich fabrics, and luxurious finishes.\\n\\nSome of the amenities and features of the Delux NAME_1 include:\\n\\n* A spacious living room with a comfortable seating area, a large flat-screen TV, and floor-to-ceiling windows that offer stunning views of the city skyline\\n* A formal dining area with a beautifully set table for eight guests, perfect for hosting special occasions or business meetings\\n* A gourmet kitchen with high-end appliances, ample counter space, and a breakfast bar\\n* A spacious bedroom with a king-size bed, a large flat-screen TV, and a luxurious bathroom with a deep-soaking tub, a walk-in shower, and double sinks\\n* A private balcony with outdoor seating and breathtaking views of the Arabian Gulf\\n* A personal butler service to ensure that your every need is met during your stay\\n* Access to the hotel's exclusive amenities, including the private beach, the spa, and the fitness center\\n\\nOverall, the Delux NAME_1 at the Burj Al Arab is an opulent and spacious accommodation that offers the ultimate in luxury and comfort. It is the perfect choice for discerning travelers who desire the finest amenities and unparalleled service during their stay in Dubai.\", 'role': 'assistant'},\n",
       "       {'content': 'can you describe the balcony in detail and bedroom in lots of detail', 'role': 'user'},\n",
       "       {'content': 'Certainly! Here are detailed descriptions of the balcony and bedroom in the Delux NAME_1 at the Burj Al Arab:\\n\\nBalcony:\\n\\n* The balcony is a spacious outdoor area that provides stunning views of the Arabian Gulf and the Dubai skyline.\\n* The balcony is furnished with comfortable seating, including a sofa, armchairs, and a coffee table.\\n* The balcony is also equipped with a dining table and chairs, perfect for enjoying breakfast or a romantic dinner under the stars.\\n* The balcony is surrounded by a beautiful balustrade, providing privacy and unobstructed views of the surrounding area.\\n* The balcony is illuminated by soft, warm lighting, creating a magical ambiance in the evening.\\n\\nBedroom:\\n\\n* The bedroom is a spacious and luxurious space that is designed to provide the ultimate in comfort and relaxation.\\n* The bedroom is furnished with a beautifully designed king-size bed, adorned with luxurious bedding and pillows.\\n* The bedroom is equipped with a large flat-screen TV, providing entertainment and relaxation options.\\n* The bedroom also features a comfortable seating area, perfect for reading or enjoying a drink before bed.\\n* The bedroom is illuminated by soft, warm lighting, creating a cozy and inviting ambiance.\\n* The bedroom is also equipped with a personal safe, providing a secure place to store your valuables.\\n\\nBathroom:\\n\\n* The bathroom is a spacious and luxurious space that is designed to provide the ultimate in comfort and relaxation.\\n* The bathroom features a deep-soaking tub, perfect for unwinding after a long day of exploring Dubai.\\n* The bathroom also features a walk-in shower, equipped with a rainfall showerhead and a handheld showerhead.\\n* The bathroom is adorned with beautiful marble and granite finishes, adding to the luxurious ambiance.\\n* The bathroom is also equipped with double sinks, providing ample space for getting ready in the morning.\\n* The bathroom is illuminated by', 'role': 'assistant'}],\n",
       "      dtype=object)"
      ]
     },
     "execution_count": 46,
     "metadata": {},
     "output_type": "execute_result"
    }
   ],
   "source": [
    "t = item.conversation\n",
    "t"
   ]
  },
  {
   "cell_type": "code",
   "execution_count": null,
   "metadata": {},
   "outputs": [
    {
     "name": "stdout",
     "output_type": "stream",
     "text": [
      "how many floors does the burj al arab have\n"
     ]
    }
   ],
   "source": [
    "print(t[0]['content'])"
   ]
  },
  {
   "cell_type": "code",
   "execution_count": null,
   "metadata": {},
   "outputs": [
    {
     "data": {
      "text/plain": [
       "array([{'categories': {'harassment': False, 'harassment/threatening': False, 'hate': False, 'hate/threatening': False, 'self-harm': False, 'self-harm/instructions': False, 'self-harm/intent': False, 'sexual': False, 'sexual/minors': False, 'violence': False, 'violence/graphic': False}, 'category_scores': {'harassment': 6.587166e-06, 'harassment/threatening': 1.0686675e-06, 'hate': 3.4843295e-05, 'hate/threatening': 1.5625018e-06, 'self-harm': 4.3865374e-08, 'self-harm/instructions': 1.424871e-07, 'self-harm/intent': 3.9984065e-09, 'sexual': 4.001021e-06, 'sexual/minors': 9.46124e-08, 'violence': 4.016162e-05, 'violence/graphic': 2.5418642e-06}, 'flagged': False},\n",
       "       {'categories': {'harassment': False, 'harassment/threatening': False, 'hate': False, 'hate/threatening': False, 'self-harm': False, 'self-harm/instructions': False, 'self-harm/intent': False, 'sexual': False, 'sexual/minors': False, 'violence': False, 'violence/graphic': False}, 'category_scores': {'harassment': 8.359951e-07, 'harassment/threatening': 6.2792076e-08, 'hate': 2.4000903e-07, 'hate/threatening': 3.0021885e-09, 'self-harm': 1.5459794e-07, 'self-harm/instructions': 7.689732e-07, 'self-harm/intent': 5.123899e-07, 'sexual': 6.4560125e-05, 'sexual/minors': 1.9663212e-06, 'violence': 1.3412247e-05, 'violence/graphic': 3.7306785e-07}, 'flagged': False},\n",
       "       {'categories': {'harassment': False, 'harassment/threatening': False, 'hate': False, 'hate/threatening': False, 'self-harm': False, 'self-harm/instructions': False, 'self-harm/intent': False, 'sexual': False, 'sexual/minors': False, 'violence': False, 'violence/graphic': False}, 'category_scores': {'harassment': 7.5664884e-06, 'harassment/threatening': 3.9536732e-07, 'hate': 2.8686604e-06, 'hate/threatening': 4.388527e-09, 'self-harm': 9.0108925e-09, 'self-harm/instructions': 1.9230807e-08, 'self-harm/intent': 9.118879e-10, 'sexual': 4.5971005e-06, 'sexual/minors': 4.83575e-08, 'violence': 3.4179295e-05, 'violence/graphic': 2.3320833e-06}, 'flagged': False},\n",
       "       {'categories': {'harassment': False, 'harassment/threatening': False, 'hate': False, 'hate/threatening': False, 'self-harm': False, 'self-harm/instructions': False, 'self-harm/intent': False, 'sexual': False, 'sexual/minors': False, 'violence': False, 'violence/graphic': False}, 'category_scores': {'harassment': 2.8000684e-06, 'harassment/threatening': 2.7828442e-08, 'hate': 1.3466644e-06, 'hate/threatening': 6.041083e-09, 'self-harm': 1.08850395e-08, 'self-harm/instructions': 3.376992e-08, 'self-harm/intent': 4.0287906e-09, 'sexual': 0.00013263861, 'sexual/minors': 1.7253555e-07, 'violence': 0.000103147264, 'violence/graphic': 4.7872805e-07}, 'flagged': False},\n",
       "       {'categories': {'harassment': False, 'harassment/threatening': False, 'hate': False, 'hate/threatening': False, 'self-harm': False, 'self-harm/instructions': False, 'self-harm/intent': False, 'sexual': False, 'sexual/minors': False, 'violence': False, 'violence/graphic': False}, 'category_scores': {'harassment': 6.4429014e-06, 'harassment/threatening': 2.0500938e-06, 'hate': 2.2934266e-06, 'hate/threatening': 2.631272e-07, 'self-harm': 5.030013e-09, 'self-harm/instructions': 9.076288e-08, 'self-harm/intent': 5.516501e-09, 'sexual': 1.42753315e-05, 'sexual/minors': 1.6383672e-07, 'violence': 6.716612e-05, 'violence/graphic': 1.0229597e-06}, 'flagged': False},\n",
       "       {'categories': {'harassment': False, 'harassment/threatening': False, 'hate': False, 'hate/threatening': False, 'self-harm': False, 'self-harm/instructions': False, 'self-harm/intent': False, 'sexual': False, 'sexual/minors': False, 'violence': False, 'violence/graphic': False}, 'category_scores': {'harassment': 1.7064387e-07, 'harassment/threatening': 4.3674403e-10, 'hate': 4.2200574e-07, 'hate/threatening': 1.4962134e-10, 'self-harm': 7.918544e-09, 'self-harm/instructions': 8.132611e-08, 'self-harm/intent': 2.813363e-10, 'sexual': 1.0263926e-06, 'sexual/minors': 9.126418e-09, 'violence': 4.971877e-06, 'violence/graphic': 6.6902834e-07}, 'flagged': False},\n",
       "       {'categories': {'harassment': False, 'harassment/threatening': False, 'hate': False, 'hate/threatening': False, 'self-harm': False, 'self-harm/instructions': False, 'self-harm/intent': False, 'sexual': False, 'sexual/minors': False, 'violence': False, 'violence/graphic': False}, 'category_scores': {'harassment': 1.9995174e-05, 'harassment/threatening': 4.1206436e-06, 'hate': 3.3436743e-07, 'hate/threatening': 1.1889074e-07, 'self-harm': 2.4175658e-06, 'self-harm/instructions': 9.503979e-08, 'self-harm/intent': 5.8082314e-06, 'sexual': 1.2372993e-05, 'sexual/minors': 2.9907858e-07, 'violence': 4.264885e-05, 'violence/graphic': 1.4416479e-06}, 'flagged': False},\n",
       "       {'categories': {'harassment': False, 'harassment/threatening': False, 'hate': False, 'hate/threatening': False, 'self-harm': False, 'self-harm/instructions': False, 'self-harm/intent': False, 'sexual': False, 'sexual/minors': False, 'violence': False, 'violence/graphic': False}, 'category_scores': {'harassment': 1.678596e-06, 'harassment/threatening': 2.2538954e-08, 'hate': 1.2018697e-06, 'hate/threatening': 2.8569943e-08, 'self-harm': 9.507025e-08, 'self-harm/instructions': 3.5848682e-08, 'self-harm/intent': 1.4901833e-07, 'sexual': 4.0843483e-05, 'sexual/minors': 3.0551246e-07, 'violence': 2.6868875e-05, 'violence/graphic': 5.139916e-06}, 'flagged': False},\n",
       "       {'categories': {'harassment': False, 'harassment/threatening': False, 'hate': False, 'hate/threatening': False, 'self-harm': False, 'self-harm/instructions': False, 'self-harm/intent': False, 'sexual': False, 'sexual/minors': False, 'violence': False, 'violence/graphic': False}, 'category_scores': {'harassment': 2.0898328e-06, 'harassment/threatening': 1.4917829e-07, 'hate': 5.950161e-06, 'hate/threatening': 5.4117862e-08, 'self-harm': 1.0747371e-09, 'self-harm/instructions': 3.100658e-08, 'self-harm/intent': 1.1327809e-08, 'sexual': 2.039854e-05, 'sexual/minors': 7.2361973e-07, 'violence': 4.5196822e-07, 'violence/graphic': 3.3307305e-07}, 'flagged': False},\n",
       "       {'categories': {'harassment': False, 'harassment/threatening': False, 'hate': False, 'hate/threatening': False, 'self-harm': False, 'self-harm/instructions': False, 'self-harm/intent': False, 'sexual': False, 'sexual/minors': False, 'violence': False, 'violence/graphic': False}, 'category_scores': {'harassment': 3.6009456e-07, 'harassment/threatening': 1.8108485e-08, 'hate': 4.257591e-08, 'hate/threatening': 2.5166377e-08, 'self-harm': 4.1742304e-08, 'self-harm/instructions': 4.409377e-09, 'self-harm/intent': 2.611762e-09, 'sexual': 8.478604e-05, 'sexual/minors': 3.9383035e-08, 'violence': 2.7367543e-05, 'violence/graphic': 8.088066e-07}, 'flagged': False},\n",
       "       {'categories': {'harassment': False, 'harassment/threatening': False, 'hate': False, 'hate/threatening': False, 'self-harm': False, 'self-harm/instructions': False, 'self-harm/intent': False, 'sexual': False, 'sexual/minors': False, 'violence': False, 'violence/graphic': False}, 'category_scores': {'harassment': 6.909264e-05, 'harassment/threatening': 3.0872718e-05, 'hate': 2.2612474e-05, 'hate/threatening': 2.3422105e-07, 'self-harm': 1.5243121e-07, 'self-harm/instructions': 8.057266e-08, 'self-harm/intent': 2.255287e-07, 'sexual': 1.2949885e-05, 'sexual/minors': 1.3908073e-05, 'violence': 0.0002017584, 'violence/graphic': 2.5977092e-06}, 'flagged': False},\n",
       "       {'categories': {'harassment': False, 'harassment/threatening': False, 'hate': False, 'hate/threatening': False, 'self-harm': False, 'self-harm/instructions': False, 'self-harm/intent': False, 'sexual': False, 'sexual/minors': False, 'violence': False, 'violence/graphic': False}, 'category_scores': {'harassment': 1.9616555e-06, 'harassment/threatening': 2.4400774e-07, 'hate': 1.7112366e-06, 'hate/threatening': 1.8826814e-06, 'self-harm': 4.995395e-07, 'self-harm/instructions': 4.2235542e-06, 'self-harm/intent': 2.3727637e-08, 'sexual': 0.00028297675, 'sexual/minors': 8.6720576e-07, 'violence': 0.0003933837, 'violence/graphic': 1.8958518e-06}, 'flagged': False}],\n",
       "      dtype=object)"
      ]
     },
     "execution_count": 48,
     "metadata": {},
     "output_type": "execute_result"
    }
   ],
   "source": [
    "item['openai_moderation']"
   ]
  },
  {
   "cell_type": "markdown",
   "metadata": {},
   "source": [
    "Note: I'm not understanding what redacted means, since I'm not seeing any True value in moderation categories"
   ]
  },
  {
   "cell_type": "code",
   "execution_count": null,
   "metadata": {},
   "outputs": [],
   "source": [
    "from itertools import chain\n",
    "\n",
    "for t in chain.from_iterable(redacted_df.openai_moderation):\n",
    "    if any(t['categories'].values()):\n",
    "        break\n"
   ]
  },
  {
   "cell_type": "code",
   "execution_count": null,
   "metadata": {},
   "outputs": [
    {
     "data": {
      "text/plain": [
       "{'categories': {'harassment': False,\n",
       "  'harassment/threatening': False,\n",
       "  'hate': False,\n",
       "  'hate/threatening': False,\n",
       "  'self-harm': False,\n",
       "  'self-harm/instructions': False,\n",
       "  'self-harm/intent': False,\n",
       "  'sexual': True,\n",
       "  'sexual/minors': False,\n",
       "  'violence': False,\n",
       "  'violence/graphic': False},\n",
       " 'category_scores': {'harassment': 0.0013585809,\n",
       "  'harassment/threatening': 4.9479375e-05,\n",
       "  'hate': 6.851206e-06,\n",
       "  'hate/threatening': 3.1813063e-06,\n",
       "  'self-harm': 0.00013223867,\n",
       "  'self-harm/instructions': 2.55278e-05,\n",
       "  'self-harm/intent': 8.220527e-05,\n",
       "  'sexual': 0.8748679,\n",
       "  'sexual/minors': 2.4269992e-05,\n",
       "  'violence': 0.028668432,\n",
       "  'violence/graphic': 1.6416767e-06},\n",
       " 'flagged': True}"
      ]
     },
     "execution_count": 53,
     "metadata": {},
     "output_type": "execute_result"
    }
   ],
   "source": [
    "t"
   ]
  },
  {
   "cell_type": "code",
   "execution_count": null,
   "metadata": {},
   "outputs": [],
   "source": []
  },
  {
   "cell_type": "markdown",
   "metadata": {},
   "source": [
    "# Scrap"
   ]
  },
  {
   "cell_type": "markdown",
   "metadata": {},
   "source": [
    "## Trying out datasets and huggingface_hub"
   ]
  },
  {
   "cell_type": "code",
   "execution_count": null,
   "metadata": {},
   "outputs": [],
   "source": [
    "from datasets import load_dataset\n",
    "from huggingface_hub import list_datasets"
   ]
  },
  {
   "cell_type": "code",
   "execution_count": null,
   "metadata": {},
   "outputs": [],
   "source": [
    "results = list_datasets(search='prompt')"
   ]
  },
  {
   "cell_type": "code",
   "execution_count": null,
   "metadata": {},
   "outputs": [
    {
     "data": {
      "text/plain": [
       "DatasetInfo(id='teven/prompted_examples', author='teven', sha='e7bc1a91071997b635c35156c27db40e0968428a', created_at=datetime.datetime(2022, 3, 2, 23, 29, 22, tzinfo=datetime.timezone.utc), last_modified=datetime.datetime(2021, 12, 6, 15, 54, 19, tzinfo=datetime.timezone.utc), private=False, gated=False, disabled=False, downloads=52, likes=1, paperswithcode_id=None, tags=['croissant', 'region:us'], card_data=None, siblings=None)"
      ]
     },
     "execution_count": 4,
     "metadata": {},
     "output_type": "execute_result"
    }
   ],
   "source": [
    "next(results)"
   ]
  },
  {
   "cell_type": "code",
   "execution_count": null,
   "metadata": {},
   "outputs": [],
   "source": [
    "data = load_dataset('lmsys/lmsys-chat-1m')"
   ]
  },
  {
   "cell_type": "code",
   "execution_count": null,
   "metadata": {},
   "outputs": [
    {
     "data": {
      "text/plain": [
       "datasets.dataset_dict.DatasetDict"
      ]
     },
     "execution_count": 11,
     "metadata": {},
     "output_type": "execute_result"
    }
   ],
   "source": [
    "type(data)"
   ]
  },
  {
   "cell_type": "code",
   "execution_count": null,
   "metadata": {},
   "outputs": [
    {
     "data": {
      "text/plain": [
       "['train']"
      ]
     },
     "execution_count": 12,
     "metadata": {},
     "output_type": "execute_result"
    }
   ],
   "source": [
    "list(data)"
   ]
  },
  {
   "cell_type": "code",
   "execution_count": null,
   "metadata": {},
   "outputs": [
    {
     "data": {
      "text/plain": [
       "Dataset({\n",
       "    features: ['conversation_id', 'model', 'conversation', 'turn', 'language', 'openai_moderation', 'redacted'],\n",
       "    num_rows: 1000000\n",
       "})"
      ]
     },
     "execution_count": 13,
     "metadata": {},
     "output_type": "execute_result"
    }
   ],
   "source": [
    "data['train']"
   ]
  },
  {
   "cell_type": "code",
   "execution_count": null,
   "metadata": {},
   "outputs": [
    {
     "data": {
      "text/plain": [
       "['__class__',\n",
       " '__class_getitem__',\n",
       " '__contains__',\n",
       " '__delattr__',\n",
       " '__delitem__',\n",
       " '__dict__',\n",
       " '__dir__',\n",
       " '__doc__',\n",
       " '__enter__',\n",
       " '__eq__',\n",
       " '__exit__',\n",
       " '__format__',\n",
       " '__ge__',\n",
       " '__getattribute__',\n",
       " '__getitem__',\n",
       " '__gt__',\n",
       " '__hash__',\n",
       " '__init__',\n",
       " '__init_subclass__',\n",
       " '__ior__',\n",
       " '__iter__',\n",
       " '__le__',\n",
       " '__len__',\n",
       " '__lt__',\n",
       " '__module__',\n",
       " '__ne__',\n",
       " '__new__',\n",
       " '__or__',\n",
       " '__reduce__',\n",
       " '__reduce_ex__',\n",
       " '__repr__',\n",
       " '__reversed__',\n",
       " '__ror__',\n",
       " '__setattr__',\n",
       " '__setitem__',\n",
       " '__sizeof__',\n",
       " '__str__',\n",
       " '__subclasshook__',\n",
       " '__weakref__',\n",
       " '_check_values_features',\n",
       " '_check_values_type',\n",
       " 'align_labels_with_mapping',\n",
       " 'cache_files',\n",
       " 'cast',\n",
       " 'cast_column',\n",
       " 'class_encode_column',\n",
       " 'cleanup_cache_files',\n",
       " 'clear',\n",
       " 'column_names',\n",
       " 'copy',\n",
       " 'data',\n",
       " 'filter',\n",
       " 'flatten',\n",
       " 'flatten_indices',\n",
       " 'formatted_as',\n",
       " 'from_csv',\n",
       " 'from_json',\n",
       " 'from_parquet',\n",
       " 'from_text',\n",
       " 'fromkeys',\n",
       " 'get',\n",
       " 'items',\n",
       " 'keys',\n",
       " 'load_from_disk',\n",
       " 'map',\n",
       " 'num_columns',\n",
       " 'num_rows',\n",
       " 'pop',\n",
       " 'popitem',\n",
       " 'prepare_for_task',\n",
       " 'push_to_hub',\n",
       " 'remove_columns',\n",
       " 'rename_column',\n",
       " 'rename_columns',\n",
       " 'reset_format',\n",
       " 'save_to_disk',\n",
       " 'select_columns',\n",
       " 'set_format',\n",
       " 'set_transform',\n",
       " 'setdefault',\n",
       " 'shape',\n",
       " 'shuffle',\n",
       " 'sort',\n",
       " 'unique',\n",
       " 'update',\n",
       " 'values',\n",
       " 'with_format',\n",
       " 'with_transform']"
      ]
     },
     "execution_count": 14,
     "metadata": {},
     "output_type": "execute_result"
    }
   ],
   "source": [
    "dir(data)"
   ]
  },
  {
   "cell_type": "code",
   "execution_count": null,
   "metadata": {},
   "outputs": [],
   "source": []
  }
 ],
 "metadata": {
  "kernelspec": {
   "display_name": "p10",
   "language": "python",
   "name": "python3"
  },
  "language_info": {
   "codemirror_mode": {
    "name": "ipython",
    "version": 3
   },
   "file_extension": ".py",
   "mimetype": "text/x-python",
   "name": "python",
   "nbconvert_exporter": "python",
   "pygments_lexer": "ipython3",
   "version": "3.10.13"
  }
 },
 "nbformat": 4,
 "nbformat_minor": 2
}
